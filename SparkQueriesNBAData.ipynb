{
 "cells": [
  {
   "cell_type": "code",
   "execution_count": 0,
   "metadata": {
    "application/vnd.databricks.v1+cell": {
     "cellMetadata": {
      "byteLimit": 2048000,
      "rowLimit": 10000
     },
     "inputWidgets": {},
     "nuid": "9a8062d7-e317-471c-a1d9-d6906d567126",
     "showTitle": false,
     "title": ""
    }
   },
   "outputs": [
    {
     "output_type": "stream",
     "name": "stdout",
     "output_type": "stream",
     "text": [
      "+--------+\n|count(1)|\n+--------+\n| 4966816|\n+--------+\n\n"
     ]
    }
   ],
   "source": [
    "from pyspark import SparkContext\n",
    "sc = SparkContext . getOrCreate ()\n",
    "\n",
    "sqlDF = spark .sql(\" SELECT count(*) FROM shotData \")\n",
    "sqlDF . show ()"
   ]
  },
  {
   "cell_type": "code",
   "execution_count": 0,
   "metadata": {
    "application/vnd.databricks.v1+cell": {
     "cellMetadata": {
      "byteLimit": 2048000,
      "implicitDf": true,
      "rowLimit": 10000
     },
     "inputWidgets": {},
     "nuid": "bb6642ac-765a-4693-8d0a-b0d8bf757c15",
     "showTitle": false,
     "title": ""
    }
   },
   "outputs": [
    {
     "output_type": "display_data",
     "data": {
      "text/html": [
       "<style scoped>\n",
       "  .table-result-container {\n",
       "    max-height: 300px;\n",
       "    overflow: auto;\n",
       "  }\n",
       "  table, th, td {\n",
       "    border: 1px solid black;\n",
       "    border-collapse: collapse;\n",
       "  }\n",
       "  th, td {\n",
       "    padding: 5px;\n",
       "  }\n",
       "  th {\n",
       "    text-align: left;\n",
       "  }\n",
       "</style><div class='table-result-container'><table class='table-result'><thead style='background-color: white'><tr><th>PLAYER_NAME</th><th>BANK SHOT</th><th>DUNK SHOT</th><th>FADEAWAY SHOT</th><th>HOOK SHOT</th><th>JUMP SHOT</th><th>LAYUP SHOT</th><th>NO SHOT</th><th>TIP SHOT</th></tr></thead><tbody><tr><td>James Harden</td><td>0.5112</td><td>2.2749</td><td>0.262</td><td>0.2748</td><td>68.7137</td><td>27.8037</td><td>0.032</td><td>0.1278</td></tr><tr><td>Kyle Korver</td><td>0.6361</td><td>0.2156</td><td>0.1401</td><td>0.2048</td><td>92.9711</td><td>5.6059</td><td>null</td><td>0.1725</td></tr><tr><td>Jamal Crawford</td><td>1.0878</td><td>0.6563</td><td>0.0729</td><td>0.3525</td><td>84.4728</td><td>12.9383</td><td>null</td><td>0.237</td></tr><tr><td>Damian Lillard</td><td>0.6796</td><td>1.5043</td><td>0.4276</td><td>0.252</td><td>69.1127</td><td>27.9627</td><td>0.0229</td><td>0.0382</td></tr><tr><td>Jason Terry</td><td>0.6352</td><td>0.7</td><td>0.013</td><td>0.2333</td><td>84.4309</td><td>13.7866</td><td>null</td><td>0.0519</td></tr><tr><td>Ray Allen</td><td>0.6789</td><td>2.1563</td><td>0.0489</td><td>0.1955</td><td>79.6915</td><td>16.7726</td><td>null</td><td>0.2716</td></tr><tr><td>Vince Carter</td><td>0.9841</td><td>5.1983</td><td>0.5749</td><td>1.3446</td><td>72.4544</td><td>16.9882</td><td>0.0049</td><td>1.6808</td></tr><tr><td>LeBron James</td><td>1.543</td><td>7.7424</td><td>1.9238</td><td>1.115</td><td>57.8681</td><td>28.9164</td><td>null</td><td>0.5536</td></tr><tr><td>Stephen Curry</td><td>1.791</td><td>0.2135</td><td>0.2204</td><td>0.2893</td><td>77.9913</td><td>19.4462</td><td>null</td><td>0.0482</td></tr><tr><td>Kobe Bryant</td><td>1.6452</td><td>4.279</td><td>1.5345</td><td>0.626</td><td>73.5896</td><td>17.3906</td><td>null</td><td>0.584</td></tr></tbody></table></div>"
      ]
     },
     "metadata": {
      "application/vnd.databricks.v1+output": {
       "addedWidgets": {},
       "aggData": [],
       "aggError": "",
       "aggOverflow": false,
       "aggSchema": [],
       "aggSeriesLimitReached": false,
       "aggType": "",
       "arguments": {},
       "columnCustomDisplayInfos": {},
       "data": [
        [
         "James Harden",
         0.5112,
         2.2749,
         0.262,
         0.2748,
         68.7137,
         27.8037,
         0.032,
         0.1278
        ],
        [
         "Kyle Korver",
         0.6361,
         0.2156,
         0.1401,
         0.2048,
         92.9711,
         5.6059,
         null,
         0.1725
        ],
        [
         "Jamal Crawford",
         1.0878,
         0.6563,
         0.0729,
         0.3525,
         84.4728,
         12.9383,
         null,
         0.237
        ],
        [
         "Damian Lillard",
         0.6796,
         1.5043,
         0.4276,
         0.252,
         69.1127,
         27.9627,
         0.0229,
         0.0382
        ],
        [
         "Jason Terry",
         0.6352,
         0.7,
         0.013,
         0.2333,
         84.4309,
         13.7866,
         null,
         0.0519
        ],
        [
         "Ray Allen",
         0.6789,
         2.1563,
         0.0489,
         0.1955,
         79.6915,
         16.7726,
         null,
         0.2716
        ],
        [
         "Vince Carter",
         0.9841,
         5.1983,
         0.5749,
         1.3446,
         72.4544,
         16.9882,
         0.0049,
         1.6808
        ],
        [
         "LeBron James",
         1.543,
         7.7424,
         1.9238,
         1.115,
         57.8681,
         28.9164,
         null,
         0.5536
        ],
        [
         "Stephen Curry",
         1.791,
         0.2135,
         0.2204,
         0.2893,
         77.9913,
         19.4462,
         null,
         0.0482
        ],
        [
         "Kobe Bryant",
         1.6452,
         4.279,
         1.5345,
         0.626,
         73.5896,
         17.3906,
         null,
         0.584
        ]
       ],
       "datasetInfos": [],
       "dbfsResultPath": null,
       "isJsonSchema": true,
       "metadata": {
        "dataframeName": "_sqldf",
        "executionCount": 3
       },
       "overflow": false,
       "plotOptions": {
        "customPlotOptions": {},
        "displayType": "table",
        "pivotAggregation": null,
        "pivotColumns": null,
        "xColumns": null,
        "yColumns": null
       },
       "removedWidgets": [],
       "schema": [
        {
         "metadata": "{}",
         "name": "PLAYER_NAME",
         "type": "\"string\""
        },
        {
         "metadata": "{}",
         "name": "BANK SHOT",
         "type": "\"double\""
        },
        {
         "metadata": "{}",
         "name": "DUNK SHOT",
         "type": "\"double\""
        },
        {
         "metadata": "{}",
         "name": "FADEAWAY SHOT",
         "type": "\"double\""
        },
        {
         "metadata": "{}",
         "name": "HOOK SHOT",
         "type": "\"double\""
        },
        {
         "metadata": "{}",
         "name": "JUMP SHOT",
         "type": "\"double\""
        },
        {
         "metadata": "{}",
         "name": "LAYUP SHOT",
         "type": "\"double\""
        },
        {
         "metadata": "{}",
         "name": "NO SHOT",
         "type": "\"double\""
        },
        {
         "metadata": "{}",
         "name": "TIP SHOT",
         "type": "\"double\""
        }
       ],
       "type": "table"
      }
     },
     "output_type": "display_data"
    }
   ],
   "source": [
    "%sql\n",
    "-- Q3 - Which are the top 10 players who attempted the most 3 point shots? What percentage of the time do each of those players prefer Layup Shots, Jump Shots, Slam Dunk Shots, etc.?\n",
    "SELECT *\n",
    "FROM (SELECT ShotDist.PLAYER_NAME,\n",
    "\t\t\t ShotDist.ACTION_TYPE,\n",
    "\t\t\t ROUND(ShotDist.NUM_SHOTS*100/TotalShots.TOTAL_SHOTS, 4) AS PERCENT_OF_SHOTS\n",
    "\t  FROM (SELECT PLAYER_NAME,\n",
    "\t\t\t\t   COUNT(*) AS TOTAL_SHOTS\n",
    "\t\t\tFROM shotdata\n",
    "\t\t\tGROUP BY PLAYER_NAME) AS TotalShots INNER JOIN\n",
    "\t\t   (SELECT shotdata.PLAYER_NAME,\n",
    "\t\t\t\t   CASE WHEN UPPER(RIGHT(shotdata.ACTION_TYPE, CHARINDEX(' ', REVERSE(shotdata.ACTION_TYPE), CHARINDEX(' ', REVERSE(shotdata.ACTION_TYPE)) + 1) - 1)) = ''\n",
    "\t\t\t\t\t\tTHEN UPPER(shotdata.ACTION_TYPE)\n",
    "\t\t\t\t\t\tELSE UPPER(RIGHT(shotdata.ACTION_TYPE, CHARINDEX(' ', REVERSE(shotdata.ACTION_TYPE), CHARINDEX(' ', REVERSE(shotdata.ACTION_TYPE)) + 1) - 1))\n",
    "\t\t\t\t   END AS ACTION_TYPE,\n",
    "\t\t\t\t   COUNT(*) AS NUM_SHOTS\n",
    "\t\t\tFROM (SELECT PLAYER_NAME\n",
    "\t\t\t\t  FROM shotdata\n",
    "\t\t\t\t  WHERE SHOT_TYPE = '3PT Field Goal'\n",
    "\t\t\t\t  GROUP BY PLAYER_NAME\n",
    "\t\t\t\t  ORDER BY COUNT(*) DESC\n",
    "\t\t\t\t  LIMIT 10) AS 3ptPlayers INNER JOIN\n",
    "\t\t\t\t shotdata ON 3ptPlayers.PLAYER_NAME = shotdata.PLAYER_NAME\n",
    "\t\t\tGROUP BY shotdata.PLAYER_NAME, CASE WHEN UPPER(RIGHT(shotdata.ACTION_TYPE, CHARINDEX(' ', REVERSE(shotdata.ACTION_TYPE), CHARINDEX(' ', REVERSE(shotdata.ACTION_TYPE)) + 1) - 1)) = ''\n",
    "\t\t\t\t\t\t\t\t\t\t\t\tTHEN UPPER(shotdata.ACTION_TYPE)\n",
    "\t\t\t\t\t\t\t\t\t\t\t\tELSE UPPER(RIGHT(shotdata.ACTION_TYPE, CHARINDEX(' ', REVERSE(shotdata.ACTION_TYPE), CHARINDEX(' ', REVERSE(shotdata.ACTION_TYPE)) + 1) - 1))\n",
    "\t\t\t\t\t\t\t\t\t\t   END\n",
    "\t\t\tORDER BY shotdata.PLAYER_NAME, CASE WHEN UPPER(RIGHT(shotdata.ACTION_TYPE, CHARINDEX(' ', REVERSE(shotdata.ACTION_TYPE), CHARINDEX(' ', REVERSE(shotdata.ACTION_TYPE)) + 1) - 1)) = ''\n",
    "\t\t\t\t\t\t\t\t\t\t\t\tTHEN UPPER(shotdata.ACTION_TYPE)\n",
    "\t\t\t\t\t\t\t\t\t\t\t\tELSE UPPER(RIGHT(shotdata.ACTION_TYPE, CHARINDEX(' ', REVERSE(shotdata.ACTION_TYPE), CHARINDEX(' ', REVERSE(shotdata.ACTION_TYPE)) + 1) - 1))\n",
    "\t\t\t\t\t\t\t\t\t\t   END) AS ShotDist ON TotalShots.PLAYER_NAME = ShotDist.PLAYER_NAME \n",
    "\t  ORDER BY ShotDist.PLAYER_NAME, ShotDist.ACTION_TYPE)\n",
    "PIVOT (MAX(PERCENT_OF_SHOTS)\n",
    "\t   FOR ACTION_TYPE IN ('BANK SHOT', 'DUNK SHOT', 'FADEAWAY SHOT', 'HOOK SHOT', 'JUMP SHOT', 'LAYUP SHOT', 'NO SHOT', 'TIP SHOT'))"
   ]
  },
  {
   "cell_type": "code",
   "execution_count": 0,
   "metadata": {
    "application/vnd.databricks.v1+cell": {
     "cellMetadata": {
      "byteLimit": 2048000,
      "implicitDf": true,
      "rowLimit": 10000
     },
     "inputWidgets": {},
     "nuid": "bba1414c-5ac8-41fa-8904-a57e79cefbe3",
     "showTitle": false,
     "title": ""
    }
   },
   "outputs": [
    {
     "output_type": "display_data",
     "data": {
      "text/html": [
       "<style scoped>\n",
       "  .table-result-container {\n",
       "    max-height: 300px;\n",
       "    overflow: auto;\n",
       "  }\n",
       "  table, th, td {\n",
       "    border: 1px solid black;\n",
       "    border-collapse: collapse;\n",
       "  }\n",
       "  th, td {\n",
       "    padding: 5px;\n",
       "  }\n",
       "  th {\n",
       "    text-align: left;\n",
       "  }\n",
       "</style><div class='table-result-container'><table class='table-result'><thead style='background-color: white'><tr><th>PLAYER_NAME</th><th>MOST_ATTEMPTED_REGION</th><th>MOST_MADE_REGION</th></tr></thead><tbody><tr><td>A.C. Green</td><td>Center(C), Restricted Area</td><td>Center(C), Restricted Area</td></tr><tr><td>A.J. Guyton</td><td>Right Side Center(RC), Above the Break 3</td><td>Center(C), Restricted Area</td></tr><tr><td>AJ Price</td><td>Right Side Center(RC), Above the Break 3</td><td>Center(C), Restricted Area</td></tr><tr><td>Aaron Brooks</td><td>Center(C), Restricted Area</td><td>Center(C), Restricted Area</td></tr><tr><td>Aaron Gordon</td><td>Center(C), Restricted Area</td><td>Center(C), Restricted Area</td></tr><tr><td>Aaron Gray</td><td>Center(C), Restricted Area</td><td>Center(C), Restricted Area</td></tr><tr><td>Aaron Holiday</td><td>Center(C), Restricted Area</td><td>Center(C), Restricted Area</td></tr><tr><td>Aaron McKie</td><td>Center(C), Restricted Area</td><td>Center(C), Restricted Area</td></tr><tr><td>Aaron Nesmith</td><td>Center(C), Restricted Area</td><td>Center(C), Restricted Area</td></tr><tr><td>Aaron Wiggins</td><td>Center(C), Restricted Area</td><td>Center(C), Restricted Area</td></tr><tr><td>Aaron Williams</td><td>Center(C), Restricted Area</td><td>Center(C), Restricted Area</td></tr><tr><td>Abdel Nader</td><td>Center(C), Restricted Area</td><td>Center(C), Restricted Area</td></tr><tr><td>Acie Earl</td><td>Center(C), Restricted Area</td><td>Center(C), In The Paint (Non-RA)</td></tr><tr><td>Acie Law</td><td>Center(C), Restricted Area</td><td>Center(C), Restricted Area</td></tr><tr><td>Adam Keefe</td><td>Center(C), Restricted Area</td><td>Center(C), Restricted Area</td></tr><tr><td>Adam Morrison</td><td>Right Side(R), Mid-Range</td><td>Center(C), Restricted Area</td></tr><tr><td>Admiral Schofield</td><td>Center(C), Restricted Area</td><td>Center(C), Restricted Area</td></tr><tr><td>Adonal Foyle</td><td>Center(C), Restricted Area</td><td>Center(C), Restricted Area</td></tr><tr><td>Adreian Payne</td><td>Center(C), Restricted Area</td><td>Center(C), Restricted Area</td></tr><tr><td>Adrian Caldwell</td><td>Center(C), Restricted Area</td><td>Center(C), Restricted Area</td></tr><tr><td>Adrian Griffin</td><td>Center(C), Restricted Area</td><td>Center(C), Restricted Area</td></tr><tr><td>Al Harrington</td><td>Center(C), Restricted Area</td><td>Center(C), Restricted Area</td></tr><tr><td>Al Horford</td><td>Center(C), Restricted Area</td><td>Center(C), Restricted Area</td></tr><tr><td>Al Jefferson</td><td>Center(C), Restricted Area</td><td>Center(C), Restricted Area</td></tr><tr><td>Al Thornton</td><td>Center(C), Restricted Area</td><td>Center(C), Restricted Area</td></tr><tr><td>Al-Farouq Aminu</td><td>Center(C), Restricted Area</td><td>Center(C), Restricted Area</td></tr><tr><td>Alan Anderson</td><td>Center(C), Restricted Area</td><td>Center(C), Restricted Area</td></tr><tr><td>Alan Henderson</td><td>Center(C), Restricted Area</td><td>Center(C), Restricted Area</td></tr><tr><td>Alan Williams</td><td>Center(C), Restricted Area</td><td>Center(C), Restricted Area</td></tr><tr><td>Alando Tucker</td><td>Center(C), Restricted Area</td><td>Center(C), Restricted Area</td></tr><tr><td>Alec Burks</td><td>Center(C), Restricted Area</td><td>Center(C), Restricted Area</td></tr><tr><td>Aleksej Pokusevski</td><td>Center(C), Restricted Area</td><td>Center(C), Restricted Area</td></tr><tr><td>Alex Abrines</td><td>Right Side Center(RC), Above the Break 3</td><td>Center(C), Restricted Area</td></tr><tr><td>Alex Caruso</td><td>Center(C), Restricted Area</td><td>Center(C), Restricted Area</td></tr><tr><td>Alex Len</td><td>Center(C), Restricted Area</td><td>Center(C), Restricted Area</td></tr><tr><td>Alex Poythress</td><td>Center(C), Restricted Area</td><td>Center(C), Restricted Area</td></tr><tr><td>Alexander Johnson</td><td>Center(C), Restricted Area</td><td>Center(C), Restricted Area</td></tr><tr><td>Alexey Shved</td><td>Center(C), Restricted Area</td><td>Center(C), Restricted Area</td></tr><tr><td>Alexis Ajinca</td><td>Center(C), Restricted Area</td><td>Center(C), Restricted Area</td></tr><tr><td>Alfonzo McKinnie</td><td>Center(C), Restricted Area</td><td>Center(C), Restricted Area</td></tr><tr><td>Alize Johnson</td><td>Center(C), Restricted Area</td><td>Center(C), Restricted Area</td></tr><tr><td>Allan Houston</td><td>Left Side(L), Mid-Range</td><td>Left Side(L), In The Paint (Non-RA)</td></tr><tr><td>Allan Ray</td><td>Center(C), Restricted Area</td><td>Left Side(L), Left Corner 3</td></tr><tr><td>Allan Ray</td><td>Center(C), Restricted Area</td><td>Left Side Center(LC), Above the Break 3</td></tr><tr><td>Allen Crabbe</td><td>Left Side Center(LC), Above the Break 3</td><td>Center(C), Restricted Area</td></tr><tr><td>Allen Iverson</td><td>Center(C), Restricted Area</td><td>Center(C), Restricted Area</td></tr><tr><td>Allonzo Trier</td><td>Center(C), Restricted Area</td><td>Center(C), Restricted Area</td></tr><tr><td>Alonzo Gee</td><td>Center(C), Restricted Area</td><td>Center(C), Restricted Area</td></tr><tr><td>Alonzo Mourning</td><td>Center(C), Restricted Area</td><td>Center(C), Restricted Area</td></tr><tr><td>Alperen Sengun</td><td>Center(C), Restricted Area</td><td>Center(C), Restricted Area</td></tr><tr><td>Alton Ford</td><td>Center(C), Restricted Area</td><td>Center(C), Restricted Area</td></tr><tr><td>Alton Lister</td><td>Center(C), Restricted Area</td><td>Center(C), Restricted Area</td></tr><tr><td>Alvin Williams</td><td>Center(C), Restricted Area</td><td>Center(C), Restricted Area</td></tr><tr><td>Amal McCaskill</td><td>Center(C), Restricted Area</td><td>Center(C), Restricted Area</td></tr><tr><td>Amar'e Stoudemire</td><td>Center(C), Restricted Area</td><td>Center(C), Restricted Area</td></tr><tr><td>Amir Coffey</td><td>Center(C), Restricted Area</td><td>Center(C), Restricted Area</td></tr><tr><td>Amir Johnson</td><td>Center(C), Restricted Area</td><td>Center(C), Restricted Area</td></tr><tr><td>Anderson Varejao</td><td>Center(C), Restricted Area</td><td>Center(C), Restricted Area</td></tr><tr><td>Andrae Patterson</td><td>Center(C), Restricted Area</td><td>Center(C), Restricted Area</td></tr><tr><td>Andray Blatche</td><td>Center(C), Restricted Area</td><td>Center(C), Restricted Area</td></tr><tr><td>Andre Barrett</td><td>Center(C), Restricted Area</td><td>Center(C), Restricted Area</td></tr><tr><td>Andre Brown</td><td>Center(C), Restricted Area</td><td>Center(C), Restricted Area</td></tr><tr><td>Andre Drummond</td><td>Center(C), Restricted Area</td><td>Center(C), Restricted Area</td></tr><tr><td>Andre Iguodala</td><td>Center(C), Restricted Area</td><td>Center(C), Restricted Area</td></tr><tr><td>Andre Miller</td><td>Center(C), Restricted Area</td><td>Center(C), Restricted Area</td></tr><tr><td>Andre Owens</td><td>Center(C), Restricted Area</td><td>Center(C), Restricted Area</td></tr><tr><td>Andre Roberson</td><td>Center(C), Restricted Area</td><td>Center(C), Restricted Area</td></tr><tr><td>Andrea Bargnani</td><td>Center(C), Restricted Area</td><td>Center(C), Restricted Area</td></tr><tr><td>Andrei Kirilenko</td><td>Center(C), Restricted Area</td><td>Center(C), Restricted Area</td></tr><tr><td>Andres Nocioni</td><td>Center(C), Restricted Area</td><td>Center(C), Restricted Area</td></tr><tr><td>Andrew Bogut</td><td>Center(C), Restricted Area</td><td>Center(C), Restricted Area</td></tr><tr><td>Andrew Bynum</td><td>Center(C), Restricted Area</td><td>Center(C), Restricted Area</td></tr><tr><td>Andrew DeClercq</td><td>Center(C), Restricted Area</td><td>Center(C), Restricted Area</td></tr><tr><td>Andrew Goudelock</td><td>Center(C), In The Paint (Non-RA)</td><td>Center(C), In The Paint (Non-RA)</td></tr><tr><td>Andrew Harrison</td><td>Center(C), Restricted Area</td><td>Center(C), Restricted Area</td></tr><tr><td>Andrew Lang</td><td>Center(C), Restricted Area</td><td>Center(C), Restricted Area</td></tr><tr><td>Andrew Nicholson</td><td>Center(C), Restricted Area</td><td>Center(C), Restricted Area</td></tr><tr><td>Andrew Wiggins</td><td>Center(C), Restricted Area</td><td>Center(C), Restricted Area</td></tr><tr><td>Andris Biedrins</td><td>Center(C), Restricted Area</td><td>Center(C), Restricted Area</td></tr><tr><td>Anfernee Hardaway</td><td>Center(C), Restricted Area</td><td>Center(C), Restricted Area</td></tr><tr><td>Anfernee Simons</td><td>Left Side Center(LC), Above the Break 3</td><td>Center(C), Restricted Area</td></tr><tr><td>Ansu Sesay</td><td>Center(C), Restricted Area</td><td>Center(C), Restricted Area</td></tr><tr><td>Antawn Jamison</td><td>Center(C), Restricted Area</td><td>Center(C), Restricted Area</td></tr><tr><td>Ante Zizic</td><td>Center(C), Restricted Area</td><td>Center(C), Restricted Area</td></tr><tr><td>Anthony Avent</td><td>Center(C), Restricted Area</td><td>Center(C), Restricted Area</td></tr><tr><td>Anthony Bennett</td><td>Center(C), Restricted Area</td><td>Center(C), Restricted Area</td></tr><tr><td>Anthony Brown</td><td>Left Side Center(LC), Above the Break 3</td><td>Left Side Center(LC), Above the Break 3</td></tr><tr><td>Anthony Carter</td><td>Center(C), Restricted Area</td><td>Center(C), Restricted Area</td></tr><tr><td>Anthony Davis</td><td>Center(C), Restricted Area</td><td>Center(C), Restricted Area</td></tr><tr><td>Anthony Edwards</td><td>Center(C), Restricted Area</td><td>Center(C), Restricted Area</td></tr><tr><td>Anthony Gill</td><td>Center(C), Restricted Area</td><td>Center(C), Restricted Area</td></tr><tr><td>Anthony Goldwire</td><td>Center(C), Restricted Area</td><td>Left Side(L), Left Corner 3</td></tr><tr><td>Anthony Johnson</td><td>Center(C), Restricted Area</td><td>Center(C), Restricted Area</td></tr><tr><td>Anthony Lamb</td><td>Center(C), Restricted Area</td><td>Center(C), Restricted Area</td></tr><tr><td>Anthony Mason</td><td>Center(C), Restricted Area</td><td>Center(C), Restricted Area</td></tr><tr><td>Anthony Miller</td><td>Center(C), Restricted Area</td><td>Center(C), Restricted Area</td></tr><tr><td>Anthony Morrow</td><td>Right Side Center(RC), Above the Break 3</td><td>Center(C), Restricted Area</td></tr><tr><td>Anthony Parker</td><td>Center(C), Restricted Area</td><td>Center(C), Restricted Area</td></tr><tr><td>Anthony Peeler</td><td>Right Side(R), Mid-Range</td><td>Center(C), Restricted Area</td></tr><tr><td>Anthony Randolph</td><td>Center(C), Restricted Area</td><td>Center(C), Restricted Area</td></tr><tr><td>Anthony Roberson</td><td>Left Side Center(LC), Above the Break 3</td><td>Left Side Center(LC), Above the Break 3</td></tr><tr><td>Anthony Tolliver</td><td>Right Side Center(RC), Above the Break 3</td><td>Center(C), Restricted Area</td></tr><tr><td>Antoine Carr</td><td>Center(C), Restricted Area</td><td>Center(C), Restricted Area</td></tr><tr><td>Antoine Walker</td><td>Center(C), Restricted Area</td><td>Center(C), Restricted Area</td></tr><tr><td>Antoine Wright</td><td>Center(C), Restricted Area</td><td>Center(C), Restricted Area</td></tr><tr><td>Antonio Blakeney</td><td>Center(C), In The Paint (Non-RA)</td><td>Center(C), Restricted Area</td></tr><tr><td>Antonio Burks</td><td>Center(C), Restricted Area</td><td>Center(C), Restricted Area</td></tr><tr><td>Antonio Daniels</td><td>Center(C), Restricted Area</td><td>Center(C), Restricted Area</td></tr><tr><td>Antonio Davis</td><td>Center(C), Restricted Area</td><td>Center(C), Restricted Area</td></tr><tr><td>Antonio Harvey</td><td>Center(C), Restricted Area</td><td>Center(C), Restricted Area</td></tr><tr><td>Antonio Lang</td><td>Center(C), Restricted Area</td><td>Center(C), Restricted Area</td></tr><tr><td>Antonio McDyess</td><td>Center(C), Restricted Area</td><td>Center(C), Restricted Area</td></tr><tr><td>Antonis Fotsis</td><td>Center(C), Restricted Area</td><td>Center(C), Restricted Area</td></tr><tr><td>Anzejs Pasecniks</td><td>Center(C), Restricted Area</td><td>Center(C), Restricted Area</td></tr><tr><td>Archie Goodwin</td><td>Center(C), Restricted Area</td><td>Center(C), Restricted Area</td></tr><tr><td>Armen Gilliam</td><td>Center(C), Restricted Area</td><td>Center(C), Restricted Area</td></tr><tr><td>Armon Johnson</td><td>Center(C), Restricted Area</td><td>Center(C), In The Paint (Non-RA)</td></tr><tr><td>Armoni Brooks</td><td>Left Side Center(LC), Above the Break 3</td><td>Center(C), Restricted Area</td></tr><tr><td>Arnett Moultrie</td><td>Center(C), Restricted Area</td><td>Center(C), Restricted Area</td></tr><tr><td>Aron Baynes</td><td>Center(C), Restricted Area</td><td>Center(C), Restricted Area</td></tr><tr><td>Arron Afflalo</td><td>Center(C), Restricted Area</td><td>Center(C), Restricted Area</td></tr><tr><td>Art Long</td><td>Center(C), Restricted Area</td><td>Center(C), Restricted Area</td></tr><tr><td>Arvydas Sabonis</td><td>Center(C), Restricted Area</td><td>Center(C), Restricted Area</td></tr><tr><td>Austin Croshere</td><td>Center(C), Restricted Area</td><td>Center(C), Restricted Area</td></tr><tr><td>Austin Daye</td><td>Center(C), Restricted Area</td><td>Center(C), Restricted Area</td></tr><tr><td>Austin Reaves</td><td>Center(C), Restricted Area</td><td>Center(C), Restricted Area</td></tr><tr><td>Austin Rivers</td><td>Center(C), Restricted Area</td><td>Center(C), Restricted Area</td></tr><tr><td>Avery Bradley</td><td>Center(C), Restricted Area</td><td>Center(C), Restricted Area</td></tr><tr><td>Avery Johnson</td><td>Center(C), Restricted Area</td><td>Center(C), Restricted Area</td></tr><tr><td>Awvee Storey</td><td>Center(C), Restricted Area</td><td>Center(C), Restricted Area</td></tr><tr><td>Ayo Dosunmu</td><td>Center(C), Restricted Area</td><td>Center(C), Restricted Area</td></tr><tr><td>B.J. Armstrong</td><td>Center(C), Restricted Area</td><td>Center(C), Restricted Area</td></tr><tr><td>Bam Adebayo</td><td>Center(C), Restricted Area</td><td>Center(C), Restricted Area</td></tr><tr><td>Baron Davis</td><td>Center(C), Restricted Area</td><td>Center(C), Restricted Area</td></tr><tr><td>Ben Davis</td><td>Center(C), Restricted Area</td><td>Center(C), Restricted Area</td></tr><tr><td>Ben Gordon</td><td>Center(C), Restricted Area</td><td>Center(C), Restricted Area</td></tr><tr><td>Ben Handlogten</td><td>Center(C), Restricted Area</td><td>Center(C), Restricted Area</td></tr><tr><td>Ben McLemore</td><td>Center(C), Restricted Area</td><td>Center(C), Restricted Area</td></tr><tr><td>Ben Simmons</td><td>Center(C), Restricted Area</td><td>Center(C), Restricted Area</td></tr><tr><td>Ben Uzoh</td><td>Center(C), Restricted Area</td><td>Center(C), Restricted Area</td></tr><tr><td>Ben Wallace</td><td>Center(C), Restricted Area</td><td>Center(C), Restricted Area</td></tr><tr><td>Beno Udrih</td><td>Center(C), Restricted Area</td><td>Center(C), Restricted Area</td></tr><tr><td>Bernard James</td><td>Center(C), Restricted Area</td><td>Center(C), Restricted Area</td></tr><tr><td>Bernard Robinson</td><td>Center(C), Restricted Area</td><td>Center(C), Restricted Area</td></tr><tr><td>Bill Curley</td><td>Center(C), Restricted Area</td><td>Center(C), Restricted Area</td></tr><tr><td>Bill Wennington</td><td>Right Side(R), Mid-Range</td><td>Right Side Center(RC), Mid-Range</td></tr><tr><td>Billy Owens</td><td>Center(C), Restricted Area</td><td>Center(C), Restricted Area</td></tr><tr><td>Billy Thomas</td><td>Left Side(L), Left Corner 3</td><td>Left Side(L), Left Corner 3</td></tr><tr><td>Bimbo Coles</td><td>Right Side(R), Mid-Range</td><td>Center(C), Restricted Area</td></tr><tr><td>Bismack Biyombo</td><td>Center(C), Restricted Area</td><td>Center(C), Restricted Area</td></tr><tr><td>Bison Dele</td><td>Center(C), Restricted Area</td><td>Center(C), Restricted Area</td></tr><tr><td>Blake Griffin</td><td>Center(C), Restricted Area</td><td>Center(C), Restricted Area</td></tr><tr><td>Blue Edwards</td><td>Center(C), Restricted Area</td><td>Center(C), Restricted Area</td></tr><tr><td>Bo Outlaw</td><td>Center(C), Restricted Area</td><td>Center(C), Restricted Area</td></tr><tr><td>Bob Sura</td><td>Center(C), Restricted Area</td><td>Center(C), Restricted Area</td></tr><tr><td>Boban Marjanovic</td><td>Center(C), Restricted Area</td><td>Center(C), Restricted Area</td></tr><tr><td>Bobby Brown</td><td>Center(C), Restricted Area</td><td>Left Side Center(LC), Mid-Range</td></tr><tr><td>Bobby Hurley</td><td>Center(C), Restricted Area</td><td>Center(C), Mid-Range</td></tr><tr><td>Bobby Hurley</td><td>Center(C), Restricted Area</td><td>Left Side Center(LC), Mid-Range</td></tr><tr><td>Bobby Jackson</td><td>Center(C), Restricted Area</td><td>Center(C), Restricted Area</td></tr><tr><td>Bobby Phills</td><td>Center(C), Restricted Area</td><td>Center(C), Restricted Area</td></tr><tr><td>Bobby Portis</td><td>Center(C), Restricted Area</td><td>Center(C), Restricted Area</td></tr><tr><td>Bobby Simmons</td><td>Center(C), Restricted Area</td><td>Center(C), Restricted Area</td></tr><tr><td>Bogdan Bogdanovic</td><td>Left Side Center(LC), Above the Break 3</td><td>Center(C), Restricted Area</td></tr><tr><td>Bojan Bogdanovic</td><td>Center(C), Restricted Area</td><td>Center(C), Restricted Area</td></tr><tr><td>Bones Hyland</td><td>Right Side Center(RC), Above the Break 3</td><td>Center(C), Restricted Area</td></tr><tr><td>Bonzi Wells</td><td>Center(C), Restricted Area</td><td>Center(C), Restricted Area</td></tr><tr><td>Boris Diaw</td><td>Center(C), Restricted Area</td><td>Center(C), Restricted Area</td></tr><tr><td>Bostjan Nachbar</td><td>Center(C), Restricted Area</td><td>Center(C), Restricted Area</td></tr><tr><td>Brad Miller</td><td>Center(C), Restricted Area</td><td>Center(C), Restricted Area</td></tr><tr><td>Brad Wanamaker</td><td>Center(C), Restricted Area</td><td>Center(C), Restricted Area</td></tr><tr><td>Bradley Beal</td><td>Center(C), Restricted Area</td><td>Center(C), Restricted Area</td></tr><tr><td>Brandan Wright</td><td>Center(C), Restricted Area</td><td>Center(C), Restricted Area</td></tr><tr><td>Brandon Armstrong</td><td>Right Side(R), Mid-Range</td><td>Center(C), Restricted Area</td></tr><tr><td>Brandon Armstrong</td><td>Left Side(L), Mid-Range</td><td>Center(C), Restricted Area</td></tr><tr><td>Brandon Bass</td><td>Center(C), Restricted Area</td><td>Center(C), Restricted Area</td></tr><tr><td>Brandon Clarke</td><td>Center(C), Restricted Area</td><td>Center(C), Restricted Area</td></tr><tr><td>Brandon Davies</td><td>Center(C), Restricted Area</td><td>Center(C), Restricted Area</td></tr><tr><td>Brandon Goodwin</td><td>Center(C), Restricted Area</td><td>Center(C), Restricted Area</td></tr><tr><td>Brandon Hunter</td><td>Center(C), Restricted Area</td><td>Center(C), Restricted Area</td></tr><tr><td>Brandon Ingram</td><td>Center(C), Restricted Area</td><td>Center(C), Restricted Area</td></tr><tr><td>Brandon Jennings</td><td>Center(C), Restricted Area</td><td>Center(C), Restricted Area</td></tr><tr><td>Brandon Knight</td><td>Center(C), Restricted Area</td><td>Center(C), Restricted Area</td></tr><tr><td>Brandon Paul</td><td>Center(C), Restricted Area</td><td>Center(C), Restricted Area</td></tr><tr><td>Brandon Roy</td><td>Center(C), Restricted Area</td><td>Center(C), Restricted Area</td></tr><tr><td>Brandon Rush</td><td>Center(C), Restricted Area</td><td>Center(C), Restricted Area</td></tr><tr><td>Braxton Key</td><td>Center(C), Restricted Area</td><td>Center(C), Restricted Area</td></tr><tr><td>Brendan Haywood</td><td>Center(C), Restricted Area</td><td>Center(C), Restricted Area</td></tr><tr><td>Brent Barry</td><td>Center(C), Restricted Area</td><td>Center(C), Restricted Area</td></tr><tr><td>Brent Price</td><td>Right Side Center(RC), Above the Break 3</td><td>Center(C), Restricted Area</td></tr><tr><td>Brett Szabo</td><td>Center(C), Restricted Area</td><td>Center(C), Restricted Area</td></tr><tr><td>Brevin Knight</td><td>Center(C), Restricted Area</td><td>Center(C), Restricted Area</td></tr><tr><td>Brian Cardinal</td><td>Center(C), Restricted Area</td><td>Center(C), Restricted Area</td></tr><tr><td>Brian Cook</td><td>Center(C), Restricted Area</td><td>Center(C), Restricted Area</td></tr><tr><td>Brian Evans</td><td>Right Side(R), Mid-Range</td><td>Center(C), Restricted Area</td></tr><tr><td>Brian Grant</td><td>Center(C), Restricted Area</td><td>Center(C), Restricted Area</td></tr><tr><td>Brian Roberts</td><td>Center(C), Restricted Area</td><td>Right Side Center(RC), Mid-Range</td></tr><tr><td>Brian Scalabrine</td><td>Center(C), Restricted Area</td><td>Center(C), Restricted Area</td></tr><tr><td>Brian Shaw</td><td>Center(C), Restricted Area</td><td>Center(C), Restricted Area</td></tr><tr><td>Brian Skinner</td><td>Center(C), Restricted Area</td><td>Center(C), Restricted Area</td></tr><tr><td>Briante Weber</td><td>Center(C), Restricted Area</td><td>Center(C), Restricted Area</td></tr><tr><td>Brodric Thomas</td><td>Center(C), Restricted Area</td><td>Center(C), Restricted Area</td></tr><tr><td>Brook Lopez</td><td>Center(C), Restricted Area</td><td>Center(C), Restricted Area</td></tr><tr><td>Brooks Thompson</td><td>Left Side Center(LC), Above the Break 3</td><td>Center(C), Mid-Range</td></tr><tr><td>Bruce Bowen</td><td>Center(C), Restricted Area</td><td>Center(C), Restricted Area</td></tr><tr><td>Bruce Brown</td><td>Center(C), Restricted Area</td><td>Center(C), Restricted Area</td></tr><tr><td>Bruno Caboclo</td><td>Center(C), Restricted Area</td><td>Center(C), Restricted Area</td></tr><tr><td>Bruno Fernando</td><td>Center(C), Restricted Area</td><td>Center(C), Restricted Area</td></tr><tr><td>Bruno Sundov</td><td>Center(C), Restricted Area</td><td>Center(C), Restricted Area</td></tr><tr><td>Bryant Reeves</td><td>Center(C), Restricted Area</td><td>Center(C), Restricted Area</td></tr><tr><td>Bryant Stith</td><td>Center(C), Restricted Area</td><td>Center(C), Restricted Area</td></tr><tr><td>Bryce Drew</td><td>Center(C), Restricted Area</td><td>Center(C), Restricted Area</td></tr><tr><td>Bryn Forbes</td><td>Right Side Center(RC), Above the Break 3</td><td>Center(C), Restricted Area</td></tr><tr><td>Bryon Russell</td><td>Center(C), Restricted Area</td><td>Center(C), Restricted Area</td></tr><tr><td>Bubba Wells</td><td>Center(C), Restricted Area</td><td>Center(C), Restricted Area</td></tr><tr><td>Buck Williams</td><td>Center(C), Restricted Area</td><td>Center(C), Restricted Area</td></tr><tr><td>Buddy Hield</td><td>Left Side Center(LC), Above the Break 3</td><td>Center(C), Restricted Area</td></tr><tr><td>Byron Mullens</td><td>Center(C), Restricted Area</td><td>Center(C), Restricted Area</td></tr><tr><td>Byron Scott</td><td>Center(C), Restricted Area</td><td>Center(C), Restricted Area</td></tr><tr><td>C.J. Watson</td><td>Center(C), Restricted Area</td><td>Center(C), Restricted Area</td></tr><tr><td>C.J. Williams</td><td>Center(C), Restricted Area</td><td>Center(C), Restricted Area</td></tr><tr><td>CJ Elleby</td><td>Center(C), Restricted Area</td><td>Center(C), Restricted Area</td></tr><tr><td>CJ McCollum</td><td>Center(C), Restricted Area</td><td>Center(C), Restricted Area</td></tr><tr><td>CJ Miles</td><td>Center(C), Restricted Area</td><td>Center(C), Restricted Area</td></tr><tr><td>Cade Cunningham</td><td>Center(C), Restricted Area</td><td>Center(C), Restricted Area</td></tr><tr><td>Cal Bowdler</td><td>Center(C), Restricted Area</td><td>Center(C), Restricted Area</td></tr><tr><td>Calbert Cheaney</td><td>Center(C), Restricted Area</td><td>Center(C), Restricted Area</td></tr><tr><td>Caleb Martin</td><td>Center(C), Restricted Area</td><td>Center(C), Restricted Area</td></tr><tr><td>Caleb Swanigan</td><td>Center(C), Restricted Area</td><td>Center(C), Restricted Area</td></tr><tr><td>Calvin Booth</td><td>Center(C), Restricted Area</td><td>Center(C), Restricted Area</td></tr><tr><td>Cam Reddish</td><td>Center(C), Restricted Area</td><td>Center(C), Restricted Area</td></tr><tr><td>Cam Thomas</td><td>Center(C), In The Paint (Non-RA)</td><td>Left Side(L), Mid-Range</td></tr><tr><td>Cameron Johnson</td><td>Right Side Center(RC), Above the Break 3</td><td>Center(C), Restricted Area</td></tr><tr><td>Cameron Payne</td><td>Center(C), Restricted Area</td><td>Left Side(L), In The Paint (Non-RA)</td></tr><tr><td>Caris LeVert</td><td>Center(C), Restricted Area</td><td>Center(C), Restricted Area</td></tr><tr><td>Carl Herrera</td><td>Center(C), Restricted Area</td><td>Center(C), Mid-Range</td></tr><tr><td>Carl Landry</td><td>Center(C), Restricted Area</td><td>Center(C), Restricted Area</td></tr><tr><td>Carl Thomas</td><td>Right Side(R), Mid-Range</td><td>Right Side(R), Mid-Range</td></tr><tr><td>Carlos Arroyo</td><td>Center(C), Restricted Area</td><td>Center(C), Restricted Area</td></tr><tr><td>Carlos Boozer</td><td>Center(C), Restricted Area</td><td>Center(C), Restricted Area</td></tr><tr><td>Carlos Delfino</td><td>Center(C), Restricted Area</td><td>Center(C), Restricted Area</td></tr><tr><td>Carlos Rogers</td><td>Center(C), Restricted Area</td><td>Center(C), Restricted Area</td></tr><tr><td>Carmelo Anthony</td><td>Center(C), Restricted Area</td><td>Center(C), Restricted Area</td></tr><tr><td>Caron Butler</td><td>Center(C), Restricted Area</td><td>Center(C), Restricted Area</td></tr><tr><td>Carsen Edwards</td><td>Center(C), Restricted Area</td><td>Center(C), Restricted Area</td></tr><tr><td>Cartier Martin</td><td>Center(C), Restricted Area</td><td>Center(C), Restricted Area</td></tr><tr><td>Casey Jacobsen</td><td>Center(C), Restricted Area</td><td>Center(C), Restricted Area</td></tr><tr><td>Cassius Stanley</td><td>Center(C), Restricted Area</td><td>Center(C), Restricted Area</td></tr><tr><td>Cedi Osman</td><td>Center(C), Restricted Area</td><td>Center(C), Restricted Area</td></tr><tr><td>Cedric Ceballos</td><td>Center(C), Restricted Area</td><td>Center(C), Restricted Area</td></tr><tr><td>Cedric Henderson</td><td>Center(C), Restricted Area</td><td>Center(C), Restricted Area</td></tr><tr><td>Cedric Simmons</td><td>Center(C), Restricted Area</td><td>Center(C), Restricted Area</td></tr><tr><td>Chandler Hutchison</td><td>Center(C), Restricted Area</td><td>Center(C), Restricted Area</td></tr><tr><td>Chandler Parsons</td><td>Center(C), Restricted Area</td><td>Center(C), Restricted Area</td></tr><tr><td>Channing Frye</td><td>Right Side Center(RC), Above the Break 3</td><td>Center(C), Restricted Area</td></tr><tr><td>Charles Barkley</td><td>Center(C), Restricted Area</td><td>Center(C), Restricted Area</td></tr><tr><td>Charles Jenkins</td><td>Center(C), Restricted Area</td><td>Center(C), Restricted Area</td></tr><tr><td>Charles O'Bannon</td><td>Center(C), Restricted Area</td><td>Center(C), Restricted Area</td></tr><tr><td>Charles Oakley</td><td>Center(C), Restricted Area</td><td>Center(C), Restricted Area</td></tr><tr><td>Charles Shackleford</td><td>Center(C), In The Paint (Non-RA)</td><td>Center(C), Restricted Area</td></tr><tr><td>Charlie Bell</td><td>Center(C), Restricted Area</td><td>Center(C), Restricted Area</td></tr><tr><td>Charlie Brown Jr.</td><td>Center(C), Restricted Area</td><td>Center(C), Restricted Area</td></tr><tr><td>Charlie Villanueva</td><td>Center(C), Restricted Area</td><td>Center(C), Restricted Area</td></tr><tr><td>Charlie Ward</td><td>Center(C), Restricted Area</td><td>Center(C), Restricted Area</td></tr><tr><td>Chase Budinger</td><td>Center(C), Restricted Area</td><td>Center(C), Restricted Area</td></tr><tr><td>Chasson Randle</td><td>Center(C), Restricted Area</td><td>Center(C), Restricted Area</td></tr><tr><td>Chauncey Billups</td><td>Center(C), Restricted Area</td><td>Center(C), Restricted Area</td></tr><tr><td>Cheick Diallo</td><td>Center(C), Restricted Area</td><td>Center(C), Restricted Area</td></tr><tr><td>Cherokee Parks</td><td>Center(C), Restricted Area</td><td>Center(C), Restricted Area</td></tr><tr><td>Chimezie Metu</td><td>Center(C), Restricted Area</td><td>Center(C), Restricted Area</td></tr><tr><td>Chris Andersen</td><td>Center(C), Restricted Area</td><td>Center(C), Restricted Area</td></tr><tr><td>Chris Anstey</td><td>Center(C), Restricted Area</td><td>Center(C), Restricted Area</td></tr><tr><td>Chris Bosh</td><td>Center(C), Restricted Area</td><td>Center(C), Restricted Area</td></tr><tr><td>Chris Boucher</td><td>Center(C), Restricted Area</td><td>Center(C), Restricted Area</td></tr><tr><td>Chris Carr</td><td>Center(C), Restricted Area</td><td>Center(C), Restricted Area</td></tr><tr><td>Chris Childs</td><td>Center(C), Restricted Area</td><td>Center(C), Mid-Range</td></tr><tr><td>Chris Chiozza</td><td>Center(C), Restricted Area</td><td>Center(C), Above the Break 3</td></tr><tr><td>Chris Clemons</td><td>Right Side Center(RC), Above the Break 3</td><td>Right Side Center(RC), Above the Break 3</td></tr><tr><td>Chris Clemons</td><td>Right Side Center(RC), Above the Break 3</td><td>Center(C), Above the Break 3</td></tr><tr><td>Chris Clemons</td><td>Left Side Center(LC), Above the Break 3</td><td>Center(C), Above the Break 3</td></tr><tr><td>Chris Clemons</td><td>Left Side Center(LC), Above the Break 3</td><td>Right Side Center(RC), Above the Break 3</td></tr><tr><td>Chris Clemons</td><td>Center(C), Above the Break 3</td><td>Center(C), Above the Break 3</td></tr><tr><td>Chris Clemons</td><td>Center(C), Above the Break 3</td><td>Right Side Center(RC), Above the Break 3</td></tr><tr><td>Chris Copeland</td><td>Center(C), Restricted Area</td><td>Center(C), Restricted Area</td></tr><tr><td>Chris Crawford</td><td>Center(C), Restricted Area</td><td>Center(C), Restricted Area</td></tr><tr><td>Chris Douglas-Roberts</td><td>Center(C), Restricted Area</td><td>Center(C), Restricted Area</td></tr><tr><td>Chris Duarte</td><td>Center(C), Restricted Area</td><td>Center(C), Restricted Area</td></tr><tr><td>Chris Dudley</td><td>Center(C), Restricted Area</td><td>Center(C), Restricted Area</td></tr><tr><td>Chris Duhon</td><td>Center(C), Restricted Area</td><td>Center(C), Restricted Area</td></tr><tr><td>Chris Gatling</td><td>Center(C), Restricted Area</td><td>Center(C), Restricted Area</td></tr><tr><td>Chris Herren</td><td>Center(C), Restricted Area</td><td>Center(C), Restricted Area</td></tr><tr><td>Chris Hunter</td><td>Center(C), Restricted Area</td><td>Center(C), Restricted Area</td></tr><tr><td>Chris Jefferies</td><td>Center(C), Restricted Area</td><td>Center(C), Restricted Area</td></tr><tr><td>Chris Johnson</td><td>Center(C), Restricted Area</td><td>Center(C), Restricted Area</td></tr><tr><td>Chris Kaman</td><td>Center(C), Restricted Area</td><td>Center(C), Restricted Area</td></tr><tr><td>Chris McCullough</td><td>Center(C), Restricted Area</td><td>Center(C), Restricted Area</td></tr><tr><td>Chris Mihm</td><td>Center(C), Restricted Area</td><td>Center(C), Restricted Area</td></tr><tr><td>Chris Mills</td><td>Center(C), Restricted Area</td><td>Center(C), Restricted Area</td></tr><tr><td>Chris Morris</td><td>Center(C), Restricted Area</td><td>Center(C), Restricted Area</td></tr><tr><td>Chris Mullin</td><td>Center(C), Restricted Area</td><td>Center(C), Restricted Area</td></tr><tr><td>Chris Paul</td><td>Center(C), Restricted Area</td><td>Center(C), Restricted Area</td></tr><tr><td>Chris Porter</td><td>Center(C), Restricted Area</td><td>Center(C), Restricted Area</td></tr><tr><td>Chris Quinn</td><td>Left Side Center(LC), Above the Break 3</td><td>Left Side Center(LC), Mid-Range</td></tr><tr><td>Chris Richard</td><td>Center(C), Restricted Area</td><td>Center(C), Restricted Area</td></tr><tr><td>Chris Robinson</td><td>Center(C), Restricted Area</td><td>Center(C), Restricted Area</td></tr><tr><td>Chris Silva</td><td>Center(C), Restricted Area</td><td>Center(C), Restricted Area</td></tr><tr><td>Chris Singleton</td><td>Center(C), Restricted Area</td><td>Center(C), Restricted Area</td></tr><tr><td>Chris Webber</td><td>Center(C), Restricted Area</td><td>Center(C), Restricted Area</td></tr><tr><td>Chris Whitney</td><td>Right Side Center(RC), Above the Break 3</td><td>Center(C), Restricted Area</td></tr><tr><td>Chris Wilcox</td><td>Center(C), Restricted Area</td><td>Center(C), Restricted Area</td></tr><tr><td>Chris Wright</td><td>Center(C), Restricted Area</td><td>Center(C), Restricted Area</td></tr><tr><td>Christian Eyenga</td><td>Center(C), Restricted Area</td><td>Center(C), Restricted Area</td></tr><tr><td>Christian Laettner</td><td>Center(C), Restricted Area</td><td>Center(C), Restricted Area</td></tr><tr><td>Christian Wood</td><td>Center(C), Restricted Area</td><td>Center(C), Restricted Area</td></tr><tr><td>Chuck Hayes</td><td>Center(C), Restricted Area</td><td>Center(C), Restricted Area</td></tr><tr><td>Chuck Person</td><td>Left Side Center(LC), Above the Break 3</td><td>Center(C), Restricted Area</td></tr><tr><td>Chucky Atkins</td><td>Center(C), Restricted Area</td><td>Center(C), Restricted Area</td></tr><tr><td>Chucky Brown</td><td>Center(C), Restricted Area</td><td>Center(C), Restricted Area</td></tr><tr><td>Chuma Okeke</td><td>Right Side Center(RC), Above the Break 3</td><td>Center(C), Restricted Area</td></tr><tr><td>Chuma Okeke</td><td>Center(C), Restricted Area</td><td>Center(C), Restricted Area</td></tr><tr><td>Cleanthony Early</td><td>Center(C), Restricted Area</td><td>Center(C), Restricted Area</td></tr><tr><td>Clifford Robinson</td><td>Center(C), Restricted Area</td><td>Center(C), Restricted Area</td></tr><tr><td>Clifford Rozier</td><td>Center(C), Restricted Area</td><td>Center(C), Restricted Area</td></tr><tr><td>Clint Capela</td><td>Center(C), Restricted Area</td><td>Center(C), Restricted Area</td></tr><tr><td>Clyde Drexler</td><td>Center(C), Restricted Area</td><td>Center(C), Restricted Area</td></tr><tr><td>Coby White</td><td>Center(C), Restricted Area</td><td>Center(C), Restricted Area</td></tr><tr><td>Cody Martin</td><td>Center(C), Restricted Area</td><td>Center(C), Restricted Area</td></tr><tr><td>Cody Zeller</td><td>Center(C), Restricted Area</td><td>Center(C), Restricted Area</td></tr><tr><td>Cole Aldrich</td><td>Center(C), Restricted Area</td><td>Center(C), Restricted Area</td></tr><tr><td>Cole Anthony</td><td>Center(C), Restricted Area</td><td>Center(C), Restricted Area</td></tr><tr><td>Collin Sexton</td><td>Center(C), Restricted Area</td><td>Center(C), Restricted Area</td></tr><tr><td>Corey Beck</td><td>Center(C), Restricted Area</td><td>Center(C), Restricted Area</td></tr><tr><td>Corey Benjamin</td><td>Center(C), Restricted Area</td><td>Center(C), Restricted Area</td></tr><tr><td>Corey Brewer</td><td>Center(C), Restricted Area</td><td>Center(C), Restricted Area</td></tr><tr><td>Corey Kispert</td><td>Center(C), Restricted Area</td><td>Center(C), Restricted Area</td></tr><tr><td>Corey Maggette</td><td>Center(C), Restricted Area</td><td>Center(C), Restricted Area</td></tr><tr><td>Corie Blount</td><td>Center(C), Restricted Area</td><td>Center(C), Restricted Area</td></tr><tr><td>Corliss Williamson</td><td>Center(C), Restricted Area</td><td>Center(C), Restricted Area</td></tr><tr><td>Cory Alexander</td><td>Center(C), Restricted Area</td><td>Center(C), Restricted Area</td></tr><tr><td>Cory Carr</td><td>Center(C), Restricted Area</td><td>Center(C), Restricted Area</td></tr><tr><td>Cory Higgins</td><td>Center(C), Restricted Area</td><td>Center(C), Restricted Area</td></tr><tr><td>Cory Jefferson</td><td>Center(C), Restricted Area</td><td>Center(C), Restricted Area</td></tr><tr><td>Cory Joseph</td><td>Center(C), Restricted Area</td><td>Center(C), Restricted Area</td></tr><tr><td>Courtney Alexander</td><td>Center(C), Restricted Area</td><td>Center(C), Restricted Area</td></tr><tr><td>Courtney Lee</td><td>Center(C), Restricted Area</td><td>Center(C), Restricted Area</td></tr><tr><td>Craig Ehlo</td><td>Center(C), Restricted Area</td><td>Center(C), Restricted Area</td></tr><tr><td>Craig Smith</td><td>Center(C), Restricted Area</td><td>Center(C), Restricted Area</td></tr><tr><td>Cristiano Felicio</td><td>Center(C), Restricted Area</td><td>Center(C), Restricted Area</td></tr><tr><td>Curtis Borchardt</td><td>Center(C), Restricted Area</td><td>Center(C), Restricted Area</td></tr><tr><td>Cuttino Mobley</td><td>Center(C), Restricted Area</td><td>Center(C), Restricted Area</td></tr><tr><td>D'Angelo Russell</td><td>Center(C), Restricted Area</td><td>Center(C), Restricted Area</td></tr><tr><td>D.J. Augustin</td><td>Center(C), Restricted Area</td><td>Center(C), Restricted Area</td></tr><tr><td>D.J. Wilson</td><td>Center(C), Restricted Area</td><td>Center(C), Restricted Area</td></tr><tr><td>DJ Mbenga</td><td>Center(C), Restricted Area</td><td>Center(C), Restricted Area</td></tr><tr><td>DJ Strawberry</td><td>Center(C), Restricted Area</td><td>Center(C), Restricted Area</td></tr><tr><td>DJ White</td><td>Center(C), Restricted Area</td><td>Center(C), Restricted Area</td></tr><tr><td>DaJuan Summers</td><td>Center(C), Restricted Area</td><td>Center(C), Restricted Area</td></tr><tr><td>DaQuan Jeffries</td><td>Center(C), Restricted Area</td><td>Center(C), Restricted Area</td></tr><tr><td>Daequan Cook</td><td>Left Side Center(LC), Above the Break 3</td><td>Center(C), Restricted Area</td></tr><tr><td>Dahntay Jones</td><td>Center(C), Restricted Area</td><td>Center(C), Restricted Area</td></tr><tr><td>Dajuan Wagner</td><td>Center(C), Restricted Area</td><td>Center(C), Restricted Area</td></tr><tr><td>Dalano Banton</td><td>Center(C), Restricted Area</td><td>Center(C), Restricted Area</td></tr><tr><td>Dale Davis</td><td>Center(C), Restricted Area</td><td>Center(C), Restricted Area</td></tr><tr><td>Dale Ellis</td><td>Left Side(L), Mid-Range</td><td>Center(C), Restricted Area</td></tr><tr><td>Dalibor Bagaric</td><td>Center(C), Restricted Area</td><td>Center(C), Restricted Area</td></tr><tr><td>Damian Jones</td><td>Center(C), Restricted Area</td><td>Center(C), Restricted Area</td></tr><tr><td>Damian Lillard</td><td>Center(C), Restricted Area</td><td>Center(C), Restricted Area</td></tr><tr><td>Damien Wilkins</td><td>Center(C), Restricted Area</td><td>Center(C), Restricted Area</td></tr><tr><td>Damion James</td><td>Center(C), Restricted Area</td><td>Center(C), Restricted Area</td></tr><tr><td>Damion Lee</td><td>Center(C), Restricted Area</td><td>Center(C), Restricted Area</td></tr><tr><td>Damjan Rudez</td><td>Left Side Center(LC), Above the Break 3</td><td>Center(C), Restricted Area</td></tr><tr><td>Damon Jones</td><td>Left Side Center(LC), Above the Break 3</td><td>Center(C), Restricted Area</td></tr><tr><td>Damon Stoudamire</td><td>Center(C), Restricted Area</td><td>Center(C), Restricted Area</td></tr><tr><td>Damone Brown</td><td>Center(C), Restricted Area</td><td>Center(C), Restricted Area</td></tr><tr><td>Damyean Dotson</td><td>Right Side Center(RC), Above the Break 3</td><td>Center(C), Restricted Area</td></tr><tr><td>Dan Dickau</td><td>Center(C), Restricted Area</td><td>Center(C), Restricted Area</td></tr><tr><td>Dan Gadzuric</td><td>Center(C), Restricted Area</td><td>Center(C), Restricted Area</td></tr><tr><td>Dan Langhi</td><td>Left Side(L), Mid-Range</td><td>Right Side(R), Mid-Range</td></tr><tr><td>Dan Majerle</td><td>Left Side Center(LC), Above the Break 3</td><td>Center(C), Restricted Area</td></tr><tr><td>Dana Barros</td><td>Center(C), Restricted Area</td><td>Center(C), Mid-Range</td></tr><tr><td>Daniel Ewing</td><td>Center(C), Restricted Area</td><td>Center(C), Restricted Area</td></tr><tr><td>Daniel Gafford</td><td>Center(C), Restricted Area</td><td>Center(C), Restricted Area</td></tr><tr><td>Daniel Gibson</td><td>Left Side Center(LC), Above the Break 3</td><td>Center(C), Restricted Area</td></tr><tr><td>Daniel Orton</td><td>Center(C), Restricted Area</td><td>Center(C), Restricted Area</td></tr><tr><td>Daniel Santiago</td><td>Center(C), Restricted Area</td><td>Center(C), Restricted Area</td></tr><tr><td>Daniel Theis</td><td>Center(C), Restricted Area</td><td>Center(C), Restricted Area</td></tr><tr><td>Danilo Gallinari</td><td>Center(C), Restricted Area</td><td>Center(C), Restricted Area</td></tr><tr><td>Danny Ferry</td><td>Right Side(R), Mid-Range</td><td>Left Side Center(LC), Mid-Range</td></tr><tr><td>Danny Fortson</td><td>Center(C), Restricted Area</td><td>Center(C), Restricted Area</td></tr><tr><td>Danny Granger</td><td>Center(C), Restricted Area</td><td>Center(C), Restricted Area</td></tr><tr><td>Danny Green</td><td>Right Side Center(RC), Above the Break 3</td><td>Center(C), Restricted Area</td></tr><tr><td>Danny Manning</td><td>Center(C), Restricted Area</td><td>Center(C), Restricted Area</td></tr><tr><td>Dante Cunningham</td><td>Center(C), Restricted Area</td><td>Center(C), Restricted Area</td></tr><tr><td>Dante Exum</td><td>Center(C), Restricted Area</td><td>Center(C), Restricted Area</td></tr><tr><td>Danuel House Jr.</td><td>Center(C), Restricted Area</td><td>Center(C), Restricted Area</td></tr><tr><td>Dario Saric</td><td>Center(C), Restricted Area</td><td>Center(C), Restricted Area</td></tr><tr><td>Darius Bazley</td><td>Center(C), Restricted Area</td><td>Center(C), Restricted Area</td></tr><tr><td>Darius Garland</td><td>Center(C), Restricted Area</td><td>Left Side Center(LC), Mid-Range</td></tr><tr><td>Darius Miles</td><td>Center(C), Restricted Area</td><td>Center(C), Restricted Area</td></tr><tr><td>Darius Miller</td><td>Left Side Center(LC), Above the Break 3</td><td>Center(C), Restricted Area</td></tr><tr><td>Darius Morris</td><td>Center(C), Restricted Area</td><td>Center(C), Restricted Area</td></tr><tr><td>Darius Songaila</td><td>Center(C), Restricted Area</td><td>Center(C), Restricted Area</td></tr><tr><td>Darko Milicic</td><td>Center(C), Restricted Area</td><td>Center(C), Restricted Area</td></tr><tr><td>Darnell Jackson</td><td>Center(C), Restricted Area</td><td>Center(C), Restricted Area</td></tr><tr><td>Darrell Armstrong</td><td>Center(C), Restricted Area</td><td>Center(C), Restricted Area</td></tr><tr><td>Darrell Arthur</td><td>Center(C), Restricted Area</td><td>Center(C), Restricted Area</td></tr><tr><td>Darren Collison</td><td>Center(C), Restricted Area</td><td>Center(C), Restricted Area</td></tr><tr><td>Darrick Martin</td><td>Center(C), Restricted Area</td><td>Center(C), Restricted Area</td></tr><tr><td>Darrun Hilliard</td><td>Center(C), Restricted Area</td><td>Center(C), Restricted Area</td></tr><tr><td>Darvin Ham</td><td>Center(C), Restricted Area</td><td>Center(C), Restricted Area</td></tr><tr><td>David Andersen</td><td>Center(C), Restricted Area</td><td>Left Side(L), Mid-Range</td></tr><tr><td>David Benoit</td><td>Center(C), Restricted Area</td><td>Center(C), Restricted Area</td></tr><tr><td>David Duke Jr.</td><td>Center(C), Restricted Area</td><td>Center(C), Restricted Area</td></tr><tr><td>David Harrison</td><td>Center(C), Restricted Area</td><td>Center(C), Restricted Area</td></tr><tr><td>David Lee</td><td>Center(C), Restricted Area</td><td>Center(C), Restricted Area</td></tr><tr><td>David Noel</td><td>Center(C), Restricted Area</td><td>Right Side(R), Mid-Range</td></tr><tr><td>David Nwaba</td><td>Center(C), Restricted Area</td><td>Center(C), Restricted Area</td></tr><tr><td>David Robinson</td><td>Center(C), Restricted Area</td><td>Center(C), Restricted Area</td></tr><tr><td>David Vanterpool</td><td>Center(C), Restricted Area</td><td>Center(C), Restricted Area</td></tr><tr><td>David Vaughn</td><td>Center(C), Restricted Area</td><td>Center(C), Restricted Area</td></tr><tr><td>David Wesley</td><td>Center(C), Restricted Area</td><td>Center(C), Restricted Area</td></tr><tr><td>David West</td><td>Center(C), Restricted Area</td><td>Center(C), Restricted Area</td></tr><tr><td>David Wingate</td><td>Center(C), Restricted Area</td><td>Center(C), Restricted Area</td></tr><tr><td>Davion Mitchell</td><td>Center(C), Restricted Area</td><td>Center(C), Restricted Area</td></tr><tr><td>Davis Bertans</td><td>Right Side Center(RC), Above the Break 3</td><td>Center(C), Restricted Area</td></tr><tr><td>Davon Reed</td><td>Center(C), Restricted Area</td><td>Center(C), Restricted Area</td></tr><tr><td>Day'Ron Sharpe</td><td>Center(C), Restricted Area</td><td>Center(C), Restricted Area</td></tr><tr><td>De'Aaron Fox</td><td>Center(C), Restricted Area</td><td>Center(C), Restricted Area</td></tr><tr><td>De'Andre Hunter</td><td>Center(C), Restricted Area</td><td>Center(C), Restricted Area</td></tr><tr><td>De'Anthony Melton</td><td>Center(C), Restricted Area</td><td>Center(C), Restricted Area</td></tr><tr><td>DeAndre Jordan</td><td>Center(C), Restricted Area</td><td>Center(C), Restricted Area</td></tr><tr><td>DeAndre Liggins</td><td>Center(C), Restricted Area</td><td>Center(C), Restricted Area</td></tr><tr><td>DeAndre' Bembry</td><td>Center(C), Restricted Area</td><td>Center(C), Restricted Area</td></tr><tr><td>DeJuan Blair</td><td>Center(C), Restricted Area</td><td>Center(C), Restricted Area</td></tr><tr><td>DeJuan Wheat</td><td>Center(C), Restricted Area</td><td>Center(C), Restricted Area</td></tr><tr><td>DeMar DeRozan</td><td>Center(C), Restricted Area</td><td>Center(C), Restricted Area</td></tr><tr><td>DeMarcus Cousins</td><td>Center(C), Restricted Area</td><td>Center(C), Restricted Area</td></tr><tr><td>DeMarre Carroll</td><td>Center(C), Restricted Area</td><td>Center(C), Restricted Area</td></tr><tr><td>DeQuan Jones</td><td>Center(C), Restricted Area</td><td>Center(C), Restricted Area</td></tr><tr><td>DeSagana Diop</td><td>Center(C), Restricted Area</td><td>Center(C), Restricted Area</td></tr><tr><td>DeShawn Stevenson</td><td>Center(C), Restricted Area</td><td>Center(C), Restricted Area</td></tr><tr><td>Dean Garrett</td><td>Center(C), Restricted Area</td><td>Center(C), Restricted Area</td></tr><tr><td>Dean Wade</td><td>Center(C), Restricted Area</td><td>Center(C), Restricted Area</td></tr><tr><td>Deandre Ayton</td><td>Center(C), Restricted Area</td><td>Center(C), Restricted Area</td></tr><tr><td>Dedric Willoughby</td><td>Left Side Center(LC), Above the Break 3</td><td>Left Side Center(LC), Above the Break 3</td></tr><tr><td>Dee Brown</td><td>Right Side Center(RC), Above the Break 3</td><td>Center(C), Restricted Area</td></tr><tr><td>Dejounte Murray</td><td>Center(C), Restricted Area</td><td>Left Side(L), In The Paint (Non-RA)</td></tr><tr><td>Dell Curry</td><td>Center(C), Restricted Area</td><td>Left Side Center(LC), Mid-Range</td></tr><tr><td>Delon Wright</td><td>Center(C), Restricted Area</td><td>Center(C), Restricted Area</td></tr><tr><td>Delonte West</td><td>Center(C), Restricted Area</td><td>Center(C), Restricted Area</td></tr><tr><td>Deni Avdija</td><td>Center(C), Restricted Area</td><td>Center(C), Restricted Area</td></tr><tr><td>Dennis Rodman</td><td>Center(C), Restricted Area</td><td>Center(C), Restricted Area</td></tr><tr><td>Dennis Schroder</td><td>Center(C), Restricted Area</td><td>Center(C), Restricted Area</td></tr><tr><td>Dennis Scott</td><td>Left Side(L), Mid-Range</td><td>Center(C), Restricted Area</td></tr><tr><td>Dennis Smith Jr.</td><td>Center(C), Restricted Area</td><td>Center(C), Restricted Area</td></tr><tr><td>Denzel Valentine</td><td>Center(C), In The Paint (Non-RA)</td><td>Center(C), Restricted Area</td></tr><tr><td>Deonte Burton</td><td>Center(C), Restricted Area</td><td>Center(C), Restricted Area</td></tr><tr><td>DerMarr Johnson</td><td>Center(C), Restricted Area</td><td>Center(C), Restricted Area</td></tr><tr><td>Derek Anderson</td><td>Center(C), Restricted Area</td><td>Center(C), Restricted Area</td></tr><tr><td>Derek Fisher</td><td>Center(C), Restricted Area</td><td>Center(C), Restricted Area</td></tr><tr><td>Derek Harper</td><td>Center(C), Restricted Area</td><td>Center(C), Restricted Area</td></tr><tr><td>Derek Strong</td><td>Center(C), Restricted Area</td><td>Center(C), Restricted Area</td></tr><tr><td>Deron Williams</td><td>Center(C), Restricted Area</td><td>Center(C), Restricted Area</td></tr><tr><td>Derrick Brown</td><td>Center(C), Restricted Area</td><td>Center(C), Restricted Area</td></tr><tr><td>Derrick Caracter</td><td>Center(C), Restricted Area</td><td>Center(C), Restricted Area</td></tr><tr><td>Derrick Coleman</td><td>Center(C), Restricted Area</td><td>Center(C), Restricted Area</td></tr><tr><td>Derrick Dial</td><td>Center(C), Restricted Area</td><td>Center(C), Restricted Area</td></tr><tr><td>Derrick Favors</td><td>Center(C), Restricted Area</td><td>Center(C), Restricted Area</td></tr><tr><td>Derrick Jones Jr.</td><td>Center(C), Restricted Area</td><td>Center(C), Restricted Area</td></tr><tr><td>Derrick McKey</td><td>Center(C), Restricted Area</td><td>Center(C), Restricted Area</td></tr><tr><td>Derrick Rose</td><td>Center(C), Restricted Area</td><td>Center(C), Restricted Area</td></tr><tr><td>Derrick White</td><td>Center(C), Restricted Area</td><td>Center(C), Restricted Area</td></tr><tr><td>Derrick Williams</td><td>Center(C), Restricted Area</td><td>Center(C), Restricted Area</td></tr><tr><td>Desmond Bane</td><td>Center(C), Restricted Area</td><td>Center(C), Restricted Area</td></tr><tr><td>Desmond Mason</td><td>Center(C), Restricted Area</td><td>Center(C), Restricted Area</td></tr><tr><td>Detlef Schrempf</td><td>Center(C), Restricted Area</td><td>Center(C), Restricted Area</td></tr><tr><td>Devean George</td><td>Center(C), Restricted Area</td><td>Center(C), Restricted Area</td></tr><tr><td>Devin Booker</td><td>Center(C), Restricted Area</td><td>Center(C), Restricted Area</td></tr><tr><td>Devin Brown</td><td>Center(C), Restricted Area</td><td>Center(C), Restricted Area</td></tr><tr><td>Devin Ebanks</td><td>Center(C), Restricted Area</td><td>Center(C), Restricted Area</td></tr><tr><td>Devin Gray</td><td>Center(C), Restricted Area</td><td>Center(C), Restricted Area</td></tr><tr><td>Devin Harris</td><td>Center(C), Restricted Area</td><td>Center(C), Restricted Area</td></tr><tr><td>Devin Vassell</td><td>Center(C), Restricted Area</td><td>Center(C), Restricted Area</td></tr><tr><td>Devontae Cacok</td><td>Center(C), Restricted Area</td><td>Center(C), Restricted Area</td></tr><tr><td>Devonte' Graham</td><td>Right Side Center(RC), Above the Break 3</td><td>Center(C), Restricted Area</td></tr><tr><td>Dewayne Dedmon</td><td>Center(C), Restricted Area</td><td>Center(C), Restricted Area</td></tr><tr><td>Dexter Pittman</td><td>Center(C), Restricted Area</td><td>Center(C), Restricted Area</td></tr><tr><td>Deyonta Davis</td><td>Center(C), Restricted Area</td><td>Center(C), Restricted Area</td></tr><tr><td>Dickey Simpkins</td><td>Center(C), Restricted Area</td><td>Center(C), Restricted Area</td></tr><tr><td>Dikembe Mutombo</td><td>Center(C), Restricted Area</td><td>Center(C), Restricted Area</td></tr><tr><td>Dillon Brooks</td><td>Center(C), Restricted Area</td><td>Center(C), Restricted Area</td></tr><tr><td>Dino Radja</td><td>Center(C), Restricted Area</td><td>Right Side(R), Mid-Range</td></tr><tr><td>Dion Glover</td><td>Center(C), Restricted Area</td><td>Center(C), Restricted Area</td></tr><tr><td>Dion Waiters</td><td>Center(C), Restricted Area</td><td>Center(C), Restricted Area</td></tr><tr><td>Dirk Nowitzki</td><td>Right Side(R), Mid-Range</td><td>Center(C), Restricted Area</td></tr><tr><td>Domantas Sabonis</td><td>Center(C), Restricted Area</td><td>Center(C), Restricted Area</td></tr><tr><td>Dominic McGuire</td><td>Center(C), Restricted Area</td><td>Center(C), Restricted Area</td></tr><tr><td>Dominique Jones</td><td>Center(C), Restricted Area</td><td>Center(C), Restricted Area</td></tr><tr><td>Dominique Wilkins</td><td>Center(C), Restricted Area</td><td>Center(C), Restricted Area</td></tr><tr><td>Don MacLean</td><td>Center(C), Restricted Area</td><td>Center(C), Restricted Area</td></tr><tr><td>Don Reid</td><td>Center(C), Restricted Area</td><td>Center(C), Restricted Area</td></tr><tr><td>Donald Royal</td><td>Center(C), Restricted Area</td><td>Center(C), Restricted Area</td></tr><tr><td>Donald Sloan</td><td>Center(C), Restricted Area</td><td>Center(C), Restricted Area</td></tr><tr><td>Donatas Motiejunas</td><td>Center(C), In The Paint (Non-RA)</td><td>Center(C), Restricted Area</td></tr><tr><td>Donell Taylor</td><td>Center(C), Restricted Area</td><td>Center(C), Restricted Area</td></tr><tr><td>Donnell Harvey</td><td>Center(C), Restricted Area</td><td>Center(C), Restricted Area</td></tr><tr><td>Donny Marshall</td><td>Center(C), Restricted Area</td><td>Center(C), Restricted Area</td></tr><tr><td>Donovan Mitchell</td><td>Center(C), Restricted Area</td><td>Center(C), Restricted Area</td></tr><tr><td>Donta Hall</td><td>Center(C), Restricted Area</td><td>Center(C), Restricted Area</td></tr><tr><td>Donta Smith</td><td>Center(C), Restricted Area</td><td>Center(C), Restricted Area</td></tr><tr><td>Donte DiVincenzo</td><td>Center(C), Restricted Area</td><td>Center(C), Restricted Area</td></tr><tr><td>Donte Greene</td><td>Center(C), Restricted Area</td><td>Center(C), Restricted Area</td></tr><tr><td>Dontonio Wingfield</td><td>Center(C), Restricted Area</td><td>Center(C), Restricted Area</td></tr><tr><td>Donyell Marshall</td><td>Center(C), Restricted Area</td><td>Center(C), Restricted Area</td></tr><tr><td>Dorell Wright</td><td>Center(C), Restricted Area</td><td>Center(C), Restricted Area</td></tr><tr><td>Dorian Finney-Smith</td><td>Center(C), Restricted Area</td><td>Center(C), Restricted Area</td></tr><tr><td>Doron Lamb</td><td>Center(C), Restricted Area</td><td>Center(C), Restricted Area</td></tr><tr><td>Doug Christie</td><td>Center(C), Restricted Area</td><td>Center(C), Restricted Area</td></tr><tr><td>Doug McDermott</td><td>Center(C), Restricted Area</td><td>Center(C), Restricted Area</td></tr><tr><td>Doug Overton</td><td>Center(C), Restricted Area</td><td>Center(C), Mid-Range</td></tr><tr><td>Doug West</td><td>Center(C), Restricted Area</td><td>Center(C), Restricted Area</td></tr><tr><td>Dragan Bender</td><td>Center(C), Restricted Area</td><td>Center(C), Restricted Area</td></tr><tr><td>Dragan Tarlac</td><td>Center(C), In The Paint (Non-RA)</td><td>Center(C), In The Paint (Non-RA)</td></tr><tr><td>Draymond Green</td><td>Center(C), Restricted Area</td><td>Center(C), Restricted Area</td></tr><tr><td>Drew Eubanks</td><td>Center(C), Restricted Area</td><td>Center(C), Restricted Area</td></tr><tr><td>Drew Gooden</td><td>Center(C), Restricted Area</td><td>Center(C), Restricted Area</td></tr><tr><td>Duane Causwell</td><td>Center(C), Restricted Area</td><td>Center(C), Restricted Area</td></tr><tr><td>Duane Ferrell</td><td>Center(C), Restricted Area</td><td>Center(C), Restricted Area</td></tr><tr><td>Duane Washington Jr.</td><td>Center(C), Restricted Area</td><td>Center(C), Restricted Area</td></tr><tr><td>Duncan Robinson</td><td>Right Side Center(RC), Above the Break 3</td><td>Center(C), Restricted Area</td></tr><tr><td>Dwayne Bacon</td><td>Center(C), Restricted Area</td><td>Center(C), Restricted Area</td></tr><tr><td>Dwayne Jones</td><td>Center(C), Restricted Area</td><td>Center(C), Restricted Area</td></tr><tr><td>Dwight Buycks</td><td>Center(C), Restricted Area</td><td>Center(C), Restricted Area</td></tr><tr><td>Dwight Howard</td><td>Center(C), Restricted Area</td><td>Center(C), Restricted Area</td></tr><tr><td>Dwight Powell</td><td>Center(C), Restricted Area</td><td>Center(C), Restricted Area</td></tr><tr><td>Dwyane Wade</td><td>Center(C), Restricted Area</td><td>Center(C), Restricted Area</td></tr><tr><td>Dylan Windler</td><td>Center(C), Restricted Area</td><td>Center(C), Restricted Area</td></tr><tr><td>Dzanan Musa</td><td>Center(C), Restricted Area</td><td>Center(C), Restricted Area</td></tr><tr><td>E'Twaun Moore</td><td>Center(C), Restricted Area</td><td>Center(C), Restricted Area</td></tr><tr><td>Earl Barron</td><td>Center(C), Restricted Area</td><td>Center(C), Mid-Range</td></tr><tr><td>Earl Boykins</td><td>Center(C), Restricted Area</td><td>Center(C), Restricted Area</td></tr><tr><td>Earl Clark</td><td>Center(C), Restricted Area</td><td>Center(C), Restricted Area</td></tr><tr><td>Earl Watson</td><td>Center(C), Restricted Area</td><td>Center(C), Restricted Area</td></tr><tr><td>Ed Davis</td><td>Center(C), Restricted Area</td><td>Center(C), Restricted Area</td></tr><tr><td>Ed Gray</td><td>Center(C), Restricted Area</td><td>Center(C), Restricted Area</td></tr><tr><td>Ed O'Bannon</td><td>Center(C), Restricted Area</td><td>Center(C), Restricted Area</td></tr><tr><td>Eddie Gill</td><td>Center(C), Restricted Area</td><td>Center(C), Restricted Area</td></tr><tr><td>Eddie Griffin</td><td>Center(C), Restricted Area</td><td>Center(C), Restricted Area</td></tr><tr><td>Eddie House</td><td>Left Side(L), Mid-Range</td><td>Center(C), Restricted Area</td></tr><tr><td>Eddie Johnson</td><td>Center(C), Restricted Area</td><td>Center(C), Restricted Area</td></tr><tr><td>Eddie Jones</td><td>Center(C), Restricted Area</td><td>Center(C), Restricted Area</td></tr><tr><td>Eddie Robinson</td><td>Center(C), Restricted Area</td><td>Center(C), Restricted Area</td></tr><tr><td>Eddy Curry</td><td>Center(C), Restricted Area</td><td>Center(C), Restricted Area</td></tr><tr><td>Edmond Sumner</td><td>Center(C), Restricted Area</td><td>Center(C), Restricted Area</td></tr><tr><td>Eduardo Najera</td><td>Center(C), Restricted Area</td><td>Center(C), Restricted Area</td></tr><tr><td>Ekpe Udoh</td><td>Center(C), Restricted Area</td><td>Center(C), Restricted Area</td></tr><tr><td>Elden Campbell</td><td>Center(C), Restricted Area</td><td>Center(C), Restricted Area</td></tr><tr><td>Eldridge Recasner</td><td>Center(C), Restricted Area</td><td>Center(C), Restricted Area</td></tr><tr><td>Elfrid Payton</td><td>Center(C), Restricted Area</td><td>Center(C), Restricted Area</td></tr><tr><td>Elie Okobo</td><td>Center(C), Restricted Area</td><td>Center(C), Restricted Area</td></tr><tr><td>Elijah Hughes</td><td>Right Side Center(RC), Above the Break 3</td><td>Right Side Center(RC), Above the Break 3</td></tr><tr><td>Elijah Millsap</td><td>Center(C), Restricted Area</td><td>Center(C), Restricted Area</td></tr><tr><td>Elliot Perry</td><td>Center(C), Restricted Area</td><td>Center(C), Restricted Area</td></tr><tr><td>Elliot Williams</td><td>Center(C), Restricted Area</td><td>Center(C), Restricted Area</td></tr><tr><td>Elton Brand</td><td>Center(C), Restricted Area</td><td>Center(C), Restricted Area</td></tr><tr><td>Emanual Davis</td><td>Center(C), Restricted Area</td><td>Left Side Center(LC), Mid-Range</td></tr><tr><td>Emeka Okafor</td><td>Center(C), Restricted Area</td><td>Center(C), Restricted Area</td></tr><tr><td>Emmanuel Mudiay</td><td>Center(C), Restricted Area</td><td>Center(C), Restricted Area</td></tr><tr><td>Enes Freedom</td><td>Center(C), Restricted Area</td><td>Center(C), Restricted Area</td></tr><tr><td>Eric Bledsoe</td><td>Center(C), Restricted Area</td><td>Center(C), Restricted Area</td></tr><tr><td>Eric Gordon</td><td>Center(C), Restricted Area</td><td>Center(C), Restricted Area</td></tr><tr><td>Eric Maynor</td><td>Center(C), In The Paint (Non-RA)</td><td>Center(C), Mid-Range</td></tr><tr><td>Eric Mobley</td><td>Center(C), Restricted Area</td><td>Center(C), Restricted Area</td></tr><tr><td>Eric Montross</td><td>Center(C), Restricted Area</td><td>Center(C), Restricted Area</td></tr><tr><td>Eric Moreland</td><td>Center(C), Restricted Area</td><td>Center(C), Restricted Area</td></tr><tr><td>Eric Murdock</td><td>Center(C), Restricted Area</td><td>Center(C), Restricted Area</td></tr><tr><td>Eric Paschall</td><td>Center(C), Restricted Area</td><td>Center(C), Restricted Area</td></tr><tr><td>Eric Piatkowski</td><td>Center(C), Restricted Area</td><td>Center(C), Restricted Area</td></tr><tr><td>Eric Riley</td><td>Center(C), Restricted Area</td><td>Center(C), Restricted Area</td></tr><tr><td>Eric Snow</td><td>Center(C), Restricted Area</td><td>Center(C), Restricted Area</td></tr><tr><td>Eric Washington</td><td>Center(C), Restricted Area</td><td>Center(C), Restricted Area</td></tr><tr><td>Eric Williams</td><td>Center(C), Restricted Area</td><td>Center(C), Restricted Area</td></tr><tr><td>Erick Dampier</td><td>Center(C), Restricted Area</td><td>Center(C), Restricted Area</td></tr><tr><td>Erick Strickland</td><td>Center(C), Restricted Area</td><td>Center(C), Restricted Area</td></tr><tr><td>Ersan Ilyasova</td><td>Center(C), Restricted Area</td><td>Center(C), Restricted Area</td></tr><tr><td>Ervin Johnson</td><td>Center(C), Restricted Area</td><td>Center(C), Restricted Area</td></tr><tr><td>Esteban Batista</td><td>Center(C), Restricted Area</td><td>Center(C), Restricted Area</td></tr><tr><td>Etan Thomas</td><td>Center(C), Restricted Area</td><td>Center(C), Restricted Area</td></tr><tr><td>Evan Eschmeyer</td><td>Center(C), Restricted Area</td><td>Center(C), Restricted Area</td></tr><tr><td>Evan Fournier</td><td>Center(C), Restricted Area</td><td>Center(C), Restricted Area</td></tr><tr><td>Evan Mobley</td><td>Center(C), Restricted Area</td><td>Center(C), Restricted Area</td></tr><tr><td>Evan Turner</td><td>Center(C), Restricted Area</td><td>Center(C), Restricted Area</td></tr><tr><td>Fabricio Oberto</td><td>Center(C), Restricted Area</td><td>Center(C), Restricted Area</td></tr><tr><td>Facundo Campazzo</td><td>Right Side Center(RC), Above the Break 3</td><td>Center(C), Restricted Area</td></tr><tr><td>Felipe Lopez</td><td>Center(C), Restricted Area</td><td>Center(C), Restricted Area</td></tr><tr><td>Felton Spencer</td><td>Center(C), Restricted Area</td><td>Center(C), Restricted Area</td></tr><tr><td>Festus Ezeli</td><td>Center(C), Restricted Area</td><td>Center(C), Restricted Area</td></tr><tr><td>Francisco Elson</td><td>Center(C), Restricted Area</td><td>Center(C), Restricted Area</td></tr><tr><td>Francisco Garcia</td><td>Center(C), Restricted Area</td><td>Center(C), Restricted Area</td></tr><tr><td>Frank Jackson</td><td>Center(C), Restricted Area</td><td>Center(C), Restricted Area</td></tr><tr><td>Frank Kaminsky</td><td>Center(C), Restricted Area</td><td>Center(C), Restricted Area</td></tr><tr><td>Frank Mason III</td><td>Center(C), Restricted Area</td><td>Center(C), Restricted Area</td></tr><tr><td>Frank Ntilikina</td><td>Center(C), Restricted Area</td><td>Center(C), Restricted Area</td></tr><tr><td>Frank Williams</td><td>Center(C), Restricted Area</td><td>Center(C), Restricted Area</td></tr><tr><td>Franz Wagner</td><td>Center(C), Restricted Area</td><td>Center(C), Restricted Area</td></tr><tr><td>Fred Hoiberg</td><td>Center(C), Restricted Area</td><td>Center(C), Restricted Area</td></tr><tr><td>Fred Jones</td><td>Center(C), Restricted Area</td><td>Center(C), Restricted Area</td></tr><tr><td>Fred VanVleet</td><td>Center(C), Restricted Area</td><td>Center(C), Restricted Area</td></tr><tr><td>Freddie Gillespie</td><td>Center(C), Restricted Area</td><td>Center(C), Restricted Area</td></tr><tr><td>Furkan Aldemir</td><td>Center(C), Restricted Area</td><td>Center(C), Restricted Area</td></tr><tr><td>Furkan Korkmaz</td><td>Right Side Center(RC), Above the Break 3</td><td>Center(C), Restricted Area</td></tr><tr><td>Gabe Vincent</td><td>Left Side Center(LC), Above the Break 3</td><td>Center(C), Restricted Area</td></tr><tr><td>Gabe Vincent</td><td>Center(C), Restricted Area</td><td>Center(C), Restricted Area</td></tr><tr><td>Garrett Temple</td><td>Center(C), Restricted Area</td><td>Center(C), Restricted Area</td></tr><tr><td>Garrison Mathews</td><td>Left Side Center(LC), Above the Break 3</td><td>Center(C), Restricted Area</td></tr><tr><td>Gary Clark</td><td>Left Side Center(LC), Above the Break 3</td><td>Center(C), Restricted Area</td></tr><tr><td>Gary Forbes</td><td>Center(C), Restricted Area</td><td>Center(C), Restricted Area</td></tr><tr><td>Gary Grant</td><td>Center(C), Restricted Area</td><td>Center(C), Restricted Area</td></tr><tr><td>Gary Harris</td><td>Center(C), Restricted Area</td><td>Center(C), Restricted Area</td></tr><tr><td>Gary Neal</td><td>Right Side Center(RC), Above the Break 3</td><td>Center(C), Restricted Area</td></tr><tr><td>Gary Payton</td><td>Center(C), Restricted Area</td><td>Center(C), Restricted Area</td></tr><tr><td>Gary Payton II</td><td>Center(C), Restricted Area</td><td>Center(C), Restricted Area</td></tr><tr><td>Gary Trent</td><td>Center(C), Restricted Area</td><td>Center(C), Restricted Area</td></tr><tr><td>Gary Trent Jr.</td><td>Left Side Center(LC), Above the Break 3</td><td>Center(C), Restricted Area</td></tr><tr><td>George Hill</td><td>Center(C), Restricted Area</td><td>Center(C), Restricted Area</td></tr><tr><td>George Lynch</td><td>Center(C), Restricted Area</td><td>Center(C), Restricted Area</td></tr><tr><td>George McCloud</td><td>Center(C), Restricted Area</td><td>Center(C), Restricted Area</td></tr><tr><td>George Zidek</td><td>Center(C), Restricted Area</td><td>Center(C), In The Paint (Non-RA)</td></tr><tr><td>Georges Niang</td><td>Left Side Center(LC), Above the Break 3</td><td>Center(C), Restricted Area</td></tr><tr><td>Georgios Papagiannis</td><td>Center(C), Restricted Area</td><td>Center(C), Restricted Area</td></tr><tr><td>Gerald Green</td><td>Center(C), Restricted Area</td><td>Center(C), Restricted Area</td></tr><tr><td>Gerald Wallace</td><td>Center(C), Restricted Area</td><td>Center(C), Restricted Area</td></tr><tr><td>Gerald Wilkins</td><td>Center(C), Restricted Area</td><td>Center(C), Restricted Area</td></tr><tr><td>Gerard King</td><td>Center(C), Restricted Area</td><td>Center(C), Restricted Area</td></tr><tr><td>Gheorghe Muresan</td><td>Center(C), Restricted Area</td><td>Center(C), Restricted Area</td></tr><tr><td>Giannis Antetokounmpo</td><td>Center(C), Restricted Area</td><td>Center(C), Restricted Area</td></tr><tr><td>Gilbert Arenas</td><td>Center(C), Restricted Area</td><td>Center(C), Restricted Area</td></tr><tr><td>Glen Davis</td><td>Center(C), Restricted Area</td><td>Center(C), Restricted Area</td></tr><tr><td>Glen Rice</td><td>Center(C), Restricted Area</td><td>Center(C), Restricted Area</td></tr><tr><td>Glenn Robinson</td><td>Left Side(L), Mid-Range</td><td>Center(C), Restricted Area</td></tr><tr><td>Glenn Robinson III</td><td>Center(C), Restricted Area</td><td>Center(C), Restricted Area</td></tr><tr><td>God Shammgod</td><td>Center(C), Restricted Area</td><td>Center(C), Restricted Area</td></tr><tr><td>Goga Bitadze</td><td>Center(C), Restricted Area</td><td>Center(C), Restricted Area</td></tr><tr><td>Goran Dragic</td><td>Center(C), Restricted Area</td><td>Center(C), Restricted Area</td></tr><tr><td>Gordan Giricek</td><td>Center(C), Restricted Area</td><td>Center(C), Restricted Area</td></tr><tr><td>Gordon Hayward</td><td>Center(C), Restricted Area</td><td>Center(C), Restricted Area</td></tr><tr><td>Gorgui Dieng</td><td>Center(C), Restricted Area</td><td>Center(C), Restricted Area</td></tr><tr><td>Grant Hill</td><td>Center(C), Restricted Area</td><td>Center(C), Restricted Area</td></tr><tr><td>Grant Long</td><td>Center(C), Restricted Area</td><td>Center(C), Restricted Area</td></tr><tr><td>Grant Williams</td><td>Center(C), Restricted Area</td><td>Center(C), Restricted Area</td></tr><tr><td>Grayson Allen</td><td>Left Side Center(LC), Above the Break 3</td><td>Center(C), Restricted Area</td></tr><tr><td>Greg Anderson</td><td>Center(C), Restricted Area</td><td>Center(C), Restricted Area</td></tr><tr><td>Greg Anthony</td><td>Center(C), Restricted Area</td><td>Center(C), Restricted Area</td></tr><tr><td>Greg Brown III</td><td>Center(C), Restricted Area</td><td>Center(C), Restricted Area</td></tr><tr><td>Greg Buckner</td><td>Center(C), Restricted Area</td><td>Center(C), Restricted Area</td></tr><tr><td>Greg Foster</td><td>Center(C), Restricted Area</td><td>Center(C), Restricted Area</td></tr><tr><td>Greg Graham</td><td>Center(C), Restricted Area</td><td>Center(C), Restricted Area</td></tr><tr><td>Greg Minor</td><td>Center(C), Restricted Area</td><td>Center(C), Mid-Range</td></tr><tr><td>Greg Monroe</td><td>Center(C), Restricted Area</td><td>Center(C), Restricted Area</td></tr><tr><td>Greg Oden</td><td>Center(C), Restricted Area</td><td>Center(C), Restricted Area</td></tr><tr><td>Greg Ostertag</td><td>Center(C), Restricted Area</td><td>Center(C), Restricted Area</td></tr><tr><td>Greg Stiemsma</td><td>Center(C), Restricted Area</td><td>Center(C), Restricted Area</td></tr><tr><td>Greivis Vasquez</td><td>Center(C), Restricted Area</td><td>Center(C), Restricted Area</td></tr><tr><td>Guerschon Yabusele</td><td>Center(C), Restricted Area</td><td>Center(C), Restricted Area</td></tr><tr><td>Gustavo Ayon</td><td>Center(C), Restricted Area</td><td>Center(C), Restricted Area</td></tr><tr><td>Ha Ha</td><td>Center(C), Restricted Area</td><td>Center(C), Restricted Area</td></tr><tr><td>Hakeem Olajuwon</td><td>Center(C), Restricted Area</td><td>Center(C), Restricted Area</td></tr><tr><td>Hakim Warrick</td><td>Center(C), Restricted Area</td><td>Center(C), Restricted Area</td></tr><tr><td>Hamed Haddadi</td><td>Center(C), Restricted Area</td><td>Center(C), Restricted Area</td></tr><tr><td>Hamidou Diallo</td><td>Center(C), Restricted Area</td><td>Center(C), Restricted Area</td></tr><tr><td>Hanno Mottola</td><td>Center(C), Restricted Area</td><td>Center(C), Restricted Area</td></tr><tr><td>Harold Ellis</td><td>Center(C), Restricted Area</td><td>Center(C), Restricted Area</td></tr><tr><td>Harold Jamison</td><td>Center(C), Restricted Area</td><td>Center(C), Restricted Area</td></tr><tr><td>Harrison Barnes</td><td>Center(C), Restricted Area</td><td>Center(C), Restricted Area</td></tr><tr><td>Harry Giles III</td><td>Center(C), Restricted Area</td><td>Center(C), Restricted Area</td></tr><tr><td>Harvey Grant</td><td>Center(C), Restricted Area</td><td>Center(C), Restricted Area</td></tr><tr><td>Hasheem Thabeet</td><td>Center(C), Restricted Area</td><td>Center(C), Restricted Area</td></tr><tr><td>Hassan Adams</td><td>Center(C), Restricted Area</td><td>Center(C), Restricted Area</td></tr><tr><td>Hassan Whiteside</td><td>Center(C), Restricted Area</td><td>Center(C), Restricted Area</td></tr><tr><td>Haywoode Workman</td><td>Center(C), Restricted Area</td><td>Center(C), Restricted Area</td></tr><tr><td>Hedo Turkoglu</td><td>Center(C), Restricted Area</td><td>Center(C), Restricted Area</td></tr><tr><td>Henry Ellenson</td><td>Center(C), Restricted Area</td><td>Center(C), Restricted Area</td></tr><tr><td>Henry James</td><td>Right Side(R), Mid-Range</td><td>Right Side(R), Mid-Range</td></tr><tr><td>Henry Sims</td><td>Center(C), Restricted Area</td><td>Center(C), Restricted Area</td></tr><tr><td>Henry Walker</td><td>Left Side Center(LC), Above the Break 3</td><td>Center(C), Restricted Area</td></tr><tr><td>Herb Williams</td><td>Right Side(R), Mid-Range</td><td>Right Side(R), Mid-Range</td></tr><tr><td>Herbert Jones</td><td>Center(C), Restricted Area</td><td>Center(C), Restricted Area</td></tr><tr><td>Hersey Hawkins</td><td>Center(C), Restricted Area</td><td>Center(C), Restricted Area</td></tr><tr><td>Hilton Armstrong</td><td>Center(C), Restricted Area</td><td>Center(C), Restricted Area</td></tr><tr><td>Hollis Thompson</td><td>Center(C), Restricted Area</td><td>Center(C), Restricted Area</td></tr><tr><td>Horace Grant</td><td>Center(C), Restricted Area</td><td>Center(C), Restricted Area</td></tr><tr><td>Hot Rod Williams</td><td>Center(C), Restricted Area</td><td>Center(C), Restricted Area</td></tr><tr><td>Howard Eisley</td><td>Center(C), Restricted Area</td><td>Center(C), Restricted Area</td></tr><tr><td>Hubert Davis</td><td>Right Side Center(RC), Above the Break 3</td><td>Center(C), Restricted Area</td></tr><tr><td>Ian Clark</td><td>Center(C), Restricted Area</td><td>Center(C), Restricted Area</td></tr><tr><td>Ian Mahinmi</td><td>Center(C), Restricted Area</td><td>Center(C), Restricted Area</td></tr><tr><td>Ignas Brazdeikis</td><td>Center(C), Restricted Area</td><td>Center(C), Restricted Area</td></tr><tr><td>Ike Diogu</td><td>Center(C), Restricted Area</td><td>Center(C), Restricted Area</td></tr><tr><td>Iman Shumpert</td><td>Center(C), Restricted Area</td><td>Center(C), Restricted Area</td></tr><tr><td>Ime Udoka</td><td>Center(C), Restricted Area</td><td>Center(C), Restricted Area</td></tr><tr><td>Immanuel Quickley</td><td>Center(C), In The Paint (Non-RA)</td><td>Center(C), Restricted Area</td></tr><tr><td>Ira Newble</td><td>Center(C), Restricted Area</td><td>Center(C), Restricted Area</td></tr><tr><td>Isaac Bonga</td><td>Center(C), Restricted Area</td><td>Center(C), Restricted Area</td></tr><tr><td>Isaac Okoro</td><td>Center(C), Restricted Area</td><td>Center(C), Restricted Area</td></tr><tr><td>Isaiah Briscoe</td><td>Center(C), Restricted Area</td><td>Center(C), Restricted Area</td></tr><tr><td>Isaiah Canaan</td><td>Left Side Center(LC), Above the Break 3</td><td>Left Side(L), Left Corner 3</td></tr><tr><td>Isaiah Hartenstein</td><td>Center(C), Restricted Area</td><td>Center(C), Restricted Area</td></tr><tr><td>Isaiah Hicks</td><td>Center(C), Restricted Area</td><td>Center(C), Restricted Area</td></tr><tr><td>Isaiah Jackson</td><td>Center(C), Restricted Area</td><td>Center(C), Restricted Area</td></tr><tr><td>Isaiah Joe</td><td>Left Side Center(LC), Above the Break 3</td><td>Center(C), Above the Break 3</td></tr><tr><td>Isaiah Rider</td><td>Center(C), Restricted Area</td><td>Center(C), Restricted Area</td></tr><tr><td>Isaiah Roby</td><td>Center(C), Restricted Area</td><td>Center(C), Restricted Area</td></tr><tr><td>Isaiah Stewart</td><td>Center(C), Restricted Area</td><td>Center(C), Restricted Area</td></tr><tr><td>Isaiah Taylor</td><td>Center(C), Restricted Area</td><td>Center(C), Restricted Area</td></tr><tr><td>Isaiah Thomas</td><td>Center(C), Restricted Area</td><td>Center(C), Restricted Area</td></tr><tr><td>Isaiah Whitehead</td><td>Center(C), Restricted Area</td><td>Center(C), Restricted Area</td></tr><tr><td>Ish Smith</td><td>Center(C), Restricted Area</td><td>Center(C), Restricted Area</td></tr><tr><td>Ivan Johnson</td><td>Center(C), Restricted Area</td><td>Center(C), Restricted Area</td></tr><tr><td>Ivan Rabb</td><td>Center(C), Restricted Area</td><td>Center(C), Restricted Area</td></tr><tr><td>Ivano Newbill</td><td>Center(C), Restricted Area</td><td>Center(C), Restricted Area</td></tr><tr><td>Ivica Zubac</td><td>Center(C), Restricted Area</td><td>Center(C), Restricted Area</td></tr><tr><td>J.J. Barea</td><td>Center(C), Restricted Area</td><td>Center(C), Restricted Area</td></tr><tr><td>J.R. Bremer</td><td>Center(C), Restricted Area</td><td>Left Side(L), Left Corner 3</td></tr><tr><td>J.R. Giddens</td><td>Center(C), Restricted Area</td><td>Center(C), Restricted Area</td></tr><tr><td>J.R. Henderson</td><td>Center(C), Restricted Area</td><td>Center(C), Restricted Area</td></tr><tr><td>J.R. Reid</td><td>Right Side(R), Mid-Range</td><td>Center(C), Restricted Area</td></tr><tr><td>JJ Hickson</td><td>Center(C), Restricted Area</td><td>Center(C), Restricted Area</td></tr><tr><td>JJ Redick</td><td>Right Side Center(RC), Above the Break 3</td><td>Center(C), Restricted Area</td></tr><tr><td>JR Smith</td><td>Left Side Center(LC), Above the Break 3</td><td>Center(C), Restricted Area</td></tr><tr><td>Ja Morant</td><td>Center(C), Restricted Area</td><td>Center(C), Restricted Area</td></tr><tr><td>JaJuan Johnson</td><td>Center(C), Restricted Area</td><td>Center(C), Restricted Area</td></tr><tr><td>JaKarr Sampson</td><td>Center(C), Restricted Area</td><td>Center(C), Restricted Area</td></tr><tr><td>JaMychal Green</td><td>Center(C), Restricted Area</td><td>Center(C), Restricted Area</td></tr><tr><td>JaVale McGee</td><td>Center(C), Restricted Area</td><td>Center(C), Restricted Area</td></tr><tr><td>Jabari Brown</td><td>Center(C), Restricted Area</td><td>Center(C), Restricted Area</td></tr><tr><td>Jabari Parker</td><td>Center(C), Restricted Area</td><td>Center(C), Restricted Area</td></tr><tr><td>Jabari Smith</td><td>Center(C), Restricted Area</td><td>Right Side Center(RC), Mid-Range</td></tr><tr><td>Jackie Butler</td><td>Center(C), Restricted Area</td><td>Center(C), Restricted Area</td></tr><tr><td>Jackson Vroman</td><td>Center(C), Restricted Area</td><td>Center(C), Restricted Area</td></tr><tr><td>Jacque Vaughn</td><td>Center(C), Restricted Area</td><td>Center(C), Restricted Area</td></tr><tr><td>Jaden McDaniels</td><td>Center(C), Restricted Area</td><td>Center(C), Restricted Area</td></tr><tr><td>Jae Crowder</td><td>Center(C), Restricted Area</td><td>Center(C), Restricted Area</td></tr><tr><td>Jae'Sean Tate</td><td>Center(C), Restricted Area</td><td>Center(C), Restricted Area</td></tr><tr><td>Jahidi White</td><td>Center(C), Restricted Area</td><td>Center(C), Restricted Area</td></tr><tr><td>Jahlil Okafor</td><td>Center(C), Restricted Area</td><td>Center(C), Restricted Area</td></tr><tr><td>Jahmi'us Ramsey</td><td>Center(C), Restricted Area</td><td>Center(C), Restricted Area</td></tr><tr><td>Jake Layman</td><td>Center(C), Restricted Area</td><td>Center(C), Restricted Area</td></tr><tr><td>Jake Tsakalidis</td><td>Center(C), Restricted Area</td><td>Center(C), Restricted Area</td></tr><tr><td>Jake Voskuhl</td><td>Center(C), Restricted Area</td><td>Center(C), Restricted Area</td></tr><tr><td>Jakob Poeltl</td><td>Center(C), Restricted Area</td><td>Center(C), Restricted Area</td></tr><tr><td>Jalen Brunson</td><td>Center(C), In The Paint (Non-RA)</td><td>Center(C), Restricted Area</td></tr><tr><td>Jalen Green</td><td>Center(C), Restricted Area</td><td>Center(C), Restricted Area</td></tr><tr><td>Jalen Jones</td><td>Center(C), Restricted Area</td><td>Center(C), Restricted Area</td></tr><tr><td>Jalen McDaniels</td><td>Center(C), Restricted Area</td><td>Center(C), Restricted Area</td></tr><tr><td>Jalen Rose</td><td>Right Side(R), Mid-Range</td><td>Center(C), Restricted Area</td></tr><tr><td>Jalen Smith</td><td>Center(C), Restricted Area</td><td>Center(C), Restricted Area</td></tr><tr><td>Jalen Suggs</td><td>Center(C), Restricted Area</td><td>Center(C), Restricted Area</td></tr><tr><td>Jamaal Magloire</td><td>Center(C), Restricted Area</td><td>Center(C), Restricted Area</td></tr><tr><td>Jamaal Tinsley</td><td>Center(C), Restricted Area</td><td>Center(C), Restricted Area</td></tr><tr><td>Jamal Crawford</td><td>Center(C), Restricted Area</td><td>Center(C), Restricted Area</td></tr><tr><td>Jamal Mashburn</td><td>Center(C), Restricted Area</td><td>Center(C), Restricted Area</td></tr><tr><td>Jamal Murray</td><td>Center(C), Restricted Area</td><td>Center(C), Restricted Area</td></tr><tr><td>Jamal Sampson</td><td>Center(C), Restricted Area</td><td>Center(C), Restricted Area</td></tr><tr><td>Jamario Moon</td><td>Center(C), Restricted Area</td><td>Center(C), Restricted Area</td></tr><tr><td>Jameer Nelson</td><td>Center(C), Restricted Area</td><td>Center(C), Restricted Area</td></tr><tr><td>James Anderson</td><td>Center(C), Restricted Area</td><td>Center(C), Restricted Area</td></tr><tr><td>James Bouknight</td><td>Center(C), Restricted Area</td><td>Center(C), Restricted Area</td></tr><tr><td>James Ennis III</td><td>Center(C), Restricted Area</td><td>Center(C), Restricted Area</td></tr><tr><td>James Harden</td><td>Center(C), Restricted Area</td><td>Center(C), Restricted Area</td></tr><tr><td>James Johnson</td><td>Center(C), Restricted Area</td><td>Center(C), Restricted Area</td></tr><tr><td>James Jones</td><td>Right Side Center(RC), Above the Break 3</td><td>Center(C), Restricted Area</td></tr><tr><td>James Michael McAdoo</td><td>Center(C), Restricted Area</td><td>Center(C), Restricted Area</td></tr><tr><td>James Posey</td><td>Center(C), Restricted Area</td><td>Center(C), Restricted Area</td></tr><tr><td>James Robinson</td><td>Center(C), Restricted Area</td><td>Center(C), Restricted Area</td></tr><tr><td>James Singleton</td><td>Center(C), Restricted Area</td><td>Center(C), Restricted Area</td></tr><tr><td>James Thomas</td><td>Center(C), Restricted Area</td><td>Center(C), Restricted Area</td></tr><tr><td>James White</td><td>Center(C), Restricted Area</td><td>Center(C), Restricted Area</td></tr><tr><td>James Wiseman</td><td>Center(C), Restricted Area</td><td>Center(C), Restricted Area</td></tr><tr><td>James Young</td><td>Right Side Center(RC), Above the Break 3</td><td>Center(C), Restricted Area</td></tr><tr><td>Jamie Feick</td><td>Center(C), Restricted Area</td><td>Center(C), Mid-Range</td></tr><tr><td>Jamie Watson</td><td>Center(C), Restricted Area</td><td>Center(C), Restricted Area</td></tr><tr><td>Jamison Brewer</td><td>Center(C), Restricted Area</td><td>Center(C), Restricted Area</td></tr><tr><td>Jan Vesely</td><td>Center(C), Restricted Area</td><td>Center(C), Restricted Area</td></tr><tr><td>Jannero Pargo</td><td>Left Side(L), Mid-Range</td><td>Center(C), Restricted Area</td></tr><tr><td>Jared Butler</td><td>Right Side Center(RC), Above the Break 3</td><td>Right Side Center(RC), Above the Break 3</td></tr><tr><td>Jared Cunningham</td><td>Center(C), Restricted Area</td><td>Center(C), Restricted Area</td></tr><tr><td>Jared Dudley</td><td>Center(C), Restricted Area</td><td>Center(C), Restricted Area</td></tr><tr><td>Jared Jeffries</td><td>Center(C), Restricted Area</td><td>Center(C), Restricted Area</td></tr><tr><td>Jared Reiner</td><td>Center(C), Restricted Area</td><td>Center(C), Restricted Area</td></tr><tr><td>Jared Sullinger</td><td>Center(C), Restricted Area</td><td>Center(C), Restricted Area</td></tr><tr><td>Jarell Martin</td><td>Center(C), Restricted Area</td><td>Center(C), Restricted Area</td></tr><tr><td>Jaren Jackson</td><td>Left Side Center(LC), Above the Break 3</td><td>Center(C), Restricted Area</td></tr><tr><td>Jaren Jackson Jr.</td><td>Center(C), Restricted Area</td><td>Center(C), Restricted Area</td></tr><tr><td>Jaron Blossomgame</td><td>Center(C), Restricted Area</td><td>Center(C), Restricted Area</td></tr><tr><td>Jarred Vanderbilt</td><td>Center(C), Restricted Area</td><td>Center(C), Restricted Area</td></tr><tr><td>Jarrett Allen</td><td>Center(C), Restricted Area</td><td>Center(C), Restricted Area</td></tr><tr><td>Jarrett Culver</td><td>Center(C), Restricted Area</td><td>Center(C), Restricted Area</td></tr><tr><td>Jarrett Jack</td><td>Center(C), Restricted Area</td><td>Center(C), Restricted Area</td></tr><tr><td>Jarron Collins</td><td>Center(C), Restricted Area</td><td>Center(C), Restricted Area</td></tr><tr><td>Jarvis Hayes</td><td>Center(C), Restricted Area</td><td>Center(C), Restricted Area</td></tr><tr><td>Jason Caffey</td><td>Center(C), Restricted Area</td><td>Center(C), Restricted Area</td></tr><tr><td>Jason Collier</td><td>Center(C), Restricted Area</td><td>Center(C), Restricted Area</td></tr><tr><td>Jason Collins</td><td>Center(C), Restricted Area</td><td>Center(C), Restricted Area</td></tr><tr><td>Jason Hart</td><td>Center(C), Restricted Area</td><td>Center(C), Restricted Area</td></tr><tr><td>Jason Kapono</td><td>Right Side(R), Mid-Range</td><td>Center(C), Restricted Area</td></tr><tr><td>Jason Kidd</td><td>Center(C), Restricted Area</td><td>Center(C), Restricted Area</td></tr><tr><td>Jason Maxiell</td><td>Center(C), Restricted Area</td><td>Center(C), Restricted Area</td></tr><tr><td>Jason Richardson</td><td>Center(C), Restricted Area</td><td>Center(C), Restricted Area</td></tr><tr><td>Jason Smith</td><td>Center(C), Restricted Area</td><td>Center(C), Restricted Area</td></tr><tr><td>Jason Terry</td><td>Center(C), Restricted Area</td><td>Center(C), Restricted Area</td></tr><tr><td>Jason Thompson</td><td>Center(C), Restricted Area</td><td>Center(C), Restricted Area</td></tr><tr><td>Jason Williams</td><td>Center(C), Restricted Area</td><td>Center(C), Restricted Area</td></tr><tr><td>Javaris Crittenton</td><td>Center(C), Restricted Area</td><td>Center(C), Restricted Area</td></tr><tr><td>Javonte Green</td><td>Center(C), Restricted Area</td><td>Center(C), Restricted Area</td></tr><tr><td>Jawad Williams</td><td>Center(C), Restricted Area</td><td>Center(C), Restricted Area</td></tr><tr><td>Jawun Evans</td><td>Center(C), Restricted Area</td><td>Center(C), Restricted Area</td></tr><tr><td>Jaxson Hayes</td><td>Center(C), Restricted Area</td><td>Center(C), Restricted Area</td></tr><tr><td>Jay Williams</td><td>Center(C), Restricted Area</td><td>Center(C), Restricted Area</td></tr><tr><td>Jaylen Brown</td><td>Center(C), Restricted Area</td><td>Center(C), Restricted Area</td></tr><tr><td>Jaylen Hoard</td><td>Center(C), Restricted Area</td><td>Center(C), Restricted Area</td></tr><tr><td>Jaylen Nowell</td><td>Center(C), Restricted Area</td><td>Center(C), Restricted Area</td></tr><tr><td>Jayson Tatum</td><td>Center(C), Restricted Area</td><td>Center(C), Restricted Area</td></tr><tr><td>Jayson Williams</td><td>Center(C), Restricted Area</td><td>Center(C), Restricted Area</td></tr><tr><td>Jeff Adrien</td><td>Center(C), Restricted Area</td><td>Center(C), Restricted Area</td></tr><tr><td>Jeff Ayres</td><td>Center(C), Restricted Area</td><td>Center(C), Restricted Area</td></tr><tr><td>Jeff Foster</td><td>Center(C), Restricted Area</td><td>Center(C), Restricted Area</td></tr><tr><td>Jeff Grayer</td><td>Center(C), Restricted Area</td><td>Center(C), Restricted Area</td></tr><tr><td>Jeff Green</td><td>Center(C), Restricted Area</td><td>Center(C), Restricted Area</td></tr><tr><td>Jeff Hornacek</td><td>Center(C), Restricted Area</td><td>Right Side(R), Right Corner 3</td></tr><tr><td>Jeff McInnis</td><td>Center(C), In The Paint (Non-RA)</td><td>Center(C), Restricted Area</td></tr><tr><td>Jeff Teague</td><td>Center(C), Restricted Area</td><td>Center(C), Restricted Area</td></tr><tr><td>Jeff Trepagnier</td><td>Center(C), Restricted Area</td><td>Center(C), Restricted Area</td></tr><tr><td>Jeff Withey</td><td>Center(C), Restricted Area</td><td>Center(C), Restricted Area</td></tr><tr><td>Jelani McCoy</td><td>Center(C), Restricted Area</td><td>Center(C), Restricted Area</td></tr><tr><td>Jerald Honeycutt</td><td>Center(C), Restricted Area</td><td>Center(C), Restricted Area</td></tr><tr><td>Jerami Grant</td><td>Center(C), Restricted Area</td><td>Center(C), Restricted Area</td></tr><tr><td>Jeremiah Martin</td><td>Center(C), Restricted Area</td><td>Center(C), Restricted Area</td></tr><tr><td>Jeremiah Robinson-Earl</td><td>Center(C), Restricted Area</td><td>Center(C), Restricted Area</td></tr><tr><td>Jeremy Evans</td><td>Center(C), Restricted Area</td><td>Center(C), Restricted Area</td></tr><tr><td>Jeremy Lamb</td><td>Center(C), Restricted Area</td><td>Center(C), Restricted Area</td></tr><tr><td>Jeremy Lin</td><td>Center(C), Restricted Area</td><td>Center(C), Restricted Area</td></tr><tr><td>Jeremy Pargo</td><td>Center(C), Restricted Area</td><td>Center(C), Restricted Area</td></tr><tr><td>Jeremy Tyler</td><td>Center(C), Restricted Area</td><td>Center(C), Restricted Area</td></tr><tr><td>Jerian Grant</td><td>Center(C), Restricted Area</td><td>Center(C), Restricted Area</td></tr><tr><td>Jericho Sims</td><td>Center(C), Restricted Area</td><td>Center(C), Restricted Area</td></tr><tr><td>Jermaine Jackson</td><td>Center(C), Restricted Area</td><td>Center(C), Restricted Area</td></tr><tr><td>Jermaine O'Neal</td><td>Center(C), Restricted Area</td><td>Center(C), Restricted Area</td></tr><tr><td>Jermaine Taylor</td><td>Center(C), Restricted Area</td><td>Center(C), Restricted Area</td></tr><tr><td>Jermareo Davidson</td><td>Center(C), Restricted Area</td><td>Center(C), Restricted Area</td></tr><tr><td>Jerome Allen</td><td>Center(C), Restricted Area</td><td>Center(C), Restricted Area</td></tr><tr><td>Jerome James</td><td>Center(C), Restricted Area</td><td>Center(C), Restricted Area</td></tr><tr><td>Jerome Jordan</td><td>Center(C), Restricted Area</td><td>Center(C), Restricted Area</td></tr><tr><td>Jerome Kersey</td><td>Center(C), Restricted Area</td><td>Center(C), Restricted Area</td></tr><tr><td>Jerome Moiso</td><td>Center(C), Restricted Area</td><td>Center(C), Restricted Area</td></tr><tr><td>Jerome Robinson</td><td>Left Side Center(LC), Above the Break 3</td><td>Center(C), Restricted Area</td></tr><tr><td>Jerome Williams</td><td>Center(C), Restricted Area</td><td>Center(C), Restricted Area</td></tr><tr><td>Jerry Stackhouse</td><td>Center(C), Restricted Area</td><td>Center(C), Restricted Area</td></tr><tr><td>Jerryd Bayless</td><td>Center(C), Restricted Area</td><td>Center(C), Restricted Area</td></tr><tr><td>Jeryl Sasser</td><td>Center(C), Restricted Area</td><td>Center(C), Restricted Area</td></tr><tr><td>Jevon Carter</td><td>Right Side Center(RC), Above the Break 3</td><td>Right Side(R), Right Corner 3</td></tr><tr><td>Jim Jackson</td><td>Center(C), Restricted Area</td><td>Center(C), Restricted Area</td></tr><tr><td>Jim McIlvaine</td><td>Center(C), Restricted Area</td><td>Center(C), Restricted Area</td></tr><tr><td>Jimmer Fredette</td><td>Center(C), In The Paint (Non-RA)</td><td>Center(C), Restricted Area</td></tr><tr><td>Jimmy Butler</td><td>Center(C), Restricted Area</td><td>Center(C), Restricted Area</td></tr><tr><td>Jiri Welsch</td><td>Center(C), Restricted Area</td><td>Center(C), Restricted Area</td></tr><tr><td>Joakim Noah</td><td>Center(C), Restricted Area</td><td>Center(C), Restricted Area</td></tr><tr><td>Jock Landale</td><td>Center(C), Restricted Area</td><td>Center(C), Restricted Area</td></tr><tr><td>Jodie Meeks</td><td>Left Side Center(LC), Above the Break 3</td><td>Center(C), Restricted Area</td></tr><tr><td>Joe Alexander</td><td>Center(C), Restricted Area</td><td>Center(C), Restricted Area</td></tr><tr><td>Joe Dumars</td><td>Left Side(L), Mid-Range</td><td>Left Side(L), In The Paint (Non-RA)</td></tr><tr><td>Joe Harris</td><td>Center(C), Restricted Area</td><td>Center(C), Restricted Area</td></tr><tr><td>Joe Ingles</td><td>Right Side Center(RC), Above the Break 3</td><td>Center(C), Restricted Area</td></tr><tr><td>Joe Johnson</td><td>Center(C), In The Paint (Non-RA)</td><td>Center(C), Restricted Area</td></tr><tr><td>Joe Kleine</td><td>Center(C), Restricted Area</td><td>Center(C), Restricted Area</td></tr><tr><td>Joe Smith</td><td>Center(C), Restricted Area</td><td>Center(C), Restricted Area</td></tr><tr><td>Joe Wolf</td><td>Right Side(R), Mid-Range</td><td>Right Side(R), Mid-Range</td></tr><tr><td>Joe Young</td><td>Center(C), Restricted Area</td><td>Center(C), Mid-Range</td></tr><tr><td>Joel Anthony</td><td>Center(C), Restricted Area</td><td>Center(C), Restricted Area</td></tr><tr><td>Joel Embiid</td><td>Center(C), Restricted Area</td><td>Center(C), Restricted Area</td></tr><tr><td>Joel Freeland</td><td>Center(C), Restricted Area</td><td>Center(C), Restricted Area</td></tr><tr><td>Joel Przybilla</td><td>Center(C), Restricted Area</td><td>Center(C), Restricted Area</td></tr><tr><td>Joey Dorsey</td><td>Center(C), Restricted Area</td><td>Center(C), Restricted Area</td></tr><tr><td>Joey Graham</td><td>Center(C), Restricted Area</td><td>Center(C), Restricted Area</td></tr><tr><td>Joffrey Lauvergne</td><td>Center(C), Restricted Area</td><td>Center(C), Restricted Area</td></tr><tr><td>Johan Petro</td><td>Center(C), Restricted Area</td><td>Center(C), Restricted Area</td></tr><tr><td>John Amaechi</td><td>Center(C), Restricted Area</td><td>Center(C), Restricted Area</td></tr><tr><td>John Collins</td><td>Center(C), Restricted Area</td><td>Center(C), Restricted Area</td></tr><tr><td>John Crotty</td><td>Center(C), Restricted Area</td><td>Left Side Center(LC), Mid-Range</td></tr><tr><td>John Edwards</td><td>Center(C), Restricted Area</td><td>Center(C), Restricted Area</td></tr><tr><td>John Henson</td><td>Center(C), Restricted Area</td><td>Center(C), Restricted Area</td></tr><tr><td>John Jenkins</td><td>Center(C), Restricted Area</td><td>Center(C), Restricted Area</td></tr><tr><td>John Konchar</td><td>Center(C), Restricted Area</td><td>Center(C), Restricted Area</td></tr><tr><td>John Lucas III</td><td>Right Side Center(RC), Above the Break 3</td><td>Center(C), Restricted Area</td></tr><tr><td>John Salmons</td><td>Center(C), Restricted Area</td><td>Center(C), Restricted Area</td></tr><tr><td>John Starks</td><td>Center(C), Restricted Area</td><td>Center(C), Restricted Area</td></tr><tr><td>John Stockton</td><td>Center(C), Restricted Area</td><td>Center(C), Restricted Area</td></tr><tr><td>John Thomas</td><td>Center(C), Restricted Area</td><td>Center(C), Restricted Area</td></tr><tr><td>John Wall</td><td>Center(C), Restricted Area</td><td>Center(C), Restricted Area</td></tr><tr><td>John Wallace</td><td>Center(C), Restricted Area</td><td>Center(C), Restricted Area</td></tr><tr><td>Johnathan Motley</td><td>Center(C), Restricted Area</td><td>Center(C), Restricted Area</td></tr><tr><td>Johnathan Williams</td><td>Center(C), Restricted Area</td><td>Center(C), Restricted Area</td></tr><tr><td>Johnny Newman</td><td>Center(C), Restricted Area</td><td>Center(C), Restricted Area</td></tr><tr><td>Johnny O'Bryant III</td><td>Center(C), Restricted Area</td><td>Center(C), Restricted Area</td></tr><tr><td>Johnny Taylor</td><td>Center(C), Restricted Area</td><td>Center(C), Restricted Area</td></tr><tr><td>Jon Barry</td><td>Center(C), Restricted Area</td><td>Center(C), Restricted Area</td></tr><tr><td>Jon Brockman</td><td>Center(C), Restricted Area</td><td>Center(C), Restricted Area</td></tr><tr><td>Jon Leuer</td><td>Center(C), Restricted Area</td><td>Center(C), Restricted Area</td></tr><tr><td>Jonah Bolden</td><td>Center(C), Restricted Area</td><td>Center(C), Restricted Area</td></tr><tr><td>Jonas Jerebko</td><td>Center(C), Restricted Area</td><td>Center(C), Restricted Area</td></tr><tr><td>Jonas Valanciunas</td><td>Center(C), Restricted Area</td><td>Center(C), Restricted Area</td></tr><tr><td>Jonathan Bender</td><td>Center(C), Restricted Area</td><td>Center(C), Restricted Area</td></tr><tr><td>Jonathan Isaac</td><td>Center(C), Restricted Area</td><td>Center(C), Restricted Area</td></tr><tr><td>Jonathan Kuminga</td><td>Center(C), Restricted Area</td><td>Center(C), Restricted Area</td></tr><tr><td>Jonathon Simmons</td><td>Center(C), Restricted Area</td><td>Center(C), Restricted Area</td></tr><tr><td>Jonny Flynn</td><td>Center(C), Restricted Area</td><td>Center(C), Restricted Area</td></tr><tr><td>Jordan Bell</td><td>Center(C), Restricted Area</td><td>Center(C), Restricted Area</td></tr><tr><td>Jordan Clarkson</td><td>Center(C), Restricted Area</td><td>Center(C), Restricted Area</td></tr><tr><td>Jordan Crawford</td><td>Center(C), Restricted Area</td><td>Center(C), Restricted Area</td></tr><tr><td>Jordan Farmar</td><td>Center(C), Restricted Area</td><td>Center(C), Restricted Area</td></tr><tr><td>Jordan Hamilton</td><td>Center(C), Restricted Area</td><td>Center(C), Restricted Area</td></tr><tr><td>Jordan Hill</td><td>Center(C), Restricted Area</td><td>Center(C), Restricted Area</td></tr><tr><td>Jordan McLaughlin</td><td>Center(C), Restricted Area</td><td>Center(C), Restricted Area</td></tr><tr><td>Jordan McRae</td><td>Center(C), Restricted Area</td><td>Center(C), Restricted Area</td></tr><tr><td>Jordan Mickey</td><td>Center(C), Restricted Area</td><td>Center(C), Restricted Area</td></tr><tr><td>Jordan Nwora</td><td>Center(C), Restricted Area</td><td>Center(C), Restricted Area</td></tr><tr><td>Jordan Poole</td><td>Right Side Center(RC), Above the Break 3</td><td>Center(C), Restricted Area</td></tr><tr><td>Jordan Williams</td><td>Center(C), Restricted Area</td><td>Center(C), Restricted Area</td></tr><tr><td>Jorge Garbajosa</td><td>Left Side Center(LC), Above the Break 3</td><td>Center(C), Restricted Area</td></tr><tr><td>Jorge Gutierrez</td><td>Center(C), Restricted Area</td><td>Center(C), Restricted Area</td></tr><tr><td>Jose Alvarado</td><td>Center(C), Restricted Area</td><td>Center(C), Restricted Area</td></tr><tr><td>Jose Calderon</td><td>Center(C), Restricted Area</td><td>Center(C), Restricted Area</td></tr><tr><td>Josh Boone</td><td>Center(C), Restricted Area</td><td>Center(C), Restricted Area</td></tr><tr><td>Josh Childress</td><td>Center(C), Restricted Area</td><td>Center(C), Restricted Area</td></tr><tr><td>Josh Christopher</td><td>Center(C), Restricted Area</td><td>Center(C), Restricted Area</td></tr><tr><td>Josh Davis</td><td>Center(C), Restricted Area</td><td>Center(C), Restricted Area</td></tr><tr><td>Josh Giddey</td><td>Center(C), In The Paint (Non-RA)</td><td>Center(C), Restricted Area</td></tr><tr><td>Josh Green</td><td>Center(C), Restricted Area</td><td>Center(C), Restricted Area</td></tr><tr><td>Josh Harrellson</td><td>Center(C), Restricted Area</td><td>Center(C), Restricted Area</td></tr><tr><td>Josh Hart</td><td>Center(C), Restricted Area</td><td>Center(C), Restricted Area</td></tr><tr><td>Josh Howard</td><td>Center(C), Restricted Area</td><td>Center(C), Restricted Area</td></tr><tr><td>Josh Huestis</td><td>Center(C), Restricted Area</td><td>Center(C), Restricted Area</td></tr><tr><td>Josh Jackson</td><td>Center(C), Restricted Area</td><td>Center(C), Restricted Area</td></tr><tr><td>Josh McRoberts</td><td>Center(C), Restricted Area</td><td>Center(C), Restricted Area</td></tr><tr><td>Josh Okogie</td><td>Center(C), Restricted Area</td><td>Center(C), Restricted Area</td></tr><tr><td>Josh Powell</td><td>Center(C), Restricted Area</td><td>Center(C), Restricted Area</td></tr><tr><td>Josh Richardson</td><td>Center(C), Restricted Area</td><td>Center(C), Restricted Area</td></tr><tr><td>Josh Selby</td><td>Center(C), Restricted Area</td><td>Center(C), Restricted Area</td></tr><tr><td>Josh Smith</td><td>Center(C), Restricted Area</td><td>Center(C), Restricted Area</td></tr><tr><td>Joshua Primo</td><td>Center(C), Restricted Area</td><td>Center(C), Restricted Area</td></tr><tr><td>Jrue Holiday</td><td>Center(C), Restricted Area</td><td>Center(C), Restricted Area</td></tr><tr><td>Juan Carlos Navarro</td><td>Left Side Center(LC), Above the Break 3</td><td>Center(C), Restricted Area</td></tr><tr><td>Juan Dixon</td><td>Center(C), Restricted Area</td><td>Center(C), Restricted Area</td></tr><tr><td>Juan Toscano-Anderson</td><td>Center(C), Restricted Area</td><td>Center(C), Restricted Area</td></tr><tr><td>Juancho Hernangomez</td><td>Center(C), Restricted Area</td><td>Center(C), Restricted Area</td></tr><tr><td>Jud Buechler</td><td>Center(C), Restricted Area</td><td>Center(C), Restricted Area</td></tr><tr><td>Julian Wright</td><td>Center(C), Restricted Area</td><td>Center(C), Restricted Area</td></tr><tr><td>Julius Randle</td><td>Center(C), Restricted Area</td><td>Center(C), Restricted Area</td></tr><tr><td>Jumaine Jones</td><td>Center(C), Restricted Area</td><td>Center(C), Restricted Area</td></tr><tr><td>Junior Harrington</td><td>Center(C), Restricted Area</td><td>Center(C), Restricted Area</td></tr><tr><td>Justin Anderson</td><td>Center(C), Restricted Area</td><td>Center(C), Restricted Area</td></tr><tr><td>Justin Champagnie</td><td>Center(C), Restricted Area</td><td>Center(C), Restricted Area</td></tr><tr><td>Justin Hamilton</td><td>Center(C), Restricted Area</td><td>Center(C), Restricted Area</td></tr><tr><td>Justin Holiday</td><td>Center(C), Restricted Area</td><td>Center(C), Restricted Area</td></tr><tr><td>Justin Jackson</td><td>Center(C), Restricted Area</td><td>Center(C), Restricted Area</td></tr><tr><td>Justin James</td><td>Center(C), Restricted Area</td><td>Center(C), Restricted Area</td></tr><tr><td>Justin Reed</td><td>Center(C), Restricted Area</td><td>Center(C), Restricted Area</td></tr><tr><td>Justin Williams</td><td>Center(C), Restricted Area</td><td>Center(C), Restricted Area</td></tr><tr><td>Justise Winslow</td><td>Center(C), Restricted Area</td><td>Center(C), Restricted Area</td></tr><tr><td>Jusuf Nurkic</td><td>Center(C), Restricted Area</td><td>Center(C), Restricted Area</td></tr><tr><td>Juwan Howard</td><td>Center(C), Restricted Area</td><td>Center(C), Restricted Area</td></tr><tr><td>Juwan Morgan</td><td>Center(C), Restricted Area</td><td>Center(C), Restricted Area</td></tr><tr><td>KJ McDaniels</td><td>Center(C), Restricted Area</td><td>Center(C), Restricted Area</td></tr><tr><td>KZ Okpala</td><td>Center(C), Restricted Area</td><td>Center(C), Restricted Area</td></tr><tr><td>Kadeem Allen</td><td>Center(C), Restricted Area</td><td>Center(C), Restricted Area</td></tr><tr><td>Kareem Rush</td><td>Center(C), Restricted Area</td><td>Center(C), Restricted Area</td></tr><tr><td>Karl Malone</td><td>Center(C), Restricted Area</td><td>Center(C), Restricted Area</td></tr><tr><td>Karl-Anthony Towns</td><td>Center(C), Restricted Area</td><td>Center(C), Restricted Area</td></tr><tr><td>Kawhi Leonard</td><td>Center(C), Restricted Area</td><td>Center(C), Restricted Area</td></tr><tr><td>Kay Felder</td><td>Center(C), Restricted Area</td><td>Center(C), Restricted Area</td></tr><tr><td>Kedrick Brown</td><td>Center(C), Restricted Area</td><td>Center(C), Restricted Area</td></tr><tr><td>Keifer Sykes</td><td>Center(C), Restricted Area</td><td>Center(C), Restricted Area</td></tr><tr><td>Keita Bates-Diop</td><td>Center(C), Restricted Area</td><td>Center(C), Restricted Area</td></tr><tr><td>Keith Askins</td><td>Center(C), Restricted Area</td><td>Center(C), Restricted Area</td></tr><tr><td>Keith Bogans</td><td>Center(C), Restricted Area</td><td>Center(C), Restricted Area</td></tr><tr><td>Keith Booth</td><td>Center(C), Restricted Area</td><td>Center(C), Restricted Area</td></tr><tr><td>Keith Closs</td><td>Center(C), Restricted Area</td><td>Center(C), Restricted Area</td></tr><tr><td>Keith McLeod</td><td>Center(C), Restricted Area</td><td>Center(C), Restricted Area</td></tr><tr><td>Keith Van Horn</td><td>Center(C), Restricted Area</td><td>Center(C), Restricted Area</td></tr><tr><td>Kelan Martin</td><td>Center(C), Restricted Area</td><td>Center(C), Restricted Area</td></tr><tr><td>Keldon Johnson</td><td>Center(C), Restricted Area</td><td>Center(C), Restricted Area</td></tr><tr><td>Kelenna Azubuike</td><td>Center(C), Restricted Area</td><td>Center(C), Restricted Area</td></tr><tr><td>Kelly Olynyk</td><td>Center(C), Restricted Area</td><td>Center(C), Restricted Area</td></tr><tr><td>Kelly Oubre Jr.</td><td>Center(C), Restricted Area</td><td>Center(C), Restricted Area</td></tr><tr><td>Kelvin Cato</td><td>Center(C), Restricted Area</td><td>Center(C), Restricted Area</td></tr><tr><td>Kemba Walker</td><td>Center(C), Restricted Area</td><td>Center(C), Restricted Area</td></tr><tr><td>Kendall Gill</td><td>Center(C), Restricted Area</td><td>Center(C), Restricted Area</td></tr><tr><td>Kendall Marshall</td><td>Center(C), Restricted Area</td><td>Center(C), Restricted Area</td></tr><tr><td>Kendrick Nunn</td><td>Center(C), Restricted Area</td><td>Center(C), Restricted Area</td></tr><tr><td>Kendrick Perkins</td><td>Center(C), Restricted Area</td><td>Center(C), Restricted Area</td></tr><tr><td>Kenneth Faried</td><td>Center(C), Restricted Area</td><td>Center(C), Restricted Area</td></tr><tr><td>Kenny Anderson</td><td>Center(C), Restricted Area</td><td>Center(C), Restricted Area</td></tr><tr><td>Kenny Satterfield</td><td>Center(C), Restricted Area</td><td>Center(C), Restricted Area</td></tr><tr><td>Kenny Smith</td><td>Center(C), Restricted Area</td><td>Center(C), Restricted Area</td></tr><tr><td>Kenny Thomas</td><td>Center(C), Restricted Area</td><td>Center(C), Restricted Area</td></tr><tr><td>Kenrich Williams</td><td>Center(C), Restricted Area</td><td>Center(C), Restricted Area</td></tr><tr><td>Kent Bazemore</td><td>Center(C), Restricted Area</td><td>Center(C), Restricted Area</td></tr><tr><td>Kentavious Caldwell-Pope</td><td>Center(C), Restricted Area</td><td>Center(C), Restricted Area</td></tr><tr><td>Kenyon Martin</td><td>Center(C), Restricted Area</td><td>Center(C), Restricted Area</td></tr><tr><td>Kenyon Martin Jr.</td><td>Center(C), Restricted Area</td><td>Center(C), Restricted Area</td></tr><tr><td>Keon Clark</td><td>Center(C), Restricted Area</td><td>Center(C), Restricted Area</td></tr><tr><td>Keon Johnson</td><td>Center(C), Restricted Area</td><td>Right Side Center(RC), Above the Break 3</td></tr><tr><td>Kerry Kittles</td><td>Center(C), Restricted Area</td><td>Center(C), Restricted Area</td></tr><tr><td>Kessler Edwards</td><td>Center(C), Restricted Area</td><td>Center(C), Restricted Area</td></tr><tr><td>Kevin Duckworth</td><td>Center(C), Restricted Area</td><td>Center(C), Restricted Area</td></tr><tr><td>Kevin Durant</td><td>Center(C), Restricted Area</td><td>Center(C), Restricted Area</td></tr><tr><td>Kevin Edwards</td><td>Center(C), Restricted Area</td><td>Right Side Center(RC), Mid-Range</td></tr><tr><td>Kevin Gamble</td><td>Left Side(L), Mid-Range</td><td>Center(C), Mid-Range</td></tr><tr><td>Kevin Garnett</td><td>Center(C), Restricted Area</td><td>Center(C), Restricted Area</td></tr><tr><td>Kevin Huerter</td><td>Right Side Center(RC), Above the Break 3</td><td>Center(C), Restricted Area</td></tr><tr><td>Kevin Johnson</td><td>Center(C), Restricted Area</td><td>Center(C), Restricted Area</td></tr><tr><td>Kevin Jones</td><td>Center(C), Restricted Area</td><td>Center(C), Restricted Area</td></tr><tr><td>Kevin Knox II</td><td>Center(C), Restricted Area</td><td>Center(C), Restricted Area</td></tr><tr><td>Kevin Love</td><td>Center(C), Restricted Area</td><td>Center(C), Restricted Area</td></tr><tr><td>Kevin Martin</td><td>Center(C), Restricted Area</td><td>Center(C), Restricted Area</td></tr><tr><td>Kevin Ollie</td><td>Center(C), Restricted Area</td><td>Center(C), Restricted Area</td></tr><tr><td>Kevin Porter Jr.</td><td>Center(C), Restricted Area</td><td>Center(C), Restricted Area</td></tr><tr><td>Kevin Seraphin</td><td>Center(C), In The Paint (Non-RA)</td><td>Center(C), Restricted Area</td></tr><tr><td>Kevin Willis</td><td>Center(C), Restricted Area</td><td>Center(C), Restricted Area</td></tr><tr><td>Kevon Looney</td><td>Center(C), Restricted Area</td><td>Center(C), Restricted Area</td></tr><tr><td>Keyon Dooling</td><td>Center(C), Restricted Area</td><td>Right Side(R), In The Paint (Non-RA)</td></tr><tr><td>Khalid El-Amin</td><td>Center(C), Restricted Area</td><td>Center(C), Restricted Area</td></tr><tr><td>Khalid Reeves</td><td>Center(C), Restricted Area</td><td>Center(C), Restricted Area</td></tr><tr><td>Khem Birch</td><td>Center(C), Restricted Area</td><td>Center(C), Restricted Area</td></tr><tr><td>Khris Middleton</td><td>Center(C), Restricted Area</td><td>Center(C), Restricted Area</td></tr><tr><td>Khyri Thomas</td><td>Center(C), Restricted Area</td><td>Center(C), Restricted Area</td></tr><tr><td>Killian Hayes</td><td>Center(C), In The Paint (Non-RA)</td><td>Center(C), Restricted Area</td></tr><tr><td>Killian Tillie</td><td>Right Side Center(RC), Above the Break 3</td><td>Right Side Center(RC), Above the Break 3</td></tr><tr><td>Kim English</td><td>Center(C), Restricted Area</td><td>Center(C), Restricted Area</td></tr><tr><td>Kira Lewis Jr.</td><td>Center(C), Restricted Area</td><td>Center(C), Restricted Area</td></tr><tr><td>Kirk Hinrich</td><td>Center(C), Restricted Area</td><td>Center(C), Restricted Area</td></tr><tr><td>Kirk Snyder</td><td>Center(C), Restricted Area</td><td>Center(C), Restricted Area</td></tr><tr><td>Klay Thompson</td><td>Right Side Center(RC), Above the Break 3</td><td>Center(C), Restricted Area</td></tr><tr><td>Kobe Bryant</td><td>Center(C), Restricted Area</td><td>Center(C), Restricted Area</td></tr><tr><td>Kobi Simmons</td><td>Center(C), Restricted Area</td><td>Center(C), Restricted Area</td></tr><tr><td>Kornel David</td><td>Center(C), Restricted Area</td><td>Center(C), Restricted Area</td></tr><tr><td>Kosta Koufos</td><td>Center(C), Restricted Area</td><td>Center(C), Restricted Area</td></tr><tr><td>Kostas Papanikolaou</td><td>Center(C), Restricted Area</td><td>Center(C), Restricted Area</td></tr><tr><td>Kris Dunn</td><td>Center(C), Restricted Area</td><td>Center(C), Restricted Area</td></tr><tr><td>Kris Humphries</td><td>Center(C), Restricted Area</td><td>Center(C), Restricted Area</td></tr><tr><td>Kristaps Porzingis</td><td>Center(C), Restricted Area</td><td>Center(C), Restricted Area</td></tr><tr><td>Kurt Thomas</td><td>Center(C), Restricted Area</td><td>Center(C), Restricted Area</td></tr><tr><td>Kwame Brown</td><td>Center(C), Restricted Area</td><td>Center(C), Restricted Area</td></tr><tr><td>Ky Bowman</td><td>Center(C), Restricted Area</td><td>Center(C), Restricted Area</td></tr><tr><td>Kyle Anderson</td><td>Center(C), Restricted Area</td><td>Center(C), Restricted Area</td></tr><tr><td>Kyle Collinsworth</td><td>Center(C), Restricted Area</td><td>Center(C), Restricted Area</td></tr><tr><td>Kyle Guy</td><td>Center(C), Restricted Area</td><td>Center(C), Restricted Area</td></tr><tr><td>Kyle Korver</td><td>Left Side Center(LC), Above the Break 3</td><td>Center(C), Restricted Area</td></tr><tr><td>Kyle Kuzma</td><td>Center(C), Restricted Area</td><td>Center(C), Restricted Area</td></tr><tr><td>Kyle Lowry</td><td>Center(C), Restricted Area</td><td>Center(C), Restricted Area</td></tr><tr><td>Kyle O'Quinn</td><td>Center(C), Restricted Area</td><td>Center(C), Restricted Area</td></tr><tr><td>Kyle Singler</td><td>Center(C), Restricted Area</td><td>Center(C), Restricted Area</td></tr><tr><td>Kyle Weaver</td><td>Center(C), Restricted Area</td><td>Center(C), Restricted Area</td></tr><tr><td>Kyrie Irving</td><td>Center(C), Restricted Area</td><td>Center(C), Restricted Area</td></tr><tr><td>Kyrylo Fesenko</td><td>Center(C), Restricted Area</td><td>Center(C), Restricted Area</td></tr><tr><td>LaMarcus Aldridge</td><td>Center(C), Restricted Area</td><td>Center(C), Restricted Area</td></tr><tr><td>LaMelo Ball</td><td>Center(C), Restricted Area</td><td>Center(C), Restricted Area</td></tr><tr><td>LaPhonso Ellis</td><td>Center(C), Restricted Area</td><td>Center(C), Restricted Area</td></tr><tr><td>Lamar Odom</td><td>Center(C), Restricted Area</td><td>Center(C), Restricted Area</td></tr><tr><td>Lamar Stevens</td><td>Center(C), Restricted Area</td><td>Center(C), Restricted Area</td></tr><tr><td>Lamond Murray</td><td>Center(C), Restricted Area</td><td>Center(C), Restricted Area</td></tr><tr><td>Lance Stephenson</td><td>Center(C), Restricted Area</td><td>Center(C), Restricted Area</td></tr><tr><td>Lance Thomas</td><td>Center(C), Restricted Area</td><td>Center(C), Restricted Area</td></tr><tr><td>Landry Fields</td><td>Center(C), Restricted Area</td><td>Center(C), Restricted Area</td></tr><tr><td>Landry Shamet</td><td>Left Side Center(LC), Above the Break 3</td><td>Center(C), Restricted Area</td></tr><tr><td>Langston Galloway</td><td>Center(C), Restricted Area</td><td>Center(C), Restricted Area</td></tr><tr><td>Laron Profit</td><td>Center(C), Restricted Area</td><td>Center(C), Restricted Area</td></tr><tr><td>Larry Hughes</td><td>Center(C), Restricted Area</td><td>Center(C), Restricted Area</td></tr><tr><td>Larry Johnson</td><td>Center(C), Restricted Area</td><td>Center(C), Restricted Area</td></tr><tr><td>Larry Nance Jr.</td><td>Center(C), Restricted Area</td><td>Center(C), Restricted Area</td></tr><tr><td>Larry Robinson</td><td>Right Side(R), Right Corner 3</td><td>Right Side(R), Right Corner 3</td></tr><tr><td>Larry Sanders</td><td>Center(C), Restricted Area</td><td>Center(C), Restricted Area</td></tr><tr><td>Larry Stewart</td><td>Center(C), Restricted Area</td><td>Center(C), Restricted Area</td></tr><tr><td>Latrell Sprewell</td><td>Center(C), Restricted Area</td><td>Center(C), Restricted Area</td></tr><tr><td>Lauri Markkanen</td><td>Center(C), Restricted Area</td><td>Center(C), Restricted Area</td></tr><tr><td>Lavor Postell</td><td>Center(C), Restricted Area</td><td>Center(C), Restricted Area</td></tr><tr><td>Lavoy Allen</td><td>Center(C), Restricted Area</td><td>Center(C), Restricted Area</td></tr><tr><td>Lawrence Funderburke</td><td>Center(C), Restricted Area</td><td>Center(C), Restricted Area</td></tr><tr><td>Lawrence Moten</td><td>Center(C), Restricted Area</td><td>Center(C), Restricted Area</td></tr><tr><td>Lawrence Roberts</td><td>Center(C), Restricted Area</td><td>Center(C), Restricted Area</td></tr><tr><td>Lazar Hayward</td><td>Center(C), Restricted Area</td><td>Center(C), Restricted Area</td></tr><tr><td>LeBron James</td><td>Center(C), Restricted Area</td><td>Center(C), Restricted Area</td></tr><tr><td>Leandro Barbosa</td><td>Center(C), Restricted Area</td><td>Center(C), Restricted Area</td></tr><tr><td>Ledell Eackles</td><td>Center(C), Restricted Area</td><td>Center(C), Restricted Area</td></tr><tr><td>Lee Mayberry</td><td>Center(C), Restricted Area</td><td>Center(C), Restricted Area</td></tr><tr><td>Lee Nailon</td><td>Center(C), Restricted Area</td><td>Center(C), Restricted Area</td></tr><tr><td>Leon Powe</td><td>Center(C), Restricted Area</td><td>Center(C), Restricted Area</td></tr><tr><td>Lester Hudson</td><td>Center(C), Restricted Area</td><td>Center(C), Restricted Area</td></tr><tr><td>Linas Kleiza</td><td>Center(C), Restricted Area</td><td>Center(C), Restricted Area</td></tr><tr><td>Lindsey Hunter</td><td>Center(C), Restricted Area</td><td>Center(C), Restricted Area</td></tr><tr><td>Lindy Waters III</td><td>Left Side Center(LC), Above the Break 3</td><td>Right Side Center(RC), Above the Break 3</td></tr><tr><td>Linton Johnson</td><td>Center(C), Restricted Area</td><td>Center(C), Restricted Area</td></tr><tr><td>Lionel Chalmers</td><td>Center(C), Restricted Area</td><td>Center(C), Restricted Area</td></tr><tr><td>Lionel Simmons</td><td>Center(C), Restricted Area</td><td>Center(C), Restricted Area</td></tr><tr><td>Litterial Green</td><td>Center(C), Restricted Area</td><td>Center(C), Restricted Area</td></tr><tr><td>Lonnie Walker IV</td><td>Center(C), Restricted Area</td><td>Center(C), Restricted Area</td></tr><tr><td>Lonny Baxter</td><td>Center(C), Restricted Area</td><td>Center(C), Restricted Area</td></tr><tr><td>Lonzo Ball</td><td>Center(C), Restricted Area</td><td>Center(C), Restricted Area</td></tr><tr><td>Loren Meyer</td><td>Center(C), Restricted Area</td><td>Center(C), Restricted Area</td></tr><tr><td>Loren Woods</td><td>Center(C), Restricted Area</td><td>Center(C), Restricted Area</td></tr><tr><td>Lorenzen Wright</td><td>Center(C), Restricted Area</td><td>Center(C), Restricted Area</td></tr><tr><td>Lorenzo Brown</td><td>Center(C), Restricted Area</td><td>Center(C), In The Paint (Non-RA)</td></tr><tr><td>Lorenzo Williams</td><td>Center(C), Restricted Area</td><td>Center(C), Restricted Area</td></tr><tr><td>Lou Amundson</td><td>Center(C), Restricted Area</td><td>Center(C), Restricted Area</td></tr><tr><td>Lou Williams</td><td>Center(C), Restricted Area</td><td>Center(C), Restricted Area</td></tr><tr><td>Loy Vaught</td><td>Right Side(R), Mid-Range</td><td>Center(C), Restricted Area</td></tr><tr><td>Luc Longley</td><td>Center(C), Restricted Area</td><td>Center(C), Restricted Area</td></tr><tr><td>Luc Mbah a Moute</td><td>Center(C), Restricted Area</td><td>Center(C), Restricted Area</td></tr><tr><td>Lucas Nogueira</td><td>Center(C), Restricted Area</td><td>Center(C), Restricted Area</td></tr><tr><td>Lucious Harris</td><td>Center(C), Restricted Area</td><td>Center(C), Restricted Area</td></tr><tr><td>Luguentz Dort</td><td>Center(C), Restricted Area</td><td>Center(C), Restricted Area</td></tr><tr><td>Luis Scola</td><td>Center(C), Restricted Area</td><td>Center(C), Restricted Area</td></tr><tr><td>Luka Doncic</td><td>Center(C), Restricted Area</td><td>Center(C), Restricted Area</td></tr><tr><td>Luka Garza</td><td>Center(C), Restricted Area</td><td>Center(C), Restricted Area</td></tr><tr><td>Luka Samanic</td><td>Center(C), Restricted Area</td><td>Center(C), Restricted Area</td></tr><tr><td>Luke Babbitt</td><td>Left Side Center(LC), Above the Break 3</td><td>Center(C), Restricted Area</td></tr><tr><td>Luke Harangody</td><td>Center(C), Restricted Area</td><td>Center(C), Restricted Area</td></tr><tr><td>Luke Jackson</td><td>Center(C), Restricted Area</td><td>Center(C), Restricted Area</td></tr><tr><td>Luke Kennard</td><td>Left Side Center(LC), Above the Break 3</td><td>Center(C), Restricted Area</td></tr><tr><td>Luke Kornet</td><td>Center(C), Restricted Area</td><td>Center(C), Restricted Area</td></tr><tr><td>Luke Ridnour</td><td>Center(C), Restricted Area</td><td>Center(C), Restricted Area</td></tr><tr><td>Luke Walton</td><td>Center(C), Restricted Area</td><td>Center(C), Restricted Area</td></tr><tr><td>Luol Deng</td><td>Center(C), Restricted Area</td><td>Center(C), Restricted Area</td></tr><tr><td>Luther Head</td><td>Center(C), Restricted Area</td><td>Center(C), Restricted Area</td></tr><tr><td>Lynn Greer</td><td>Center(C), Restricted Area</td><td>Center(C), Restricted Area</td></tr><tr><td>Maalik Wayns</td><td>Center(C), Restricted Area</td><td>Center(C), Restricted Area</td></tr><tr><td>Maceo Baston</td><td>Center(C), Restricted Area</td><td>Center(C), Restricted Area</td></tr><tr><td>Maciej Lampe</td><td>Center(C), Restricted Area</td><td>Center(C), Restricted Area</td></tr><tr><td>Mahmoud Abdul-Rauf</td><td>Left Side(L), Mid-Range</td><td>Left Side Center(LC), Mid-Range</td></tr><tr><td>Malachi Flynn</td><td>Left Side Center(LC), Above the Break 3</td><td>Center(C), Restricted Area</td></tr><tr><td>Malachi Richardson</td><td>Center(C), Restricted Area</td><td>Center(C), Restricted Area</td></tr><tr><td>Malcolm Brogdon</td><td>Center(C), Restricted Area</td><td>Center(C), Restricted Area</td></tr><tr><td>Malcolm Delaney</td><td>Center(C), Restricted Area</td><td>Right Side(R), Mid-Range</td></tr><tr><td>Malcolm Lee</td><td>Center(C), Restricted Area</td><td>Center(C), Restricted Area</td></tr><tr><td>Malik Allen</td><td>Right Side(R), Mid-Range</td><td>Center(C), Restricted Area</td></tr><tr><td>Malik Beasley</td><td>Center(C), Restricted Area</td><td>Center(C), Restricted Area</td></tr><tr><td>Malik Hairston</td><td>Center(C), Restricted Area</td><td>Center(C), Restricted Area</td></tr><tr><td>Malik Monk</td><td>Center(C), Restricted Area</td><td>Center(C), Restricted Area</td></tr><tr><td>Malik Rose</td><td>Center(C), Restricted Area</td><td>Center(C), Restricted Area</td></tr><tr><td>Malik Sealy</td><td>Center(C), Restricted Area</td><td>Center(C), Restricted Area</td></tr><tr><td>Mamadi Diakite</td><td>Center(C), Restricted Area</td><td>Center(C), Restricted Area</td></tr><tr><td>Mamadou N'diaye</td><td>Center(C), Restricted Area</td><td>Center(C), Restricted Area</td></tr><tr><td>Manny Harris</td><td>Center(C), Restricted Area</td><td>Center(C), Restricted Area</td></tr><tr><td>Manu Ginobili</td><td>Center(C), Restricted Area</td><td>Center(C), Restricted Area</td></tr><tr><td>MarShon Brooks</td><td>Center(C), Restricted Area</td><td>Center(C), Restricted Area</td></tr><tr><td>Marc Gasol</td><td>Center(C), In The Paint (Non-RA)</td><td>Center(C), Restricted Area</td></tr><tr><td>Marc Jackson</td><td>Center(C), Restricted Area</td><td>Center(C), Restricted Area</td></tr><tr><td>Marcelo Huertas</td><td>Center(C), Restricted Area</td><td>Center(C), Restricted Area</td></tr><tr><td>Marcin Gortat</td><td>Center(C), Restricted Area</td><td>Center(C), Restricted Area</td></tr><tr><td>Marco Belinelli</td><td>Center(C), Restricted Area</td><td>Center(C), Restricted Area</td></tr><tr><td>Marcus Banks</td><td>Center(C), Restricted Area</td><td>Center(C), Restricted Area</td></tr><tr><td>Marcus Camby</td><td>Center(C), Restricted Area</td><td>Center(C), Restricted Area</td></tr><tr><td>Marcus Fizer</td><td>Center(C), Restricted Area</td><td>Center(C), Restricted Area</td></tr><tr><td>Marcus Haislip</td><td>Center(C), Restricted Area</td><td>Center(C), Restricted Area</td></tr><tr><td>Marcus Morris Sr.</td><td>Center(C), Restricted Area</td><td>Center(C), Restricted Area</td></tr><tr><td>Marcus Smart</td><td>Center(C), Restricted Area</td><td>Center(C), Restricted Area</td></tr><tr><td>Marcus Thornton</td><td>Center(C), Restricted Area</td><td>Center(C), Restricted Area</td></tr><tr><td>Marcus Williams</td><td>Center(C), Restricted Area</td><td>Center(C), Restricted Area</td></tr><tr><td>Mardy Collins</td><td>Center(C), Restricted Area</td><td>Center(C), Restricted Area</td></tr><tr><td>Mario Bennett</td><td>Center(C), Restricted Area</td><td>Center(C), Restricted Area</td></tr><tr><td>Mario Chalmers</td><td>Center(C), Restricted Area</td><td>Left Side(L), In The Paint (Non-RA)</td></tr><tr><td>Mario Elie</td><td>Center(C), Restricted Area</td><td>Center(C), Restricted Area</td></tr><tr><td>Mario Hezonja</td><td>Center(C), Restricted Area</td><td>Center(C), Restricted Area</td></tr><tr><td>Mario Kasun</td><td>Center(C), Restricted Area</td><td>Center(C), Restricted Area</td></tr><tr><td>Mario West</td><td>Center(C), Restricted Area</td><td>Center(C), Restricted Area</td></tr><tr><td>Mark Blount</td><td>Center(C), Restricted Area</td><td>Center(C), Restricted Area</td></tr><tr><td>Mark Bradtke</td><td>Center(C), Restricted Area</td><td>Center(C), Restricted Area</td></tr><tr><td>Mark Bryant</td><td>Center(C), Restricted Area</td><td>Center(C), Restricted Area</td></tr><tr><td>Mark Davis</td><td>Center(C), Restricted Area</td><td>Center(C), Restricted Area</td></tr><tr><td>Mark Hendrickson</td><td>Center(C), Restricted Area</td><td>Center(C), Restricted Area</td></tr><tr><td>Mark Jackson</td><td>Center(C), Restricted Area</td><td>Center(C), Restricted Area</td></tr><tr><td>Mark Madsen</td><td>Center(C), Restricted Area</td><td>Center(C), Restricted Area</td></tr><tr><td>Mark Pope</td><td>Center(C), Restricted Area</td><td>Center(C), Restricted Area</td></tr><tr><td>Mark Price</td><td>Center(C), Restricted Area</td><td>Center(C), Restricted Area</td></tr><tr><td>Mark Strickland</td><td>Center(C), Restricted Area</td><td>Center(C), Restricted Area</td></tr><tr><td>Mark West</td><td>Center(C), Restricted Area</td><td>Center(C), Restricted Area</td></tr><tr><td>Markel Brown</td><td>Center(C), Restricted Area</td><td>Center(C), Restricted Area</td></tr><tr><td>Markelle Fultz</td><td>Center(C), Restricted Area</td><td>Center(C), Restricted Area</td></tr><tr><td>Markieff Morris</td><td>Center(C), Restricted Area</td><td>Center(C), Restricted Area</td></tr><tr><td>Marko Guduric</td><td>Center(C), Restricted Area</td><td>Center(C), Restricted Area</td></tr><tr><td>Marko Jaric</td><td>Center(C), Restricted Area</td><td>Center(C), Restricted Area</td></tr><tr><td>Marko Milic</td><td>Center(C), Restricted Area</td><td>Center(C), Restricted Area</td></tr><tr><td>Markus Howard</td><td>Left Side Center(LC), Above the Break 3</td><td>Right Side Center(RC), Above the Break 3</td></tr><tr><td>Marquese Chriss</td><td>Center(C), Restricted Area</td><td>Center(C), Restricted Area</td></tr><tr><td>Marquis Daniels</td><td>Center(C), Restricted Area</td><td>Center(C), Restricted Area</td></tr><tr><td>Marquis Teague</td><td>Center(C), Restricted Area</td><td>Center(C), Restricted Area</td></tr><tr><td>Marreese Speights</td><td>Center(C), Restricted Area</td><td>Center(C), Restricted Area</td></tr><tr><td>Martell Webster</td><td>Center(C), Restricted Area</td><td>Center(C), Restricted Area</td></tr><tr><td>Martin Muursepp</td><td>Center(C), Restricted Area</td><td>Center(C), Restricted Area</td></tr><tr><td>Marty Conlon</td><td>Center(C), Restricted Area</td><td>Right Side Center(RC), Mid-Range</td></tr><tr><td>Marvin Bagley III</td><td>Center(C), Restricted Area</td><td>Center(C), Restricted Area</td></tr><tr><td>Marvin Williams</td><td>Center(C), Restricted Area</td><td>Center(C), Restricted Area</td></tr><tr><td>Mason Jones</td><td>Center(C), Restricted Area</td><td>Center(C), Restricted Area</td></tr><tr><td>Mason Plumlee</td><td>Center(C), Restricted Area</td><td>Center(C), Restricted Area</td></tr><tr><td>Mateen Cleaves</td><td>Center(C), Restricted Area</td><td>Left Side Center(LC), Mid-Range</td></tr><tr><td>Matisse Thybulle</td><td>Center(C), Restricted Area</td><td>Center(C), Restricted Area</td></tr><tr><td>Matt Barnes</td><td>Center(C), Restricted Area</td><td>Center(C), Restricted Area</td></tr><tr><td>Matt Bonner</td><td>Right Side Center(RC), Above the Break 3</td><td>Center(C), Restricted Area</td></tr><tr><td>Matt Bullard</td><td>Left Side Center(LC), Above the Break 3</td><td>Center(C), Restricted Area</td></tr><tr><td>Matt Carroll</td><td>Center(C), Restricted Area</td><td>Center(C), Restricted Area</td></tr><tr><td>Matt Geiger</td><td>Center(C), Restricted Area</td><td>Center(C), Restricted Area</td></tr><tr><td>Matt Harpring</td><td>Center(C), Restricted Area</td><td>Center(C), Restricted Area</td></tr><tr><td>Matt Maloney</td><td>Left Side Center(LC), Above the Break 3</td><td>Center(C), Restricted Area</td></tr><tr><td>Matt Thomas</td><td>Left Side Center(LC), Above the Break 3</td><td>Left Side(L), Left Corner 3</td></tr><tr><td>Matthew Dellavedova</td><td>Center(C), In The Paint (Non-RA)</td><td>Left Side Center(LC), Mid-Range</td></tr><tr><td>Maurice Ager</td><td>Center(C), Restricted Area</td><td>Center(C), Restricted Area</td></tr><tr><td>Maurice Evans</td><td>Center(C), Restricted Area</td><td>Center(C), Restricted Area</td></tr><tr><td>Maurice Harkless</td><td>Center(C), Restricted Area</td><td>Center(C), Restricted Area</td></tr><tr><td>Maurice Ndour</td><td>Center(C), Restricted Area</td><td>Center(C), Restricted Area</td></tr><tr><td>Maurice Taylor</td><td>Center(C), Restricted Area</td><td>Center(C), Restricted Area</td></tr><tr><td>Max Strus</td><td>Left Side Center(LC), Above the Break 3</td><td>Center(C), Restricted Area</td></tr><tr><td>Maxi Kleber</td><td>Center(C), Restricted Area</td><td>Center(C), Restricted Area</td></tr><tr><td>Mehmet Okur</td><td>Center(C), Restricted Area</td><td>Center(C), Restricted Area</td></tr><tr><td>Melvin Booker</td><td>Center(C), Restricted Area</td><td>Center(C), Restricted Area</td></tr><tr><td>Melvin Ely</td><td>Center(C), Restricted Area</td><td>Center(C), Restricted Area</td></tr><tr><td>Melvin Frazier Jr.</td><td>Center(C), Restricted Area</td><td>Center(C), Restricted Area</td></tr><tr><td>Mengke Bateer</td><td>Center(C), Restricted Area</td><td>Center(C), Restricted Area</td></tr><tr><td>Metta World Peace</td><td>Center(C), Restricted Area</td><td>Center(C), Restricted Area</td></tr><tr><td>Meyers Leonard</td><td>Center(C), Restricted Area</td><td>Center(C), Restricted Area</td></tr><tr><td>Mfiondu Kabengele</td><td>Center(C), Restricted Area</td><td>Center(C), Restricted Area</td></tr><tr><td>Michael Beasley</td><td>Center(C), Restricted Area</td><td>Center(C), Restricted Area</td></tr><tr><td>Michael Bradley</td><td>Center(C), Restricted Area</td><td>Center(C), Restricted Area</td></tr><tr><td>Michael Cage</td><td>Center(C), Restricted Area</td><td>Center(C), Restricted Area</td></tr><tr><td>Michael Carter-Williams</td><td>Center(C), Restricted Area</td><td>Center(C), Restricted Area</td></tr><tr><td>Michael Curry</td><td>Center(C), Restricted Area</td><td>Center(C), Restricted Area</td></tr><tr><td>Michael Dickerson</td><td>Center(C), Restricted Area</td><td>Center(C), Restricted Area</td></tr><tr><td>Michael Doleac</td><td>Left Side(L), Mid-Range</td><td>Center(C), Restricted Area</td></tr><tr><td>Michael Finley</td><td>Center(C), Restricted Area</td><td>Center(C), Restricted Area</td></tr><tr><td>Michael Hawkins</td><td>Center(C), Restricted Area</td><td>Center(C), Restricted Area</td></tr><tr><td>Michael Jordan</td><td>Right Side(R), Mid-Range</td><td>Center(C), Restricted Area</td></tr><tr><td>Michael Kidd-Gilchrist</td><td>Center(C), Restricted Area</td><td>Center(C), Restricted Area</td></tr><tr><td>Michael Olowokandi</td><td>Center(C), In The Paint (Non-RA)</td><td>Center(C), Restricted Area</td></tr><tr><td>Michael Porter Jr.</td><td>Center(C), Restricted Area</td><td>Center(C), Restricted Area</td></tr><tr><td>Michael Redd</td><td>Center(C), Restricted Area</td><td>Center(C), Restricted Area</td></tr><tr><td>Michael Ruffin</td><td>Center(C), Restricted Area</td><td>Center(C), Restricted Area</td></tr><tr><td>Michael Smith</td><td>Center(C), Restricted Area</td><td>Center(C), Restricted Area</td></tr><tr><td>Michael Stewart</td><td>Center(C), Restricted Area</td><td>Center(C), Restricted Area</td></tr><tr><td>Mickael Gelabale</td><td>Center(C), Restricted Area</td><td>Center(C), Restricted Area</td></tr><tr><td>Mickael Pietrus</td><td>Center(C), Restricted Area</td><td>Center(C), Restricted Area</td></tr><tr><td>Mikal Bridges</td><td>Center(C), Restricted Area</td><td>Center(C), Restricted Area</td></tr><tr><td>Mike Batiste</td><td>Center(C), Restricted Area</td><td>Center(C), Restricted Area</td></tr><tr><td>Mike Bibby</td><td>Center(C), Restricted Area</td><td>Center(C), Restricted Area</td></tr><tr><td>Mike Conley</td><td>Center(C), Restricted Area</td><td>Center(C), Restricted Area</td></tr><tr><td>Mike Dunleavy</td><td>Center(C), Restricted Area</td><td>Center(C), Restricted Area</td></tr><tr><td>Mike Harris</td><td>Center(C), Restricted Area</td><td>Center(C), Restricted Area</td></tr><tr><td>Mike James</td><td>Center(C), Restricted Area</td><td>Center(C), Restricted Area</td></tr><tr><td>Mike Miller</td><td>Center(C), Restricted Area</td><td>Center(C), Restricted Area</td></tr><tr><td>Mike Muscala</td><td>Center(C), Restricted Area</td><td>Center(C), Restricted Area</td></tr><tr><td>Mike Penberthy</td><td>Right Side Center(RC), Above the Break 3</td><td>Left Side Center(LC), Above the Break 3</td></tr><tr><td>Mike Scott</td><td>Center(C), Restricted Area</td><td>Center(C), Restricted Area</td></tr><tr><td>Mike Taylor</td><td>Center(C), Restricted Area</td><td>Center(C), Restricted Area</td></tr><tr><td>Mike Wilks</td><td>Center(C), Restricted Area</td><td>Center(C), Restricted Area</td></tr><tr><td>Mikki Moore</td><td>Center(C), Restricted Area</td><td>Center(C), Restricted Area</td></tr><tr><td>Miles Bridges</td><td>Center(C), Restricted Area</td><td>Center(C), Restricted Area</td></tr><tr><td>Miles Plumlee</td><td>Center(C), Restricted Area</td><td>Center(C), Restricted Area</td></tr><tr><td>Milos Teodosic</td><td>Left Side Center(LC), Above the Break 3</td><td>Center(C), Above the Break 3</td></tr><tr><td>Milt Palacio</td><td>Center(C), Restricted Area</td><td>Center(C), Restricted Area</td></tr><tr><td>Mindaugas Kuzminskas</td><td>Center(C), Restricted Area</td><td>Center(C), Restricted Area</td></tr><tr><td>Mirza Teletovic</td><td>Left Side Center(LC), Above the Break 3</td><td>Center(C), Restricted Area</td></tr><tr><td>Mitch McGary</td><td>Center(C), Restricted Area</td><td>Center(C), Restricted Area</td></tr><tr><td>Mitch Richmond</td><td>Center(C), Restricted Area</td><td>Center(C), Restricted Area</td></tr><tr><td>Mitchell Butler</td><td>Center(C), Restricted Area</td><td>Center(C), Restricted Area</td></tr><tr><td>Mitchell Robinson</td><td>Center(C), Restricted Area</td><td>Center(C), Restricted Area</td></tr><tr><td>Miye Oni</td><td>Left Side(L), Left Corner 3</td><td>Left Side(L), Left Corner 3</td></tr><tr><td>Mo Bamba</td><td>Center(C), Restricted Area</td><td>Center(C), Restricted Area</td></tr><tr><td>Mo Williams</td><td>Center(C), Restricted Area</td><td>Center(C), Restricted Area</td></tr><tr><td>Monta Ellis</td><td>Center(C), Restricted Area</td><td>Center(C), Restricted Area</td></tr><tr><td>Monte Morris</td><td>Center(C), Restricted Area</td><td>Center(C), Restricted Area</td></tr><tr><td>Montrezl Harrell</td><td>Center(C), Restricted Area</td><td>Center(C), Restricted Area</td></tr><tr><td>Monty Williams</td><td>Center(C), Restricted Area</td><td>Center(C), Restricted Area</td></tr><tr><td>Moochie Norris</td><td>Center(C), Restricted Area</td><td>Center(C), Restricted Area</td></tr><tr><td>Mookie Blaylock</td><td>Center(C), Restricted Area</td><td>Center(C), Restricted Area</td></tr><tr><td>Moritz Wagner</td><td>Center(C), Restricted Area</td><td>Center(C), Restricted Area</td></tr><tr><td>Morris Almond</td><td>Center(C), Restricted Area</td><td>Center(C), Restricted Area</td></tr><tr><td>Morris Peterson</td><td>Center(C), Restricted Area</td><td>Center(C), Restricted Area</td></tr><tr><td>Moses Brown</td><td>Center(C), Restricted Area</td><td>Center(C), Restricted Area</td></tr><tr><td>Moses Moody</td><td>Center(C), Restricted Area</td><td>Center(C), Restricted Area</td></tr><tr><td>Mouhamed Sene</td><td>Center(C), Restricted Area</td><td>Center(C), Restricted Area</td></tr><tr><td>Muggsy Bogues</td><td>Center(C), Restricted Area</td><td>Center(C), Mid-Range</td></tr><tr><td>Mychal Mulder</td><td>Right Side Center(RC), Above the Break 3</td><td>Center(C), Restricted Area</td></tr><tr><td>Myke Henry</td><td>Center(C), Restricted Area</td><td>Center(C), Restricted Area</td></tr><tr><td>Myles Turner</td><td>Center(C), Restricted Area</td><td>Center(C), Restricted Area</td></tr><tr><td>Naji Marshall</td><td>Center(C), Restricted Area</td><td>Center(C), Restricted Area</td></tr><tr><td>Nando De Colo</td><td>Center(C), Restricted Area</td><td>Center(C), Restricted Area</td></tr><tr><td>Nassir Little</td><td>Center(C), Restricted Area</td><td>Center(C), Restricted Area</td></tr><tr><td>Nate McMillan</td><td>Center(C), Restricted Area</td><td>Center(C), Restricted Area</td></tr><tr><td>Nate Robinson</td><td>Center(C), Restricted Area</td><td>Center(C), Restricted Area</td></tr><tr><td>Nate Wolters</td><td>Center(C), Restricted Area</td><td>Center(C), Restricted Area</td></tr><tr><td>Nathan Jawai</td><td>Center(C), Restricted Area</td><td>Center(C), Restricted Area</td></tr><tr><td>Nathan Knight</td><td>Center(C), Restricted Area</td><td>Center(C), Restricted Area</td></tr><tr><td>Naz Reid</td><td>Center(C), Restricted Area</td><td>Center(C), Restricted Area</td></tr><tr><td>Nazr Mohammed</td><td>Center(C), Restricted Area</td><td>Center(C), Restricted Area</td></tr><tr><td>Nemanja Bjelica</td><td>Center(C), Restricted Area</td><td>Center(C), Restricted Area</td></tr><tr><td>Nenad Krstic</td><td>Center(C), Restricted Area</td><td>Center(C), Restricted Area</td></tr><tr><td>Nene</td><td>Center(C), Restricted Area</td><td>Center(C), Restricted Area</td></tr><tr><td>Nerlens Noel</td><td>Center(C), Restricted Area</td><td>Center(C), Restricted Area</td></tr><tr><td>Nic Claxton</td><td>Center(C), Restricted Area</td><td>Center(C), Restricted Area</td></tr><tr><td>Nick Anderson</td><td>Center(C), Restricted Area</td><td>Center(C), Restricted Area</td></tr><tr><td>Nick Calathes</td><td>Center(C), Restricted Area</td><td>Center(C), Restricted Area</td></tr><tr><td>Nick Collison</td><td>Center(C), Restricted Area</td><td>Center(C), Restricted Area</td></tr><tr><td>Nick Fazekas</td><td>Center(C), Restricted Area</td><td>Center(C), Restricted Area</td></tr><tr><td>Nick Johnson</td><td>Center(C), Restricted Area</td><td>Center(C), Restricted Area</td></tr><tr><td>Nick Richards</td><td>Center(C), Restricted Area</td><td>Center(C), Restricted Area</td></tr><tr><td>Nick Van Exel</td><td>Center(C), Restricted Area</td><td>Center(C), Restricted Area</td></tr><tr><td>Nick Young</td><td>Center(C), Restricted Area</td><td>Center(C), Restricted Area</td></tr><tr><td>Nickeil Alexander-Walker</td><td>Center(C), Restricted Area</td><td>Center(C), Restricted Area</td></tr><tr><td>Nicolas Batum</td><td>Center(C), Restricted Area</td><td>Center(C), Restricted Area</td></tr><tr><td>Nicolas Brussino</td><td>Left Side Center(LC), Above the Break 3</td><td>Left Side Center(LC), Above the Break 3</td></tr><tr><td>Nicolo Melli</td><td>Left Side Center(LC), Above the Break 3</td><td>Center(C), Restricted Area</td></tr><tr><td>Nik Stauskas</td><td>Center(C), Restricted Area</td><td>Center(C), Restricted Area</td></tr><tr><td>Nikola Jokic</td><td>Center(C), Restricted Area</td><td>Center(C), Restricted Area</td></tr><tr><td>Nikola Mirotic</td><td>Center(C), Restricted Area</td><td>Center(C), Restricted Area</td></tr><tr><td>Nikola Pekovic</td><td>Center(C), Restricted Area</td><td>Center(C), Restricted Area</td></tr><tr><td>Nikola Vucevic</td><td>Center(C), Restricted Area</td><td>Center(C), Restricted Area</td></tr><tr><td>Nikoloz Tskitishvili</td><td>Center(C), Restricted Area</td><td>Center(C), Restricted Area</td></tr><tr><td>Noah Vonleh</td><td>Center(C), Restricted Area</td><td>Center(C), Restricted Area</td></tr><tr><td>Nolan Smith</td><td>Center(C), Restricted Area</td><td>Center(C), Restricted Area</td></tr><tr><td>Norman Powell</td><td>Center(C), Restricted Area</td><td>Center(C), Restricted Area</td></tr><tr><td>Norris Cole</td><td>Center(C), Restricted Area</td><td>Center(C), Restricted Area</td></tr><tr><td>Norvel Pelle</td><td>Center(C), Restricted Area</td><td>Center(C), Restricted Area</td></tr><tr><td>O.G. Anunoby</td><td>Center(C), Restricted Area</td><td>Center(C), Restricted Area</td></tr><tr><td>O.J. Mayo</td><td>Center(C), Restricted Area</td><td>Center(C), Restricted Area</td></tr><tr><td>Obi Toppin</td><td>Center(C), Restricted Area</td><td>Center(C), Restricted Area</td></tr><tr><td>Obinna Ekezie</td><td>Center(C), Restricted Area</td><td>Center(C), Restricted Area</td></tr><tr><td>Okaro White</td><td>Center(C), Restricted Area</td><td>Center(C), Restricted Area</td></tr><tr><td>Olden Polynice</td><td>Center(C), Restricted Area</td><td>Center(C), Restricted Area</td></tr><tr><td>Oleksiy Pecherov</td><td>Center(C), Restricted Area</td><td>Center(C), Restricted Area</td></tr><tr><td>Oliver Miller</td><td>Center(C), Restricted Area</td><td>Center(C), Restricted Area</td></tr><tr><td>Olivier Sarr</td><td>Center(C), Restricted Area</td><td>Center(C), Restricted Area</td></tr><tr><td>Olumide Oyedeji</td><td>Center(C), Restricted Area</td><td>Center(C), Restricted Area</td></tr><tr><td>Omari Spellman</td><td>Center(C), Restricted Area</td><td>Center(C), Restricted Area</td></tr><tr><td>Omer Asik</td><td>Center(C), Restricted Area</td><td>Center(C), Restricted Area</td></tr><tr><td>Omer Yurtseven</td><td>Center(C), Restricted Area</td><td>Center(C), Restricted Area</td></tr><tr><td>Omri Casspi</td><td>Center(C), Restricted Area</td><td>Center(C), Restricted Area</td></tr><tr><td>Onyeka Okongwu</td><td>Center(C), Restricted Area</td><td>Center(C), Restricted Area</td></tr><tr><td>Orien Greene</td><td>Center(C), Restricted Area</td><td>Center(C), Restricted Area</td></tr><tr><td>Orlando Johnson</td><td>Center(C), Restricted Area</td><td>Center(C), Restricted Area</td></tr><tr><td>Oscar Torres</td><td>Center(C), Restricted Area</td><td>Center(C), Restricted Area</td></tr><tr><td>Oshae Brissett</td><td>Center(C), Restricted Area</td><td>Center(C), Restricted Area</td></tr><tr><td>Othella Harrington</td><td>Center(C), Restricted Area</td><td>Center(C), Restricted Area</td></tr><tr><td>Othyus Jeffers</td><td>Center(C), Restricted Area</td><td>Center(C), Restricted Area</td></tr><tr><td>Otis Thorpe</td><td>Center(C), Restricted Area</td><td>Center(C), Restricted Area</td></tr><tr><td>Otto Porter Jr.</td><td>Center(C), Restricted Area</td><td>Center(C), Restricted Area</td></tr><tr><td>P.J. Brown</td><td>Center(C), Restricted Area</td><td>Center(C), Restricted Area</td></tr><tr><td>P.J. Dozier</td><td>Center(C), Restricted Area</td><td>Center(C), Restricted Area</td></tr><tr><td>P.J. Tucker</td><td>Center(C), Restricted Area</td><td>Center(C), Restricted Area</td></tr><tr><td>P.J. Washington</td><td>Center(C), Restricted Area</td><td>Center(C), Restricted Area</td></tr><tr><td>PJ Hairston</td><td>Center(C), Restricted Area</td><td>Center(C), Restricted Area</td></tr><tr><td>Pablo Prigioni</td><td>Left Side Center(LC), Above the Break 3</td><td>Center(C), Restricted Area</td></tr><tr><td>Pape Sow</td><td>Center(C), Restricted Area</td><td>Center(C), Restricted Area</td></tr><tr><td>Pascal Siakam</td><td>Center(C), Restricted Area</td><td>Center(C), Restricted Area</td></tr><tr><td>Pat Burke</td><td>Center(C), Restricted Area</td><td>Center(C), Restricted Area</td></tr><tr><td>Pat Connaughton</td><td>Center(C), Restricted Area</td><td>Center(C), Restricted Area</td></tr><tr><td>Pat Garrity</td><td>Left Side Center(LC), Above the Break 3</td><td>Center(C), Restricted Area</td></tr><tr><td>Patrick Beverley</td><td>Center(C), Restricted Area</td><td>Center(C), Restricted Area</td></tr><tr><td>Patrick Ewing</td><td>Center(C), Restricted Area</td><td>Center(C), Restricted Area</td></tr><tr><td>Patrick McCaw</td><td>Center(C), Restricted Area</td><td>Center(C), Restricted Area</td></tr><tr><td>Patrick O'Bryant</td><td>Center(C), Restricted Area</td><td>Center(C), Restricted Area</td></tr><tr><td>Patrick Patterson</td><td>Center(C), Restricted Area</td><td>Center(C), Restricted Area</td></tr><tr><td>Patrick Williams</td><td>Center(C), Restricted Area</td><td>Center(C), Restricted Area</td></tr><tr><td>Patty Mills</td><td>Left Side Center(LC), Above the Break 3</td><td>Center(C), Restricted Area</td></tr><tr><td>Pau Gasol</td><td>Center(C), Restricted Area</td><td>Center(C), Restricted Area</td></tr><tr><td>Paul Davis</td><td>Center(C), Restricted Area</td><td>Center(C), Restricted Area</td></tr><tr><td>Paul George</td><td>Center(C), Restricted Area</td><td>Center(C), Restricted Area</td></tr><tr><td>Paul McPherson</td><td>Center(C), Restricted Area</td><td>Center(C), Restricted Area</td></tr><tr><td>Paul Millsap</td><td>Center(C), Restricted Area</td><td>Center(C), Restricted Area</td></tr><tr><td>Paul Pierce</td><td>Center(C), Restricted Area</td><td>Center(C), Restricted Area</td></tr><tr><td>Paul Reed</td><td>Center(C), Restricted Area</td><td>Center(C), Restricted Area</td></tr><tr><td>Paul Watson</td><td>Left Side Center(LC), Above the Break 3</td><td>Left Side Center(LC), Above the Break 3</td></tr><tr><td>Paul Zipser</td><td>Center(C), Restricted Area</td><td>Center(C), Restricted Area</td></tr><tr><td>Payton Pritchard</td><td>Left Side Center(LC), Above the Break 3</td><td>Center(C), Restricted Area</td></tr><tr><td>Peja Stojakovic</td><td>Center(C), Restricted Area</td><td>Center(C), Restricted Area</td></tr><tr><td>Pero Antic</td><td>Center(C), Restricted Area</td><td>Center(C), Restricted Area</td></tr><tr><td>Perry Jones III</td><td>Center(C), Restricted Area</td><td>Center(C), Restricted Area</td></tr><tr><td>Pervis Ellison</td><td>Center(C), Restricted Area</td><td>Center(C), Restricted Area</td></tr><tr><td>Pete Chilcutt</td><td>Center(C), Restricted Area</td><td>Center(C), Restricted Area</td></tr><tr><td>Phil Pressey</td><td>Center(C), Restricted Area</td><td>Center(C), Restricted Area</td></tr><tr><td>Pooh Richardson</td><td>Center(C), Restricted Area</td><td>Center(C), Restricted Area</td></tr><tr><td>Popeye Jones</td><td>Center(C), Restricted Area</td><td>Center(C), Restricted Area</td></tr><tr><td>Pops Mensah-Bonsu</td><td>Center(C), Restricted Area</td><td>Center(C), Restricted Area</td></tr><tr><td>Precious Achiuwa</td><td>Center(C), Restricted Area</td><td>Center(C), Restricted Area</td></tr><tr><td>Predrag Drobnjak</td><td>Center(C), Restricted Area</td><td>Center(C), Restricted Area</td></tr><tr><td>Predrag Savovic</td><td>Center(C), Restricted Area</td><td>Center(C), Restricted Area</td></tr><tr><td>Priest Lauderdale</td><td>Center(C), Restricted Area</td><td>Center(C), Restricted Area</td></tr><tr><td>Primoz Brezec</td><td>Center(C), Restricted Area</td><td>Center(C), Restricted Area</td></tr><tr><td>Quentin Grimes</td><td>Left Side Center(LC), Above the Break 3</td><td>Left Side(L), Left Corner 3</td></tr><tr><td>Quentin Richardson</td><td>Center(C), Restricted Area</td><td>Center(C), Restricted Area</td></tr><tr><td>Quincy Acy</td><td>Center(C), Restricted Area</td><td>Center(C), Restricted Area</td></tr><tr><td>Quincy Douby</td><td>Center(C), Restricted Area</td><td>Center(C), Restricted Area</td></tr><tr><td>Quincy Lewis</td><td>Center(C), Restricted Area</td><td>Center(C), Restricted Area</td></tr><tr><td>Quincy Pondexter</td><td>Center(C), Restricted Area</td><td>Center(C), Restricted Area</td></tr><tr><td>Quinn Cook</td><td>Center(C), Restricted Area</td><td>Left Side(L), Mid-Range</td></tr><tr><td>Quinndary Weatherspoon</td><td>Center(C), Restricted Area</td><td>Center(C), Restricted Area</td></tr><tr><td>Quinton Ross</td><td>Center(C), Restricted Area</td><td>Center(C), Restricted Area</td></tr><tr><td>Qyntel Woods</td><td>Center(C), Restricted Area</td><td>Center(C), Restricted Area</td></tr><tr><td>R.J. Hampton</td><td>Center(C), Restricted Area</td><td>Center(C), Restricted Area</td></tr><tr><td>RJ Barrett</td><td>Center(C), Restricted Area</td><td>Center(C), Restricted Area</td></tr><tr><td>Raef LaFrentz</td><td>Center(C), Restricted Area</td><td>Center(C), Restricted Area</td></tr><tr><td>Rafael Addison</td><td>Center(C), Restricted Area</td><td>Center(C), Restricted Area</td></tr><tr><td>Rafael Araujo</td><td>Center(C), Restricted Area</td><td>Center(C), Restricted Area</td></tr><tr><td>Rafer Alston</td><td>Center(C), Restricted Area</td><td>Center(C), Restricted Area</td></tr><tr><td>Raja Bell</td><td>Center(C), Restricted Area</td><td>Center(C), Restricted Area</td></tr><tr><td>Rajon Rondo</td><td>Center(C), Restricted Area</td><td>Center(C), Restricted Area</td></tr><tr><td>Rakeem Christmas</td><td>Center(C), Restricted Area</td><td>Center(C), Restricted Area</td></tr><tr><td>Ramon Sessions</td><td>Center(C), Restricted Area</td><td>Center(C), Restricted Area</td></tr><tr><td>Randell Jackson</td><td>Center(C), Restricted Area</td><td>Center(C), Restricted Area</td></tr><tr><td>Randolph Morris</td><td>Center(C), Restricted Area</td><td>Center(C), Restricted Area</td></tr><tr><td>Randy Brown</td><td>Center(C), Restricted Area</td><td>Center(C), Restricted Area</td></tr><tr><td>Randy Foye</td><td>Center(C), Restricted Area</td><td>Center(C), Restricted Area</td></tr><tr><td>Randy Livingston</td><td>Center(C), Restricted Area</td><td>Center(C), Restricted Area</td></tr><tr><td>Rashad McCants</td><td>Center(C), Restricted Area</td><td>Center(C), Restricted Area</td></tr><tr><td>Rashad Vaughn</td><td>Center(C), Restricted Area</td><td>Center(C), Restricted Area</td></tr><tr><td>Rashard Lewis</td><td>Center(C), Restricted Area</td><td>Center(C), Restricted Area</td></tr><tr><td>Rasheed Wallace</td><td>Center(C), Restricted Area</td><td>Center(C), Restricted Area</td></tr><tr><td>Rasho Nesterovic</td><td>Center(C), Restricted Area</td><td>Center(C), Restricted Area</td></tr><tr><td>Rasual Butler</td><td>Right Side Center(RC), Above the Break 3</td><td>Center(C), Restricted Area</td></tr><tr><td>Raul Lopez</td><td>Center(C), Restricted Area</td><td>Center(C), Mid-Range</td></tr><tr><td>Raul Neto</td><td>Center(C), Restricted Area</td><td>Center(C), Restricted Area</td></tr><tr><td>Rawle Marshall</td><td>Center(C), Restricted Area</td><td>Center(C), Restricted Area</td></tr><tr><td>Ray Allen</td><td>Center(C), Restricted Area</td><td>Center(C), Restricted Area</td></tr><tr><td>Ray McCallum</td><td>Center(C), Restricted Area</td><td>Center(C), Restricted Area</td></tr><tr><td>Ray Owes</td><td>Center(C), Restricted Area</td><td>Center(C), Restricted Area</td></tr><tr><td>Ray Spalding</td><td>Center(C), Restricted Area</td><td>Center(C), Restricted Area</td></tr><tr><td>Raymond Felton</td><td>Center(C), Restricted Area</td><td>Center(C), Restricted Area</td></tr><tr><td>Reece Gaines</td><td>Center(C), Restricted Area</td><td>Center(C), Restricted Area</td></tr><tr><td>Reggie Bullock</td><td>Left Side Center(LC), Above the Break 3</td><td>Center(C), Restricted Area</td></tr><tr><td>Reggie Evans</td><td>Center(C), Restricted Area</td><td>Center(C), Restricted Area</td></tr><tr><td>Reggie Geary</td><td>Center(C), Restricted Area</td><td>Center(C), Restricted Area</td></tr><tr><td>Reggie Jackson</td><td>Center(C), Restricted Area</td><td>Center(C), Restricted Area</td></tr><tr><td>Reggie Jordan</td><td>Center(C), Restricted Area</td><td>Center(C), Restricted Area</td></tr><tr><td>Reggie Miller</td><td>Right Side(R), Mid-Range</td><td>Center(C), Restricted Area</td></tr><tr><td>Reggie Perry</td><td>Center(C), Restricted Area</td><td>Center(C), Restricted Area</td></tr><tr><td>Reggie Slater</td><td>Center(C), Restricted Area</td><td>Center(C), Restricted Area</td></tr><tr><td>Renaldo Balkman</td><td>Center(C), Restricted Area</td><td>Center(C), Restricted Area</td></tr><tr><td>Rex Chapman</td><td>Left Side(L), Mid-Range</td><td>Center(C), Restricted Area</td></tr><tr><td>Rex Walters</td><td>Center(C), Restricted Area</td><td>Center(C), Restricted Area</td></tr><tr><td>Richard Hamilton</td><td>Center(C), Restricted Area</td><td>Center(C), Restricted Area</td></tr><tr><td>Richard Jefferson</td><td>Center(C), Restricted Area</td><td>Center(C), Restricted Area</td></tr><tr><td>Richaun Holmes</td><td>Center(C), Restricted Area</td><td>Center(C), Restricted Area</td></tr><tr><td>Richie Frahm</td><td>Left Side Center(LC), Above the Break 3</td><td>Center(C), Restricted Area</td></tr><tr><td>Rick Brunson</td><td>Center(C), Restricted Area</td><td>Left Side(L), Left Corner 3</td></tr><tr><td>Rick Fox</td><td>Center(C), Restricted Area</td><td>Center(C), Restricted Area</td></tr><tr><td>Rick Mahorn</td><td>Center(C), Restricted Area</td><td>Center(C), Restricted Area</td></tr><tr><td>Ricky Davis</td><td>Center(C), Restricted Area</td><td>Center(C), Restricted Area</td></tr><tr><td>Ricky Ledo</td><td>Center(C), Restricted Area</td><td>Center(C), Restricted Area</td></tr><tr><td>Ricky Pierce</td><td>Left Side(L), Mid-Range</td><td>Center(C), In The Paint (Non-RA)</td></tr><tr><td>Ricky Rubio</td><td>Center(C), Restricted Area</td><td>Center(C), Restricted Area</td></tr><tr><td>Rik Smits</td><td>Center(C), In The Paint (Non-RA)</td><td>Center(C), Restricted Area</td></tr><tr><td>Robbie Hummel</td><td>Center(C), Restricted Area</td><td>Center(C), Restricted Area</td></tr><tr><td>Robert Archibald</td><td>Center(C), Restricted Area</td><td>Center(C), Restricted Area</td></tr><tr><td>Robert Covington</td><td>Center(C), Restricted Area</td><td>Center(C), Restricted Area</td></tr><tr><td>Robert Horry</td><td>Center(C), Restricted Area</td><td>Center(C), Restricted Area</td></tr><tr><td>Robert Pack</td><td>Center(C), Restricted Area</td><td>Center(C), Restricted Area</td></tr><tr><td>Robert Parish</td><td>Center(C), Restricted Area</td><td>Center(C), Restricted Area</td></tr><tr><td>Robert Sacre</td><td>Center(C), In The Paint (Non-RA)</td><td>Center(C), Restricted Area</td></tr><tr><td>Robert Swift</td><td>Center(C), Restricted Area</td><td>Center(C), Restricted Area</td></tr><tr><td>Robert Traylor</td><td>Center(C), Restricted Area</td><td>Center(C), Restricted Area</td></tr><tr><td>Robert Williams III</td><td>Center(C), Restricted Area</td><td>Center(C), Restricted Area</td></tr><tr><td>Robin Lopez</td><td>Center(C), Restricted Area</td><td>Center(C), Restricted Area</td></tr><tr><td>Rod Strickland</td><td>Center(C), Restricted Area</td><td>Center(C), Restricted Area</td></tr><tr><td>Rodions Kurucs</td><td>Center(C), Restricted Area</td><td>Center(C), Restricted Area</td></tr><tr><td>Rodney Buford</td><td>Center(C), Restricted Area</td><td>Center(C), Restricted Area</td></tr><tr><td>Rodney Carney</td><td>Center(C), Restricted Area</td><td>Center(C), Restricted Area</td></tr><tr><td>Rodney Hood</td><td>Center(C), In The Paint (Non-RA)</td><td>Center(C), Restricted Area</td></tr><tr><td>Rodney McGruder</td><td>Center(C), Restricted Area</td><td>Center(C), Restricted Area</td></tr><tr><td>Rodney Rogers</td><td>Center(C), Restricted Area</td><td>Center(C), Restricted Area</td></tr><tr><td>Rodney Stuckey</td><td>Center(C), Restricted Area</td><td>Center(C), Restricted Area</td></tr><tr><td>Rodney White</td><td>Center(C), Restricted Area</td><td>Center(C), Restricted Area</td></tr><tr><td>Rodrick Rhodes</td><td>Center(C), Restricted Area</td><td>Center(C), Restricted Area</td></tr><tr><td>Rodrigue Beaubois</td><td>Center(C), Restricted Area</td><td>Center(C), Restricted Area</td></tr><tr><td>Roger Mason Jr.</td><td>Right Side Center(RC), Above the Break 3</td><td>Center(C), Restricted Area</td></tr><tr><td>Roko Ukic</td><td>Center(C), Restricted Area</td><td>Center(C), In The Paint (Non-RA)</td></tr><tr><td>Romeo Langford</td><td>Center(C), Restricted Area</td><td>Center(C), Restricted Area</td></tr><tr><td>Ron Baker</td><td>Center(C), Restricted Area</td><td>Center(C), Restricted Area</td></tr><tr><td>Ron Harper</td><td>Center(C), Restricted Area</td><td>Center(C), Restricted Area</td></tr><tr><td>Ron Mercer</td><td>Center(C), Restricted Area</td><td>Center(C), Restricted Area</td></tr><tr><td>Ronald Dupree</td><td>Center(C), Restricted Area</td><td>Center(C), Restricted Area</td></tr><tr><td>Rondae Hollis-Jefferson</td><td>Center(C), Restricted Area</td><td>Center(C), Restricted Area</td></tr><tr><td>Ronnie Brewer</td><td>Center(C), Restricted Area</td><td>Center(C), Restricted Area</td></tr><tr><td>Ronnie Price</td><td>Center(C), Restricted Area</td><td>Center(C), Restricted Area</td></tr><tr><td>Ronny Turiaf</td><td>Center(C), Restricted Area</td><td>Center(C), Restricted Area</td></tr><tr><td>Rony Seikaly</td><td>Center(C), Restricted Area</td><td>Center(C), Restricted Area</td></tr><tr><td>Roshown McLeod</td><td>Right Side(R), Mid-Range</td><td>Center(C), Restricted Area</td></tr><tr><td>Roy Hibbert</td><td>Center(C), Restricted Area</td><td>Center(C), Restricted Area</td></tr><tr><td>Roy Rogers</td><td>Center(C), Restricted Area</td><td>Center(C), Restricted Area</td></tr><tr><td>Royal Ivey</td><td>Center(C), Restricted Area</td><td>Center(C), Restricted Area</td></tr><tr><td>Royce O'Neale</td><td>Center(C), Restricted Area</td><td>Center(C), Restricted Area</td></tr><tr><td>Ruben Patterson</td><td>Center(C), Restricted Area</td><td>Center(C), Restricted Area</td></tr><tr><td>Ruben Wolkowyski</td><td>Center(C), Restricted Area</td><td>Center(C), Restricted Area</td></tr><tr><td>Rudy Fernandez</td><td>Right Side Center(RC), Above the Break 3</td><td>Center(C), Restricted Area</td></tr><tr><td>Rudy Gay</td><td>Center(C), Restricted Area</td><td>Center(C), Restricted Area</td></tr><tr><td>Rudy Gobert</td><td>Center(C), Restricted Area</td><td>Center(C), Restricted Area</td></tr><tr><td>Rui Hachimura</td><td>Center(C), Restricted Area</td><td>Center(C), Restricted Area</td></tr><tr><td>Rumeal Robinson</td><td>Center(C), Restricted Area</td><td>Center(C), Restricted Area</td></tr><tr><td>Russell Westbrook</td><td>Center(C), Restricted Area</td><td>Center(C), Restricted Area</td></tr><tr><td>Rusty LaRue</td><td>Right Side Center(RC), Above the Break 3</td><td>Right Side(R), Mid-Range</td></tr><tr><td>Ryan Anderson</td><td>Center(C), Restricted Area</td><td>Center(C), Restricted Area</td></tr><tr><td>Ryan Arcidiacono</td><td>Center(C), Restricted Area</td><td>Center(C), Restricted Area</td></tr><tr><td>Ryan Bowen</td><td>Center(C), Restricted Area</td><td>Center(C), Restricted Area</td></tr><tr><td>Ryan Broekhoff</td><td>Right Side Center(RC), Above the Break 3</td><td>Right Side Center(RC), Above the Break 3</td></tr><tr><td>Ryan Gomes</td><td>Center(C), Restricted Area</td><td>Center(C), Restricted Area</td></tr><tr><td>Ryan Hollins</td><td>Center(C), Restricted Area</td><td>Center(C), Restricted Area</td></tr><tr><td>Ryan Humphrey</td><td>Center(C), Restricted Area</td><td>Center(C), Restricted Area</td></tr><tr><td>Ryan Kelly</td><td>Center(C), Restricted Area</td><td>Center(C), Restricted Area</td></tr><tr><td>Ryan Stack</td><td>Center(C), Restricted Area</td><td>Center(C), Restricted Area</td></tr><tr><td>Saben Lee</td><td>Center(C), Restricted Area</td><td>Center(C), Restricted Area</td></tr><tr><td>Saddiq Bey</td><td>Left Side Center(LC), Above the Break 3</td><td>Center(C), Restricted Area</td></tr><tr><td>Salah Mejri</td><td>Center(C), Restricted Area</td><td>Center(C), Restricted Area</td></tr><tr><td>Salim Stoudamire</td><td>Left Side Center(LC), Above the Break 3</td><td>Center(C), Restricted Area</td></tr><tr><td>Sam Cassell</td><td>Left Side(L), Mid-Range</td><td>Center(C), Restricted Area</td></tr><tr><td>Sam Dekker</td><td>Center(C), Restricted Area</td><td>Center(C), Restricted Area</td></tr><tr><td>Sam Jacobson</td><td>Center(C), Restricted Area</td><td>Center(C), Restricted Area</td></tr><tr><td>Sam Mack</td><td>Center(C), Restricted Area</td><td>Center(C), Restricted Area</td></tr><tr><td>Sam Mitchell</td><td>Left Side(L), Mid-Range</td><td>Center(C), Restricted Area</td></tr><tr><td>Sam Perkins</td><td>Center(C), Restricted Area</td><td>Center(C), Restricted Area</td></tr><tr><td>Sam Young</td><td>Center(C), Restricted Area</td><td>Center(C), Restricted Area</td></tr><tr><td>Samaki Walker</td><td>Center(C), Restricted Area</td><td>Center(C), Restricted Area</td></tr><tr><td>Samardo Samuels</td><td>Center(C), Restricted Area</td><td>Center(C), Restricted Area</td></tr><tr><td>Samuel Dalembert</td><td>Center(C), Restricted Area</td><td>Center(C), Restricted Area</td></tr><tr><td>Sandro Mamukelashvili</td><td>Center(C), Restricted Area</td><td>Center(C), Restricted Area</td></tr><tr><td>Santi Aldama</td><td>Center(C), Restricted Area</td><td>Center(C), Restricted Area</td></tr><tr><td>Sarunas Jasikevicius</td><td>Left Side Center(LC), Above the Break 3</td><td>Right Side Center(RC), Mid-Range</td></tr><tr><td>Sasha Danilovic</td><td>Center(C), Restricted Area</td><td>Center(C), Restricted Area</td></tr><tr><td>Sasha Pavlovic</td><td>Center(C), Restricted Area</td><td>Center(C), Restricted Area</td></tr><tr><td>Sasha Vujacic</td><td>Left Side Center(LC), Above the Break 3</td><td>Center(C), Restricted Area</td></tr><tr><td>Scot Pollard</td><td>Center(C), Restricted Area</td><td>Center(C), Restricted Area</td></tr><tr><td>Scott Burrell</td><td>Center(C), Restricted Area</td><td>Right Side(R), Right Corner 3</td></tr><tr><td>Scott Padgett</td><td>Center(C), Restricted Area</td><td>Center(C), Restricted Area</td></tr><tr><td>Scott Williams</td><td>Center(C), Restricted Area</td><td>Center(C), Restricted Area</td></tr><tr><td>Scottie Barnes</td><td>Center(C), Restricted Area</td><td>Center(C), Restricted Area</td></tr><tr><td>Scottie Pippen</td><td>Center(C), Restricted Area</td><td>Center(C), Restricted Area</td></tr><tr><td>Sean Elliott</td><td>Center(C), Restricted Area</td><td>Center(C), Restricted Area</td></tr><tr><td>Sean Kilpatrick</td><td>Center(C), Restricted Area</td><td>Center(C), Restricted Area</td></tr><tr><td>Sean Lampley</td><td>Center(C), Restricted Area</td><td>Center(C), Restricted Area</td></tr><tr><td>Sean Marks</td><td>Center(C), Restricted Area</td><td>Center(C), Restricted Area</td></tr><tr><td>Sean May</td><td>Center(C), Restricted Area</td><td>Center(C), Restricted Area</td></tr><tr><td>Sean Rooks</td><td>Center(C), Restricted Area</td><td>Center(C), Restricted Area</td></tr><tr><td>Sean Williams</td><td>Center(C), Restricted Area</td><td>Center(C), Restricted Area</td></tr><tr><td>Sebastian Telfair</td><td>Center(C), Restricted Area</td><td>Center(C), Restricted Area</td></tr><tr><td>Sekou Doumbouya</td><td>Center(C), Restricted Area</td><td>Center(C), Restricted Area</td></tr><tr><td>Semaj Christon</td><td>Center(C), Restricted Area</td><td>Center(C), Restricted Area</td></tr><tr><td>Semi Ojeleye</td><td>Center(C), Restricted Area</td><td>Center(C), Restricted Area</td></tr><tr><td>Semih Erden</td><td>Center(C), Restricted Area</td><td>Center(C), Restricted Area</td></tr><tr><td>Serge Ibaka</td><td>Center(C), Restricted Area</td><td>Center(C), Restricted Area</td></tr><tr><td>Sergey Karasev</td><td>Center(C), Restricted Area</td><td>Center(C), Restricted Area</td></tr><tr><td>Sergio Rodriguez</td><td>Center(C), Restricted Area</td><td>Center(C), Restricted Area</td></tr><tr><td>Seth Curry</td><td>Right Side Center(RC), Above the Break 3</td><td>Center(C), Restricted Area</td></tr><tr><td>Shabazz Muhammad</td><td>Center(C), Restricted Area</td><td>Center(C), Restricted Area</td></tr><tr><td>Shabazz Napier</td><td>Center(C), Restricted Area</td><td>Center(C), Restricted Area</td></tr><tr><td>Shai Gilgeous-Alexander</td><td>Center(C), Restricted Area</td><td>Center(C), Restricted Area</td></tr><tr><td>Shake Milton</td><td>Center(C), Restricted Area</td><td>Center(C), Restricted Area</td></tr><tr><td>Shammond Williams</td><td>Center(C), Restricted Area</td><td>Center(C), Restricted Area</td></tr><tr><td>Shandon Anderson</td><td>Center(C), Restricted Area</td><td>Center(C), Restricted Area</td></tr><tr><td>Shane Battier</td><td>Center(C), Restricted Area</td><td>Center(C), Restricted Area</td></tr><tr><td>Shane Larkin</td><td>Center(C), Restricted Area</td><td>Center(C), Restricted Area</td></tr><tr><td>Shannon Brown</td><td>Center(C), Restricted Area</td><td>Center(C), Restricted Area</td></tr><tr><td>Shaquille Harrison</td><td>Center(C), Restricted Area</td><td>Center(C), Restricted Area</td></tr><tr><td>Shaquille O'Neal</td><td>Center(C), Restricted Area</td><td>Center(C), Restricted Area</td></tr><tr><td>Shareef Abdur-Rahim</td><td>Center(C), Restricted Area</td><td>Center(C), Restricted Area</td></tr><tr><td>Sharone Wright</td><td>Center(C), Restricted Area</td><td>Center(C), Restricted Area</td></tr><tr><td>Shaun Livingston</td><td>Center(C), Restricted Area</td><td>Center(C), Restricted Area</td></tr><tr><td>Shavlik Randolph</td><td>Center(C), Restricted Area</td><td>Center(C), Restricted Area</td></tr><tr><td>Shawn Bradley</td><td>Center(C), Restricted Area</td><td>Center(C), Restricted Area</td></tr><tr><td>Shawn Kemp</td><td>Center(C), Restricted Area</td><td>Center(C), Restricted Area</td></tr><tr><td>Shawn Long</td><td>Center(C), Restricted Area</td><td>Center(C), Restricted Area</td></tr><tr><td>Shawn Marion</td><td>Center(C), Restricted Area</td><td>Center(C), Restricted Area</td></tr><tr><td>Shawn Respert</td><td>Center(C), Restricted Area</td><td>Right Side(R), Mid-Range</td></tr><tr><td>Shawne Williams</td><td>Center(C), Restricted Area</td><td>Center(C), Restricted Area</td></tr><tr><td>Shawnelle Scott</td><td>Center(C), Restricted Area</td><td>Center(C), Restricted Area</td></tr><tr><td>Shelden Williams</td><td>Center(C), Restricted Area</td><td>Center(C), Restricted Area</td></tr><tr><td>Shelvin Mack</td><td>Center(C), Restricted Area</td><td>Center(C), Restricted Area</td></tr><tr><td>Sherman Douglas</td><td>Center(C), Restricted Area</td><td>Center(C), Restricted Area</td></tr><tr><td>Sindarius Thornwell</td><td>Center(C), Restricted Area</td><td>Center(C), Restricted Area</td></tr><tr><td>Skal Labissiere</td><td>Center(C), Restricted Area</td><td>Center(C), Restricted Area</td></tr><tr><td>Skylar Mays</td><td>Center(C), Restricted Area</td><td>Center(C), Restricted Area</td></tr><tr><td>Smush Parker</td><td>Center(C), Restricted Area</td><td>Center(C), Restricted Area</td></tr><tr><td>Solomon Hill</td><td>Center(C), Restricted Area</td><td>Center(C), Restricted Area</td></tr><tr><td>Solomon Jones</td><td>Center(C), Restricted Area</td><td>Center(C), Restricted Area</td></tr><tr><td>Sonny Weems</td><td>Center(C), Restricted Area</td><td>Center(C), Restricted Area</td></tr><tr><td>Soumaila Samake</td><td>Center(C), Restricted Area</td><td>Center(C), Restricted Area</td></tr><tr><td>Speedy Claxton</td><td>Center(C), Restricted Area</td><td>Center(C), Restricted Area</td></tr><tr><td>Spencer Dinwiddie</td><td>Center(C), Restricted Area</td><td>Center(C), Restricted Area</td></tr><tr><td>Spencer Hawes</td><td>Center(C), Restricted Area</td><td>Center(C), Restricted Area</td></tr><tr><td>Stacey Augmon</td><td>Center(C), Restricted Area</td><td>Center(C), Restricted Area</td></tr><tr><td>Stanley Johnson</td><td>Center(C), Restricted Area</td><td>Center(C), Restricted Area</td></tr><tr><td>Stanley Roberts</td><td>Center(C), Restricted Area</td><td>Center(C), Restricted Area</td></tr><tr><td>Stephane Lasme</td><td>Center(C), Restricted Area</td><td>Center(C), Restricted Area</td></tr><tr><td>Stephen Curry</td><td>Center(C), Restricted Area</td><td>Center(C), Restricted Area</td></tr><tr><td>Stephen Graham</td><td>Center(C), Restricted Area</td><td>Center(C), Restricted Area</td></tr><tr><td>Stephen Howard</td><td>Center(C), Restricted Area</td><td>Center(C), Restricted Area</td></tr><tr><td>Stephen Jackson</td><td>Center(C), Restricted Area</td><td>Center(C), Restricted Area</td></tr><tr><td>Stephon Marbury</td><td>Center(C), Restricted Area</td><td>Center(C), Restricted Area</td></tr><tr><td>Sterling Brown</td><td>Center(C), Restricted Area</td><td>Center(C), Restricted Area</td></tr><tr><td>Steve Blake</td><td>Left Side Center(LC), Above the Break 3</td><td>Center(C), Restricted Area</td></tr><tr><td>Steve Francis</td><td>Center(C), Restricted Area</td><td>Center(C), Restricted Area</td></tr><tr><td>Steve Hamer</td><td>Center(C), Restricted Area</td><td>Center(C), Restricted Area</td></tr><tr><td>Steve Kerr</td><td>Right Side(R), Mid-Range</td><td>Center(C), Restricted Area</td></tr><tr><td>Steve Nash</td><td>Center(C), Restricted Area</td><td>Center(C), Restricted Area</td></tr><tr><td>Steve Novak</td><td>Right Side Center(RC), Above the Break 3</td><td>Left Side(L), Left Corner 3</td></tr><tr><td>Steven Adams</td><td>Center(C), Restricted Area</td><td>Center(C), Restricted Area</td></tr><tr><td>Steven Hunter</td><td>Center(C), Restricted Area</td><td>Center(C), Restricted Area</td></tr><tr><td>Stojko Vrankovic</td><td>Center(C), Restricted Area</td><td>Center(C), Restricted Area</td></tr><tr><td>Stromile Swift</td><td>Center(C), Restricted Area</td><td>Center(C), Restricted Area</td></tr><tr><td>Sundiata Gaines</td><td>Center(C), Restricted Area</td><td>Center(C), Restricted Area</td></tr><tr><td>Svi Mykhailiuk</td><td>Center(C), Restricted Area</td><td>Center(C), Restricted Area</td></tr><tr><td>T.J. Ford</td><td>Center(C), Restricted Area</td><td>Center(C), Restricted Area</td></tr><tr><td>T.J. Leaf</td><td>Center(C), Restricted Area</td><td>Center(C), Restricted Area</td></tr><tr><td>T.J. McConnell</td><td>Center(C), Restricted Area</td><td>Center(C), Restricted Area</td></tr><tr><td>T.J. Warren</td><td>Center(C), Restricted Area</td><td>Center(C), Restricted Area</td></tr><tr><td>Tacko Fall</td><td>Center(C), Restricted Area</td><td>Center(C), Restricted Area</td></tr><tr><td>Taj Gibson</td><td>Center(C), Restricted Area</td><td>Center(C), Restricted Area</td></tr><tr><td>Talen Horton-Tucker</td><td>Center(C), Restricted Area</td><td>Center(C), Restricted Area</td></tr><tr><td>Tamar Slay</td><td>Center(C), Restricted Area</td><td>Center(C), Restricted Area</td></tr><tr><td>Tarence Kinsey</td><td>Center(C), Restricted Area</td><td>Center(C), Restricted Area</td></tr><tr><td>Tarik Black</td><td>Center(C), Restricted Area</td><td>Center(C), Restricted Area</td></tr><tr><td>Tariq Abdul-Wahad</td><td>Center(C), Restricted Area</td><td>Center(C), Restricted Area</td></tr><tr><td>Taurean Prince</td><td>Center(C), Restricted Area</td><td>Center(C), Restricted Area</td></tr><tr><td>Tayshaun Prince</td><td>Center(C), Restricted Area</td><td>Center(C), Restricted Area</td></tr><tr><td>Terance Mann</td><td>Center(C), Restricted Area</td><td>Center(C), Restricted Area</td></tr><tr><td>Terence Davis</td><td>Center(C), Restricted Area</td><td>Center(C), Restricted Area</td></tr><tr><td>Terence Morris</td><td>Center(C), Restricted Area</td><td>Center(C), Restricted Area</td></tr><tr><td>Terrance Ferguson</td><td>Left Side(L), Left Corner 3</td><td>Center(C), Restricted Area</td></tr><tr><td>Terrel Harris</td><td>Center(C), Restricted Area</td><td>Center(C), Restricted Area</td></tr><tr><td>Terrell Brandon</td><td>Left Side(L), Mid-Range</td><td>Center(C), Restricted Area</td></tr><tr><td>Terrence Jones</td><td>Center(C), Restricted Area</td><td>Center(C), Restricted Area</td></tr><tr><td>Terrence Ross</td><td>Right Side Center(RC), Above the Break 3</td><td>Center(C), Restricted Area</td></tr><tr><td>Terrence Williams</td><td>Center(C), Restricted Area</td><td>Center(C), Restricted Area</td></tr><tr><td>Terry Cummings</td><td>Center(C), Restricted Area</td><td>Center(C), Restricted Area</td></tr><tr><td>Terry Davis</td><td>Center(C), Restricted Area</td><td>Center(C), Restricted Area</td></tr><tr><td>Terry Dehere</td><td>Center(C), Restricted Area</td><td>Center(C), Restricted Area</td></tr><tr><td>Terry Mills</td><td>Left Side(L), Mid-Range</td><td>Center(C), Mid-Range</td></tr><tr><td>Terry Porter</td><td>Center(C), Restricted Area</td><td>Center(C), Restricted Area</td></tr><tr><td>Terry Rozier</td><td>Center(C), Restricted Area</td><td>Center(C), Restricted Area</td></tr><tr><td>Terry Taylor</td><td>Center(C), Restricted Area</td><td>Center(C), Restricted Area</td></tr><tr><td>Thabo Sefolosha</td><td>Center(C), Restricted Area</td><td>Center(C), Restricted Area</td></tr><tr><td>Thaddeus Young</td><td>Center(C), Restricted Area</td><td>Center(C), Restricted Area</td></tr><tr><td>Thanasis Antetokounmpo</td><td>Center(C), Restricted Area</td><td>Center(C), Restricted Area</td></tr><tr><td>Theo Maledon</td><td>Center(C), In The Paint (Non-RA)</td><td>Center(C), Restricted Area</td></tr><tr><td>Theo Pinson</td><td>Center(C), Restricted Area</td><td>Center(C), Restricted Area</td></tr><tr><td>Theo Ratliff</td><td>Center(C), Restricted Area</td><td>Center(C), Restricted Area</td></tr><tr><td>Theron Smith</td><td>Center(C), Restricted Area</td><td>Center(C), Restricted Area</td></tr><tr><td>Thomas Bryant</td><td>Center(C), Restricted Area</td><td>Center(C), Restricted Area</td></tr><tr><td>Thomas Hamilton</td><td>Center(C), Restricted Area</td><td>Center(C), Restricted Area</td></tr><tr><td>Thomas Robinson</td><td>Center(C), Restricted Area</td><td>Center(C), Restricted Area</td></tr><tr><td>Thon Maker</td><td>Center(C), Restricted Area</td><td>Center(C), Restricted Area</td></tr><tr><td>Thurl Bailey</td><td>Center(C), Restricted Area</td><td>Center(C), Restricted Area</td></tr><tr><td>Tiago Splitter</td><td>Center(C), Restricted Area</td><td>Center(C), Restricted Area</td></tr><tr><td>Tierre Brown</td><td>Center(C), Restricted Area</td><td>Center(C), Restricted Area</td></tr><tr><td>Tim Duncan</td><td>Center(C), Restricted Area</td><td>Center(C), Restricted Area</td></tr><tr><td>Tim Frazier</td><td>Center(C), Restricted Area</td><td>Center(C), Restricted Area</td></tr><tr><td>Tim Hardaway</td><td>Center(C), Restricted Area</td><td>Center(C), Restricted Area</td></tr><tr><td>Tim Hardaway Jr.</td><td>Center(C), Restricted Area</td><td>Center(C), Restricted Area</td></tr><tr><td>Tim Legler</td><td>Right Side(R), Mid-Range</td><td>Center(C), Restricted Area</td></tr><tr><td>Tim Thomas</td><td>Center(C), Restricted Area</td><td>Center(C), Restricted Area</td></tr><tr><td>Timofey Mozgov</td><td>Center(C), Restricted Area</td><td>Center(C), Restricted Area</td></tr><tr><td>Timothe Luwawu-Cabarrot</td><td>Center(C), Restricted Area</td><td>Center(C), Restricted Area</td></tr><tr><td>Tobias Harris</td><td>Center(C), Restricted Area</td><td>Center(C), Restricted Area</td></tr><tr><td>Toby Bailey</td><td>Center(C), Restricted Area</td><td>Center(C), Restricted Area</td></tr><tr><td>Todd Day</td><td>Center(C), Restricted Area</td><td>Center(C), In The Paint (Non-RA)</td></tr><tr><td>Todd Fuller</td><td>Center(C), Restricted Area</td><td>Center(C), Restricted Area</td></tr><tr><td>Todd MacCulloch</td><td>Center(C), Restricted Area</td><td>Center(C), Restricted Area</td></tr><tr><td>Tom Gugliotta</td><td>Center(C), Restricted Area</td><td>Center(C), Restricted Area</td></tr><tr><td>Tom Hammonds</td><td>Center(C), Restricted Area</td><td>Center(C), Restricted Area</td></tr><tr><td>Tomas Satoransky</td><td>Center(C), Restricted Area</td><td>Center(C), Restricted Area</td></tr><tr><td>Toney Douglas</td><td>Center(C), Restricted Area</td><td>Center(C), Restricted Area</td></tr><tr><td>Toni Kukoc</td><td>Center(C), Restricted Area</td><td>Center(C), Restricted Area</td></tr><tr><td>Tony Allen</td><td>Center(C), Restricted Area</td><td>Center(C), Restricted Area</td></tr><tr><td>Tony Battie</td><td>Center(C), Restricted Area</td><td>Center(C), Restricted Area</td></tr><tr><td>Tony Bradley</td><td>Center(C), Restricted Area</td><td>Center(C), Restricted Area</td></tr><tr><td>Tony Delk</td><td>Center(C), Restricted Area</td><td>Right Side(R), In The Paint (Non-RA)</td></tr><tr><td>Tony Dumas</td><td>Center(C), Restricted Area</td><td>Center(C), Restricted Area</td></tr><tr><td>Tony Farmer</td><td>Center(C), Restricted Area</td><td>Center(C), Restricted Area</td></tr><tr><td>Tony Massenburg</td><td>Center(C), Restricted Area</td><td>Center(C), Restricted Area</td></tr><tr><td>Tony Parker</td><td>Center(C), Restricted Area</td><td>Center(C), Restricted Area</td></tr><tr><td>Tony Smith</td><td>Center(C), Restricted Area</td><td>Right Side(R), Mid-Range</td></tr><tr><td>Tony Snell</td><td>Center(C), Restricted Area</td><td>Center(C), Restricted Area</td></tr><tr><td>Tony Wroten</td><td>Center(C), Restricted Area</td><td>Center(C), Restricted Area</td></tr><tr><td>Torrey Craig</td><td>Center(C), Restricted Area</td><td>Center(C), Restricted Area</td></tr><tr><td>Tracy McGrady</td><td>Center(C), Restricted Area</td><td>Center(C), Restricted Area</td></tr><tr><td>Tracy Murray</td><td>Right Side(R), Mid-Range</td><td>Center(C), Restricted Area</td></tr><tr><td>Trae Young</td><td>Center(C), In The Paint (Non-RA)</td><td>Left Side(L), Left Corner 3</td></tr><tr><td>Trajan Langdon</td><td>Center(C), Restricted Area</td><td>Center(C), Restricted Area</td></tr><tr><td>Travis Best</td><td>Center(C), Restricted Area</td><td>Center(C), Restricted Area</td></tr><tr><td>Travis Diener</td><td>Right Side Center(RC), Above the Break 3</td><td>Center(C), Restricted Area</td></tr><tr><td>Travis Hansen</td><td>Center(C), Restricted Area</td><td>Center(C), Restricted Area</td></tr><tr><td>Travis Knight</td><td>Center(C), Restricted Area</td><td>Center(C), Restricted Area</td></tr><tr><td>Travis Outlaw</td><td>Center(C), Restricted Area</td><td>Center(C), Restricted Area</td></tr><tr><td>Travis Wear</td><td>Right Side(R), Mid-Range</td><td>Left Side(L), Mid-Range</td></tr><tr><td>Travis Williams</td><td>Center(C), Restricted Area</td><td>Center(C), Restricted Area</td></tr><tr><td>Tre Jones</td><td>Center(C), Restricted Area</td><td>Center(C), Restricted Area</td></tr><tr><td>Tre Mann</td><td>Center(C), In The Paint (Non-RA)</td><td>Center(C), Restricted Area</td></tr><tr><td>Tremaine Fowlkes</td><td>Center(C), Restricted Area</td><td>Center(C), Restricted Area</td></tr><tr><td>Trendon Watford</td><td>Center(C), Restricted Area</td><td>Center(C), Restricted Area</td></tr><tr><td>Trent Forrest</td><td>Center(C), Restricted Area</td><td>Center(C), Restricted Area</td></tr><tr><td>Trenton Hassell</td><td>Center(C), Restricted Area</td><td>Center(C), Restricted Area</td></tr><tr><td>Treveon Graham</td><td>Center(C), Restricted Area</td><td>Center(C), Restricted Area</td></tr><tr><td>Trevor Ariza</td><td>Center(C), Restricted Area</td><td>Center(C), Restricted Area</td></tr><tr><td>Trevor Booker</td><td>Center(C), Restricted Area</td><td>Center(C), Restricted Area</td></tr><tr><td>Trey Burke</td><td>Center(C), Restricted Area</td><td>Center(C), Restricted Area</td></tr><tr><td>Trey Lyles</td><td>Center(C), Restricted Area</td><td>Center(C), Restricted Area</td></tr><tr><td>Trey Murphy III</td><td>Center(C), Restricted Area</td><td>Center(C), Restricted Area</td></tr><tr><td>Tristan Thompson</td><td>Center(C), Restricted Area</td><td>Center(C), Restricted Area</td></tr><tr><td>Troy Brown Jr.</td><td>Center(C), Restricted Area</td><td>Center(C), Restricted Area</td></tr><tr><td>Troy Daniels</td><td>Right Side Center(RC), Above the Break 3</td><td>Left Side(L), Left Corner 3</td></tr><tr><td>Troy Hudson</td><td>Center(C), Restricted Area</td><td>Center(C), Restricted Area</td></tr><tr><td>Troy Murphy</td><td>Center(C), Restricted Area</td><td>Center(C), Restricted Area</td></tr><tr><td>Troy Williams</td><td>Center(C), Restricted Area</td><td>Center(C), Restricted Area</td></tr><tr><td>Ty Jerome</td><td>Center(C), In The Paint (Non-RA)</td><td>Center(C), Restricted Area</td></tr><tr><td>Ty Lawson</td><td>Center(C), Restricted Area</td><td>Right Side(R), In The Paint (Non-RA)</td></tr><tr><td>Tyler Cavanaugh</td><td>Center(C), Restricted Area</td><td>Center(C), Restricted Area</td></tr><tr><td>Tyler Cook</td><td>Center(C), Restricted Area</td><td>Center(C), Restricted Area</td></tr><tr><td>Tyler Dorsey</td><td>Center(C), Restricted Area</td><td>Center(C), Restricted Area</td></tr><tr><td>Tyler Ennis</td><td>Center(C), Restricted Area</td><td>Center(C), Restricted Area</td></tr><tr><td>Tyler Hansbrough</td><td>Center(C), Restricted Area</td><td>Center(C), Restricted Area</td></tr><tr><td>Tyler Herro</td><td>Center(C), Restricted Area</td><td>Center(C), Restricted Area</td></tr><tr><td>Tyler Johnson</td><td>Center(C), Restricted Area</td><td>Center(C), Restricted Area</td></tr><tr><td>Tyler Ulis</td><td>Center(C), In The Paint (Non-RA)</td><td>Left Side(L), Mid-Range</td></tr><tr><td>Tyler Zeller</td><td>Center(C), Restricted Area</td><td>Center(C), Restricted Area</td></tr><tr><td>Tyreke Evans</td><td>Center(C), Restricted Area</td><td>Center(C), Restricted Area</td></tr><tr><td>Tyrese Haliburton</td><td>Center(C), In The Paint (Non-RA)</td><td>Center(C), Restricted Area</td></tr><tr><td>Tyrese Maxey</td><td>Center(C), Restricted Area</td><td>Center(C), Restricted Area</td></tr><tr><td>Tyrone Corbin</td><td>Center(C), Restricted Area</td><td>Center(C), Restricted Area</td></tr><tr><td>Tyrone Hill</td><td>Center(C), Restricted Area</td><td>Center(C), Restricted Area</td></tr><tr><td>Tyrone Nesby</td><td>Center(C), Restricted Area</td><td>Center(C), Restricted Area</td></tr><tr><td>Tyrone Wallace</td><td>Center(C), Restricted Area</td><td>Center(C), Restricted Area</td></tr><tr><td>Tyronn Lue</td><td>Center(C), Restricted Area</td><td>Right Side(R), In The Paint (Non-RA)</td></tr><tr><td>Tyrus Thomas</td><td>Center(C), Restricted Area</td><td>Center(C), Restricted Area</td></tr><tr><td>Tyshawn Taylor</td><td>Center(C), Restricted Area</td><td>Center(C), Restricted Area</td></tr><tr><td>Tyson Chandler</td><td>Center(C), Restricted Area</td><td>Center(C), Restricted Area</td></tr><tr><td>Tyus Edney</td><td>Center(C), Restricted Area</td><td>Center(C), Restricted Area</td></tr><tr><td>Tyus Jones</td><td>Center(C), In The Paint (Non-RA)</td><td>Center(C), Restricted Area</td></tr><tr><td>Udoka Azubuike</td><td>Center(C), Restricted Area</td><td>Center(C), Restricted Area</td></tr><tr><td>Udonis Haslem</td><td>Center(C), Restricted Area</td><td>Center(C), Restricted Area</td></tr><tr><td>Vernon Maxwell</td><td>Center(C), Restricted Area</td><td>Center(C), Restricted Area</td></tr><tr><td>Viacheslav Kravtsov</td><td>Center(C), Restricted Area</td><td>Center(C), Restricted Area</td></tr><tr><td>Victor Claver</td><td>Center(C), Restricted Area</td><td>Center(C), Restricted Area</td></tr><tr><td>Victor Oladipo</td><td>Center(C), Restricted Area</td><td>Center(C), Restricted Area</td></tr><tr><td>Viktor Khryapa</td><td>Center(C), Restricted Area</td><td>Center(C), Restricted Area</td></tr><tr><td>Vin Baker</td><td>Center(C), Restricted Area</td><td>Center(C), Restricted Area</td></tr><tr><td>Vince Carter</td><td>Center(C), Restricted Area</td><td>Center(C), Restricted Area</td></tr><tr><td>Vincent Askew</td><td>Center(C), Restricted Area</td><td>Center(C), Restricted Area</td></tr><tr><td>Vincent Yarbrough</td><td>Left Side(L), Mid-Range</td><td>Center(C), Restricted Area</td></tr><tr><td>Vinny Del Negro</td><td>Left Side(L), Mid-Range</td><td>Center(C), Restricted Area</td></tr><tr><td>Vit Krejci</td><td>Center(C), Restricted Area</td><td>Center(C), Restricted Area</td></tr><tr><td>Vitaly Potapenko</td><td>Center(C), Restricted Area</td><td>Center(C), Restricted Area</td></tr><tr><td>Vlade Divac</td><td>Center(C), Restricted Area</td><td>Center(C), Restricted Area</td></tr><tr><td>Vladimir Radmanovic</td><td>Center(C), Restricted Area</td><td>Center(C), Restricted Area</td></tr><tr><td>Vladimir Stepania</td><td>Center(C), Restricted Area</td><td>Center(C), Restricted Area</td></tr><tr><td>Vlatko Cancar</td><td>Center(C), Restricted Area</td><td>Center(C), Restricted Area</td></tr><tr><td>Von Wafer</td><td>Center(C), Restricted Area</td><td>Center(C), Restricted Area</td></tr><tr><td>Vonteego Cummings</td><td>Center(C), Restricted Area</td><td>Center(C), Restricted Area</td></tr><tr><td>Voshon Lenard</td><td>Center(C), Restricted Area</td><td>Center(C), Restricted Area</td></tr><tr><td>Wade Baldwin IV</td><td>Center(C), Restricted Area</td><td>Center(C), Restricted Area</td></tr><tr><td>Wally Szczerbiak</td><td>Center(C), Restricted Area</td><td>Center(C), Restricted Area</td></tr><tr><td>Walt Lemon Jr.</td><td>Center(C), Restricted Area</td><td>Center(C), Restricted Area</td></tr><tr><td>Walt Williams</td><td>Center(C), Restricted Area</td><td>Center(C), Restricted Area</td></tr><tr><td>Walter Herrmann</td><td>Center(C), Restricted Area</td><td>Center(C), Restricted Area</td></tr><tr><td>Walter McCarty</td><td>Center(C), Restricted Area</td><td>Center(C), Restricted Area</td></tr><tr><td>Wayman Tisdale</td><td>Center(C), Restricted Area</td><td>Center(C), Restricted Area</td></tr><tr><td>Wayne Ellington</td><td>Right Side Center(RC), Above the Break 3</td><td>Center(C), Restricted Area</td></tr><tr><td>Wayne Selden</td><td>Center(C), Restricted Area</td><td>Center(C), Restricted Area</td></tr><tr><td>Wayne Simien</td><td>Center(C), Restricted Area</td><td>Center(C), Restricted Area</td></tr><tr><td>Wendell Carter Jr.</td><td>Center(C), Restricted Area</td><td>Center(C), Restricted Area</td></tr><tr><td>Wenyen Gabriel</td><td>Center(C), Restricted Area</td><td>Center(C), Restricted Area</td></tr><tr><td>Wes Iwundu</td><td>Center(C), Restricted Area</td><td>Center(C), Restricted Area</td></tr><tr><td>Wesley Johnson</td><td>Center(C), Restricted Area</td><td>Center(C), Restricted Area</td></tr><tr><td>Wesley Matthews</td><td>Center(C), Restricted Area</td><td>Center(C), Restricted Area</td></tr><tr><td>Wesley Person</td><td>Left Side(L), Mid-Range</td><td>Center(C), Restricted Area</td></tr><tr><td>Will Barton</td><td>Center(C), Restricted Area</td><td>Center(C), Restricted Area</td></tr><tr><td>Will Bynum</td><td>Center(C), Restricted Area</td><td>Center(C), Restricted Area</td></tr><tr><td>Will Perdue</td><td>Center(C), Restricted Area</td><td>Center(C), Restricted Area</td></tr><tr><td>Will Solomon</td><td>Center(C), Restricted Area</td><td>Center(C), Restricted Area</td></tr><tr><td>William Avery</td><td>Center(C), Restricted Area</td><td>Center(C), Restricted Area</td></tr><tr><td>Willie Burton</td><td>Center(C), Restricted Area</td><td>Center(C), Restricted Area</td></tr><tr><td>Willie Cauley-Stein</td><td>Center(C), Restricted Area</td><td>Center(C), Restricted Area</td></tr><tr><td>Willie Green</td><td>Center(C), Restricted Area</td><td>Center(C), Restricted Area</td></tr><tr><td>Willie Reed</td><td>Center(C), Restricted Area</td><td>Center(C), Restricted Area</td></tr><tr><td>Willy Hernangomez</td><td>Center(C), Restricted Area</td><td>Center(C), Restricted Area</td></tr><tr><td>Wilson Chandler</td><td>Center(C), Restricted Area</td><td>Center(C), Restricted Area</td></tr><tr><td>Xavier Henry</td><td>Center(C), Restricted Area</td><td>Center(C), Restricted Area</td></tr><tr><td>Xavier McDaniel</td><td>Center(C), Restricted Area</td><td>Center(C), Restricted Area</td></tr><tr><td>Xavier Tillman</td><td>Center(C), Restricted Area</td><td>Center(C), Restricted Area</td></tr><tr><td>Yakhouba Diawara</td><td>Center(C), Restricted Area</td><td>Center(C), Restricted Area</td></tr><tr><td>Yao Ming</td><td>Center(C), Restricted Area</td><td>Center(C), Restricted Area</td></tr><tr><td>Yi Jianlian</td><td>Center(C), Restricted Area</td><td>Center(C), Restricted Area</td></tr><tr><td>Yinka Dare</td><td>Center(C), Restricted Area</td><td>Center(C), Restricted Area</td></tr><tr><td>Yogi Ferrell</td><td>Center(C), Restricted Area</td><td>Center(C), Restricted Area</td></tr><tr><td>Yuta Watanabe</td><td>Center(C), Restricted Area</td><td>Center(C), Restricted Area</td></tr><tr><td>Zabian Dowdell</td><td>Center(C), Restricted Area</td><td>Center(C), Restricted Area</td></tr><tr><td>Zach Collins</td><td>Center(C), Restricted Area</td><td>Center(C), Restricted Area</td></tr><tr><td>Zach LaVine</td><td>Center(C), Restricted Area</td><td>Center(C), Restricted Area</td></tr><tr><td>Zach Randolph</td><td>Center(C), Restricted Area</td><td>Center(C), Restricted Area</td></tr><tr><td>Zan Tabak</td><td>Center(C), Restricted Area</td><td>Center(C), Restricted Area</td></tr><tr><td>Zarko Cabarkapa</td><td>Center(C), Restricted Area</td><td>Center(C), Restricted Area</td></tr><tr><td>Zaza Pachulia</td><td>Center(C), Restricted Area</td><td>Center(C), Restricted Area</td></tr><tr><td>Zeke Nnaji</td><td>Center(C), Restricted Area</td><td>Center(C), Restricted Area</td></tr><tr><td>Zeljko Rebraca</td><td>Center(C), Restricted Area</td><td>Center(C), Restricted Area</td></tr><tr><td>Zendon Hamilton</td><td>Center(C), Restricted Area</td><td>Center(C), Restricted Area</td></tr><tr><td>Ziaire Williams</td><td>Center(C), Restricted Area</td><td>Center(C), Restricted Area</td></tr><tr><td>Zion Williamson</td><td>Center(C), Restricted Area</td><td>Center(C), Restricted Area</td></tr><tr><td>Zoran Planinic</td><td>Center(C), Restricted Area</td><td>Center(C), Restricted Area</td></tr><tr><td>Zydrunas Ilgauskas</td><td>Center(C), Restricted Area</td><td>Center(C), Restricted Area</td></tr></tbody></table></div>"
      ]
     },
     "metadata": {
      "application/vnd.databricks.v1+output": {
       "addedWidgets": {},
       "aggData": [],
       "aggError": "",
       "aggOverflow": false,
       "aggSchema": [],
       "aggSeriesLimitReached": false,
       "aggType": "",
       "arguments": {},
       "columnCustomDisplayInfos": {},
       "data": [
        [
         "A.C. Green",
         "Center(C), Restricted Area",
         "Center(C), Restricted Area"
        ],
        [
         "A.J. Guyton",
         "Right Side Center(RC), Above the Break 3",
         "Center(C), Restricted Area"
        ],
        [
         "AJ Price",
         "Right Side Center(RC), Above the Break 3",
         "Center(C), Restricted Area"
        ],
        [
         "Aaron Brooks",
         "Center(C), Restricted Area",
         "Center(C), Restricted Area"
        ],
        [
         "Aaron Gordon",
         "Center(C), Restricted Area",
         "Center(C), Restricted Area"
        ],
        [
         "Aaron Gray",
         "Center(C), Restricted Area",
         "Center(C), Restricted Area"
        ],
        [
         "Aaron Holiday",
         "Center(C), Restricted Area",
         "Center(C), Restricted Area"
        ],
        [
         "Aaron McKie",
         "Center(C), Restricted Area",
         "Center(C), Restricted Area"
        ],
        [
         "Aaron Nesmith",
         "Center(C), Restricted Area",
         "Center(C), Restricted Area"
        ],
        [
         "Aaron Wiggins",
         "Center(C), Restricted Area",
         "Center(C), Restricted Area"
        ],
        [
         "Aaron Williams",
         "Center(C), Restricted Area",
         "Center(C), Restricted Area"
        ],
        [
         "Abdel Nader",
         "Center(C), Restricted Area",
         "Center(C), Restricted Area"
        ],
        [
         "Acie Earl",
         "Center(C), Restricted Area",
         "Center(C), In The Paint (Non-RA)"
        ],
        [
         "Acie Law",
         "Center(C), Restricted Area",
         "Center(C), Restricted Area"
        ],
        [
         "Adam Keefe",
         "Center(C), Restricted Area",
         "Center(C), Restricted Area"
        ],
        [
         "Adam Morrison",
         "Right Side(R), Mid-Range",
         "Center(C), Restricted Area"
        ],
        [
         "Admiral Schofield",
         "Center(C), Restricted Area",
         "Center(C), Restricted Area"
        ],
        [
         "Adonal Foyle",
         "Center(C), Restricted Area",
         "Center(C), Restricted Area"
        ],
        [
         "Adreian Payne",
         "Center(C), Restricted Area",
         "Center(C), Restricted Area"
        ],
        [
         "Adrian Caldwell",
         "Center(C), Restricted Area",
         "Center(C), Restricted Area"
        ],
        [
         "Adrian Griffin",
         "Center(C), Restricted Area",
         "Center(C), Restricted Area"
        ],
        [
         "Al Harrington",
         "Center(C), Restricted Area",
         "Center(C), Restricted Area"
        ],
        [
         "Al Horford",
         "Center(C), Restricted Area",
         "Center(C), Restricted Area"
        ],
        [
         "Al Jefferson",
         "Center(C), Restricted Area",
         "Center(C), Restricted Area"
        ],
        [
         "Al Thornton",
         "Center(C), Restricted Area",
         "Center(C), Restricted Area"
        ],
        [
         "Al-Farouq Aminu",
         "Center(C), Restricted Area",
         "Center(C), Restricted Area"
        ],
        [
         "Alan Anderson",
         "Center(C), Restricted Area",
         "Center(C), Restricted Area"
        ],
        [
         "Alan Henderson",
         "Center(C), Restricted Area",
         "Center(C), Restricted Area"
        ],
        [
         "Alan Williams",
         "Center(C), Restricted Area",
         "Center(C), Restricted Area"
        ],
        [
         "Alando Tucker",
         "Center(C), Restricted Area",
         "Center(C), Restricted Area"
        ],
        [
         "Alec Burks",
         "Center(C), Restricted Area",
         "Center(C), Restricted Area"
        ],
        [
         "Aleksej Pokusevski",
         "Center(C), Restricted Area",
         "Center(C), Restricted Area"
        ],
        [
         "Alex Abrines",
         "Right Side Center(RC), Above the Break 3",
         "Center(C), Restricted Area"
        ],
        [
         "Alex Caruso",
         "Center(C), Restricted Area",
         "Center(C), Restricted Area"
        ],
        [
         "Alex Len",
         "Center(C), Restricted Area",
         "Center(C), Restricted Area"
        ],
        [
         "Alex Poythress",
         "Center(C), Restricted Area",
         "Center(C), Restricted Area"
        ],
        [
         "Alexander Johnson",
         "Center(C), Restricted Area",
         "Center(C), Restricted Area"
        ],
        [
         "Alexey Shved",
         "Center(C), Restricted Area",
         "Center(C), Restricted Area"
        ],
        [
         "Alexis Ajinca",
         "Center(C), Restricted Area",
         "Center(C), Restricted Area"
        ],
        [
         "Alfonzo McKinnie",
         "Center(C), Restricted Area",
         "Center(C), Restricted Area"
        ],
        [
         "Alize Johnson",
         "Center(C), Restricted Area",
         "Center(C), Restricted Area"
        ],
        [
         "Allan Houston",
         "Left Side(L), Mid-Range",
         "Left Side(L), In The Paint (Non-RA)"
        ],
        [
         "Allan Ray",
         "Center(C), Restricted Area",
         "Left Side(L), Left Corner 3"
        ],
        [
         "Allan Ray",
         "Center(C), Restricted Area",
         "Left Side Center(LC), Above the Break 3"
        ],
        [
         "Allen Crabbe",
         "Left Side Center(LC), Above the Break 3",
         "Center(C), Restricted Area"
        ],
        [
         "Allen Iverson",
         "Center(C), Restricted Area",
         "Center(C), Restricted Area"
        ],
        [
         "Allonzo Trier",
         "Center(C), Restricted Area",
         "Center(C), Restricted Area"
        ],
        [
         "Alonzo Gee",
         "Center(C), Restricted Area",
         "Center(C), Restricted Area"
        ],
        [
         "Alonzo Mourning",
         "Center(C), Restricted Area",
         "Center(C), Restricted Area"
        ],
        [
         "Alperen Sengun",
         "Center(C), Restricted Area",
         "Center(C), Restricted Area"
        ],
        [
         "Alton Ford",
         "Center(C), Restricted Area",
         "Center(C), Restricted Area"
        ],
        [
         "Alton Lister",
         "Center(C), Restricted Area",
         "Center(C), Restricted Area"
        ],
        [
         "Alvin Williams",
         "Center(C), Restricted Area",
         "Center(C), Restricted Area"
        ],
        [
         "Amal McCaskill",
         "Center(C), Restricted Area",
         "Center(C), Restricted Area"
        ],
        [
         "Amar'e Stoudemire",
         "Center(C), Restricted Area",
         "Center(C), Restricted Area"
        ],
        [
         "Amir Coffey",
         "Center(C), Restricted Area",
         "Center(C), Restricted Area"
        ],
        [
         "Amir Johnson",
         "Center(C), Restricted Area",
         "Center(C), Restricted Area"
        ],
        [
         "Anderson Varejao",
         "Center(C), Restricted Area",
         "Center(C), Restricted Area"
        ],
        [
         "Andrae Patterson",
         "Center(C), Restricted Area",
         "Center(C), Restricted Area"
        ],
        [
         "Andray Blatche",
         "Center(C), Restricted Area",
         "Center(C), Restricted Area"
        ],
        [
         "Andre Barrett",
         "Center(C), Restricted Area",
         "Center(C), Restricted Area"
        ],
        [
         "Andre Brown",
         "Center(C), Restricted Area",
         "Center(C), Restricted Area"
        ],
        [
         "Andre Drummond",
         "Center(C), Restricted Area",
         "Center(C), Restricted Area"
        ],
        [
         "Andre Iguodala",
         "Center(C), Restricted Area",
         "Center(C), Restricted Area"
        ],
        [
         "Andre Miller",
         "Center(C), Restricted Area",
         "Center(C), Restricted Area"
        ],
        [
         "Andre Owens",
         "Center(C), Restricted Area",
         "Center(C), Restricted Area"
        ],
        [
         "Andre Roberson",
         "Center(C), Restricted Area",
         "Center(C), Restricted Area"
        ],
        [
         "Andrea Bargnani",
         "Center(C), Restricted Area",
         "Center(C), Restricted Area"
        ],
        [
         "Andrei Kirilenko",
         "Center(C), Restricted Area",
         "Center(C), Restricted Area"
        ],
        [
         "Andres Nocioni",
         "Center(C), Restricted Area",
         "Center(C), Restricted Area"
        ],
        [
         "Andrew Bogut",
         "Center(C), Restricted Area",
         "Center(C), Restricted Area"
        ],
        [
         "Andrew Bynum",
         "Center(C), Restricted Area",
         "Center(C), Restricted Area"
        ],
        [
         "Andrew DeClercq",
         "Center(C), Restricted Area",
         "Center(C), Restricted Area"
        ],
        [
         "Andrew Goudelock",
         "Center(C), In The Paint (Non-RA)",
         "Center(C), In The Paint (Non-RA)"
        ],
        [
         "Andrew Harrison",
         "Center(C), Restricted Area",
         "Center(C), Restricted Area"
        ],
        [
         "Andrew Lang",
         "Center(C), Restricted Area",
         "Center(C), Restricted Area"
        ],
        [
         "Andrew Nicholson",
         "Center(C), Restricted Area",
         "Center(C), Restricted Area"
        ],
        [
         "Andrew Wiggins",
         "Center(C), Restricted Area",
         "Center(C), Restricted Area"
        ],
        [
         "Andris Biedrins",
         "Center(C), Restricted Area",
         "Center(C), Restricted Area"
        ],
        [
         "Anfernee Hardaway",
         "Center(C), Restricted Area",
         "Center(C), Restricted Area"
        ],
        [
         "Anfernee Simons",
         "Left Side Center(LC), Above the Break 3",
         "Center(C), Restricted Area"
        ],
        [
         "Ansu Sesay",
         "Center(C), Restricted Area",
         "Center(C), Restricted Area"
        ],
        [
         "Antawn Jamison",
         "Center(C), Restricted Area",
         "Center(C), Restricted Area"
        ],
        [
         "Ante Zizic",
         "Center(C), Restricted Area",
         "Center(C), Restricted Area"
        ],
        [
         "Anthony Avent",
         "Center(C), Restricted Area",
         "Center(C), Restricted Area"
        ],
        [
         "Anthony Bennett",
         "Center(C), Restricted Area",
         "Center(C), Restricted Area"
        ],
        [
         "Anthony Brown",
         "Left Side Center(LC), Above the Break 3",
         "Left Side Center(LC), Above the Break 3"
        ],
        [
         "Anthony Carter",
         "Center(C), Restricted Area",
         "Center(C), Restricted Area"
        ],
        [
         "Anthony Davis",
         "Center(C), Restricted Area",
         "Center(C), Restricted Area"
        ],
        [
         "Anthony Edwards",
         "Center(C), Restricted Area",
         "Center(C), Restricted Area"
        ],
        [
         "Anthony Gill",
         "Center(C), Restricted Area",
         "Center(C), Restricted Area"
        ],
        [
         "Anthony Goldwire",
         "Center(C), Restricted Area",
         "Left Side(L), Left Corner 3"
        ],
        [
         "Anthony Johnson",
         "Center(C), Restricted Area",
         "Center(C), Restricted Area"
        ],
        [
         "Anthony Lamb",
         "Center(C), Restricted Area",
         "Center(C), Restricted Area"
        ],
        [
         "Anthony Mason",
         "Center(C), Restricted Area",
         "Center(C), Restricted Area"
        ],
        [
         "Anthony Miller",
         "Center(C), Restricted Area",
         "Center(C), Restricted Area"
        ],
        [
         "Anthony Morrow",
         "Right Side Center(RC), Above the Break 3",
         "Center(C), Restricted Area"
        ],
        [
         "Anthony Parker",
         "Center(C), Restricted Area",
         "Center(C), Restricted Area"
        ],
        [
         "Anthony Peeler",
         "Right Side(R), Mid-Range",
         "Center(C), Restricted Area"
        ],
        [
         "Anthony Randolph",
         "Center(C), Restricted Area",
         "Center(C), Restricted Area"
        ],
        [
         "Anthony Roberson",
         "Left Side Center(LC), Above the Break 3",
         "Left Side Center(LC), Above the Break 3"
        ],
        [
         "Anthony Tolliver",
         "Right Side Center(RC), Above the Break 3",
         "Center(C), Restricted Area"
        ],
        [
         "Antoine Carr",
         "Center(C), Restricted Area",
         "Center(C), Restricted Area"
        ],
        [
         "Antoine Walker",
         "Center(C), Restricted Area",
         "Center(C), Restricted Area"
        ],
        [
         "Antoine Wright",
         "Center(C), Restricted Area",
         "Center(C), Restricted Area"
        ],
        [
         "Antonio Blakeney",
         "Center(C), In The Paint (Non-RA)",
         "Center(C), Restricted Area"
        ],
        [
         "Antonio Burks",
         "Center(C), Restricted Area",
         "Center(C), Restricted Area"
        ],
        [
         "Antonio Daniels",
         "Center(C), Restricted Area",
         "Center(C), Restricted Area"
        ],
        [
         "Antonio Davis",
         "Center(C), Restricted Area",
         "Center(C), Restricted Area"
        ],
        [
         "Antonio Harvey",
         "Center(C), Restricted Area",
         "Center(C), Restricted Area"
        ],
        [
         "Antonio Lang",
         "Center(C), Restricted Area",
         "Center(C), Restricted Area"
        ],
        [
         "Antonio McDyess",
         "Center(C), Restricted Area",
         "Center(C), Restricted Area"
        ],
        [
         "Antonis Fotsis",
         "Center(C), Restricted Area",
         "Center(C), Restricted Area"
        ],
        [
         "Anzejs Pasecniks",
         "Center(C), Restricted Area",
         "Center(C), Restricted Area"
        ],
        [
         "Archie Goodwin",
         "Center(C), Restricted Area",
         "Center(C), Restricted Area"
        ],
        [
         "Armen Gilliam",
         "Center(C), Restricted Area",
         "Center(C), Restricted Area"
        ],
        [
         "Armon Johnson",
         "Center(C), Restricted Area",
         "Center(C), In The Paint (Non-RA)"
        ],
        [
         "Armoni Brooks",
         "Left Side Center(LC), Above the Break 3",
         "Center(C), Restricted Area"
        ],
        [
         "Arnett Moultrie",
         "Center(C), Restricted Area",
         "Center(C), Restricted Area"
        ],
        [
         "Aron Baynes",
         "Center(C), Restricted Area",
         "Center(C), Restricted Area"
        ],
        [
         "Arron Afflalo",
         "Center(C), Restricted Area",
         "Center(C), Restricted Area"
        ],
        [
         "Art Long",
         "Center(C), Restricted Area",
         "Center(C), Restricted Area"
        ],
        [
         "Arvydas Sabonis",
         "Center(C), Restricted Area",
         "Center(C), Restricted Area"
        ],
        [
         "Austin Croshere",
         "Center(C), Restricted Area",
         "Center(C), Restricted Area"
        ],
        [
         "Austin Daye",
         "Center(C), Restricted Area",
         "Center(C), Restricted Area"
        ],
        [
         "Austin Reaves",
         "Center(C), Restricted Area",
         "Center(C), Restricted Area"
        ],
        [
         "Austin Rivers",
         "Center(C), Restricted Area",
         "Center(C), Restricted Area"
        ],
        [
         "Avery Bradley",
         "Center(C), Restricted Area",
         "Center(C), Restricted Area"
        ],
        [
         "Avery Johnson",
         "Center(C), Restricted Area",
         "Center(C), Restricted Area"
        ],
        [
         "Awvee Storey",
         "Center(C), Restricted Area",
         "Center(C), Restricted Area"
        ],
        [
         "Ayo Dosunmu",
         "Center(C), Restricted Area",
         "Center(C), Restricted Area"
        ],
        [
         "B.J. Armstrong",
         "Center(C), Restricted Area",
         "Center(C), Restricted Area"
        ],
        [
         "Bam Adebayo",
         "Center(C), Restricted Area",
         "Center(C), Restricted Area"
        ],
        [
         "Baron Davis",
         "Center(C), Restricted Area",
         "Center(C), Restricted Area"
        ],
        [
         "Ben Davis",
         "Center(C), Restricted Area",
         "Center(C), Restricted Area"
        ],
        [
         "Ben Gordon",
         "Center(C), Restricted Area",
         "Center(C), Restricted Area"
        ],
        [
         "Ben Handlogten",
         "Center(C), Restricted Area",
         "Center(C), Restricted Area"
        ],
        [
         "Ben McLemore",
         "Center(C), Restricted Area",
         "Center(C), Restricted Area"
        ],
        [
         "Ben Simmons",
         "Center(C), Restricted Area",
         "Center(C), Restricted Area"
        ],
        [
         "Ben Uzoh",
         "Center(C), Restricted Area",
         "Center(C), Restricted Area"
        ],
        [
         "Ben Wallace",
         "Center(C), Restricted Area",
         "Center(C), Restricted Area"
        ],
        [
         "Beno Udrih",
         "Center(C), Restricted Area",
         "Center(C), Restricted Area"
        ],
        [
         "Bernard James",
         "Center(C), Restricted Area",
         "Center(C), Restricted Area"
        ],
        [
         "Bernard Robinson",
         "Center(C), Restricted Area",
         "Center(C), Restricted Area"
        ],
        [
         "Bill Curley",
         "Center(C), Restricted Area",
         "Center(C), Restricted Area"
        ],
        [
         "Bill Wennington",
         "Right Side(R), Mid-Range",
         "Right Side Center(RC), Mid-Range"
        ],
        [
         "Billy Owens",
         "Center(C), Restricted Area",
         "Center(C), Restricted Area"
        ],
        [
         "Billy Thomas",
         "Left Side(L), Left Corner 3",
         "Left Side(L), Left Corner 3"
        ],
        [
         "Bimbo Coles",
         "Right Side(R), Mid-Range",
         "Center(C), Restricted Area"
        ],
        [
         "Bismack Biyombo",
         "Center(C), Restricted Area",
         "Center(C), Restricted Area"
        ],
        [
         "Bison Dele",
         "Center(C), Restricted Area",
         "Center(C), Restricted Area"
        ],
        [
         "Blake Griffin",
         "Center(C), Restricted Area",
         "Center(C), Restricted Area"
        ],
        [
         "Blue Edwards",
         "Center(C), Restricted Area",
         "Center(C), Restricted Area"
        ],
        [
         "Bo Outlaw",
         "Center(C), Restricted Area",
         "Center(C), Restricted Area"
        ],
        [
         "Bob Sura",
         "Center(C), Restricted Area",
         "Center(C), Restricted Area"
        ],
        [
         "Boban Marjanovic",
         "Center(C), Restricted Area",
         "Center(C), Restricted Area"
        ],
        [
         "Bobby Brown",
         "Center(C), Restricted Area",
         "Left Side Center(LC), Mid-Range"
        ],
        [
         "Bobby Hurley",
         "Center(C), Restricted Area",
         "Center(C), Mid-Range"
        ],
        [
         "Bobby Hurley",
         "Center(C), Restricted Area",
         "Left Side Center(LC), Mid-Range"
        ],
        [
         "Bobby Jackson",
         "Center(C), Restricted Area",
         "Center(C), Restricted Area"
        ],
        [
         "Bobby Phills",
         "Center(C), Restricted Area",
         "Center(C), Restricted Area"
        ],
        [
         "Bobby Portis",
         "Center(C), Restricted Area",
         "Center(C), Restricted Area"
        ],
        [
         "Bobby Simmons",
         "Center(C), Restricted Area",
         "Center(C), Restricted Area"
        ],
        [
         "Bogdan Bogdanovic",
         "Left Side Center(LC), Above the Break 3",
         "Center(C), Restricted Area"
        ],
        [
         "Bojan Bogdanovic",
         "Center(C), Restricted Area",
         "Center(C), Restricted Area"
        ],
        [
         "Bones Hyland",
         "Right Side Center(RC), Above the Break 3",
         "Center(C), Restricted Area"
        ],
        [
         "Bonzi Wells",
         "Center(C), Restricted Area",
         "Center(C), Restricted Area"
        ],
        [
         "Boris Diaw",
         "Center(C), Restricted Area",
         "Center(C), Restricted Area"
        ],
        [
         "Bostjan Nachbar",
         "Center(C), Restricted Area",
         "Center(C), Restricted Area"
        ],
        [
         "Brad Miller",
         "Center(C), Restricted Area",
         "Center(C), Restricted Area"
        ],
        [
         "Brad Wanamaker",
         "Center(C), Restricted Area",
         "Center(C), Restricted Area"
        ],
        [
         "Bradley Beal",
         "Center(C), Restricted Area",
         "Center(C), Restricted Area"
        ],
        [
         "Brandan Wright",
         "Center(C), Restricted Area",
         "Center(C), Restricted Area"
        ],
        [
         "Brandon Armstrong",
         "Right Side(R), Mid-Range",
         "Center(C), Restricted Area"
        ],
        [
         "Brandon Armstrong",
         "Left Side(L), Mid-Range",
         "Center(C), Restricted Area"
        ],
        [
         "Brandon Bass",
         "Center(C), Restricted Area",
         "Center(C), Restricted Area"
        ],
        [
         "Brandon Clarke",
         "Center(C), Restricted Area",
         "Center(C), Restricted Area"
        ],
        [
         "Brandon Davies",
         "Center(C), Restricted Area",
         "Center(C), Restricted Area"
        ],
        [
         "Brandon Goodwin",
         "Center(C), Restricted Area",
         "Center(C), Restricted Area"
        ],
        [
         "Brandon Hunter",
         "Center(C), Restricted Area",
         "Center(C), Restricted Area"
        ],
        [
         "Brandon Ingram",
         "Center(C), Restricted Area",
         "Center(C), Restricted Area"
        ],
        [
         "Brandon Jennings",
         "Center(C), Restricted Area",
         "Center(C), Restricted Area"
        ],
        [
         "Brandon Knight",
         "Center(C), Restricted Area",
         "Center(C), Restricted Area"
        ],
        [
         "Brandon Paul",
         "Center(C), Restricted Area",
         "Center(C), Restricted Area"
        ],
        [
         "Brandon Roy",
         "Center(C), Restricted Area",
         "Center(C), Restricted Area"
        ],
        [
         "Brandon Rush",
         "Center(C), Restricted Area",
         "Center(C), Restricted Area"
        ],
        [
         "Braxton Key",
         "Center(C), Restricted Area",
         "Center(C), Restricted Area"
        ],
        [
         "Brendan Haywood",
         "Center(C), Restricted Area",
         "Center(C), Restricted Area"
        ],
        [
         "Brent Barry",
         "Center(C), Restricted Area",
         "Center(C), Restricted Area"
        ],
        [
         "Brent Price",
         "Right Side Center(RC), Above the Break 3",
         "Center(C), Restricted Area"
        ],
        [
         "Brett Szabo",
         "Center(C), Restricted Area",
         "Center(C), Restricted Area"
        ],
        [
         "Brevin Knight",
         "Center(C), Restricted Area",
         "Center(C), Restricted Area"
        ],
        [
         "Brian Cardinal",
         "Center(C), Restricted Area",
         "Center(C), Restricted Area"
        ],
        [
         "Brian Cook",
         "Center(C), Restricted Area",
         "Center(C), Restricted Area"
        ],
        [
         "Brian Evans",
         "Right Side(R), Mid-Range",
         "Center(C), Restricted Area"
        ],
        [
         "Brian Grant",
         "Center(C), Restricted Area",
         "Center(C), Restricted Area"
        ],
        [
         "Brian Roberts",
         "Center(C), Restricted Area",
         "Right Side Center(RC), Mid-Range"
        ],
        [
         "Brian Scalabrine",
         "Center(C), Restricted Area",
         "Center(C), Restricted Area"
        ],
        [
         "Brian Shaw",
         "Center(C), Restricted Area",
         "Center(C), Restricted Area"
        ],
        [
         "Brian Skinner",
         "Center(C), Restricted Area",
         "Center(C), Restricted Area"
        ],
        [
         "Briante Weber",
         "Center(C), Restricted Area",
         "Center(C), Restricted Area"
        ],
        [
         "Brodric Thomas",
         "Center(C), Restricted Area",
         "Center(C), Restricted Area"
        ],
        [
         "Brook Lopez",
         "Center(C), Restricted Area",
         "Center(C), Restricted Area"
        ],
        [
         "Brooks Thompson",
         "Left Side Center(LC), Above the Break 3",
         "Center(C), Mid-Range"
        ],
        [
         "Bruce Bowen",
         "Center(C), Restricted Area",
         "Center(C), Restricted Area"
        ],
        [
         "Bruce Brown",
         "Center(C), Restricted Area",
         "Center(C), Restricted Area"
        ],
        [
         "Bruno Caboclo",
         "Center(C), Restricted Area",
         "Center(C), Restricted Area"
        ],
        [
         "Bruno Fernando",
         "Center(C), Restricted Area",
         "Center(C), Restricted Area"
        ],
        [
         "Bruno Sundov",
         "Center(C), Restricted Area",
         "Center(C), Restricted Area"
        ],
        [
         "Bryant Reeves",
         "Center(C), Restricted Area",
         "Center(C), Restricted Area"
        ],
        [
         "Bryant Stith",
         "Center(C), Restricted Area",
         "Center(C), Restricted Area"
        ],
        [
         "Bryce Drew",
         "Center(C), Restricted Area",
         "Center(C), Restricted Area"
        ],
        [
         "Bryn Forbes",
         "Right Side Center(RC), Above the Break 3",
         "Center(C), Restricted Area"
        ],
        [
         "Bryon Russell",
         "Center(C), Restricted Area",
         "Center(C), Restricted Area"
        ],
        [
         "Bubba Wells",
         "Center(C), Restricted Area",
         "Center(C), Restricted Area"
        ],
        [
         "Buck Williams",
         "Center(C), Restricted Area",
         "Center(C), Restricted Area"
        ],
        [
         "Buddy Hield",
         "Left Side Center(LC), Above the Break 3",
         "Center(C), Restricted Area"
        ],
        [
         "Byron Mullens",
         "Center(C), Restricted Area",
         "Center(C), Restricted Area"
        ],
        [
         "Byron Scott",
         "Center(C), Restricted Area",
         "Center(C), Restricted Area"
        ],
        [
         "C.J. Watson",
         "Center(C), Restricted Area",
         "Center(C), Restricted Area"
        ],
        [
         "C.J. Williams",
         "Center(C), Restricted Area",
         "Center(C), Restricted Area"
        ],
        [
         "CJ Elleby",
         "Center(C), Restricted Area",
         "Center(C), Restricted Area"
        ],
        [
         "CJ McCollum",
         "Center(C), Restricted Area",
         "Center(C), Restricted Area"
        ],
        [
         "CJ Miles",
         "Center(C), Restricted Area",
         "Center(C), Restricted Area"
        ],
        [
         "Cade Cunningham",
         "Center(C), Restricted Area",
         "Center(C), Restricted Area"
        ],
        [
         "Cal Bowdler",
         "Center(C), Restricted Area",
         "Center(C), Restricted Area"
        ],
        [
         "Calbert Cheaney",
         "Center(C), Restricted Area",
         "Center(C), Restricted Area"
        ],
        [
         "Caleb Martin",
         "Center(C), Restricted Area",
         "Center(C), Restricted Area"
        ],
        [
         "Caleb Swanigan",
         "Center(C), Restricted Area",
         "Center(C), Restricted Area"
        ],
        [
         "Calvin Booth",
         "Center(C), Restricted Area",
         "Center(C), Restricted Area"
        ],
        [
         "Cam Reddish",
         "Center(C), Restricted Area",
         "Center(C), Restricted Area"
        ],
        [
         "Cam Thomas",
         "Center(C), In The Paint (Non-RA)",
         "Left Side(L), Mid-Range"
        ],
        [
         "Cameron Johnson",
         "Right Side Center(RC), Above the Break 3",
         "Center(C), Restricted Area"
        ],
        [
         "Cameron Payne",
         "Center(C), Restricted Area",
         "Left Side(L), In The Paint (Non-RA)"
        ],
        [
         "Caris LeVert",
         "Center(C), Restricted Area",
         "Center(C), Restricted Area"
        ],
        [
         "Carl Herrera",
         "Center(C), Restricted Area",
         "Center(C), Mid-Range"
        ],
        [
         "Carl Landry",
         "Center(C), Restricted Area",
         "Center(C), Restricted Area"
        ],
        [
         "Carl Thomas",
         "Right Side(R), Mid-Range",
         "Right Side(R), Mid-Range"
        ],
        [
         "Carlos Arroyo",
         "Center(C), Restricted Area",
         "Center(C), Restricted Area"
        ],
        [
         "Carlos Boozer",
         "Center(C), Restricted Area",
         "Center(C), Restricted Area"
        ],
        [
         "Carlos Delfino",
         "Center(C), Restricted Area",
         "Center(C), Restricted Area"
        ],
        [
         "Carlos Rogers",
         "Center(C), Restricted Area",
         "Center(C), Restricted Area"
        ],
        [
         "Carmelo Anthony",
         "Center(C), Restricted Area",
         "Center(C), Restricted Area"
        ],
        [
         "Caron Butler",
         "Center(C), Restricted Area",
         "Center(C), Restricted Area"
        ],
        [
         "Carsen Edwards",
         "Center(C), Restricted Area",
         "Center(C), Restricted Area"
        ],
        [
         "Cartier Martin",
         "Center(C), Restricted Area",
         "Center(C), Restricted Area"
        ],
        [
         "Casey Jacobsen",
         "Center(C), Restricted Area",
         "Center(C), Restricted Area"
        ],
        [
         "Cassius Stanley",
         "Center(C), Restricted Area",
         "Center(C), Restricted Area"
        ],
        [
         "Cedi Osman",
         "Center(C), Restricted Area",
         "Center(C), Restricted Area"
        ],
        [
         "Cedric Ceballos",
         "Center(C), Restricted Area",
         "Center(C), Restricted Area"
        ],
        [
         "Cedric Henderson",
         "Center(C), Restricted Area",
         "Center(C), Restricted Area"
        ],
        [
         "Cedric Simmons",
         "Center(C), Restricted Area",
         "Center(C), Restricted Area"
        ],
        [
         "Chandler Hutchison",
         "Center(C), Restricted Area",
         "Center(C), Restricted Area"
        ],
        [
         "Chandler Parsons",
         "Center(C), Restricted Area",
         "Center(C), Restricted Area"
        ],
        [
         "Channing Frye",
         "Right Side Center(RC), Above the Break 3",
         "Center(C), Restricted Area"
        ],
        [
         "Charles Barkley",
         "Center(C), Restricted Area",
         "Center(C), Restricted Area"
        ],
        [
         "Charles Jenkins",
         "Center(C), Restricted Area",
         "Center(C), Restricted Area"
        ],
        [
         "Charles O'Bannon",
         "Center(C), Restricted Area",
         "Center(C), Restricted Area"
        ],
        [
         "Charles Oakley",
         "Center(C), Restricted Area",
         "Center(C), Restricted Area"
        ],
        [
         "Charles Shackleford",
         "Center(C), In The Paint (Non-RA)",
         "Center(C), Restricted Area"
        ],
        [
         "Charlie Bell",
         "Center(C), Restricted Area",
         "Center(C), Restricted Area"
        ],
        [
         "Charlie Brown Jr.",
         "Center(C), Restricted Area",
         "Center(C), Restricted Area"
        ],
        [
         "Charlie Villanueva",
         "Center(C), Restricted Area",
         "Center(C), Restricted Area"
        ],
        [
         "Charlie Ward",
         "Center(C), Restricted Area",
         "Center(C), Restricted Area"
        ],
        [
         "Chase Budinger",
         "Center(C), Restricted Area",
         "Center(C), Restricted Area"
        ],
        [
         "Chasson Randle",
         "Center(C), Restricted Area",
         "Center(C), Restricted Area"
        ],
        [
         "Chauncey Billups",
         "Center(C), Restricted Area",
         "Center(C), Restricted Area"
        ],
        [
         "Cheick Diallo",
         "Center(C), Restricted Area",
         "Center(C), Restricted Area"
        ],
        [
         "Cherokee Parks",
         "Center(C), Restricted Area",
         "Center(C), Restricted Area"
        ],
        [
         "Chimezie Metu",
         "Center(C), Restricted Area",
         "Center(C), Restricted Area"
        ],
        [
         "Chris Andersen",
         "Center(C), Restricted Area",
         "Center(C), Restricted Area"
        ],
        [
         "Chris Anstey",
         "Center(C), Restricted Area",
         "Center(C), Restricted Area"
        ],
        [
         "Chris Bosh",
         "Center(C), Restricted Area",
         "Center(C), Restricted Area"
        ],
        [
         "Chris Boucher",
         "Center(C), Restricted Area",
         "Center(C), Restricted Area"
        ],
        [
         "Chris Carr",
         "Center(C), Restricted Area",
         "Center(C), Restricted Area"
        ],
        [
         "Chris Childs",
         "Center(C), Restricted Area",
         "Center(C), Mid-Range"
        ],
        [
         "Chris Chiozza",
         "Center(C), Restricted Area",
         "Center(C), Above the Break 3"
        ],
        [
         "Chris Clemons",
         "Right Side Center(RC), Above the Break 3",
         "Right Side Center(RC), Above the Break 3"
        ],
        [
         "Chris Clemons",
         "Right Side Center(RC), Above the Break 3",
         "Center(C), Above the Break 3"
        ],
        [
         "Chris Clemons",
         "Left Side Center(LC), Above the Break 3",
         "Center(C), Above the Break 3"
        ],
        [
         "Chris Clemons",
         "Left Side Center(LC), Above the Break 3",
         "Right Side Center(RC), Above the Break 3"
        ],
        [
         "Chris Clemons",
         "Center(C), Above the Break 3",
         "Center(C), Above the Break 3"
        ],
        [
         "Chris Clemons",
         "Center(C), Above the Break 3",
         "Right Side Center(RC), Above the Break 3"
        ],
        [
         "Chris Copeland",
         "Center(C), Restricted Area",
         "Center(C), Restricted Area"
        ],
        [
         "Chris Crawford",
         "Center(C), Restricted Area",
         "Center(C), Restricted Area"
        ],
        [
         "Chris Douglas-Roberts",
         "Center(C), Restricted Area",
         "Center(C), Restricted Area"
        ],
        [
         "Chris Duarte",
         "Center(C), Restricted Area",
         "Center(C), Restricted Area"
        ],
        [
         "Chris Dudley",
         "Center(C), Restricted Area",
         "Center(C), Restricted Area"
        ],
        [
         "Chris Duhon",
         "Center(C), Restricted Area",
         "Center(C), Restricted Area"
        ],
        [
         "Chris Gatling",
         "Center(C), Restricted Area",
         "Center(C), Restricted Area"
        ],
        [
         "Chris Herren",
         "Center(C), Restricted Area",
         "Center(C), Restricted Area"
        ],
        [
         "Chris Hunter",
         "Center(C), Restricted Area",
         "Center(C), Restricted Area"
        ],
        [
         "Chris Jefferies",
         "Center(C), Restricted Area",
         "Center(C), Restricted Area"
        ],
        [
         "Chris Johnson",
         "Center(C), Restricted Area",
         "Center(C), Restricted Area"
        ],
        [
         "Chris Kaman",
         "Center(C), Restricted Area",
         "Center(C), Restricted Area"
        ],
        [
         "Chris McCullough",
         "Center(C), Restricted Area",
         "Center(C), Restricted Area"
        ],
        [
         "Chris Mihm",
         "Center(C), Restricted Area",
         "Center(C), Restricted Area"
        ],
        [
         "Chris Mills",
         "Center(C), Restricted Area",
         "Center(C), Restricted Area"
        ],
        [
         "Chris Morris",
         "Center(C), Restricted Area",
         "Center(C), Restricted Area"
        ],
        [
         "Chris Mullin",
         "Center(C), Restricted Area",
         "Center(C), Restricted Area"
        ],
        [
         "Chris Paul",
         "Center(C), Restricted Area",
         "Center(C), Restricted Area"
        ],
        [
         "Chris Porter",
         "Center(C), Restricted Area",
         "Center(C), Restricted Area"
        ],
        [
         "Chris Quinn",
         "Left Side Center(LC), Above the Break 3",
         "Left Side Center(LC), Mid-Range"
        ],
        [
         "Chris Richard",
         "Center(C), Restricted Area",
         "Center(C), Restricted Area"
        ],
        [
         "Chris Robinson",
         "Center(C), Restricted Area",
         "Center(C), Restricted Area"
        ],
        [
         "Chris Silva",
         "Center(C), Restricted Area",
         "Center(C), Restricted Area"
        ],
        [
         "Chris Singleton",
         "Center(C), Restricted Area",
         "Center(C), Restricted Area"
        ],
        [
         "Chris Webber",
         "Center(C), Restricted Area",
         "Center(C), Restricted Area"
        ],
        [
         "Chris Whitney",
         "Right Side Center(RC), Above the Break 3",
         "Center(C), Restricted Area"
        ],
        [
         "Chris Wilcox",
         "Center(C), Restricted Area",
         "Center(C), Restricted Area"
        ],
        [
         "Chris Wright",
         "Center(C), Restricted Area",
         "Center(C), Restricted Area"
        ],
        [
         "Christian Eyenga",
         "Center(C), Restricted Area",
         "Center(C), Restricted Area"
        ],
        [
         "Christian Laettner",
         "Center(C), Restricted Area",
         "Center(C), Restricted Area"
        ],
        [
         "Christian Wood",
         "Center(C), Restricted Area",
         "Center(C), Restricted Area"
        ],
        [
         "Chuck Hayes",
         "Center(C), Restricted Area",
         "Center(C), Restricted Area"
        ],
        [
         "Chuck Person",
         "Left Side Center(LC), Above the Break 3",
         "Center(C), Restricted Area"
        ],
        [
         "Chucky Atkins",
         "Center(C), Restricted Area",
         "Center(C), Restricted Area"
        ],
        [
         "Chucky Brown",
         "Center(C), Restricted Area",
         "Center(C), Restricted Area"
        ],
        [
         "Chuma Okeke",
         "Right Side Center(RC), Above the Break 3",
         "Center(C), Restricted Area"
        ],
        [
         "Chuma Okeke",
         "Center(C), Restricted Area",
         "Center(C), Restricted Area"
        ],
        [
         "Cleanthony Early",
         "Center(C), Restricted Area",
         "Center(C), Restricted Area"
        ],
        [
         "Clifford Robinson",
         "Center(C), Restricted Area",
         "Center(C), Restricted Area"
        ],
        [
         "Clifford Rozier",
         "Center(C), Restricted Area",
         "Center(C), Restricted Area"
        ],
        [
         "Clint Capela",
         "Center(C), Restricted Area",
         "Center(C), Restricted Area"
        ],
        [
         "Clyde Drexler",
         "Center(C), Restricted Area",
         "Center(C), Restricted Area"
        ],
        [
         "Coby White",
         "Center(C), Restricted Area",
         "Center(C), Restricted Area"
        ],
        [
         "Cody Martin",
         "Center(C), Restricted Area",
         "Center(C), Restricted Area"
        ],
        [
         "Cody Zeller",
         "Center(C), Restricted Area",
         "Center(C), Restricted Area"
        ],
        [
         "Cole Aldrich",
         "Center(C), Restricted Area",
         "Center(C), Restricted Area"
        ],
        [
         "Cole Anthony",
         "Center(C), Restricted Area",
         "Center(C), Restricted Area"
        ],
        [
         "Collin Sexton",
         "Center(C), Restricted Area",
         "Center(C), Restricted Area"
        ],
        [
         "Corey Beck",
         "Center(C), Restricted Area",
         "Center(C), Restricted Area"
        ],
        [
         "Corey Benjamin",
         "Center(C), Restricted Area",
         "Center(C), Restricted Area"
        ],
        [
         "Corey Brewer",
         "Center(C), Restricted Area",
         "Center(C), Restricted Area"
        ],
        [
         "Corey Kispert",
         "Center(C), Restricted Area",
         "Center(C), Restricted Area"
        ],
        [
         "Corey Maggette",
         "Center(C), Restricted Area",
         "Center(C), Restricted Area"
        ],
        [
         "Corie Blount",
         "Center(C), Restricted Area",
         "Center(C), Restricted Area"
        ],
        [
         "Corliss Williamson",
         "Center(C), Restricted Area",
         "Center(C), Restricted Area"
        ],
        [
         "Cory Alexander",
         "Center(C), Restricted Area",
         "Center(C), Restricted Area"
        ],
        [
         "Cory Carr",
         "Center(C), Restricted Area",
         "Center(C), Restricted Area"
        ],
        [
         "Cory Higgins",
         "Center(C), Restricted Area",
         "Center(C), Restricted Area"
        ],
        [
         "Cory Jefferson",
         "Center(C), Restricted Area",
         "Center(C), Restricted Area"
        ],
        [
         "Cory Joseph",
         "Center(C), Restricted Area",
         "Center(C), Restricted Area"
        ],
        [
         "Courtney Alexander",
         "Center(C), Restricted Area",
         "Center(C), Restricted Area"
        ],
        [
         "Courtney Lee",
         "Center(C), Restricted Area",
         "Center(C), Restricted Area"
        ],
        [
         "Craig Ehlo",
         "Center(C), Restricted Area",
         "Center(C), Restricted Area"
        ],
        [
         "Craig Smith",
         "Center(C), Restricted Area",
         "Center(C), Restricted Area"
        ],
        [
         "Cristiano Felicio",
         "Center(C), Restricted Area",
         "Center(C), Restricted Area"
        ],
        [
         "Curtis Borchardt",
         "Center(C), Restricted Area",
         "Center(C), Restricted Area"
        ],
        [
         "Cuttino Mobley",
         "Center(C), Restricted Area",
         "Center(C), Restricted Area"
        ],
        [
         "D'Angelo Russell",
         "Center(C), Restricted Area",
         "Center(C), Restricted Area"
        ],
        [
         "D.J. Augustin",
         "Center(C), Restricted Area",
         "Center(C), Restricted Area"
        ],
        [
         "D.J. Wilson",
         "Center(C), Restricted Area",
         "Center(C), Restricted Area"
        ],
        [
         "DJ Mbenga",
         "Center(C), Restricted Area",
         "Center(C), Restricted Area"
        ],
        [
         "DJ Strawberry",
         "Center(C), Restricted Area",
         "Center(C), Restricted Area"
        ],
        [
         "DJ White",
         "Center(C), Restricted Area",
         "Center(C), Restricted Area"
        ],
        [
         "DaJuan Summers",
         "Center(C), Restricted Area",
         "Center(C), Restricted Area"
        ],
        [
         "DaQuan Jeffries",
         "Center(C), Restricted Area",
         "Center(C), Restricted Area"
        ],
        [
         "Daequan Cook",
         "Left Side Center(LC), Above the Break 3",
         "Center(C), Restricted Area"
        ],
        [
         "Dahntay Jones",
         "Center(C), Restricted Area",
         "Center(C), Restricted Area"
        ],
        [
         "Dajuan Wagner",
         "Center(C), Restricted Area",
         "Center(C), Restricted Area"
        ],
        [
         "Dalano Banton",
         "Center(C), Restricted Area",
         "Center(C), Restricted Area"
        ],
        [
         "Dale Davis",
         "Center(C), Restricted Area",
         "Center(C), Restricted Area"
        ],
        [
         "Dale Ellis",
         "Left Side(L), Mid-Range",
         "Center(C), Restricted Area"
        ],
        [
         "Dalibor Bagaric",
         "Center(C), Restricted Area",
         "Center(C), Restricted Area"
        ],
        [
         "Damian Jones",
         "Center(C), Restricted Area",
         "Center(C), Restricted Area"
        ],
        [
         "Damian Lillard",
         "Center(C), Restricted Area",
         "Center(C), Restricted Area"
        ],
        [
         "Damien Wilkins",
         "Center(C), Restricted Area",
         "Center(C), Restricted Area"
        ],
        [
         "Damion James",
         "Center(C), Restricted Area",
         "Center(C), Restricted Area"
        ],
        [
         "Damion Lee",
         "Center(C), Restricted Area",
         "Center(C), Restricted Area"
        ],
        [
         "Damjan Rudez",
         "Left Side Center(LC), Above the Break 3",
         "Center(C), Restricted Area"
        ],
        [
         "Damon Jones",
         "Left Side Center(LC), Above the Break 3",
         "Center(C), Restricted Area"
        ],
        [
         "Damon Stoudamire",
         "Center(C), Restricted Area",
         "Center(C), Restricted Area"
        ],
        [
         "Damone Brown",
         "Center(C), Restricted Area",
         "Center(C), Restricted Area"
        ],
        [
         "Damyean Dotson",
         "Right Side Center(RC), Above the Break 3",
         "Center(C), Restricted Area"
        ],
        [
         "Dan Dickau",
         "Center(C), Restricted Area",
         "Center(C), Restricted Area"
        ],
        [
         "Dan Gadzuric",
         "Center(C), Restricted Area",
         "Center(C), Restricted Area"
        ],
        [
         "Dan Langhi",
         "Left Side(L), Mid-Range",
         "Right Side(R), Mid-Range"
        ],
        [
         "Dan Majerle",
         "Left Side Center(LC), Above the Break 3",
         "Center(C), Restricted Area"
        ],
        [
         "Dana Barros",
         "Center(C), Restricted Area",
         "Center(C), Mid-Range"
        ],
        [
         "Daniel Ewing",
         "Center(C), Restricted Area",
         "Center(C), Restricted Area"
        ],
        [
         "Daniel Gafford",
         "Center(C), Restricted Area",
         "Center(C), Restricted Area"
        ],
        [
         "Daniel Gibson",
         "Left Side Center(LC), Above the Break 3",
         "Center(C), Restricted Area"
        ],
        [
         "Daniel Orton",
         "Center(C), Restricted Area",
         "Center(C), Restricted Area"
        ],
        [
         "Daniel Santiago",
         "Center(C), Restricted Area",
         "Center(C), Restricted Area"
        ],
        [
         "Daniel Theis",
         "Center(C), Restricted Area",
         "Center(C), Restricted Area"
        ],
        [
         "Danilo Gallinari",
         "Center(C), Restricted Area",
         "Center(C), Restricted Area"
        ],
        [
         "Danny Ferry",
         "Right Side(R), Mid-Range",
         "Left Side Center(LC), Mid-Range"
        ],
        [
         "Danny Fortson",
         "Center(C), Restricted Area",
         "Center(C), Restricted Area"
        ],
        [
         "Danny Granger",
         "Center(C), Restricted Area",
         "Center(C), Restricted Area"
        ],
        [
         "Danny Green",
         "Right Side Center(RC), Above the Break 3",
         "Center(C), Restricted Area"
        ],
        [
         "Danny Manning",
         "Center(C), Restricted Area",
         "Center(C), Restricted Area"
        ],
        [
         "Dante Cunningham",
         "Center(C), Restricted Area",
         "Center(C), Restricted Area"
        ],
        [
         "Dante Exum",
         "Center(C), Restricted Area",
         "Center(C), Restricted Area"
        ],
        [
         "Danuel House Jr.",
         "Center(C), Restricted Area",
         "Center(C), Restricted Area"
        ],
        [
         "Dario Saric",
         "Center(C), Restricted Area",
         "Center(C), Restricted Area"
        ],
        [
         "Darius Bazley",
         "Center(C), Restricted Area",
         "Center(C), Restricted Area"
        ],
        [
         "Darius Garland",
         "Center(C), Restricted Area",
         "Left Side Center(LC), Mid-Range"
        ],
        [
         "Darius Miles",
         "Center(C), Restricted Area",
         "Center(C), Restricted Area"
        ],
        [
         "Darius Miller",
         "Left Side Center(LC), Above the Break 3",
         "Center(C), Restricted Area"
        ],
        [
         "Darius Morris",
         "Center(C), Restricted Area",
         "Center(C), Restricted Area"
        ],
        [
         "Darius Songaila",
         "Center(C), Restricted Area",
         "Center(C), Restricted Area"
        ],
        [
         "Darko Milicic",
         "Center(C), Restricted Area",
         "Center(C), Restricted Area"
        ],
        [
         "Darnell Jackson",
         "Center(C), Restricted Area",
         "Center(C), Restricted Area"
        ],
        [
         "Darrell Armstrong",
         "Center(C), Restricted Area",
         "Center(C), Restricted Area"
        ],
        [
         "Darrell Arthur",
         "Center(C), Restricted Area",
         "Center(C), Restricted Area"
        ],
        [
         "Darren Collison",
         "Center(C), Restricted Area",
         "Center(C), Restricted Area"
        ],
        [
         "Darrick Martin",
         "Center(C), Restricted Area",
         "Center(C), Restricted Area"
        ],
        [
         "Darrun Hilliard",
         "Center(C), Restricted Area",
         "Center(C), Restricted Area"
        ],
        [
         "Darvin Ham",
         "Center(C), Restricted Area",
         "Center(C), Restricted Area"
        ],
        [
         "David Andersen",
         "Center(C), Restricted Area",
         "Left Side(L), Mid-Range"
        ],
        [
         "David Benoit",
         "Center(C), Restricted Area",
         "Center(C), Restricted Area"
        ],
        [
         "David Duke Jr.",
         "Center(C), Restricted Area",
         "Center(C), Restricted Area"
        ],
        [
         "David Harrison",
         "Center(C), Restricted Area",
         "Center(C), Restricted Area"
        ],
        [
         "David Lee",
         "Center(C), Restricted Area",
         "Center(C), Restricted Area"
        ],
        [
         "David Noel",
         "Center(C), Restricted Area",
         "Right Side(R), Mid-Range"
        ],
        [
         "David Nwaba",
         "Center(C), Restricted Area",
         "Center(C), Restricted Area"
        ],
        [
         "David Robinson",
         "Center(C), Restricted Area",
         "Center(C), Restricted Area"
        ],
        [
         "David Vanterpool",
         "Center(C), Restricted Area",
         "Center(C), Restricted Area"
        ],
        [
         "David Vaughn",
         "Center(C), Restricted Area",
         "Center(C), Restricted Area"
        ],
        [
         "David Wesley",
         "Center(C), Restricted Area",
         "Center(C), Restricted Area"
        ],
        [
         "David West",
         "Center(C), Restricted Area",
         "Center(C), Restricted Area"
        ],
        [
         "David Wingate",
         "Center(C), Restricted Area",
         "Center(C), Restricted Area"
        ],
        [
         "Davion Mitchell",
         "Center(C), Restricted Area",
         "Center(C), Restricted Area"
        ],
        [
         "Davis Bertans",
         "Right Side Center(RC), Above the Break 3",
         "Center(C), Restricted Area"
        ],
        [
         "Davon Reed",
         "Center(C), Restricted Area",
         "Center(C), Restricted Area"
        ],
        [
         "Day'Ron Sharpe",
         "Center(C), Restricted Area",
         "Center(C), Restricted Area"
        ],
        [
         "De'Aaron Fox",
         "Center(C), Restricted Area",
         "Center(C), Restricted Area"
        ],
        [
         "De'Andre Hunter",
         "Center(C), Restricted Area",
         "Center(C), Restricted Area"
        ],
        [
         "De'Anthony Melton",
         "Center(C), Restricted Area",
         "Center(C), Restricted Area"
        ],
        [
         "DeAndre Jordan",
         "Center(C), Restricted Area",
         "Center(C), Restricted Area"
        ],
        [
         "DeAndre Liggins",
         "Center(C), Restricted Area",
         "Center(C), Restricted Area"
        ],
        [
         "DeAndre' Bembry",
         "Center(C), Restricted Area",
         "Center(C), Restricted Area"
        ],
        [
         "DeJuan Blair",
         "Center(C), Restricted Area",
         "Center(C), Restricted Area"
        ],
        [
         "DeJuan Wheat",
         "Center(C), Restricted Area",
         "Center(C), Restricted Area"
        ],
        [
         "DeMar DeRozan",
         "Center(C), Restricted Area",
         "Center(C), Restricted Area"
        ],
        [
         "DeMarcus Cousins",
         "Center(C), Restricted Area",
         "Center(C), Restricted Area"
        ],
        [
         "DeMarre Carroll",
         "Center(C), Restricted Area",
         "Center(C), Restricted Area"
        ],
        [
         "DeQuan Jones",
         "Center(C), Restricted Area",
         "Center(C), Restricted Area"
        ],
        [
         "DeSagana Diop",
         "Center(C), Restricted Area",
         "Center(C), Restricted Area"
        ],
        [
         "DeShawn Stevenson",
         "Center(C), Restricted Area",
         "Center(C), Restricted Area"
        ],
        [
         "Dean Garrett",
         "Center(C), Restricted Area",
         "Center(C), Restricted Area"
        ],
        [
         "Dean Wade",
         "Center(C), Restricted Area",
         "Center(C), Restricted Area"
        ],
        [
         "Deandre Ayton",
         "Center(C), Restricted Area",
         "Center(C), Restricted Area"
        ],
        [
         "Dedric Willoughby",
         "Left Side Center(LC), Above the Break 3",
         "Left Side Center(LC), Above the Break 3"
        ],
        [
         "Dee Brown",
         "Right Side Center(RC), Above the Break 3",
         "Center(C), Restricted Area"
        ],
        [
         "Dejounte Murray",
         "Center(C), Restricted Area",
         "Left Side(L), In The Paint (Non-RA)"
        ],
        [
         "Dell Curry",
         "Center(C), Restricted Area",
         "Left Side Center(LC), Mid-Range"
        ],
        [
         "Delon Wright",
         "Center(C), Restricted Area",
         "Center(C), Restricted Area"
        ],
        [
         "Delonte West",
         "Center(C), Restricted Area",
         "Center(C), Restricted Area"
        ],
        [
         "Deni Avdija",
         "Center(C), Restricted Area",
         "Center(C), Restricted Area"
        ],
        [
         "Dennis Rodman",
         "Center(C), Restricted Area",
         "Center(C), Restricted Area"
        ],
        [
         "Dennis Schroder",
         "Center(C), Restricted Area",
         "Center(C), Restricted Area"
        ],
        [
         "Dennis Scott",
         "Left Side(L), Mid-Range",
         "Center(C), Restricted Area"
        ],
        [
         "Dennis Smith Jr.",
         "Center(C), Restricted Area",
         "Center(C), Restricted Area"
        ],
        [
         "Denzel Valentine",
         "Center(C), In The Paint (Non-RA)",
         "Center(C), Restricted Area"
        ],
        [
         "Deonte Burton",
         "Center(C), Restricted Area",
         "Center(C), Restricted Area"
        ],
        [
         "DerMarr Johnson",
         "Center(C), Restricted Area",
         "Center(C), Restricted Area"
        ],
        [
         "Derek Anderson",
         "Center(C), Restricted Area",
         "Center(C), Restricted Area"
        ],
        [
         "Derek Fisher",
         "Center(C), Restricted Area",
         "Center(C), Restricted Area"
        ],
        [
         "Derek Harper",
         "Center(C), Restricted Area",
         "Center(C), Restricted Area"
        ],
        [
         "Derek Strong",
         "Center(C), Restricted Area",
         "Center(C), Restricted Area"
        ],
        [
         "Deron Williams",
         "Center(C), Restricted Area",
         "Center(C), Restricted Area"
        ],
        [
         "Derrick Brown",
         "Center(C), Restricted Area",
         "Center(C), Restricted Area"
        ],
        [
         "Derrick Caracter",
         "Center(C), Restricted Area",
         "Center(C), Restricted Area"
        ],
        [
         "Derrick Coleman",
         "Center(C), Restricted Area",
         "Center(C), Restricted Area"
        ],
        [
         "Derrick Dial",
         "Center(C), Restricted Area",
         "Center(C), Restricted Area"
        ],
        [
         "Derrick Favors",
         "Center(C), Restricted Area",
         "Center(C), Restricted Area"
        ],
        [
         "Derrick Jones Jr.",
         "Center(C), Restricted Area",
         "Center(C), Restricted Area"
        ],
        [
         "Derrick McKey",
         "Center(C), Restricted Area",
         "Center(C), Restricted Area"
        ],
        [
         "Derrick Rose",
         "Center(C), Restricted Area",
         "Center(C), Restricted Area"
        ],
        [
         "Derrick White",
         "Center(C), Restricted Area",
         "Center(C), Restricted Area"
        ],
        [
         "Derrick Williams",
         "Center(C), Restricted Area",
         "Center(C), Restricted Area"
        ],
        [
         "Desmond Bane",
         "Center(C), Restricted Area",
         "Center(C), Restricted Area"
        ],
        [
         "Desmond Mason",
         "Center(C), Restricted Area",
         "Center(C), Restricted Area"
        ],
        [
         "Detlef Schrempf",
         "Center(C), Restricted Area",
         "Center(C), Restricted Area"
        ],
        [
         "Devean George",
         "Center(C), Restricted Area",
         "Center(C), Restricted Area"
        ],
        [
         "Devin Booker",
         "Center(C), Restricted Area",
         "Center(C), Restricted Area"
        ],
        [
         "Devin Brown",
         "Center(C), Restricted Area",
         "Center(C), Restricted Area"
        ],
        [
         "Devin Ebanks",
         "Center(C), Restricted Area",
         "Center(C), Restricted Area"
        ],
        [
         "Devin Gray",
         "Center(C), Restricted Area",
         "Center(C), Restricted Area"
        ],
        [
         "Devin Harris",
         "Center(C), Restricted Area",
         "Center(C), Restricted Area"
        ],
        [
         "Devin Vassell",
         "Center(C), Restricted Area",
         "Center(C), Restricted Area"
        ],
        [
         "Devontae Cacok",
         "Center(C), Restricted Area",
         "Center(C), Restricted Area"
        ],
        [
         "Devonte' Graham",
         "Right Side Center(RC), Above the Break 3",
         "Center(C), Restricted Area"
        ],
        [
         "Dewayne Dedmon",
         "Center(C), Restricted Area",
         "Center(C), Restricted Area"
        ],
        [
         "Dexter Pittman",
         "Center(C), Restricted Area",
         "Center(C), Restricted Area"
        ],
        [
         "Deyonta Davis",
         "Center(C), Restricted Area",
         "Center(C), Restricted Area"
        ],
        [
         "Dickey Simpkins",
         "Center(C), Restricted Area",
         "Center(C), Restricted Area"
        ],
        [
         "Dikembe Mutombo",
         "Center(C), Restricted Area",
         "Center(C), Restricted Area"
        ],
        [
         "Dillon Brooks",
         "Center(C), Restricted Area",
         "Center(C), Restricted Area"
        ],
        [
         "Dino Radja",
         "Center(C), Restricted Area",
         "Right Side(R), Mid-Range"
        ],
        [
         "Dion Glover",
         "Center(C), Restricted Area",
         "Center(C), Restricted Area"
        ],
        [
         "Dion Waiters",
         "Center(C), Restricted Area",
         "Center(C), Restricted Area"
        ],
        [
         "Dirk Nowitzki",
         "Right Side(R), Mid-Range",
         "Center(C), Restricted Area"
        ],
        [
         "Domantas Sabonis",
         "Center(C), Restricted Area",
         "Center(C), Restricted Area"
        ],
        [
         "Dominic McGuire",
         "Center(C), Restricted Area",
         "Center(C), Restricted Area"
        ],
        [
         "Dominique Jones",
         "Center(C), Restricted Area",
         "Center(C), Restricted Area"
        ],
        [
         "Dominique Wilkins",
         "Center(C), Restricted Area",
         "Center(C), Restricted Area"
        ],
        [
         "Don MacLean",
         "Center(C), Restricted Area",
         "Center(C), Restricted Area"
        ],
        [
         "Don Reid",
         "Center(C), Restricted Area",
         "Center(C), Restricted Area"
        ],
        [
         "Donald Royal",
         "Center(C), Restricted Area",
         "Center(C), Restricted Area"
        ],
        [
         "Donald Sloan",
         "Center(C), Restricted Area",
         "Center(C), Restricted Area"
        ],
        [
         "Donatas Motiejunas",
         "Center(C), In The Paint (Non-RA)",
         "Center(C), Restricted Area"
        ],
        [
         "Donell Taylor",
         "Center(C), Restricted Area",
         "Center(C), Restricted Area"
        ],
        [
         "Donnell Harvey",
         "Center(C), Restricted Area",
         "Center(C), Restricted Area"
        ],
        [
         "Donny Marshall",
         "Center(C), Restricted Area",
         "Center(C), Restricted Area"
        ],
        [
         "Donovan Mitchell",
         "Center(C), Restricted Area",
         "Center(C), Restricted Area"
        ],
        [
         "Donta Hall",
         "Center(C), Restricted Area",
         "Center(C), Restricted Area"
        ],
        [
         "Donta Smith",
         "Center(C), Restricted Area",
         "Center(C), Restricted Area"
        ],
        [
         "Donte DiVincenzo",
         "Center(C), Restricted Area",
         "Center(C), Restricted Area"
        ],
        [
         "Donte Greene",
         "Center(C), Restricted Area",
         "Center(C), Restricted Area"
        ],
        [
         "Dontonio Wingfield",
         "Center(C), Restricted Area",
         "Center(C), Restricted Area"
        ],
        [
         "Donyell Marshall",
         "Center(C), Restricted Area",
         "Center(C), Restricted Area"
        ],
        [
         "Dorell Wright",
         "Center(C), Restricted Area",
         "Center(C), Restricted Area"
        ],
        [
         "Dorian Finney-Smith",
         "Center(C), Restricted Area",
         "Center(C), Restricted Area"
        ],
        [
         "Doron Lamb",
         "Center(C), Restricted Area",
         "Center(C), Restricted Area"
        ],
        [
         "Doug Christie",
         "Center(C), Restricted Area",
         "Center(C), Restricted Area"
        ],
        [
         "Doug McDermott",
         "Center(C), Restricted Area",
         "Center(C), Restricted Area"
        ],
        [
         "Doug Overton",
         "Center(C), Restricted Area",
         "Center(C), Mid-Range"
        ],
        [
         "Doug West",
         "Center(C), Restricted Area",
         "Center(C), Restricted Area"
        ],
        [
         "Dragan Bender",
         "Center(C), Restricted Area",
         "Center(C), Restricted Area"
        ],
        [
         "Dragan Tarlac",
         "Center(C), In The Paint (Non-RA)",
         "Center(C), In The Paint (Non-RA)"
        ],
        [
         "Draymond Green",
         "Center(C), Restricted Area",
         "Center(C), Restricted Area"
        ],
        [
         "Drew Eubanks",
         "Center(C), Restricted Area",
         "Center(C), Restricted Area"
        ],
        [
         "Drew Gooden",
         "Center(C), Restricted Area",
         "Center(C), Restricted Area"
        ],
        [
         "Duane Causwell",
         "Center(C), Restricted Area",
         "Center(C), Restricted Area"
        ],
        [
         "Duane Ferrell",
         "Center(C), Restricted Area",
         "Center(C), Restricted Area"
        ],
        [
         "Duane Washington Jr.",
         "Center(C), Restricted Area",
         "Center(C), Restricted Area"
        ],
        [
         "Duncan Robinson",
         "Right Side Center(RC), Above the Break 3",
         "Center(C), Restricted Area"
        ],
        [
         "Dwayne Bacon",
         "Center(C), Restricted Area",
         "Center(C), Restricted Area"
        ],
        [
         "Dwayne Jones",
         "Center(C), Restricted Area",
         "Center(C), Restricted Area"
        ],
        [
         "Dwight Buycks",
         "Center(C), Restricted Area",
         "Center(C), Restricted Area"
        ],
        [
         "Dwight Howard",
         "Center(C), Restricted Area",
         "Center(C), Restricted Area"
        ],
        [
         "Dwight Powell",
         "Center(C), Restricted Area",
         "Center(C), Restricted Area"
        ],
        [
         "Dwyane Wade",
         "Center(C), Restricted Area",
         "Center(C), Restricted Area"
        ],
        [
         "Dylan Windler",
         "Center(C), Restricted Area",
         "Center(C), Restricted Area"
        ],
        [
         "Dzanan Musa",
         "Center(C), Restricted Area",
         "Center(C), Restricted Area"
        ],
        [
         "E'Twaun Moore",
         "Center(C), Restricted Area",
         "Center(C), Restricted Area"
        ],
        [
         "Earl Barron",
         "Center(C), Restricted Area",
         "Center(C), Mid-Range"
        ],
        [
         "Earl Boykins",
         "Center(C), Restricted Area",
         "Center(C), Restricted Area"
        ],
        [
         "Earl Clark",
         "Center(C), Restricted Area",
         "Center(C), Restricted Area"
        ],
        [
         "Earl Watson",
         "Center(C), Restricted Area",
         "Center(C), Restricted Area"
        ],
        [
         "Ed Davis",
         "Center(C), Restricted Area",
         "Center(C), Restricted Area"
        ],
        [
         "Ed Gray",
         "Center(C), Restricted Area",
         "Center(C), Restricted Area"
        ],
        [
         "Ed O'Bannon",
         "Center(C), Restricted Area",
         "Center(C), Restricted Area"
        ],
        [
         "Eddie Gill",
         "Center(C), Restricted Area",
         "Center(C), Restricted Area"
        ],
        [
         "Eddie Griffin",
         "Center(C), Restricted Area",
         "Center(C), Restricted Area"
        ],
        [
         "Eddie House",
         "Left Side(L), Mid-Range",
         "Center(C), Restricted Area"
        ],
        [
         "Eddie Johnson",
         "Center(C), Restricted Area",
         "Center(C), Restricted Area"
        ],
        [
         "Eddie Jones",
         "Center(C), Restricted Area",
         "Center(C), Restricted Area"
        ],
        [
         "Eddie Robinson",
         "Center(C), Restricted Area",
         "Center(C), Restricted Area"
        ],
        [
         "Eddy Curry",
         "Center(C), Restricted Area",
         "Center(C), Restricted Area"
        ],
        [
         "Edmond Sumner",
         "Center(C), Restricted Area",
         "Center(C), Restricted Area"
        ],
        [
         "Eduardo Najera",
         "Center(C), Restricted Area",
         "Center(C), Restricted Area"
        ],
        [
         "Ekpe Udoh",
         "Center(C), Restricted Area",
         "Center(C), Restricted Area"
        ],
        [
         "Elden Campbell",
         "Center(C), Restricted Area",
         "Center(C), Restricted Area"
        ],
        [
         "Eldridge Recasner",
         "Center(C), Restricted Area",
         "Center(C), Restricted Area"
        ],
        [
         "Elfrid Payton",
         "Center(C), Restricted Area",
         "Center(C), Restricted Area"
        ],
        [
         "Elie Okobo",
         "Center(C), Restricted Area",
         "Center(C), Restricted Area"
        ],
        [
         "Elijah Hughes",
         "Right Side Center(RC), Above the Break 3",
         "Right Side Center(RC), Above the Break 3"
        ],
        [
         "Elijah Millsap",
         "Center(C), Restricted Area",
         "Center(C), Restricted Area"
        ],
        [
         "Elliot Perry",
         "Center(C), Restricted Area",
         "Center(C), Restricted Area"
        ],
        [
         "Elliot Williams",
         "Center(C), Restricted Area",
         "Center(C), Restricted Area"
        ],
        [
         "Elton Brand",
         "Center(C), Restricted Area",
         "Center(C), Restricted Area"
        ],
        [
         "Emanual Davis",
         "Center(C), Restricted Area",
         "Left Side Center(LC), Mid-Range"
        ],
        [
         "Emeka Okafor",
         "Center(C), Restricted Area",
         "Center(C), Restricted Area"
        ],
        [
         "Emmanuel Mudiay",
         "Center(C), Restricted Area",
         "Center(C), Restricted Area"
        ],
        [
         "Enes Freedom",
         "Center(C), Restricted Area",
         "Center(C), Restricted Area"
        ],
        [
         "Eric Bledsoe",
         "Center(C), Restricted Area",
         "Center(C), Restricted Area"
        ],
        [
         "Eric Gordon",
         "Center(C), Restricted Area",
         "Center(C), Restricted Area"
        ],
        [
         "Eric Maynor",
         "Center(C), In The Paint (Non-RA)",
         "Center(C), Mid-Range"
        ],
        [
         "Eric Mobley",
         "Center(C), Restricted Area",
         "Center(C), Restricted Area"
        ],
        [
         "Eric Montross",
         "Center(C), Restricted Area",
         "Center(C), Restricted Area"
        ],
        [
         "Eric Moreland",
         "Center(C), Restricted Area",
         "Center(C), Restricted Area"
        ],
        [
         "Eric Murdock",
         "Center(C), Restricted Area",
         "Center(C), Restricted Area"
        ],
        [
         "Eric Paschall",
         "Center(C), Restricted Area",
         "Center(C), Restricted Area"
        ],
        [
         "Eric Piatkowski",
         "Center(C), Restricted Area",
         "Center(C), Restricted Area"
        ],
        [
         "Eric Riley",
         "Center(C), Restricted Area",
         "Center(C), Restricted Area"
        ],
        [
         "Eric Snow",
         "Center(C), Restricted Area",
         "Center(C), Restricted Area"
        ],
        [
         "Eric Washington",
         "Center(C), Restricted Area",
         "Center(C), Restricted Area"
        ],
        [
         "Eric Williams",
         "Center(C), Restricted Area",
         "Center(C), Restricted Area"
        ],
        [
         "Erick Dampier",
         "Center(C), Restricted Area",
         "Center(C), Restricted Area"
        ],
        [
         "Erick Strickland",
         "Center(C), Restricted Area",
         "Center(C), Restricted Area"
        ],
        [
         "Ersan Ilyasova",
         "Center(C), Restricted Area",
         "Center(C), Restricted Area"
        ],
        [
         "Ervin Johnson",
         "Center(C), Restricted Area",
         "Center(C), Restricted Area"
        ],
        [
         "Esteban Batista",
         "Center(C), Restricted Area",
         "Center(C), Restricted Area"
        ],
        [
         "Etan Thomas",
         "Center(C), Restricted Area",
         "Center(C), Restricted Area"
        ],
        [
         "Evan Eschmeyer",
         "Center(C), Restricted Area",
         "Center(C), Restricted Area"
        ],
        [
         "Evan Fournier",
         "Center(C), Restricted Area",
         "Center(C), Restricted Area"
        ],
        [
         "Evan Mobley",
         "Center(C), Restricted Area",
         "Center(C), Restricted Area"
        ],
        [
         "Evan Turner",
         "Center(C), Restricted Area",
         "Center(C), Restricted Area"
        ],
        [
         "Fabricio Oberto",
         "Center(C), Restricted Area",
         "Center(C), Restricted Area"
        ],
        [
         "Facundo Campazzo",
         "Right Side Center(RC), Above the Break 3",
         "Center(C), Restricted Area"
        ],
        [
         "Felipe Lopez",
         "Center(C), Restricted Area",
         "Center(C), Restricted Area"
        ],
        [
         "Felton Spencer",
         "Center(C), Restricted Area",
         "Center(C), Restricted Area"
        ],
        [
         "Festus Ezeli",
         "Center(C), Restricted Area",
         "Center(C), Restricted Area"
        ],
        [
         "Francisco Elson",
         "Center(C), Restricted Area",
         "Center(C), Restricted Area"
        ],
        [
         "Francisco Garcia",
         "Center(C), Restricted Area",
         "Center(C), Restricted Area"
        ],
        [
         "Frank Jackson",
         "Center(C), Restricted Area",
         "Center(C), Restricted Area"
        ],
        [
         "Frank Kaminsky",
         "Center(C), Restricted Area",
         "Center(C), Restricted Area"
        ],
        [
         "Frank Mason III",
         "Center(C), Restricted Area",
         "Center(C), Restricted Area"
        ],
        [
         "Frank Ntilikina",
         "Center(C), Restricted Area",
         "Center(C), Restricted Area"
        ],
        [
         "Frank Williams",
         "Center(C), Restricted Area",
         "Center(C), Restricted Area"
        ],
        [
         "Franz Wagner",
         "Center(C), Restricted Area",
         "Center(C), Restricted Area"
        ],
        [
         "Fred Hoiberg",
         "Center(C), Restricted Area",
         "Center(C), Restricted Area"
        ],
        [
         "Fred Jones",
         "Center(C), Restricted Area",
         "Center(C), Restricted Area"
        ],
        [
         "Fred VanVleet",
         "Center(C), Restricted Area",
         "Center(C), Restricted Area"
        ],
        [
         "Freddie Gillespie",
         "Center(C), Restricted Area",
         "Center(C), Restricted Area"
        ],
        [
         "Furkan Aldemir",
         "Center(C), Restricted Area",
         "Center(C), Restricted Area"
        ],
        [
         "Furkan Korkmaz",
         "Right Side Center(RC), Above the Break 3",
         "Center(C), Restricted Area"
        ],
        [
         "Gabe Vincent",
         "Left Side Center(LC), Above the Break 3",
         "Center(C), Restricted Area"
        ],
        [
         "Gabe Vincent",
         "Center(C), Restricted Area",
         "Center(C), Restricted Area"
        ],
        [
         "Garrett Temple",
         "Center(C), Restricted Area",
         "Center(C), Restricted Area"
        ],
        [
         "Garrison Mathews",
         "Left Side Center(LC), Above the Break 3",
         "Center(C), Restricted Area"
        ],
        [
         "Gary Clark",
         "Left Side Center(LC), Above the Break 3",
         "Center(C), Restricted Area"
        ],
        [
         "Gary Forbes",
         "Center(C), Restricted Area",
         "Center(C), Restricted Area"
        ],
        [
         "Gary Grant",
         "Center(C), Restricted Area",
         "Center(C), Restricted Area"
        ],
        [
         "Gary Harris",
         "Center(C), Restricted Area",
         "Center(C), Restricted Area"
        ],
        [
         "Gary Neal",
         "Right Side Center(RC), Above the Break 3",
         "Center(C), Restricted Area"
        ],
        [
         "Gary Payton",
         "Center(C), Restricted Area",
         "Center(C), Restricted Area"
        ],
        [
         "Gary Payton II",
         "Center(C), Restricted Area",
         "Center(C), Restricted Area"
        ],
        [
         "Gary Trent",
         "Center(C), Restricted Area",
         "Center(C), Restricted Area"
        ],
        [
         "Gary Trent Jr.",
         "Left Side Center(LC), Above the Break 3",
         "Center(C), Restricted Area"
        ],
        [
         "George Hill",
         "Center(C), Restricted Area",
         "Center(C), Restricted Area"
        ],
        [
         "George Lynch",
         "Center(C), Restricted Area",
         "Center(C), Restricted Area"
        ],
        [
         "George McCloud",
         "Center(C), Restricted Area",
         "Center(C), Restricted Area"
        ],
        [
         "George Zidek",
         "Center(C), Restricted Area",
         "Center(C), In The Paint (Non-RA)"
        ],
        [
         "Georges Niang",
         "Left Side Center(LC), Above the Break 3",
         "Center(C), Restricted Area"
        ],
        [
         "Georgios Papagiannis",
         "Center(C), Restricted Area",
         "Center(C), Restricted Area"
        ],
        [
         "Gerald Green",
         "Center(C), Restricted Area",
         "Center(C), Restricted Area"
        ],
        [
         "Gerald Wallace",
         "Center(C), Restricted Area",
         "Center(C), Restricted Area"
        ],
        [
         "Gerald Wilkins",
         "Center(C), Restricted Area",
         "Center(C), Restricted Area"
        ],
        [
         "Gerard King",
         "Center(C), Restricted Area",
         "Center(C), Restricted Area"
        ],
        [
         "Gheorghe Muresan",
         "Center(C), Restricted Area",
         "Center(C), Restricted Area"
        ],
        [
         "Giannis Antetokounmpo",
         "Center(C), Restricted Area",
         "Center(C), Restricted Area"
        ],
        [
         "Gilbert Arenas",
         "Center(C), Restricted Area",
         "Center(C), Restricted Area"
        ],
        [
         "Glen Davis",
         "Center(C), Restricted Area",
         "Center(C), Restricted Area"
        ],
        [
         "Glen Rice",
         "Center(C), Restricted Area",
         "Center(C), Restricted Area"
        ],
        [
         "Glenn Robinson",
         "Left Side(L), Mid-Range",
         "Center(C), Restricted Area"
        ],
        [
         "Glenn Robinson III",
         "Center(C), Restricted Area",
         "Center(C), Restricted Area"
        ],
        [
         "God Shammgod",
         "Center(C), Restricted Area",
         "Center(C), Restricted Area"
        ],
        [
         "Goga Bitadze",
         "Center(C), Restricted Area",
         "Center(C), Restricted Area"
        ],
        [
         "Goran Dragic",
         "Center(C), Restricted Area",
         "Center(C), Restricted Area"
        ],
        [
         "Gordan Giricek",
         "Center(C), Restricted Area",
         "Center(C), Restricted Area"
        ],
        [
         "Gordon Hayward",
         "Center(C), Restricted Area",
         "Center(C), Restricted Area"
        ],
        [
         "Gorgui Dieng",
         "Center(C), Restricted Area",
         "Center(C), Restricted Area"
        ],
        [
         "Grant Hill",
         "Center(C), Restricted Area",
         "Center(C), Restricted Area"
        ],
        [
         "Grant Long",
         "Center(C), Restricted Area",
         "Center(C), Restricted Area"
        ],
        [
         "Grant Williams",
         "Center(C), Restricted Area",
         "Center(C), Restricted Area"
        ],
        [
         "Grayson Allen",
         "Left Side Center(LC), Above the Break 3",
         "Center(C), Restricted Area"
        ],
        [
         "Greg Anderson",
         "Center(C), Restricted Area",
         "Center(C), Restricted Area"
        ],
        [
         "Greg Anthony",
         "Center(C), Restricted Area",
         "Center(C), Restricted Area"
        ],
        [
         "Greg Brown III",
         "Center(C), Restricted Area",
         "Center(C), Restricted Area"
        ],
        [
         "Greg Buckner",
         "Center(C), Restricted Area",
         "Center(C), Restricted Area"
        ],
        [
         "Greg Foster",
         "Center(C), Restricted Area",
         "Center(C), Restricted Area"
        ],
        [
         "Greg Graham",
         "Center(C), Restricted Area",
         "Center(C), Restricted Area"
        ],
        [
         "Greg Minor",
         "Center(C), Restricted Area",
         "Center(C), Mid-Range"
        ],
        [
         "Greg Monroe",
         "Center(C), Restricted Area",
         "Center(C), Restricted Area"
        ],
        [
         "Greg Oden",
         "Center(C), Restricted Area",
         "Center(C), Restricted Area"
        ],
        [
         "Greg Ostertag",
         "Center(C), Restricted Area",
         "Center(C), Restricted Area"
        ],
        [
         "Greg Stiemsma",
         "Center(C), Restricted Area",
         "Center(C), Restricted Area"
        ],
        [
         "Greivis Vasquez",
         "Center(C), Restricted Area",
         "Center(C), Restricted Area"
        ],
        [
         "Guerschon Yabusele",
         "Center(C), Restricted Area",
         "Center(C), Restricted Area"
        ],
        [
         "Gustavo Ayon",
         "Center(C), Restricted Area",
         "Center(C), Restricted Area"
        ],
        [
         "Ha Ha",
         "Center(C), Restricted Area",
         "Center(C), Restricted Area"
        ],
        [
         "Hakeem Olajuwon",
         "Center(C), Restricted Area",
         "Center(C), Restricted Area"
        ],
        [
         "Hakim Warrick",
         "Center(C), Restricted Area",
         "Center(C), Restricted Area"
        ],
        [
         "Hamed Haddadi",
         "Center(C), Restricted Area",
         "Center(C), Restricted Area"
        ],
        [
         "Hamidou Diallo",
         "Center(C), Restricted Area",
         "Center(C), Restricted Area"
        ],
        [
         "Hanno Mottola",
         "Center(C), Restricted Area",
         "Center(C), Restricted Area"
        ],
        [
         "Harold Ellis",
         "Center(C), Restricted Area",
         "Center(C), Restricted Area"
        ],
        [
         "Harold Jamison",
         "Center(C), Restricted Area",
         "Center(C), Restricted Area"
        ],
        [
         "Harrison Barnes",
         "Center(C), Restricted Area",
         "Center(C), Restricted Area"
        ],
        [
         "Harry Giles III",
         "Center(C), Restricted Area",
         "Center(C), Restricted Area"
        ],
        [
         "Harvey Grant",
         "Center(C), Restricted Area",
         "Center(C), Restricted Area"
        ],
        [
         "Hasheem Thabeet",
         "Center(C), Restricted Area",
         "Center(C), Restricted Area"
        ],
        [
         "Hassan Adams",
         "Center(C), Restricted Area",
         "Center(C), Restricted Area"
        ],
        [
         "Hassan Whiteside",
         "Center(C), Restricted Area",
         "Center(C), Restricted Area"
        ],
        [
         "Haywoode Workman",
         "Center(C), Restricted Area",
         "Center(C), Restricted Area"
        ],
        [
         "Hedo Turkoglu",
         "Center(C), Restricted Area",
         "Center(C), Restricted Area"
        ],
        [
         "Henry Ellenson",
         "Center(C), Restricted Area",
         "Center(C), Restricted Area"
        ],
        [
         "Henry James",
         "Right Side(R), Mid-Range",
         "Right Side(R), Mid-Range"
        ],
        [
         "Henry Sims",
         "Center(C), Restricted Area",
         "Center(C), Restricted Area"
        ],
        [
         "Henry Walker",
         "Left Side Center(LC), Above the Break 3",
         "Center(C), Restricted Area"
        ],
        [
         "Herb Williams",
         "Right Side(R), Mid-Range",
         "Right Side(R), Mid-Range"
        ],
        [
         "Herbert Jones",
         "Center(C), Restricted Area",
         "Center(C), Restricted Area"
        ],
        [
         "Hersey Hawkins",
         "Center(C), Restricted Area",
         "Center(C), Restricted Area"
        ],
        [
         "Hilton Armstrong",
         "Center(C), Restricted Area",
         "Center(C), Restricted Area"
        ],
        [
         "Hollis Thompson",
         "Center(C), Restricted Area",
         "Center(C), Restricted Area"
        ],
        [
         "Horace Grant",
         "Center(C), Restricted Area",
         "Center(C), Restricted Area"
        ],
        [
         "Hot Rod Williams",
         "Center(C), Restricted Area",
         "Center(C), Restricted Area"
        ],
        [
         "Howard Eisley",
         "Center(C), Restricted Area",
         "Center(C), Restricted Area"
        ],
        [
         "Hubert Davis",
         "Right Side Center(RC), Above the Break 3",
         "Center(C), Restricted Area"
        ],
        [
         "Ian Clark",
         "Center(C), Restricted Area",
         "Center(C), Restricted Area"
        ],
        [
         "Ian Mahinmi",
         "Center(C), Restricted Area",
         "Center(C), Restricted Area"
        ],
        [
         "Ignas Brazdeikis",
         "Center(C), Restricted Area",
         "Center(C), Restricted Area"
        ],
        [
         "Ike Diogu",
         "Center(C), Restricted Area",
         "Center(C), Restricted Area"
        ],
        [
         "Iman Shumpert",
         "Center(C), Restricted Area",
         "Center(C), Restricted Area"
        ],
        [
         "Ime Udoka",
         "Center(C), Restricted Area",
         "Center(C), Restricted Area"
        ],
        [
         "Immanuel Quickley",
         "Center(C), In The Paint (Non-RA)",
         "Center(C), Restricted Area"
        ],
        [
         "Ira Newble",
         "Center(C), Restricted Area",
         "Center(C), Restricted Area"
        ],
        [
         "Isaac Bonga",
         "Center(C), Restricted Area",
         "Center(C), Restricted Area"
        ],
        [
         "Isaac Okoro",
         "Center(C), Restricted Area",
         "Center(C), Restricted Area"
        ],
        [
         "Isaiah Briscoe",
         "Center(C), Restricted Area",
         "Center(C), Restricted Area"
        ],
        [
         "Isaiah Canaan",
         "Left Side Center(LC), Above the Break 3",
         "Left Side(L), Left Corner 3"
        ],
        [
         "Isaiah Hartenstein",
         "Center(C), Restricted Area",
         "Center(C), Restricted Area"
        ],
        [
         "Isaiah Hicks",
         "Center(C), Restricted Area",
         "Center(C), Restricted Area"
        ],
        [
         "Isaiah Jackson",
         "Center(C), Restricted Area",
         "Center(C), Restricted Area"
        ],
        [
         "Isaiah Joe",
         "Left Side Center(LC), Above the Break 3",
         "Center(C), Above the Break 3"
        ],
        [
         "Isaiah Rider",
         "Center(C), Restricted Area",
         "Center(C), Restricted Area"
        ],
        [
         "Isaiah Roby",
         "Center(C), Restricted Area",
         "Center(C), Restricted Area"
        ],
        [
         "Isaiah Stewart",
         "Center(C), Restricted Area",
         "Center(C), Restricted Area"
        ],
        [
         "Isaiah Taylor",
         "Center(C), Restricted Area",
         "Center(C), Restricted Area"
        ],
        [
         "Isaiah Thomas",
         "Center(C), Restricted Area",
         "Center(C), Restricted Area"
        ],
        [
         "Isaiah Whitehead",
         "Center(C), Restricted Area",
         "Center(C), Restricted Area"
        ],
        [
         "Ish Smith",
         "Center(C), Restricted Area",
         "Center(C), Restricted Area"
        ],
        [
         "Ivan Johnson",
         "Center(C), Restricted Area",
         "Center(C), Restricted Area"
        ],
        [
         "Ivan Rabb",
         "Center(C), Restricted Area",
         "Center(C), Restricted Area"
        ],
        [
         "Ivano Newbill",
         "Center(C), Restricted Area",
         "Center(C), Restricted Area"
        ],
        [
         "Ivica Zubac",
         "Center(C), Restricted Area",
         "Center(C), Restricted Area"
        ],
        [
         "J.J. Barea",
         "Center(C), Restricted Area",
         "Center(C), Restricted Area"
        ],
        [
         "J.R. Bremer",
         "Center(C), Restricted Area",
         "Left Side(L), Left Corner 3"
        ],
        [
         "J.R. Giddens",
         "Center(C), Restricted Area",
         "Center(C), Restricted Area"
        ],
        [
         "J.R. Henderson",
         "Center(C), Restricted Area",
         "Center(C), Restricted Area"
        ],
        [
         "J.R. Reid",
         "Right Side(R), Mid-Range",
         "Center(C), Restricted Area"
        ],
        [
         "JJ Hickson",
         "Center(C), Restricted Area",
         "Center(C), Restricted Area"
        ],
        [
         "JJ Redick",
         "Right Side Center(RC), Above the Break 3",
         "Center(C), Restricted Area"
        ],
        [
         "JR Smith",
         "Left Side Center(LC), Above the Break 3",
         "Center(C), Restricted Area"
        ],
        [
         "Ja Morant",
         "Center(C), Restricted Area",
         "Center(C), Restricted Area"
        ],
        [
         "JaJuan Johnson",
         "Center(C), Restricted Area",
         "Center(C), Restricted Area"
        ],
        [
         "JaKarr Sampson",
         "Center(C), Restricted Area",
         "Center(C), Restricted Area"
        ],
        [
         "JaMychal Green",
         "Center(C), Restricted Area",
         "Center(C), Restricted Area"
        ],
        [
         "JaVale McGee",
         "Center(C), Restricted Area",
         "Center(C), Restricted Area"
        ],
        [
         "Jabari Brown",
         "Center(C), Restricted Area",
         "Center(C), Restricted Area"
        ],
        [
         "Jabari Parker",
         "Center(C), Restricted Area",
         "Center(C), Restricted Area"
        ],
        [
         "Jabari Smith",
         "Center(C), Restricted Area",
         "Right Side Center(RC), Mid-Range"
        ],
        [
         "Jackie Butler",
         "Center(C), Restricted Area",
         "Center(C), Restricted Area"
        ],
        [
         "Jackson Vroman",
         "Center(C), Restricted Area",
         "Center(C), Restricted Area"
        ],
        [
         "Jacque Vaughn",
         "Center(C), Restricted Area",
         "Center(C), Restricted Area"
        ],
        [
         "Jaden McDaniels",
         "Center(C), Restricted Area",
         "Center(C), Restricted Area"
        ],
        [
         "Jae Crowder",
         "Center(C), Restricted Area",
         "Center(C), Restricted Area"
        ],
        [
         "Jae'Sean Tate",
         "Center(C), Restricted Area",
         "Center(C), Restricted Area"
        ],
        [
         "Jahidi White",
         "Center(C), Restricted Area",
         "Center(C), Restricted Area"
        ],
        [
         "Jahlil Okafor",
         "Center(C), Restricted Area",
         "Center(C), Restricted Area"
        ],
        [
         "Jahmi'us Ramsey",
         "Center(C), Restricted Area",
         "Center(C), Restricted Area"
        ],
        [
         "Jake Layman",
         "Center(C), Restricted Area",
         "Center(C), Restricted Area"
        ],
        [
         "Jake Tsakalidis",
         "Center(C), Restricted Area",
         "Center(C), Restricted Area"
        ],
        [
         "Jake Voskuhl",
         "Center(C), Restricted Area",
         "Center(C), Restricted Area"
        ],
        [
         "Jakob Poeltl",
         "Center(C), Restricted Area",
         "Center(C), Restricted Area"
        ],
        [
         "Jalen Brunson",
         "Center(C), In The Paint (Non-RA)",
         "Center(C), Restricted Area"
        ],
        [
         "Jalen Green",
         "Center(C), Restricted Area",
         "Center(C), Restricted Area"
        ],
        [
         "Jalen Jones",
         "Center(C), Restricted Area",
         "Center(C), Restricted Area"
        ],
        [
         "Jalen McDaniels",
         "Center(C), Restricted Area",
         "Center(C), Restricted Area"
        ],
        [
         "Jalen Rose",
         "Right Side(R), Mid-Range",
         "Center(C), Restricted Area"
        ],
        [
         "Jalen Smith",
         "Center(C), Restricted Area",
         "Center(C), Restricted Area"
        ],
        [
         "Jalen Suggs",
         "Center(C), Restricted Area",
         "Center(C), Restricted Area"
        ],
        [
         "Jamaal Magloire",
         "Center(C), Restricted Area",
         "Center(C), Restricted Area"
        ],
        [
         "Jamaal Tinsley",
         "Center(C), Restricted Area",
         "Center(C), Restricted Area"
        ],
        [
         "Jamal Crawford",
         "Center(C), Restricted Area",
         "Center(C), Restricted Area"
        ],
        [
         "Jamal Mashburn",
         "Center(C), Restricted Area",
         "Center(C), Restricted Area"
        ],
        [
         "Jamal Murray",
         "Center(C), Restricted Area",
         "Center(C), Restricted Area"
        ],
        [
         "Jamal Sampson",
         "Center(C), Restricted Area",
         "Center(C), Restricted Area"
        ],
        [
         "Jamario Moon",
         "Center(C), Restricted Area",
         "Center(C), Restricted Area"
        ],
        [
         "Jameer Nelson",
         "Center(C), Restricted Area",
         "Center(C), Restricted Area"
        ],
        [
         "James Anderson",
         "Center(C), Restricted Area",
         "Center(C), Restricted Area"
        ],
        [
         "James Bouknight",
         "Center(C), Restricted Area",
         "Center(C), Restricted Area"
        ],
        [
         "James Ennis III",
         "Center(C), Restricted Area",
         "Center(C), Restricted Area"
        ],
        [
         "James Harden",
         "Center(C), Restricted Area",
         "Center(C), Restricted Area"
        ],
        [
         "James Johnson",
         "Center(C), Restricted Area",
         "Center(C), Restricted Area"
        ],
        [
         "James Jones",
         "Right Side Center(RC), Above the Break 3",
         "Center(C), Restricted Area"
        ],
        [
         "James Michael McAdoo",
         "Center(C), Restricted Area",
         "Center(C), Restricted Area"
        ],
        [
         "James Posey",
         "Center(C), Restricted Area",
         "Center(C), Restricted Area"
        ],
        [
         "James Robinson",
         "Center(C), Restricted Area",
         "Center(C), Restricted Area"
        ],
        [
         "James Singleton",
         "Center(C), Restricted Area",
         "Center(C), Restricted Area"
        ],
        [
         "James Thomas",
         "Center(C), Restricted Area",
         "Center(C), Restricted Area"
        ],
        [
         "James White",
         "Center(C), Restricted Area",
         "Center(C), Restricted Area"
        ],
        [
         "James Wiseman",
         "Center(C), Restricted Area",
         "Center(C), Restricted Area"
        ],
        [
         "James Young",
         "Right Side Center(RC), Above the Break 3",
         "Center(C), Restricted Area"
        ],
        [
         "Jamie Feick",
         "Center(C), Restricted Area",
         "Center(C), Mid-Range"
        ],
        [
         "Jamie Watson",
         "Center(C), Restricted Area",
         "Center(C), Restricted Area"
        ],
        [
         "Jamison Brewer",
         "Center(C), Restricted Area",
         "Center(C), Restricted Area"
        ],
        [
         "Jan Vesely",
         "Center(C), Restricted Area",
         "Center(C), Restricted Area"
        ],
        [
         "Jannero Pargo",
         "Left Side(L), Mid-Range",
         "Center(C), Restricted Area"
        ],
        [
         "Jared Butler",
         "Right Side Center(RC), Above the Break 3",
         "Right Side Center(RC), Above the Break 3"
        ],
        [
         "Jared Cunningham",
         "Center(C), Restricted Area",
         "Center(C), Restricted Area"
        ],
        [
         "Jared Dudley",
         "Center(C), Restricted Area",
         "Center(C), Restricted Area"
        ],
        [
         "Jared Jeffries",
         "Center(C), Restricted Area",
         "Center(C), Restricted Area"
        ],
        [
         "Jared Reiner",
         "Center(C), Restricted Area",
         "Center(C), Restricted Area"
        ],
        [
         "Jared Sullinger",
         "Center(C), Restricted Area",
         "Center(C), Restricted Area"
        ],
        [
         "Jarell Martin",
         "Center(C), Restricted Area",
         "Center(C), Restricted Area"
        ],
        [
         "Jaren Jackson",
         "Left Side Center(LC), Above the Break 3",
         "Center(C), Restricted Area"
        ],
        [
         "Jaren Jackson Jr.",
         "Center(C), Restricted Area",
         "Center(C), Restricted Area"
        ],
        [
         "Jaron Blossomgame",
         "Center(C), Restricted Area",
         "Center(C), Restricted Area"
        ],
        [
         "Jarred Vanderbilt",
         "Center(C), Restricted Area",
         "Center(C), Restricted Area"
        ],
        [
         "Jarrett Allen",
         "Center(C), Restricted Area",
         "Center(C), Restricted Area"
        ],
        [
         "Jarrett Culver",
         "Center(C), Restricted Area",
         "Center(C), Restricted Area"
        ],
        [
         "Jarrett Jack",
         "Center(C), Restricted Area",
         "Center(C), Restricted Area"
        ],
        [
         "Jarron Collins",
         "Center(C), Restricted Area",
         "Center(C), Restricted Area"
        ],
        [
         "Jarvis Hayes",
         "Center(C), Restricted Area",
         "Center(C), Restricted Area"
        ],
        [
         "Jason Caffey",
         "Center(C), Restricted Area",
         "Center(C), Restricted Area"
        ],
        [
         "Jason Collier",
         "Center(C), Restricted Area",
         "Center(C), Restricted Area"
        ],
        [
         "Jason Collins",
         "Center(C), Restricted Area",
         "Center(C), Restricted Area"
        ],
        [
         "Jason Hart",
         "Center(C), Restricted Area",
         "Center(C), Restricted Area"
        ],
        [
         "Jason Kapono",
         "Right Side(R), Mid-Range",
         "Center(C), Restricted Area"
        ],
        [
         "Jason Kidd",
         "Center(C), Restricted Area",
         "Center(C), Restricted Area"
        ],
        [
         "Jason Maxiell",
         "Center(C), Restricted Area",
         "Center(C), Restricted Area"
        ],
        [
         "Jason Richardson",
         "Center(C), Restricted Area",
         "Center(C), Restricted Area"
        ],
        [
         "Jason Smith",
         "Center(C), Restricted Area",
         "Center(C), Restricted Area"
        ],
        [
         "Jason Terry",
         "Center(C), Restricted Area",
         "Center(C), Restricted Area"
        ],
        [
         "Jason Thompson",
         "Center(C), Restricted Area",
         "Center(C), Restricted Area"
        ],
        [
         "Jason Williams",
         "Center(C), Restricted Area",
         "Center(C), Restricted Area"
        ],
        [
         "Javaris Crittenton",
         "Center(C), Restricted Area",
         "Center(C), Restricted Area"
        ],
        [
         "Javonte Green",
         "Center(C), Restricted Area",
         "Center(C), Restricted Area"
        ],
        [
         "Jawad Williams",
         "Center(C), Restricted Area",
         "Center(C), Restricted Area"
        ],
        [
         "Jawun Evans",
         "Center(C), Restricted Area",
         "Center(C), Restricted Area"
        ],
        [
         "Jaxson Hayes",
         "Center(C), Restricted Area",
         "Center(C), Restricted Area"
        ],
        [
         "Jay Williams",
         "Center(C), Restricted Area",
         "Center(C), Restricted Area"
        ],
        [
         "Jaylen Brown",
         "Center(C), Restricted Area",
         "Center(C), Restricted Area"
        ],
        [
         "Jaylen Hoard",
         "Center(C), Restricted Area",
         "Center(C), Restricted Area"
        ],
        [
         "Jaylen Nowell",
         "Center(C), Restricted Area",
         "Center(C), Restricted Area"
        ],
        [
         "Jayson Tatum",
         "Center(C), Restricted Area",
         "Center(C), Restricted Area"
        ],
        [
         "Jayson Williams",
         "Center(C), Restricted Area",
         "Center(C), Restricted Area"
        ],
        [
         "Jeff Adrien",
         "Center(C), Restricted Area",
         "Center(C), Restricted Area"
        ],
        [
         "Jeff Ayres",
         "Center(C), Restricted Area",
         "Center(C), Restricted Area"
        ],
        [
         "Jeff Foster",
         "Center(C), Restricted Area",
         "Center(C), Restricted Area"
        ],
        [
         "Jeff Grayer",
         "Center(C), Restricted Area",
         "Center(C), Restricted Area"
        ],
        [
         "Jeff Green",
         "Center(C), Restricted Area",
         "Center(C), Restricted Area"
        ],
        [
         "Jeff Hornacek",
         "Center(C), Restricted Area",
         "Right Side(R), Right Corner 3"
        ],
        [
         "Jeff McInnis",
         "Center(C), In The Paint (Non-RA)",
         "Center(C), Restricted Area"
        ],
        [
         "Jeff Teague",
         "Center(C), Restricted Area",
         "Center(C), Restricted Area"
        ],
        [
         "Jeff Trepagnier",
         "Center(C), Restricted Area",
         "Center(C), Restricted Area"
        ],
        [
         "Jeff Withey",
         "Center(C), Restricted Area",
         "Center(C), Restricted Area"
        ],
        [
         "Jelani McCoy",
         "Center(C), Restricted Area",
         "Center(C), Restricted Area"
        ],
        [
         "Jerald Honeycutt",
         "Center(C), Restricted Area",
         "Center(C), Restricted Area"
        ],
        [
         "Jerami Grant",
         "Center(C), Restricted Area",
         "Center(C), Restricted Area"
        ],
        [
         "Jeremiah Martin",
         "Center(C), Restricted Area",
         "Center(C), Restricted Area"
        ],
        [
         "Jeremiah Robinson-Earl",
         "Center(C), Restricted Area",
         "Center(C), Restricted Area"
        ],
        [
         "Jeremy Evans",
         "Center(C), Restricted Area",
         "Center(C), Restricted Area"
        ],
        [
         "Jeremy Lamb",
         "Center(C), Restricted Area",
         "Center(C), Restricted Area"
        ],
        [
         "Jeremy Lin",
         "Center(C), Restricted Area",
         "Center(C), Restricted Area"
        ],
        [
         "Jeremy Pargo",
         "Center(C), Restricted Area",
         "Center(C), Restricted Area"
        ],
        [
         "Jeremy Tyler",
         "Center(C), Restricted Area",
         "Center(C), Restricted Area"
        ],
        [
         "Jerian Grant",
         "Center(C), Restricted Area",
         "Center(C), Restricted Area"
        ],
        [
         "Jericho Sims",
         "Center(C), Restricted Area",
         "Center(C), Restricted Area"
        ],
        [
         "Jermaine Jackson",
         "Center(C), Restricted Area",
         "Center(C), Restricted Area"
        ],
        [
         "Jermaine O'Neal",
         "Center(C), Restricted Area",
         "Center(C), Restricted Area"
        ],
        [
         "Jermaine Taylor",
         "Center(C), Restricted Area",
         "Center(C), Restricted Area"
        ],
        [
         "Jermareo Davidson",
         "Center(C), Restricted Area",
         "Center(C), Restricted Area"
        ],
        [
         "Jerome Allen",
         "Center(C), Restricted Area",
         "Center(C), Restricted Area"
        ],
        [
         "Jerome James",
         "Center(C), Restricted Area",
         "Center(C), Restricted Area"
        ],
        [
         "Jerome Jordan",
         "Center(C), Restricted Area",
         "Center(C), Restricted Area"
        ],
        [
         "Jerome Kersey",
         "Center(C), Restricted Area",
         "Center(C), Restricted Area"
        ],
        [
         "Jerome Moiso",
         "Center(C), Restricted Area",
         "Center(C), Restricted Area"
        ],
        [
         "Jerome Robinson",
         "Left Side Center(LC), Above the Break 3",
         "Center(C), Restricted Area"
        ],
        [
         "Jerome Williams",
         "Center(C), Restricted Area",
         "Center(C), Restricted Area"
        ],
        [
         "Jerry Stackhouse",
         "Center(C), Restricted Area",
         "Center(C), Restricted Area"
        ],
        [
         "Jerryd Bayless",
         "Center(C), Restricted Area",
         "Center(C), Restricted Area"
        ],
        [
         "Jeryl Sasser",
         "Center(C), Restricted Area",
         "Center(C), Restricted Area"
        ],
        [
         "Jevon Carter",
         "Right Side Center(RC), Above the Break 3",
         "Right Side(R), Right Corner 3"
        ],
        [
         "Jim Jackson",
         "Center(C), Restricted Area",
         "Center(C), Restricted Area"
        ],
        [
         "Jim McIlvaine",
         "Center(C), Restricted Area",
         "Center(C), Restricted Area"
        ],
        [
         "Jimmer Fredette",
         "Center(C), In The Paint (Non-RA)",
         "Center(C), Restricted Area"
        ],
        [
         "Jimmy Butler",
         "Center(C), Restricted Area",
         "Center(C), Restricted Area"
        ],
        [
         "Jiri Welsch",
         "Center(C), Restricted Area",
         "Center(C), Restricted Area"
        ],
        [
         "Joakim Noah",
         "Center(C), Restricted Area",
         "Center(C), Restricted Area"
        ],
        [
         "Jock Landale",
         "Center(C), Restricted Area",
         "Center(C), Restricted Area"
        ],
        [
         "Jodie Meeks",
         "Left Side Center(LC), Above the Break 3",
         "Center(C), Restricted Area"
        ],
        [
         "Joe Alexander",
         "Center(C), Restricted Area",
         "Center(C), Restricted Area"
        ],
        [
         "Joe Dumars",
         "Left Side(L), Mid-Range",
         "Left Side(L), In The Paint (Non-RA)"
        ],
        [
         "Joe Harris",
         "Center(C), Restricted Area",
         "Center(C), Restricted Area"
        ],
        [
         "Joe Ingles",
         "Right Side Center(RC), Above the Break 3",
         "Center(C), Restricted Area"
        ],
        [
         "Joe Johnson",
         "Center(C), In The Paint (Non-RA)",
         "Center(C), Restricted Area"
        ],
        [
         "Joe Kleine",
         "Center(C), Restricted Area",
         "Center(C), Restricted Area"
        ],
        [
         "Joe Smith",
         "Center(C), Restricted Area",
         "Center(C), Restricted Area"
        ],
        [
         "Joe Wolf",
         "Right Side(R), Mid-Range",
         "Right Side(R), Mid-Range"
        ],
        [
         "Joe Young",
         "Center(C), Restricted Area",
         "Center(C), Mid-Range"
        ],
        [
         "Joel Anthony",
         "Center(C), Restricted Area",
         "Center(C), Restricted Area"
        ],
        [
         "Joel Embiid",
         "Center(C), Restricted Area",
         "Center(C), Restricted Area"
        ],
        [
         "Joel Freeland",
         "Center(C), Restricted Area",
         "Center(C), Restricted Area"
        ],
        [
         "Joel Przybilla",
         "Center(C), Restricted Area",
         "Center(C), Restricted Area"
        ],
        [
         "Joey Dorsey",
         "Center(C), Restricted Area",
         "Center(C), Restricted Area"
        ],
        [
         "Joey Graham",
         "Center(C), Restricted Area",
         "Center(C), Restricted Area"
        ],
        [
         "Joffrey Lauvergne",
         "Center(C), Restricted Area",
         "Center(C), Restricted Area"
        ],
        [
         "Johan Petro",
         "Center(C), Restricted Area",
         "Center(C), Restricted Area"
        ],
        [
         "John Amaechi",
         "Center(C), Restricted Area",
         "Center(C), Restricted Area"
        ],
        [
         "John Collins",
         "Center(C), Restricted Area",
         "Center(C), Restricted Area"
        ],
        [
         "John Crotty",
         "Center(C), Restricted Area",
         "Left Side Center(LC), Mid-Range"
        ],
        [
         "John Edwards",
         "Center(C), Restricted Area",
         "Center(C), Restricted Area"
        ],
        [
         "John Henson",
         "Center(C), Restricted Area",
         "Center(C), Restricted Area"
        ],
        [
         "John Jenkins",
         "Center(C), Restricted Area",
         "Center(C), Restricted Area"
        ],
        [
         "John Konchar",
         "Center(C), Restricted Area",
         "Center(C), Restricted Area"
        ],
        [
         "John Lucas III",
         "Right Side Center(RC), Above the Break 3",
         "Center(C), Restricted Area"
        ],
        [
         "John Salmons",
         "Center(C), Restricted Area",
         "Center(C), Restricted Area"
        ],
        [
         "John Starks",
         "Center(C), Restricted Area",
         "Center(C), Restricted Area"
        ],
        [
         "John Stockton",
         "Center(C), Restricted Area",
         "Center(C), Restricted Area"
        ],
        [
         "John Thomas",
         "Center(C), Restricted Area",
         "Center(C), Restricted Area"
        ],
        [
         "John Wall",
         "Center(C), Restricted Area",
         "Center(C), Restricted Area"
        ],
        [
         "John Wallace",
         "Center(C), Restricted Area",
         "Center(C), Restricted Area"
        ],
        [
         "Johnathan Motley",
         "Center(C), Restricted Area",
         "Center(C), Restricted Area"
        ],
        [
         "Johnathan Williams",
         "Center(C), Restricted Area",
         "Center(C), Restricted Area"
        ],
        [
         "Johnny Newman",
         "Center(C), Restricted Area",
         "Center(C), Restricted Area"
        ],
        [
         "Johnny O'Bryant III",
         "Center(C), Restricted Area",
         "Center(C), Restricted Area"
        ],
        [
         "Johnny Taylor",
         "Center(C), Restricted Area",
         "Center(C), Restricted Area"
        ],
        [
         "Jon Barry",
         "Center(C), Restricted Area",
         "Center(C), Restricted Area"
        ],
        [
         "Jon Brockman",
         "Center(C), Restricted Area",
         "Center(C), Restricted Area"
        ],
        [
         "Jon Leuer",
         "Center(C), Restricted Area",
         "Center(C), Restricted Area"
        ],
        [
         "Jonah Bolden",
         "Center(C), Restricted Area",
         "Center(C), Restricted Area"
        ],
        [
         "Jonas Jerebko",
         "Center(C), Restricted Area",
         "Center(C), Restricted Area"
        ],
        [
         "Jonas Valanciunas",
         "Center(C), Restricted Area",
         "Center(C), Restricted Area"
        ],
        [
         "Jonathan Bender",
         "Center(C), Restricted Area",
         "Center(C), Restricted Area"
        ],
        [
         "Jonathan Isaac",
         "Center(C), Restricted Area",
         "Center(C), Restricted Area"
        ],
        [
         "Jonathan Kuminga",
         "Center(C), Restricted Area",
         "Center(C), Restricted Area"
        ],
        [
         "Jonathon Simmons",
         "Center(C), Restricted Area",
         "Center(C), Restricted Area"
        ],
        [
         "Jonny Flynn",
         "Center(C), Restricted Area",
         "Center(C), Restricted Area"
        ],
        [
         "Jordan Bell",
         "Center(C), Restricted Area",
         "Center(C), Restricted Area"
        ],
        [
         "Jordan Clarkson",
         "Center(C), Restricted Area",
         "Center(C), Restricted Area"
        ],
        [
         "Jordan Crawford",
         "Center(C), Restricted Area",
         "Center(C), Restricted Area"
        ],
        [
         "Jordan Farmar",
         "Center(C), Restricted Area",
         "Center(C), Restricted Area"
        ],
        [
         "Jordan Hamilton",
         "Center(C), Restricted Area",
         "Center(C), Restricted Area"
        ],
        [
         "Jordan Hill",
         "Center(C), Restricted Area",
         "Center(C), Restricted Area"
        ],
        [
         "Jordan McLaughlin",
         "Center(C), Restricted Area",
         "Center(C), Restricted Area"
        ],
        [
         "Jordan McRae",
         "Center(C), Restricted Area",
         "Center(C), Restricted Area"
        ],
        [
         "Jordan Mickey",
         "Center(C), Restricted Area",
         "Center(C), Restricted Area"
        ],
        [
         "Jordan Nwora",
         "Center(C), Restricted Area",
         "Center(C), Restricted Area"
        ],
        [
         "Jordan Poole",
         "Right Side Center(RC), Above the Break 3",
         "Center(C), Restricted Area"
        ],
        [
         "Jordan Williams",
         "Center(C), Restricted Area",
         "Center(C), Restricted Area"
        ],
        [
         "Jorge Garbajosa",
         "Left Side Center(LC), Above the Break 3",
         "Center(C), Restricted Area"
        ],
        [
         "Jorge Gutierrez",
         "Center(C), Restricted Area",
         "Center(C), Restricted Area"
        ],
        [
         "Jose Alvarado",
         "Center(C), Restricted Area",
         "Center(C), Restricted Area"
        ],
        [
         "Jose Calderon",
         "Center(C), Restricted Area",
         "Center(C), Restricted Area"
        ],
        [
         "Josh Boone",
         "Center(C), Restricted Area",
         "Center(C), Restricted Area"
        ],
        [
         "Josh Childress",
         "Center(C), Restricted Area",
         "Center(C), Restricted Area"
        ],
        [
         "Josh Christopher",
         "Center(C), Restricted Area",
         "Center(C), Restricted Area"
        ],
        [
         "Josh Davis",
         "Center(C), Restricted Area",
         "Center(C), Restricted Area"
        ],
        [
         "Josh Giddey",
         "Center(C), In The Paint (Non-RA)",
         "Center(C), Restricted Area"
        ],
        [
         "Josh Green",
         "Center(C), Restricted Area",
         "Center(C), Restricted Area"
        ],
        [
         "Josh Harrellson",
         "Center(C), Restricted Area",
         "Center(C), Restricted Area"
        ],
        [
         "Josh Hart",
         "Center(C), Restricted Area",
         "Center(C), Restricted Area"
        ],
        [
         "Josh Howard",
         "Center(C), Restricted Area",
         "Center(C), Restricted Area"
        ],
        [
         "Josh Huestis",
         "Center(C), Restricted Area",
         "Center(C), Restricted Area"
        ],
        [
         "Josh Jackson",
         "Center(C), Restricted Area",
         "Center(C), Restricted Area"
        ],
        [
         "Josh McRoberts",
         "Center(C), Restricted Area",
         "Center(C), Restricted Area"
        ],
        [
         "Josh Okogie",
         "Center(C), Restricted Area",
         "Center(C), Restricted Area"
        ],
        [
         "Josh Powell",
         "Center(C), Restricted Area",
         "Center(C), Restricted Area"
        ],
        [
         "Josh Richardson",
         "Center(C), Restricted Area",
         "Center(C), Restricted Area"
        ],
        [
         "Josh Selby",
         "Center(C), Restricted Area",
         "Center(C), Restricted Area"
        ],
        [
         "Josh Smith",
         "Center(C), Restricted Area",
         "Center(C), Restricted Area"
        ],
        [
         "Joshua Primo",
         "Center(C), Restricted Area",
         "Center(C), Restricted Area"
        ],
        [
         "Jrue Holiday",
         "Center(C), Restricted Area",
         "Center(C), Restricted Area"
        ],
        [
         "Juan Carlos Navarro",
         "Left Side Center(LC), Above the Break 3",
         "Center(C), Restricted Area"
        ],
        [
         "Juan Dixon",
         "Center(C), Restricted Area",
         "Center(C), Restricted Area"
        ],
        [
         "Juan Toscano-Anderson",
         "Center(C), Restricted Area",
         "Center(C), Restricted Area"
        ],
        [
         "Juancho Hernangomez",
         "Center(C), Restricted Area",
         "Center(C), Restricted Area"
        ],
        [
         "Jud Buechler",
         "Center(C), Restricted Area",
         "Center(C), Restricted Area"
        ],
        [
         "Julian Wright",
         "Center(C), Restricted Area",
         "Center(C), Restricted Area"
        ],
        [
         "Julius Randle",
         "Center(C), Restricted Area",
         "Center(C), Restricted Area"
        ],
        [
         "Jumaine Jones",
         "Center(C), Restricted Area",
         "Center(C), Restricted Area"
        ],
        [
         "Junior Harrington",
         "Center(C), Restricted Area",
         "Center(C), Restricted Area"
        ],
        [
         "Justin Anderson",
         "Center(C), Restricted Area",
         "Center(C), Restricted Area"
        ],
        [
         "Justin Champagnie",
         "Center(C), Restricted Area",
         "Center(C), Restricted Area"
        ],
        [
         "Justin Hamilton",
         "Center(C), Restricted Area",
         "Center(C), Restricted Area"
        ],
        [
         "Justin Holiday",
         "Center(C), Restricted Area",
         "Center(C), Restricted Area"
        ],
        [
         "Justin Jackson",
         "Center(C), Restricted Area",
         "Center(C), Restricted Area"
        ],
        [
         "Justin James",
         "Center(C), Restricted Area",
         "Center(C), Restricted Area"
        ],
        [
         "Justin Reed",
         "Center(C), Restricted Area",
         "Center(C), Restricted Area"
        ],
        [
         "Justin Williams",
         "Center(C), Restricted Area",
         "Center(C), Restricted Area"
        ],
        [
         "Justise Winslow",
         "Center(C), Restricted Area",
         "Center(C), Restricted Area"
        ],
        [
         "Jusuf Nurkic",
         "Center(C), Restricted Area",
         "Center(C), Restricted Area"
        ],
        [
         "Juwan Howard",
         "Center(C), Restricted Area",
         "Center(C), Restricted Area"
        ],
        [
         "Juwan Morgan",
         "Center(C), Restricted Area",
         "Center(C), Restricted Area"
        ],
        [
         "KJ McDaniels",
         "Center(C), Restricted Area",
         "Center(C), Restricted Area"
        ],
        [
         "KZ Okpala",
         "Center(C), Restricted Area",
         "Center(C), Restricted Area"
        ],
        [
         "Kadeem Allen",
         "Center(C), Restricted Area",
         "Center(C), Restricted Area"
        ],
        [
         "Kareem Rush",
         "Center(C), Restricted Area",
         "Center(C), Restricted Area"
        ],
        [
         "Karl Malone",
         "Center(C), Restricted Area",
         "Center(C), Restricted Area"
        ],
        [
         "Karl-Anthony Towns",
         "Center(C), Restricted Area",
         "Center(C), Restricted Area"
        ],
        [
         "Kawhi Leonard",
         "Center(C), Restricted Area",
         "Center(C), Restricted Area"
        ],
        [
         "Kay Felder",
         "Center(C), Restricted Area",
         "Center(C), Restricted Area"
        ],
        [
         "Kedrick Brown",
         "Center(C), Restricted Area",
         "Center(C), Restricted Area"
        ],
        [
         "Keifer Sykes",
         "Center(C), Restricted Area",
         "Center(C), Restricted Area"
        ],
        [
         "Keita Bates-Diop",
         "Center(C), Restricted Area",
         "Center(C), Restricted Area"
        ],
        [
         "Keith Askins",
         "Center(C), Restricted Area",
         "Center(C), Restricted Area"
        ],
        [
         "Keith Bogans",
         "Center(C), Restricted Area",
         "Center(C), Restricted Area"
        ],
        [
         "Keith Booth",
         "Center(C), Restricted Area",
         "Center(C), Restricted Area"
        ],
        [
         "Keith Closs",
         "Center(C), Restricted Area",
         "Center(C), Restricted Area"
        ],
        [
         "Keith McLeod",
         "Center(C), Restricted Area",
         "Center(C), Restricted Area"
        ],
        [
         "Keith Van Horn",
         "Center(C), Restricted Area",
         "Center(C), Restricted Area"
        ],
        [
         "Kelan Martin",
         "Center(C), Restricted Area",
         "Center(C), Restricted Area"
        ],
        [
         "Keldon Johnson",
         "Center(C), Restricted Area",
         "Center(C), Restricted Area"
        ],
        [
         "Kelenna Azubuike",
         "Center(C), Restricted Area",
         "Center(C), Restricted Area"
        ],
        [
         "Kelly Olynyk",
         "Center(C), Restricted Area",
         "Center(C), Restricted Area"
        ],
        [
         "Kelly Oubre Jr.",
         "Center(C), Restricted Area",
         "Center(C), Restricted Area"
        ],
        [
         "Kelvin Cato",
         "Center(C), Restricted Area",
         "Center(C), Restricted Area"
        ],
        [
         "Kemba Walker",
         "Center(C), Restricted Area",
         "Center(C), Restricted Area"
        ],
        [
         "Kendall Gill",
         "Center(C), Restricted Area",
         "Center(C), Restricted Area"
        ],
        [
         "Kendall Marshall",
         "Center(C), Restricted Area",
         "Center(C), Restricted Area"
        ],
        [
         "Kendrick Nunn",
         "Center(C), Restricted Area",
         "Center(C), Restricted Area"
        ],
        [
         "Kendrick Perkins",
         "Center(C), Restricted Area",
         "Center(C), Restricted Area"
        ],
        [
         "Kenneth Faried",
         "Center(C), Restricted Area",
         "Center(C), Restricted Area"
        ],
        [
         "Kenny Anderson",
         "Center(C), Restricted Area",
         "Center(C), Restricted Area"
        ],
        [
         "Kenny Satterfield",
         "Center(C), Restricted Area",
         "Center(C), Restricted Area"
        ],
        [
         "Kenny Smith",
         "Center(C), Restricted Area",
         "Center(C), Restricted Area"
        ],
        [
         "Kenny Thomas",
         "Center(C), Restricted Area",
         "Center(C), Restricted Area"
        ],
        [
         "Kenrich Williams",
         "Center(C), Restricted Area",
         "Center(C), Restricted Area"
        ],
        [
         "Kent Bazemore",
         "Center(C), Restricted Area",
         "Center(C), Restricted Area"
        ],
        [
         "Kentavious Caldwell-Pope",
         "Center(C), Restricted Area",
         "Center(C), Restricted Area"
        ],
        [
         "Kenyon Martin",
         "Center(C), Restricted Area",
         "Center(C), Restricted Area"
        ],
        [
         "Kenyon Martin Jr.",
         "Center(C), Restricted Area",
         "Center(C), Restricted Area"
        ],
        [
         "Keon Clark",
         "Center(C), Restricted Area",
         "Center(C), Restricted Area"
        ],
        [
         "Keon Johnson",
         "Center(C), Restricted Area",
         "Right Side Center(RC), Above the Break 3"
        ],
        [
         "Kerry Kittles",
         "Center(C), Restricted Area",
         "Center(C), Restricted Area"
        ],
        [
         "Kessler Edwards",
         "Center(C), Restricted Area",
         "Center(C), Restricted Area"
        ],
        [
         "Kevin Duckworth",
         "Center(C), Restricted Area",
         "Center(C), Restricted Area"
        ],
        [
         "Kevin Durant",
         "Center(C), Restricted Area",
         "Center(C), Restricted Area"
        ],
        [
         "Kevin Edwards",
         "Center(C), Restricted Area",
         "Right Side Center(RC), Mid-Range"
        ],
        [
         "Kevin Gamble",
         "Left Side(L), Mid-Range",
         "Center(C), Mid-Range"
        ],
        [
         "Kevin Garnett",
         "Center(C), Restricted Area",
         "Center(C), Restricted Area"
        ],
        [
         "Kevin Huerter",
         "Right Side Center(RC), Above the Break 3",
         "Center(C), Restricted Area"
        ],
        [
         "Kevin Johnson",
         "Center(C), Restricted Area",
         "Center(C), Restricted Area"
        ],
        [
         "Kevin Jones",
         "Center(C), Restricted Area",
         "Center(C), Restricted Area"
        ],
        [
         "Kevin Knox II",
         "Center(C), Restricted Area",
         "Center(C), Restricted Area"
        ],
        [
         "Kevin Love",
         "Center(C), Restricted Area",
         "Center(C), Restricted Area"
        ],
        [
         "Kevin Martin",
         "Center(C), Restricted Area",
         "Center(C), Restricted Area"
        ],
        [
         "Kevin Ollie",
         "Center(C), Restricted Area",
         "Center(C), Restricted Area"
        ],
        [
         "Kevin Porter Jr.",
         "Center(C), Restricted Area",
         "Center(C), Restricted Area"
        ],
        [
         "Kevin Seraphin",
         "Center(C), In The Paint (Non-RA)",
         "Center(C), Restricted Area"
        ],
        [
         "Kevin Willis",
         "Center(C), Restricted Area",
         "Center(C), Restricted Area"
        ],
        [
         "Kevon Looney",
         "Center(C), Restricted Area",
         "Center(C), Restricted Area"
        ],
        [
         "Keyon Dooling",
         "Center(C), Restricted Area",
         "Right Side(R), In The Paint (Non-RA)"
        ],
        [
         "Khalid El-Amin",
         "Center(C), Restricted Area",
         "Center(C), Restricted Area"
        ],
        [
         "Khalid Reeves",
         "Center(C), Restricted Area",
         "Center(C), Restricted Area"
        ],
        [
         "Khem Birch",
         "Center(C), Restricted Area",
         "Center(C), Restricted Area"
        ],
        [
         "Khris Middleton",
         "Center(C), Restricted Area",
         "Center(C), Restricted Area"
        ],
        [
         "Khyri Thomas",
         "Center(C), Restricted Area",
         "Center(C), Restricted Area"
        ],
        [
         "Killian Hayes",
         "Center(C), In The Paint (Non-RA)",
         "Center(C), Restricted Area"
        ],
        [
         "Killian Tillie",
         "Right Side Center(RC), Above the Break 3",
         "Right Side Center(RC), Above the Break 3"
        ],
        [
         "Kim English",
         "Center(C), Restricted Area",
         "Center(C), Restricted Area"
        ],
        [
         "Kira Lewis Jr.",
         "Center(C), Restricted Area",
         "Center(C), Restricted Area"
        ],
        [
         "Kirk Hinrich",
         "Center(C), Restricted Area",
         "Center(C), Restricted Area"
        ],
        [
         "Kirk Snyder",
         "Center(C), Restricted Area",
         "Center(C), Restricted Area"
        ],
        [
         "Klay Thompson",
         "Right Side Center(RC), Above the Break 3",
         "Center(C), Restricted Area"
        ],
        [
         "Kobe Bryant",
         "Center(C), Restricted Area",
         "Center(C), Restricted Area"
        ],
        [
         "Kobi Simmons",
         "Center(C), Restricted Area",
         "Center(C), Restricted Area"
        ],
        [
         "Kornel David",
         "Center(C), Restricted Area",
         "Center(C), Restricted Area"
        ],
        [
         "Kosta Koufos",
         "Center(C), Restricted Area",
         "Center(C), Restricted Area"
        ],
        [
         "Kostas Papanikolaou",
         "Center(C), Restricted Area",
         "Center(C), Restricted Area"
        ],
        [
         "Kris Dunn",
         "Center(C), Restricted Area",
         "Center(C), Restricted Area"
        ],
        [
         "Kris Humphries",
         "Center(C), Restricted Area",
         "Center(C), Restricted Area"
        ],
        [
         "Kristaps Porzingis",
         "Center(C), Restricted Area",
         "Center(C), Restricted Area"
        ],
        [
         "Kurt Thomas",
         "Center(C), Restricted Area",
         "Center(C), Restricted Area"
        ],
        [
         "Kwame Brown",
         "Center(C), Restricted Area",
         "Center(C), Restricted Area"
        ],
        [
         "Ky Bowman",
         "Center(C), Restricted Area",
         "Center(C), Restricted Area"
        ],
        [
         "Kyle Anderson",
         "Center(C), Restricted Area",
         "Center(C), Restricted Area"
        ],
        [
         "Kyle Collinsworth",
         "Center(C), Restricted Area",
         "Center(C), Restricted Area"
        ],
        [
         "Kyle Guy",
         "Center(C), Restricted Area",
         "Center(C), Restricted Area"
        ],
        [
         "Kyle Korver",
         "Left Side Center(LC), Above the Break 3",
         "Center(C), Restricted Area"
        ],
        [
         "Kyle Kuzma",
         "Center(C), Restricted Area",
         "Center(C), Restricted Area"
        ],
        [
         "Kyle Lowry",
         "Center(C), Restricted Area",
         "Center(C), Restricted Area"
        ],
        [
         "Kyle O'Quinn",
         "Center(C), Restricted Area",
         "Center(C), Restricted Area"
        ],
        [
         "Kyle Singler",
         "Center(C), Restricted Area",
         "Center(C), Restricted Area"
        ],
        [
         "Kyle Weaver",
         "Center(C), Restricted Area",
         "Center(C), Restricted Area"
        ],
        [
         "Kyrie Irving",
         "Center(C), Restricted Area",
         "Center(C), Restricted Area"
        ],
        [
         "Kyrylo Fesenko",
         "Center(C), Restricted Area",
         "Center(C), Restricted Area"
        ],
        [
         "LaMarcus Aldridge",
         "Center(C), Restricted Area",
         "Center(C), Restricted Area"
        ],
        [
         "LaMelo Ball",
         "Center(C), Restricted Area",
         "Center(C), Restricted Area"
        ],
        [
         "LaPhonso Ellis",
         "Center(C), Restricted Area",
         "Center(C), Restricted Area"
        ],
        [
         "Lamar Odom",
         "Center(C), Restricted Area",
         "Center(C), Restricted Area"
        ],
        [
         "Lamar Stevens",
         "Center(C), Restricted Area",
         "Center(C), Restricted Area"
        ],
        [
         "Lamond Murray",
         "Center(C), Restricted Area",
         "Center(C), Restricted Area"
        ],
        [
         "Lance Stephenson",
         "Center(C), Restricted Area",
         "Center(C), Restricted Area"
        ],
        [
         "Lance Thomas",
         "Center(C), Restricted Area",
         "Center(C), Restricted Area"
        ],
        [
         "Landry Fields",
         "Center(C), Restricted Area",
         "Center(C), Restricted Area"
        ],
        [
         "Landry Shamet",
         "Left Side Center(LC), Above the Break 3",
         "Center(C), Restricted Area"
        ],
        [
         "Langston Galloway",
         "Center(C), Restricted Area",
         "Center(C), Restricted Area"
        ],
        [
         "Laron Profit",
         "Center(C), Restricted Area",
         "Center(C), Restricted Area"
        ],
        [
         "Larry Hughes",
         "Center(C), Restricted Area",
         "Center(C), Restricted Area"
        ],
        [
         "Larry Johnson",
         "Center(C), Restricted Area",
         "Center(C), Restricted Area"
        ],
        [
         "Larry Nance Jr.",
         "Center(C), Restricted Area",
         "Center(C), Restricted Area"
        ],
        [
         "Larry Robinson",
         "Right Side(R), Right Corner 3",
         "Right Side(R), Right Corner 3"
        ],
        [
         "Larry Sanders",
         "Center(C), Restricted Area",
         "Center(C), Restricted Area"
        ],
        [
         "Larry Stewart",
         "Center(C), Restricted Area",
         "Center(C), Restricted Area"
        ],
        [
         "Latrell Sprewell",
         "Center(C), Restricted Area",
         "Center(C), Restricted Area"
        ],
        [
         "Lauri Markkanen",
         "Center(C), Restricted Area",
         "Center(C), Restricted Area"
        ],
        [
         "Lavor Postell",
         "Center(C), Restricted Area",
         "Center(C), Restricted Area"
        ],
        [
         "Lavoy Allen",
         "Center(C), Restricted Area",
         "Center(C), Restricted Area"
        ],
        [
         "Lawrence Funderburke",
         "Center(C), Restricted Area",
         "Center(C), Restricted Area"
        ],
        [
         "Lawrence Moten",
         "Center(C), Restricted Area",
         "Center(C), Restricted Area"
        ],
        [
         "Lawrence Roberts",
         "Center(C), Restricted Area",
         "Center(C), Restricted Area"
        ],
        [
         "Lazar Hayward",
         "Center(C), Restricted Area",
         "Center(C), Restricted Area"
        ],
        [
         "LeBron James",
         "Center(C), Restricted Area",
         "Center(C), Restricted Area"
        ],
        [
         "Leandro Barbosa",
         "Center(C), Restricted Area",
         "Center(C), Restricted Area"
        ],
        [
         "Ledell Eackles",
         "Center(C), Restricted Area",
         "Center(C), Restricted Area"
        ],
        [
         "Lee Mayberry",
         "Center(C), Restricted Area",
         "Center(C), Restricted Area"
        ],
        [
         "Lee Nailon",
         "Center(C), Restricted Area",
         "Center(C), Restricted Area"
        ],
        [
         "Leon Powe",
         "Center(C), Restricted Area",
         "Center(C), Restricted Area"
        ],
        [
         "Lester Hudson",
         "Center(C), Restricted Area",
         "Center(C), Restricted Area"
        ],
        [
         "Linas Kleiza",
         "Center(C), Restricted Area",
         "Center(C), Restricted Area"
        ],
        [
         "Lindsey Hunter",
         "Center(C), Restricted Area",
         "Center(C), Restricted Area"
        ],
        [
         "Lindy Waters III",
         "Left Side Center(LC), Above the Break 3",
         "Right Side Center(RC), Above the Break 3"
        ],
        [
         "Linton Johnson",
         "Center(C), Restricted Area",
         "Center(C), Restricted Area"
        ],
        [
         "Lionel Chalmers",
         "Center(C), Restricted Area",
         "Center(C), Restricted Area"
        ],
        [
         "Lionel Simmons",
         "Center(C), Restricted Area",
         "Center(C), Restricted Area"
        ],
        [
         "Litterial Green",
         "Center(C), Restricted Area",
         "Center(C), Restricted Area"
        ],
        [
         "Lonnie Walker IV",
         "Center(C), Restricted Area",
         "Center(C), Restricted Area"
        ],
        [
         "Lonny Baxter",
         "Center(C), Restricted Area",
         "Center(C), Restricted Area"
        ],
        [
         "Lonzo Ball",
         "Center(C), Restricted Area",
         "Center(C), Restricted Area"
        ],
        [
         "Loren Meyer",
         "Center(C), Restricted Area",
         "Center(C), Restricted Area"
        ],
        [
         "Loren Woods",
         "Center(C), Restricted Area",
         "Center(C), Restricted Area"
        ],
        [
         "Lorenzen Wright",
         "Center(C), Restricted Area",
         "Center(C), Restricted Area"
        ],
        [
         "Lorenzo Brown",
         "Center(C), Restricted Area",
         "Center(C), In The Paint (Non-RA)"
        ],
        [
         "Lorenzo Williams",
         "Center(C), Restricted Area",
         "Center(C), Restricted Area"
        ],
        [
         "Lou Amundson",
         "Center(C), Restricted Area",
         "Center(C), Restricted Area"
        ],
        [
         "Lou Williams",
         "Center(C), Restricted Area",
         "Center(C), Restricted Area"
        ],
        [
         "Loy Vaught",
         "Right Side(R), Mid-Range",
         "Center(C), Restricted Area"
        ],
        [
         "Luc Longley",
         "Center(C), Restricted Area",
         "Center(C), Restricted Area"
        ],
        [
         "Luc Mbah a Moute",
         "Center(C), Restricted Area",
         "Center(C), Restricted Area"
        ],
        [
         "Lucas Nogueira",
         "Center(C), Restricted Area",
         "Center(C), Restricted Area"
        ],
        [
         "Lucious Harris",
         "Center(C), Restricted Area",
         "Center(C), Restricted Area"
        ],
        [
         "Luguentz Dort",
         "Center(C), Restricted Area",
         "Center(C), Restricted Area"
        ],
        [
         "Luis Scola",
         "Center(C), Restricted Area",
         "Center(C), Restricted Area"
        ],
        [
         "Luka Doncic",
         "Center(C), Restricted Area",
         "Center(C), Restricted Area"
        ],
        [
         "Luka Garza",
         "Center(C), Restricted Area",
         "Center(C), Restricted Area"
        ],
        [
         "Luka Samanic",
         "Center(C), Restricted Area",
         "Center(C), Restricted Area"
        ],
        [
         "Luke Babbitt",
         "Left Side Center(LC), Above the Break 3",
         "Center(C), Restricted Area"
        ],
        [
         "Luke Harangody",
         "Center(C), Restricted Area",
         "Center(C), Restricted Area"
        ],
        [
         "Luke Jackson",
         "Center(C), Restricted Area",
         "Center(C), Restricted Area"
        ],
        [
         "Luke Kennard",
         "Left Side Center(LC), Above the Break 3",
         "Center(C), Restricted Area"
        ],
        [
         "Luke Kornet",
         "Center(C), Restricted Area",
         "Center(C), Restricted Area"
        ],
        [
         "Luke Ridnour",
         "Center(C), Restricted Area",
         "Center(C), Restricted Area"
        ],
        [
         "Luke Walton",
         "Center(C), Restricted Area",
         "Center(C), Restricted Area"
        ],
        [
         "Luol Deng",
         "Center(C), Restricted Area",
         "Center(C), Restricted Area"
        ],
        [
         "Luther Head",
         "Center(C), Restricted Area",
         "Center(C), Restricted Area"
        ],
        [
         "Lynn Greer",
         "Center(C), Restricted Area",
         "Center(C), Restricted Area"
        ],
        [
         "Maalik Wayns",
         "Center(C), Restricted Area",
         "Center(C), Restricted Area"
        ],
        [
         "Maceo Baston",
         "Center(C), Restricted Area",
         "Center(C), Restricted Area"
        ],
        [
         "Maciej Lampe",
         "Center(C), Restricted Area",
         "Center(C), Restricted Area"
        ],
        [
         "Mahmoud Abdul-Rauf",
         "Left Side(L), Mid-Range",
         "Left Side Center(LC), Mid-Range"
        ],
        [
         "Malachi Flynn",
         "Left Side Center(LC), Above the Break 3",
         "Center(C), Restricted Area"
        ],
        [
         "Malachi Richardson",
         "Center(C), Restricted Area",
         "Center(C), Restricted Area"
        ],
        [
         "Malcolm Brogdon",
         "Center(C), Restricted Area",
         "Center(C), Restricted Area"
        ],
        [
         "Malcolm Delaney",
         "Center(C), Restricted Area",
         "Right Side(R), Mid-Range"
        ],
        [
         "Malcolm Lee",
         "Center(C), Restricted Area",
         "Center(C), Restricted Area"
        ],
        [
         "Malik Allen",
         "Right Side(R), Mid-Range",
         "Center(C), Restricted Area"
        ],
        [
         "Malik Beasley",
         "Center(C), Restricted Area",
         "Center(C), Restricted Area"
        ],
        [
         "Malik Hairston",
         "Center(C), Restricted Area",
         "Center(C), Restricted Area"
        ],
        [
         "Malik Monk",
         "Center(C), Restricted Area",
         "Center(C), Restricted Area"
        ],
        [
         "Malik Rose",
         "Center(C), Restricted Area",
         "Center(C), Restricted Area"
        ],
        [
         "Malik Sealy",
         "Center(C), Restricted Area",
         "Center(C), Restricted Area"
        ],
        [
         "Mamadi Diakite",
         "Center(C), Restricted Area",
         "Center(C), Restricted Area"
        ],
        [
         "Mamadou N'diaye",
         "Center(C), Restricted Area",
         "Center(C), Restricted Area"
        ],
        [
         "Manny Harris",
         "Center(C), Restricted Area",
         "Center(C), Restricted Area"
        ],
        [
         "Manu Ginobili",
         "Center(C), Restricted Area",
         "Center(C), Restricted Area"
        ],
        [
         "MarShon Brooks",
         "Center(C), Restricted Area",
         "Center(C), Restricted Area"
        ],
        [
         "Marc Gasol",
         "Center(C), In The Paint (Non-RA)",
         "Center(C), Restricted Area"
        ],
        [
         "Marc Jackson",
         "Center(C), Restricted Area",
         "Center(C), Restricted Area"
        ],
        [
         "Marcelo Huertas",
         "Center(C), Restricted Area",
         "Center(C), Restricted Area"
        ],
        [
         "Marcin Gortat",
         "Center(C), Restricted Area",
         "Center(C), Restricted Area"
        ],
        [
         "Marco Belinelli",
         "Center(C), Restricted Area",
         "Center(C), Restricted Area"
        ],
        [
         "Marcus Banks",
         "Center(C), Restricted Area",
         "Center(C), Restricted Area"
        ],
        [
         "Marcus Camby",
         "Center(C), Restricted Area",
         "Center(C), Restricted Area"
        ],
        [
         "Marcus Fizer",
         "Center(C), Restricted Area",
         "Center(C), Restricted Area"
        ],
        [
         "Marcus Haislip",
         "Center(C), Restricted Area",
         "Center(C), Restricted Area"
        ],
        [
         "Marcus Morris Sr.",
         "Center(C), Restricted Area",
         "Center(C), Restricted Area"
        ],
        [
         "Marcus Smart",
         "Center(C), Restricted Area",
         "Center(C), Restricted Area"
        ],
        [
         "Marcus Thornton",
         "Center(C), Restricted Area",
         "Center(C), Restricted Area"
        ],
        [
         "Marcus Williams",
         "Center(C), Restricted Area",
         "Center(C), Restricted Area"
        ],
        [
         "Mardy Collins",
         "Center(C), Restricted Area",
         "Center(C), Restricted Area"
        ],
        [
         "Mario Bennett",
         "Center(C), Restricted Area",
         "Center(C), Restricted Area"
        ],
        [
         "Mario Chalmers",
         "Center(C), Restricted Area",
         "Left Side(L), In The Paint (Non-RA)"
        ],
        [
         "Mario Elie",
         "Center(C), Restricted Area",
         "Center(C), Restricted Area"
        ],
        [
         "Mario Hezonja",
         "Center(C), Restricted Area",
         "Center(C), Restricted Area"
        ],
        [
         "Mario Kasun",
         "Center(C), Restricted Area",
         "Center(C), Restricted Area"
        ],
        [
         "Mario West",
         "Center(C), Restricted Area",
         "Center(C), Restricted Area"
        ],
        [
         "Mark Blount",
         "Center(C), Restricted Area",
         "Center(C), Restricted Area"
        ],
        [
         "Mark Bradtke",
         "Center(C), Restricted Area",
         "Center(C), Restricted Area"
        ],
        [
         "Mark Bryant",
         "Center(C), Restricted Area",
         "Center(C), Restricted Area"
        ],
        [
         "Mark Davis",
         "Center(C), Restricted Area",
         "Center(C), Restricted Area"
        ],
        [
         "Mark Hendrickson",
         "Center(C), Restricted Area",
         "Center(C), Restricted Area"
        ],
        [
         "Mark Jackson",
         "Center(C), Restricted Area",
         "Center(C), Restricted Area"
        ],
        [
         "Mark Madsen",
         "Center(C), Restricted Area",
         "Center(C), Restricted Area"
        ],
        [
         "Mark Pope",
         "Center(C), Restricted Area",
         "Center(C), Restricted Area"
        ],
        [
         "Mark Price",
         "Center(C), Restricted Area",
         "Center(C), Restricted Area"
        ],
        [
         "Mark Strickland",
         "Center(C), Restricted Area",
         "Center(C), Restricted Area"
        ],
        [
         "Mark West",
         "Center(C), Restricted Area",
         "Center(C), Restricted Area"
        ],
        [
         "Markel Brown",
         "Center(C), Restricted Area",
         "Center(C), Restricted Area"
        ],
        [
         "Markelle Fultz",
         "Center(C), Restricted Area",
         "Center(C), Restricted Area"
        ],
        [
         "Markieff Morris",
         "Center(C), Restricted Area",
         "Center(C), Restricted Area"
        ],
        [
         "Marko Guduric",
         "Center(C), Restricted Area",
         "Center(C), Restricted Area"
        ],
        [
         "Marko Jaric",
         "Center(C), Restricted Area",
         "Center(C), Restricted Area"
        ],
        [
         "Marko Milic",
         "Center(C), Restricted Area",
         "Center(C), Restricted Area"
        ],
        [
         "Markus Howard",
         "Left Side Center(LC), Above the Break 3",
         "Right Side Center(RC), Above the Break 3"
        ],
        [
         "Marquese Chriss",
         "Center(C), Restricted Area",
         "Center(C), Restricted Area"
        ],
        [
         "Marquis Daniels",
         "Center(C), Restricted Area",
         "Center(C), Restricted Area"
        ],
        [
         "Marquis Teague",
         "Center(C), Restricted Area",
         "Center(C), Restricted Area"
        ],
        [
         "Marreese Speights",
         "Center(C), Restricted Area",
         "Center(C), Restricted Area"
        ],
        [
         "Martell Webster",
         "Center(C), Restricted Area",
         "Center(C), Restricted Area"
        ],
        [
         "Martin Muursepp",
         "Center(C), Restricted Area",
         "Center(C), Restricted Area"
        ],
        [
         "Marty Conlon",
         "Center(C), Restricted Area",
         "Right Side Center(RC), Mid-Range"
        ],
        [
         "Marvin Bagley III",
         "Center(C), Restricted Area",
         "Center(C), Restricted Area"
        ],
        [
         "Marvin Williams",
         "Center(C), Restricted Area",
         "Center(C), Restricted Area"
        ],
        [
         "Mason Jones",
         "Center(C), Restricted Area",
         "Center(C), Restricted Area"
        ],
        [
         "Mason Plumlee",
         "Center(C), Restricted Area",
         "Center(C), Restricted Area"
        ],
        [
         "Mateen Cleaves",
         "Center(C), Restricted Area",
         "Left Side Center(LC), Mid-Range"
        ],
        [
         "Matisse Thybulle",
         "Center(C), Restricted Area",
         "Center(C), Restricted Area"
        ],
        [
         "Matt Barnes",
         "Center(C), Restricted Area",
         "Center(C), Restricted Area"
        ],
        [
         "Matt Bonner",
         "Right Side Center(RC), Above the Break 3",
         "Center(C), Restricted Area"
        ],
        [
         "Matt Bullard",
         "Left Side Center(LC), Above the Break 3",
         "Center(C), Restricted Area"
        ],
        [
         "Matt Carroll",
         "Center(C), Restricted Area",
         "Center(C), Restricted Area"
        ],
        [
         "Matt Geiger",
         "Center(C), Restricted Area",
         "Center(C), Restricted Area"
        ],
        [
         "Matt Harpring",
         "Center(C), Restricted Area",
         "Center(C), Restricted Area"
        ],
        [
         "Matt Maloney",
         "Left Side Center(LC), Above the Break 3",
         "Center(C), Restricted Area"
        ],
        [
         "Matt Thomas",
         "Left Side Center(LC), Above the Break 3",
         "Left Side(L), Left Corner 3"
        ],
        [
         "Matthew Dellavedova",
         "Center(C), In The Paint (Non-RA)",
         "Left Side Center(LC), Mid-Range"
        ],
        [
         "Maurice Ager",
         "Center(C), Restricted Area",
         "Center(C), Restricted Area"
        ],
        [
         "Maurice Evans",
         "Center(C), Restricted Area",
         "Center(C), Restricted Area"
        ],
        [
         "Maurice Harkless",
         "Center(C), Restricted Area",
         "Center(C), Restricted Area"
        ],
        [
         "Maurice Ndour",
         "Center(C), Restricted Area",
         "Center(C), Restricted Area"
        ],
        [
         "Maurice Taylor",
         "Center(C), Restricted Area",
         "Center(C), Restricted Area"
        ],
        [
         "Max Strus",
         "Left Side Center(LC), Above the Break 3",
         "Center(C), Restricted Area"
        ],
        [
         "Maxi Kleber",
         "Center(C), Restricted Area",
         "Center(C), Restricted Area"
        ],
        [
         "Mehmet Okur",
         "Center(C), Restricted Area",
         "Center(C), Restricted Area"
        ],
        [
         "Melvin Booker",
         "Center(C), Restricted Area",
         "Center(C), Restricted Area"
        ],
        [
         "Melvin Ely",
         "Center(C), Restricted Area",
         "Center(C), Restricted Area"
        ],
        [
         "Melvin Frazier Jr.",
         "Center(C), Restricted Area",
         "Center(C), Restricted Area"
        ],
        [
         "Mengke Bateer",
         "Center(C), Restricted Area",
         "Center(C), Restricted Area"
        ],
        [
         "Metta World Peace",
         "Center(C), Restricted Area",
         "Center(C), Restricted Area"
        ],
        [
         "Meyers Leonard",
         "Center(C), Restricted Area",
         "Center(C), Restricted Area"
        ],
        [
         "Mfiondu Kabengele",
         "Center(C), Restricted Area",
         "Center(C), Restricted Area"
        ],
        [
         "Michael Beasley",
         "Center(C), Restricted Area",
         "Center(C), Restricted Area"
        ],
        [
         "Michael Bradley",
         "Center(C), Restricted Area",
         "Center(C), Restricted Area"
        ],
        [
         "Michael Cage",
         "Center(C), Restricted Area",
         "Center(C), Restricted Area"
        ],
        [
         "Michael Carter-Williams",
         "Center(C), Restricted Area",
         "Center(C), Restricted Area"
        ],
        [
         "Michael Curry",
         "Center(C), Restricted Area",
         "Center(C), Restricted Area"
        ],
        [
         "Michael Dickerson",
         "Center(C), Restricted Area",
         "Center(C), Restricted Area"
        ],
        [
         "Michael Doleac",
         "Left Side(L), Mid-Range",
         "Center(C), Restricted Area"
        ],
        [
         "Michael Finley",
         "Center(C), Restricted Area",
         "Center(C), Restricted Area"
        ],
        [
         "Michael Hawkins",
         "Center(C), Restricted Area",
         "Center(C), Restricted Area"
        ],
        [
         "Michael Jordan",
         "Right Side(R), Mid-Range",
         "Center(C), Restricted Area"
        ],
        [
         "Michael Kidd-Gilchrist",
         "Center(C), Restricted Area",
         "Center(C), Restricted Area"
        ],
        [
         "Michael Olowokandi",
         "Center(C), In The Paint (Non-RA)",
         "Center(C), Restricted Area"
        ],
        [
         "Michael Porter Jr.",
         "Center(C), Restricted Area",
         "Center(C), Restricted Area"
        ],
        [
         "Michael Redd",
         "Center(C), Restricted Area",
         "Center(C), Restricted Area"
        ],
        [
         "Michael Ruffin",
         "Center(C), Restricted Area",
         "Center(C), Restricted Area"
        ],
        [
         "Michael Smith",
         "Center(C), Restricted Area",
         "Center(C), Restricted Area"
        ],
        [
         "Michael Stewart",
         "Center(C), Restricted Area",
         "Center(C), Restricted Area"
        ],
        [
         "Mickael Gelabale",
         "Center(C), Restricted Area",
         "Center(C), Restricted Area"
        ],
        [
         "Mickael Pietrus",
         "Center(C), Restricted Area",
         "Center(C), Restricted Area"
        ],
        [
         "Mikal Bridges",
         "Center(C), Restricted Area",
         "Center(C), Restricted Area"
        ],
        [
         "Mike Batiste",
         "Center(C), Restricted Area",
         "Center(C), Restricted Area"
        ],
        [
         "Mike Bibby",
         "Center(C), Restricted Area",
         "Center(C), Restricted Area"
        ],
        [
         "Mike Conley",
         "Center(C), Restricted Area",
         "Center(C), Restricted Area"
        ],
        [
         "Mike Dunleavy",
         "Center(C), Restricted Area",
         "Center(C), Restricted Area"
        ],
        [
         "Mike Harris",
         "Center(C), Restricted Area",
         "Center(C), Restricted Area"
        ],
        [
         "Mike James",
         "Center(C), Restricted Area",
         "Center(C), Restricted Area"
        ],
        [
         "Mike Miller",
         "Center(C), Restricted Area",
         "Center(C), Restricted Area"
        ],
        [
         "Mike Muscala",
         "Center(C), Restricted Area",
         "Center(C), Restricted Area"
        ],
        [
         "Mike Penberthy",
         "Right Side Center(RC), Above the Break 3",
         "Left Side Center(LC), Above the Break 3"
        ],
        [
         "Mike Scott",
         "Center(C), Restricted Area",
         "Center(C), Restricted Area"
        ],
        [
         "Mike Taylor",
         "Center(C), Restricted Area",
         "Center(C), Restricted Area"
        ],
        [
         "Mike Wilks",
         "Center(C), Restricted Area",
         "Center(C), Restricted Area"
        ],
        [
         "Mikki Moore",
         "Center(C), Restricted Area",
         "Center(C), Restricted Area"
        ],
        [
         "Miles Bridges",
         "Center(C), Restricted Area",
         "Center(C), Restricted Area"
        ],
        [
         "Miles Plumlee",
         "Center(C), Restricted Area",
         "Center(C), Restricted Area"
        ],
        [
         "Milos Teodosic",
         "Left Side Center(LC), Above the Break 3",
         "Center(C), Above the Break 3"
        ],
        [
         "Milt Palacio",
         "Center(C), Restricted Area",
         "Center(C), Restricted Area"
        ],
        [
         "Mindaugas Kuzminskas",
         "Center(C), Restricted Area",
         "Center(C), Restricted Area"
        ],
        [
         "Mirza Teletovic",
         "Left Side Center(LC), Above the Break 3",
         "Center(C), Restricted Area"
        ],
        [
         "Mitch McGary",
         "Center(C), Restricted Area",
         "Center(C), Restricted Area"
        ],
        [
         "Mitch Richmond",
         "Center(C), Restricted Area",
         "Center(C), Restricted Area"
        ],
        [
         "Mitchell Butler",
         "Center(C), Restricted Area",
         "Center(C), Restricted Area"
        ],
        [
         "Mitchell Robinson",
         "Center(C), Restricted Area",
         "Center(C), Restricted Area"
        ],
        [
         "Miye Oni",
         "Left Side(L), Left Corner 3",
         "Left Side(L), Left Corner 3"
        ],
        [
         "Mo Bamba",
         "Center(C), Restricted Area",
         "Center(C), Restricted Area"
        ],
        [
         "Mo Williams",
         "Center(C), Restricted Area",
         "Center(C), Restricted Area"
        ],
        [
         "Monta Ellis",
         "Center(C), Restricted Area",
         "Center(C), Restricted Area"
        ],
        [
         "Monte Morris",
         "Center(C), Restricted Area",
         "Center(C), Restricted Area"
        ],
        [
         "Montrezl Harrell",
         "Center(C), Restricted Area",
         "Center(C), Restricted Area"
        ],
        [
         "Monty Williams",
         "Center(C), Restricted Area",
         "Center(C), Restricted Area"
        ],
        [
         "Moochie Norris",
         "Center(C), Restricted Area",
         "Center(C), Restricted Area"
        ],
        [
         "Mookie Blaylock",
         "Center(C), Restricted Area",
         "Center(C), Restricted Area"
        ],
        [
         "Moritz Wagner",
         "Center(C), Restricted Area",
         "Center(C), Restricted Area"
        ],
        [
         "Morris Almond",
         "Center(C), Restricted Area",
         "Center(C), Restricted Area"
        ],
        [
         "Morris Peterson",
         "Center(C), Restricted Area",
         "Center(C), Restricted Area"
        ],
        [
         "Moses Brown",
         "Center(C), Restricted Area",
         "Center(C), Restricted Area"
        ],
        [
         "Moses Moody",
         "Center(C), Restricted Area",
         "Center(C), Restricted Area"
        ],
        [
         "Mouhamed Sene",
         "Center(C), Restricted Area",
         "Center(C), Restricted Area"
        ],
        [
         "Muggsy Bogues",
         "Center(C), Restricted Area",
         "Center(C), Mid-Range"
        ],
        [
         "Mychal Mulder",
         "Right Side Center(RC), Above the Break 3",
         "Center(C), Restricted Area"
        ],
        [
         "Myke Henry",
         "Center(C), Restricted Area",
         "Center(C), Restricted Area"
        ],
        [
         "Myles Turner",
         "Center(C), Restricted Area",
         "Center(C), Restricted Area"
        ],
        [
         "Naji Marshall",
         "Center(C), Restricted Area",
         "Center(C), Restricted Area"
        ],
        [
         "Nando De Colo",
         "Center(C), Restricted Area",
         "Center(C), Restricted Area"
        ],
        [
         "Nassir Little",
         "Center(C), Restricted Area",
         "Center(C), Restricted Area"
        ],
        [
         "Nate McMillan",
         "Center(C), Restricted Area",
         "Center(C), Restricted Area"
        ],
        [
         "Nate Robinson",
         "Center(C), Restricted Area",
         "Center(C), Restricted Area"
        ],
        [
         "Nate Wolters",
         "Center(C), Restricted Area",
         "Center(C), Restricted Area"
        ],
        [
         "Nathan Jawai",
         "Center(C), Restricted Area",
         "Center(C), Restricted Area"
        ],
        [
         "Nathan Knight",
         "Center(C), Restricted Area",
         "Center(C), Restricted Area"
        ],
        [
         "Naz Reid",
         "Center(C), Restricted Area",
         "Center(C), Restricted Area"
        ],
        [
         "Nazr Mohammed",
         "Center(C), Restricted Area",
         "Center(C), Restricted Area"
        ],
        [
         "Nemanja Bjelica",
         "Center(C), Restricted Area",
         "Center(C), Restricted Area"
        ],
        [
         "Nenad Krstic",
         "Center(C), Restricted Area",
         "Center(C), Restricted Area"
        ],
        [
         "Nene",
         "Center(C), Restricted Area",
         "Center(C), Restricted Area"
        ],
        [
         "Nerlens Noel",
         "Center(C), Restricted Area",
         "Center(C), Restricted Area"
        ],
        [
         "Nic Claxton",
         "Center(C), Restricted Area",
         "Center(C), Restricted Area"
        ],
        [
         "Nick Anderson",
         "Center(C), Restricted Area",
         "Center(C), Restricted Area"
        ],
        [
         "Nick Calathes",
         "Center(C), Restricted Area",
         "Center(C), Restricted Area"
        ],
        [
         "Nick Collison",
         "Center(C), Restricted Area",
         "Center(C), Restricted Area"
        ],
        [
         "Nick Fazekas",
         "Center(C), Restricted Area",
         "Center(C), Restricted Area"
        ],
        [
         "Nick Johnson",
         "Center(C), Restricted Area",
         "Center(C), Restricted Area"
        ],
        [
         "Nick Richards",
         "Center(C), Restricted Area",
         "Center(C), Restricted Area"
        ],
        [
         "Nick Van Exel",
         "Center(C), Restricted Area",
         "Center(C), Restricted Area"
        ],
        [
         "Nick Young",
         "Center(C), Restricted Area",
         "Center(C), Restricted Area"
        ],
        [
         "Nickeil Alexander-Walker",
         "Center(C), Restricted Area",
         "Center(C), Restricted Area"
        ],
        [
         "Nicolas Batum",
         "Center(C), Restricted Area",
         "Center(C), Restricted Area"
        ],
        [
         "Nicolas Brussino",
         "Left Side Center(LC), Above the Break 3",
         "Left Side Center(LC), Above the Break 3"
        ],
        [
         "Nicolo Melli",
         "Left Side Center(LC), Above the Break 3",
         "Center(C), Restricted Area"
        ],
        [
         "Nik Stauskas",
         "Center(C), Restricted Area",
         "Center(C), Restricted Area"
        ],
        [
         "Nikola Jokic",
         "Center(C), Restricted Area",
         "Center(C), Restricted Area"
        ],
        [
         "Nikola Mirotic",
         "Center(C), Restricted Area",
         "Center(C), Restricted Area"
        ],
        [
         "Nikola Pekovic",
         "Center(C), Restricted Area",
         "Center(C), Restricted Area"
        ],
        [
         "Nikola Vucevic",
         "Center(C), Restricted Area",
         "Center(C), Restricted Area"
        ],
        [
         "Nikoloz Tskitishvili",
         "Center(C), Restricted Area",
         "Center(C), Restricted Area"
        ],
        [
         "Noah Vonleh",
         "Center(C), Restricted Area",
         "Center(C), Restricted Area"
        ],
        [
         "Nolan Smith",
         "Center(C), Restricted Area",
         "Center(C), Restricted Area"
        ],
        [
         "Norman Powell",
         "Center(C), Restricted Area",
         "Center(C), Restricted Area"
        ],
        [
         "Norris Cole",
         "Center(C), Restricted Area",
         "Center(C), Restricted Area"
        ],
        [
         "Norvel Pelle",
         "Center(C), Restricted Area",
         "Center(C), Restricted Area"
        ],
        [
         "O.G. Anunoby",
         "Center(C), Restricted Area",
         "Center(C), Restricted Area"
        ],
        [
         "O.J. Mayo",
         "Center(C), Restricted Area",
         "Center(C), Restricted Area"
        ],
        [
         "Obi Toppin",
         "Center(C), Restricted Area",
         "Center(C), Restricted Area"
        ],
        [
         "Obinna Ekezie",
         "Center(C), Restricted Area",
         "Center(C), Restricted Area"
        ],
        [
         "Okaro White",
         "Center(C), Restricted Area",
         "Center(C), Restricted Area"
        ],
        [
         "Olden Polynice",
         "Center(C), Restricted Area",
         "Center(C), Restricted Area"
        ],
        [
         "Oleksiy Pecherov",
         "Center(C), Restricted Area",
         "Center(C), Restricted Area"
        ],
        [
         "Oliver Miller",
         "Center(C), Restricted Area",
         "Center(C), Restricted Area"
        ],
        [
         "Olivier Sarr",
         "Center(C), Restricted Area",
         "Center(C), Restricted Area"
        ],
        [
         "Olumide Oyedeji",
         "Center(C), Restricted Area",
         "Center(C), Restricted Area"
        ],
        [
         "Omari Spellman",
         "Center(C), Restricted Area",
         "Center(C), Restricted Area"
        ],
        [
         "Omer Asik",
         "Center(C), Restricted Area",
         "Center(C), Restricted Area"
        ],
        [
         "Omer Yurtseven",
         "Center(C), Restricted Area",
         "Center(C), Restricted Area"
        ],
        [
         "Omri Casspi",
         "Center(C), Restricted Area",
         "Center(C), Restricted Area"
        ],
        [
         "Onyeka Okongwu",
         "Center(C), Restricted Area",
         "Center(C), Restricted Area"
        ],
        [
         "Orien Greene",
         "Center(C), Restricted Area",
         "Center(C), Restricted Area"
        ],
        [
         "Orlando Johnson",
         "Center(C), Restricted Area",
         "Center(C), Restricted Area"
        ],
        [
         "Oscar Torres",
         "Center(C), Restricted Area",
         "Center(C), Restricted Area"
        ],
        [
         "Oshae Brissett",
         "Center(C), Restricted Area",
         "Center(C), Restricted Area"
        ],
        [
         "Othella Harrington",
         "Center(C), Restricted Area",
         "Center(C), Restricted Area"
        ],
        [
         "Othyus Jeffers",
         "Center(C), Restricted Area",
         "Center(C), Restricted Area"
        ],
        [
         "Otis Thorpe",
         "Center(C), Restricted Area",
         "Center(C), Restricted Area"
        ],
        [
         "Otto Porter Jr.",
         "Center(C), Restricted Area",
         "Center(C), Restricted Area"
        ],
        [
         "P.J. Brown",
         "Center(C), Restricted Area",
         "Center(C), Restricted Area"
        ],
        [
         "P.J. Dozier",
         "Center(C), Restricted Area",
         "Center(C), Restricted Area"
        ],
        [
         "P.J. Tucker",
         "Center(C), Restricted Area",
         "Center(C), Restricted Area"
        ],
        [
         "P.J. Washington",
         "Center(C), Restricted Area",
         "Center(C), Restricted Area"
        ],
        [
         "PJ Hairston",
         "Center(C), Restricted Area",
         "Center(C), Restricted Area"
        ],
        [
         "Pablo Prigioni",
         "Left Side Center(LC), Above the Break 3",
         "Center(C), Restricted Area"
        ],
        [
         "Pape Sow",
         "Center(C), Restricted Area",
         "Center(C), Restricted Area"
        ],
        [
         "Pascal Siakam",
         "Center(C), Restricted Area",
         "Center(C), Restricted Area"
        ],
        [
         "Pat Burke",
         "Center(C), Restricted Area",
         "Center(C), Restricted Area"
        ],
        [
         "Pat Connaughton",
         "Center(C), Restricted Area",
         "Center(C), Restricted Area"
        ],
        [
         "Pat Garrity",
         "Left Side Center(LC), Above the Break 3",
         "Center(C), Restricted Area"
        ],
        [
         "Patrick Beverley",
         "Center(C), Restricted Area",
         "Center(C), Restricted Area"
        ],
        [
         "Patrick Ewing",
         "Center(C), Restricted Area",
         "Center(C), Restricted Area"
        ],
        [
         "Patrick McCaw",
         "Center(C), Restricted Area",
         "Center(C), Restricted Area"
        ],
        [
         "Patrick O'Bryant",
         "Center(C), Restricted Area",
         "Center(C), Restricted Area"
        ],
        [
         "Patrick Patterson",
         "Center(C), Restricted Area",
         "Center(C), Restricted Area"
        ],
        [
         "Patrick Williams",
         "Center(C), Restricted Area",
         "Center(C), Restricted Area"
        ],
        [
         "Patty Mills",
         "Left Side Center(LC), Above the Break 3",
         "Center(C), Restricted Area"
        ],
        [
         "Pau Gasol",
         "Center(C), Restricted Area",
         "Center(C), Restricted Area"
        ],
        [
         "Paul Davis",
         "Center(C), Restricted Area",
         "Center(C), Restricted Area"
        ],
        [
         "Paul George",
         "Center(C), Restricted Area",
         "Center(C), Restricted Area"
        ],
        [
         "Paul McPherson",
         "Center(C), Restricted Area",
         "Center(C), Restricted Area"
        ],
        [
         "Paul Millsap",
         "Center(C), Restricted Area",
         "Center(C), Restricted Area"
        ],
        [
         "Paul Pierce",
         "Center(C), Restricted Area",
         "Center(C), Restricted Area"
        ],
        [
         "Paul Reed",
         "Center(C), Restricted Area",
         "Center(C), Restricted Area"
        ],
        [
         "Paul Watson",
         "Left Side Center(LC), Above the Break 3",
         "Left Side Center(LC), Above the Break 3"
        ],
        [
         "Paul Zipser",
         "Center(C), Restricted Area",
         "Center(C), Restricted Area"
        ],
        [
         "Payton Pritchard",
         "Left Side Center(LC), Above the Break 3",
         "Center(C), Restricted Area"
        ],
        [
         "Peja Stojakovic",
         "Center(C), Restricted Area",
         "Center(C), Restricted Area"
        ],
        [
         "Pero Antic",
         "Center(C), Restricted Area",
         "Center(C), Restricted Area"
        ],
        [
         "Perry Jones III",
         "Center(C), Restricted Area",
         "Center(C), Restricted Area"
        ],
        [
         "Pervis Ellison",
         "Center(C), Restricted Area",
         "Center(C), Restricted Area"
        ],
        [
         "Pete Chilcutt",
         "Center(C), Restricted Area",
         "Center(C), Restricted Area"
        ],
        [
         "Phil Pressey",
         "Center(C), Restricted Area",
         "Center(C), Restricted Area"
        ],
        [
         "Pooh Richardson",
         "Center(C), Restricted Area",
         "Center(C), Restricted Area"
        ],
        [
         "Popeye Jones",
         "Center(C), Restricted Area",
         "Center(C), Restricted Area"
        ],
        [
         "Pops Mensah-Bonsu",
         "Center(C), Restricted Area",
         "Center(C), Restricted Area"
        ],
        [
         "Precious Achiuwa",
         "Center(C), Restricted Area",
         "Center(C), Restricted Area"
        ],
        [
         "Predrag Drobnjak",
         "Center(C), Restricted Area",
         "Center(C), Restricted Area"
        ],
        [
         "Predrag Savovic",
         "Center(C), Restricted Area",
         "Center(C), Restricted Area"
        ],
        [
         "Priest Lauderdale",
         "Center(C), Restricted Area",
         "Center(C), Restricted Area"
        ],
        [
         "Primoz Brezec",
         "Center(C), Restricted Area",
         "Center(C), Restricted Area"
        ],
        [
         "Quentin Grimes",
         "Left Side Center(LC), Above the Break 3",
         "Left Side(L), Left Corner 3"
        ],
        [
         "Quentin Richardson",
         "Center(C), Restricted Area",
         "Center(C), Restricted Area"
        ],
        [
         "Quincy Acy",
         "Center(C), Restricted Area",
         "Center(C), Restricted Area"
        ],
        [
         "Quincy Douby",
         "Center(C), Restricted Area",
         "Center(C), Restricted Area"
        ],
        [
         "Quincy Lewis",
         "Center(C), Restricted Area",
         "Center(C), Restricted Area"
        ],
        [
         "Quincy Pondexter",
         "Center(C), Restricted Area",
         "Center(C), Restricted Area"
        ],
        [
         "Quinn Cook",
         "Center(C), Restricted Area",
         "Left Side(L), Mid-Range"
        ],
        [
         "Quinndary Weatherspoon",
         "Center(C), Restricted Area",
         "Center(C), Restricted Area"
        ],
        [
         "Quinton Ross",
         "Center(C), Restricted Area",
         "Center(C), Restricted Area"
        ],
        [
         "Qyntel Woods",
         "Center(C), Restricted Area",
         "Center(C), Restricted Area"
        ],
        [
         "R.J. Hampton",
         "Center(C), Restricted Area",
         "Center(C), Restricted Area"
        ],
        [
         "RJ Barrett",
         "Center(C), Restricted Area",
         "Center(C), Restricted Area"
        ],
        [
         "Raef LaFrentz",
         "Center(C), Restricted Area",
         "Center(C), Restricted Area"
        ],
        [
         "Rafael Addison",
         "Center(C), Restricted Area",
         "Center(C), Restricted Area"
        ],
        [
         "Rafael Araujo",
         "Center(C), Restricted Area",
         "Center(C), Restricted Area"
        ],
        [
         "Rafer Alston",
         "Center(C), Restricted Area",
         "Center(C), Restricted Area"
        ],
        [
         "Raja Bell",
         "Center(C), Restricted Area",
         "Center(C), Restricted Area"
        ],
        [
         "Rajon Rondo",
         "Center(C), Restricted Area",
         "Center(C), Restricted Area"
        ],
        [
         "Rakeem Christmas",
         "Center(C), Restricted Area",
         "Center(C), Restricted Area"
        ],
        [
         "Ramon Sessions",
         "Center(C), Restricted Area",
         "Center(C), Restricted Area"
        ],
        [
         "Randell Jackson",
         "Center(C), Restricted Area",
         "Center(C), Restricted Area"
        ],
        [
         "Randolph Morris",
         "Center(C), Restricted Area",
         "Center(C), Restricted Area"
        ],
        [
         "Randy Brown",
         "Center(C), Restricted Area",
         "Center(C), Restricted Area"
        ],
        [
         "Randy Foye",
         "Center(C), Restricted Area",
         "Center(C), Restricted Area"
        ],
        [
         "Randy Livingston",
         "Center(C), Restricted Area",
         "Center(C), Restricted Area"
        ],
        [
         "Rashad McCants",
         "Center(C), Restricted Area",
         "Center(C), Restricted Area"
        ],
        [
         "Rashad Vaughn",
         "Center(C), Restricted Area",
         "Center(C), Restricted Area"
        ],
        [
         "Rashard Lewis",
         "Center(C), Restricted Area",
         "Center(C), Restricted Area"
        ],
        [
         "Rasheed Wallace",
         "Center(C), Restricted Area",
         "Center(C), Restricted Area"
        ],
        [
         "Rasho Nesterovic",
         "Center(C), Restricted Area",
         "Center(C), Restricted Area"
        ],
        [
         "Rasual Butler",
         "Right Side Center(RC), Above the Break 3",
         "Center(C), Restricted Area"
        ],
        [
         "Raul Lopez",
         "Center(C), Restricted Area",
         "Center(C), Mid-Range"
        ],
        [
         "Raul Neto",
         "Center(C), Restricted Area",
         "Center(C), Restricted Area"
        ],
        [
         "Rawle Marshall",
         "Center(C), Restricted Area",
         "Center(C), Restricted Area"
        ],
        [
         "Ray Allen",
         "Center(C), Restricted Area",
         "Center(C), Restricted Area"
        ],
        [
         "Ray McCallum",
         "Center(C), Restricted Area",
         "Center(C), Restricted Area"
        ],
        [
         "Ray Owes",
         "Center(C), Restricted Area",
         "Center(C), Restricted Area"
        ],
        [
         "Ray Spalding",
         "Center(C), Restricted Area",
         "Center(C), Restricted Area"
        ],
        [
         "Raymond Felton",
         "Center(C), Restricted Area",
         "Center(C), Restricted Area"
        ],
        [
         "Reece Gaines",
         "Center(C), Restricted Area",
         "Center(C), Restricted Area"
        ],
        [
         "Reggie Bullock",
         "Left Side Center(LC), Above the Break 3",
         "Center(C), Restricted Area"
        ],
        [
         "Reggie Evans",
         "Center(C), Restricted Area",
         "Center(C), Restricted Area"
        ],
        [
         "Reggie Geary",
         "Center(C), Restricted Area",
         "Center(C), Restricted Area"
        ],
        [
         "Reggie Jackson",
         "Center(C), Restricted Area",
         "Center(C), Restricted Area"
        ],
        [
         "Reggie Jordan",
         "Center(C), Restricted Area",
         "Center(C), Restricted Area"
        ],
        [
         "Reggie Miller",
         "Right Side(R), Mid-Range",
         "Center(C), Restricted Area"
        ],
        [
         "Reggie Perry",
         "Center(C), Restricted Area",
         "Center(C), Restricted Area"
        ],
        [
         "Reggie Slater",
         "Center(C), Restricted Area",
         "Center(C), Restricted Area"
        ],
        [
         "Renaldo Balkman",
         "Center(C), Restricted Area",
         "Center(C), Restricted Area"
        ],
        [
         "Rex Chapman",
         "Left Side(L), Mid-Range",
         "Center(C), Restricted Area"
        ],
        [
         "Rex Walters",
         "Center(C), Restricted Area",
         "Center(C), Restricted Area"
        ],
        [
         "Richard Hamilton",
         "Center(C), Restricted Area",
         "Center(C), Restricted Area"
        ],
        [
         "Richard Jefferson",
         "Center(C), Restricted Area",
         "Center(C), Restricted Area"
        ],
        [
         "Richaun Holmes",
         "Center(C), Restricted Area",
         "Center(C), Restricted Area"
        ],
        [
         "Richie Frahm",
         "Left Side Center(LC), Above the Break 3",
         "Center(C), Restricted Area"
        ],
        [
         "Rick Brunson",
         "Center(C), Restricted Area",
         "Left Side(L), Left Corner 3"
        ],
        [
         "Rick Fox",
         "Center(C), Restricted Area",
         "Center(C), Restricted Area"
        ],
        [
         "Rick Mahorn",
         "Center(C), Restricted Area",
         "Center(C), Restricted Area"
        ],
        [
         "Ricky Davis",
         "Center(C), Restricted Area",
         "Center(C), Restricted Area"
        ],
        [
         "Ricky Ledo",
         "Center(C), Restricted Area",
         "Center(C), Restricted Area"
        ],
        [
         "Ricky Pierce",
         "Left Side(L), Mid-Range",
         "Center(C), In The Paint (Non-RA)"
        ],
        [
         "Ricky Rubio",
         "Center(C), Restricted Area",
         "Center(C), Restricted Area"
        ],
        [
         "Rik Smits",
         "Center(C), In The Paint (Non-RA)",
         "Center(C), Restricted Area"
        ],
        [
         "Robbie Hummel",
         "Center(C), Restricted Area",
         "Center(C), Restricted Area"
        ],
        [
         "Robert Archibald",
         "Center(C), Restricted Area",
         "Center(C), Restricted Area"
        ],
        [
         "Robert Covington",
         "Center(C), Restricted Area",
         "Center(C), Restricted Area"
        ],
        [
         "Robert Horry",
         "Center(C), Restricted Area",
         "Center(C), Restricted Area"
        ],
        [
         "Robert Pack",
         "Center(C), Restricted Area",
         "Center(C), Restricted Area"
        ],
        [
         "Robert Parish",
         "Center(C), Restricted Area",
         "Center(C), Restricted Area"
        ],
        [
         "Robert Sacre",
         "Center(C), In The Paint (Non-RA)",
         "Center(C), Restricted Area"
        ],
        [
         "Robert Swift",
         "Center(C), Restricted Area",
         "Center(C), Restricted Area"
        ],
        [
         "Robert Traylor",
         "Center(C), Restricted Area",
         "Center(C), Restricted Area"
        ],
        [
         "Robert Williams III",
         "Center(C), Restricted Area",
         "Center(C), Restricted Area"
        ],
        [
         "Robin Lopez",
         "Center(C), Restricted Area",
         "Center(C), Restricted Area"
        ],
        [
         "Rod Strickland",
         "Center(C), Restricted Area",
         "Center(C), Restricted Area"
        ],
        [
         "Rodions Kurucs",
         "Center(C), Restricted Area",
         "Center(C), Restricted Area"
        ],
        [
         "Rodney Buford",
         "Center(C), Restricted Area",
         "Center(C), Restricted Area"
        ],
        [
         "Rodney Carney",
         "Center(C), Restricted Area",
         "Center(C), Restricted Area"
        ],
        [
         "Rodney Hood",
         "Center(C), In The Paint (Non-RA)",
         "Center(C), Restricted Area"
        ],
        [
         "Rodney McGruder",
         "Center(C), Restricted Area",
         "Center(C), Restricted Area"
        ],
        [
         "Rodney Rogers",
         "Center(C), Restricted Area",
         "Center(C), Restricted Area"
        ],
        [
         "Rodney Stuckey",
         "Center(C), Restricted Area",
         "Center(C), Restricted Area"
        ],
        [
         "Rodney White",
         "Center(C), Restricted Area",
         "Center(C), Restricted Area"
        ],
        [
         "Rodrick Rhodes",
         "Center(C), Restricted Area",
         "Center(C), Restricted Area"
        ],
        [
         "Rodrigue Beaubois",
         "Center(C), Restricted Area",
         "Center(C), Restricted Area"
        ],
        [
         "Roger Mason Jr.",
         "Right Side Center(RC), Above the Break 3",
         "Center(C), Restricted Area"
        ],
        [
         "Roko Ukic",
         "Center(C), Restricted Area",
         "Center(C), In The Paint (Non-RA)"
        ],
        [
         "Romeo Langford",
         "Center(C), Restricted Area",
         "Center(C), Restricted Area"
        ],
        [
         "Ron Baker",
         "Center(C), Restricted Area",
         "Center(C), Restricted Area"
        ],
        [
         "Ron Harper",
         "Center(C), Restricted Area",
         "Center(C), Restricted Area"
        ],
        [
         "Ron Mercer",
         "Center(C), Restricted Area",
         "Center(C), Restricted Area"
        ],
        [
         "Ronald Dupree",
         "Center(C), Restricted Area",
         "Center(C), Restricted Area"
        ],
        [
         "Rondae Hollis-Jefferson",
         "Center(C), Restricted Area",
         "Center(C), Restricted Area"
        ],
        [
         "Ronnie Brewer",
         "Center(C), Restricted Area",
         "Center(C), Restricted Area"
        ],
        [
         "Ronnie Price",
         "Center(C), Restricted Area",
         "Center(C), Restricted Area"
        ],
        [
         "Ronny Turiaf",
         "Center(C), Restricted Area",
         "Center(C), Restricted Area"
        ],
        [
         "Rony Seikaly",
         "Center(C), Restricted Area",
         "Center(C), Restricted Area"
        ],
        [
         "Roshown McLeod",
         "Right Side(R), Mid-Range",
         "Center(C), Restricted Area"
        ],
        [
         "Roy Hibbert",
         "Center(C), Restricted Area",
         "Center(C), Restricted Area"
        ],
        [
         "Roy Rogers",
         "Center(C), Restricted Area",
         "Center(C), Restricted Area"
        ],
        [
         "Royal Ivey",
         "Center(C), Restricted Area",
         "Center(C), Restricted Area"
        ],
        [
         "Royce O'Neale",
         "Center(C), Restricted Area",
         "Center(C), Restricted Area"
        ],
        [
         "Ruben Patterson",
         "Center(C), Restricted Area",
         "Center(C), Restricted Area"
        ],
        [
         "Ruben Wolkowyski",
         "Center(C), Restricted Area",
         "Center(C), Restricted Area"
        ],
        [
         "Rudy Fernandez",
         "Right Side Center(RC), Above the Break 3",
         "Center(C), Restricted Area"
        ],
        [
         "Rudy Gay",
         "Center(C), Restricted Area",
         "Center(C), Restricted Area"
        ],
        [
         "Rudy Gobert",
         "Center(C), Restricted Area",
         "Center(C), Restricted Area"
        ],
        [
         "Rui Hachimura",
         "Center(C), Restricted Area",
         "Center(C), Restricted Area"
        ],
        [
         "Rumeal Robinson",
         "Center(C), Restricted Area",
         "Center(C), Restricted Area"
        ],
        [
         "Russell Westbrook",
         "Center(C), Restricted Area",
         "Center(C), Restricted Area"
        ],
        [
         "Rusty LaRue",
         "Right Side Center(RC), Above the Break 3",
         "Right Side(R), Mid-Range"
        ],
        [
         "Ryan Anderson",
         "Center(C), Restricted Area",
         "Center(C), Restricted Area"
        ],
        [
         "Ryan Arcidiacono",
         "Center(C), Restricted Area",
         "Center(C), Restricted Area"
        ],
        [
         "Ryan Bowen",
         "Center(C), Restricted Area",
         "Center(C), Restricted Area"
        ],
        [
         "Ryan Broekhoff",
         "Right Side Center(RC), Above the Break 3",
         "Right Side Center(RC), Above the Break 3"
        ],
        [
         "Ryan Gomes",
         "Center(C), Restricted Area",
         "Center(C), Restricted Area"
        ],
        [
         "Ryan Hollins",
         "Center(C), Restricted Area",
         "Center(C), Restricted Area"
        ],
        [
         "Ryan Humphrey",
         "Center(C), Restricted Area",
         "Center(C), Restricted Area"
        ],
        [
         "Ryan Kelly",
         "Center(C), Restricted Area",
         "Center(C), Restricted Area"
        ],
        [
         "Ryan Stack",
         "Center(C), Restricted Area",
         "Center(C), Restricted Area"
        ],
        [
         "Saben Lee",
         "Center(C), Restricted Area",
         "Center(C), Restricted Area"
        ],
        [
         "Saddiq Bey",
         "Left Side Center(LC), Above the Break 3",
         "Center(C), Restricted Area"
        ],
        [
         "Salah Mejri",
         "Center(C), Restricted Area",
         "Center(C), Restricted Area"
        ],
        [
         "Salim Stoudamire",
         "Left Side Center(LC), Above the Break 3",
         "Center(C), Restricted Area"
        ],
        [
         "Sam Cassell",
         "Left Side(L), Mid-Range",
         "Center(C), Restricted Area"
        ],
        [
         "Sam Dekker",
         "Center(C), Restricted Area",
         "Center(C), Restricted Area"
        ],
        [
         "Sam Jacobson",
         "Center(C), Restricted Area",
         "Center(C), Restricted Area"
        ],
        [
         "Sam Mack",
         "Center(C), Restricted Area",
         "Center(C), Restricted Area"
        ],
        [
         "Sam Mitchell",
         "Left Side(L), Mid-Range",
         "Center(C), Restricted Area"
        ],
        [
         "Sam Perkins",
         "Center(C), Restricted Area",
         "Center(C), Restricted Area"
        ],
        [
         "Sam Young",
         "Center(C), Restricted Area",
         "Center(C), Restricted Area"
        ],
        [
         "Samaki Walker",
         "Center(C), Restricted Area",
         "Center(C), Restricted Area"
        ],
        [
         "Samardo Samuels",
         "Center(C), Restricted Area",
         "Center(C), Restricted Area"
        ],
        [
         "Samuel Dalembert",
         "Center(C), Restricted Area",
         "Center(C), Restricted Area"
        ],
        [
         "Sandro Mamukelashvili",
         "Center(C), Restricted Area",
         "Center(C), Restricted Area"
        ],
        [
         "Santi Aldama",
         "Center(C), Restricted Area",
         "Center(C), Restricted Area"
        ],
        [
         "Sarunas Jasikevicius",
         "Left Side Center(LC), Above the Break 3",
         "Right Side Center(RC), Mid-Range"
        ],
        [
         "Sasha Danilovic",
         "Center(C), Restricted Area",
         "Center(C), Restricted Area"
        ],
        [
         "Sasha Pavlovic",
         "Center(C), Restricted Area",
         "Center(C), Restricted Area"
        ],
        [
         "Sasha Vujacic",
         "Left Side Center(LC), Above the Break 3",
         "Center(C), Restricted Area"
        ],
        [
         "Scot Pollard",
         "Center(C), Restricted Area",
         "Center(C), Restricted Area"
        ],
        [
         "Scott Burrell",
         "Center(C), Restricted Area",
         "Right Side(R), Right Corner 3"
        ],
        [
         "Scott Padgett",
         "Center(C), Restricted Area",
         "Center(C), Restricted Area"
        ],
        [
         "Scott Williams",
         "Center(C), Restricted Area",
         "Center(C), Restricted Area"
        ],
        [
         "Scottie Barnes",
         "Center(C), Restricted Area",
         "Center(C), Restricted Area"
        ],
        [
         "Scottie Pippen",
         "Center(C), Restricted Area",
         "Center(C), Restricted Area"
        ],
        [
         "Sean Elliott",
         "Center(C), Restricted Area",
         "Center(C), Restricted Area"
        ],
        [
         "Sean Kilpatrick",
         "Center(C), Restricted Area",
         "Center(C), Restricted Area"
        ],
        [
         "Sean Lampley",
         "Center(C), Restricted Area",
         "Center(C), Restricted Area"
        ],
        [
         "Sean Marks",
         "Center(C), Restricted Area",
         "Center(C), Restricted Area"
        ],
        [
         "Sean May",
         "Center(C), Restricted Area",
         "Center(C), Restricted Area"
        ],
        [
         "Sean Rooks",
         "Center(C), Restricted Area",
         "Center(C), Restricted Area"
        ],
        [
         "Sean Williams",
         "Center(C), Restricted Area",
         "Center(C), Restricted Area"
        ],
        [
         "Sebastian Telfair",
         "Center(C), Restricted Area",
         "Center(C), Restricted Area"
        ],
        [
         "Sekou Doumbouya",
         "Center(C), Restricted Area",
         "Center(C), Restricted Area"
        ],
        [
         "Semaj Christon",
         "Center(C), Restricted Area",
         "Center(C), Restricted Area"
        ],
        [
         "Semi Ojeleye",
         "Center(C), Restricted Area",
         "Center(C), Restricted Area"
        ],
        [
         "Semih Erden",
         "Center(C), Restricted Area",
         "Center(C), Restricted Area"
        ],
        [
         "Serge Ibaka",
         "Center(C), Restricted Area",
         "Center(C), Restricted Area"
        ],
        [
         "Sergey Karasev",
         "Center(C), Restricted Area",
         "Center(C), Restricted Area"
        ],
        [
         "Sergio Rodriguez",
         "Center(C), Restricted Area",
         "Center(C), Restricted Area"
        ],
        [
         "Seth Curry",
         "Right Side Center(RC), Above the Break 3",
         "Center(C), Restricted Area"
        ],
        [
         "Shabazz Muhammad",
         "Center(C), Restricted Area",
         "Center(C), Restricted Area"
        ],
        [
         "Shabazz Napier",
         "Center(C), Restricted Area",
         "Center(C), Restricted Area"
        ],
        [
         "Shai Gilgeous-Alexander",
         "Center(C), Restricted Area",
         "Center(C), Restricted Area"
        ],
        [
         "Shake Milton",
         "Center(C), Restricted Area",
         "Center(C), Restricted Area"
        ],
        [
         "Shammond Williams",
         "Center(C), Restricted Area",
         "Center(C), Restricted Area"
        ],
        [
         "Shandon Anderson",
         "Center(C), Restricted Area",
         "Center(C), Restricted Area"
        ],
        [
         "Shane Battier",
         "Center(C), Restricted Area",
         "Center(C), Restricted Area"
        ],
        [
         "Shane Larkin",
         "Center(C), Restricted Area",
         "Center(C), Restricted Area"
        ],
        [
         "Shannon Brown",
         "Center(C), Restricted Area",
         "Center(C), Restricted Area"
        ],
        [
         "Shaquille Harrison",
         "Center(C), Restricted Area",
         "Center(C), Restricted Area"
        ],
        [
         "Shaquille O'Neal",
         "Center(C), Restricted Area",
         "Center(C), Restricted Area"
        ],
        [
         "Shareef Abdur-Rahim",
         "Center(C), Restricted Area",
         "Center(C), Restricted Area"
        ],
        [
         "Sharone Wright",
         "Center(C), Restricted Area",
         "Center(C), Restricted Area"
        ],
        [
         "Shaun Livingston",
         "Center(C), Restricted Area",
         "Center(C), Restricted Area"
        ],
        [
         "Shavlik Randolph",
         "Center(C), Restricted Area",
         "Center(C), Restricted Area"
        ],
        [
         "Shawn Bradley",
         "Center(C), Restricted Area",
         "Center(C), Restricted Area"
        ],
        [
         "Shawn Kemp",
         "Center(C), Restricted Area",
         "Center(C), Restricted Area"
        ],
        [
         "Shawn Long",
         "Center(C), Restricted Area",
         "Center(C), Restricted Area"
        ],
        [
         "Shawn Marion",
         "Center(C), Restricted Area",
         "Center(C), Restricted Area"
        ],
        [
         "Shawn Respert",
         "Center(C), Restricted Area",
         "Right Side(R), Mid-Range"
        ],
        [
         "Shawne Williams",
         "Center(C), Restricted Area",
         "Center(C), Restricted Area"
        ],
        [
         "Shawnelle Scott",
         "Center(C), Restricted Area",
         "Center(C), Restricted Area"
        ],
        [
         "Shelden Williams",
         "Center(C), Restricted Area",
         "Center(C), Restricted Area"
        ],
        [
         "Shelvin Mack",
         "Center(C), Restricted Area",
         "Center(C), Restricted Area"
        ],
        [
         "Sherman Douglas",
         "Center(C), Restricted Area",
         "Center(C), Restricted Area"
        ],
        [
         "Sindarius Thornwell",
         "Center(C), Restricted Area",
         "Center(C), Restricted Area"
        ],
        [
         "Skal Labissiere",
         "Center(C), Restricted Area",
         "Center(C), Restricted Area"
        ],
        [
         "Skylar Mays",
         "Center(C), Restricted Area",
         "Center(C), Restricted Area"
        ],
        [
         "Smush Parker",
         "Center(C), Restricted Area",
         "Center(C), Restricted Area"
        ],
        [
         "Solomon Hill",
         "Center(C), Restricted Area",
         "Center(C), Restricted Area"
        ],
        [
         "Solomon Jones",
         "Center(C), Restricted Area",
         "Center(C), Restricted Area"
        ],
        [
         "Sonny Weems",
         "Center(C), Restricted Area",
         "Center(C), Restricted Area"
        ],
        [
         "Soumaila Samake",
         "Center(C), Restricted Area",
         "Center(C), Restricted Area"
        ],
        [
         "Speedy Claxton",
         "Center(C), Restricted Area",
         "Center(C), Restricted Area"
        ],
        [
         "Spencer Dinwiddie",
         "Center(C), Restricted Area",
         "Center(C), Restricted Area"
        ],
        [
         "Spencer Hawes",
         "Center(C), Restricted Area",
         "Center(C), Restricted Area"
        ],
        [
         "Stacey Augmon",
         "Center(C), Restricted Area",
         "Center(C), Restricted Area"
        ],
        [
         "Stanley Johnson",
         "Center(C), Restricted Area",
         "Center(C), Restricted Area"
        ],
        [
         "Stanley Roberts",
         "Center(C), Restricted Area",
         "Center(C), Restricted Area"
        ],
        [
         "Stephane Lasme",
         "Center(C), Restricted Area",
         "Center(C), Restricted Area"
        ],
        [
         "Stephen Curry",
         "Center(C), Restricted Area",
         "Center(C), Restricted Area"
        ],
        [
         "Stephen Graham",
         "Center(C), Restricted Area",
         "Center(C), Restricted Area"
        ],
        [
         "Stephen Howard",
         "Center(C), Restricted Area",
         "Center(C), Restricted Area"
        ],
        [
         "Stephen Jackson",
         "Center(C), Restricted Area",
         "Center(C), Restricted Area"
        ],
        [
         "Stephon Marbury",
         "Center(C), Restricted Area",
         "Center(C), Restricted Area"
        ],
        [
         "Sterling Brown",
         "Center(C), Restricted Area",
         "Center(C), Restricted Area"
        ],
        [
         "Steve Blake",
         "Left Side Center(LC), Above the Break 3",
         "Center(C), Restricted Area"
        ],
        [
         "Steve Francis",
         "Center(C), Restricted Area",
         "Center(C), Restricted Area"
        ],
        [
         "Steve Hamer",
         "Center(C), Restricted Area",
         "Center(C), Restricted Area"
        ],
        [
         "Steve Kerr",
         "Right Side(R), Mid-Range",
         "Center(C), Restricted Area"
        ],
        [
         "Steve Nash",
         "Center(C), Restricted Area",
         "Center(C), Restricted Area"
        ],
        [
         "Steve Novak",
         "Right Side Center(RC), Above the Break 3",
         "Left Side(L), Left Corner 3"
        ],
        [
         "Steven Adams",
         "Center(C), Restricted Area",
         "Center(C), Restricted Area"
        ],
        [
         "Steven Hunter",
         "Center(C), Restricted Area",
         "Center(C), Restricted Area"
        ],
        [
         "Stojko Vrankovic",
         "Center(C), Restricted Area",
         "Center(C), Restricted Area"
        ],
        [
         "Stromile Swift",
         "Center(C), Restricted Area",
         "Center(C), Restricted Area"
        ],
        [
         "Sundiata Gaines",
         "Center(C), Restricted Area",
         "Center(C), Restricted Area"
        ],
        [
         "Svi Mykhailiuk",
         "Center(C), Restricted Area",
         "Center(C), Restricted Area"
        ],
        [
         "T.J. Ford",
         "Center(C), Restricted Area",
         "Center(C), Restricted Area"
        ],
        [
         "T.J. Leaf",
         "Center(C), Restricted Area",
         "Center(C), Restricted Area"
        ],
        [
         "T.J. McConnell",
         "Center(C), Restricted Area",
         "Center(C), Restricted Area"
        ],
        [
         "T.J. Warren",
         "Center(C), Restricted Area",
         "Center(C), Restricted Area"
        ],
        [
         "Tacko Fall",
         "Center(C), Restricted Area",
         "Center(C), Restricted Area"
        ],
        [
         "Taj Gibson",
         "Center(C), Restricted Area",
         "Center(C), Restricted Area"
        ],
        [
         "Talen Horton-Tucker",
         "Center(C), Restricted Area",
         "Center(C), Restricted Area"
        ],
        [
         "Tamar Slay",
         "Center(C), Restricted Area",
         "Center(C), Restricted Area"
        ],
        [
         "Tarence Kinsey",
         "Center(C), Restricted Area",
         "Center(C), Restricted Area"
        ],
        [
         "Tarik Black",
         "Center(C), Restricted Area",
         "Center(C), Restricted Area"
        ],
        [
         "Tariq Abdul-Wahad",
         "Center(C), Restricted Area",
         "Center(C), Restricted Area"
        ],
        [
         "Taurean Prince",
         "Center(C), Restricted Area",
         "Center(C), Restricted Area"
        ],
        [
         "Tayshaun Prince",
         "Center(C), Restricted Area",
         "Center(C), Restricted Area"
        ],
        [
         "Terance Mann",
         "Center(C), Restricted Area",
         "Center(C), Restricted Area"
        ],
        [
         "Terence Davis",
         "Center(C), Restricted Area",
         "Center(C), Restricted Area"
        ],
        [
         "Terence Morris",
         "Center(C), Restricted Area",
         "Center(C), Restricted Area"
        ],
        [
         "Terrance Ferguson",
         "Left Side(L), Left Corner 3",
         "Center(C), Restricted Area"
        ],
        [
         "Terrel Harris",
         "Center(C), Restricted Area",
         "Center(C), Restricted Area"
        ],
        [
         "Terrell Brandon",
         "Left Side(L), Mid-Range",
         "Center(C), Restricted Area"
        ],
        [
         "Terrence Jones",
         "Center(C), Restricted Area",
         "Center(C), Restricted Area"
        ],
        [
         "Terrence Ross",
         "Right Side Center(RC), Above the Break 3",
         "Center(C), Restricted Area"
        ],
        [
         "Terrence Williams",
         "Center(C), Restricted Area",
         "Center(C), Restricted Area"
        ],
        [
         "Terry Cummings",
         "Center(C), Restricted Area",
         "Center(C), Restricted Area"
        ],
        [
         "Terry Davis",
         "Center(C), Restricted Area",
         "Center(C), Restricted Area"
        ],
        [
         "Terry Dehere",
         "Center(C), Restricted Area",
         "Center(C), Restricted Area"
        ],
        [
         "Terry Mills",
         "Left Side(L), Mid-Range",
         "Center(C), Mid-Range"
        ],
        [
         "Terry Porter",
         "Center(C), Restricted Area",
         "Center(C), Restricted Area"
        ],
        [
         "Terry Rozier",
         "Center(C), Restricted Area",
         "Center(C), Restricted Area"
        ],
        [
         "Terry Taylor",
         "Center(C), Restricted Area",
         "Center(C), Restricted Area"
        ],
        [
         "Thabo Sefolosha",
         "Center(C), Restricted Area",
         "Center(C), Restricted Area"
        ],
        [
         "Thaddeus Young",
         "Center(C), Restricted Area",
         "Center(C), Restricted Area"
        ],
        [
         "Thanasis Antetokounmpo",
         "Center(C), Restricted Area",
         "Center(C), Restricted Area"
        ],
        [
         "Theo Maledon",
         "Center(C), In The Paint (Non-RA)",
         "Center(C), Restricted Area"
        ],
        [
         "Theo Pinson",
         "Center(C), Restricted Area",
         "Center(C), Restricted Area"
        ],
        [
         "Theo Ratliff",
         "Center(C), Restricted Area",
         "Center(C), Restricted Area"
        ],
        [
         "Theron Smith",
         "Center(C), Restricted Area",
         "Center(C), Restricted Area"
        ],
        [
         "Thomas Bryant",
         "Center(C), Restricted Area",
         "Center(C), Restricted Area"
        ],
        [
         "Thomas Hamilton",
         "Center(C), Restricted Area",
         "Center(C), Restricted Area"
        ],
        [
         "Thomas Robinson",
         "Center(C), Restricted Area",
         "Center(C), Restricted Area"
        ],
        [
         "Thon Maker",
         "Center(C), Restricted Area",
         "Center(C), Restricted Area"
        ],
        [
         "Thurl Bailey",
         "Center(C), Restricted Area",
         "Center(C), Restricted Area"
        ],
        [
         "Tiago Splitter",
         "Center(C), Restricted Area",
         "Center(C), Restricted Area"
        ],
        [
         "Tierre Brown",
         "Center(C), Restricted Area",
         "Center(C), Restricted Area"
        ],
        [
         "Tim Duncan",
         "Center(C), Restricted Area",
         "Center(C), Restricted Area"
        ],
        [
         "Tim Frazier",
         "Center(C), Restricted Area",
         "Center(C), Restricted Area"
        ],
        [
         "Tim Hardaway",
         "Center(C), Restricted Area",
         "Center(C), Restricted Area"
        ],
        [
         "Tim Hardaway Jr.",
         "Center(C), Restricted Area",
         "Center(C), Restricted Area"
        ],
        [
         "Tim Legler",
         "Right Side(R), Mid-Range",
         "Center(C), Restricted Area"
        ],
        [
         "Tim Thomas",
         "Center(C), Restricted Area",
         "Center(C), Restricted Area"
        ],
        [
         "Timofey Mozgov",
         "Center(C), Restricted Area",
         "Center(C), Restricted Area"
        ],
        [
         "Timothe Luwawu-Cabarrot",
         "Center(C), Restricted Area",
         "Center(C), Restricted Area"
        ],
        [
         "Tobias Harris",
         "Center(C), Restricted Area",
         "Center(C), Restricted Area"
        ],
        [
         "Toby Bailey",
         "Center(C), Restricted Area",
         "Center(C), Restricted Area"
        ],
        [
         "Todd Day",
         "Center(C), Restricted Area",
         "Center(C), In The Paint (Non-RA)"
        ],
        [
         "Todd Fuller",
         "Center(C), Restricted Area",
         "Center(C), Restricted Area"
        ],
        [
         "Todd MacCulloch",
         "Center(C), Restricted Area",
         "Center(C), Restricted Area"
        ],
        [
         "Tom Gugliotta",
         "Center(C), Restricted Area",
         "Center(C), Restricted Area"
        ],
        [
         "Tom Hammonds",
         "Center(C), Restricted Area",
         "Center(C), Restricted Area"
        ],
        [
         "Tomas Satoransky",
         "Center(C), Restricted Area",
         "Center(C), Restricted Area"
        ],
        [
         "Toney Douglas",
         "Center(C), Restricted Area",
         "Center(C), Restricted Area"
        ],
        [
         "Toni Kukoc",
         "Center(C), Restricted Area",
         "Center(C), Restricted Area"
        ],
        [
         "Tony Allen",
         "Center(C), Restricted Area",
         "Center(C), Restricted Area"
        ],
        [
         "Tony Battie",
         "Center(C), Restricted Area",
         "Center(C), Restricted Area"
        ],
        [
         "Tony Bradley",
         "Center(C), Restricted Area",
         "Center(C), Restricted Area"
        ],
        [
         "Tony Delk",
         "Center(C), Restricted Area",
         "Right Side(R), In The Paint (Non-RA)"
        ],
        [
         "Tony Dumas",
         "Center(C), Restricted Area",
         "Center(C), Restricted Area"
        ],
        [
         "Tony Farmer",
         "Center(C), Restricted Area",
         "Center(C), Restricted Area"
        ],
        [
         "Tony Massenburg",
         "Center(C), Restricted Area",
         "Center(C), Restricted Area"
        ],
        [
         "Tony Parker",
         "Center(C), Restricted Area",
         "Center(C), Restricted Area"
        ],
        [
         "Tony Smith",
         "Center(C), Restricted Area",
         "Right Side(R), Mid-Range"
        ],
        [
         "Tony Snell",
         "Center(C), Restricted Area",
         "Center(C), Restricted Area"
        ],
        [
         "Tony Wroten",
         "Center(C), Restricted Area",
         "Center(C), Restricted Area"
        ],
        [
         "Torrey Craig",
         "Center(C), Restricted Area",
         "Center(C), Restricted Area"
        ],
        [
         "Tracy McGrady",
         "Center(C), Restricted Area",
         "Center(C), Restricted Area"
        ],
        [
         "Tracy Murray",
         "Right Side(R), Mid-Range",
         "Center(C), Restricted Area"
        ],
        [
         "Trae Young",
         "Center(C), In The Paint (Non-RA)",
         "Left Side(L), Left Corner 3"
        ],
        [
         "Trajan Langdon",
         "Center(C), Restricted Area",
         "Center(C), Restricted Area"
        ],
        [
         "Travis Best",
         "Center(C), Restricted Area",
         "Center(C), Restricted Area"
        ],
        [
         "Travis Diener",
         "Right Side Center(RC), Above the Break 3",
         "Center(C), Restricted Area"
        ],
        [
         "Travis Hansen",
         "Center(C), Restricted Area",
         "Center(C), Restricted Area"
        ],
        [
         "Travis Knight",
         "Center(C), Restricted Area",
         "Center(C), Restricted Area"
        ],
        [
         "Travis Outlaw",
         "Center(C), Restricted Area",
         "Center(C), Restricted Area"
        ],
        [
         "Travis Wear",
         "Right Side(R), Mid-Range",
         "Left Side(L), Mid-Range"
        ],
        [
         "Travis Williams",
         "Center(C), Restricted Area",
         "Center(C), Restricted Area"
        ],
        [
         "Tre Jones",
         "Center(C), Restricted Area",
         "Center(C), Restricted Area"
        ],
        [
         "Tre Mann",
         "Center(C), In The Paint (Non-RA)",
         "Center(C), Restricted Area"
        ],
        [
         "Tremaine Fowlkes",
         "Center(C), Restricted Area",
         "Center(C), Restricted Area"
        ],
        [
         "Trendon Watford",
         "Center(C), Restricted Area",
         "Center(C), Restricted Area"
        ],
        [
         "Trent Forrest",
         "Center(C), Restricted Area",
         "Center(C), Restricted Area"
        ],
        [
         "Trenton Hassell",
         "Center(C), Restricted Area",
         "Center(C), Restricted Area"
        ],
        [
         "Treveon Graham",
         "Center(C), Restricted Area",
         "Center(C), Restricted Area"
        ],
        [
         "Trevor Ariza",
         "Center(C), Restricted Area",
         "Center(C), Restricted Area"
        ],
        [
         "Trevor Booker",
         "Center(C), Restricted Area",
         "Center(C), Restricted Area"
        ],
        [
         "Trey Burke",
         "Center(C), Restricted Area",
         "Center(C), Restricted Area"
        ],
        [
         "Trey Lyles",
         "Center(C), Restricted Area",
         "Center(C), Restricted Area"
        ],
        [
         "Trey Murphy III",
         "Center(C), Restricted Area",
         "Center(C), Restricted Area"
        ],
        [
         "Tristan Thompson",
         "Center(C), Restricted Area",
         "Center(C), Restricted Area"
        ],
        [
         "Troy Brown Jr.",
         "Center(C), Restricted Area",
         "Center(C), Restricted Area"
        ],
        [
         "Troy Daniels",
         "Right Side Center(RC), Above the Break 3",
         "Left Side(L), Left Corner 3"
        ],
        [
         "Troy Hudson",
         "Center(C), Restricted Area",
         "Center(C), Restricted Area"
        ],
        [
         "Troy Murphy",
         "Center(C), Restricted Area",
         "Center(C), Restricted Area"
        ],
        [
         "Troy Williams",
         "Center(C), Restricted Area",
         "Center(C), Restricted Area"
        ],
        [
         "Ty Jerome",
         "Center(C), In The Paint (Non-RA)",
         "Center(C), Restricted Area"
        ],
        [
         "Ty Lawson",
         "Center(C), Restricted Area",
         "Right Side(R), In The Paint (Non-RA)"
        ],
        [
         "Tyler Cavanaugh",
         "Center(C), Restricted Area",
         "Center(C), Restricted Area"
        ],
        [
         "Tyler Cook",
         "Center(C), Restricted Area",
         "Center(C), Restricted Area"
        ],
        [
         "Tyler Dorsey",
         "Center(C), Restricted Area",
         "Center(C), Restricted Area"
        ],
        [
         "Tyler Ennis",
         "Center(C), Restricted Area",
         "Center(C), Restricted Area"
        ],
        [
         "Tyler Hansbrough",
         "Center(C), Restricted Area",
         "Center(C), Restricted Area"
        ],
        [
         "Tyler Herro",
         "Center(C), Restricted Area",
         "Center(C), Restricted Area"
        ],
        [
         "Tyler Johnson",
         "Center(C), Restricted Area",
         "Center(C), Restricted Area"
        ],
        [
         "Tyler Ulis",
         "Center(C), In The Paint (Non-RA)",
         "Left Side(L), Mid-Range"
        ],
        [
         "Tyler Zeller",
         "Center(C), Restricted Area",
         "Center(C), Restricted Area"
        ],
        [
         "Tyreke Evans",
         "Center(C), Restricted Area",
         "Center(C), Restricted Area"
        ],
        [
         "Tyrese Haliburton",
         "Center(C), In The Paint (Non-RA)",
         "Center(C), Restricted Area"
        ],
        [
         "Tyrese Maxey",
         "Center(C), Restricted Area",
         "Center(C), Restricted Area"
        ],
        [
         "Tyrone Corbin",
         "Center(C), Restricted Area",
         "Center(C), Restricted Area"
        ],
        [
         "Tyrone Hill",
         "Center(C), Restricted Area",
         "Center(C), Restricted Area"
        ],
        [
         "Tyrone Nesby",
         "Center(C), Restricted Area",
         "Center(C), Restricted Area"
        ],
        [
         "Tyrone Wallace",
         "Center(C), Restricted Area",
         "Center(C), Restricted Area"
        ],
        [
         "Tyronn Lue",
         "Center(C), Restricted Area",
         "Right Side(R), In The Paint (Non-RA)"
        ],
        [
         "Tyrus Thomas",
         "Center(C), Restricted Area",
         "Center(C), Restricted Area"
        ],
        [
         "Tyshawn Taylor",
         "Center(C), Restricted Area",
         "Center(C), Restricted Area"
        ],
        [
         "Tyson Chandler",
         "Center(C), Restricted Area",
         "Center(C), Restricted Area"
        ],
        [
         "Tyus Edney",
         "Center(C), Restricted Area",
         "Center(C), Restricted Area"
        ],
        [
         "Tyus Jones",
         "Center(C), In The Paint (Non-RA)",
         "Center(C), Restricted Area"
        ],
        [
         "Udoka Azubuike",
         "Center(C), Restricted Area",
         "Center(C), Restricted Area"
        ],
        [
         "Udonis Haslem",
         "Center(C), Restricted Area",
         "Center(C), Restricted Area"
        ],
        [
         "Vernon Maxwell",
         "Center(C), Restricted Area",
         "Center(C), Restricted Area"
        ],
        [
         "Viacheslav Kravtsov",
         "Center(C), Restricted Area",
         "Center(C), Restricted Area"
        ],
        [
         "Victor Claver",
         "Center(C), Restricted Area",
         "Center(C), Restricted Area"
        ],
        [
         "Victor Oladipo",
         "Center(C), Restricted Area",
         "Center(C), Restricted Area"
        ],
        [
         "Viktor Khryapa",
         "Center(C), Restricted Area",
         "Center(C), Restricted Area"
        ],
        [
         "Vin Baker",
         "Center(C), Restricted Area",
         "Center(C), Restricted Area"
        ],
        [
         "Vince Carter",
         "Center(C), Restricted Area",
         "Center(C), Restricted Area"
        ],
        [
         "Vincent Askew",
         "Center(C), Restricted Area",
         "Center(C), Restricted Area"
        ],
        [
         "Vincent Yarbrough",
         "Left Side(L), Mid-Range",
         "Center(C), Restricted Area"
        ],
        [
         "Vinny Del Negro",
         "Left Side(L), Mid-Range",
         "Center(C), Restricted Area"
        ],
        [
         "Vit Krejci",
         "Center(C), Restricted Area",
         "Center(C), Restricted Area"
        ],
        [
         "Vitaly Potapenko",
         "Center(C), Restricted Area",
         "Center(C), Restricted Area"
        ],
        [
         "Vlade Divac",
         "Center(C), Restricted Area",
         "Center(C), Restricted Area"
        ],
        [
         "Vladimir Radmanovic",
         "Center(C), Restricted Area",
         "Center(C), Restricted Area"
        ],
        [
         "Vladimir Stepania",
         "Center(C), Restricted Area",
         "Center(C), Restricted Area"
        ],
        [
         "Vlatko Cancar",
         "Center(C), Restricted Area",
         "Center(C), Restricted Area"
        ],
        [
         "Von Wafer",
         "Center(C), Restricted Area",
         "Center(C), Restricted Area"
        ],
        [
         "Vonteego Cummings",
         "Center(C), Restricted Area",
         "Center(C), Restricted Area"
        ],
        [
         "Voshon Lenard",
         "Center(C), Restricted Area",
         "Center(C), Restricted Area"
        ],
        [
         "Wade Baldwin IV",
         "Center(C), Restricted Area",
         "Center(C), Restricted Area"
        ],
        [
         "Wally Szczerbiak",
         "Center(C), Restricted Area",
         "Center(C), Restricted Area"
        ],
        [
         "Walt Lemon Jr.",
         "Center(C), Restricted Area",
         "Center(C), Restricted Area"
        ],
        [
         "Walt Williams",
         "Center(C), Restricted Area",
         "Center(C), Restricted Area"
        ],
        [
         "Walter Herrmann",
         "Center(C), Restricted Area",
         "Center(C), Restricted Area"
        ],
        [
         "Walter McCarty",
         "Center(C), Restricted Area",
         "Center(C), Restricted Area"
        ],
        [
         "Wayman Tisdale",
         "Center(C), Restricted Area",
         "Center(C), Restricted Area"
        ],
        [
         "Wayne Ellington",
         "Right Side Center(RC), Above the Break 3",
         "Center(C), Restricted Area"
        ],
        [
         "Wayne Selden",
         "Center(C), Restricted Area",
         "Center(C), Restricted Area"
        ],
        [
         "Wayne Simien",
         "Center(C), Restricted Area",
         "Center(C), Restricted Area"
        ],
        [
         "Wendell Carter Jr.",
         "Center(C), Restricted Area",
         "Center(C), Restricted Area"
        ],
        [
         "Wenyen Gabriel",
         "Center(C), Restricted Area",
         "Center(C), Restricted Area"
        ],
        [
         "Wes Iwundu",
         "Center(C), Restricted Area",
         "Center(C), Restricted Area"
        ],
        [
         "Wesley Johnson",
         "Center(C), Restricted Area",
         "Center(C), Restricted Area"
        ],
        [
         "Wesley Matthews",
         "Center(C), Restricted Area",
         "Center(C), Restricted Area"
        ],
        [
         "Wesley Person",
         "Left Side(L), Mid-Range",
         "Center(C), Restricted Area"
        ],
        [
         "Will Barton",
         "Center(C), Restricted Area",
         "Center(C), Restricted Area"
        ],
        [
         "Will Bynum",
         "Center(C), Restricted Area",
         "Center(C), Restricted Area"
        ],
        [
         "Will Perdue",
         "Center(C), Restricted Area",
         "Center(C), Restricted Area"
        ],
        [
         "Will Solomon",
         "Center(C), Restricted Area",
         "Center(C), Restricted Area"
        ],
        [
         "William Avery",
         "Center(C), Restricted Area",
         "Center(C), Restricted Area"
        ],
        [
         "Willie Burton",
         "Center(C), Restricted Area",
         "Center(C), Restricted Area"
        ],
        [
         "Willie Cauley-Stein",
         "Center(C), Restricted Area",
         "Center(C), Restricted Area"
        ],
        [
         "Willie Green",
         "Center(C), Restricted Area",
         "Center(C), Restricted Area"
        ],
        [
         "Willie Reed",
         "Center(C), Restricted Area",
         "Center(C), Restricted Area"
        ],
        [
         "Willy Hernangomez",
         "Center(C), Restricted Area",
         "Center(C), Restricted Area"
        ],
        [
         "Wilson Chandler",
         "Center(C), Restricted Area",
         "Center(C), Restricted Area"
        ],
        [
         "Xavier Henry",
         "Center(C), Restricted Area",
         "Center(C), Restricted Area"
        ],
        [
         "Xavier McDaniel",
         "Center(C), Restricted Area",
         "Center(C), Restricted Area"
        ],
        [
         "Xavier Tillman",
         "Center(C), Restricted Area",
         "Center(C), Restricted Area"
        ],
        [
         "Yakhouba Diawara",
         "Center(C), Restricted Area",
         "Center(C), Restricted Area"
        ],
        [
         "Yao Ming",
         "Center(C), Restricted Area",
         "Center(C), Restricted Area"
        ],
        [
         "Yi Jianlian",
         "Center(C), Restricted Area",
         "Center(C), Restricted Area"
        ],
        [
         "Yinka Dare",
         "Center(C), Restricted Area",
         "Center(C), Restricted Area"
        ],
        [
         "Yogi Ferrell",
         "Center(C), Restricted Area",
         "Center(C), Restricted Area"
        ],
        [
         "Yuta Watanabe",
         "Center(C), Restricted Area",
         "Center(C), Restricted Area"
        ],
        [
         "Zabian Dowdell",
         "Center(C), Restricted Area",
         "Center(C), Restricted Area"
        ],
        [
         "Zach Collins",
         "Center(C), Restricted Area",
         "Center(C), Restricted Area"
        ],
        [
         "Zach LaVine",
         "Center(C), Restricted Area",
         "Center(C), Restricted Area"
        ],
        [
         "Zach Randolph",
         "Center(C), Restricted Area",
         "Center(C), Restricted Area"
        ],
        [
         "Zan Tabak",
         "Center(C), Restricted Area",
         "Center(C), Restricted Area"
        ],
        [
         "Zarko Cabarkapa",
         "Center(C), Restricted Area",
         "Center(C), Restricted Area"
        ],
        [
         "Zaza Pachulia",
         "Center(C), Restricted Area",
         "Center(C), Restricted Area"
        ],
        [
         "Zeke Nnaji",
         "Center(C), Restricted Area",
         "Center(C), Restricted Area"
        ],
        [
         "Zeljko Rebraca",
         "Center(C), Restricted Area",
         "Center(C), Restricted Area"
        ],
        [
         "Zendon Hamilton",
         "Center(C), Restricted Area",
         "Center(C), Restricted Area"
        ],
        [
         "Ziaire Williams",
         "Center(C), Restricted Area",
         "Center(C), Restricted Area"
        ],
        [
         "Zion Williamson",
         "Center(C), Restricted Area",
         "Center(C), Restricted Area"
        ],
        [
         "Zoran Planinic",
         "Center(C), Restricted Area",
         "Center(C), Restricted Area"
        ],
        [
         "Zydrunas Ilgauskas",
         "Center(C), Restricted Area",
         "Center(C), Restricted Area"
        ]
       ],
       "datasetInfos": [],
       "dbfsResultPath": null,
       "isJsonSchema": true,
       "metadata": {
        "dataframeName": "_sqldf",
        "executionCount": 4
       },
       "overflow": false,
       "plotOptions": {
        "customPlotOptions": {},
        "displayType": "table",
        "pivotAggregation": null,
        "pivotColumns": null,
        "xColumns": null,
        "yColumns": null
       },
       "removedWidgets": [],
       "schema": [
        {
         "metadata": "{}",
         "name": "PLAYER_NAME",
         "type": "\"string\""
        },
        {
         "metadata": "{}",
         "name": "MOST_ATTEMPTED_REGION",
         "type": "\"string\""
        },
        {
         "metadata": "{}",
         "name": "MOST_MADE_REGION",
         "type": "\"string\""
        }
       ],
       "type": "table"
      }
     },
     "output_type": "display_data"
    }
   ],
   "source": [
    "%sql\n",
    "-- Q4 - What section of the court (as determined by SHOT_ZONE_BASIC and SHOT_ZONE_AREA) does each player shoot from? Where is each player most successful?\n",
    "\n",
    "SELECT PlayerAttempts.PLAYER_NAME,\n",
    "\t   PlayerAttempts.MOST_ATTEMPTED_REGION,\n",
    "\t   PlayerFGPct.MOST_MADE_REGION\n",
    "FROM (SELECT PlayerRegions2.PLAYER_NAME,\n",
    "\t\t\t CONCAT(PlayerRegions2.SHOT_ZONE_AREA, ', ', PlayerRegions2.SHOT_ZONE_BASIC) AS MOST_ATTEMPTED_REGION,\n",
    "\t\t\t PlayerRegions2.NUM_ATTEMPTS\n",
    "\t  FROM (SELECT PlayerRegions.PLAYER_NAME,\n",
    "\t\t\t\t   MAX(PlayerRegions.NUM_ATTEMPTS) AS MAX_ATTEMPTS\n",
    "\t\t\tFROM (SELECT PLAYER_NAME,\n",
    "\t\t\t\t\t\t SHOT_ZONE_BASIC,\n",
    "\t\t\t\t\t\t SHOT_ZONE_AREA,\n",
    "\t\t\t\t\t\t COUNT(*) AS NUM_ATTEMPTS\n",
    "\t\t\t\t  FROM shotdata\n",
    "\t\t\t\t  GROUP BY PLAYER_NAME, SHOT_ZONE_BASIC, SHOT_ZONE_AREA\n",
    "\t\t\t\t  HAVING COUNT(*) > 30) AS PlayerRegions\n",
    "\t\t\tGROUP BY PlayerRegions.PLAYER_NAME) AS MaxAttempts INNER JOIN\n",
    "\t\t   (SELECT PLAYER_NAME,\n",
    "\t\t\t\t   SHOT_ZONE_BASIC,\n",
    "\t\t\t\t   SHOT_ZONE_AREA,\n",
    "\t\t\t\t   COUNT(*) AS NUM_ATTEMPTS\n",
    "\t\t\tFROM shotdata\n",
    "\t\t\tGROUP BY PLAYER_NAME, SHOT_ZONE_BASIC, SHOT_ZONE_AREA\n",
    "\t\t\tHAVING COUNT(*) > 30) AS PlayerRegions2 ON MaxAttempts.PLAYER_NAME = PlayerRegions2.PLAYER_NAME AND MaxAttempts.MAX_ATTEMPTS = PlayerRegions2.NUM_ATTEMPTS) AS PlayerAttempts INNER JOIN\n",
    "\t (SELECT PlayerRegions2.PLAYER_NAME,\n",
    "\t\t\t CONCAT(PlayerRegions2.SHOT_ZONE_AREA, ', ', PlayerRegions2.SHOT_ZONE_BASIC) AS MOST_MADE_REGION, \n",
    "\t\t\t PlayerRegions2.FG_PCT\n",
    "\t  FROM (SELECT PlayerRegions.PLAYER_NAME,\n",
    "\t\t\t\t   MAX(PlayerRegions.FG_PCT) AS MAX_FG_PCT\n",
    "\t\t\tFROM (SELECT PLAYER_NAME,\n",
    "\t\t\t\t\t\t SHOT_ZONE_BASIC,\n",
    "\t\t\t\t\t\t SHOT_ZONE_AREA,\n",
    "\t\t\t\t\t\t ROUND(SUM(SHOT_MADE_FLAG)*100/COUNT(*), 2) AS FG_PCT\n",
    "\t\t\t\t  FROM shotdata\n",
    "\t\t\t\t  GROUP BY PLAYER_NAME, SHOT_ZONE_BASIC, SHOT_ZONE_AREA\n",
    "\t\t\t\t  HAVING COUNT(*) > 30) AS PlayerRegions\n",
    "\t\t\tGROUP BY PlayerRegions.PLAYER_NAME) AS MaxFGPct INNER JOIN\n",
    "\t\t   (SELECT PLAYER_NAME,\n",
    "\t\t\t\t   SHOT_ZONE_BASIC,\n",
    "\t\t\t\t   SHOT_ZONE_AREA,\n",
    "\t\t\t\t   ROUND(SUM(SHOT_MADE_FLAG)*100/COUNT(*), 2) AS FG_PCT\n",
    "\t\t\tFROM shotdata\n",
    "\t\t\tGROUP BY PLAYER_NAME, SHOT_ZONE_BASIC, SHOT_ZONE_AREA\n",
    "\t\t\tHAVING COUNT(*) > 30) AS PlayerRegions2 ON MaxFGPct.PLAYER_NAME = PlayerRegions2.PLAYER_NAME AND MaxFGPct.MAX_FG_PCT = PlayerRegions2.FG_PCT) AS PlayerFGPct ON PlayerAttempts.PLAYER_NAME = PlayerFGPct.PLAYER_NAME\n",
    "ORDER BY PlayerAttempts.PLAYER_NAME"
   ]
  },
  {
   "cell_type": "code",
   "execution_count": 0,
   "metadata": {
    "application/vnd.databricks.v1+cell": {
     "cellMetadata": {
      "byteLimit": 2048000,
      "implicitDf": true,
      "rowLimit": 10000
     },
     "inputWidgets": {},
     "nuid": "0b32bffc-8c37-4c42-883c-6c342df2f4f9",
     "showTitle": false,
     "title": ""
    }
   },
   "outputs": [
    {
     "output_type": "display_data",
     "data": {
      "text/html": [
       "<style scoped>\n",
       "  .table-result-container {\n",
       "    max-height: 300px;\n",
       "    overflow: auto;\n",
       "  }\n",
       "  table, th, td {\n",
       "    border: 1px solid black;\n",
       "    border-collapse: collapse;\n",
       "  }\n",
       "  th, td {\n",
       "    padding: 5px;\n",
       "  }\n",
       "  th {\n",
       "    text-align: left;\n",
       "  }\n",
       "</style><div class='table-result-container'><table class='table-result'><thead style='background-color: white'><tr><th>PLAYER_NAME</th><th>AVG_PTS_PER_ATT</th></tr></thead><tbody><tr><td>Robert Williams III</td><td>1.46</td></tr><tr><td>Mitchell Robinson</td><td>1.44</td></tr><tr><td>Daniel Gafford</td><td>1.38</td></tr><tr><td>DeAndre Jordan</td><td>1.35</td></tr><tr><td>Damian Jones</td><td>1.35</td></tr><tr><td>Onyeka Okongwu</td><td>1.34</td></tr><tr><td>Rudy Gobert</td><td>1.31</td></tr><tr><td>Nic Claxton</td><td>1.3</td></tr><tr><td>Jaxson Hayes</td><td>1.3</td></tr><tr><td>Tony Bradley</td><td>1.27</td></tr><tr><td>Jarrett Allen</td><td>1.26</td></tr><tr><td>Thomas Bryant</td><td>1.26</td></tr><tr><td>Jakob Poeltl</td><td>1.26</td></tr><tr><td>Clint Capela</td><td>1.25</td></tr><tr><td>Montrezl Harrell</td><td>1.24</td></tr><tr><td>Richaun Holmes</td><td>1.23</td></tr><tr><td>Salah Mejri</td><td>1.23</td></tr><tr><td>Isaiah Hartenstein</td><td>1.23</td></tr><tr><td>Dwight Powell</td><td>1.22</td></tr><tr><td>Michael Porter Jr.</td><td>1.22</td></tr><tr><td>Duncan Robinson</td><td>1.22</td></tr><tr><td>Joe Harris</td><td>1.22</td></tr><tr><td>Brandon Clarke</td><td>1.22</td></tr><tr><td>Zion Williamson</td><td>1.22</td></tr><tr><td>John Konchar</td><td>1.22</td></tr><tr><td>Brandan Wright</td><td>1.21</td></tr><tr><td>Steve Novak</td><td>1.21</td></tr><tr><td>Deandre Ayton</td><td>1.2</td></tr><tr><td>Gary Payton II</td><td>1.2</td></tr><tr><td>John Collins</td><td>1.2</td></tr><tr><td>Max Strus</td><td>1.2</td></tr><tr><td>Deyonta Davis</td><td>1.2</td></tr><tr><td>Andris Biedrins</td><td>1.19</td></tr><tr><td>Cheick Diallo</td><td>1.19</td></tr><tr><td>Juan Toscano-Anderson</td><td>1.19</td></tr><tr><td>Drew Eubanks</td><td>1.19</td></tr><tr><td>Jarred Vanderbilt</td><td>1.19</td></tr><tr><td>Willie Reed</td><td>1.19</td></tr><tr><td>Ivica Zubac</td><td>1.19</td></tr><tr><td>Tyson Chandler</td><td>1.19</td></tr><tr><td>Seth Curry</td><td>1.18</td></tr><tr><td>Daniel Theis</td><td>1.18</td></tr><tr><td>Dwight Howard</td><td>1.18</td></tr><tr><td>Mikal Bridges</td><td>1.18</td></tr><tr><td>Steven Adams</td><td>1.17</td></tr><tr><td>Mason Plumlee</td><td>1.17</td></tr><tr><td>Shaquille O'Neal</td><td>1.17</td></tr><tr><td>Hassan Whiteside</td><td>1.17</td></tr><tr><td>Ayo Dosunmu</td><td>1.17</td></tr><tr><td>Joe Ingles</td><td>1.17</td></tr><tr><td>Boban Marjanovic</td><td>1.16</td></tr><tr><td>Christian Wood</td><td>1.16</td></tr><tr><td>Javonte Green</td><td>1.16</td></tr><tr><td>Obi Toppin</td><td>1.16</td></tr><tr><td>Ante Zizic</td><td>1.16</td></tr><tr><td>Stephen Curry</td><td>1.16</td></tr><tr><td>Gheorghe Muresan</td><td>1.16</td></tr><tr><td>Amir Johnson</td><td>1.16</td></tr><tr><td>Kenyon Martin Jr.</td><td>1.16</td></tr><tr><td>Nikola Jokic</td><td>1.16</td></tr><tr><td>Davis Bertans</td><td>1.16</td></tr><tr><td>Ryan Hollins</td><td>1.15</td></tr><tr><td>Georges Niang</td><td>1.15</td></tr><tr><td>Greg Oden</td><td>1.15</td></tr><tr><td>Fabricio Oberto</td><td>1.15</td></tr><tr><td>JaVale McGee</td><td>1.15</td></tr><tr><td>Karl-Anthony Towns</td><td>1.15</td></tr><tr><td>Jeremy Evans</td><td>1.15</td></tr><tr><td>Jonas Valanciunas</td><td>1.15</td></tr><tr><td>Kyle Korver</td><td>1.15</td></tr><tr><td>Matt Bonner</td><td>1.14</td></tr><tr><td>Ed Davis</td><td>1.14</td></tr><tr><td>Dean Wade</td><td>1.14</td></tr><tr><td>Cameron Johnson</td><td>1.14</td></tr><tr><td>Bo Outlaw</td><td>1.14</td></tr><tr><td>Desmond Bane</td><td>1.14</td></tr><tr><td>Doug McDermott</td><td>1.14</td></tr><tr><td>Kevon Looney</td><td>1.14</td></tr><tr><td>Brent Barry</td><td>1.14</td></tr><tr><td>Cristiano Felicio</td><td>1.14</td></tr><tr><td>Chris Mullin</td><td>1.14</td></tr><tr><td>Tyrese Haliburton</td><td>1.13</td></tr><tr><td>Luke Kennard</td><td>1.13</td></tr><tr><td>Corey Kispert</td><td>1.13</td></tr><tr><td>Dewayne Dedmon</td><td>1.13</td></tr><tr><td>Payton Pritchard</td><td>1.13</td></tr><tr><td>Matt Thomas</td><td>1.13</td></tr><tr><td>Meyers Leonard</td><td>1.13</td></tr><tr><td>Royce O'Neale</td><td>1.13</td></tr><tr><td>Andrew Bynum</td><td>1.13</td></tr><tr><td>Jonathan Kuminga</td><td>1.13</td></tr><tr><td>Larry Nance Jr.</td><td>1.12</td></tr><tr><td>Pat Connaughton</td><td>1.12</td></tr><tr><td>Steven Hunter</td><td>1.12</td></tr><tr><td>Carlos Rogers</td><td>1.12</td></tr><tr><td>O.G. Anunoby</td><td>1.12</td></tr><tr><td>Steve Kerr</td><td>1.12</td></tr><tr><td>Garrison Mathews</td><td>1.12</td></tr><tr><td>Giannis Antetokounmpo</td><td>1.12</td></tr><tr><td>Derrick Jones Jr.</td><td>1.12</td></tr><tr><td>Bam Adebayo</td><td>1.12</td></tr><tr><td>Ivan Rabb</td><td>1.12</td></tr><tr><td>Grayson Allen</td><td>1.12</td></tr><tr><td>Ben Simmons</td><td>1.12</td></tr><tr><td>Maxi Kleber</td><td>1.11</td></tr><tr><td>JJ Redick</td><td>1.11</td></tr><tr><td>Henry Walker</td><td>1.11</td></tr><tr><td>Moses Brown</td><td>1.11</td></tr><tr><td>Domantas Sabonis</td><td>1.11</td></tr><tr><td>Otto Porter Jr.</td><td>1.11</td></tr><tr><td>Steve Nash</td><td>1.11</td></tr><tr><td>Jeff Ayres</td><td>1.11</td></tr><tr><td>Tiago Splitter</td><td>1.11</td></tr><tr><td>Jordan Bell</td><td>1.11</td></tr><tr><td>Kelly Olynyk</td><td>1.11</td></tr><tr><td>Bryn Forbes</td><td>1.11</td></tr><tr><td>Mychal Mulder</td><td>1.11</td></tr><tr><td>Nemanja Bjelica</td><td>1.11</td></tr><tr><td>Craig Smith</td><td>1.11</td></tr><tr><td>Mike Muscala</td><td>1.11</td></tr><tr><td>Pablo Prigioni</td><td>1.11</td></tr><tr><td>Moritz Wagner</td><td>1.11</td></tr><tr><td>Enes Freedom</td><td>1.1</td></tr><tr><td>Damjan Rudez</td><td>1.1</td></tr><tr><td>Tarik Black</td><td>1.1</td></tr><tr><td>Amir Coffey</td><td>1.1</td></tr><tr><td>Tony Snell</td><td>1.1</td></tr><tr><td>Dorian Finney-Smith</td><td>1.1</td></tr><tr><td>Jared Dudley</td><td>1.1</td></tr><tr><td>Marcin Gortat</td><td>1.1</td></tr><tr><td>Danny Green</td><td>1.1</td></tr><tr><td>Nene</td><td>1.1</td></tr><tr><td>Chris Boucher</td><td>1.1</td></tr><tr><td>Grant Williams</td><td>1.1</td></tr><tr><td>Isaiah Stewart</td><td>1.1</td></tr><tr><td>Darius Miller</td><td>1.1</td></tr><tr><td>Jalen Brunson</td><td>1.1</td></tr><tr><td>Jalen Smith</td><td>1.1</td></tr><tr><td>Joel Przybilla</td><td>1.1</td></tr><tr><td>Reggie Bullock</td><td>1.1</td></tr><tr><td>Klay Thompson</td><td>1.1</td></tr><tr><td>Monte Morris</td><td>1.1</td></tr><tr><td>Nerlens Noel</td><td>1.1</td></tr><tr><td>Quinn Cook</td><td>1.1</td></tr><tr><td>Landry Shamet</td><td>1.1</td></tr><tr><td>Mikki Moore</td><td>1.1</td></tr><tr><td>Serge Ibaka</td><td>1.1</td></tr><tr><td>Kenneth Faried</td><td>1.1</td></tr><tr><td>Naz Reid</td><td>1.1</td></tr><tr><td>Mike Miller</td><td>1.09</td></tr><tr><td>Eddy Curry</td><td>1.09</td></tr><tr><td>Jae'Sean Tate</td><td>1.09</td></tr><tr><td>Terance Mann</td><td>1.09</td></tr><tr><td>Jalen McDaniels</td><td>1.09</td></tr><tr><td>Bojan Bogdanovic</td><td>1.09</td></tr><tr><td>Al Horford</td><td>1.09</td></tr><tr><td>Kevin Durant</td><td>1.09</td></tr><tr><td>Milos Teodosic</td><td>1.09</td></tr><tr><td>John Stockton</td><td>1.09</td></tr><tr><td>Mo Bamba</td><td>1.09</td></tr><tr><td>Josh Boone</td><td>1.09</td></tr><tr><td>John Henson</td><td>1.09</td></tr><tr><td>Xavier Tillman</td><td>1.09</td></tr><tr><td>Willy Hernangomez</td><td>1.09</td></tr><tr><td>Josh Hart</td><td>1.09</td></tr><tr><td>Jahlil Okafor</td><td>1.09</td></tr><tr><td>Malik Beasley</td><td>1.09</td></tr><tr><td>Troy Daniels</td><td>1.09</td></tr><tr><td>Patrick Williams</td><td>1.09</td></tr><tr><td>Norman Powell</td><td>1.09</td></tr><tr><td>Willie Cauley-Stein</td><td>1.09</td></tr><tr><td>Isaiah Roby</td><td>1.09</td></tr><tr><td>Kawhi Leonard</td><td>1.09</td></tr><tr><td>Miles Bridges</td><td>1.09</td></tr><tr><td>Andre Drummond</td><td>1.08</td></tr><tr><td>Kendrick Nunn</td><td>1.08</td></tr><tr><td>Walter Herrmann</td><td>1.08</td></tr><tr><td>P.J. Washington</td><td>1.08</td></tr><tr><td>Bogdan Bogdanovic</td><td>1.08</td></tr><tr><td>Matisse Thybulle</td><td>1.08</td></tr><tr><td>Amar'e Stoudemire</td><td>1.08</td></tr><tr><td>Jose Calderon</td><td>1.08</td></tr><tr><td>Josh Green</td><td>1.08</td></tr><tr><td>Josh Childress</td><td>1.08</td></tr><tr><td>Robin Lopez</td><td>1.08</td></tr><tr><td>Buddy Hield</td><td>1.08</td></tr><tr><td>Danuel House Jr.</td><td>1.08</td></tr><tr><td>Patty Mills</td><td>1.08</td></tr><tr><td>Chris Wilcox</td><td>1.08</td></tr><tr><td>Wesley Person</td><td>1.08</td></tr><tr><td>Austin Reaves</td><td>1.08</td></tr><tr><td>Jaylen Brown</td><td>1.08</td></tr><tr><td>Keldon Johnson</td><td>1.08</td></tr><tr><td>Jelani McCoy</td><td>1.08</td></tr><tr><td>Ryan Arcidiacono</td><td>1.08</td></tr><tr><td>Wendell Carter Jr.</td><td>1.08</td></tr><tr><td>Torrey Craig</td><td>1.08</td></tr><tr><td>Todd MacCulloch</td><td>1.08</td></tr><tr><td>Miles Plumlee</td><td>1.08</td></tr><tr><td>Ziaire Williams</td><td>1.08</td></tr><tr><td>LeBron James</td><td>1.08</td></tr><tr><td>Terence Davis</td><td>1.08</td></tr><tr><td>Anthony Morrow</td><td>1.08</td></tr><tr><td>Gustavo Ayon</td><td>1.08</td></tr><tr><td>Jaden McDaniels</td><td>1.07</td></tr><tr><td>T.J. Warren</td><td>1.07</td></tr><tr><td>Jon Barry</td><td>1.07</td></tr><tr><td>Derrick Favors</td><td>1.07</td></tr><tr><td>Alfonzo McKinnie</td><td>1.07</td></tr><tr><td>Carl Landry</td><td>1.07</td></tr><tr><td>Terry Mills</td><td>1.07</td></tr><tr><td>Dale Ellis</td><td>1.07</td></tr><tr><td>Evan Fournier</td><td>1.07</td></tr><tr><td>Damon Jones</td><td>1.07</td></tr><tr><td>Kevin Huerter</td><td>1.07</td></tr><tr><td>JaMychal Green</td><td>1.07</td></tr><tr><td>Mario Elie</td><td>1.07</td></tr><tr><td>Alonzo Mourning</td><td>1.07</td></tr><tr><td>Kosta Koufos</td><td>1.07</td></tr><tr><td>Chris Andersen</td><td>1.07</td></tr><tr><td>James Ennis III</td><td>1.07</td></tr><tr><td>Eric Paschall</td><td>1.07</td></tr><tr><td>Timofey Mozgov</td><td>1.07</td></tr><tr><td>Myles Turner</td><td>1.07</td></tr><tr><td>Andrew Bogut</td><td>1.07</td></tr><tr><td>Ronny Turiaf</td><td>1.07</td></tr><tr><td>Nick Collison</td><td>1.07</td></tr><tr><td>David Lee</td><td>1.07</td></tr><tr><td>Ian Mahinmi</td><td>1.07</td></tr><tr><td>Chandler Parsons</td><td>1.07</td></tr><tr><td>Tyrese Maxey</td><td>1.07</td></tr><tr><td>James Wiseman</td><td>1.07</td></tr><tr><td>Thanasis Antetokounmpo</td><td>1.06</td></tr><tr><td>Kendrick Perkins</td><td>1.06</td></tr><tr><td>James Jones</td><td>1.06</td></tr><tr><td>Pascal Siakam</td><td>1.06</td></tr><tr><td>Nassir Little</td><td>1.06</td></tr><tr><td>Kyrie Irving</td><td>1.06</td></tr><tr><td>Caleb Martin</td><td>1.06</td></tr><tr><td>Edmond Sumner</td><td>1.06</td></tr><tr><td>Anfernee Simons</td><td>1.06</td></tr><tr><td>Anthony Tolliver</td><td>1.06</td></tr><tr><td>Ray Allen</td><td>1.06</td></tr><tr><td>Shane Battier</td><td>1.06</td></tr><tr><td>Matt Bullard</td><td>1.06</td></tr><tr><td>Luke Babbitt</td><td>1.06</td></tr><tr><td>George Hill</td><td>1.06</td></tr><tr><td>Terry Porter</td><td>1.06</td></tr><tr><td>Henry James</td><td>1.06</td></tr><tr><td>T.J. Leaf</td><td>1.06</td></tr><tr><td>Zach LaVine</td><td>1.06</td></tr><tr><td>David Harrison</td><td>1.06</td></tr><tr><td>Joe Dumars</td><td>1.06</td></tr><tr><td>Lauri Markkanen</td><td>1.06</td></tr><tr><td>Bismack Biyombo</td><td>1.06</td></tr><tr><td>Anthony Davis</td><td>1.06</td></tr><tr><td>Eric Piatkowski</td><td>1.06</td></tr><tr><td>Luka Doncic</td><td>1.06</td></tr><tr><td>Peja Stojakovic</td><td>1.06</td></tr><tr><td>Brendan Haywood</td><td>1.06</td></tr><tr><td>Mike Scott</td><td>1.06</td></tr><tr><td>Allen Crabbe</td><td>1.06</td></tr><tr><td>Will Perdue</td><td>1.06</td></tr><tr><td>Thaddeus Young</td><td>1.06</td></tr><tr><td>Reggie Miller</td><td>1.06</td></tr><tr><td>Tobias Harris</td><td>1.05</td></tr><tr><td>John Jenkins</td><td>1.05</td></tr><tr><td>Terrence Jones</td><td>1.05</td></tr><tr><td>Rashard Lewis</td><td>1.05</td></tr><tr><td>Juancho Hernangomez</td><td>1.05</td></tr><tr><td>Don Reid</td><td>1.05</td></tr><tr><td>Brook Lopez</td><td>1.05</td></tr><tr><td>Jabari Parker</td><td>1.05</td></tr><tr><td>Chris Paul</td><td>1.05</td></tr><tr><td>Kyle O'Quinn</td><td>1.05</td></tr><tr><td>Gorgui Dieng</td><td>1.05</td></tr><tr><td>Jeff Hornacek</td><td>1.05</td></tr><tr><td>Derrick Brown</td><td>1.05</td></tr><tr><td>Kenrich Williams</td><td>1.05</td></tr><tr><td>Leandro Barbosa</td><td>1.05</td></tr><tr><td>Jake Layman</td><td>1.05</td></tr><tr><td>Sam Dekker</td><td>1.05</td></tr><tr><td>Carlos Boozer</td><td>1.05</td></tr><tr><td>CJ McCollum</td><td>1.05</td></tr><tr><td>Scottie Barnes</td><td>1.05</td></tr><tr><td>Khem Birch</td><td>1.05</td></tr><tr><td>Cole Aldrich</td><td>1.05</td></tr><tr><td>Tomas Satoransky</td><td>1.05</td></tr><tr><td>Byron Scott</td><td>1.05</td></tr><tr><td>David Nwaba</td><td>1.05</td></tr><tr><td>Joel Embiid</td><td>1.05</td></tr><tr><td>Trevor Booker</td><td>1.05</td></tr><tr><td>Hersey Hawkins</td><td>1.05</td></tr><tr><td>Jeff Withey</td><td>1.05</td></tr><tr><td>James Harden</td><td>1.05</td></tr><tr><td>Herbert Jones</td><td>1.05</td></tr><tr><td>Malcolm Brogdon</td><td>1.05</td></tr><tr><td>Alex Abrines</td><td>1.05</td></tr><tr><td>Patrick Patterson</td><td>1.05</td></tr><tr><td>Khris Middleton</td><td>1.05</td></tr><tr><td>Zeljko Rebraca</td><td>1.05</td></tr><tr><td>Alex Len</td><td>1.05</td></tr><tr><td>Yao Ming</td><td>1.05</td></tr><tr><td>Brent Price</td><td>1.05</td></tr><tr><td>Dell Curry</td><td>1.05</td></tr><tr><td>E'Twaun Moore</td><td>1.05</td></tr><tr><td>Mirza Teletovic</td><td>1.05</td></tr><tr><td>Gary Harris</td><td>1.05</td></tr><tr><td>Anthony Parker</td><td>1.05</td></tr><tr><td>Marvin Bagley III</td><td>1.05</td></tr><tr><td>Jan Vesely</td><td>1.05</td></tr><tr><td>Boris Diaw</td><td>1.05</td></tr><tr><td>Omer Asik</td><td>1.05</td></tr><tr><td>Damion Lee</td><td>1.05</td></tr><tr><td>Bobby Portis</td><td>1.05</td></tr><tr><td>Justin Hamilton</td><td>1.05</td></tr><tr><td>Wally Szczerbiak</td><td>1.05</td></tr><tr><td>Maurice Harkless</td><td>1.05</td></tr><tr><td>Hubert Davis</td><td>1.05</td></tr><tr><td>Jayson Tatum</td><td>1.05</td></tr><tr><td>Ryan Anderson</td><td>1.05</td></tr><tr><td>Nicolas Batum</td><td>1.05</td></tr><tr><td>Cody Zeller</td><td>1.05</td></tr><tr><td>Buck Williams</td><td>1.05</td></tr><tr><td>Aaron Wiggins</td><td>1.05</td></tr><tr><td>Tristan Thompson</td><td>1.04</td></tr><tr><td>Eric Gordon</td><td>1.04</td></tr><tr><td>Jamal Murray</td><td>1.04</td></tr><tr><td>Michael Smith</td><td>1.04</td></tr><tr><td>Brandon Rush</td><td>1.04</td></tr><tr><td>Goga Bitadze</td><td>1.04</td></tr><tr><td>Cody Martin</td><td>1.04</td></tr><tr><td>Nikola Mirotic</td><td>1.04</td></tr><tr><td>Damian Lillard</td><td>1.04</td></tr><tr><td>Samuel Dalembert</td><td>1.04</td></tr><tr><td>Wayne Ellington</td><td>1.04</td></tr><tr><td>Kyle Kuzma</td><td>1.04</td></tr><tr><td>Bones Hyland</td><td>1.04</td></tr><tr><td>Manu Ginobili</td><td>1.04</td></tr><tr><td>Darvin Ham</td><td>1.04</td></tr><tr><td>Joel Anthony</td><td>1.04</td></tr><tr><td>Sterling Brown</td><td>1.04</td></tr><tr><td>Andre Roberson</td><td>1.04</td></tr><tr><td>Ruben Patterson</td><td>1.04</td></tr><tr><td>Renaldo Balkman</td><td>1.04</td></tr><tr><td>Malik Monk</td><td>1.04</td></tr><tr><td>Dana Barros</td><td>1.04</td></tr><tr><td>Jonas Jerebko</td><td>1.04</td></tr><tr><td>Glenn Robinson III</td><td>1.04</td></tr><tr><td>Tyler Herro</td><td>1.04</td></tr><tr><td>Wesley Matthews</td><td>1.04</td></tr><tr><td>Robert Covington</td><td>1.04</td></tr><tr><td>Jaylen Nowell</td><td>1.04</td></tr><tr><td>Gary Trent Jr.</td><td>1.04</td></tr><tr><td>Patrick Beverley</td><td>1.04</td></tr><tr><td>Nikola Pekovic</td><td>1.04</td></tr><tr><td>Ivan Johnson</td><td>1.04</td></tr><tr><td>Kevin Johnson</td><td>1.04</td></tr><tr><td>Raul Neto</td><td>1.04</td></tr><tr><td>Kelenna Azubuike</td><td>1.04</td></tr><tr><td>DeJuan Blair</td><td>1.04</td></tr><tr><td>Taj Gibson</td><td>1.04</td></tr><tr><td>Omri Casspi</td><td>1.04</td></tr><tr><td>Nikola Vucevic</td><td>1.04</td></tr><tr><td>Terrance Ferguson</td><td>1.04</td></tr><tr><td>T.J. McConnell</td><td>1.04</td></tr><tr><td>Jamario Moon</td><td>1.04</td></tr><tr><td>Jaren Jackson Jr.</td><td>1.04</td></tr><tr><td>Bradley Beal</td><td>1.04</td></tr><tr><td>Richie Frahm</td><td>1.04</td></tr><tr><td>Evan Mobley</td><td>1.04</td></tr><tr><td>Channing Frye</td><td>1.03</td></tr><tr><td>Oliver Miller</td><td>1.03</td></tr><tr><td>Darius Garland</td><td>1.03</td></tr><tr><td>Darren Collison</td><td>1.03</td></tr><tr><td>Cedi Osman</td><td>1.03</td></tr><tr><td>Devin Booker</td><td>1.03</td></tr><tr><td>Mickael Pietrus</td><td>1.03</td></tr><tr><td>Tim Hardaway Jr.</td><td>1.03</td></tr><tr><td>Pau Gasol</td><td>1.03</td></tr><tr><td>Aaron Gray</td><td>1.03</td></tr><tr><td>Matt Barnes</td><td>1.03</td></tr><tr><td>Dale Davis</td><td>1.03</td></tr><tr><td>Landry Fields</td><td>1.03</td></tr><tr><td>Shai Gilgeous-Alexander</td><td>1.03</td></tr><tr><td>Danny Ferry</td><td>1.03</td></tr><tr><td>Rui Hachimura</td><td>1.03</td></tr><tr><td>Raja Bell</td><td>1.03</td></tr><tr><td>Dikembe Mutombo</td><td>1.03</td></tr><tr><td>Donte DiVincenzo</td><td>1.03</td></tr><tr><td>Etan Thomas</td><td>1.03</td></tr><tr><td>Fred Hoiberg</td><td>1.03</td></tr><tr><td>Franz Wagner</td><td>1.03</td></tr><tr><td>Dario Saric</td><td>1.03</td></tr><tr><td>Jordan McLaughlin</td><td>1.03</td></tr><tr><td>Ben McLemore</td><td>1.03</td></tr><tr><td>Mike Dunleavy</td><td>1.03</td></tr><tr><td>Paul Millsap</td><td>1.03</td></tr><tr><td>Blake Griffin</td><td>1.03</td></tr><tr><td>Jason Kapono</td><td>1.03</td></tr><tr><td>Greg Monroe</td><td>1.03</td></tr><tr><td>Luther Head</td><td>1.03</td></tr><tr><td>Jon Leuer</td><td>1.03</td></tr><tr><td>James Johnson</td><td>1.03</td></tr><tr><td>Harry Giles III</td><td>1.03</td></tr><tr><td>Quincy Acy</td><td>1.03</td></tr><tr><td>Goran Dragic</td><td>1.03</td></tr><tr><td>Leon Powe</td><td>1.03</td></tr><tr><td>Bruce Brown</td><td>1.03</td></tr><tr><td>Jae Crowder</td><td>1.03</td></tr><tr><td>Paul George</td><td>1.03</td></tr><tr><td>Arron Afflalo</td><td>1.03</td></tr><tr><td>Festus Ezeli</td><td>1.03</td></tr><tr><td>Courtney Lee</td><td>1.03</td></tr><tr><td>Harrison Barnes</td><td>1.03</td></tr><tr><td>Chris Copeland</td><td>1.03</td></tr><tr><td>Raef LaFrentz</td><td>1.03</td></tr><tr><td>Jason Terry</td><td>1.03</td></tr><tr><td>Martell Webster</td><td>1.03</td></tr><tr><td>Hollis Thompson</td><td>1.03</td></tr><tr><td>Brooks Thompson</td><td>1.03</td></tr><tr><td>Aaron Nesmith</td><td>1.03</td></tr><tr><td>Rodions Kurucs</td><td>1.03</td></tr><tr><td>Danilo Gallinari</td><td>1.03</td></tr><tr><td>Kyle Anderson</td><td>1.03</td></tr><tr><td>Ervin Johnson</td><td>1.03</td></tr><tr><td>Matt Maloney</td><td>1.02</td></tr><tr><td>Tony Parker</td><td>1.02</td></tr><tr><td>Ike Diogu</td><td>1.02</td></tr><tr><td>Rudy Fernandez</td><td>1.02</td></tr><tr><td>Taurean Prince</td><td>1.02</td></tr><tr><td>JR Smith</td><td>1.02</td></tr><tr><td>P.J. Tucker</td><td>1.02</td></tr><tr><td>Marcus Morris Sr.</td><td>1.02</td></tr><tr><td>Mark Price</td><td>1.02</td></tr><tr><td>Kyle Lowry</td><td>1.02</td></tr><tr><td>Terrence Ross</td><td>1.02</td></tr><tr><td>Sean Williams</td><td>1.02</td></tr><tr><td>Donovan Mitchell</td><td>1.02</td></tr><tr><td>Justin Holiday</td><td>1.02</td></tr><tr><td>Mark Blount</td><td>1.02</td></tr><tr><td>Dirk Nowitzki</td><td>1.02</td></tr><tr><td>Kelly Oubre Jr.</td><td>1.02</td></tr><tr><td>Jordan Poole</td><td>1.02</td></tr><tr><td>DeMarre Carroll</td><td>1.02</td></tr><tr><td>Trey Lyles</td><td>1.02</td></tr><tr><td>Terry Rozier</td><td>1.02</td></tr><tr><td>Luke Kornet</td><td>1.02</td></tr><tr><td>Sam Perkins</td><td>1.02</td></tr><tr><td>Daniel Gibson</td><td>1.02</td></tr><tr><td>Aron Baynes</td><td>1.02</td></tr><tr><td>Allonzo Trier</td><td>1.02</td></tr><tr><td>Julian Wright</td><td>1.02</td></tr><tr><td>Oshae Brissett</td><td>1.02</td></tr><tr><td>Eddie Robinson</td><td>1.02</td></tr><tr><td>Chimezie Metu</td><td>1.02</td></tr><tr><td>Aaron Gordon</td><td>1.02</td></tr><tr><td>Trae Young</td><td>1.02</td></tr><tr><td>Jahidi White</td><td>1.02</td></tr><tr><td>Sasha Danilovic</td><td>1.02</td></tr><tr><td>Jerami Grant</td><td>1.02</td></tr><tr><td>LaMelo Ball</td><td>1.02</td></tr><tr><td>Anderson Varejao</td><td>1.02</td></tr><tr><td>Abdel Nader</td><td>1.02</td></tr><tr><td>Shawn Marion</td><td>1.02</td></tr><tr><td>Ian Clark</td><td>1.02</td></tr><tr><td>Gordon Hayward</td><td>1.02</td></tr><tr><td>Furkan Korkmaz</td><td>1.02</td></tr><tr><td>Mickael Gelabale</td><td>1.02</td></tr><tr><td>Roger Mason Jr.</td><td>1.02</td></tr><tr><td>Jalen Green</td><td>1.02</td></tr><tr><td>Emeka Okafor</td><td>1.02</td></tr><tr><td>Rodney McGruder</td><td>1.02</td></tr><tr><td>Vladimir Radmanovic</td><td>1.02</td></tr><tr><td>Anthony Edwards</td><td>1.02</td></tr><tr><td>Kyle Weaver</td><td>1.02</td></tr><tr><td>Derrick White</td><td>1.02</td></tr><tr><td>Delon Wright</td><td>1.02</td></tr><tr><td>Donatas Motiejunas</td><td>1.02</td></tr><tr><td>Maurice Evans</td><td>1.02</td></tr><tr><td>DJ White</td><td>1.02</td></tr><tr><td>Andre Iguodala</td><td>1.02</td></tr><tr><td>Ja Morant</td><td>1.02</td></tr><tr><td>Thabo Sefolosha</td><td>1.02</td></tr><tr><td>Shake Milton</td><td>1.02</td></tr><tr><td>Otis Thorpe</td><td>1.02</td></tr><tr><td>Skal Labissiere</td><td>1.02</td></tr><tr><td>Richard Jefferson</td><td>1.02</td></tr><tr><td>Svi Mykhailiuk</td><td>1.02</td></tr><tr><td>Dan Majerle</td><td>1.02</td></tr><tr><td>Marco Belinelli</td><td>1.02</td></tr><tr><td>Jrue Holiday</td><td>1.02</td></tr><tr><td>Keita Bates-Diop</td><td>1.02</td></tr><tr><td>DeAndre' Bembry</td><td>1.02</td></tr><tr><td>Devin Vassell</td><td>1.02</td></tr><tr><td>Jameer Nelson</td><td>1.01</td></tr><tr><td>Tyler Zeller</td><td>1.01</td></tr><tr><td>Yogi Ferrell</td><td>1.01</td></tr><tr><td>Rasheed Wallace</td><td>1.01</td></tr><tr><td>Justin Jackson</td><td>1.01</td></tr><tr><td>Zach Collins</td><td>1.01</td></tr><tr><td>Lamar Stevens</td><td>1.01</td></tr><tr><td>Lawrence Funderburke</td><td>1.01</td></tr><tr><td>Mehmet Okur</td><td>1.01</td></tr><tr><td>Lonzo Ball</td><td>1.01</td></tr><tr><td>Dee Brown</td><td>1.01</td></tr><tr><td>Collin Sexton</td><td>1.01</td></tr><tr><td>Brandon Ingram</td><td>1.01</td></tr><tr><td>Alan Williams</td><td>1.01</td></tr><tr><td>Dante Cunningham</td><td>1.01</td></tr><tr><td>Josh Richardson</td><td>1.01</td></tr><tr><td>Pat Garrity</td><td>1.01</td></tr><tr><td>Detlef Schrempf</td><td>1.01</td></tr><tr><td>Danny Manning</td><td>1.01</td></tr><tr><td>Jordan Clarkson</td><td>1.01</td></tr><tr><td>Andrew DeClercq</td><td>1.01</td></tr><tr><td>Michael Redd</td><td>1.01</td></tr><tr><td>Terry Davis</td><td>1.01</td></tr><tr><td>Eduardo Najera</td><td>1.01</td></tr><tr><td>Josh Christopher</td><td>1.01</td></tr><tr><td>Charlie Ward</td><td>1.01</td></tr><tr><td>JJ Hickson</td><td>1.01</td></tr><tr><td>De'Andre Hunter</td><td>1.01</td></tr><tr><td>Gabe Vincent</td><td>1.01</td></tr><tr><td>Fred VanVleet</td><td>1.01</td></tr><tr><td>Kelvin Cato</td><td>1.01</td></tr><tr><td>Ersan Ilyasova</td><td>1.01</td></tr><tr><td>Saddiq Bey</td><td>1.01</td></tr><tr><td>Arvydas Sabonis</td><td>1.01</td></tr><tr><td>Hilton Armstrong</td><td>1.01</td></tr><tr><td>Rick Fox</td><td>1.01</td></tr><tr><td>Mike Conley</td><td>1.01</td></tr><tr><td>Alexis Ajinca</td><td>1.01</td></tr><tr><td>Ty Lawson</td><td>1.01</td></tr><tr><td>Julius Randle</td><td>1.01</td></tr><tr><td>Jeremiah Robinson-Earl</td><td>1.01</td></tr><tr><td>Francisco Garcia</td><td>1.01</td></tr><tr><td>Kevin Love</td><td>1.01</td></tr><tr><td>Coby White</td><td>1.01</td></tr><tr><td>Armoni Brooks</td><td>1.01</td></tr><tr><td>Josh McRoberts</td><td>1.01</td></tr><tr><td>Chris Duarte</td><td>1.01</td></tr><tr><td>Isaiah Thomas</td><td>1.01</td></tr><tr><td>Jusuf Nurkic</td><td>1.01</td></tr><tr><td>Shabazz Muhammad</td><td>1.01</td></tr><tr><td>Ronnie Brewer</td><td>1.01</td></tr><tr><td>Tim Duncan</td><td>1.01</td></tr><tr><td>Joffrey Lauvergne</td><td>1.01</td></tr><tr><td>Juan Carlos Navarro</td><td>1.01</td></tr><tr><td>Bison Dele</td><td>1.01</td></tr><tr><td>Dorell Wright</td><td>1.01</td></tr><tr><td>Marc Gasol</td><td>1.01</td></tr><tr><td>Jordan Nwora</td><td>1.01</td></tr><tr><td>Gerard King</td><td>1.01</td></tr><tr><td>Rex Walters</td><td>1.01</td></tr><tr><td>Damyean Dotson</td><td>1.01</td></tr><tr><td>Gerald Green</td><td>1.01</td></tr><tr><td>Eric Bledsoe</td><td>1.01</td></tr><tr><td>Chris Bosh</td><td>1.01</td></tr><tr><td>Jodie Meeks</td><td>1.01</td></tr><tr><td>Beno Udrih</td><td>1.01</td></tr><tr><td>Jordan Farmar</td><td>1.01</td></tr><tr><td>Othella Harrington</td><td>1.01</td></tr><tr><td>Chase Budinger</td><td>1.01</td></tr><tr><td>Walt Williams</td><td>1.01</td></tr><tr><td>Robert Swift</td><td>1.01</td></tr><tr><td>Jevon Carter</td><td>1.01</td></tr><tr><td>Kevin Porter Jr.</td><td>1.01</td></tr><tr><td>Kentavious Caldwell-Pope</td><td>1.01</td></tr><tr><td>Troy Williams</td><td>1.01</td></tr><tr><td>Glen Rice</td><td>1.01</td></tr><tr><td>Isaac Okoro</td><td>1.01</td></tr><tr><td>Denzel Valentine</td><td>1.0</td></tr><tr><td>Antonio McDyess</td><td>1.0</td></tr><tr><td>Tre Jones</td><td>1.0</td></tr><tr><td>Frank Jackson</td><td>1.0</td></tr><tr><td>Draymond Green</td><td>1.0</td></tr><tr><td>Eldridge Recasner</td><td>1.0</td></tr><tr><td>Omari Spellman</td><td>1.0</td></tr><tr><td>Tracy Murray</td><td>1.0</td></tr><tr><td>Andrei Kirilenko</td><td>1.0</td></tr><tr><td>Gary Trent</td><td>1.0</td></tr><tr><td>Bryon Russell</td><td>1.0</td></tr><tr><td>Danny Granger</td><td>1.0</td></tr><tr><td>Deni Avdija</td><td>1.0</td></tr><tr><td>Charles Barkley</td><td>1.0</td></tr><tr><td>Delonte West</td><td>1.0</td></tr><tr><td>De'Aaron Fox</td><td>1.0</td></tr><tr><td>Mark Bryant</td><td>1.0</td></tr><tr><td>Kevin Garnett</td><td>1.0</td></tr><tr><td>Steve Blake</td><td>1.0</td></tr><tr><td>Jeff Foster</td><td>1.0</td></tr><tr><td>John Thomas</td><td>1.0</td></tr><tr><td>David Robinson</td><td>1.0</td></tr><tr><td>Precious Achiuwa</td><td>1.0</td></tr><tr><td>Mario Chalmers</td><td>1.0</td></tr><tr><td>LaMarcus Aldridge</td><td>1.0</td></tr><tr><td>Luis Scola</td><td>1.0</td></tr><tr><td>Alex Caruso</td><td>1.0</td></tr><tr><td>Primoz Brezec</td><td>1.0</td></tr><tr><td>JaKarr Sampson</td><td>1.0</td></tr><tr><td>Frank Kaminsky</td><td>1.0</td></tr><tr><td>Ben Gordon</td><td>1.0</td></tr><tr><td>Marvin Williams</td><td>1.0</td></tr><tr><td>Elton Brand</td><td>1.0</td></tr><tr><td>Jeremy Lamb</td><td>1.0</td></tr><tr><td>Thon Maker</td><td>1.0</td></tr><tr><td>Rodney Hood</td><td>1.0</td></tr><tr><td>Brandon Bass</td><td>1.0</td></tr><tr><td>Jason Richardson</td><td>1.0</td></tr><tr><td>Greg Buckner</td><td>1.0</td></tr><tr><td>Dan Gadzuric</td><td>1.0</td></tr><tr><td>Mindaugas Kuzminskas</td><td>1.0</td></tr><tr><td>Alperen Sengun</td><td>1.0</td></tr><tr><td>Paul Pierce</td><td>1.0</td></tr><tr><td>Dragan Bender</td><td>1.0</td></tr><tr><td>Hamidou Diallo</td><td>1.0</td></tr><tr><td>Marquese Chriss</td><td>1.0</td></tr><tr><td>Darius Songaila</td><td>1.0</td></tr><tr><td>Avery Bradley</td><td>1.0</td></tr><tr><td>Wilson Chandler</td><td>1.0</td></tr><tr><td>Erick Dampier</td><td>1.0</td></tr><tr><td>Keon Clark</td><td>1.0</td></tr><tr><td>Gary Neal</td><td>1.0</td></tr><tr><td>David West</td><td>1.0</td></tr><tr><td>Rasho Nesterovic</td><td>1.0</td></tr><tr><td>Anthony Mason</td><td>1.0</td></tr><tr><td>Deron Williams</td><td>1.0</td></tr><tr><td>Tyler Johnson</td><td>1.0</td></tr><tr><td>Quincy Pondexter</td><td>1.0</td></tr><tr><td>Kristaps Porzingis</td><td>1.0</td></tr><tr><td>Trevor Ariza</td><td>1.0</td></tr><tr><td>Eddie Jones</td><td>1.0</td></tr><tr><td>Rashad McCants</td><td>1.0</td></tr><tr><td>Marcus Thornton</td><td>1.0</td></tr><tr><td>Will Barton</td><td>1.0</td></tr><tr><td>Karl Malone</td><td>1.0</td></tr><tr><td>Duane Washington Jr.</td><td>1.0</td></tr><tr><td>Joey Graham</td><td>1.0</td></tr><tr><td>Jud Buechler</td><td>1.0</td></tr><tr><td>Jeff Green</td><td>1.0</td></tr><tr><td>Brian Cook</td><td>1.0</td></tr><tr><td>Jerome Williams</td><td>1.0</td></tr><tr><td>Al Jefferson</td><td>1.0</td></tr><tr><td>D.J. Wilson</td><td>1.0</td></tr><tr><td>D'Angelo Russell</td><td>1.0</td></tr><tr><td>Kevin Martin</td><td>1.0</td></tr><tr><td>Linas Kleiza</td><td>1.0</td></tr><tr><td>Chuck Hayes</td><td>1.0</td></tr><tr><td>Langston Galloway</td><td>0.99</td></tr><tr><td>Yuta Watanabe</td><td>0.99</td></tr><tr><td>Nick Young</td><td>0.99</td></tr><tr><td>Jumaine Jones</td><td>0.99</td></tr><tr><td>Andrew Nicholson</td><td>0.99</td></tr><tr><td>Hakim Warrick</td><td>0.99</td></tr><tr><td>Trajan Langdon</td><td>0.99</td></tr><tr><td>Semi Ojeleye</td><td>0.99</td></tr><tr><td>D.J. Augustin</td><td>0.99</td></tr><tr><td>CJ Miles</td><td>0.99</td></tr><tr><td>De'Anthony Melton</td><td>0.99</td></tr><tr><td>Morris Peterson</td><td>0.99</td></tr><tr><td>Allan Houston</td><td>0.99</td></tr><tr><td>Bruce Bowen</td><td>0.99</td></tr><tr><td>Scottie Pippen</td><td>0.99</td></tr><tr><td>O.J. Mayo</td><td>0.99</td></tr><tr><td>Victor Oladipo</td><td>0.99</td></tr><tr><td>Mo Williams</td><td>0.99</td></tr><tr><td>Joe Johnson</td><td>0.99</td></tr><tr><td>Bostjan Nachbar</td><td>0.99</td></tr><tr><td>Nate Robinson</td><td>0.99</td></tr><tr><td>Tyus Jones</td><td>0.99</td></tr><tr><td>Gerald Wallace</td><td>0.99</td></tr><tr><td>Smush Parker</td><td>0.99</td></tr><tr><td>Hedo Turkoglu</td><td>0.99</td></tr><tr><td>Jason Maxiell</td><td>0.99</td></tr><tr><td>Jordan Hill</td><td>0.99</td></tr><tr><td>Nenad Krstic</td><td>0.99</td></tr><tr><td>Jason Thompson</td><td>0.99</td></tr><tr><td>Cameron Payne</td><td>0.99</td></tr><tr><td>Voshon Lenard</td><td>0.99</td></tr><tr><td>Lamar Odom</td><td>0.99</td></tr><tr><td>Rodrigue Beaubois</td><td>0.99</td></tr><tr><td>Carlos Delfino</td><td>0.99</td></tr><tr><td>Sam Mack</td><td>0.99</td></tr><tr><td>Mike Bibby</td><td>0.99</td></tr><tr><td>Andres Nocioni</td><td>0.99</td></tr><tr><td>Dwyane Wade</td><td>0.99</td></tr><tr><td>Jonathan Isaac</td><td>0.99</td></tr><tr><td>Hakeem Olajuwon</td><td>0.99</td></tr><tr><td>Scot Pollard</td><td>0.99</td></tr><tr><td>Travis Diener</td><td>0.99</td></tr><tr><td>Brian Skinner</td><td>0.99</td></tr><tr><td>Chasson Randle</td><td>0.99</td></tr><tr><td>Tyronn Lue</td><td>0.99</td></tr><tr><td>James Posey</td><td>0.99</td></tr><tr><td>Charlie Villanueva</td><td>0.99</td></tr><tr><td>Chauncey Billups</td><td>0.99</td></tr><tr><td>Grant Hill</td><td>0.99</td></tr><tr><td>Brad Miller</td><td>0.99</td></tr><tr><td>Tim Thomas</td><td>0.99</td></tr><tr><td>Aaron Williams</td><td>0.99</td></tr><tr><td>Troy Murphy</td><td>0.99</td></tr><tr><td>Rudy Gay</td><td>0.99</td></tr><tr><td>Theo Ratliff</td><td>0.99</td></tr><tr><td>Sherman Douglas</td><td>0.99</td></tr><tr><td>Kerry Kittles</td><td>0.99</td></tr><tr><td>Ty Jerome</td><td>0.99</td></tr><tr><td>Jordan Hamilton</td><td>0.99</td></tr><tr><td>B.J. Armstrong</td><td>0.99</td></tr><tr><td>Tyrone Hill</td><td>0.99</td></tr><tr><td>Matt Harpring</td><td>0.99</td></tr><tr><td>Kyle Singler</td><td>0.99</td></tr><tr><td>Jake Voskuhl</td><td>0.98</td></tr><tr><td>Chucky Atkins</td><td>0.98</td></tr><tr><td>Jerome Moiso</td><td>0.98</td></tr><tr><td>Cory Joseph</td><td>0.98</td></tr><tr><td>Corliss Williamson</td><td>0.98</td></tr><tr><td>Isaiah Joe</td><td>0.98</td></tr><tr><td>Greg Stiemsma</td><td>0.98</td></tr><tr><td>Jeff Teague</td><td>0.98</td></tr><tr><td>Shawne Williams</td><td>0.98</td></tr><tr><td>Donyell Marshall</td><td>0.98</td></tr><tr><td>Kevin Seraphin</td><td>0.98</td></tr><tr><td>Rik Smits</td><td>0.98</td></tr><tr><td>Bobby Simmons</td><td>0.98</td></tr><tr><td>Shandon Anderson</td><td>0.98</td></tr><tr><td>Lee Mayberry</td><td>0.98</td></tr><tr><td>Mark Strickland</td><td>0.98</td></tr><tr><td>John Crotty</td><td>0.98</td></tr><tr><td>Andrew Wiggins</td><td>0.98</td></tr><tr><td>Vince Carter</td><td>0.98</td></tr><tr><td>Toney Douglas</td><td>0.98</td></tr><tr><td>Kemba Walker</td><td>0.98</td></tr><tr><td>Christian Laettner</td><td>0.98</td></tr><tr><td>Eddie Johnson</td><td>0.98</td></tr><tr><td>Udonis Haslem</td><td>0.98</td></tr><tr><td>Anthony Peeler</td><td>0.98</td></tr><tr><td>Aaron Brooks</td><td>0.98</td></tr><tr><td>Chris Duhon</td><td>0.98</td></tr><tr><td>Michael Finley</td><td>0.98</td></tr><tr><td>Bobby Phills</td><td>0.98</td></tr><tr><td>Tony Battie</td><td>0.98</td></tr><tr><td>Gary Payton</td><td>0.98</td></tr><tr><td>Gary Clark</td><td>0.98</td></tr><tr><td>Keith Askins</td><td>0.98</td></tr><tr><td>Immanuel Quickley</td><td>0.98</td></tr><tr><td>Jimmy Butler</td><td>0.98</td></tr><tr><td>Shawn Respert</td><td>0.98</td></tr><tr><td>Austin Rivers</td><td>0.98</td></tr><tr><td>Keith Bogans</td><td>0.98</td></tr><tr><td>Garrett Temple</td><td>0.98</td></tr><tr><td>Devonte' Graham</td><td>0.98</td></tr><tr><td>Troy Brown Jr.</td><td>0.98</td></tr><tr><td>Timothe Luwawu-Cabarrot</td><td>0.98</td></tr><tr><td>Clyde Drexler</td><td>0.98</td></tr><tr><td>Greg Anthony</td><td>0.98</td></tr><tr><td>Ime Udoka</td><td>0.98</td></tr><tr><td>Rodney Rogers</td><td>0.98</td></tr><tr><td>Charlie Bell</td><td>0.98</td></tr><tr><td>Ricky Pierce</td><td>0.98</td></tr><tr><td>Chris Kaman</td><td>0.98</td></tr><tr><td>Noah Vonleh</td><td>0.98</td></tr><tr><td>Nicolo Melli</td><td>0.98</td></tr><tr><td>Jake Tsakalidis</td><td>0.98</td></tr><tr><td>Eddie House</td><td>0.98</td></tr><tr><td>Brandon Roy</td><td>0.98</td></tr><tr><td>Al Harrington</td><td>0.98</td></tr><tr><td>Markieff Morris</td><td>0.98</td></tr><tr><td>J.J. Barea</td><td>0.98</td></tr><tr><td>Shaun Livingston</td><td>0.98</td></tr><tr><td>Caris LeVert</td><td>0.98</td></tr><tr><td>Nik Stauskas</td><td>0.98</td></tr><tr><td>Kwame Brown</td><td>0.98</td></tr><tr><td>Joakim Noah</td><td>0.98</td></tr><tr><td>Larry Johnson</td><td>0.98</td></tr><tr><td>Jason Caffey</td><td>0.97</td></tr><tr><td>DerMarr Johnson</td><td>0.97</td></tr><tr><td>Isaac Bonga</td><td>0.97</td></tr><tr><td>Dennis Schroder</td><td>0.97</td></tr><tr><td>MarShon Brooks</td><td>0.97</td></tr><tr><td>Mitch Richmond</td><td>0.97</td></tr><tr><td>Salim Stoudamire</td><td>0.97</td></tr><tr><td>Vin Baker</td><td>0.97</td></tr><tr><td>Vlade Divac</td><td>0.97</td></tr><tr><td>Rajon Rondo</td><td>0.97</td></tr><tr><td>Cuttino Mobley</td><td>0.97</td></tr><tr><td>Luol Deng</td><td>0.97</td></tr><tr><td>John Salmons</td><td>0.97</td></tr><tr><td>Kurt Thomas</td><td>0.97</td></tr><tr><td>Andrea Bargnani</td><td>0.97</td></tr><tr><td>Pero Antic</td><td>0.97</td></tr><tr><td>James Singleton</td><td>0.97</td></tr><tr><td>Brian Grant</td><td>0.97</td></tr><tr><td>Alan Anderson</td><td>0.97</td></tr><tr><td>Greg Ostertag</td><td>0.97</td></tr><tr><td>Chris Whitney</td><td>0.97</td></tr><tr><td>Sarunas Jasikevicius</td><td>0.97</td></tr><tr><td>Dennis Scott</td><td>0.97</td></tr><tr><td>Robbie Hummel</td><td>0.97</td></tr><tr><td>Gordan Giricek</td><td>0.97</td></tr><tr><td>Jerome James</td><td>0.97</td></tr><tr><td>Lonnie Walker IV</td><td>0.97</td></tr><tr><td>Dillon Brooks</td><td>0.97</td></tr><tr><td>Zan Tabak</td><td>0.97</td></tr><tr><td>Roy Rogers</td><td>0.97</td></tr><tr><td>Derrick Rose</td><td>0.97</td></tr><tr><td>Carmelo Anthony</td><td>0.97</td></tr><tr><td>Kenyon Martin</td><td>0.97</td></tr><tr><td>Patrick McCaw</td><td>0.97</td></tr><tr><td>Reggie Jackson</td><td>0.97</td></tr><tr><td>Sean Kilpatrick</td><td>0.97</td></tr><tr><td>C.J. Watson</td><td>0.97</td></tr><tr><td>Jarrett Jack</td><td>0.97</td></tr><tr><td>Jonathon Simmons</td><td>0.97</td></tr><tr><td>Glenn Robinson</td><td>0.97</td></tr><tr><td>Marreese Speights</td><td>0.97</td></tr><tr><td>Monty Williams</td><td>0.97</td></tr><tr><td>Kent Bazemore</td><td>0.97</td></tr><tr><td>Michael Beasley</td><td>0.97</td></tr><tr><td>Devin Harris</td><td>0.97</td></tr><tr><td>Kelan Martin</td><td>0.97</td></tr><tr><td>Chuma Okeke</td><td>0.97</td></tr><tr><td>Adam Keefe</td><td>0.97</td></tr><tr><td>Greg Anderson</td><td>0.97</td></tr><tr><td>Luc Mbah a Moute</td><td>0.97</td></tr><tr><td>Sasha Vujacic</td><td>0.97</td></tr><tr><td>Rodney Carney</td><td>0.97</td></tr><tr><td>Aaron Holiday</td><td>0.97</td></tr><tr><td>Pete Chilcutt</td><td>0.97</td></tr><tr><td>Muggsy Bogues</td><td>0.97</td></tr><tr><td>Tony Allen</td><td>0.97</td></tr><tr><td>Ryan Gomes</td><td>0.97</td></tr><tr><td>Spencer Hawes</td><td>0.97</td></tr><tr><td>Mike James</td><td>0.97</td></tr><tr><td>Jaren Jackson</td><td>0.97</td></tr><tr><td>Tayshaun Prince</td><td>0.97</td></tr><tr><td>Chris Quinn</td><td>0.97</td></tr><tr><td>Wayne Selden</td><td>0.97</td></tr><tr><td>Dejounte Murray</td><td>0.97</td></tr><tr><td>Michael Dickerson</td><td>0.97</td></tr><tr><td>Nazr Mohammed</td><td>0.97</td></tr><tr><td>Antawn Jamison</td><td>0.97</td></tr><tr><td>Mario Hezonja</td><td>0.96</td></tr><tr><td>Cedric Ceballos</td><td>0.96</td></tr><tr><td>Sonny Weems</td><td>0.96</td></tr><tr><td>Greivis Vasquez</td><td>0.96</td></tr><tr><td>Scott Padgett</td><td>0.96</td></tr><tr><td>Michael Kidd-Gilchrist</td><td>0.96</td></tr><tr><td>Spencer Dinwiddie</td><td>0.96</td></tr><tr><td>Alec Burks</td><td>0.96</td></tr><tr><td>Tim Hardaway</td><td>0.96</td></tr><tr><td>Chris Webber</td><td>0.96</td></tr><tr><td>Anthony Goldwire</td><td>0.96</td></tr><tr><td>David Andersen</td><td>0.96</td></tr><tr><td>Derek Harper</td><td>0.96</td></tr><tr><td>Doug Christie</td><td>0.96</td></tr><tr><td>Matt Carroll</td><td>0.96</td></tr><tr><td>Corey Maggette</td><td>0.96</td></tr><tr><td>Larry Sanders</td><td>0.96</td></tr><tr><td>Rex Chapman</td><td>0.96</td></tr><tr><td>Luguentz Dort</td><td>0.96</td></tr><tr><td>Antonio Daniels</td><td>0.96</td></tr><tr><td>Bryant Reeves</td><td>0.96</td></tr><tr><td>Brian Cardinal</td><td>0.96</td></tr><tr><td>Stojko Vrankovic</td><td>0.96</td></tr><tr><td>Zach Randolph</td><td>0.96</td></tr><tr><td>Michael Bradley</td><td>0.96</td></tr><tr><td>Jason Smith</td><td>0.96</td></tr><tr><td>Jamaal Magloire</td><td>0.96</td></tr><tr><td>Tom Hammonds</td><td>0.96</td></tr><tr><td>Isaiah Canaan</td><td>0.96</td></tr><tr><td>Francisco Elson</td><td>0.96</td></tr><tr><td>DeMarcus Cousins</td><td>0.96</td></tr><tr><td>Dean Garrett</td><td>0.96</td></tr><tr><td>Toni Kukoc</td><td>0.96</td></tr><tr><td>Casey Jacobsen</td><td>0.96</td></tr><tr><td>Bruno Caboclo</td><td>0.96</td></tr><tr><td>DeMar DeRozan</td><td>0.96</td></tr><tr><td>Reggie Slater</td><td>0.96</td></tr><tr><td>Justin Anderson</td><td>0.96</td></tr><tr><td>Jamal Crawford</td><td>0.96</td></tr><tr><td>Tarence Kinsey</td><td>0.96</td></tr><tr><td>Shabazz Napier</td><td>0.96</td></tr><tr><td>Darrell Armstrong</td><td>0.96</td></tr><tr><td>Vitaly Potapenko</td><td>0.96</td></tr><tr><td>Facundo Campazzo</td><td>0.96</td></tr><tr><td>Monta Ellis</td><td>0.96</td></tr><tr><td>Shareef Abdur-Rahim</td><td>0.96</td></tr><tr><td>Rasual Butler</td><td>0.96</td></tr><tr><td>Cam Thomas</td><td>0.96</td></tr><tr><td>Keith Van Horn</td><td>0.96</td></tr><tr><td>Jorge Garbajosa</td><td>0.96</td></tr><tr><td>Kobe Bryant</td><td>0.96</td></tr><tr><td>Zydrunas Ilgauskas</td><td>0.96</td></tr><tr><td>Gilbert Arenas</td><td>0.96</td></tr><tr><td>Wesley Johnson</td><td>0.96</td></tr><tr><td>Qyntel Woods</td><td>0.96</td></tr><tr><td>Kirk Snyder</td><td>0.96</td></tr><tr><td>Talen Horton-Tucker</td><td>0.96</td></tr><tr><td>Lou Williams</td><td>0.96</td></tr><tr><td>Nick Anderson</td><td>0.96</td></tr><tr><td>Sam Cassell</td><td>0.96</td></tr><tr><td>Shelvin Mack</td><td>0.96</td></tr><tr><td>Bonzi Wells</td><td>0.96</td></tr><tr><td>Gary Forbes</td><td>0.96</td></tr><tr><td>Kirk Hinrich</td><td>0.96</td></tr><tr><td>Jason Williams</td><td>0.96</td></tr><tr><td>Tyler Dorsey</td><td>0.96</td></tr><tr><td>Jeremy Lin</td><td>0.96</td></tr><tr><td>Randy Foye</td><td>0.96</td></tr><tr><td>Cherokee Parks</td><td>0.96</td></tr><tr><td>Ricky Davis</td><td>0.96</td></tr><tr><td>Henry Sims</td><td>0.95</td></tr><tr><td>Walter McCarty</td><td>0.95</td></tr><tr><td>Lou Amundson</td><td>0.95</td></tr><tr><td>Corie Blount</td><td>0.95</td></tr><tr><td>Brandon Knight</td><td>0.95</td></tr><tr><td>Robert Traylor</td><td>0.95</td></tr><tr><td>Luke Ridnour</td><td>0.95</td></tr><tr><td>Rony Seikaly</td><td>0.95</td></tr><tr><td>David Wesley</td><td>0.95</td></tr><tr><td>Chris Gatling</td><td>0.95</td></tr><tr><td>Ben Wallace</td><td>0.95</td></tr><tr><td>Hot Rod Williams</td><td>0.95</td></tr><tr><td>Vinny Del Negro</td><td>0.95</td></tr><tr><td>Robert Horry</td><td>0.95</td></tr><tr><td>Darius Miles</td><td>0.95</td></tr><tr><td>Daequan Cook</td><td>0.95</td></tr><tr><td>Derrick Williams</td><td>0.95</td></tr><tr><td>Shammond Williams</td><td>0.95</td></tr><tr><td>Adonal Foyle</td><td>0.95</td></tr><tr><td>Lance Stephenson</td><td>0.95</td></tr><tr><td>Fred Jones</td><td>0.95</td></tr><tr><td>Cartier Martin</td><td>0.95</td></tr><tr><td>Davion Mitchell</td><td>0.95</td></tr><tr><td>Jarvis Hayes</td><td>0.95</td></tr><tr><td>James Robinson</td><td>0.95</td></tr><tr><td>Johnny Newman</td><td>0.95</td></tr><tr><td>Shane Larkin</td><td>0.95</td></tr><tr><td>Quentin Richardson</td><td>0.95</td></tr><tr><td>Olden Polynice</td><td>0.95</td></tr><tr><td>George McCloud</td><td>0.95</td></tr><tr><td>Lee Nailon</td><td>0.95</td></tr><tr><td>Jordan McRae</td><td>0.95</td></tr><tr><td>Loy Vaught</td><td>0.95</td></tr><tr><td>Mahmoud Abdul-Rauf</td><td>0.95</td></tr><tr><td>Jalen Rose</td><td>0.95</td></tr><tr><td>Mark Jackson</td><td>0.95</td></tr><tr><td>Von Wafer</td><td>0.95</td></tr><tr><td>Al-Farouq Aminu</td><td>0.95</td></tr><tr><td>Trey Burke</td><td>0.95</td></tr><tr><td>Dante Exum</td><td>0.95</td></tr><tr><td>Calbert Cheaney</td><td>0.95</td></tr><tr><td>Chandler Hutchison</td><td>0.95</td></tr><tr><td>Stromile Swift</td><td>0.95</td></tr><tr><td>Lavoy Allen</td><td>0.95</td></tr><tr><td>Stephen Graham</td><td>0.95</td></tr><tr><td>Clifford Robinson</td><td>0.95</td></tr><tr><td>Matthew Dellavedova</td><td>0.95</td></tr><tr><td>Alonzo Gee</td><td>0.95</td></tr><tr><td>Josh Howard</td><td>0.95</td></tr><tr><td>Josh Smith</td><td>0.95</td></tr><tr><td>Tre Mann</td><td>0.95</td></tr><tr><td>Mitchell Butler</td><td>0.94</td></tr><tr><td>Stephon Marbury</td><td>0.94</td></tr><tr><td>Scott Burrell</td><td>0.94</td></tr><tr><td>Darrell Arthur</td><td>0.94</td></tr><tr><td>Emanual Davis</td><td>0.94</td></tr><tr><td>Kendall Marshall</td><td>0.94</td></tr><tr><td>Matt Geiger</td><td>0.94</td></tr><tr><td>Jason Kidd</td><td>0.94</td></tr><tr><td>Daniel Santiago</td><td>0.94</td></tr><tr><td>Ky Bowman</td><td>0.94</td></tr><tr><td>Aaron McKie</td><td>0.94</td></tr><tr><td>Tracy McGrady</td><td>0.94</td></tr><tr><td>Bobby Jackson</td><td>0.94</td></tr><tr><td>Russell Westbrook</td><td>0.94</td></tr><tr><td>Jarell Martin</td><td>0.94</td></tr><tr><td>Keith Closs</td><td>0.94</td></tr><tr><td>Antoine Carr</td><td>0.94</td></tr><tr><td>Jim Jackson</td><td>0.94</td></tr><tr><td>Terrell Brandon</td><td>0.94</td></tr><tr><td>Khalid Reeves</td><td>0.94</td></tr><tr><td>Armen Gilliam</td><td>0.94</td></tr><tr><td>David Wingate</td><td>0.94</td></tr><tr><td>Zaza Pachulia</td><td>0.94</td></tr><tr><td>Caron Butler</td><td>0.94</td></tr><tr><td>Chuck Person</td><td>0.94</td></tr><tr><td>Nickeil Alexander-Walker</td><td>0.94</td></tr><tr><td>Sergio Rodriguez</td><td>0.94</td></tr><tr><td>P.J. Dozier</td><td>0.94</td></tr><tr><td>Kenny Thomas</td><td>0.94</td></tr><tr><td>Tyreke Evans</td><td>0.94</td></tr><tr><td>Andre Miller</td><td>0.94</td></tr><tr><td>Jerian Grant</td><td>0.94</td></tr><tr><td>Jermaine Taylor</td><td>0.94</td></tr><tr><td>Michael Jordan</td><td>0.94</td></tr><tr><td>Andray Blatche</td><td>0.94</td></tr><tr><td>Todd Day</td><td>0.94</td></tr><tr><td>Solomon Jones</td><td>0.94</td></tr><tr><td>Nick Calathes</td><td>0.94</td></tr><tr><td>Austin Daye</td><td>0.94</td></tr><tr><td>Elliot Perry</td><td>0.94</td></tr><tr><td>Darius Bazley</td><td>0.94</td></tr><tr><td>Richard Hamilton</td><td>0.94</td></tr><tr><td>Cade Cunningham</td><td>0.94</td></tr><tr><td>Markelle Fultz</td><td>0.94</td></tr><tr><td>DJ Mbenga</td><td>0.94</td></tr><tr><td>Danny Fortson</td><td>0.94</td></tr><tr><td>Willie Green</td><td>0.94</td></tr><tr><td>Avery Johnson</td><td>0.94</td></tr><tr><td>Dion Waiters</td><td>0.94</td></tr><tr><td>Solomon Hill</td><td>0.94</td></tr><tr><td>Jerryd Bayless</td><td>0.94</td></tr><tr><td>Lamond Murray</td><td>0.94</td></tr><tr><td>Marcus Banks</td><td>0.94</td></tr><tr><td>Felton Spencer</td><td>0.94</td></tr><tr><td>Alan Henderson</td><td>0.94</td></tr><tr><td>Treveon Graham</td><td>0.94</td></tr><tr><td>Ira Newble</td><td>0.94</td></tr><tr><td>Jimmer Fredette</td><td>0.94</td></tr><tr><td>Elfrid Payton</td><td>0.94</td></tr><tr><td>Shannon Brown</td><td>0.94</td></tr><tr><td>Thomas Robinson</td><td>0.94</td></tr><tr><td>Isaiah Rider</td><td>0.94</td></tr><tr><td>Horace Grant</td><td>0.94</td></tr><tr><td>Iman Shumpert</td><td>0.94</td></tr><tr><td>Brian Roberts</td><td>0.94</td></tr><tr><td>Marcus Camby</td><td>0.94</td></tr><tr><td>Stanley Roberts</td><td>0.94</td></tr><tr><td>RJ Barrett</td><td>0.94</td></tr><tr><td>Stephen Jackson</td><td>0.94</td></tr><tr><td>Derek Anderson</td><td>0.93</td></tr><tr><td>Cory Alexander</td><td>0.93</td></tr><tr><td>Maurice Taylor</td><td>0.93</td></tr><tr><td>Derek Fisher</td><td>0.93</td></tr><tr><td>Tyler Ennis</td><td>0.93</td></tr><tr><td>Lance Thomas</td><td>0.93</td></tr><tr><td>Brad Wanamaker</td><td>0.93</td></tr><tr><td>KJ McDaniels</td><td>0.93</td></tr><tr><td>Jared Sullinger</td><td>0.93</td></tr><tr><td>Nick Van Exel</td><td>0.93</td></tr><tr><td>Juwan Howard</td><td>0.93</td></tr><tr><td>John Wallace</td><td>0.93</td></tr><tr><td>Patrick Ewing</td><td>0.93</td></tr><tr><td>Chris Morris</td><td>0.93</td></tr><tr><td>Marcus Smart</td><td>0.93</td></tr><tr><td>Mookie Blaylock</td><td>0.93</td></tr><tr><td>Sean Elliott</td><td>0.93</td></tr><tr><td>Chris Mills</td><td>0.93</td></tr><tr><td>Duane Causwell</td><td>0.93</td></tr><tr><td>Steve Francis</td><td>0.93</td></tr><tr><td>Chris Carr</td><td>0.93</td></tr><tr><td>Al Thornton</td><td>0.93</td></tr><tr><td>Shaquille Harrison</td><td>0.93</td></tr><tr><td>Howard Eisley</td><td>0.93</td></tr><tr><td>Shawn Bradley</td><td>0.93</td></tr><tr><td>Roy Hibbert</td><td>0.93</td></tr><tr><td>Shelden Williams</td><td>0.93</td></tr><tr><td>Raul Lopez</td><td>0.93</td></tr><tr><td>DeAndre Liggins</td><td>0.93</td></tr><tr><td>Lonny Baxter</td><td>0.93</td></tr><tr><td>Jermaine O'Neal</td><td>0.93</td></tr><tr><td>Lindsey Hunter</td><td>0.93</td></tr><tr><td>Marquis Daniels</td><td>0.93</td></tr><tr><td>P.J. Brown</td><td>0.93</td></tr><tr><td>Kris Humphries</td><td>0.93</td></tr><tr><td>Austin Croshere</td><td>0.93</td></tr><tr><td>Marty Conlon</td><td>0.93</td></tr><tr><td>Mark Davis</td><td>0.93</td></tr><tr><td>Evan Eschmeyer</td><td>0.93</td></tr><tr><td>Drew Gooden</td><td>0.93</td></tr><tr><td>Antoine Wright</td><td>0.93</td></tr><tr><td>Anthony Randolph</td><td>0.93</td></tr><tr><td>R.J. Hampton</td><td>0.93</td></tr><tr><td>Luke Walton</td><td>0.93</td></tr><tr><td>Baron Davis</td><td>0.93</td></tr><tr><td>Reggie Evans</td><td>0.93</td></tr><tr><td>Donte Greene</td><td>0.93</td></tr><tr><td>Corey Brewer</td><td>0.93</td></tr><tr><td>Kareem Rush</td><td>0.93</td></tr><tr><td>Metta World Peace</td><td>0.93</td></tr><tr><td>Keyon Dooling</td><td>0.93</td></tr><tr><td>Saben Lee</td><td>0.93</td></tr><tr><td>Tony Massenburg</td><td>0.93</td></tr><tr><td>Elie Okobo</td><td>0.93</td></tr><tr><td>A.J. Guyton</td><td>0.92</td></tr><tr><td>Jonathan Bender</td><td>0.92</td></tr><tr><td>Juan Dixon</td><td>0.92</td></tr><tr><td>Art Long</td><td>0.92</td></tr><tr><td>Ish Smith</td><td>0.92</td></tr><tr><td>Raymond Felton</td><td>0.92</td></tr><tr><td>Chris Mihm</td><td>0.92</td></tr><tr><td>Royal Ivey</td><td>0.92</td></tr><tr><td>Ryan Bowen</td><td>0.92</td></tr><tr><td>Perry Jones III</td><td>0.92</td></tr><tr><td>Josh Giddey</td><td>0.92</td></tr><tr><td>Sam Young</td><td>0.92</td></tr><tr><td>Melvin Ely</td><td>0.92</td></tr><tr><td>Jeff McInnis</td><td>0.92</td></tr><tr><td>Lorenzen Wright</td><td>0.92</td></tr><tr><td>Trenton Hassell</td><td>0.92</td></tr><tr><td>Joel Freeland</td><td>0.92</td></tr><tr><td>Damien Wilkins</td><td>0.92</td></tr><tr><td>Damon Stoudamire</td><td>0.92</td></tr><tr><td>John Lucas III</td><td>0.92</td></tr><tr><td>Scott Williams</td><td>0.92</td></tr><tr><td>Sean May</td><td>0.92</td></tr><tr><td>James Anderson</td><td>0.92</td></tr><tr><td>Cam Reddish</td><td>0.92</td></tr><tr><td>Chris Robinson</td><td>0.92</td></tr><tr><td>Michael Curry</td><td>0.92</td></tr><tr><td>Darko Milicic</td><td>0.92</td></tr><tr><td>Romeo Langford</td><td>0.92</td></tr><tr><td>Will Bynum</td><td>0.92</td></tr><tr><td>Sasha Pavlovic</td><td>0.92</td></tr><tr><td>Cole Anthony</td><td>0.92</td></tr><tr><td>Chris Crawford</td><td>0.92</td></tr><tr><td>Jordan Crawford</td><td>0.92</td></tr><tr><td>Latrell Sprewell</td><td>0.92</td></tr><tr><td>Josh Jackson</td><td>0.92</td></tr><tr><td>Carlos Arroyo</td><td>0.92</td></tr><tr><td>Oscar Torres</td><td>0.92</td></tr><tr><td>Travis Outlaw</td><td>0.92</td></tr><tr><td>Eric Washington</td><td>0.92</td></tr><tr><td>Bob Sura</td><td>0.92</td></tr><tr><td>Josh Okogie</td><td>0.92</td></tr><tr><td>Rafer Alston</td><td>0.92</td></tr><tr><td>Luc Longley</td><td>0.92</td></tr><tr><td>Jamal Mashburn</td><td>0.92</td></tr><tr><td>Antoine Walker</td><td>0.92</td></tr><tr><td>Kevin Willis</td><td>0.92</td></tr><tr><td>Billy Owens</td><td>0.92</td></tr><tr><td>Kenny Anderson</td><td>0.92</td></tr><tr><td>Sindarius Thornwell</td><td>0.92</td></tr><tr><td>Travis Best</td><td>0.92</td></tr><tr><td>Dahntay Jones</td><td>0.92</td></tr><tr><td>Terry Cummings</td><td>0.92</td></tr><tr><td>Earl Watson</td><td>0.92</td></tr><tr><td>Donnell Harvey</td><td>0.92</td></tr><tr><td>Johan Petro</td><td>0.92</td></tr><tr><td>Dan Dickau</td><td>0.92</td></tr><tr><td>Ekpe Udoh</td><td>0.92</td></tr><tr><td>J.R. Reid</td><td>0.92</td></tr><tr><td>Ron Harper</td><td>0.92</td></tr><tr><td>LaPhonso Ellis</td><td>0.92</td></tr><tr><td>Chucky Brown</td><td>0.92</td></tr><tr><td>Rondae Hollis-Jefferson</td><td>0.92</td></tr><tr><td>Jason Collier</td><td>0.92</td></tr><tr><td>Tony Delk</td><td>0.92</td></tr><tr><td>John Wall</td><td>0.92</td></tr><tr><td>Malachi Flynn</td><td>0.92</td></tr><tr><td>Samaki Walker</td><td>0.92</td></tr><tr><td>Earl Boykins</td><td>0.91</td></tr><tr><td>Jarron Collins</td><td>0.91</td></tr><tr><td>Tyrone Corbin</td><td>0.91</td></tr><tr><td>David Benoit</td><td>0.91</td></tr><tr><td>Donald Sloan</td><td>0.91</td></tr><tr><td>Anfernee Hardaway</td><td>0.91</td></tr><tr><td>Archie Goodwin</td><td>0.91</td></tr><tr><td>Brandon Goodwin</td><td>0.91</td></tr><tr><td>Bryant Stith</td><td>0.91</td></tr><tr><td>Troy Hudson</td><td>0.91</td></tr><tr><td>Ramon Sessions</td><td>0.91</td></tr><tr><td>Marko Jaric</td><td>0.91</td></tr><tr><td>Devean George</td><td>0.91</td></tr><tr><td>Desmond Mason</td><td>0.91</td></tr><tr><td>A.C. Green</td><td>0.91</td></tr><tr><td>Jarrett Culver</td><td>0.91</td></tr><tr><td>Tom Gugliotta</td><td>0.91</td></tr><tr><td>Chris Douglas-Roberts</td><td>0.91</td></tr><tr><td>Kris Dunn</td><td>0.91</td></tr><tr><td>Jayson Williams</td><td>0.91</td></tr><tr><td>Duane Ferrell</td><td>0.91</td></tr><tr><td>Justise Winslow</td><td>0.91</td></tr><tr><td>Martin Muursepp</td><td>0.91</td></tr><tr><td>Greg Minor</td><td>0.91</td></tr><tr><td>Antonio Blakeney</td><td>0.91</td></tr><tr><td>Elden Campbell</td><td>0.91</td></tr><tr><td>Lucious Harris</td><td>0.91</td></tr><tr><td>Rodney White</td><td>0.91</td></tr><tr><td>DeShawn Stevenson</td><td>0.91</td></tr><tr><td>John Starks</td><td>0.91</td></tr><tr><td>Isaiah Whitehead</td><td>0.91</td></tr><tr><td>Anthony Johnson</td><td>0.91</td></tr><tr><td>Jannero Pargo</td><td>0.91</td></tr><tr><td>Mark Madsen</td><td>0.91</td></tr><tr><td>Chris Childs</td><td>0.91</td></tr><tr><td>George Lynch</td><td>0.91</td></tr><tr><td>Terry Dehere</td><td>0.91</td></tr><tr><td>AJ Price</td><td>0.91</td></tr><tr><td>Joe Smith</td><td>0.91</td></tr><tr><td>Evan Turner</td><td>0.91</td></tr><tr><td>Javaris Crittenton</td><td>0.91</td></tr><tr><td>Viktor Khryapa</td><td>0.91</td></tr><tr><td>Blue Edwards</td><td>0.9</td></tr><tr><td>Brandon Jennings</td><td>0.9</td></tr><tr><td>Erick Strickland</td><td>0.9</td></tr><tr><td>Kedrick Brown</td><td>0.9</td></tr><tr><td>T.J. Ford</td><td>0.9</td></tr><tr><td>Naji Marshall</td><td>0.9</td></tr><tr><td>Wes Iwundu</td><td>0.9</td></tr><tr><td>Alvin Williams</td><td>0.9</td></tr><tr><td>Jim McIlvaine</td><td>0.9</td></tr><tr><td>Bryce Drew</td><td>0.9</td></tr><tr><td>Yakhouba Diawara</td><td>0.9</td></tr><tr><td>Calvin Booth</td><td>0.9</td></tr><tr><td>Stanley Johnson</td><td>0.9</td></tr><tr><td>Devin Brown</td><td>0.9</td></tr><tr><td>CJ Elleby</td><td>0.9</td></tr><tr><td>Adrian Griffin</td><td>0.9</td></tr><tr><td>Christian Eyenga</td><td>0.9</td></tr><tr><td>Allen Iverson</td><td>0.9</td></tr><tr><td>Sam Mitchell</td><td>0.9</td></tr><tr><td>Theo Maledon</td><td>0.9</td></tr><tr><td>Derrick Coleman</td><td>0.9</td></tr><tr><td>Jiri Welsch</td><td>0.9</td></tr><tr><td>Shawn Kemp</td><td>0.9</td></tr><tr><td>Eric Maynor</td><td>0.9</td></tr><tr><td>Quincy Douby</td><td>0.9</td></tr><tr><td>Zarko Cabarkapa</td><td>0.9</td></tr><tr><td>Sean Marks</td><td>0.9</td></tr><tr><td>Dennis Smith Jr.</td><td>0.9</td></tr><tr><td>Malik Sealy</td><td>0.9</td></tr><tr><td>Tim Frazier</td><td>0.9</td></tr><tr><td>Paul Zipser</td><td>0.9</td></tr><tr><td>Brian Scalabrine</td><td>0.9</td></tr><tr><td>Alexey Shved</td><td>0.9</td></tr><tr><td>Felipe Lopez</td><td>0.9</td></tr><tr><td>Norris Cole</td><td>0.9</td></tr><tr><td>Tyrone Nesby</td><td>0.89</td></tr><tr><td>Kornel David</td><td>0.89</td></tr><tr><td>Popeye Jones</td><td>0.89</td></tr><tr><td>Aleksej Pokusevski</td><td>0.89</td></tr><tr><td>Marcus Williams</td><td>0.89</td></tr><tr><td>Bobby Brown</td><td>0.89</td></tr><tr><td>Jay Williams</td><td>0.89</td></tr><tr><td>Travis Knight</td><td>0.89</td></tr><tr><td>Dion Glover</td><td>0.89</td></tr><tr><td>Jacque Vaughn</td><td>0.89</td></tr><tr><td>Emmanuel Mudiay</td><td>0.89</td></tr><tr><td>Chris Chiozza</td><td>0.89</td></tr><tr><td>Dominique Wilkins</td><td>0.89</td></tr><tr><td>Linton Johnson</td><td>0.89</td></tr><tr><td>Will Solomon</td><td>0.89</td></tr><tr><td>Zoran Planinic</td><td>0.89</td></tr><tr><td>Marc Jackson</td><td>0.89</td></tr><tr><td>Kira Lewis Jr.</td><td>0.89</td></tr><tr><td>Kevin Knox II</td><td>0.89</td></tr><tr><td>Eric Murdock</td><td>0.89</td></tr><tr><td>Hanno Mottola</td><td>0.89</td></tr><tr><td>Ray McCallum</td><td>0.89</td></tr><tr><td>Jerry Stackhouse</td><td>0.89</td></tr><tr><td>Tony Wroten</td><td>0.89</td></tr><tr><td>Don MacLean</td><td>0.89</td></tr><tr><td>Tony Smith</td><td>0.89</td></tr><tr><td>Henry Ellenson</td><td>0.89</td></tr><tr><td>Ansu Sesay</td><td>0.89</td></tr><tr><td>Dwayne Bacon</td><td>0.89</td></tr><tr><td>Sundiata Gaines</td><td>0.89</td></tr><tr><td>Laron Profit</td><td>0.89</td></tr><tr><td>Glen Davis</td><td>0.89</td></tr><tr><td>Samardo Samuels</td><td>0.89</td></tr><tr><td>Ricky Rubio</td><td>0.88</td></tr><tr><td>Frank Ntilikina</td><td>0.88</td></tr><tr><td>Vernon Maxwell</td><td>0.88</td></tr><tr><td>Josh Powell</td><td>0.88</td></tr><tr><td>Dino Radja</td><td>0.88</td></tr><tr><td>Anthony Bennett</td><td>0.88</td></tr><tr><td>Ryan Kelly</td><td>0.88</td></tr><tr><td>Joe Young</td><td>0.88</td></tr><tr><td>Jerome Robinson</td><td>0.88</td></tr><tr><td>Charles Jenkins</td><td>0.88</td></tr><tr><td>Rodney Stuckey</td><td>0.88</td></tr><tr><td>Jared Jeffries</td><td>0.88</td></tr><tr><td>Rod Strickland</td><td>0.88</td></tr><tr><td>Zendon Hamilton</td><td>0.88</td></tr><tr><td>Tyrone Wallace</td><td>0.88</td></tr><tr><td>Oleksiy Pecherov</td><td>0.88</td></tr><tr><td>Jonny Flynn</td><td>0.88</td></tr><tr><td>Malik Allen</td><td>0.88</td></tr><tr><td>Derrick McKey</td><td>0.88</td></tr><tr><td>Antonio Davis</td><td>0.88</td></tr><tr><td>Predrag Drobnjak</td><td>0.88</td></tr><tr><td>Jamaal Tinsley</td><td>0.88</td></tr><tr><td>Jason Hart</td><td>0.88</td></tr><tr><td>Nate Wolters</td><td>0.88</td></tr><tr><td>Doug West</td><td>0.88</td></tr><tr><td>Mike Batiste</td><td>0.88</td></tr><tr><td>Eric Williams</td><td>0.88</td></tr><tr><td>Malik Rose</td><td>0.88</td></tr><tr><td>Tyler Hansbrough</td><td>0.88</td></tr><tr><td>Michael Doleac</td><td>0.88</td></tr><tr><td>J.R. Bremer</td><td>0.88</td></tr><tr><td>Isaiah Taylor</td><td>0.88</td></tr><tr><td>Terrence Williams</td><td>0.88</td></tr><tr><td>Ronnie Price</td><td>0.88</td></tr><tr><td>Michael Stewart</td><td>0.88</td></tr><tr><td>Marcus Fizer</td><td>0.88</td></tr><tr><td>Sekou Doumbouya</td><td>0.88</td></tr><tr><td>Darrick Martin</td><td>0.88</td></tr><tr><td>Frank Mason III</td><td>0.88</td></tr><tr><td>Tyrus Thomas</td><td>0.88</td></tr><tr><td>Grant Long</td><td>0.88</td></tr><tr><td>Ron Mercer</td><td>0.87</td></tr><tr><td>Tyler Ulis</td><td>0.87</td></tr><tr><td>Byron Mullens</td><td>0.87</td></tr><tr><td>Robert Sacre</td><td>0.87</td></tr><tr><td>Sebastian Telfair</td><td>0.87</td></tr><tr><td>Dennis Rodman</td><td>0.87</td></tr><tr><td>Courtney Alexander</td><td>0.87</td></tr><tr><td>Earl Clark</td><td>0.87</td></tr><tr><td>Eric Montross</td><td>0.87</td></tr><tr><td>Cedric Henderson</td><td>0.87</td></tr><tr><td>Larry Hughes</td><td>0.87</td></tr><tr><td>Rodney Buford</td><td>0.87</td></tr><tr><td>Stacey Augmon</td><td>0.87</td></tr><tr><td>Dickey Simpkins</td><td>0.87</td></tr><tr><td>Mike Wilks</td><td>0.87</td></tr><tr><td>Daniel Ewing</td><td>0.87</td></tr><tr><td>Michael Olowokandi</td><td>0.87</td></tr><tr><td>Jawad Williams</td><td>0.87</td></tr><tr><td>Terence Morris</td><td>0.86</td></tr><tr><td>Rusty LaRue</td><td>0.86</td></tr><tr><td>Lawrence Moten</td><td>0.86</td></tr><tr><td>Eric Snow</td><td>0.86</td></tr><tr><td>Bill Wennington</td><td>0.86</td></tr><tr><td>Xavier Henry</td><td>0.86</td></tr><tr><td>Milt Palacio</td><td>0.86</td></tr><tr><td>Malcolm Delaney</td><td>0.86</td></tr><tr><td>Moochie Norris</td><td>0.86</td></tr><tr><td>Jamie Feick</td><td>0.86</td></tr><tr><td>Carl Herrera</td><td>0.86</td></tr><tr><td>Ronald Dupree</td><td>0.86</td></tr><tr><td>Charles Oakley</td><td>0.86</td></tr><tr><td>Randy Livingston</td><td>0.86</td></tr><tr><td>PJ Hairston</td><td>0.86</td></tr><tr><td>Quinton Ross</td><td>0.86</td></tr><tr><td>Derek Strong</td><td>0.86</td></tr><tr><td>Eddie Griffin</td><td>0.86</td></tr><tr><td>Brian Evans</td><td>0.86</td></tr><tr><td>Kendall Gill</td><td>0.86</td></tr><tr><td>Andrew Harrison</td><td>0.86</td></tr><tr><td>Markel Brown</td><td>0.86</td></tr><tr><td>Quincy Lewis</td><td>0.86</td></tr><tr><td>Darius Morris</td><td>0.86</td></tr><tr><td>Acie Law</td><td>0.86</td></tr><tr><td>DeSagana Diop</td><td>0.86</td></tr><tr><td>Vladimir Stepania</td><td>0.85</td></tr><tr><td>Yi Jianlian</td><td>0.85</td></tr><tr><td>Brian Shaw</td><td>0.85</td></tr><tr><td>Eddie Gill</td><td>0.85</td></tr><tr><td>Vonteego Cummings</td><td>0.85</td></tr><tr><td>Doug Overton</td><td>0.85</td></tr><tr><td>Jeremy Pargo</td><td>0.85</td></tr><tr><td>Wayman Tisdale</td><td>0.85</td></tr><tr><td>Adreian Payne</td><td>0.85</td></tr><tr><td>Corey Benjamin</td><td>0.85</td></tr><tr><td>Anthony Carter</td><td>0.85</td></tr><tr><td>Greg Foster</td><td>0.85</td></tr><tr><td>Gerald Wilkins</td><td>0.85</td></tr><tr><td>Manny Harris</td><td>0.85</td></tr><tr><td>Michael Carter-Williams</td><td>0.85</td></tr><tr><td>Obinna Ekezie</td><td>0.85</td></tr><tr><td>Adam Morrison</td><td>0.85</td></tr><tr><td>Rashad Vaughn</td><td>0.85</td></tr><tr><td>Sean Rooks</td><td>0.85</td></tr><tr><td>Killian Hayes</td><td>0.85</td></tr><tr><td>Rick Brunson</td><td>0.85</td></tr><tr><td>Jerome Kersey</td><td>0.84</td></tr><tr><td>Johnny O'Bryant III</td><td>0.84</td></tr><tr><td>Bimbo Coles</td><td>0.84</td></tr><tr><td>Bernard Robinson</td><td>0.84</td></tr><tr><td>Loren Woods</td><td>0.84</td></tr><tr><td>Tariq Abdul-Wahad</td><td>0.84</td></tr><tr><td>Chris Singleton</td><td>0.84</td></tr><tr><td>Todd Fuller</td><td>0.84</td></tr><tr><td>Dominic McGuire</td><td>0.84</td></tr><tr><td>Robert Pack</td><td>0.84</td></tr><tr><td>Mark Hendrickson</td><td>0.84</td></tr><tr><td>Tierre Brown</td><td>0.83</td></tr><tr><td>Chris Anstey</td><td>0.83</td></tr><tr><td>Pat Burke</td><td>0.83</td></tr><tr><td>Vincent Yarbrough</td><td>0.83</td></tr><tr><td>Khalid El-Amin</td><td>0.83</td></tr><tr><td>Jabari Smith</td><td>0.83</td></tr><tr><td>Andrew Lang</td><td>0.83</td></tr><tr><td>Harvey Grant</td><td>0.83</td></tr><tr><td>Dajuan Wagner</td><td>0.83</td></tr><tr><td>Chris Dudley</td><td>0.83</td></tr><tr><td>Brevin Knight</td><td>0.83</td></tr><tr><td>Speedy Claxton</td><td>0.83</td></tr><tr><td>Kevin Ollie</td><td>0.82</td></tr><tr><td>Bobby Hurley</td><td>0.82</td></tr><tr><td>Roshown McLeod</td><td>0.82</td></tr><tr><td>Tony Farmer</td><td>0.82</td></tr><tr><td>Pooh Richardson</td><td>0.82</td></tr><tr><td>Jason Collins</td><td>0.82</td></tr><tr><td>Michael Ruffin</td><td>0.81</td></tr><tr><td>John Amaechi</td><td>0.81</td></tr><tr><td>Justin Reed</td><td>0.81</td></tr><tr><td>Sharone Wright</td><td>0.81</td></tr><tr><td>Rafael Araujo</td><td>0.81</td></tr><tr><td>Mardy Collins</td><td>0.81</td></tr><tr><td>Roko Ukic</td><td>0.81</td></tr><tr><td>Cal Bowdler</td><td>0.81</td></tr><tr><td>Dan Langhi</td><td>0.81</td></tr><tr><td>Orien Greene</td><td>0.81</td></tr><tr><td>Tyus Edney</td><td>0.81</td></tr><tr><td>Jalen Suggs</td><td>0.8</td></tr><tr><td>Randy Brown</td><td>0.8</td></tr><tr><td>Mateen Cleaves</td><td>0.8</td></tr><tr><td>Joe Kleine</td><td>0.79</td></tr><tr><td>Phil Pressey</td><td>0.78</td></tr><tr><td>Chris Porter</td><td>0.78</td></tr><tr><td>Xavier McDaniel</td><td>0.78</td></tr><tr><td>Junior Harrington</td><td>0.77</td></tr><tr><td>Keith McLeod</td><td>0.77</td></tr><tr><td>William Avery</td><td>0.76</td></tr><tr><td>Ed Gray</td><td>0.76</td></tr><tr><td>Kevin Edwards</td><td>0.75</td></tr><tr><td>Earl Barron</td><td>0.75</td></tr><tr><td>Kenny Satterfield</td><td>0.7</td></tr><tr><td>Rodrick Rhodes</td><td>0.7</td></tr><tr><td>Nikoloz Tskitishvili</td><td>0.68</td></tr></tbody></table></div>"
      ]
     },
     "metadata": {
      "application/vnd.databricks.v1+output": {
       "addedWidgets": {},
       "aggData": [],
       "aggError": "",
       "aggOverflow": false,
       "aggSchema": [],
       "aggSeriesLimitReached": false,
       "aggType": "",
       "arguments": {},
       "columnCustomDisplayInfos": {},
       "data": [
        [
         "Robert Williams III",
         1.46
        ],
        [
         "Mitchell Robinson",
         1.44
        ],
        [
         "Daniel Gafford",
         1.38
        ],
        [
         "DeAndre Jordan",
         1.35
        ],
        [
         "Damian Jones",
         1.35
        ],
        [
         "Onyeka Okongwu",
         1.34
        ],
        [
         "Rudy Gobert",
         1.31
        ],
        [
         "Nic Claxton",
         1.3
        ],
        [
         "Jaxson Hayes",
         1.3
        ],
        [
         "Tony Bradley",
         1.27
        ],
        [
         "Jarrett Allen",
         1.26
        ],
        [
         "Thomas Bryant",
         1.26
        ],
        [
         "Jakob Poeltl",
         1.26
        ],
        [
         "Clint Capela",
         1.25
        ],
        [
         "Montrezl Harrell",
         1.24
        ],
        [
         "Richaun Holmes",
         1.23
        ],
        [
         "Salah Mejri",
         1.23
        ],
        [
         "Isaiah Hartenstein",
         1.23
        ],
        [
         "Dwight Powell",
         1.22
        ],
        [
         "Michael Porter Jr.",
         1.22
        ],
        [
         "Duncan Robinson",
         1.22
        ],
        [
         "Joe Harris",
         1.22
        ],
        [
         "Brandon Clarke",
         1.22
        ],
        [
         "Zion Williamson",
         1.22
        ],
        [
         "John Konchar",
         1.22
        ],
        [
         "Brandan Wright",
         1.21
        ],
        [
         "Steve Novak",
         1.21
        ],
        [
         "Deandre Ayton",
         1.2
        ],
        [
         "Gary Payton II",
         1.2
        ],
        [
         "John Collins",
         1.2
        ],
        [
         "Max Strus",
         1.2
        ],
        [
         "Deyonta Davis",
         1.2
        ],
        [
         "Andris Biedrins",
         1.19
        ],
        [
         "Cheick Diallo",
         1.19
        ],
        [
         "Juan Toscano-Anderson",
         1.19
        ],
        [
         "Drew Eubanks",
         1.19
        ],
        [
         "Jarred Vanderbilt",
         1.19
        ],
        [
         "Willie Reed",
         1.19
        ],
        [
         "Ivica Zubac",
         1.19
        ],
        [
         "Tyson Chandler",
         1.19
        ],
        [
         "Seth Curry",
         1.18
        ],
        [
         "Daniel Theis",
         1.18
        ],
        [
         "Dwight Howard",
         1.18
        ],
        [
         "Mikal Bridges",
         1.18
        ],
        [
         "Steven Adams",
         1.17
        ],
        [
         "Mason Plumlee",
         1.17
        ],
        [
         "Shaquille O'Neal",
         1.17
        ],
        [
         "Hassan Whiteside",
         1.17
        ],
        [
         "Ayo Dosunmu",
         1.17
        ],
        [
         "Joe Ingles",
         1.17
        ],
        [
         "Boban Marjanovic",
         1.16
        ],
        [
         "Christian Wood",
         1.16
        ],
        [
         "Javonte Green",
         1.16
        ],
        [
         "Obi Toppin",
         1.16
        ],
        [
         "Ante Zizic",
         1.16
        ],
        [
         "Stephen Curry",
         1.16
        ],
        [
         "Gheorghe Muresan",
         1.16
        ],
        [
         "Amir Johnson",
         1.16
        ],
        [
         "Kenyon Martin Jr.",
         1.16
        ],
        [
         "Nikola Jokic",
         1.16
        ],
        [
         "Davis Bertans",
         1.16
        ],
        [
         "Ryan Hollins",
         1.15
        ],
        [
         "Georges Niang",
         1.15
        ],
        [
         "Greg Oden",
         1.15
        ],
        [
         "Fabricio Oberto",
         1.15
        ],
        [
         "JaVale McGee",
         1.15
        ],
        [
         "Karl-Anthony Towns",
         1.15
        ],
        [
         "Jeremy Evans",
         1.15
        ],
        [
         "Jonas Valanciunas",
         1.15
        ],
        [
         "Kyle Korver",
         1.15
        ],
        [
         "Matt Bonner",
         1.14
        ],
        [
         "Ed Davis",
         1.14
        ],
        [
         "Dean Wade",
         1.14
        ],
        [
         "Cameron Johnson",
         1.14
        ],
        [
         "Bo Outlaw",
         1.14
        ],
        [
         "Desmond Bane",
         1.14
        ],
        [
         "Doug McDermott",
         1.14
        ],
        [
         "Kevon Looney",
         1.14
        ],
        [
         "Brent Barry",
         1.14
        ],
        [
         "Cristiano Felicio",
         1.14
        ],
        [
         "Chris Mullin",
         1.14
        ],
        [
         "Tyrese Haliburton",
         1.13
        ],
        [
         "Luke Kennard",
         1.13
        ],
        [
         "Corey Kispert",
         1.13
        ],
        [
         "Dewayne Dedmon",
         1.13
        ],
        [
         "Payton Pritchard",
         1.13
        ],
        [
         "Matt Thomas",
         1.13
        ],
        [
         "Meyers Leonard",
         1.13
        ],
        [
         "Royce O'Neale",
         1.13
        ],
        [
         "Andrew Bynum",
         1.13
        ],
        [
         "Jonathan Kuminga",
         1.13
        ],
        [
         "Larry Nance Jr.",
         1.12
        ],
        [
         "Pat Connaughton",
         1.12
        ],
        [
         "Steven Hunter",
         1.12
        ],
        [
         "Carlos Rogers",
         1.12
        ],
        [
         "O.G. Anunoby",
         1.12
        ],
        [
         "Steve Kerr",
         1.12
        ],
        [
         "Garrison Mathews",
         1.12
        ],
        [
         "Giannis Antetokounmpo",
         1.12
        ],
        [
         "Derrick Jones Jr.",
         1.12
        ],
        [
         "Bam Adebayo",
         1.12
        ],
        [
         "Ivan Rabb",
         1.12
        ],
        [
         "Grayson Allen",
         1.12
        ],
        [
         "Ben Simmons",
         1.12
        ],
        [
         "Maxi Kleber",
         1.11
        ],
        [
         "JJ Redick",
         1.11
        ],
        [
         "Henry Walker",
         1.11
        ],
        [
         "Moses Brown",
         1.11
        ],
        [
         "Domantas Sabonis",
         1.11
        ],
        [
         "Otto Porter Jr.",
         1.11
        ],
        [
         "Steve Nash",
         1.11
        ],
        [
         "Jeff Ayres",
         1.11
        ],
        [
         "Tiago Splitter",
         1.11
        ],
        [
         "Jordan Bell",
         1.11
        ],
        [
         "Kelly Olynyk",
         1.11
        ],
        [
         "Bryn Forbes",
         1.11
        ],
        [
         "Mychal Mulder",
         1.11
        ],
        [
         "Nemanja Bjelica",
         1.11
        ],
        [
         "Craig Smith",
         1.11
        ],
        [
         "Mike Muscala",
         1.11
        ],
        [
         "Pablo Prigioni",
         1.11
        ],
        [
         "Moritz Wagner",
         1.11
        ],
        [
         "Enes Freedom",
         1.1
        ],
        [
         "Damjan Rudez",
         1.1
        ],
        [
         "Tarik Black",
         1.1
        ],
        [
         "Amir Coffey",
         1.1
        ],
        [
         "Tony Snell",
         1.1
        ],
        [
         "Dorian Finney-Smith",
         1.1
        ],
        [
         "Jared Dudley",
         1.1
        ],
        [
         "Marcin Gortat",
         1.1
        ],
        [
         "Danny Green",
         1.1
        ],
        [
         "Nene",
         1.1
        ],
        [
         "Chris Boucher",
         1.1
        ],
        [
         "Grant Williams",
         1.1
        ],
        [
         "Isaiah Stewart",
         1.1
        ],
        [
         "Darius Miller",
         1.1
        ],
        [
         "Jalen Brunson",
         1.1
        ],
        [
         "Jalen Smith",
         1.1
        ],
        [
         "Joel Przybilla",
         1.1
        ],
        [
         "Reggie Bullock",
         1.1
        ],
        [
         "Klay Thompson",
         1.1
        ],
        [
         "Monte Morris",
         1.1
        ],
        [
         "Nerlens Noel",
         1.1
        ],
        [
         "Quinn Cook",
         1.1
        ],
        [
         "Landry Shamet",
         1.1
        ],
        [
         "Mikki Moore",
         1.1
        ],
        [
         "Serge Ibaka",
         1.1
        ],
        [
         "Kenneth Faried",
         1.1
        ],
        [
         "Naz Reid",
         1.1
        ],
        [
         "Mike Miller",
         1.09
        ],
        [
         "Eddy Curry",
         1.09
        ],
        [
         "Jae'Sean Tate",
         1.09
        ],
        [
         "Terance Mann",
         1.09
        ],
        [
         "Jalen McDaniels",
         1.09
        ],
        [
         "Bojan Bogdanovic",
         1.09
        ],
        [
         "Al Horford",
         1.09
        ],
        [
         "Kevin Durant",
         1.09
        ],
        [
         "Milos Teodosic",
         1.09
        ],
        [
         "John Stockton",
         1.09
        ],
        [
         "Mo Bamba",
         1.09
        ],
        [
         "Josh Boone",
         1.09
        ],
        [
         "John Henson",
         1.09
        ],
        [
         "Xavier Tillman",
         1.09
        ],
        [
         "Willy Hernangomez",
         1.09
        ],
        [
         "Josh Hart",
         1.09
        ],
        [
         "Jahlil Okafor",
         1.09
        ],
        [
         "Malik Beasley",
         1.09
        ],
        [
         "Troy Daniels",
         1.09
        ],
        [
         "Patrick Williams",
         1.09
        ],
        [
         "Norman Powell",
         1.09
        ],
        [
         "Willie Cauley-Stein",
         1.09
        ],
        [
         "Isaiah Roby",
         1.09
        ],
        [
         "Kawhi Leonard",
         1.09
        ],
        [
         "Miles Bridges",
         1.09
        ],
        [
         "Andre Drummond",
         1.08
        ],
        [
         "Kendrick Nunn",
         1.08
        ],
        [
         "Walter Herrmann",
         1.08
        ],
        [
         "P.J. Washington",
         1.08
        ],
        [
         "Bogdan Bogdanovic",
         1.08
        ],
        [
         "Matisse Thybulle",
         1.08
        ],
        [
         "Amar'e Stoudemire",
         1.08
        ],
        [
         "Jose Calderon",
         1.08
        ],
        [
         "Josh Green",
         1.08
        ],
        [
         "Josh Childress",
         1.08
        ],
        [
         "Robin Lopez",
         1.08
        ],
        [
         "Buddy Hield",
         1.08
        ],
        [
         "Danuel House Jr.",
         1.08
        ],
        [
         "Patty Mills",
         1.08
        ],
        [
         "Chris Wilcox",
         1.08
        ],
        [
         "Wesley Person",
         1.08
        ],
        [
         "Austin Reaves",
         1.08
        ],
        [
         "Jaylen Brown",
         1.08
        ],
        [
         "Keldon Johnson",
         1.08
        ],
        [
         "Jelani McCoy",
         1.08
        ],
        [
         "Ryan Arcidiacono",
         1.08
        ],
        [
         "Wendell Carter Jr.",
         1.08
        ],
        [
         "Torrey Craig",
         1.08
        ],
        [
         "Todd MacCulloch",
         1.08
        ],
        [
         "Miles Plumlee",
         1.08
        ],
        [
         "Ziaire Williams",
         1.08
        ],
        [
         "LeBron James",
         1.08
        ],
        [
         "Terence Davis",
         1.08
        ],
        [
         "Anthony Morrow",
         1.08
        ],
        [
         "Gustavo Ayon",
         1.08
        ],
        [
         "Jaden McDaniels",
         1.07
        ],
        [
         "T.J. Warren",
         1.07
        ],
        [
         "Jon Barry",
         1.07
        ],
        [
         "Derrick Favors",
         1.07
        ],
        [
         "Alfonzo McKinnie",
         1.07
        ],
        [
         "Carl Landry",
         1.07
        ],
        [
         "Terry Mills",
         1.07
        ],
        [
         "Dale Ellis",
         1.07
        ],
        [
         "Evan Fournier",
         1.07
        ],
        [
         "Damon Jones",
         1.07
        ],
        [
         "Kevin Huerter",
         1.07
        ],
        [
         "JaMychal Green",
         1.07
        ],
        [
         "Mario Elie",
         1.07
        ],
        [
         "Alonzo Mourning",
         1.07
        ],
        [
         "Kosta Koufos",
         1.07
        ],
        [
         "Chris Andersen",
         1.07
        ],
        [
         "James Ennis III",
         1.07
        ],
        [
         "Eric Paschall",
         1.07
        ],
        [
         "Timofey Mozgov",
         1.07
        ],
        [
         "Myles Turner",
         1.07
        ],
        [
         "Andrew Bogut",
         1.07
        ],
        [
         "Ronny Turiaf",
         1.07
        ],
        [
         "Nick Collison",
         1.07
        ],
        [
         "David Lee",
         1.07
        ],
        [
         "Ian Mahinmi",
         1.07
        ],
        [
         "Chandler Parsons",
         1.07
        ],
        [
         "Tyrese Maxey",
         1.07
        ],
        [
         "James Wiseman",
         1.07
        ],
        [
         "Thanasis Antetokounmpo",
         1.06
        ],
        [
         "Kendrick Perkins",
         1.06
        ],
        [
         "James Jones",
         1.06
        ],
        [
         "Pascal Siakam",
         1.06
        ],
        [
         "Nassir Little",
         1.06
        ],
        [
         "Kyrie Irving",
         1.06
        ],
        [
         "Caleb Martin",
         1.06
        ],
        [
         "Edmond Sumner",
         1.06
        ],
        [
         "Anfernee Simons",
         1.06
        ],
        [
         "Anthony Tolliver",
         1.06
        ],
        [
         "Ray Allen",
         1.06
        ],
        [
         "Shane Battier",
         1.06
        ],
        [
         "Matt Bullard",
         1.06
        ],
        [
         "Luke Babbitt",
         1.06
        ],
        [
         "George Hill",
         1.06
        ],
        [
         "Terry Porter",
         1.06
        ],
        [
         "Henry James",
         1.06
        ],
        [
         "T.J. Leaf",
         1.06
        ],
        [
         "Zach LaVine",
         1.06
        ],
        [
         "David Harrison",
         1.06
        ],
        [
         "Joe Dumars",
         1.06
        ],
        [
         "Lauri Markkanen",
         1.06
        ],
        [
         "Bismack Biyombo",
         1.06
        ],
        [
         "Anthony Davis",
         1.06
        ],
        [
         "Eric Piatkowski",
         1.06
        ],
        [
         "Luka Doncic",
         1.06
        ],
        [
         "Peja Stojakovic",
         1.06
        ],
        [
         "Brendan Haywood",
         1.06
        ],
        [
         "Mike Scott",
         1.06
        ],
        [
         "Allen Crabbe",
         1.06
        ],
        [
         "Will Perdue",
         1.06
        ],
        [
         "Thaddeus Young",
         1.06
        ],
        [
         "Reggie Miller",
         1.06
        ],
        [
         "Tobias Harris",
         1.05
        ],
        [
         "John Jenkins",
         1.05
        ],
        [
         "Terrence Jones",
         1.05
        ],
        [
         "Rashard Lewis",
         1.05
        ],
        [
         "Juancho Hernangomez",
         1.05
        ],
        [
         "Don Reid",
         1.05
        ],
        [
         "Brook Lopez",
         1.05
        ],
        [
         "Jabari Parker",
         1.05
        ],
        [
         "Chris Paul",
         1.05
        ],
        [
         "Kyle O'Quinn",
         1.05
        ],
        [
         "Gorgui Dieng",
         1.05
        ],
        [
         "Jeff Hornacek",
         1.05
        ],
        [
         "Derrick Brown",
         1.05
        ],
        [
         "Kenrich Williams",
         1.05
        ],
        [
         "Leandro Barbosa",
         1.05
        ],
        [
         "Jake Layman",
         1.05
        ],
        [
         "Sam Dekker",
         1.05
        ],
        [
         "Carlos Boozer",
         1.05
        ],
        [
         "CJ McCollum",
         1.05
        ],
        [
         "Scottie Barnes",
         1.05
        ],
        [
         "Khem Birch",
         1.05
        ],
        [
         "Cole Aldrich",
         1.05
        ],
        [
         "Tomas Satoransky",
         1.05
        ],
        [
         "Byron Scott",
         1.05
        ],
        [
         "David Nwaba",
         1.05
        ],
        [
         "Joel Embiid",
         1.05
        ],
        [
         "Trevor Booker",
         1.05
        ],
        [
         "Hersey Hawkins",
         1.05
        ],
        [
         "Jeff Withey",
         1.05
        ],
        [
         "James Harden",
         1.05
        ],
        [
         "Herbert Jones",
         1.05
        ],
        [
         "Malcolm Brogdon",
         1.05
        ],
        [
         "Alex Abrines",
         1.05
        ],
        [
         "Patrick Patterson",
         1.05
        ],
        [
         "Khris Middleton",
         1.05
        ],
        [
         "Zeljko Rebraca",
         1.05
        ],
        [
         "Alex Len",
         1.05
        ],
        [
         "Yao Ming",
         1.05
        ],
        [
         "Brent Price",
         1.05
        ],
        [
         "Dell Curry",
         1.05
        ],
        [
         "E'Twaun Moore",
         1.05
        ],
        [
         "Mirza Teletovic",
         1.05
        ],
        [
         "Gary Harris",
         1.05
        ],
        [
         "Anthony Parker",
         1.05
        ],
        [
         "Marvin Bagley III",
         1.05
        ],
        [
         "Jan Vesely",
         1.05
        ],
        [
         "Boris Diaw",
         1.05
        ],
        [
         "Omer Asik",
         1.05
        ],
        [
         "Damion Lee",
         1.05
        ],
        [
         "Bobby Portis",
         1.05
        ],
        [
         "Justin Hamilton",
         1.05
        ],
        [
         "Wally Szczerbiak",
         1.05
        ],
        [
         "Maurice Harkless",
         1.05
        ],
        [
         "Hubert Davis",
         1.05
        ],
        [
         "Jayson Tatum",
         1.05
        ],
        [
         "Ryan Anderson",
         1.05
        ],
        [
         "Nicolas Batum",
         1.05
        ],
        [
         "Cody Zeller",
         1.05
        ],
        [
         "Buck Williams",
         1.05
        ],
        [
         "Aaron Wiggins",
         1.05
        ],
        [
         "Tristan Thompson",
         1.04
        ],
        [
         "Eric Gordon",
         1.04
        ],
        [
         "Jamal Murray",
         1.04
        ],
        [
         "Michael Smith",
         1.04
        ],
        [
         "Brandon Rush",
         1.04
        ],
        [
         "Goga Bitadze",
         1.04
        ],
        [
         "Cody Martin",
         1.04
        ],
        [
         "Nikola Mirotic",
         1.04
        ],
        [
         "Damian Lillard",
         1.04
        ],
        [
         "Samuel Dalembert",
         1.04
        ],
        [
         "Wayne Ellington",
         1.04
        ],
        [
         "Kyle Kuzma",
         1.04
        ],
        [
         "Bones Hyland",
         1.04
        ],
        [
         "Manu Ginobili",
         1.04
        ],
        [
         "Darvin Ham",
         1.04
        ],
        [
         "Joel Anthony",
         1.04
        ],
        [
         "Sterling Brown",
         1.04
        ],
        [
         "Andre Roberson",
         1.04
        ],
        [
         "Ruben Patterson",
         1.04
        ],
        [
         "Renaldo Balkman",
         1.04
        ],
        [
         "Malik Monk",
         1.04
        ],
        [
         "Dana Barros",
         1.04
        ],
        [
         "Jonas Jerebko",
         1.04
        ],
        [
         "Glenn Robinson III",
         1.04
        ],
        [
         "Tyler Herro",
         1.04
        ],
        [
         "Wesley Matthews",
         1.04
        ],
        [
         "Robert Covington",
         1.04
        ],
        [
         "Jaylen Nowell",
         1.04
        ],
        [
         "Gary Trent Jr.",
         1.04
        ],
        [
         "Patrick Beverley",
         1.04
        ],
        [
         "Nikola Pekovic",
         1.04
        ],
        [
         "Ivan Johnson",
         1.04
        ],
        [
         "Kevin Johnson",
         1.04
        ],
        [
         "Raul Neto",
         1.04
        ],
        [
         "Kelenna Azubuike",
         1.04
        ],
        [
         "DeJuan Blair",
         1.04
        ],
        [
         "Taj Gibson",
         1.04
        ],
        [
         "Omri Casspi",
         1.04
        ],
        [
         "Nikola Vucevic",
         1.04
        ],
        [
         "Terrance Ferguson",
         1.04
        ],
        [
         "T.J. McConnell",
         1.04
        ],
        [
         "Jamario Moon",
         1.04
        ],
        [
         "Jaren Jackson Jr.",
         1.04
        ],
        [
         "Bradley Beal",
         1.04
        ],
        [
         "Richie Frahm",
         1.04
        ],
        [
         "Evan Mobley",
         1.04
        ],
        [
         "Channing Frye",
         1.03
        ],
        [
         "Oliver Miller",
         1.03
        ],
        [
         "Darius Garland",
         1.03
        ],
        [
         "Darren Collison",
         1.03
        ],
        [
         "Cedi Osman",
         1.03
        ],
        [
         "Devin Booker",
         1.03
        ],
        [
         "Mickael Pietrus",
         1.03
        ],
        [
         "Tim Hardaway Jr.",
         1.03
        ],
        [
         "Pau Gasol",
         1.03
        ],
        [
         "Aaron Gray",
         1.03
        ],
        [
         "Matt Barnes",
         1.03
        ],
        [
         "Dale Davis",
         1.03
        ],
        [
         "Landry Fields",
         1.03
        ],
        [
         "Shai Gilgeous-Alexander",
         1.03
        ],
        [
         "Danny Ferry",
         1.03
        ],
        [
         "Rui Hachimura",
         1.03
        ],
        [
         "Raja Bell",
         1.03
        ],
        [
         "Dikembe Mutombo",
         1.03
        ],
        [
         "Donte DiVincenzo",
         1.03
        ],
        [
         "Etan Thomas",
         1.03
        ],
        [
         "Fred Hoiberg",
         1.03
        ],
        [
         "Franz Wagner",
         1.03
        ],
        [
         "Dario Saric",
         1.03
        ],
        [
         "Jordan McLaughlin",
         1.03
        ],
        [
         "Ben McLemore",
         1.03
        ],
        [
         "Mike Dunleavy",
         1.03
        ],
        [
         "Paul Millsap",
         1.03
        ],
        [
         "Blake Griffin",
         1.03
        ],
        [
         "Jason Kapono",
         1.03
        ],
        [
         "Greg Monroe",
         1.03
        ],
        [
         "Luther Head",
         1.03
        ],
        [
         "Jon Leuer",
         1.03
        ],
        [
         "James Johnson",
         1.03
        ],
        [
         "Harry Giles III",
         1.03
        ],
        [
         "Quincy Acy",
         1.03
        ],
        [
         "Goran Dragic",
         1.03
        ],
        [
         "Leon Powe",
         1.03
        ],
        [
         "Bruce Brown",
         1.03
        ],
        [
         "Jae Crowder",
         1.03
        ],
        [
         "Paul George",
         1.03
        ],
        [
         "Arron Afflalo",
         1.03
        ],
        [
         "Festus Ezeli",
         1.03
        ],
        [
         "Courtney Lee",
         1.03
        ],
        [
         "Harrison Barnes",
         1.03
        ],
        [
         "Chris Copeland",
         1.03
        ],
        [
         "Raef LaFrentz",
         1.03
        ],
        [
         "Jason Terry",
         1.03
        ],
        [
         "Martell Webster",
         1.03
        ],
        [
         "Hollis Thompson",
         1.03
        ],
        [
         "Brooks Thompson",
         1.03
        ],
        [
         "Aaron Nesmith",
         1.03
        ],
        [
         "Rodions Kurucs",
         1.03
        ],
        [
         "Danilo Gallinari",
         1.03
        ],
        [
         "Kyle Anderson",
         1.03
        ],
        [
         "Ervin Johnson",
         1.03
        ],
        [
         "Matt Maloney",
         1.02
        ],
        [
         "Tony Parker",
         1.02
        ],
        [
         "Ike Diogu",
         1.02
        ],
        [
         "Rudy Fernandez",
         1.02
        ],
        [
         "Taurean Prince",
         1.02
        ],
        [
         "JR Smith",
         1.02
        ],
        [
         "P.J. Tucker",
         1.02
        ],
        [
         "Marcus Morris Sr.",
         1.02
        ],
        [
         "Mark Price",
         1.02
        ],
        [
         "Kyle Lowry",
         1.02
        ],
        [
         "Terrence Ross",
         1.02
        ],
        [
         "Sean Williams",
         1.02
        ],
        [
         "Donovan Mitchell",
         1.02
        ],
        [
         "Justin Holiday",
         1.02
        ],
        [
         "Mark Blount",
         1.02
        ],
        [
         "Dirk Nowitzki",
         1.02
        ],
        [
         "Kelly Oubre Jr.",
         1.02
        ],
        [
         "Jordan Poole",
         1.02
        ],
        [
         "DeMarre Carroll",
         1.02
        ],
        [
         "Trey Lyles",
         1.02
        ],
        [
         "Terry Rozier",
         1.02
        ],
        [
         "Luke Kornet",
         1.02
        ],
        [
         "Sam Perkins",
         1.02
        ],
        [
         "Daniel Gibson",
         1.02
        ],
        [
         "Aron Baynes",
         1.02
        ],
        [
         "Allonzo Trier",
         1.02
        ],
        [
         "Julian Wright",
         1.02
        ],
        [
         "Oshae Brissett",
         1.02
        ],
        [
         "Eddie Robinson",
         1.02
        ],
        [
         "Chimezie Metu",
         1.02
        ],
        [
         "Aaron Gordon",
         1.02
        ],
        [
         "Trae Young",
         1.02
        ],
        [
         "Jahidi White",
         1.02
        ],
        [
         "Sasha Danilovic",
         1.02
        ],
        [
         "Jerami Grant",
         1.02
        ],
        [
         "LaMelo Ball",
         1.02
        ],
        [
         "Anderson Varejao",
         1.02
        ],
        [
         "Abdel Nader",
         1.02
        ],
        [
         "Shawn Marion",
         1.02
        ],
        [
         "Ian Clark",
         1.02
        ],
        [
         "Gordon Hayward",
         1.02
        ],
        [
         "Furkan Korkmaz",
         1.02
        ],
        [
         "Mickael Gelabale",
         1.02
        ],
        [
         "Roger Mason Jr.",
         1.02
        ],
        [
         "Jalen Green",
         1.02
        ],
        [
         "Emeka Okafor",
         1.02
        ],
        [
         "Rodney McGruder",
         1.02
        ],
        [
         "Vladimir Radmanovic",
         1.02
        ],
        [
         "Anthony Edwards",
         1.02
        ],
        [
         "Kyle Weaver",
         1.02
        ],
        [
         "Derrick White",
         1.02
        ],
        [
         "Delon Wright",
         1.02
        ],
        [
         "Donatas Motiejunas",
         1.02
        ],
        [
         "Maurice Evans",
         1.02
        ],
        [
         "DJ White",
         1.02
        ],
        [
         "Andre Iguodala",
         1.02
        ],
        [
         "Ja Morant",
         1.02
        ],
        [
         "Thabo Sefolosha",
         1.02
        ],
        [
         "Shake Milton",
         1.02
        ],
        [
         "Otis Thorpe",
         1.02
        ],
        [
         "Skal Labissiere",
         1.02
        ],
        [
         "Richard Jefferson",
         1.02
        ],
        [
         "Svi Mykhailiuk",
         1.02
        ],
        [
         "Dan Majerle",
         1.02
        ],
        [
         "Marco Belinelli",
         1.02
        ],
        [
         "Jrue Holiday",
         1.02
        ],
        [
         "Keita Bates-Diop",
         1.02
        ],
        [
         "DeAndre' Bembry",
         1.02
        ],
        [
         "Devin Vassell",
         1.02
        ],
        [
         "Jameer Nelson",
         1.01
        ],
        [
         "Tyler Zeller",
         1.01
        ],
        [
         "Yogi Ferrell",
         1.01
        ],
        [
         "Rasheed Wallace",
         1.01
        ],
        [
         "Justin Jackson",
         1.01
        ],
        [
         "Zach Collins",
         1.01
        ],
        [
         "Lamar Stevens",
         1.01
        ],
        [
         "Lawrence Funderburke",
         1.01
        ],
        [
         "Mehmet Okur",
         1.01
        ],
        [
         "Lonzo Ball",
         1.01
        ],
        [
         "Dee Brown",
         1.01
        ],
        [
         "Collin Sexton",
         1.01
        ],
        [
         "Brandon Ingram",
         1.01
        ],
        [
         "Alan Williams",
         1.01
        ],
        [
         "Dante Cunningham",
         1.01
        ],
        [
         "Josh Richardson",
         1.01
        ],
        [
         "Pat Garrity",
         1.01
        ],
        [
         "Detlef Schrempf",
         1.01
        ],
        [
         "Danny Manning",
         1.01
        ],
        [
         "Jordan Clarkson",
         1.01
        ],
        [
         "Andrew DeClercq",
         1.01
        ],
        [
         "Michael Redd",
         1.01
        ],
        [
         "Terry Davis",
         1.01
        ],
        [
         "Eduardo Najera",
         1.01
        ],
        [
         "Josh Christopher",
         1.01
        ],
        [
         "Charlie Ward",
         1.01
        ],
        [
         "JJ Hickson",
         1.01
        ],
        [
         "De'Andre Hunter",
         1.01
        ],
        [
         "Gabe Vincent",
         1.01
        ],
        [
         "Fred VanVleet",
         1.01
        ],
        [
         "Kelvin Cato",
         1.01
        ],
        [
         "Ersan Ilyasova",
         1.01
        ],
        [
         "Saddiq Bey",
         1.01
        ],
        [
         "Arvydas Sabonis",
         1.01
        ],
        [
         "Hilton Armstrong",
         1.01
        ],
        [
         "Rick Fox",
         1.01
        ],
        [
         "Mike Conley",
         1.01
        ],
        [
         "Alexis Ajinca",
         1.01
        ],
        [
         "Ty Lawson",
         1.01
        ],
        [
         "Julius Randle",
         1.01
        ],
        [
         "Jeremiah Robinson-Earl",
         1.01
        ],
        [
         "Francisco Garcia",
         1.01
        ],
        [
         "Kevin Love",
         1.01
        ],
        [
         "Coby White",
         1.01
        ],
        [
         "Armoni Brooks",
         1.01
        ],
        [
         "Josh McRoberts",
         1.01
        ],
        [
         "Chris Duarte",
         1.01
        ],
        [
         "Isaiah Thomas",
         1.01
        ],
        [
         "Jusuf Nurkic",
         1.01
        ],
        [
         "Shabazz Muhammad",
         1.01
        ],
        [
         "Ronnie Brewer",
         1.01
        ],
        [
         "Tim Duncan",
         1.01
        ],
        [
         "Joffrey Lauvergne",
         1.01
        ],
        [
         "Juan Carlos Navarro",
         1.01
        ],
        [
         "Bison Dele",
         1.01
        ],
        [
         "Dorell Wright",
         1.01
        ],
        [
         "Marc Gasol",
         1.01
        ],
        [
         "Jordan Nwora",
         1.01
        ],
        [
         "Gerard King",
         1.01
        ],
        [
         "Rex Walters",
         1.01
        ],
        [
         "Damyean Dotson",
         1.01
        ],
        [
         "Gerald Green",
         1.01
        ],
        [
         "Eric Bledsoe",
         1.01
        ],
        [
         "Chris Bosh",
         1.01
        ],
        [
         "Jodie Meeks",
         1.01
        ],
        [
         "Beno Udrih",
         1.01
        ],
        [
         "Jordan Farmar",
         1.01
        ],
        [
         "Othella Harrington",
         1.01
        ],
        [
         "Chase Budinger",
         1.01
        ],
        [
         "Walt Williams",
         1.01
        ],
        [
         "Robert Swift",
         1.01
        ],
        [
         "Jevon Carter",
         1.01
        ],
        [
         "Kevin Porter Jr.",
         1.01
        ],
        [
         "Kentavious Caldwell-Pope",
         1.01
        ],
        [
         "Troy Williams",
         1.01
        ],
        [
         "Glen Rice",
         1.01
        ],
        [
         "Isaac Okoro",
         1.01
        ],
        [
         "Denzel Valentine",
         1.0
        ],
        [
         "Antonio McDyess",
         1.0
        ],
        [
         "Tre Jones",
         1.0
        ],
        [
         "Frank Jackson",
         1.0
        ],
        [
         "Draymond Green",
         1.0
        ],
        [
         "Eldridge Recasner",
         1.0
        ],
        [
         "Omari Spellman",
         1.0
        ],
        [
         "Tracy Murray",
         1.0
        ],
        [
         "Andrei Kirilenko",
         1.0
        ],
        [
         "Gary Trent",
         1.0
        ],
        [
         "Bryon Russell",
         1.0
        ],
        [
         "Danny Granger",
         1.0
        ],
        [
         "Deni Avdija",
         1.0
        ],
        [
         "Charles Barkley",
         1.0
        ],
        [
         "Delonte West",
         1.0
        ],
        [
         "De'Aaron Fox",
         1.0
        ],
        [
         "Mark Bryant",
         1.0
        ],
        [
         "Kevin Garnett",
         1.0
        ],
        [
         "Steve Blake",
         1.0
        ],
        [
         "Jeff Foster",
         1.0
        ],
        [
         "John Thomas",
         1.0
        ],
        [
         "David Robinson",
         1.0
        ],
        [
         "Precious Achiuwa",
         1.0
        ],
        [
         "Mario Chalmers",
         1.0
        ],
        [
         "LaMarcus Aldridge",
         1.0
        ],
        [
         "Luis Scola",
         1.0
        ],
        [
         "Alex Caruso",
         1.0
        ],
        [
         "Primoz Brezec",
         1.0
        ],
        [
         "JaKarr Sampson",
         1.0
        ],
        [
         "Frank Kaminsky",
         1.0
        ],
        [
         "Ben Gordon",
         1.0
        ],
        [
         "Marvin Williams",
         1.0
        ],
        [
         "Elton Brand",
         1.0
        ],
        [
         "Jeremy Lamb",
         1.0
        ],
        [
         "Thon Maker",
         1.0
        ],
        [
         "Rodney Hood",
         1.0
        ],
        [
         "Brandon Bass",
         1.0
        ],
        [
         "Jason Richardson",
         1.0
        ],
        [
         "Greg Buckner",
         1.0
        ],
        [
         "Dan Gadzuric",
         1.0
        ],
        [
         "Mindaugas Kuzminskas",
         1.0
        ],
        [
         "Alperen Sengun",
         1.0
        ],
        [
         "Paul Pierce",
         1.0
        ],
        [
         "Dragan Bender",
         1.0
        ],
        [
         "Hamidou Diallo",
         1.0
        ],
        [
         "Marquese Chriss",
         1.0
        ],
        [
         "Darius Songaila",
         1.0
        ],
        [
         "Avery Bradley",
         1.0
        ],
        [
         "Wilson Chandler",
         1.0
        ],
        [
         "Erick Dampier",
         1.0
        ],
        [
         "Keon Clark",
         1.0
        ],
        [
         "Gary Neal",
         1.0
        ],
        [
         "David West",
         1.0
        ],
        [
         "Rasho Nesterovic",
         1.0
        ],
        [
         "Anthony Mason",
         1.0
        ],
        [
         "Deron Williams",
         1.0
        ],
        [
         "Tyler Johnson",
         1.0
        ],
        [
         "Quincy Pondexter",
         1.0
        ],
        [
         "Kristaps Porzingis",
         1.0
        ],
        [
         "Trevor Ariza",
         1.0
        ],
        [
         "Eddie Jones",
         1.0
        ],
        [
         "Rashad McCants",
         1.0
        ],
        [
         "Marcus Thornton",
         1.0
        ],
        [
         "Will Barton",
         1.0
        ],
        [
         "Karl Malone",
         1.0
        ],
        [
         "Duane Washington Jr.",
         1.0
        ],
        [
         "Joey Graham",
         1.0
        ],
        [
         "Jud Buechler",
         1.0
        ],
        [
         "Jeff Green",
         1.0
        ],
        [
         "Brian Cook",
         1.0
        ],
        [
         "Jerome Williams",
         1.0
        ],
        [
         "Al Jefferson",
         1.0
        ],
        [
         "D.J. Wilson",
         1.0
        ],
        [
         "D'Angelo Russell",
         1.0
        ],
        [
         "Kevin Martin",
         1.0
        ],
        [
         "Linas Kleiza",
         1.0
        ],
        [
         "Chuck Hayes",
         1.0
        ],
        [
         "Langston Galloway",
         0.99
        ],
        [
         "Yuta Watanabe",
         0.99
        ],
        [
         "Nick Young",
         0.99
        ],
        [
         "Jumaine Jones",
         0.99
        ],
        [
         "Andrew Nicholson",
         0.99
        ],
        [
         "Hakim Warrick",
         0.99
        ],
        [
         "Trajan Langdon",
         0.99
        ],
        [
         "Semi Ojeleye",
         0.99
        ],
        [
         "D.J. Augustin",
         0.99
        ],
        [
         "CJ Miles",
         0.99
        ],
        [
         "De'Anthony Melton",
         0.99
        ],
        [
         "Morris Peterson",
         0.99
        ],
        [
         "Allan Houston",
         0.99
        ],
        [
         "Bruce Bowen",
         0.99
        ],
        [
         "Scottie Pippen",
         0.99
        ],
        [
         "O.J. Mayo",
         0.99
        ],
        [
         "Victor Oladipo",
         0.99
        ],
        [
         "Mo Williams",
         0.99
        ],
        [
         "Joe Johnson",
         0.99
        ],
        [
         "Bostjan Nachbar",
         0.99
        ],
        [
         "Nate Robinson",
         0.99
        ],
        [
         "Tyus Jones",
         0.99
        ],
        [
         "Gerald Wallace",
         0.99
        ],
        [
         "Smush Parker",
         0.99
        ],
        [
         "Hedo Turkoglu",
         0.99
        ],
        [
         "Jason Maxiell",
         0.99
        ],
        [
         "Jordan Hill",
         0.99
        ],
        [
         "Nenad Krstic",
         0.99
        ],
        [
         "Jason Thompson",
         0.99
        ],
        [
         "Cameron Payne",
         0.99
        ],
        [
         "Voshon Lenard",
         0.99
        ],
        [
         "Lamar Odom",
         0.99
        ],
        [
         "Rodrigue Beaubois",
         0.99
        ],
        [
         "Carlos Delfino",
         0.99
        ],
        [
         "Sam Mack",
         0.99
        ],
        [
         "Mike Bibby",
         0.99
        ],
        [
         "Andres Nocioni",
         0.99
        ],
        [
         "Dwyane Wade",
         0.99
        ],
        [
         "Jonathan Isaac",
         0.99
        ],
        [
         "Hakeem Olajuwon",
         0.99
        ],
        [
         "Scot Pollard",
         0.99
        ],
        [
         "Travis Diener",
         0.99
        ],
        [
         "Brian Skinner",
         0.99
        ],
        [
         "Chasson Randle",
         0.99
        ],
        [
         "Tyronn Lue",
         0.99
        ],
        [
         "James Posey",
         0.99
        ],
        [
         "Charlie Villanueva",
         0.99
        ],
        [
         "Chauncey Billups",
         0.99
        ],
        [
         "Grant Hill",
         0.99
        ],
        [
         "Brad Miller",
         0.99
        ],
        [
         "Tim Thomas",
         0.99
        ],
        [
         "Aaron Williams",
         0.99
        ],
        [
         "Troy Murphy",
         0.99
        ],
        [
         "Rudy Gay",
         0.99
        ],
        [
         "Theo Ratliff",
         0.99
        ],
        [
         "Sherman Douglas",
         0.99
        ],
        [
         "Kerry Kittles",
         0.99
        ],
        [
         "Ty Jerome",
         0.99
        ],
        [
         "Jordan Hamilton",
         0.99
        ],
        [
         "B.J. Armstrong",
         0.99
        ],
        [
         "Tyrone Hill",
         0.99
        ],
        [
         "Matt Harpring",
         0.99
        ],
        [
         "Kyle Singler",
         0.99
        ],
        [
         "Jake Voskuhl",
         0.98
        ],
        [
         "Chucky Atkins",
         0.98
        ],
        [
         "Jerome Moiso",
         0.98
        ],
        [
         "Cory Joseph",
         0.98
        ],
        [
         "Corliss Williamson",
         0.98
        ],
        [
         "Isaiah Joe",
         0.98
        ],
        [
         "Greg Stiemsma",
         0.98
        ],
        [
         "Jeff Teague",
         0.98
        ],
        [
         "Shawne Williams",
         0.98
        ],
        [
         "Donyell Marshall",
         0.98
        ],
        [
         "Kevin Seraphin",
         0.98
        ],
        [
         "Rik Smits",
         0.98
        ],
        [
         "Bobby Simmons",
         0.98
        ],
        [
         "Shandon Anderson",
         0.98
        ],
        [
         "Lee Mayberry",
         0.98
        ],
        [
         "Mark Strickland",
         0.98
        ],
        [
         "John Crotty",
         0.98
        ],
        [
         "Andrew Wiggins",
         0.98
        ],
        [
         "Vince Carter",
         0.98
        ],
        [
         "Toney Douglas",
         0.98
        ],
        [
         "Kemba Walker",
         0.98
        ],
        [
         "Christian Laettner",
         0.98
        ],
        [
         "Eddie Johnson",
         0.98
        ],
        [
         "Udonis Haslem",
         0.98
        ],
        [
         "Anthony Peeler",
         0.98
        ],
        [
         "Aaron Brooks",
         0.98
        ],
        [
         "Chris Duhon",
         0.98
        ],
        [
         "Michael Finley",
         0.98
        ],
        [
         "Bobby Phills",
         0.98
        ],
        [
         "Tony Battie",
         0.98
        ],
        [
         "Gary Payton",
         0.98
        ],
        [
         "Gary Clark",
         0.98
        ],
        [
         "Keith Askins",
         0.98
        ],
        [
         "Immanuel Quickley",
         0.98
        ],
        [
         "Jimmy Butler",
         0.98
        ],
        [
         "Shawn Respert",
         0.98
        ],
        [
         "Austin Rivers",
         0.98
        ],
        [
         "Keith Bogans",
         0.98
        ],
        [
         "Garrett Temple",
         0.98
        ],
        [
         "Devonte' Graham",
         0.98
        ],
        [
         "Troy Brown Jr.",
         0.98
        ],
        [
         "Timothe Luwawu-Cabarrot",
         0.98
        ],
        [
         "Clyde Drexler",
         0.98
        ],
        [
         "Greg Anthony",
         0.98
        ],
        [
         "Ime Udoka",
         0.98
        ],
        [
         "Rodney Rogers",
         0.98
        ],
        [
         "Charlie Bell",
         0.98
        ],
        [
         "Ricky Pierce",
         0.98
        ],
        [
         "Chris Kaman",
         0.98
        ],
        [
         "Noah Vonleh",
         0.98
        ],
        [
         "Nicolo Melli",
         0.98
        ],
        [
         "Jake Tsakalidis",
         0.98
        ],
        [
         "Eddie House",
         0.98
        ],
        [
         "Brandon Roy",
         0.98
        ],
        [
         "Al Harrington",
         0.98
        ],
        [
         "Markieff Morris",
         0.98
        ],
        [
         "J.J. Barea",
         0.98
        ],
        [
         "Shaun Livingston",
         0.98
        ],
        [
         "Caris LeVert",
         0.98
        ],
        [
         "Nik Stauskas",
         0.98
        ],
        [
         "Kwame Brown",
         0.98
        ],
        [
         "Joakim Noah",
         0.98
        ],
        [
         "Larry Johnson",
         0.98
        ],
        [
         "Jason Caffey",
         0.97
        ],
        [
         "DerMarr Johnson",
         0.97
        ],
        [
         "Isaac Bonga",
         0.97
        ],
        [
         "Dennis Schroder",
         0.97
        ],
        [
         "MarShon Brooks",
         0.97
        ],
        [
         "Mitch Richmond",
         0.97
        ],
        [
         "Salim Stoudamire",
         0.97
        ],
        [
         "Vin Baker",
         0.97
        ],
        [
         "Vlade Divac",
         0.97
        ],
        [
         "Rajon Rondo",
         0.97
        ],
        [
         "Cuttino Mobley",
         0.97
        ],
        [
         "Luol Deng",
         0.97
        ],
        [
         "John Salmons",
         0.97
        ],
        [
         "Kurt Thomas",
         0.97
        ],
        [
         "Andrea Bargnani",
         0.97
        ],
        [
         "Pero Antic",
         0.97
        ],
        [
         "James Singleton",
         0.97
        ],
        [
         "Brian Grant",
         0.97
        ],
        [
         "Alan Anderson",
         0.97
        ],
        [
         "Greg Ostertag",
         0.97
        ],
        [
         "Chris Whitney",
         0.97
        ],
        [
         "Sarunas Jasikevicius",
         0.97
        ],
        [
         "Dennis Scott",
         0.97
        ],
        [
         "Robbie Hummel",
         0.97
        ],
        [
         "Gordan Giricek",
         0.97
        ],
        [
         "Jerome James",
         0.97
        ],
        [
         "Lonnie Walker IV",
         0.97
        ],
        [
         "Dillon Brooks",
         0.97
        ],
        [
         "Zan Tabak",
         0.97
        ],
        [
         "Roy Rogers",
         0.97
        ],
        [
         "Derrick Rose",
         0.97
        ],
        [
         "Carmelo Anthony",
         0.97
        ],
        [
         "Kenyon Martin",
         0.97
        ],
        [
         "Patrick McCaw",
         0.97
        ],
        [
         "Reggie Jackson",
         0.97
        ],
        [
         "Sean Kilpatrick",
         0.97
        ],
        [
         "C.J. Watson",
         0.97
        ],
        [
         "Jarrett Jack",
         0.97
        ],
        [
         "Jonathon Simmons",
         0.97
        ],
        [
         "Glenn Robinson",
         0.97
        ],
        [
         "Marreese Speights",
         0.97
        ],
        [
         "Monty Williams",
         0.97
        ],
        [
         "Kent Bazemore",
         0.97
        ],
        [
         "Michael Beasley",
         0.97
        ],
        [
         "Devin Harris",
         0.97
        ],
        [
         "Kelan Martin",
         0.97
        ],
        [
         "Chuma Okeke",
         0.97
        ],
        [
         "Adam Keefe",
         0.97
        ],
        [
         "Greg Anderson",
         0.97
        ],
        [
         "Luc Mbah a Moute",
         0.97
        ],
        [
         "Sasha Vujacic",
         0.97
        ],
        [
         "Rodney Carney",
         0.97
        ],
        [
         "Aaron Holiday",
         0.97
        ],
        [
         "Pete Chilcutt",
         0.97
        ],
        [
         "Muggsy Bogues",
         0.97
        ],
        [
         "Tony Allen",
         0.97
        ],
        [
         "Ryan Gomes",
         0.97
        ],
        [
         "Spencer Hawes",
         0.97
        ],
        [
         "Mike James",
         0.97
        ],
        [
         "Jaren Jackson",
         0.97
        ],
        [
         "Tayshaun Prince",
         0.97
        ],
        [
         "Chris Quinn",
         0.97
        ],
        [
         "Wayne Selden",
         0.97
        ],
        [
         "Dejounte Murray",
         0.97
        ],
        [
         "Michael Dickerson",
         0.97
        ],
        [
         "Nazr Mohammed",
         0.97
        ],
        [
         "Antawn Jamison",
         0.97
        ],
        [
         "Mario Hezonja",
         0.96
        ],
        [
         "Cedric Ceballos",
         0.96
        ],
        [
         "Sonny Weems",
         0.96
        ],
        [
         "Greivis Vasquez",
         0.96
        ],
        [
         "Scott Padgett",
         0.96
        ],
        [
         "Michael Kidd-Gilchrist",
         0.96
        ],
        [
         "Spencer Dinwiddie",
         0.96
        ],
        [
         "Alec Burks",
         0.96
        ],
        [
         "Tim Hardaway",
         0.96
        ],
        [
         "Chris Webber",
         0.96
        ],
        [
         "Anthony Goldwire",
         0.96
        ],
        [
         "David Andersen",
         0.96
        ],
        [
         "Derek Harper",
         0.96
        ],
        [
         "Doug Christie",
         0.96
        ],
        [
         "Matt Carroll",
         0.96
        ],
        [
         "Corey Maggette",
         0.96
        ],
        [
         "Larry Sanders",
         0.96
        ],
        [
         "Rex Chapman",
         0.96
        ],
        [
         "Luguentz Dort",
         0.96
        ],
        [
         "Antonio Daniels",
         0.96
        ],
        [
         "Bryant Reeves",
         0.96
        ],
        [
         "Brian Cardinal",
         0.96
        ],
        [
         "Stojko Vrankovic",
         0.96
        ],
        [
         "Zach Randolph",
         0.96
        ],
        [
         "Michael Bradley",
         0.96
        ],
        [
         "Jason Smith",
         0.96
        ],
        [
         "Jamaal Magloire",
         0.96
        ],
        [
         "Tom Hammonds",
         0.96
        ],
        [
         "Isaiah Canaan",
         0.96
        ],
        [
         "Francisco Elson",
         0.96
        ],
        [
         "DeMarcus Cousins",
         0.96
        ],
        [
         "Dean Garrett",
         0.96
        ],
        [
         "Toni Kukoc",
         0.96
        ],
        [
         "Casey Jacobsen",
         0.96
        ],
        [
         "Bruno Caboclo",
         0.96
        ],
        [
         "DeMar DeRozan",
         0.96
        ],
        [
         "Reggie Slater",
         0.96
        ],
        [
         "Justin Anderson",
         0.96
        ],
        [
         "Jamal Crawford",
         0.96
        ],
        [
         "Tarence Kinsey",
         0.96
        ],
        [
         "Shabazz Napier",
         0.96
        ],
        [
         "Darrell Armstrong",
         0.96
        ],
        [
         "Vitaly Potapenko",
         0.96
        ],
        [
         "Facundo Campazzo",
         0.96
        ],
        [
         "Monta Ellis",
         0.96
        ],
        [
         "Shareef Abdur-Rahim",
         0.96
        ],
        [
         "Rasual Butler",
         0.96
        ],
        [
         "Cam Thomas",
         0.96
        ],
        [
         "Keith Van Horn",
         0.96
        ],
        [
         "Jorge Garbajosa",
         0.96
        ],
        [
         "Kobe Bryant",
         0.96
        ],
        [
         "Zydrunas Ilgauskas",
         0.96
        ],
        [
         "Gilbert Arenas",
         0.96
        ],
        [
         "Wesley Johnson",
         0.96
        ],
        [
         "Qyntel Woods",
         0.96
        ],
        [
         "Kirk Snyder",
         0.96
        ],
        [
         "Talen Horton-Tucker",
         0.96
        ],
        [
         "Lou Williams",
         0.96
        ],
        [
         "Nick Anderson",
         0.96
        ],
        [
         "Sam Cassell",
         0.96
        ],
        [
         "Shelvin Mack",
         0.96
        ],
        [
         "Bonzi Wells",
         0.96
        ],
        [
         "Gary Forbes",
         0.96
        ],
        [
         "Kirk Hinrich",
         0.96
        ],
        [
         "Jason Williams",
         0.96
        ],
        [
         "Tyler Dorsey",
         0.96
        ],
        [
         "Jeremy Lin",
         0.96
        ],
        [
         "Randy Foye",
         0.96
        ],
        [
         "Cherokee Parks",
         0.96
        ],
        [
         "Ricky Davis",
         0.96
        ],
        [
         "Henry Sims",
         0.95
        ],
        [
         "Walter McCarty",
         0.95
        ],
        [
         "Lou Amundson",
         0.95
        ],
        [
         "Corie Blount",
         0.95
        ],
        [
         "Brandon Knight",
         0.95
        ],
        [
         "Robert Traylor",
         0.95
        ],
        [
         "Luke Ridnour",
         0.95
        ],
        [
         "Rony Seikaly",
         0.95
        ],
        [
         "David Wesley",
         0.95
        ],
        [
         "Chris Gatling",
         0.95
        ],
        [
         "Ben Wallace",
         0.95
        ],
        [
         "Hot Rod Williams",
         0.95
        ],
        [
         "Vinny Del Negro",
         0.95
        ],
        [
         "Robert Horry",
         0.95
        ],
        [
         "Darius Miles",
         0.95
        ],
        [
         "Daequan Cook",
         0.95
        ],
        [
         "Derrick Williams",
         0.95
        ],
        [
         "Shammond Williams",
         0.95
        ],
        [
         "Adonal Foyle",
         0.95
        ],
        [
         "Lance Stephenson",
         0.95
        ],
        [
         "Fred Jones",
         0.95
        ],
        [
         "Cartier Martin",
         0.95
        ],
        [
         "Davion Mitchell",
         0.95
        ],
        [
         "Jarvis Hayes",
         0.95
        ],
        [
         "James Robinson",
         0.95
        ],
        [
         "Johnny Newman",
         0.95
        ],
        [
         "Shane Larkin",
         0.95
        ],
        [
         "Quentin Richardson",
         0.95
        ],
        [
         "Olden Polynice",
         0.95
        ],
        [
         "George McCloud",
         0.95
        ],
        [
         "Lee Nailon",
         0.95
        ],
        [
         "Jordan McRae",
         0.95
        ],
        [
         "Loy Vaught",
         0.95
        ],
        [
         "Mahmoud Abdul-Rauf",
         0.95
        ],
        [
         "Jalen Rose",
         0.95
        ],
        [
         "Mark Jackson",
         0.95
        ],
        [
         "Von Wafer",
         0.95
        ],
        [
         "Al-Farouq Aminu",
         0.95
        ],
        [
         "Trey Burke",
         0.95
        ],
        [
         "Dante Exum",
         0.95
        ],
        [
         "Calbert Cheaney",
         0.95
        ],
        [
         "Chandler Hutchison",
         0.95
        ],
        [
         "Stromile Swift",
         0.95
        ],
        [
         "Lavoy Allen",
         0.95
        ],
        [
         "Stephen Graham",
         0.95
        ],
        [
         "Clifford Robinson",
         0.95
        ],
        [
         "Matthew Dellavedova",
         0.95
        ],
        [
         "Alonzo Gee",
         0.95
        ],
        [
         "Josh Howard",
         0.95
        ],
        [
         "Josh Smith",
         0.95
        ],
        [
         "Tre Mann",
         0.95
        ],
        [
         "Mitchell Butler",
         0.94
        ],
        [
         "Stephon Marbury",
         0.94
        ],
        [
         "Scott Burrell",
         0.94
        ],
        [
         "Darrell Arthur",
         0.94
        ],
        [
         "Emanual Davis",
         0.94
        ],
        [
         "Kendall Marshall",
         0.94
        ],
        [
         "Matt Geiger",
         0.94
        ],
        [
         "Jason Kidd",
         0.94
        ],
        [
         "Daniel Santiago",
         0.94
        ],
        [
         "Ky Bowman",
         0.94
        ],
        [
         "Aaron McKie",
         0.94
        ],
        [
         "Tracy McGrady",
         0.94
        ],
        [
         "Bobby Jackson",
         0.94
        ],
        [
         "Russell Westbrook",
         0.94
        ],
        [
         "Jarell Martin",
         0.94
        ],
        [
         "Keith Closs",
         0.94
        ],
        [
         "Antoine Carr",
         0.94
        ],
        [
         "Jim Jackson",
         0.94
        ],
        [
         "Terrell Brandon",
         0.94
        ],
        [
         "Khalid Reeves",
         0.94
        ],
        [
         "Armen Gilliam",
         0.94
        ],
        [
         "David Wingate",
         0.94
        ],
        [
         "Zaza Pachulia",
         0.94
        ],
        [
         "Caron Butler",
         0.94
        ],
        [
         "Chuck Person",
         0.94
        ],
        [
         "Nickeil Alexander-Walker",
         0.94
        ],
        [
         "Sergio Rodriguez",
         0.94
        ],
        [
         "P.J. Dozier",
         0.94
        ],
        [
         "Kenny Thomas",
         0.94
        ],
        [
         "Tyreke Evans",
         0.94
        ],
        [
         "Andre Miller",
         0.94
        ],
        [
         "Jerian Grant",
         0.94
        ],
        [
         "Jermaine Taylor",
         0.94
        ],
        [
         "Michael Jordan",
         0.94
        ],
        [
         "Andray Blatche",
         0.94
        ],
        [
         "Todd Day",
         0.94
        ],
        [
         "Solomon Jones",
         0.94
        ],
        [
         "Nick Calathes",
         0.94
        ],
        [
         "Austin Daye",
         0.94
        ],
        [
         "Elliot Perry",
         0.94
        ],
        [
         "Darius Bazley",
         0.94
        ],
        [
         "Richard Hamilton",
         0.94
        ],
        [
         "Cade Cunningham",
         0.94
        ],
        [
         "Markelle Fultz",
         0.94
        ],
        [
         "DJ Mbenga",
         0.94
        ],
        [
         "Danny Fortson",
         0.94
        ],
        [
         "Willie Green",
         0.94
        ],
        [
         "Avery Johnson",
         0.94
        ],
        [
         "Dion Waiters",
         0.94
        ],
        [
         "Solomon Hill",
         0.94
        ],
        [
         "Jerryd Bayless",
         0.94
        ],
        [
         "Lamond Murray",
         0.94
        ],
        [
         "Marcus Banks",
         0.94
        ],
        [
         "Felton Spencer",
         0.94
        ],
        [
         "Alan Henderson",
         0.94
        ],
        [
         "Treveon Graham",
         0.94
        ],
        [
         "Ira Newble",
         0.94
        ],
        [
         "Jimmer Fredette",
         0.94
        ],
        [
         "Elfrid Payton",
         0.94
        ],
        [
         "Shannon Brown",
         0.94
        ],
        [
         "Thomas Robinson",
         0.94
        ],
        [
         "Isaiah Rider",
         0.94
        ],
        [
         "Horace Grant",
         0.94
        ],
        [
         "Iman Shumpert",
         0.94
        ],
        [
         "Brian Roberts",
         0.94
        ],
        [
         "Marcus Camby",
         0.94
        ],
        [
         "Stanley Roberts",
         0.94
        ],
        [
         "RJ Barrett",
         0.94
        ],
        [
         "Stephen Jackson",
         0.94
        ],
        [
         "Derek Anderson",
         0.93
        ],
        [
         "Cory Alexander",
         0.93
        ],
        [
         "Maurice Taylor",
         0.93
        ],
        [
         "Derek Fisher",
         0.93
        ],
        [
         "Tyler Ennis",
         0.93
        ],
        [
         "Lance Thomas",
         0.93
        ],
        [
         "Brad Wanamaker",
         0.93
        ],
        [
         "KJ McDaniels",
         0.93
        ],
        [
         "Jared Sullinger",
         0.93
        ],
        [
         "Nick Van Exel",
         0.93
        ],
        [
         "Juwan Howard",
         0.93
        ],
        [
         "John Wallace",
         0.93
        ],
        [
         "Patrick Ewing",
         0.93
        ],
        [
         "Chris Morris",
         0.93
        ],
        [
         "Marcus Smart",
         0.93
        ],
        [
         "Mookie Blaylock",
         0.93
        ],
        [
         "Sean Elliott",
         0.93
        ],
        [
         "Chris Mills",
         0.93
        ],
        [
         "Duane Causwell",
         0.93
        ],
        [
         "Steve Francis",
         0.93
        ],
        [
         "Chris Carr",
         0.93
        ],
        [
         "Al Thornton",
         0.93
        ],
        [
         "Shaquille Harrison",
         0.93
        ],
        [
         "Howard Eisley",
         0.93
        ],
        [
         "Shawn Bradley",
         0.93
        ],
        [
         "Roy Hibbert",
         0.93
        ],
        [
         "Shelden Williams",
         0.93
        ],
        [
         "Raul Lopez",
         0.93
        ],
        [
         "DeAndre Liggins",
         0.93
        ],
        [
         "Lonny Baxter",
         0.93
        ],
        [
         "Jermaine O'Neal",
         0.93
        ],
        [
         "Lindsey Hunter",
         0.93
        ],
        [
         "Marquis Daniels",
         0.93
        ],
        [
         "P.J. Brown",
         0.93
        ],
        [
         "Kris Humphries",
         0.93
        ],
        [
         "Austin Croshere",
         0.93
        ],
        [
         "Marty Conlon",
         0.93
        ],
        [
         "Mark Davis",
         0.93
        ],
        [
         "Evan Eschmeyer",
         0.93
        ],
        [
         "Drew Gooden",
         0.93
        ],
        [
         "Antoine Wright",
         0.93
        ],
        [
         "Anthony Randolph",
         0.93
        ],
        [
         "R.J. Hampton",
         0.93
        ],
        [
         "Luke Walton",
         0.93
        ],
        [
         "Baron Davis",
         0.93
        ],
        [
         "Reggie Evans",
         0.93
        ],
        [
         "Donte Greene",
         0.93
        ],
        [
         "Corey Brewer",
         0.93
        ],
        [
         "Kareem Rush",
         0.93
        ],
        [
         "Metta World Peace",
         0.93
        ],
        [
         "Keyon Dooling",
         0.93
        ],
        [
         "Saben Lee",
         0.93
        ],
        [
         "Tony Massenburg",
         0.93
        ],
        [
         "Elie Okobo",
         0.93
        ],
        [
         "A.J. Guyton",
         0.92
        ],
        [
         "Jonathan Bender",
         0.92
        ],
        [
         "Juan Dixon",
         0.92
        ],
        [
         "Art Long",
         0.92
        ],
        [
         "Ish Smith",
         0.92
        ],
        [
         "Raymond Felton",
         0.92
        ],
        [
         "Chris Mihm",
         0.92
        ],
        [
         "Royal Ivey",
         0.92
        ],
        [
         "Ryan Bowen",
         0.92
        ],
        [
         "Perry Jones III",
         0.92
        ],
        [
         "Josh Giddey",
         0.92
        ],
        [
         "Sam Young",
         0.92
        ],
        [
         "Melvin Ely",
         0.92
        ],
        [
         "Jeff McInnis",
         0.92
        ],
        [
         "Lorenzen Wright",
         0.92
        ],
        [
         "Trenton Hassell",
         0.92
        ],
        [
         "Joel Freeland",
         0.92
        ],
        [
         "Damien Wilkins",
         0.92
        ],
        [
         "Damon Stoudamire",
         0.92
        ],
        [
         "John Lucas III",
         0.92
        ],
        [
         "Scott Williams",
         0.92
        ],
        [
         "Sean May",
         0.92
        ],
        [
         "James Anderson",
         0.92
        ],
        [
         "Cam Reddish",
         0.92
        ],
        [
         "Chris Robinson",
         0.92
        ],
        [
         "Michael Curry",
         0.92
        ],
        [
         "Darko Milicic",
         0.92
        ],
        [
         "Romeo Langford",
         0.92
        ],
        [
         "Will Bynum",
         0.92
        ],
        [
         "Sasha Pavlovic",
         0.92
        ],
        [
         "Cole Anthony",
         0.92
        ],
        [
         "Chris Crawford",
         0.92
        ],
        [
         "Jordan Crawford",
         0.92
        ],
        [
         "Latrell Sprewell",
         0.92
        ],
        [
         "Josh Jackson",
         0.92
        ],
        [
         "Carlos Arroyo",
         0.92
        ],
        [
         "Oscar Torres",
         0.92
        ],
        [
         "Travis Outlaw",
         0.92
        ],
        [
         "Eric Washington",
         0.92
        ],
        [
         "Bob Sura",
         0.92
        ],
        [
         "Josh Okogie",
         0.92
        ],
        [
         "Rafer Alston",
         0.92
        ],
        [
         "Luc Longley",
         0.92
        ],
        [
         "Jamal Mashburn",
         0.92
        ],
        [
         "Antoine Walker",
         0.92
        ],
        [
         "Kevin Willis",
         0.92
        ],
        [
         "Billy Owens",
         0.92
        ],
        [
         "Kenny Anderson",
         0.92
        ],
        [
         "Sindarius Thornwell",
         0.92
        ],
        [
         "Travis Best",
         0.92
        ],
        [
         "Dahntay Jones",
         0.92
        ],
        [
         "Terry Cummings",
         0.92
        ],
        [
         "Earl Watson",
         0.92
        ],
        [
         "Donnell Harvey",
         0.92
        ],
        [
         "Johan Petro",
         0.92
        ],
        [
         "Dan Dickau",
         0.92
        ],
        [
         "Ekpe Udoh",
         0.92
        ],
        [
         "J.R. Reid",
         0.92
        ],
        [
         "Ron Harper",
         0.92
        ],
        [
         "LaPhonso Ellis",
         0.92
        ],
        [
         "Chucky Brown",
         0.92
        ],
        [
         "Rondae Hollis-Jefferson",
         0.92
        ],
        [
         "Jason Collier",
         0.92
        ],
        [
         "Tony Delk",
         0.92
        ],
        [
         "John Wall",
         0.92
        ],
        [
         "Malachi Flynn",
         0.92
        ],
        [
         "Samaki Walker",
         0.92
        ],
        [
         "Earl Boykins",
         0.91
        ],
        [
         "Jarron Collins",
         0.91
        ],
        [
         "Tyrone Corbin",
         0.91
        ],
        [
         "David Benoit",
         0.91
        ],
        [
         "Donald Sloan",
         0.91
        ],
        [
         "Anfernee Hardaway",
         0.91
        ],
        [
         "Archie Goodwin",
         0.91
        ],
        [
         "Brandon Goodwin",
         0.91
        ],
        [
         "Bryant Stith",
         0.91
        ],
        [
         "Troy Hudson",
         0.91
        ],
        [
         "Ramon Sessions",
         0.91
        ],
        [
         "Marko Jaric",
         0.91
        ],
        [
         "Devean George",
         0.91
        ],
        [
         "Desmond Mason",
         0.91
        ],
        [
         "A.C. Green",
         0.91
        ],
        [
         "Jarrett Culver",
         0.91
        ],
        [
         "Tom Gugliotta",
         0.91
        ],
        [
         "Chris Douglas-Roberts",
         0.91
        ],
        [
         "Kris Dunn",
         0.91
        ],
        [
         "Jayson Williams",
         0.91
        ],
        [
         "Duane Ferrell",
         0.91
        ],
        [
         "Justise Winslow",
         0.91
        ],
        [
         "Martin Muursepp",
         0.91
        ],
        [
         "Greg Minor",
         0.91
        ],
        [
         "Antonio Blakeney",
         0.91
        ],
        [
         "Elden Campbell",
         0.91
        ],
        [
         "Lucious Harris",
         0.91
        ],
        [
         "Rodney White",
         0.91
        ],
        [
         "DeShawn Stevenson",
         0.91
        ],
        [
         "John Starks",
         0.91
        ],
        [
         "Isaiah Whitehead",
         0.91
        ],
        [
         "Anthony Johnson",
         0.91
        ],
        [
         "Jannero Pargo",
         0.91
        ],
        [
         "Mark Madsen",
         0.91
        ],
        [
         "Chris Childs",
         0.91
        ],
        [
         "George Lynch",
         0.91
        ],
        [
         "Terry Dehere",
         0.91
        ],
        [
         "AJ Price",
         0.91
        ],
        [
         "Joe Smith",
         0.91
        ],
        [
         "Evan Turner",
         0.91
        ],
        [
         "Javaris Crittenton",
         0.91
        ],
        [
         "Viktor Khryapa",
         0.91
        ],
        [
         "Blue Edwards",
         0.9
        ],
        [
         "Brandon Jennings",
         0.9
        ],
        [
         "Erick Strickland",
         0.9
        ],
        [
         "Kedrick Brown",
         0.9
        ],
        [
         "T.J. Ford",
         0.9
        ],
        [
         "Naji Marshall",
         0.9
        ],
        [
         "Wes Iwundu",
         0.9
        ],
        [
         "Alvin Williams",
         0.9
        ],
        [
         "Jim McIlvaine",
         0.9
        ],
        [
         "Bryce Drew",
         0.9
        ],
        [
         "Yakhouba Diawara",
         0.9
        ],
        [
         "Calvin Booth",
         0.9
        ],
        [
         "Stanley Johnson",
         0.9
        ],
        [
         "Devin Brown",
         0.9
        ],
        [
         "CJ Elleby",
         0.9
        ],
        [
         "Adrian Griffin",
         0.9
        ],
        [
         "Christian Eyenga",
         0.9
        ],
        [
         "Allen Iverson",
         0.9
        ],
        [
         "Sam Mitchell",
         0.9
        ],
        [
         "Theo Maledon",
         0.9
        ],
        [
         "Derrick Coleman",
         0.9
        ],
        [
         "Jiri Welsch",
         0.9
        ],
        [
         "Shawn Kemp",
         0.9
        ],
        [
         "Eric Maynor",
         0.9
        ],
        [
         "Quincy Douby",
         0.9
        ],
        [
         "Zarko Cabarkapa",
         0.9
        ],
        [
         "Sean Marks",
         0.9
        ],
        [
         "Dennis Smith Jr.",
         0.9
        ],
        [
         "Malik Sealy",
         0.9
        ],
        [
         "Tim Frazier",
         0.9
        ],
        [
         "Paul Zipser",
         0.9
        ],
        [
         "Brian Scalabrine",
         0.9
        ],
        [
         "Alexey Shved",
         0.9
        ],
        [
         "Felipe Lopez",
         0.9
        ],
        [
         "Norris Cole",
         0.9
        ],
        [
         "Tyrone Nesby",
         0.89
        ],
        [
         "Kornel David",
         0.89
        ],
        [
         "Popeye Jones",
         0.89
        ],
        [
         "Aleksej Pokusevski",
         0.89
        ],
        [
         "Marcus Williams",
         0.89
        ],
        [
         "Bobby Brown",
         0.89
        ],
        [
         "Jay Williams",
         0.89
        ],
        [
         "Travis Knight",
         0.89
        ],
        [
         "Dion Glover",
         0.89
        ],
        [
         "Jacque Vaughn",
         0.89
        ],
        [
         "Emmanuel Mudiay",
         0.89
        ],
        [
         "Chris Chiozza",
         0.89
        ],
        [
         "Dominique Wilkins",
         0.89
        ],
        [
         "Linton Johnson",
         0.89
        ],
        [
         "Will Solomon",
         0.89
        ],
        [
         "Zoran Planinic",
         0.89
        ],
        [
         "Marc Jackson",
         0.89
        ],
        [
         "Kira Lewis Jr.",
         0.89
        ],
        [
         "Kevin Knox II",
         0.89
        ],
        [
         "Eric Murdock",
         0.89
        ],
        [
         "Hanno Mottola",
         0.89
        ],
        [
         "Ray McCallum",
         0.89
        ],
        [
         "Jerry Stackhouse",
         0.89
        ],
        [
         "Tony Wroten",
         0.89
        ],
        [
         "Don MacLean",
         0.89
        ],
        [
         "Tony Smith",
         0.89
        ],
        [
         "Henry Ellenson",
         0.89
        ],
        [
         "Ansu Sesay",
         0.89
        ],
        [
         "Dwayne Bacon",
         0.89
        ],
        [
         "Sundiata Gaines",
         0.89
        ],
        [
         "Laron Profit",
         0.89
        ],
        [
         "Glen Davis",
         0.89
        ],
        [
         "Samardo Samuels",
         0.89
        ],
        [
         "Ricky Rubio",
         0.88
        ],
        [
         "Frank Ntilikina",
         0.88
        ],
        [
         "Vernon Maxwell",
         0.88
        ],
        [
         "Josh Powell",
         0.88
        ],
        [
         "Dino Radja",
         0.88
        ],
        [
         "Anthony Bennett",
         0.88
        ],
        [
         "Ryan Kelly",
         0.88
        ],
        [
         "Joe Young",
         0.88
        ],
        [
         "Jerome Robinson",
         0.88
        ],
        [
         "Charles Jenkins",
         0.88
        ],
        [
         "Rodney Stuckey",
         0.88
        ],
        [
         "Jared Jeffries",
         0.88
        ],
        [
         "Rod Strickland",
         0.88
        ],
        [
         "Zendon Hamilton",
         0.88
        ],
        [
         "Tyrone Wallace",
         0.88
        ],
        [
         "Oleksiy Pecherov",
         0.88
        ],
        [
         "Jonny Flynn",
         0.88
        ],
        [
         "Malik Allen",
         0.88
        ],
        [
         "Derrick McKey",
         0.88
        ],
        [
         "Antonio Davis",
         0.88
        ],
        [
         "Predrag Drobnjak",
         0.88
        ],
        [
         "Jamaal Tinsley",
         0.88
        ],
        [
         "Jason Hart",
         0.88
        ],
        [
         "Nate Wolters",
         0.88
        ],
        [
         "Doug West",
         0.88
        ],
        [
         "Mike Batiste",
         0.88
        ],
        [
         "Eric Williams",
         0.88
        ],
        [
         "Malik Rose",
         0.88
        ],
        [
         "Tyler Hansbrough",
         0.88
        ],
        [
         "Michael Doleac",
         0.88
        ],
        [
         "J.R. Bremer",
         0.88
        ],
        [
         "Isaiah Taylor",
         0.88
        ],
        [
         "Terrence Williams",
         0.88
        ],
        [
         "Ronnie Price",
         0.88
        ],
        [
         "Michael Stewart",
         0.88
        ],
        [
         "Marcus Fizer",
         0.88
        ],
        [
         "Sekou Doumbouya",
         0.88
        ],
        [
         "Darrick Martin",
         0.88
        ],
        [
         "Frank Mason III",
         0.88
        ],
        [
         "Tyrus Thomas",
         0.88
        ],
        [
         "Grant Long",
         0.88
        ],
        [
         "Ron Mercer",
         0.87
        ],
        [
         "Tyler Ulis",
         0.87
        ],
        [
         "Byron Mullens",
         0.87
        ],
        [
         "Robert Sacre",
         0.87
        ],
        [
         "Sebastian Telfair",
         0.87
        ],
        [
         "Dennis Rodman",
         0.87
        ],
        [
         "Courtney Alexander",
         0.87
        ],
        [
         "Earl Clark",
         0.87
        ],
        [
         "Eric Montross",
         0.87
        ],
        [
         "Cedric Henderson",
         0.87
        ],
        [
         "Larry Hughes",
         0.87
        ],
        [
         "Rodney Buford",
         0.87
        ],
        [
         "Stacey Augmon",
         0.87
        ],
        [
         "Dickey Simpkins",
         0.87
        ],
        [
         "Mike Wilks",
         0.87
        ],
        [
         "Daniel Ewing",
         0.87
        ],
        [
         "Michael Olowokandi",
         0.87
        ],
        [
         "Jawad Williams",
         0.87
        ],
        [
         "Terence Morris",
         0.86
        ],
        [
         "Rusty LaRue",
         0.86
        ],
        [
         "Lawrence Moten",
         0.86
        ],
        [
         "Eric Snow",
         0.86
        ],
        [
         "Bill Wennington",
         0.86
        ],
        [
         "Xavier Henry",
         0.86
        ],
        [
         "Milt Palacio",
         0.86
        ],
        [
         "Malcolm Delaney",
         0.86
        ],
        [
         "Moochie Norris",
         0.86
        ],
        [
         "Jamie Feick",
         0.86
        ],
        [
         "Carl Herrera",
         0.86
        ],
        [
         "Ronald Dupree",
         0.86
        ],
        [
         "Charles Oakley",
         0.86
        ],
        [
         "Randy Livingston",
         0.86
        ],
        [
         "PJ Hairston",
         0.86
        ],
        [
         "Quinton Ross",
         0.86
        ],
        [
         "Derek Strong",
         0.86
        ],
        [
         "Eddie Griffin",
         0.86
        ],
        [
         "Brian Evans",
         0.86
        ],
        [
         "Kendall Gill",
         0.86
        ],
        [
         "Andrew Harrison",
         0.86
        ],
        [
         "Markel Brown",
         0.86
        ],
        [
         "Quincy Lewis",
         0.86
        ],
        [
         "Darius Morris",
         0.86
        ],
        [
         "Acie Law",
         0.86
        ],
        [
         "DeSagana Diop",
         0.86
        ],
        [
         "Vladimir Stepania",
         0.85
        ],
        [
         "Yi Jianlian",
         0.85
        ],
        [
         "Brian Shaw",
         0.85
        ],
        [
         "Eddie Gill",
         0.85
        ],
        [
         "Vonteego Cummings",
         0.85
        ],
        [
         "Doug Overton",
         0.85
        ],
        [
         "Jeremy Pargo",
         0.85
        ],
        [
         "Wayman Tisdale",
         0.85
        ],
        [
         "Adreian Payne",
         0.85
        ],
        [
         "Corey Benjamin",
         0.85
        ],
        [
         "Anthony Carter",
         0.85
        ],
        [
         "Greg Foster",
         0.85
        ],
        [
         "Gerald Wilkins",
         0.85
        ],
        [
         "Manny Harris",
         0.85
        ],
        [
         "Michael Carter-Williams",
         0.85
        ],
        [
         "Obinna Ekezie",
         0.85
        ],
        [
         "Adam Morrison",
         0.85
        ],
        [
         "Rashad Vaughn",
         0.85
        ],
        [
         "Sean Rooks",
         0.85
        ],
        [
         "Killian Hayes",
         0.85
        ],
        [
         "Rick Brunson",
         0.85
        ],
        [
         "Jerome Kersey",
         0.84
        ],
        [
         "Johnny O'Bryant III",
         0.84
        ],
        [
         "Bimbo Coles",
         0.84
        ],
        [
         "Bernard Robinson",
         0.84
        ],
        [
         "Loren Woods",
         0.84
        ],
        [
         "Tariq Abdul-Wahad",
         0.84
        ],
        [
         "Chris Singleton",
         0.84
        ],
        [
         "Todd Fuller",
         0.84
        ],
        [
         "Dominic McGuire",
         0.84
        ],
        [
         "Robert Pack",
         0.84
        ],
        [
         "Mark Hendrickson",
         0.84
        ],
        [
         "Tierre Brown",
         0.83
        ],
        [
         "Chris Anstey",
         0.83
        ],
        [
         "Pat Burke",
         0.83
        ],
        [
         "Vincent Yarbrough",
         0.83
        ],
        [
         "Khalid El-Amin",
         0.83
        ],
        [
         "Jabari Smith",
         0.83
        ],
        [
         "Andrew Lang",
         0.83
        ],
        [
         "Harvey Grant",
         0.83
        ],
        [
         "Dajuan Wagner",
         0.83
        ],
        [
         "Chris Dudley",
         0.83
        ],
        [
         "Brevin Knight",
         0.83
        ],
        [
         "Speedy Claxton",
         0.83
        ],
        [
         "Kevin Ollie",
         0.82
        ],
        [
         "Bobby Hurley",
         0.82
        ],
        [
         "Roshown McLeod",
         0.82
        ],
        [
         "Tony Farmer",
         0.82
        ],
        [
         "Pooh Richardson",
         0.82
        ],
        [
         "Jason Collins",
         0.82
        ],
        [
         "Michael Ruffin",
         0.81
        ],
        [
         "John Amaechi",
         0.81
        ],
        [
         "Justin Reed",
         0.81
        ],
        [
         "Sharone Wright",
         0.81
        ],
        [
         "Rafael Araujo",
         0.81
        ],
        [
         "Mardy Collins",
         0.81
        ],
        [
         "Roko Ukic",
         0.81
        ],
        [
         "Cal Bowdler",
         0.81
        ],
        [
         "Dan Langhi",
         0.81
        ],
        [
         "Orien Greene",
         0.81
        ],
        [
         "Tyus Edney",
         0.81
        ],
        [
         "Jalen Suggs",
         0.8
        ],
        [
         "Randy Brown",
         0.8
        ],
        [
         "Mateen Cleaves",
         0.8
        ],
        [
         "Joe Kleine",
         0.79
        ],
        [
         "Phil Pressey",
         0.78
        ],
        [
         "Chris Porter",
         0.78
        ],
        [
         "Xavier McDaniel",
         0.78
        ],
        [
         "Junior Harrington",
         0.77
        ],
        [
         "Keith McLeod",
         0.77
        ],
        [
         "William Avery",
         0.76
        ],
        [
         "Ed Gray",
         0.76
        ],
        [
         "Kevin Edwards",
         0.75
        ],
        [
         "Earl Barron",
         0.75
        ],
        [
         "Kenny Satterfield",
         0.7
        ],
        [
         "Rodrick Rhodes",
         0.7
        ],
        [
         "Nikoloz Tskitishvili",
         0.68
        ]
       ],
       "datasetInfos": [],
       "dbfsResultPath": null,
       "isJsonSchema": true,
       "metadata": {
        "dataframeName": "_sqldf",
        "executionCount": 5
       },
       "overflow": false,
       "plotOptions": {
        "customPlotOptions": {},
        "displayType": "table",
        "pivotAggregation": null,
        "pivotColumns": null,
        "xColumns": null,
        "yColumns": null
       },
       "removedWidgets": [],
       "schema": [
        {
         "metadata": "{}",
         "name": "PLAYER_NAME",
         "type": "\"string\""
        },
        {
         "metadata": "{}",
         "name": "AVG_PTS_PER_ATT",
         "type": "\"double\""
        }
       ],
       "type": "table"
      }
     },
     "output_type": "display_data"
    }
   ],
   "source": [
    "%sql\n",
    "--Q7a - What is the average points per attempt for each player with a minimum of 300 attempts? Who has the highest average points per attempt during the last 5 minutes of a game (minimum 200 attempts)?\n",
    "\n",
    "SELECT MAX(PLAYER_NAME) AS PLAYER_NAME,\n",
    "       ROUND(AVG(NUM_POINTS), 2) AS AVG_PTS_PER_ATT \n",
    "FROM\n",
    "(SELECT PLAYER_ID, PLAYER_NAME,\n",
    "        CASE WHEN SHOT_TYPE = '2PT Field Goal' AND SHOT_MADE_FLAG = 1\n",
    "             THEN 2\n",
    "             WHEN SHOT_TYPE = '3PT Field Goal' AND SHOT_MADE_FLAG = 1\n",
    "             THEN 3\n",
    "             ELSE 0\n",
    "             END AS NUM_POINTS\n",
    "FROM shotdata) AS PlayerPoints\n",
    "GROUP BY PLAYER_ID\n",
    "HAVING COUNT(*) >= 300\n",
    "ORDER BY AVG_PTS_PER_ATT DESC"
   ]
  },
  {
   "cell_type": "code",
   "execution_count": 0,
   "metadata": {
    "application/vnd.databricks.v1+cell": {
     "cellMetadata": {
      "byteLimit": 2048000,
      "implicitDf": true,
      "rowLimit": 10000
     },
     "inputWidgets": {},
     "nuid": "65050f6e-7eef-4252-aa5c-3ed0ec1fc6e4",
     "showTitle": false,
     "title": ""
    }
   },
   "outputs": [
    {
     "output_type": "display_data",
     "data": {
      "text/html": [
       "<style scoped>\n",
       "  .table-result-container {\n",
       "    max-height: 300px;\n",
       "    overflow: auto;\n",
       "  }\n",
       "  table, th, td {\n",
       "    border: 1px solid black;\n",
       "    border-collapse: collapse;\n",
       "  }\n",
       "  th, td {\n",
       "    padding: 5px;\n",
       "  }\n",
       "  th {\n",
       "    text-align: left;\n",
       "  }\n",
       "</style><div class='table-result-container'><table class='table-result'><thead style='background-color: white'><tr><th>PLAYER_NAME</th><th>AVG_PTS_PER_ATT</th></tr></thead><tbody><tr><td>Deandre Ayton</td><td>1.42</td></tr><tr><td>DeAndre Jordan</td><td>1.37</td></tr><tr><td>Rudy Gobert</td><td>1.36</td></tr><tr><td>Hassan Whiteside</td><td>1.34</td></tr><tr><td>Clint Capela</td><td>1.33</td></tr><tr><td>Montrezl Harrell</td><td>1.3</td></tr><tr><td>John Collins</td><td>1.28</td></tr><tr><td>Seth Curry</td><td>1.27</td></tr><tr><td>Mason Plumlee</td><td>1.24</td></tr><tr><td>Tyson Chandler</td><td>1.24</td></tr><tr><td>Mike Muscala</td><td>1.24</td></tr><tr><td>Dwight Howard</td><td>1.24</td></tr><tr><td>Brent Barry</td><td>1.22</td></tr><tr><td>Steve Kerr</td><td>1.21</td></tr><tr><td>Doug McDermott</td><td>1.21</td></tr><tr><td>Willie Cauley-Stein</td><td>1.21</td></tr><tr><td>Jonas Valanciunas</td><td>1.2</td></tr><tr><td>Kenneth Faried</td><td>1.2</td></tr><tr><td>Carl Landry</td><td>1.2</td></tr><tr><td>Ben Simmons</td><td>1.19</td></tr><tr><td>Bam Adebayo</td><td>1.19</td></tr><tr><td>Marcin Gortat</td><td>1.19</td></tr><tr><td>Steven Adams</td><td>1.18</td></tr><tr><td>Pat Connaughton</td><td>1.18</td></tr><tr><td>Samuel Dalembert</td><td>1.18</td></tr><tr><td>Enes Freedom</td><td>1.18</td></tr><tr><td>Gorgui Dieng</td><td>1.18</td></tr><tr><td>Eddy Curry</td><td>1.17</td></tr><tr><td>Joe Harris</td><td>1.17</td></tr><tr><td>Amir Johnson</td><td>1.17</td></tr><tr><td>Troy Daniels</td><td>1.17</td></tr><tr><td>Aaron Holiday</td><td>1.17</td></tr><tr><td>Tristan Thompson</td><td>1.16</td></tr><tr><td>Steve Novak</td><td>1.16</td></tr><tr><td>Giannis Antetokounmpo</td><td>1.16</td></tr><tr><td>Andre Drummond</td><td>1.16</td></tr><tr><td>Karl-Anthony Towns</td><td>1.16</td></tr><tr><td>Chris Wilcox</td><td>1.16</td></tr><tr><td>Eric Piatkowski</td><td>1.15</td></tr><tr><td>Nikola Mirotic</td><td>1.15</td></tr><tr><td>Shaquille O'Neal</td><td>1.15</td></tr><tr><td>James Jones</td><td>1.15</td></tr><tr><td>Saddiq Bey</td><td>1.15</td></tr><tr><td>Otto Porter Jr.</td><td>1.15</td></tr><tr><td>Kelly Olynyk</td><td>1.15</td></tr><tr><td>Jon Leuer</td><td>1.15</td></tr><tr><td>Lauri Markkanen</td><td>1.15</td></tr><tr><td>Jason Caffey</td><td>1.15</td></tr><tr><td>Dana Barros</td><td>1.14</td></tr><tr><td>Yogi Ferrell</td><td>1.14</td></tr><tr><td>Tony Allen</td><td>1.14</td></tr><tr><td>Joe Ingles</td><td>1.14</td></tr><tr><td>Derrick Favors</td><td>1.14</td></tr><tr><td>Kevin Huerter</td><td>1.14</td></tr><tr><td>Trevor Booker</td><td>1.13</td></tr><tr><td>Mikal Bridges</td><td>1.13</td></tr><tr><td>Bryn Forbes</td><td>1.13</td></tr><tr><td>Boban Marjanovic</td><td>1.13</td></tr><tr><td>Nene</td><td>1.13</td></tr><tr><td>Carlos Boozer</td><td>1.13</td></tr><tr><td>Mario Hezonja</td><td>1.13</td></tr><tr><td>Bismack Biyombo</td><td>1.12</td></tr><tr><td>Manu Ginobili</td><td>1.12</td></tr><tr><td>Terry Porter</td><td>1.12</td></tr><tr><td>Christian Wood</td><td>1.12</td></tr><tr><td>Stephen Curry</td><td>1.12</td></tr><tr><td>Emeka Okafor</td><td>1.12</td></tr><tr><td>Amar'e Stoudemire</td><td>1.11</td></tr><tr><td>T.J. Warren</td><td>1.11</td></tr><tr><td>Al Horford</td><td>1.11</td></tr><tr><td>Kyle Korver</td><td>1.11</td></tr><tr><td>Mike Miller</td><td>1.11</td></tr><tr><td>Chandler Parsons</td><td>1.1</td></tr><tr><td>Hersey Hawkins</td><td>1.1</td></tr><tr><td>Jose Calderon</td><td>1.1</td></tr><tr><td>Patrick Patterson</td><td>1.1</td></tr><tr><td>Brandan Wright</td><td>1.1</td></tr><tr><td>Dwight Powell</td><td>1.1</td></tr><tr><td>Jon Barry</td><td>1.1</td></tr><tr><td>Reggie Bullock</td><td>1.1</td></tr><tr><td>Josh Childress</td><td>1.1</td></tr><tr><td>Willy Hernangomez</td><td>1.1</td></tr><tr><td>Gary Trent</td><td>1.09</td></tr><tr><td>Toney Douglas</td><td>1.09</td></tr><tr><td>Nikola Jokic</td><td>1.09</td></tr><tr><td>Jalen Brunson</td><td>1.09</td></tr><tr><td>Darius Songaila</td><td>1.09</td></tr><tr><td>Anthony Davis</td><td>1.09</td></tr><tr><td>Yao Ming</td><td>1.09</td></tr><tr><td>Dewayne Dedmon</td><td>1.09</td></tr><tr><td>Brendan Haywood</td><td>1.09</td></tr><tr><td>Davis Bertans</td><td>1.09</td></tr><tr><td>Hakim Warrick</td><td>1.09</td></tr><tr><td>JaMychal Green</td><td>1.09</td></tr><tr><td>Marcus Banks</td><td>1.09</td></tr><tr><td>Luke Kennard</td><td>1.09</td></tr><tr><td>Mickael Pietrus</td><td>1.09</td></tr><tr><td>Domantas Sabonis</td><td>1.09</td></tr><tr><td>Steve Nash</td><td>1.09</td></tr><tr><td>Richaun Holmes</td><td>1.09</td></tr><tr><td>Wayne Ellington</td><td>1.08</td></tr><tr><td>Fred Hoiberg</td><td>1.08</td></tr><tr><td>Bo Outlaw</td><td>1.08</td></tr><tr><td>Anthony Edwards</td><td>1.08</td></tr><tr><td>Quinn Cook</td><td>1.08</td></tr><tr><td>Jeremy Lin</td><td>1.08</td></tr><tr><td>Julius Randle</td><td>1.08</td></tr><tr><td>Nick Collison</td><td>1.08</td></tr><tr><td>Terry Rozier</td><td>1.08</td></tr><tr><td>Jordan Poole</td><td>1.08</td></tr><tr><td>Theo Ratliff</td><td>1.08</td></tr><tr><td>Aaron Gordon</td><td>1.08</td></tr><tr><td>Dale Davis</td><td>1.08</td></tr><tr><td>Greg Monroe</td><td>1.08</td></tr><tr><td>Tobias Harris</td><td>1.08</td></tr><tr><td>Shai Gilgeous-Alexander</td><td>1.08</td></tr><tr><td>David Robinson</td><td>1.07</td></tr><tr><td>Danny Manning</td><td>1.07</td></tr><tr><td>Wesley Person</td><td>1.07</td></tr><tr><td>Allen Crabbe</td><td>1.07</td></tr><tr><td>Daniel Gibson</td><td>1.07</td></tr><tr><td>Anthony Morrow</td><td>1.07</td></tr><tr><td>Josh Hart</td><td>1.07</td></tr><tr><td>Alonzo Mourning</td><td>1.07</td></tr><tr><td>Mike Scott</td><td>1.07</td></tr><tr><td>Buddy Hield</td><td>1.06</td></tr><tr><td>Hubert Davis</td><td>1.06</td></tr><tr><td>Kwame Brown</td><td>1.06</td></tr><tr><td>Jae Crowder</td><td>1.06</td></tr><tr><td>JJ Hickson</td><td>1.06</td></tr><tr><td>Miles Bridges</td><td>1.06</td></tr><tr><td>Jayson Tatum</td><td>1.06</td></tr><tr><td>Darren Collison</td><td>1.06</td></tr><tr><td>Bogdan Bogdanovic</td><td>1.06</td></tr><tr><td>Patrick Beverley</td><td>1.06</td></tr><tr><td>Taj Gibson</td><td>1.06</td></tr><tr><td>Aaron Williams</td><td>1.06</td></tr><tr><td>Maurice Harkless</td><td>1.06</td></tr><tr><td>Arvydas Sabonis</td><td>1.06</td></tr><tr><td>Shammond Williams</td><td>1.06</td></tr><tr><td>Bojan Bogdanovic</td><td>1.06</td></tr><tr><td>Patty Mills</td><td>1.06</td></tr><tr><td>Rick Fox</td><td>1.06</td></tr><tr><td>Jud Buechler</td><td>1.06</td></tr><tr><td>Glen Rice</td><td>1.06</td></tr><tr><td>JaVale McGee</td><td>1.06</td></tr><tr><td>Chris Copeland</td><td>1.06</td></tr><tr><td>Rashad McCants</td><td>1.06</td></tr><tr><td>Rodney Carney</td><td>1.06</td></tr><tr><td>Frank Kaminsky</td><td>1.06</td></tr><tr><td>JJ Redick</td><td>1.06</td></tr><tr><td>Norman Powell</td><td>1.06</td></tr><tr><td>CJ McCollum</td><td>1.05</td></tr><tr><td>Leandro Barbosa</td><td>1.05</td></tr><tr><td>Bryant Reeves</td><td>1.05</td></tr><tr><td>Vinny Del Negro</td><td>1.05</td></tr><tr><td>Rasual Butler</td><td>1.05</td></tr><tr><td>Ray Allen</td><td>1.05</td></tr><tr><td>Dorian Finney-Smith</td><td>1.05</td></tr><tr><td>Luther Head</td><td>1.05</td></tr><tr><td>Tony Snell</td><td>1.05</td></tr><tr><td>Thaddeus Young</td><td>1.05</td></tr><tr><td>Bruce Bowen</td><td>1.05</td></tr><tr><td>Cory Joseph</td><td>1.05</td></tr><tr><td>Serge Ibaka</td><td>1.05</td></tr><tr><td>Shawn Marion</td><td>1.05</td></tr><tr><td>Marco Belinelli</td><td>1.05</td></tr><tr><td>Andrei Kirilenko</td><td>1.05</td></tr><tr><td>Channing Frye</td><td>1.05</td></tr><tr><td>Danny Green</td><td>1.05</td></tr><tr><td>Malik Monk</td><td>1.05</td></tr><tr><td>Jordan Hill</td><td>1.04</td></tr><tr><td>Klay Thompson</td><td>1.04</td></tr><tr><td>Tony Parker</td><td>1.04</td></tr><tr><td>Todd Day</td><td>1.04</td></tr><tr><td>Jason Terry</td><td>1.04</td></tr><tr><td>Danny Fortson</td><td>1.04</td></tr><tr><td>Caris LeVert</td><td>1.04</td></tr><tr><td>Dario Saric</td><td>1.04</td></tr><tr><td>Kawhi Leonard</td><td>1.04</td></tr><tr><td>Goran Dragic</td><td>1.04</td></tr><tr><td>Francisco Garcia</td><td>1.04</td></tr><tr><td>Kelenna Azubuike</td><td>1.04</td></tr><tr><td>Chris Bosh</td><td>1.04</td></tr><tr><td>Mehmet Okur</td><td>1.04</td></tr><tr><td>Bryon Russell</td><td>1.04</td></tr><tr><td>John Stockton</td><td>1.04</td></tr><tr><td>Jason Thompson</td><td>1.04</td></tr><tr><td>David Lee</td><td>1.04</td></tr><tr><td>JR Smith</td><td>1.04</td></tr><tr><td>Monte Morris</td><td>1.03</td></tr><tr><td>Jason Kapono</td><td>1.03</td></tr><tr><td>Matt Bonner</td><td>1.03</td></tr><tr><td>Anderson Varejao</td><td>1.03</td></tr><tr><td>Jonas Jerebko</td><td>1.03</td></tr><tr><td>LeBron James</td><td>1.03</td></tr><tr><td>Antonio Daniels</td><td>1.03</td></tr><tr><td>Ben McLemore</td><td>1.03</td></tr><tr><td>Anthony Tolliver</td><td>1.03</td></tr><tr><td>Brandon Rush</td><td>1.03</td></tr><tr><td>Donyell Marshall</td><td>1.03</td></tr><tr><td>Kendrick Perkins</td><td>1.03</td></tr><tr><td>Bobby Portis</td><td>1.03</td></tr><tr><td>Greg Buckner</td><td>1.03</td></tr><tr><td>Lonzo Ball</td><td>1.03</td></tr><tr><td>Shawn Bradley</td><td>1.03</td></tr><tr><td>Morris Peterson</td><td>1.02</td></tr><tr><td>Josh Jackson</td><td>1.02</td></tr><tr><td>Pau Gasol</td><td>1.02</td></tr><tr><td>Wesley Matthews</td><td>1.02</td></tr><tr><td>Jaren Jackson</td><td>1.02</td></tr><tr><td>Peja Stojakovic</td><td>1.02</td></tr><tr><td>Luis Scola</td><td>1.02</td></tr><tr><td>Ian Clark</td><td>1.02</td></tr><tr><td>James Johnson</td><td>1.02</td></tr><tr><td>Jamaal Magloire</td><td>1.02</td></tr><tr><td>Gary Payton</td><td>1.02</td></tr><tr><td>Malik Beasley</td><td>1.02</td></tr><tr><td>Chris Paul</td><td>1.02</td></tr><tr><td>T.J. McConnell</td><td>1.02</td></tr><tr><td>Horace Grant</td><td>1.02</td></tr><tr><td>Maurice Evans</td><td>1.02</td></tr><tr><td>Dale Ellis</td><td>1.02</td></tr><tr><td>Dennis Scott</td><td>1.02</td></tr><tr><td>Terrence Ross</td><td>1.02</td></tr><tr><td>Boris Diaw</td><td>1.02</td></tr><tr><td>George Lynch</td><td>1.02</td></tr><tr><td>Tyler Herro</td><td>1.02</td></tr><tr><td>Eddie House</td><td>1.01</td></tr><tr><td>Chase Budinger</td><td>1.01</td></tr><tr><td>Myles Turner</td><td>1.01</td></tr><tr><td>Matt Harpring</td><td>1.01</td></tr><tr><td>Collin Sexton</td><td>1.01</td></tr><tr><td>Antonio McDyess</td><td>1.01</td></tr><tr><td>Fred Jones</td><td>1.01</td></tr><tr><td>Devonte' Graham</td><td>1.01</td></tr><tr><td>Devin Booker</td><td>1.01</td></tr><tr><td>Jason Maxiell</td><td>1.01</td></tr><tr><td>Cedi Osman</td><td>1.01</td></tr><tr><td>James Harden</td><td>1.01</td></tr><tr><td>Dell Curry</td><td>1.01</td></tr><tr><td>Rodney Rogers</td><td>1.01</td></tr><tr><td>Lawrence Funderburke</td><td>1.01</td></tr><tr><td>Beno Udrih</td><td>1.01</td></tr><tr><td>Kosta Koufos</td><td>1.01</td></tr><tr><td>Jeff Foster</td><td>1.01</td></tr><tr><td>Delon Wright</td><td>1.01</td></tr><tr><td>Matt Barnes</td><td>1.01</td></tr><tr><td>Luka Doncic</td><td>1.01</td></tr><tr><td>DeJuan Blair</td><td>1.01</td></tr><tr><td>DeMarre Carroll</td><td>1.01</td></tr><tr><td>Ben Wallace</td><td>1.01</td></tr><tr><td>Karl Malone</td><td>1.01</td></tr><tr><td>Vin Baker</td><td>1.01</td></tr><tr><td>Harrison Barnes</td><td>1.01</td></tr><tr><td>Vladimir Radmanovic</td><td>1.01</td></tr><tr><td>Greg Anthony</td><td>1.0</td></tr><tr><td>Voshon Lenard</td><td>1.0</td></tr><tr><td>Jordan Clarkson</td><td>1.0</td></tr><tr><td>Kris Humphries</td><td>1.0</td></tr><tr><td>Bonzi Wells</td><td>1.0</td></tr><tr><td>Jason Richardson</td><td>1.0</td></tr><tr><td>Alonzo Gee</td><td>1.0</td></tr><tr><td>Gary Harris</td><td>1.0</td></tr><tr><td>Zach LaVine</td><td>1.0</td></tr><tr><td>Kyle Kuzma</td><td>1.0</td></tr><tr><td>Marvin Williams</td><td>1.0</td></tr><tr><td>Pascal Siakam</td><td>1.0</td></tr><tr><td>Spencer Hawes</td><td>1.0</td></tr><tr><td>Damian Lillard</td><td>1.0</td></tr><tr><td>Joel Embiid</td><td>1.0</td></tr><tr><td>James Robinson</td><td>1.0</td></tr><tr><td>Ersan Ilyasova</td><td>1.0</td></tr><tr><td>Timothe Luwawu-Cabarrot</td><td>1.0</td></tr><tr><td>Brandon Bass</td><td>1.0</td></tr><tr><td>P.J. Tucker</td><td>1.0</td></tr><tr><td>Jodie Meeks</td><td>1.0</td></tr><tr><td>Blake Griffin</td><td>1.0</td></tr><tr><td>Martell Webster</td><td>1.0</td></tr><tr><td>Robert Covington</td><td>1.0</td></tr><tr><td>Josh Richardson</td><td>1.0</td></tr><tr><td>Smush Parker</td><td>1.0</td></tr><tr><td>Delonte West</td><td>1.0</td></tr><tr><td>Matt Carroll</td><td>0.99</td></tr><tr><td>De'Aaron Fox</td><td>0.99</td></tr><tr><td>Marc Gasol</td><td>0.99</td></tr><tr><td>Stromile Swift</td><td>0.99</td></tr><tr><td>Marcus Morris Sr.</td><td>0.99</td></tr><tr><td>Tyler Johnson</td><td>0.99</td></tr><tr><td>Alex Len</td><td>0.99</td></tr><tr><td>Marcus Thornton</td><td>0.99</td></tr><tr><td>George Hill</td><td>0.99</td></tr><tr><td>Nate Robinson</td><td>0.99</td></tr><tr><td>Luol Deng</td><td>0.99</td></tr><tr><td>Austin Rivers</td><td>0.99</td></tr><tr><td>Aron Baynes</td><td>0.99</td></tr><tr><td>Primoz Brezec</td><td>0.99</td></tr><tr><td>Will Bynum</td><td>0.99</td></tr><tr><td>Tyrone Hill</td><td>0.99</td></tr><tr><td>Lorenzen Wright</td><td>0.99</td></tr><tr><td>Brook Lopez</td><td>0.99</td></tr><tr><td>Malcolm Brogdon</td><td>0.99</td></tr><tr><td>Tim Hardaway Jr.</td><td>0.99</td></tr><tr><td>Dante Cunningham</td><td>0.99</td></tr><tr><td>Jalen Rose</td><td>0.99</td></tr><tr><td>Kentavious Caldwell-Pope</td><td>0.99</td></tr><tr><td>Michael Beasley</td><td>0.99</td></tr><tr><td>Corey Brewer</td><td>0.99</td></tr><tr><td>Iman Shumpert</td><td>0.99</td></tr><tr><td>Shelvin Mack</td><td>0.99</td></tr><tr><td>Derrick White</td><td>0.98</td></tr><tr><td>Deron Williams</td><td>0.98</td></tr><tr><td>Tracy Murray</td><td>0.98</td></tr><tr><td>Ty Lawson</td><td>0.98</td></tr><tr><td>Shane Battier</td><td>0.98</td></tr><tr><td>John Wallace</td><td>0.98</td></tr><tr><td>Bobby Simmons</td><td>0.98</td></tr><tr><td>Kyle O'Quinn</td><td>0.98</td></tr><tr><td>Robin Lopez</td><td>0.98</td></tr><tr><td>Jerami Grant</td><td>0.98</td></tr><tr><td>Wally Szczerbiak</td><td>0.98</td></tr><tr><td>Sasha Vujacic</td><td>0.98</td></tr><tr><td>Jerome Williams</td><td>0.98</td></tr><tr><td>Kyrie Irving</td><td>0.98</td></tr><tr><td>Jordan Farmar</td><td>0.98</td></tr><tr><td>Kevin Durant</td><td>0.98</td></tr><tr><td>Marreese Speights</td><td>0.98</td></tr><tr><td>Travis Outlaw</td><td>0.98</td></tr><tr><td>Mike Dunleavy</td><td>0.98</td></tr><tr><td>Dorell Wright</td><td>0.98</td></tr><tr><td>Ruben Patterson</td><td>0.98</td></tr><tr><td>Tim Thomas</td><td>0.98</td></tr><tr><td>Richard Jefferson</td><td>0.98</td></tr><tr><td>John Henson</td><td>0.98</td></tr><tr><td>Michael Redd</td><td>0.98</td></tr><tr><td>Kareem Rush</td><td>0.98</td></tr><tr><td>Trenton Hassell</td><td>0.98</td></tr><tr><td>Rashard Lewis</td><td>0.98</td></tr><tr><td>LaMarcus Aldridge</td><td>0.98</td></tr><tr><td>Milt Palacio</td><td>0.98</td></tr><tr><td>Rasho Nesterovic</td><td>0.98</td></tr><tr><td>Jaylen Brown</td><td>0.98</td></tr><tr><td>Hedo Turkoglu</td><td>0.98</td></tr><tr><td>Jumaine Jones</td><td>0.98</td></tr><tr><td>Isaiah Thomas</td><td>0.98</td></tr><tr><td>Monta Ellis</td><td>0.98</td></tr><tr><td>Avery Bradley</td><td>0.98</td></tr><tr><td>Ja Morant</td><td>0.98</td></tr><tr><td>Erick Dampier</td><td>0.98</td></tr><tr><td>Paul Millsap</td><td>0.97</td></tr><tr><td>Al Jefferson</td><td>0.97</td></tr><tr><td>Nicolas Batum</td><td>0.97</td></tr><tr><td>Corey Maggette</td><td>0.97</td></tr><tr><td>Detlef Schrempf</td><td>0.97</td></tr><tr><td>Wesley Johnson</td><td>0.97</td></tr><tr><td>Eric Bledsoe</td><td>0.97</td></tr><tr><td>Doug Christie</td><td>0.97</td></tr><tr><td>Victor Oladipo</td><td>0.97</td></tr><tr><td>Kelly Oubre Jr.</td><td>0.97</td></tr><tr><td>Rodney Hood</td><td>0.97</td></tr><tr><td>Jeremy Lamb</td><td>0.97</td></tr><tr><td>Jonathon Simmons</td><td>0.97</td></tr><tr><td>Damon Jones</td><td>0.97</td></tr><tr><td>Taurean Prince</td><td>0.97</td></tr><tr><td>Gary Trent Jr.</td><td>0.97</td></tr><tr><td>Gordon Hayward</td><td>0.97</td></tr><tr><td>Mike Conley</td><td>0.97</td></tr><tr><td>Christian Laettner</td><td>0.97</td></tr><tr><td>Austin Croshere</td><td>0.97</td></tr><tr><td>Jusuf Nurkic</td><td>0.97</td></tr><tr><td>Andrew Bogut</td><td>0.97</td></tr><tr><td>Nikola Vucevic</td><td>0.97</td></tr><tr><td>Jeff Green</td><td>0.97</td></tr><tr><td>Pat Garrity</td><td>0.97</td></tr><tr><td>Donovan Mitchell</td><td>0.97</td></tr><tr><td>Jamal Murray</td><td>0.97</td></tr><tr><td>James Posey</td><td>0.97</td></tr><tr><td>Darius Garland</td><td>0.97</td></tr><tr><td>Courtney Lee</td><td>0.97</td></tr><tr><td>Raul Neto</td><td>0.97</td></tr><tr><td>Calbert Cheaney</td><td>0.97</td></tr><tr><td>Tim Duncan</td><td>0.97</td></tr><tr><td>Corliss Williamson</td><td>0.97</td></tr><tr><td>Antawn Jamison</td><td>0.97</td></tr><tr><td>Josh Smith</td><td>0.97</td></tr><tr><td>Bobby Jackson</td><td>0.97</td></tr><tr><td>Fred VanVleet</td><td>0.97</td></tr><tr><td>D.J. Augustin</td><td>0.97</td></tr><tr><td>Shaun Livingston</td><td>0.96</td></tr><tr><td>Michael Finley</td><td>0.96</td></tr><tr><td>Carlos Delfino</td><td>0.96</td></tr><tr><td>Scott Padgett</td><td>0.96</td></tr><tr><td>Paul George</td><td>0.96</td></tr><tr><td>Kenyon Martin</td><td>0.96</td></tr><tr><td>CJ Miles</td><td>0.96</td></tr><tr><td>Monty Williams</td><td>0.96</td></tr><tr><td>Erick Strickland</td><td>0.96</td></tr><tr><td>Larry Johnson</td><td>0.96</td></tr><tr><td>Ryan Gomes</td><td>0.96</td></tr><tr><td>Trae Young</td><td>0.96</td></tr><tr><td>Anthony Peeler</td><td>0.96</td></tr><tr><td>Jrue Holiday</td><td>0.96</td></tr><tr><td>Joe Dumars</td><td>0.96</td></tr><tr><td>Dejounte Murray</td><td>0.96</td></tr><tr><td>Brandon Roy</td><td>0.96</td></tr><tr><td>Jarvis Hayes</td><td>0.96</td></tr><tr><td>Travis Best</td><td>0.96</td></tr><tr><td>E'Twaun Moore</td><td>0.96</td></tr><tr><td>Khris Middleton</td><td>0.96</td></tr><tr><td>Udonis Haslem</td><td>0.96</td></tr><tr><td>Nenad Krstic</td><td>0.96</td></tr><tr><td>Tyrus Thomas</td><td>0.96</td></tr><tr><td>Zach Randolph</td><td>0.96</td></tr><tr><td>Kemba Walker</td><td>0.96</td></tr><tr><td>Hakeem Olajuwon</td><td>0.96</td></tr><tr><td>Charlie Villanueva</td><td>0.96</td></tr><tr><td>Dennis Schroder</td><td>0.96</td></tr><tr><td>Andre Iguodala</td><td>0.96</td></tr><tr><td>Kevin Martin</td><td>0.96</td></tr><tr><td>Lou Williams</td><td>0.96</td></tr><tr><td>Reggie Jackson</td><td>0.96</td></tr><tr><td>Kyle Anderson</td><td>0.96</td></tr><tr><td>Jeff McInnis</td><td>0.96</td></tr><tr><td>Marcus Camby</td><td>0.96</td></tr><tr><td>Danny Ferry</td><td>0.95</td></tr><tr><td>Jameer Nelson</td><td>0.95</td></tr><tr><td>Alec Burks</td><td>0.95</td></tr><tr><td>Draymond Green</td><td>0.95</td></tr><tr><td>Mark Jackson</td><td>0.95</td></tr><tr><td>Jeff Teague</td><td>0.95</td></tr><tr><td>Justin Anderson</td><td>0.95</td></tr><tr><td>Kevin Garnett</td><td>0.95</td></tr><tr><td>Elfrid Payton</td><td>0.95</td></tr><tr><td>Rik Smits</td><td>0.95</td></tr><tr><td>Ronnie Brewer</td><td>0.95</td></tr><tr><td>Cedric Ceballos</td><td>0.95</td></tr><tr><td>Maurice Taylor</td><td>0.95</td></tr><tr><td>Elton Brand</td><td>0.95</td></tr><tr><td>Aaron Brooks</td><td>0.95</td></tr><tr><td>Mike Bibby</td><td>0.95</td></tr><tr><td>Andray Blatche</td><td>0.95</td></tr><tr><td>Mirza Teletovic</td><td>0.95</td></tr><tr><td>Lamar Odom</td><td>0.95</td></tr><tr><td>Lance Stephenson</td><td>0.95</td></tr><tr><td>Evan Fournier</td><td>0.95</td></tr><tr><td>Eric Gordon</td><td>0.95</td></tr><tr><td>Danilo Gallinari</td><td>0.95</td></tr><tr><td>Marcus Fizer</td><td>0.95</td></tr><tr><td>Jamal Crawford</td><td>0.95</td></tr><tr><td>Joe Smith</td><td>0.95</td></tr><tr><td>Elden Campbell</td><td>0.95</td></tr><tr><td>Quentin Richardson</td><td>0.95</td></tr><tr><td>Drew Gooden</td><td>0.95</td></tr><tr><td>Bimbo Coles</td><td>0.95</td></tr><tr><td>Anthony Johnson</td><td>0.95</td></tr><tr><td>Matthew Dellavedova</td><td>0.95</td></tr><tr><td>Nick Anderson</td><td>0.95</td></tr><tr><td>RJ Barrett</td><td>0.95</td></tr><tr><td>Kurt Thomas</td><td>0.95</td></tr><tr><td>Lamond Murray</td><td>0.95</td></tr><tr><td>Omri Casspi</td><td>0.94</td></tr><tr><td>Randy Foye</td><td>0.94</td></tr><tr><td>Avery Johnson</td><td>0.94</td></tr><tr><td>Anfernee Simons</td><td>0.94</td></tr><tr><td>Shannon Brown</td><td>0.94</td></tr><tr><td>Isaiah Rider</td><td>0.94</td></tr><tr><td>Dirk Nowitzki</td><td>0.94</td></tr><tr><td>Mitch Richmond</td><td>0.94</td></tr><tr><td>Damien Wilkins</td><td>0.94</td></tr><tr><td>Spencer Dinwiddie</td><td>0.94</td></tr><tr><td>David West</td><td>0.94</td></tr><tr><td>Daequan Cook</td><td>0.94</td></tr><tr><td>Andrew Wiggins</td><td>0.94</td></tr><tr><td>Devin Brown</td><td>0.94</td></tr><tr><td>DeMarcus Cousins</td><td>0.94</td></tr><tr><td>Langston Galloway</td><td>0.94</td></tr><tr><td>Derrick Williams</td><td>0.94</td></tr><tr><td>Gordan Giricek</td><td>0.94</td></tr><tr><td>Anthony Mason</td><td>0.94</td></tr><tr><td>Joe Johnson</td><td>0.94</td></tr><tr><td>Al-Farouq Aminu</td><td>0.94</td></tr><tr><td>Mo Williams</td><td>0.94</td></tr><tr><td>Grant Hill</td><td>0.94</td></tr><tr><td>Jabari Parker</td><td>0.94</td></tr><tr><td>Austin Daye</td><td>0.94</td></tr><tr><td>Ramon Sessions</td><td>0.94</td></tr><tr><td>Reggie Miller</td><td>0.94</td></tr><tr><td>Ronnie Price</td><td>0.94</td></tr><tr><td>Vitaly Potapenko</td><td>0.94</td></tr><tr><td>Robert Horry</td><td>0.94</td></tr><tr><td>Chauncey Billups</td><td>0.94</td></tr><tr><td>Tyus Jones</td><td>0.94</td></tr><tr><td>Wilson Chandler</td><td>0.94</td></tr><tr><td>Glenn Robinson</td><td>0.94</td></tr><tr><td>Luke Walton</td><td>0.94</td></tr><tr><td>Rudy Gay</td><td>0.94</td></tr><tr><td>Markieff Morris</td><td>0.94</td></tr><tr><td>Gary Neal</td><td>0.94</td></tr><tr><td>Anthony Carter</td><td>0.94</td></tr><tr><td>Russell Westbrook</td><td>0.94</td></tr><tr><td>Paul Pierce</td><td>0.94</td></tr><tr><td>Dan Majerle</td><td>0.94</td></tr><tr><td>Keith Van Horn</td><td>0.93</td></tr><tr><td>Richard Hamilton</td><td>0.93</td></tr><tr><td>Devin Harris</td><td>0.93</td></tr><tr><td>Elliot Perry</td><td>0.93</td></tr><tr><td>Zaza Pachulia</td><td>0.93</td></tr><tr><td>Ryan Anderson</td><td>0.93</td></tr><tr><td>Bradley Beal</td><td>0.93</td></tr><tr><td>Mark Blount</td><td>0.93</td></tr><tr><td>D'Angelo Russell</td><td>0.93</td></tr><tr><td>Anthony Parker</td><td>0.93</td></tr><tr><td>Jared Sullinger</td><td>0.93</td></tr><tr><td>Brandon Knight</td><td>0.93</td></tr><tr><td>DerMarr Johnson</td><td>0.93</td></tr><tr><td>Cory Alexander</td><td>0.93</td></tr><tr><td>Trey Lyles</td><td>0.93</td></tr><tr><td>Arron Afflalo</td><td>0.93</td></tr><tr><td>Chris Webber</td><td>0.93</td></tr><tr><td>Vince Carter</td><td>0.93</td></tr><tr><td>Cuttino Mobley</td><td>0.93</td></tr><tr><td>Trevor Ariza</td><td>0.93</td></tr><tr><td>Roy Hibbert</td><td>0.93</td></tr><tr><td>Chris Whitney</td><td>0.93</td></tr><tr><td>Sam Mitchell</td><td>0.93</td></tr><tr><td>J.J. Barea</td><td>0.93</td></tr><tr><td>Chris Kaman</td><td>0.93</td></tr><tr><td>DeMar DeRozan</td><td>0.93</td></tr><tr><td>Howard Eisley</td><td>0.93</td></tr><tr><td>Alan Henderson</td><td>0.93</td></tr><tr><td>Jordan Crawford</td><td>0.93</td></tr><tr><td>Kevin Love</td><td>0.93</td></tr><tr><td>Darrell Armstrong</td><td>0.93</td></tr><tr><td>Marcus Smart</td><td>0.93</td></tr><tr><td>Andrea Bargnani</td><td>0.93</td></tr><tr><td>Chucky Atkins</td><td>0.92</td></tr><tr><td>Hollis Thompson</td><td>0.92</td></tr><tr><td>Sam Cassell</td><td>0.92</td></tr><tr><td>Dennis Smith Jr.</td><td>0.92</td></tr><tr><td>Tim Hardaway</td><td>0.92</td></tr><tr><td>Sherman Douglas</td><td>0.92</td></tr><tr><td>Tony Battie</td><td>0.92</td></tr><tr><td>Danny Granger</td><td>0.92</td></tr><tr><td>Nik Stauskas</td><td>0.92</td></tr><tr><td>Clifford Robinson</td><td>0.92</td></tr><tr><td>Jimmy Butler</td><td>0.92</td></tr><tr><td>Allan Houston</td><td>0.92</td></tr><tr><td>Thabo Sefolosha</td><td>0.92</td></tr><tr><td>Vlade Divac</td><td>0.92</td></tr><tr><td>Dikembe Mutombo</td><td>0.92</td></tr><tr><td>Raef LaFrentz</td><td>0.92</td></tr><tr><td>Kyle Lowry</td><td>0.92</td></tr><tr><td>Will Barton</td><td>0.92</td></tr><tr><td>Chris Duhon</td><td>0.92</td></tr><tr><td>Anfernee Hardaway</td><td>0.92</td></tr><tr><td>Ben Gordon</td><td>0.92</td></tr><tr><td>Dwyane Wade</td><td>0.92</td></tr><tr><td>Bostjan Nachbar</td><td>0.92</td></tr><tr><td>Ricky Davis</td><td>0.92</td></tr><tr><td>Dahntay Jones</td><td>0.92</td></tr><tr><td>Jarrett Jack</td><td>0.92</td></tr><tr><td>Jermaine O'Neal</td><td>0.92</td></tr><tr><td>Rodney White</td><td>0.92</td></tr><tr><td>Steve Blake</td><td>0.91</td></tr><tr><td>Johan Petro</td><td>0.91</td></tr><tr><td>Michael Carter-Williams</td><td>0.91</td></tr><tr><td>Kerry Kittles</td><td>0.91</td></tr><tr><td>Norris Cole</td><td>0.91</td></tr><tr><td>Mark Strickland</td><td>0.91</td></tr><tr><td>Darrell Arthur</td><td>0.91</td></tr><tr><td>Zydrunas Ilgauskas</td><td>0.91</td></tr><tr><td>Eduardo Najera</td><td>0.91</td></tr><tr><td>Scottie Pippen</td><td>0.91</td></tr><tr><td>Gerald Wallace</td><td>0.91</td></tr><tr><td>Chris Gatling</td><td>0.91</td></tr><tr><td>Justin Holiday</td><td>0.91</td></tr><tr><td>Brian Grant</td><td>0.91</td></tr><tr><td>Rasheed Wallace</td><td>0.91</td></tr><tr><td>Kevin Willis</td><td>0.91</td></tr><tr><td>Jeff Hornacek</td><td>0.91</td></tr><tr><td>Stephen Jackson</td><td>0.91</td></tr><tr><td>Tyreke Evans</td><td>0.91</td></tr><tr><td>Garrett Temple</td><td>0.91</td></tr><tr><td>Brad Miller</td><td>0.91</td></tr><tr><td>Shabazz Napier</td><td>0.91</td></tr><tr><td>Darius Miles</td><td>0.91</td></tr><tr><td>Jannero Pargo</td><td>0.91</td></tr><tr><td>C.J. Watson</td><td>0.91</td></tr><tr><td>Shawn Kemp</td><td>0.91</td></tr><tr><td>David Wesley</td><td>0.91</td></tr><tr><td>Derrick Rose</td><td>0.91</td></tr><tr><td>Georges Niang</td><td>0.91</td></tr><tr><td>Chris Childs</td><td>0.9</td></tr><tr><td>Tony Delk</td><td>0.9</td></tr><tr><td>Nick Young</td><td>0.9</td></tr><tr><td>Juwan Howard</td><td>0.9</td></tr><tr><td>Rod Strickland</td><td>0.9</td></tr><tr><td>Stanley Johnson</td><td>0.9</td></tr><tr><td>Glen Davis</td><td>0.9</td></tr><tr><td>Jared Dudley</td><td>0.9</td></tr><tr><td>Stephon Marbury</td><td>0.9</td></tr><tr><td>Troy Murphy</td><td>0.9</td></tr><tr><td>Antonio Davis</td><td>0.9</td></tr><tr><td>Carmelo Anthony</td><td>0.9</td></tr><tr><td>Marquis Daniels</td><td>0.9</td></tr><tr><td>Jim Jackson</td><td>0.9</td></tr><tr><td>Jerian Grant</td><td>0.9</td></tr><tr><td>Kent Bazemore</td><td>0.9</td></tr><tr><td>Gerald Green</td><td>0.9</td></tr><tr><td>Malik Allen</td><td>0.9</td></tr><tr><td>Luc Mbah a Moute</td><td>0.9</td></tr><tr><td>John Starks</td><td>0.9</td></tr><tr><td>Tracy McGrady</td><td>0.9</td></tr><tr><td>Patrick Ewing</td><td>0.9</td></tr><tr><td>Joakim Noah</td><td>0.9</td></tr><tr><td>Robert Traylor</td><td>0.89</td></tr><tr><td>John Salmons</td><td>0.89</td></tr><tr><td>Ish Smith</td><td>0.89</td></tr><tr><td>Mike James</td><td>0.89</td></tr><tr><td>Shareef Abdur-Rahim</td><td>0.89</td></tr><tr><td>Andres Nocioni</td><td>0.89</td></tr><tr><td>O.J. Mayo</td><td>0.89</td></tr><tr><td>Charlie Bell</td><td>0.89</td></tr><tr><td>John Wall</td><td>0.89</td></tr><tr><td>Keith Bogans</td><td>0.89</td></tr><tr><td>Othella Harrington</td><td>0.89</td></tr><tr><td>Lindsey Hunter</td><td>0.89</td></tr><tr><td>Antoine Walker</td><td>0.89</td></tr><tr><td>Lee Nailon</td><td>0.89</td></tr><tr><td>Tayshaun Prince</td><td>0.89</td></tr><tr><td>Michael Jordan</td><td>0.89</td></tr><tr><td>Dillon Brooks</td><td>0.89</td></tr><tr><td>Dan Dickau</td><td>0.89</td></tr><tr><td>Walt Williams</td><td>0.89</td></tr><tr><td>Trey Burke</td><td>0.89</td></tr><tr><td>Al Harrington</td><td>0.89</td></tr><tr><td>Brandon Ingram</td><td>0.89</td></tr><tr><td>Linas Kleiza</td><td>0.89</td></tr><tr><td>Felipe Lopez</td><td>0.89</td></tr><tr><td>Tyronn Lue</td><td>0.89</td></tr><tr><td>Tony Massenburg</td><td>0.89</td></tr><tr><td>Derek Anderson</td><td>0.88</td></tr><tr><td>Keyon Dooling</td><td>0.88</td></tr><tr><td>Shandon Anderson</td><td>0.88</td></tr><tr><td>Vernon Maxwell</td><td>0.88</td></tr><tr><td>Rick Brunson</td><td>0.88</td></tr><tr><td>Al Thornton</td><td>0.88</td></tr><tr><td>Charlie Ward</td><td>0.88</td></tr><tr><td>Jason Smith</td><td>0.88</td></tr><tr><td>Steve Francis</td><td>0.88</td></tr><tr><td>Kevin Seraphin</td><td>0.88</td></tr><tr><td>P.J. Brown</td><td>0.88</td></tr><tr><td>Dion Waiters</td><td>0.88</td></tr><tr><td>Rafer Alston</td><td>0.88</td></tr><tr><td>Derek Fisher</td><td>0.88</td></tr><tr><td>Marc Jackson</td><td>0.88</td></tr><tr><td>Jason Williams</td><td>0.88</td></tr><tr><td>Joey Graham</td><td>0.88</td></tr><tr><td>Kobe Bryant</td><td>0.88</td></tr><tr><td>Kristaps Porzingis</td><td>0.88</td></tr><tr><td>Jamal Mashburn</td><td>0.88</td></tr><tr><td>Eddie Jones</td><td>0.88</td></tr><tr><td>Juan Dixon</td><td>0.87</td></tr><tr><td>Earl Boykins</td><td>0.87</td></tr><tr><td>Willie Green</td><td>0.87</td></tr><tr><td>Sasha Pavlovic</td><td>0.87</td></tr><tr><td>Troy Hudson</td><td>0.87</td></tr><tr><td>Rex Chapman</td><td>0.87</td></tr><tr><td>Jason Kidd</td><td>0.87</td></tr><tr><td>Greivis Vasquez</td><td>0.87</td></tr><tr><td>Larry Hughes</td><td>0.87</td></tr><tr><td>Brian Cook</td><td>0.87</td></tr><tr><td>Caron Butler</td><td>0.87</td></tr><tr><td>Kendall Gill</td><td>0.87</td></tr><tr><td>Allen Iverson</td><td>0.87</td></tr><tr><td>Tyrone Corbin</td><td>0.87</td></tr><tr><td>Tyrone Nesby</td><td>0.86</td></tr><tr><td>Baron Davis</td><td>0.86</td></tr><tr><td>Sebastian Telfair</td><td>0.86</td></tr><tr><td>T.J. Ford</td><td>0.86</td></tr><tr><td>Mario Chalmers</td><td>0.86</td></tr><tr><td>Metta World Peace</td><td>0.86</td></tr><tr><td>Nazr Mohammed</td><td>0.86</td></tr><tr><td>Jason Hart</td><td>0.86</td></tr><tr><td>Jerryd Bayless</td><td>0.86</td></tr><tr><td>LaPhonso Ellis</td><td>0.86</td></tr><tr><td>Evan Turner</td><td>0.86</td></tr><tr><td>Johnny Newman</td><td>0.86</td></tr><tr><td>Emmanuel Mudiay</td><td>0.86</td></tr><tr><td>Darrick Martin</td><td>0.86</td></tr><tr><td>Latrell Sprewell</td><td>0.86</td></tr><tr><td>Kenny Thomas</td><td>0.86</td></tr><tr><td>Bob Sura</td><td>0.86</td></tr><tr><td>Chris Mills</td><td>0.86</td></tr><tr><td>Derrick Coleman</td><td>0.86</td></tr><tr><td>Kenny Anderson</td><td>0.86</td></tr><tr><td>Eric Snow</td><td>0.85</td></tr><tr><td>Luke Ridnour</td><td>0.85</td></tr><tr><td>Jerry Stackhouse</td><td>0.85</td></tr><tr><td>Michael Dickerson</td><td>0.85</td></tr><tr><td>Damon Stoudamire</td><td>0.85</td></tr><tr><td>Stacey Augmon</td><td>0.85</td></tr><tr><td>Rajon Rondo</td><td>0.85</td></tr><tr><td>Raymond Felton</td><td>0.85</td></tr><tr><td>Andre Miller</td><td>0.85</td></tr><tr><td>Gilbert Arenas</td><td>0.85</td></tr><tr><td>Josh Howard</td><td>0.85</td></tr><tr><td>Carlos Arroyo</td><td>0.85</td></tr><tr><td>Walter McCarty</td><td>0.84</td></tr><tr><td>Royal Ivey</td><td>0.84</td></tr><tr><td>Mookie Blaylock</td><td>0.84</td></tr><tr><td>Adonal Foyle</td><td>0.84</td></tr><tr><td>Ron Mercer</td><td>0.84</td></tr><tr><td>Michael Doleac</td><td>0.84</td></tr><tr><td>Vonteego Cummings</td><td>0.84</td></tr><tr><td>Lucious Harris</td><td>0.84</td></tr><tr><td>Toni Kukoc</td><td>0.84</td></tr><tr><td>Malik Sealy</td><td>0.84</td></tr><tr><td>George McCloud</td><td>0.84</td></tr><tr><td>Roger Mason Jr.</td><td>0.84</td></tr><tr><td>Jacque Vaughn</td><td>0.84</td></tr><tr><td>Raja Bell</td><td>0.83</td></tr><tr><td>Jamaal Tinsley</td><td>0.83</td></tr><tr><td>Devean George</td><td>0.83</td></tr><tr><td>Justise Winslow</td><td>0.83</td></tr><tr><td>Terrell Brandon</td><td>0.83</td></tr><tr><td>Charles Oakley</td><td>0.83</td></tr><tr><td>Dion Glover</td><td>0.83</td></tr><tr><td>Yi Jianlian</td><td>0.83</td></tr><tr><td>Earl Watson</td><td>0.83</td></tr><tr><td>Robert Pack</td><td>0.83</td></tr><tr><td>Nick Van Exel</td><td>0.82</td></tr><tr><td>Marko Jaric</td><td>0.82</td></tr><tr><td>Brandon Jennings</td><td>0.82</td></tr><tr><td>DeShawn Stevenson</td><td>0.82</td></tr><tr><td>Alvin Williams</td><td>0.82</td></tr><tr><td>Aaron McKie</td><td>0.81</td></tr><tr><td>Moochie Norris</td><td>0.8</td></tr><tr><td>Desmond Mason</td><td>0.8</td></tr><tr><td>Tom Gugliotta</td><td>0.8</td></tr><tr><td>Brian Scalabrine</td><td>0.8</td></tr><tr><td>Michael Olowokandi</td><td>0.8</td></tr><tr><td>Rodney Stuckey</td><td>0.79</td></tr><tr><td>Kirk Hinrich</td><td>0.79</td></tr><tr><td>Alan Anderson</td><td>0.79</td></tr><tr><td>Ricky Rubio</td><td>0.79</td></tr><tr><td>Malik Rose</td><td>0.78</td></tr><tr><td>Brevin Knight</td><td>0.77</td></tr><tr><td>Brian Shaw</td><td>0.77</td></tr><tr><td>Kevin Ollie</td><td>0.77</td></tr><tr><td>Speedy Claxton</td><td>0.76</td></tr><tr><td>Darko Milicic</td><td>0.76</td></tr><tr><td>Eric Williams</td><td>0.75</td></tr><tr><td>Rodney Buford</td><td>0.74</td></tr></tbody></table></div>"
      ]
     },
     "metadata": {
      "application/vnd.databricks.v1+output": {
       "addedWidgets": {},
       "aggData": [],
       "aggError": "",
       "aggOverflow": false,
       "aggSchema": [],
       "aggSeriesLimitReached": false,
       "aggType": "",
       "arguments": {},
       "columnCustomDisplayInfos": {},
       "data": [
        [
         "Deandre Ayton",
         1.42
        ],
        [
         "DeAndre Jordan",
         1.37
        ],
        [
         "Rudy Gobert",
         1.36
        ],
        [
         "Hassan Whiteside",
         1.34
        ],
        [
         "Clint Capela",
         1.33
        ],
        [
         "Montrezl Harrell",
         1.3
        ],
        [
         "John Collins",
         1.28
        ],
        [
         "Seth Curry",
         1.27
        ],
        [
         "Mason Plumlee",
         1.24
        ],
        [
         "Tyson Chandler",
         1.24
        ],
        [
         "Mike Muscala",
         1.24
        ],
        [
         "Dwight Howard",
         1.24
        ],
        [
         "Brent Barry",
         1.22
        ],
        [
         "Steve Kerr",
         1.21
        ],
        [
         "Doug McDermott",
         1.21
        ],
        [
         "Willie Cauley-Stein",
         1.21
        ],
        [
         "Jonas Valanciunas",
         1.2
        ],
        [
         "Kenneth Faried",
         1.2
        ],
        [
         "Carl Landry",
         1.2
        ],
        [
         "Ben Simmons",
         1.19
        ],
        [
         "Bam Adebayo",
         1.19
        ],
        [
         "Marcin Gortat",
         1.19
        ],
        [
         "Steven Adams",
         1.18
        ],
        [
         "Pat Connaughton",
         1.18
        ],
        [
         "Samuel Dalembert",
         1.18
        ],
        [
         "Enes Freedom",
         1.18
        ],
        [
         "Gorgui Dieng",
         1.18
        ],
        [
         "Eddy Curry",
         1.17
        ],
        [
         "Joe Harris",
         1.17
        ],
        [
         "Amir Johnson",
         1.17
        ],
        [
         "Troy Daniels",
         1.17
        ],
        [
         "Aaron Holiday",
         1.17
        ],
        [
         "Tristan Thompson",
         1.16
        ],
        [
         "Steve Novak",
         1.16
        ],
        [
         "Giannis Antetokounmpo",
         1.16
        ],
        [
         "Andre Drummond",
         1.16
        ],
        [
         "Karl-Anthony Towns",
         1.16
        ],
        [
         "Chris Wilcox",
         1.16
        ],
        [
         "Eric Piatkowski",
         1.15
        ],
        [
         "Nikola Mirotic",
         1.15
        ],
        [
         "Shaquille O'Neal",
         1.15
        ],
        [
         "James Jones",
         1.15
        ],
        [
         "Saddiq Bey",
         1.15
        ],
        [
         "Otto Porter Jr.",
         1.15
        ],
        [
         "Kelly Olynyk",
         1.15
        ],
        [
         "Jon Leuer",
         1.15
        ],
        [
         "Lauri Markkanen",
         1.15
        ],
        [
         "Jason Caffey",
         1.15
        ],
        [
         "Dana Barros",
         1.14
        ],
        [
         "Yogi Ferrell",
         1.14
        ],
        [
         "Tony Allen",
         1.14
        ],
        [
         "Joe Ingles",
         1.14
        ],
        [
         "Derrick Favors",
         1.14
        ],
        [
         "Kevin Huerter",
         1.14
        ],
        [
         "Trevor Booker",
         1.13
        ],
        [
         "Mikal Bridges",
         1.13
        ],
        [
         "Bryn Forbes",
         1.13
        ],
        [
         "Boban Marjanovic",
         1.13
        ],
        [
         "Nene",
         1.13
        ],
        [
         "Carlos Boozer",
         1.13
        ],
        [
         "Mario Hezonja",
         1.13
        ],
        [
         "Bismack Biyombo",
         1.12
        ],
        [
         "Manu Ginobili",
         1.12
        ],
        [
         "Terry Porter",
         1.12
        ],
        [
         "Christian Wood",
         1.12
        ],
        [
         "Stephen Curry",
         1.12
        ],
        [
         "Emeka Okafor",
         1.12
        ],
        [
         "Amar'e Stoudemire",
         1.11
        ],
        [
         "T.J. Warren",
         1.11
        ],
        [
         "Al Horford",
         1.11
        ],
        [
         "Kyle Korver",
         1.11
        ],
        [
         "Mike Miller",
         1.11
        ],
        [
         "Chandler Parsons",
         1.1
        ],
        [
         "Hersey Hawkins",
         1.1
        ],
        [
         "Jose Calderon",
         1.1
        ],
        [
         "Patrick Patterson",
         1.1
        ],
        [
         "Brandan Wright",
         1.1
        ],
        [
         "Dwight Powell",
         1.1
        ],
        [
         "Jon Barry",
         1.1
        ],
        [
         "Reggie Bullock",
         1.1
        ],
        [
         "Josh Childress",
         1.1
        ],
        [
         "Willy Hernangomez",
         1.1
        ],
        [
         "Gary Trent",
         1.09
        ],
        [
         "Toney Douglas",
         1.09
        ],
        [
         "Nikola Jokic",
         1.09
        ],
        [
         "Jalen Brunson",
         1.09
        ],
        [
         "Darius Songaila",
         1.09
        ],
        [
         "Anthony Davis",
         1.09
        ],
        [
         "Yao Ming",
         1.09
        ],
        [
         "Dewayne Dedmon",
         1.09
        ],
        [
         "Brendan Haywood",
         1.09
        ],
        [
         "Davis Bertans",
         1.09
        ],
        [
         "Hakim Warrick",
         1.09
        ],
        [
         "JaMychal Green",
         1.09
        ],
        [
         "Marcus Banks",
         1.09
        ],
        [
         "Luke Kennard",
         1.09
        ],
        [
         "Mickael Pietrus",
         1.09
        ],
        [
         "Domantas Sabonis",
         1.09
        ],
        [
         "Steve Nash",
         1.09
        ],
        [
         "Richaun Holmes",
         1.09
        ],
        [
         "Wayne Ellington",
         1.08
        ],
        [
         "Fred Hoiberg",
         1.08
        ],
        [
         "Bo Outlaw",
         1.08
        ],
        [
         "Anthony Edwards",
         1.08
        ],
        [
         "Quinn Cook",
         1.08
        ],
        [
         "Jeremy Lin",
         1.08
        ],
        [
         "Julius Randle",
         1.08
        ],
        [
         "Nick Collison",
         1.08
        ],
        [
         "Terry Rozier",
         1.08
        ],
        [
         "Jordan Poole",
         1.08
        ],
        [
         "Theo Ratliff",
         1.08
        ],
        [
         "Aaron Gordon",
         1.08
        ],
        [
         "Dale Davis",
         1.08
        ],
        [
         "Greg Monroe",
         1.08
        ],
        [
         "Tobias Harris",
         1.08
        ],
        [
         "Shai Gilgeous-Alexander",
         1.08
        ],
        [
         "David Robinson",
         1.07
        ],
        [
         "Danny Manning",
         1.07
        ],
        [
         "Wesley Person",
         1.07
        ],
        [
         "Allen Crabbe",
         1.07
        ],
        [
         "Daniel Gibson",
         1.07
        ],
        [
         "Anthony Morrow",
         1.07
        ],
        [
         "Josh Hart",
         1.07
        ],
        [
         "Alonzo Mourning",
         1.07
        ],
        [
         "Mike Scott",
         1.07
        ],
        [
         "Buddy Hield",
         1.06
        ],
        [
         "Hubert Davis",
         1.06
        ],
        [
         "Kwame Brown",
         1.06
        ],
        [
         "Jae Crowder",
         1.06
        ],
        [
         "JJ Hickson",
         1.06
        ],
        [
         "Miles Bridges",
         1.06
        ],
        [
         "Jayson Tatum",
         1.06
        ],
        [
         "Darren Collison",
         1.06
        ],
        [
         "Bogdan Bogdanovic",
         1.06
        ],
        [
         "Patrick Beverley",
         1.06
        ],
        [
         "Taj Gibson",
         1.06
        ],
        [
         "Aaron Williams",
         1.06
        ],
        [
         "Maurice Harkless",
         1.06
        ],
        [
         "Arvydas Sabonis",
         1.06
        ],
        [
         "Shammond Williams",
         1.06
        ],
        [
         "Bojan Bogdanovic",
         1.06
        ],
        [
         "Patty Mills",
         1.06
        ],
        [
         "Rick Fox",
         1.06
        ],
        [
         "Jud Buechler",
         1.06
        ],
        [
         "Glen Rice",
         1.06
        ],
        [
         "JaVale McGee",
         1.06
        ],
        [
         "Chris Copeland",
         1.06
        ],
        [
         "Rashad McCants",
         1.06
        ],
        [
         "Rodney Carney",
         1.06
        ],
        [
         "Frank Kaminsky",
         1.06
        ],
        [
         "JJ Redick",
         1.06
        ],
        [
         "Norman Powell",
         1.06
        ],
        [
         "CJ McCollum",
         1.05
        ],
        [
         "Leandro Barbosa",
         1.05
        ],
        [
         "Bryant Reeves",
         1.05
        ],
        [
         "Vinny Del Negro",
         1.05
        ],
        [
         "Rasual Butler",
         1.05
        ],
        [
         "Ray Allen",
         1.05
        ],
        [
         "Dorian Finney-Smith",
         1.05
        ],
        [
         "Luther Head",
         1.05
        ],
        [
         "Tony Snell",
         1.05
        ],
        [
         "Thaddeus Young",
         1.05
        ],
        [
         "Bruce Bowen",
         1.05
        ],
        [
         "Cory Joseph",
         1.05
        ],
        [
         "Serge Ibaka",
         1.05
        ],
        [
         "Shawn Marion",
         1.05
        ],
        [
         "Marco Belinelli",
         1.05
        ],
        [
         "Andrei Kirilenko",
         1.05
        ],
        [
         "Channing Frye",
         1.05
        ],
        [
         "Danny Green",
         1.05
        ],
        [
         "Malik Monk",
         1.05
        ],
        [
         "Jordan Hill",
         1.04
        ],
        [
         "Klay Thompson",
         1.04
        ],
        [
         "Tony Parker",
         1.04
        ],
        [
         "Todd Day",
         1.04
        ],
        [
         "Jason Terry",
         1.04
        ],
        [
         "Danny Fortson",
         1.04
        ],
        [
         "Caris LeVert",
         1.04
        ],
        [
         "Dario Saric",
         1.04
        ],
        [
         "Kawhi Leonard",
         1.04
        ],
        [
         "Goran Dragic",
         1.04
        ],
        [
         "Francisco Garcia",
         1.04
        ],
        [
         "Kelenna Azubuike",
         1.04
        ],
        [
         "Chris Bosh",
         1.04
        ],
        [
         "Mehmet Okur",
         1.04
        ],
        [
         "Bryon Russell",
         1.04
        ],
        [
         "John Stockton",
         1.04
        ],
        [
         "Jason Thompson",
         1.04
        ],
        [
         "David Lee",
         1.04
        ],
        [
         "JR Smith",
         1.04
        ],
        [
         "Monte Morris",
         1.03
        ],
        [
         "Jason Kapono",
         1.03
        ],
        [
         "Matt Bonner",
         1.03
        ],
        [
         "Anderson Varejao",
         1.03
        ],
        [
         "Jonas Jerebko",
         1.03
        ],
        [
         "LeBron James",
         1.03
        ],
        [
         "Antonio Daniels",
         1.03
        ],
        [
         "Ben McLemore",
         1.03
        ],
        [
         "Anthony Tolliver",
         1.03
        ],
        [
         "Brandon Rush",
         1.03
        ],
        [
         "Donyell Marshall",
         1.03
        ],
        [
         "Kendrick Perkins",
         1.03
        ],
        [
         "Bobby Portis",
         1.03
        ],
        [
         "Greg Buckner",
         1.03
        ],
        [
         "Lonzo Ball",
         1.03
        ],
        [
         "Shawn Bradley",
         1.03
        ],
        [
         "Morris Peterson",
         1.02
        ],
        [
         "Josh Jackson",
         1.02
        ],
        [
         "Pau Gasol",
         1.02
        ],
        [
         "Wesley Matthews",
         1.02
        ],
        [
         "Jaren Jackson",
         1.02
        ],
        [
         "Peja Stojakovic",
         1.02
        ],
        [
         "Luis Scola",
         1.02
        ],
        [
         "Ian Clark",
         1.02
        ],
        [
         "James Johnson",
         1.02
        ],
        [
         "Jamaal Magloire",
         1.02
        ],
        [
         "Gary Payton",
         1.02
        ],
        [
         "Malik Beasley",
         1.02
        ],
        [
         "Chris Paul",
         1.02
        ],
        [
         "T.J. McConnell",
         1.02
        ],
        [
         "Horace Grant",
         1.02
        ],
        [
         "Maurice Evans",
         1.02
        ],
        [
         "Dale Ellis",
         1.02
        ],
        [
         "Dennis Scott",
         1.02
        ],
        [
         "Terrence Ross",
         1.02
        ],
        [
         "Boris Diaw",
         1.02
        ],
        [
         "George Lynch",
         1.02
        ],
        [
         "Tyler Herro",
         1.02
        ],
        [
         "Eddie House",
         1.01
        ],
        [
         "Chase Budinger",
         1.01
        ],
        [
         "Myles Turner",
         1.01
        ],
        [
         "Matt Harpring",
         1.01
        ],
        [
         "Collin Sexton",
         1.01
        ],
        [
         "Antonio McDyess",
         1.01
        ],
        [
         "Fred Jones",
         1.01
        ],
        [
         "Devonte' Graham",
         1.01
        ],
        [
         "Devin Booker",
         1.01
        ],
        [
         "Jason Maxiell",
         1.01
        ],
        [
         "Cedi Osman",
         1.01
        ],
        [
         "James Harden",
         1.01
        ],
        [
         "Dell Curry",
         1.01
        ],
        [
         "Rodney Rogers",
         1.01
        ],
        [
         "Lawrence Funderburke",
         1.01
        ],
        [
         "Beno Udrih",
         1.01
        ],
        [
         "Kosta Koufos",
         1.01
        ],
        [
         "Jeff Foster",
         1.01
        ],
        [
         "Delon Wright",
         1.01
        ],
        [
         "Matt Barnes",
         1.01
        ],
        [
         "Luka Doncic",
         1.01
        ],
        [
         "DeJuan Blair",
         1.01
        ],
        [
         "DeMarre Carroll",
         1.01
        ],
        [
         "Ben Wallace",
         1.01
        ],
        [
         "Karl Malone",
         1.01
        ],
        [
         "Vin Baker",
         1.01
        ],
        [
         "Harrison Barnes",
         1.01
        ],
        [
         "Vladimir Radmanovic",
         1.01
        ],
        [
         "Greg Anthony",
         1.0
        ],
        [
         "Voshon Lenard",
         1.0
        ],
        [
         "Jordan Clarkson",
         1.0
        ],
        [
         "Kris Humphries",
         1.0
        ],
        [
         "Bonzi Wells",
         1.0
        ],
        [
         "Jason Richardson",
         1.0
        ],
        [
         "Alonzo Gee",
         1.0
        ],
        [
         "Gary Harris",
         1.0
        ],
        [
         "Zach LaVine",
         1.0
        ],
        [
         "Kyle Kuzma",
         1.0
        ],
        [
         "Marvin Williams",
         1.0
        ],
        [
         "Pascal Siakam",
         1.0
        ],
        [
         "Spencer Hawes",
         1.0
        ],
        [
         "Damian Lillard",
         1.0
        ],
        [
         "Joel Embiid",
         1.0
        ],
        [
         "James Robinson",
         1.0
        ],
        [
         "Ersan Ilyasova",
         1.0
        ],
        [
         "Timothe Luwawu-Cabarrot",
         1.0
        ],
        [
         "Brandon Bass",
         1.0
        ],
        [
         "P.J. Tucker",
         1.0
        ],
        [
         "Jodie Meeks",
         1.0
        ],
        [
         "Blake Griffin",
         1.0
        ],
        [
         "Martell Webster",
         1.0
        ],
        [
         "Robert Covington",
         1.0
        ],
        [
         "Josh Richardson",
         1.0
        ],
        [
         "Smush Parker",
         1.0
        ],
        [
         "Delonte West",
         1.0
        ],
        [
         "Matt Carroll",
         0.99
        ],
        [
         "De'Aaron Fox",
         0.99
        ],
        [
         "Marc Gasol",
         0.99
        ],
        [
         "Stromile Swift",
         0.99
        ],
        [
         "Marcus Morris Sr.",
         0.99
        ],
        [
         "Tyler Johnson",
         0.99
        ],
        [
         "Alex Len",
         0.99
        ],
        [
         "Marcus Thornton",
         0.99
        ],
        [
         "George Hill",
         0.99
        ],
        [
         "Nate Robinson",
         0.99
        ],
        [
         "Luol Deng",
         0.99
        ],
        [
         "Austin Rivers",
         0.99
        ],
        [
         "Aron Baynes",
         0.99
        ],
        [
         "Primoz Brezec",
         0.99
        ],
        [
         "Will Bynum",
         0.99
        ],
        [
         "Tyrone Hill",
         0.99
        ],
        [
         "Lorenzen Wright",
         0.99
        ],
        [
         "Brook Lopez",
         0.99
        ],
        [
         "Malcolm Brogdon",
         0.99
        ],
        [
         "Tim Hardaway Jr.",
         0.99
        ],
        [
         "Dante Cunningham",
         0.99
        ],
        [
         "Jalen Rose",
         0.99
        ],
        [
         "Kentavious Caldwell-Pope",
         0.99
        ],
        [
         "Michael Beasley",
         0.99
        ],
        [
         "Corey Brewer",
         0.99
        ],
        [
         "Iman Shumpert",
         0.99
        ],
        [
         "Shelvin Mack",
         0.99
        ],
        [
         "Derrick White",
         0.98
        ],
        [
         "Deron Williams",
         0.98
        ],
        [
         "Tracy Murray",
         0.98
        ],
        [
         "Ty Lawson",
         0.98
        ],
        [
         "Shane Battier",
         0.98
        ],
        [
         "John Wallace",
         0.98
        ],
        [
         "Bobby Simmons",
         0.98
        ],
        [
         "Kyle O'Quinn",
         0.98
        ],
        [
         "Robin Lopez",
         0.98
        ],
        [
         "Jerami Grant",
         0.98
        ],
        [
         "Wally Szczerbiak",
         0.98
        ],
        [
         "Sasha Vujacic",
         0.98
        ],
        [
         "Jerome Williams",
         0.98
        ],
        [
         "Kyrie Irving",
         0.98
        ],
        [
         "Jordan Farmar",
         0.98
        ],
        [
         "Kevin Durant",
         0.98
        ],
        [
         "Marreese Speights",
         0.98
        ],
        [
         "Travis Outlaw",
         0.98
        ],
        [
         "Mike Dunleavy",
         0.98
        ],
        [
         "Dorell Wright",
         0.98
        ],
        [
         "Ruben Patterson",
         0.98
        ],
        [
         "Tim Thomas",
         0.98
        ],
        [
         "Richard Jefferson",
         0.98
        ],
        [
         "John Henson",
         0.98
        ],
        [
         "Michael Redd",
         0.98
        ],
        [
         "Kareem Rush",
         0.98
        ],
        [
         "Trenton Hassell",
         0.98
        ],
        [
         "Rashard Lewis",
         0.98
        ],
        [
         "LaMarcus Aldridge",
         0.98
        ],
        [
         "Milt Palacio",
         0.98
        ],
        [
         "Rasho Nesterovic",
         0.98
        ],
        [
         "Jaylen Brown",
         0.98
        ],
        [
         "Hedo Turkoglu",
         0.98
        ],
        [
         "Jumaine Jones",
         0.98
        ],
        [
         "Isaiah Thomas",
         0.98
        ],
        [
         "Monta Ellis",
         0.98
        ],
        [
         "Avery Bradley",
         0.98
        ],
        [
         "Ja Morant",
         0.98
        ],
        [
         "Erick Dampier",
         0.98
        ],
        [
         "Paul Millsap",
         0.97
        ],
        [
         "Al Jefferson",
         0.97
        ],
        [
         "Nicolas Batum",
         0.97
        ],
        [
         "Corey Maggette",
         0.97
        ],
        [
         "Detlef Schrempf",
         0.97
        ],
        [
         "Wesley Johnson",
         0.97
        ],
        [
         "Eric Bledsoe",
         0.97
        ],
        [
         "Doug Christie",
         0.97
        ],
        [
         "Victor Oladipo",
         0.97
        ],
        [
         "Kelly Oubre Jr.",
         0.97
        ],
        [
         "Rodney Hood",
         0.97
        ],
        [
         "Jeremy Lamb",
         0.97
        ],
        [
         "Jonathon Simmons",
         0.97
        ],
        [
         "Damon Jones",
         0.97
        ],
        [
         "Taurean Prince",
         0.97
        ],
        [
         "Gary Trent Jr.",
         0.97
        ],
        [
         "Gordon Hayward",
         0.97
        ],
        [
         "Mike Conley",
         0.97
        ],
        [
         "Christian Laettner",
         0.97
        ],
        [
         "Austin Croshere",
         0.97
        ],
        [
         "Jusuf Nurkic",
         0.97
        ],
        [
         "Andrew Bogut",
         0.97
        ],
        [
         "Nikola Vucevic",
         0.97
        ],
        [
         "Jeff Green",
         0.97
        ],
        [
         "Pat Garrity",
         0.97
        ],
        [
         "Donovan Mitchell",
         0.97
        ],
        [
         "Jamal Murray",
         0.97
        ],
        [
         "James Posey",
         0.97
        ],
        [
         "Darius Garland",
         0.97
        ],
        [
         "Courtney Lee",
         0.97
        ],
        [
         "Raul Neto",
         0.97
        ],
        [
         "Calbert Cheaney",
         0.97
        ],
        [
         "Tim Duncan",
         0.97
        ],
        [
         "Corliss Williamson",
         0.97
        ],
        [
         "Antawn Jamison",
         0.97
        ],
        [
         "Josh Smith",
         0.97
        ],
        [
         "Bobby Jackson",
         0.97
        ],
        [
         "Fred VanVleet",
         0.97
        ],
        [
         "D.J. Augustin",
         0.97
        ],
        [
         "Shaun Livingston",
         0.96
        ],
        [
         "Michael Finley",
         0.96
        ],
        [
         "Carlos Delfino",
         0.96
        ],
        [
         "Scott Padgett",
         0.96
        ],
        [
         "Paul George",
         0.96
        ],
        [
         "Kenyon Martin",
         0.96
        ],
        [
         "CJ Miles",
         0.96
        ],
        [
         "Monty Williams",
         0.96
        ],
        [
         "Erick Strickland",
         0.96
        ],
        [
         "Larry Johnson",
         0.96
        ],
        [
         "Ryan Gomes",
         0.96
        ],
        [
         "Trae Young",
         0.96
        ],
        [
         "Anthony Peeler",
         0.96
        ],
        [
         "Jrue Holiday",
         0.96
        ],
        [
         "Joe Dumars",
         0.96
        ],
        [
         "Dejounte Murray",
         0.96
        ],
        [
         "Brandon Roy",
         0.96
        ],
        [
         "Jarvis Hayes",
         0.96
        ],
        [
         "Travis Best",
         0.96
        ],
        [
         "E'Twaun Moore",
         0.96
        ],
        [
         "Khris Middleton",
         0.96
        ],
        [
         "Udonis Haslem",
         0.96
        ],
        [
         "Nenad Krstic",
         0.96
        ],
        [
         "Tyrus Thomas",
         0.96
        ],
        [
         "Zach Randolph",
         0.96
        ],
        [
         "Kemba Walker",
         0.96
        ],
        [
         "Hakeem Olajuwon",
         0.96
        ],
        [
         "Charlie Villanueva",
         0.96
        ],
        [
         "Dennis Schroder",
         0.96
        ],
        [
         "Andre Iguodala",
         0.96
        ],
        [
         "Kevin Martin",
         0.96
        ],
        [
         "Lou Williams",
         0.96
        ],
        [
         "Reggie Jackson",
         0.96
        ],
        [
         "Kyle Anderson",
         0.96
        ],
        [
         "Jeff McInnis",
         0.96
        ],
        [
         "Marcus Camby",
         0.96
        ],
        [
         "Danny Ferry",
         0.95
        ],
        [
         "Jameer Nelson",
         0.95
        ],
        [
         "Alec Burks",
         0.95
        ],
        [
         "Draymond Green",
         0.95
        ],
        [
         "Mark Jackson",
         0.95
        ],
        [
         "Jeff Teague",
         0.95
        ],
        [
         "Justin Anderson",
         0.95
        ],
        [
         "Kevin Garnett",
         0.95
        ],
        [
         "Elfrid Payton",
         0.95
        ],
        [
         "Rik Smits",
         0.95
        ],
        [
         "Ronnie Brewer",
         0.95
        ],
        [
         "Cedric Ceballos",
         0.95
        ],
        [
         "Maurice Taylor",
         0.95
        ],
        [
         "Elton Brand",
         0.95
        ],
        [
         "Aaron Brooks",
         0.95
        ],
        [
         "Mike Bibby",
         0.95
        ],
        [
         "Andray Blatche",
         0.95
        ],
        [
         "Mirza Teletovic",
         0.95
        ],
        [
         "Lamar Odom",
         0.95
        ],
        [
         "Lance Stephenson",
         0.95
        ],
        [
         "Evan Fournier",
         0.95
        ],
        [
         "Eric Gordon",
         0.95
        ],
        [
         "Danilo Gallinari",
         0.95
        ],
        [
         "Marcus Fizer",
         0.95
        ],
        [
         "Jamal Crawford",
         0.95
        ],
        [
         "Joe Smith",
         0.95
        ],
        [
         "Elden Campbell",
         0.95
        ],
        [
         "Quentin Richardson",
         0.95
        ],
        [
         "Drew Gooden",
         0.95
        ],
        [
         "Bimbo Coles",
         0.95
        ],
        [
         "Anthony Johnson",
         0.95
        ],
        [
         "Matthew Dellavedova",
         0.95
        ],
        [
         "Nick Anderson",
         0.95
        ],
        [
         "RJ Barrett",
         0.95
        ],
        [
         "Kurt Thomas",
         0.95
        ],
        [
         "Lamond Murray",
         0.95
        ],
        [
         "Omri Casspi",
         0.94
        ],
        [
         "Randy Foye",
         0.94
        ],
        [
         "Avery Johnson",
         0.94
        ],
        [
         "Anfernee Simons",
         0.94
        ],
        [
         "Shannon Brown",
         0.94
        ],
        [
         "Isaiah Rider",
         0.94
        ],
        [
         "Dirk Nowitzki",
         0.94
        ],
        [
         "Mitch Richmond",
         0.94
        ],
        [
         "Damien Wilkins",
         0.94
        ],
        [
         "Spencer Dinwiddie",
         0.94
        ],
        [
         "David West",
         0.94
        ],
        [
         "Daequan Cook",
         0.94
        ],
        [
         "Andrew Wiggins",
         0.94
        ],
        [
         "Devin Brown",
         0.94
        ],
        [
         "DeMarcus Cousins",
         0.94
        ],
        [
         "Langston Galloway",
         0.94
        ],
        [
         "Derrick Williams",
         0.94
        ],
        [
         "Gordan Giricek",
         0.94
        ],
        [
         "Anthony Mason",
         0.94
        ],
        [
         "Joe Johnson",
         0.94
        ],
        [
         "Al-Farouq Aminu",
         0.94
        ],
        [
         "Mo Williams",
         0.94
        ],
        [
         "Grant Hill",
         0.94
        ],
        [
         "Jabari Parker",
         0.94
        ],
        [
         "Austin Daye",
         0.94
        ],
        [
         "Ramon Sessions",
         0.94
        ],
        [
         "Reggie Miller",
         0.94
        ],
        [
         "Ronnie Price",
         0.94
        ],
        [
         "Vitaly Potapenko",
         0.94
        ],
        [
         "Robert Horry",
         0.94
        ],
        [
         "Chauncey Billups",
         0.94
        ],
        [
         "Tyus Jones",
         0.94
        ],
        [
         "Wilson Chandler",
         0.94
        ],
        [
         "Glenn Robinson",
         0.94
        ],
        [
         "Luke Walton",
         0.94
        ],
        [
         "Rudy Gay",
         0.94
        ],
        [
         "Markieff Morris",
         0.94
        ],
        [
         "Gary Neal",
         0.94
        ],
        [
         "Anthony Carter",
         0.94
        ],
        [
         "Russell Westbrook",
         0.94
        ],
        [
         "Paul Pierce",
         0.94
        ],
        [
         "Dan Majerle",
         0.94
        ],
        [
         "Keith Van Horn",
         0.93
        ],
        [
         "Richard Hamilton",
         0.93
        ],
        [
         "Devin Harris",
         0.93
        ],
        [
         "Elliot Perry",
         0.93
        ],
        [
         "Zaza Pachulia",
         0.93
        ],
        [
         "Ryan Anderson",
         0.93
        ],
        [
         "Bradley Beal",
         0.93
        ],
        [
         "Mark Blount",
         0.93
        ],
        [
         "D'Angelo Russell",
         0.93
        ],
        [
         "Anthony Parker",
         0.93
        ],
        [
         "Jared Sullinger",
         0.93
        ],
        [
         "Brandon Knight",
         0.93
        ],
        [
         "DerMarr Johnson",
         0.93
        ],
        [
         "Cory Alexander",
         0.93
        ],
        [
         "Trey Lyles",
         0.93
        ],
        [
         "Arron Afflalo",
         0.93
        ],
        [
         "Chris Webber",
         0.93
        ],
        [
         "Vince Carter",
         0.93
        ],
        [
         "Cuttino Mobley",
         0.93
        ],
        [
         "Trevor Ariza",
         0.93
        ],
        [
         "Roy Hibbert",
         0.93
        ],
        [
         "Chris Whitney",
         0.93
        ],
        [
         "Sam Mitchell",
         0.93
        ],
        [
         "J.J. Barea",
         0.93
        ],
        [
         "Chris Kaman",
         0.93
        ],
        [
         "DeMar DeRozan",
         0.93
        ],
        [
         "Howard Eisley",
         0.93
        ],
        [
         "Alan Henderson",
         0.93
        ],
        [
         "Jordan Crawford",
         0.93
        ],
        [
         "Kevin Love",
         0.93
        ],
        [
         "Darrell Armstrong",
         0.93
        ],
        [
         "Marcus Smart",
         0.93
        ],
        [
         "Andrea Bargnani",
         0.93
        ],
        [
         "Chucky Atkins",
         0.92
        ],
        [
         "Hollis Thompson",
         0.92
        ],
        [
         "Sam Cassell",
         0.92
        ],
        [
         "Dennis Smith Jr.",
         0.92
        ],
        [
         "Tim Hardaway",
         0.92
        ],
        [
         "Sherman Douglas",
         0.92
        ],
        [
         "Tony Battie",
         0.92
        ],
        [
         "Danny Granger",
         0.92
        ],
        [
         "Nik Stauskas",
         0.92
        ],
        [
         "Clifford Robinson",
         0.92
        ],
        [
         "Jimmy Butler",
         0.92
        ],
        [
         "Allan Houston",
         0.92
        ],
        [
         "Thabo Sefolosha",
         0.92
        ],
        [
         "Vlade Divac",
         0.92
        ],
        [
         "Dikembe Mutombo",
         0.92
        ],
        [
         "Raef LaFrentz",
         0.92
        ],
        [
         "Kyle Lowry",
         0.92
        ],
        [
         "Will Barton",
         0.92
        ],
        [
         "Chris Duhon",
         0.92
        ],
        [
         "Anfernee Hardaway",
         0.92
        ],
        [
         "Ben Gordon",
         0.92
        ],
        [
         "Dwyane Wade",
         0.92
        ],
        [
         "Bostjan Nachbar",
         0.92
        ],
        [
         "Ricky Davis",
         0.92
        ],
        [
         "Dahntay Jones",
         0.92
        ],
        [
         "Jarrett Jack",
         0.92
        ],
        [
         "Jermaine O'Neal",
         0.92
        ],
        [
         "Rodney White",
         0.92
        ],
        [
         "Steve Blake",
         0.91
        ],
        [
         "Johan Petro",
         0.91
        ],
        [
         "Michael Carter-Williams",
         0.91
        ],
        [
         "Kerry Kittles",
         0.91
        ],
        [
         "Norris Cole",
         0.91
        ],
        [
         "Mark Strickland",
         0.91
        ],
        [
         "Darrell Arthur",
         0.91
        ],
        [
         "Zydrunas Ilgauskas",
         0.91
        ],
        [
         "Eduardo Najera",
         0.91
        ],
        [
         "Scottie Pippen",
         0.91
        ],
        [
         "Gerald Wallace",
         0.91
        ],
        [
         "Chris Gatling",
         0.91
        ],
        [
         "Justin Holiday",
         0.91
        ],
        [
         "Brian Grant",
         0.91
        ],
        [
         "Rasheed Wallace",
         0.91
        ],
        [
         "Kevin Willis",
         0.91
        ],
        [
         "Jeff Hornacek",
         0.91
        ],
        [
         "Stephen Jackson",
         0.91
        ],
        [
         "Tyreke Evans",
         0.91
        ],
        [
         "Garrett Temple",
         0.91
        ],
        [
         "Brad Miller",
         0.91
        ],
        [
         "Shabazz Napier",
         0.91
        ],
        [
         "Darius Miles",
         0.91
        ],
        [
         "Jannero Pargo",
         0.91
        ],
        [
         "C.J. Watson",
         0.91
        ],
        [
         "Shawn Kemp",
         0.91
        ],
        [
         "David Wesley",
         0.91
        ],
        [
         "Derrick Rose",
         0.91
        ],
        [
         "Georges Niang",
         0.91
        ],
        [
         "Chris Childs",
         0.9
        ],
        [
         "Tony Delk",
         0.9
        ],
        [
         "Nick Young",
         0.9
        ],
        [
         "Juwan Howard",
         0.9
        ],
        [
         "Rod Strickland",
         0.9
        ],
        [
         "Stanley Johnson",
         0.9
        ],
        [
         "Glen Davis",
         0.9
        ],
        [
         "Jared Dudley",
         0.9
        ],
        [
         "Stephon Marbury",
         0.9
        ],
        [
         "Troy Murphy",
         0.9
        ],
        [
         "Antonio Davis",
         0.9
        ],
        [
         "Carmelo Anthony",
         0.9
        ],
        [
         "Marquis Daniels",
         0.9
        ],
        [
         "Jim Jackson",
         0.9
        ],
        [
         "Jerian Grant",
         0.9
        ],
        [
         "Kent Bazemore",
         0.9
        ],
        [
         "Gerald Green",
         0.9
        ],
        [
         "Malik Allen",
         0.9
        ],
        [
         "Luc Mbah a Moute",
         0.9
        ],
        [
         "John Starks",
         0.9
        ],
        [
         "Tracy McGrady",
         0.9
        ],
        [
         "Patrick Ewing",
         0.9
        ],
        [
         "Joakim Noah",
         0.9
        ],
        [
         "Robert Traylor",
         0.89
        ],
        [
         "John Salmons",
         0.89
        ],
        [
         "Ish Smith",
         0.89
        ],
        [
         "Mike James",
         0.89
        ],
        [
         "Shareef Abdur-Rahim",
         0.89
        ],
        [
         "Andres Nocioni",
         0.89
        ],
        [
         "O.J. Mayo",
         0.89
        ],
        [
         "Charlie Bell",
         0.89
        ],
        [
         "John Wall",
         0.89
        ],
        [
         "Keith Bogans",
         0.89
        ],
        [
         "Othella Harrington",
         0.89
        ],
        [
         "Lindsey Hunter",
         0.89
        ],
        [
         "Antoine Walker",
         0.89
        ],
        [
         "Lee Nailon",
         0.89
        ],
        [
         "Tayshaun Prince",
         0.89
        ],
        [
         "Michael Jordan",
         0.89
        ],
        [
         "Dillon Brooks",
         0.89
        ],
        [
         "Dan Dickau",
         0.89
        ],
        [
         "Walt Williams",
         0.89
        ],
        [
         "Trey Burke",
         0.89
        ],
        [
         "Al Harrington",
         0.89
        ],
        [
         "Brandon Ingram",
         0.89
        ],
        [
         "Linas Kleiza",
         0.89
        ],
        [
         "Felipe Lopez",
         0.89
        ],
        [
         "Tyronn Lue",
         0.89
        ],
        [
         "Tony Massenburg",
         0.89
        ],
        [
         "Derek Anderson",
         0.88
        ],
        [
         "Keyon Dooling",
         0.88
        ],
        [
         "Shandon Anderson",
         0.88
        ],
        [
         "Vernon Maxwell",
         0.88
        ],
        [
         "Rick Brunson",
         0.88
        ],
        [
         "Al Thornton",
         0.88
        ],
        [
         "Charlie Ward",
         0.88
        ],
        [
         "Jason Smith",
         0.88
        ],
        [
         "Steve Francis",
         0.88
        ],
        [
         "Kevin Seraphin",
         0.88
        ],
        [
         "P.J. Brown",
         0.88
        ],
        [
         "Dion Waiters",
         0.88
        ],
        [
         "Rafer Alston",
         0.88
        ],
        [
         "Derek Fisher",
         0.88
        ],
        [
         "Marc Jackson",
         0.88
        ],
        [
         "Jason Williams",
         0.88
        ],
        [
         "Joey Graham",
         0.88
        ],
        [
         "Kobe Bryant",
         0.88
        ],
        [
         "Kristaps Porzingis",
         0.88
        ],
        [
         "Jamal Mashburn",
         0.88
        ],
        [
         "Eddie Jones",
         0.88
        ],
        [
         "Juan Dixon",
         0.87
        ],
        [
         "Earl Boykins",
         0.87
        ],
        [
         "Willie Green",
         0.87
        ],
        [
         "Sasha Pavlovic",
         0.87
        ],
        [
         "Troy Hudson",
         0.87
        ],
        [
         "Rex Chapman",
         0.87
        ],
        [
         "Jason Kidd",
         0.87
        ],
        [
         "Greivis Vasquez",
         0.87
        ],
        [
         "Larry Hughes",
         0.87
        ],
        [
         "Brian Cook",
         0.87
        ],
        [
         "Caron Butler",
         0.87
        ],
        [
         "Kendall Gill",
         0.87
        ],
        [
         "Allen Iverson",
         0.87
        ],
        [
         "Tyrone Corbin",
         0.87
        ],
        [
         "Tyrone Nesby",
         0.86
        ],
        [
         "Baron Davis",
         0.86
        ],
        [
         "Sebastian Telfair",
         0.86
        ],
        [
         "T.J. Ford",
         0.86
        ],
        [
         "Mario Chalmers",
         0.86
        ],
        [
         "Metta World Peace",
         0.86
        ],
        [
         "Nazr Mohammed",
         0.86
        ],
        [
         "Jason Hart",
         0.86
        ],
        [
         "Jerryd Bayless",
         0.86
        ],
        [
         "LaPhonso Ellis",
         0.86
        ],
        [
         "Evan Turner",
         0.86
        ],
        [
         "Johnny Newman",
         0.86
        ],
        [
         "Emmanuel Mudiay",
         0.86
        ],
        [
         "Darrick Martin",
         0.86
        ],
        [
         "Latrell Sprewell",
         0.86
        ],
        [
         "Kenny Thomas",
         0.86
        ],
        [
         "Bob Sura",
         0.86
        ],
        [
         "Chris Mills",
         0.86
        ],
        [
         "Derrick Coleman",
         0.86
        ],
        [
         "Kenny Anderson",
         0.86
        ],
        [
         "Eric Snow",
         0.85
        ],
        [
         "Luke Ridnour",
         0.85
        ],
        [
         "Jerry Stackhouse",
         0.85
        ],
        [
         "Michael Dickerson",
         0.85
        ],
        [
         "Damon Stoudamire",
         0.85
        ],
        [
         "Stacey Augmon",
         0.85
        ],
        [
         "Rajon Rondo",
         0.85
        ],
        [
         "Raymond Felton",
         0.85
        ],
        [
         "Andre Miller",
         0.85
        ],
        [
         "Gilbert Arenas",
         0.85
        ],
        [
         "Josh Howard",
         0.85
        ],
        [
         "Carlos Arroyo",
         0.85
        ],
        [
         "Walter McCarty",
         0.84
        ],
        [
         "Royal Ivey",
         0.84
        ],
        [
         "Mookie Blaylock",
         0.84
        ],
        [
         "Adonal Foyle",
         0.84
        ],
        [
         "Ron Mercer",
         0.84
        ],
        [
         "Michael Doleac",
         0.84
        ],
        [
         "Vonteego Cummings",
         0.84
        ],
        [
         "Lucious Harris",
         0.84
        ],
        [
         "Toni Kukoc",
         0.84
        ],
        [
         "Malik Sealy",
         0.84
        ],
        [
         "George McCloud",
         0.84
        ],
        [
         "Roger Mason Jr.",
         0.84
        ],
        [
         "Jacque Vaughn",
         0.84
        ],
        [
         "Raja Bell",
         0.83
        ],
        [
         "Jamaal Tinsley",
         0.83
        ],
        [
         "Devean George",
         0.83
        ],
        [
         "Justise Winslow",
         0.83
        ],
        [
         "Terrell Brandon",
         0.83
        ],
        [
         "Charles Oakley",
         0.83
        ],
        [
         "Dion Glover",
         0.83
        ],
        [
         "Yi Jianlian",
         0.83
        ],
        [
         "Earl Watson",
         0.83
        ],
        [
         "Robert Pack",
         0.83
        ],
        [
         "Nick Van Exel",
         0.82
        ],
        [
         "Marko Jaric",
         0.82
        ],
        [
         "Brandon Jennings",
         0.82
        ],
        [
         "DeShawn Stevenson",
         0.82
        ],
        [
         "Alvin Williams",
         0.82
        ],
        [
         "Aaron McKie",
         0.81
        ],
        [
         "Moochie Norris",
         0.8
        ],
        [
         "Desmond Mason",
         0.8
        ],
        [
         "Tom Gugliotta",
         0.8
        ],
        [
         "Brian Scalabrine",
         0.8
        ],
        [
         "Michael Olowokandi",
         0.8
        ],
        [
         "Rodney Stuckey",
         0.79
        ],
        [
         "Kirk Hinrich",
         0.79
        ],
        [
         "Alan Anderson",
         0.79
        ],
        [
         "Ricky Rubio",
         0.79
        ],
        [
         "Malik Rose",
         0.78
        ],
        [
         "Brevin Knight",
         0.77
        ],
        [
         "Brian Shaw",
         0.77
        ],
        [
         "Kevin Ollie",
         0.77
        ],
        [
         "Speedy Claxton",
         0.76
        ],
        [
         "Darko Milicic",
         0.76
        ],
        [
         "Eric Williams",
         0.75
        ],
        [
         "Rodney Buford",
         0.74
        ]
       ],
       "datasetInfos": [],
       "dbfsResultPath": null,
       "isJsonSchema": true,
       "metadata": {
        "dataframeName": "_sqldf",
        "executionCount": 144
       },
       "overflow": false,
       "plotOptions": {
        "customPlotOptions": {},
        "displayType": "table",
        "pivotAggregation": null,
        "pivotColumns": null,
        "xColumns": null,
        "yColumns": null
       },
       "removedWidgets": [],
       "schema": [
        {
         "metadata": "{}",
         "name": "PLAYER_NAME",
         "type": "\"string\""
        },
        {
         "metadata": "{}",
         "name": "AVG_PTS_PER_ATT",
         "type": "\"double\""
        }
       ],
       "type": "table"
      }
     },
     "output_type": "display_data"
    }
   ],
   "source": [
    "%sql\n",
    "--Q7b - Who has the highest average points per attempt during the last 5 minutes of a game (minimum 200 attempts)?\n",
    "\n",
    "SELECT MAX(PLAYER_NAME) AS PLAYER_NAME,\n",
    "       ROUND(AVG(NUM_POINTS), 2) AS AVG_PTS_PER_ATT \n",
    "FROM\n",
    "(SELECT PLAYER_ID, PLAYER_NAME,\n",
    "        CASE WHEN SHOT_TYPE = '2PT Field Goal' AND SHOT_MADE_FLAG = 1\n",
    "             THEN 2\n",
    "             WHEN SHOT_TYPE = '3PT Field Goal' AND SHOT_MADE_FLAG = 1\n",
    "             THEN 3\n",
    "             ELSE 0\n",
    "             END AS NUM_POINTS\n",
    "FROM shotdata\n",
    "WHERE PERIOD = 4 AND 60*MINUTES_REMAINING + SECONDS_REMAINING <= 300) AS PlayerPoints\n",
    "GROUP BY PLAYER_ID\n",
    "HAVING COUNT(*) >= 200\n",
    "ORDER BY AVG_PTS_PER_ATT DESC"
   ]
  },
  {
   "cell_type": "code",
   "execution_count": 0,
   "metadata": {
    "application/vnd.databricks.v1+cell": {
     "cellMetadata": {
      "byteLimit": 2048000,
      "implicitDf": true,
      "rowLimit": 10000
     },
     "inputWidgets": {},
     "nuid": "ad629eac-2fc7-424a-86ee-7390d27e4fd4",
     "showTitle": false,
     "title": ""
    }
   },
   "outputs": [
    {
     "output_type": "display_data",
     "data": {
      "text/html": [
       "<style scoped>\n",
       "  .table-result-container {\n",
       "    max-height: 300px;\n",
       "    overflow: auto;\n",
       "  }\n",
       "  table, th, td {\n",
       "    border: 1px solid black;\n",
       "    border-collapse: collapse;\n",
       "  }\n",
       "  th, td {\n",
       "    padding: 5px;\n",
       "  }\n",
       "  th {\n",
       "    text-align: left;\n",
       "  }\n",
       "</style><div class='table-result-container'><table class='table-result'><thead style='background-color: white'><tr><th>avgShotDist</th><th>era</th></tr></thead><tbody><tr><td>10.795736939471919</td><td>1990s (late)</td></tr><tr><td>11.609678863129671</td><td>2000s (early)</td></tr><tr><td>11.917641387461853</td><td>2000s (late)</td></tr><tr><td>12.058440940209545</td><td>2010s (early)</td></tr><tr><td>12.861003508190173</td><td>2010s (late)</td></tr><tr><td>13.671008213077243</td><td>2020s</td></tr></tbody></table></div>"
      ]
     },
     "metadata": {
      "application/vnd.databricks.v1+output": {
       "addedWidgets": {},
       "aggData": [],
       "aggError": "",
       "aggOverflow": false,
       "aggSchema": [],
       "aggSeriesLimitReached": false,
       "aggType": "",
       "arguments": {},
       "columnCustomDisplayInfos": {},
       "data": [
        [
         10.795736939471919,
         "1990s (late)"
        ],
        [
         11.609678863129671,
         "2000s (early)"
        ],
        [
         11.917641387461853,
         "2000s (late)"
        ],
        [
         12.058440940209545,
         "2010s (early)"
        ],
        [
         12.861003508190173,
         "2010s (late)"
        ],
        [
         13.671008213077243,
         "2020s"
        ]
       ],
       "datasetInfos": [],
       "dbfsResultPath": null,
       "isJsonSchema": true,
       "metadata": {
        "dataframeName": "_sqldf",
        "executionCount": 132
       },
       "overflow": false,
       "plotOptions": {
        "customPlotOptions": {},
        "displayType": "table",
        "pivotAggregation": null,
        "pivotColumns": null,
        "xColumns": null,
        "yColumns": null
       },
       "removedWidgets": [],
       "schema": [
        {
         "metadata": "{}",
         "name": "avgShotDist",
         "type": "\"double\""
        },
        {
         "metadata": "{}",
         "name": "era",
         "type": "\"string\""
        }
       ],
       "type": "table"
      }
     },
     "output_type": "display_data"
    }
   ],
   "source": [
    "%sql\n",
    "--Q5 What is the average shot distance per period?\n",
    "Select avg(SHOT_DISTANCE) as avgShotDist, \n",
    "CASE \n",
    "  WHEN floor(GAME_DATE/10000) < 2000 THEN '1990s (late)' \n",
    "  WHEN floor(GAME_DATE/10000) < 2005 THEN '2000s (early)' \n",
    "  WHEN floor(GAME_DATE/10000) < 2010 THEN '2000s (late)' \n",
    "  WHEN floor(GAME_DATE/10000) < 2015 THEN '2010s (early)' \n",
    "  WHEN floor(GAME_DATE/10000) < 2020 THEN '2010s (late)' \n",
    "  ELSE '2020s' END\n",
    "as era \n",
    "from shotdata \n",
    "group by era\n",
    "order by era;"
   ]
  },
  {
   "cell_type": "code",
   "execution_count": 0,
   "metadata": {
    "application/vnd.databricks.v1+cell": {
     "cellMetadata": {
      "byteLimit": 2048000,
      "implicitDf": true,
      "rowLimit": 10000
     },
     "inputWidgets": {},
     "nuid": "a9c93d75-f2f9-4fa3-82bc-c76204ec8b72",
     "showTitle": false,
     "title": ""
    }
   },
   "outputs": [
    {
     "output_type": "display_data",
     "data": {
      "text/html": [
       "<style scoped>\n",
       "  .table-result-container {\n",
       "    max-height: 300px;\n",
       "    overflow: auto;\n",
       "  }\n",
       "  table, th, td {\n",
       "    border: 1px solid black;\n",
       "    border-collapse: collapse;\n",
       "  }\n",
       "  th, td {\n",
       "    padding: 5px;\n",
       "  }\n",
       "  th {\n",
       "    text-align: left;\n",
       "  }\n",
       "</style><div class='table-result-container'><table class='table-result'><thead style='background-color: white'><tr><th>Team_Name</th><th>gameYear</th><th>goal_percent</th></tr></thead><tbody><tr><td>Utah Jazz</td><td>1998</td><td>50.29893423446842</td></tr><tr><td>Phoenix Suns</td><td>2009</td><td>50.28058361391695</td></tr><tr><td>Phoenix Suns</td><td>2008</td><td>50.280548628428924</td></tr><tr><td>Miami Heat</td><td>2013</td><td>50.16483516483517</td></tr><tr><td>Golden State Warriors</td><td>2017</td><td>49.92513951272628</td></tr><tr><td>Denver Nuggets</td><td>2022</td><td>49.76280834914611</td></tr><tr><td>Utah Jazz</td><td>1997</td><td>49.55442393380013</td></tr><tr><td>Phoenix Suns</td><td>2007</td><td>49.31487498234214</td></tr><tr><td>Golden State Warriors</td><td>2016</td><td>49.258805929552565</td></tr><tr><td>Phoenix Suns</td><td>2022</td><td>49.226441631504926</td></tr><tr><td>Utah Jazz</td><td>2008</td><td>49.18208225042042</td></tr><tr><td>Golden State Warriors</td><td>2018</td><td>49.08787077008773</td></tr><tr><td>Phoenix Suns</td><td>2006</td><td>49.023216308040766</td></tr><tr><td>Washington Bullets</td><td>1997</td><td>48.96294570030296</td></tr><tr><td>Utah Jazz</td><td>1996</td><td>48.908098271155595</td></tr><tr><td>Boston Celtics</td><td>2010</td><td>48.85204081632653</td></tr><tr><td>Indiana Pacers</td><td>2020</td><td>48.778586278586275</td></tr><tr><td>Brooklyn Nets</td><td>2021</td><td>48.74768089053803</td></tr><tr><td>Denver Nuggets</td><td>2020</td><td>48.68353123386681</td></tr><tr><td>Miami Heat</td><td>2011</td><td>48.6318407960199</td></tr><tr><td>Boston Celtics</td><td>2009</td><td>48.62782859894078</td></tr><tr><td>Phoenix Suns</td><td>2021</td><td>48.62293994027209</td></tr><tr><td>Boston Celtics</td><td>2022</td><td>48.516096579476866</td></tr><tr><td>Phoenix Suns</td><td>2010</td><td>48.490793842438876</td></tr><tr><td>Chicago Bulls</td><td>2022</td><td>48.43786704251821</td></tr><tr><td>Los Angeles Lakers</td><td>1998</td><td>48.33778209172531</td></tr><tr><td>Utah Jazz</td><td>2010</td><td>48.33583208395802</td></tr><tr><td>Denver Nuggets</td><td>2011</td><td>48.276633840644585</td></tr><tr><td>Los Angeles Lakers</td><td>2020</td><td>48.24953935246118</td></tr><tr><td>San Antonio Spurs</td><td>2012</td><td>48.21952776005105</td></tr><tr><td>Los Angeles Clippers</td><td>2014</td><td>48.20584631542097</td></tr><tr><td>Miami Heat</td><td>2005</td><td>48.16159065804008</td></tr><tr><td>Miami Heat</td><td>2014</td><td>48.15772462831286</td></tr><tr><td>Dallas Mavericks</td><td>2014</td><td>48.08184143222506</td></tr><tr><td>Milwaukee Bucks</td><td>2019</td><td>48.07486631016043</td></tr><tr><td>Toronto Raptors</td><td>2010</td><td>48.06879903439952</td></tr><tr><td>Oklahoma City Thunder</td><td>2013</td><td>48.058778035576175</td></tr><tr><td>San Antonio Spurs</td><td>2013</td><td>48.0482290881688</td></tr><tr><td>LA Clippers</td><td>2018</td><td>47.99777530589544</td></tr><tr><td>Brooklyn Nets</td><td>2022</td><td>47.94238683127572</td></tr><tr><td>Utah Jazz</td><td>2007</td><td>47.93860969003912</td></tr><tr><td>San Antonio Spurs</td><td>2014</td><td>47.93859649122807</td></tr><tr><td>San Antonio Spurs</td><td>2016</td><td>47.90329801522161</td></tr><tr><td>Orlando Magic</td><td>2006</td><td>47.89594491201224</td></tr><tr><td>Boston Celtics</td><td>2008</td><td>47.88796366389099</td></tr><tr><td>Milwaukee Bucks</td><td>1996</td><td>47.860962566844925</td></tr><tr><td>Golden State Warriors</td><td>2015</td><td>47.85976355483082</td></tr><tr><td>Minnesota Timberwolves</td><td>2022</td><td>47.840375586854464</td></tr><tr><td>Los Angeles Lakers</td><td>2008</td><td>47.80835881753313</td></tr><tr><td>Charlotte Hornets</td><td>1997</td><td>47.78006004108074</td></tr><tr><td>Utah Jazz</td><td>2009</td><td>47.7748891267778</td></tr><tr><td>San Antonio Spurs</td><td>2019</td><td>47.757682693721506</td></tr><tr><td>New Orleans Pelicans</td><td>2018</td><td>47.754941746301874</td></tr><tr><td>Milwaukee Bucks</td><td>2022</td><td>47.75266948100323</td></tr><tr><td>Boston Celtics</td><td>2011</td><td>47.750362844702465</td></tr><tr><td>Los Angeles Clippers</td><td>2013</td><td>47.7437417654809</td></tr><tr><td>Atlanta Hawks</td><td>2022</td><td>47.739908145999514</td></tr><tr><td>San Antonio Spurs</td><td>2015</td><td>47.73596001176125</td></tr><tr><td>New Orleans Pelicans</td><td>2020</td><td>47.733127253992784</td></tr><tr><td>Milwaukee Bucks</td><td>2017</td><td>47.72493005448388</td></tr><tr><td>Cleveland Cavaliers</td><td>2017</td><td>47.692947207981156</td></tr><tr><td>Minnesota Timberwolves</td><td>2003</td><td>47.667220292918614</td></tr><tr><td>Memphis Grizzlies</td><td>2011</td><td>47.65177548682703</td></tr><tr><td>Washington Wizards</td><td>2022</td><td>47.64255739323624</td></tr><tr><td>Denver Nuggets</td><td>2021</td><td>47.639292906690535</td></tr><tr><td>Milwaukee Bucks</td><td>2021</td><td>47.63366860772896</td></tr><tr><td>Chicago Bulls</td><td>2021</td><td>47.609855796525494</td></tr><tr><td>Minnesota Timberwolves</td><td>2017</td><td>47.564823706955686</td></tr><tr><td>Miami Heat</td><td>2012</td><td>47.534571867579274</td></tr><tr><td>Portland Trail Blazers</td><td>2000</td><td>47.52650176678445</td></tr><tr><td>San Antonio Spurs</td><td>2011</td><td>47.523612070951394</td></tr><tr><td>Golden State Warriors</td><td>2014</td><td>47.46908491343776</td></tr><tr><td>Milwaukee Bucks</td><td>2018</td><td>47.46562977364255</td></tr><tr><td>Indiana Pacers</td><td>2017</td><td>47.45174281349813</td></tr><tr><td>Phoenix Suns</td><td>1997</td><td>47.45115995115995</td></tr><tr><td>Denver Nuggets</td><td>2008</td><td>47.44732003959836</td></tr><tr><td>Denver Nuggets</td><td>2013</td><td>47.43284056588777</td></tr><tr><td>Indiana Pacers</td><td>2018</td><td>47.4025974025974</td></tr><tr><td>Los Angeles Clippers</td><td>2015</td><td>47.38625363020329</td></tr><tr><td>LA Clippers</td><td>2020</td><td>47.38120950323974</td></tr><tr><td>Denver Nuggets</td><td>2017</td><td>47.38047138047138</td></tr><tr><td>San Antonio Spurs</td><td>2009</td><td>47.37414543194531</td></tr><tr><td>Philadelphia 76ers</td><td>2019</td><td>47.365462975973024</td></tr><tr><td>Seattle SuperSonics</td><td>1996</td><td>47.36418511066399</td></tr><tr><td>Cleveland Cavaliers</td><td>2022</td><td>47.35064935064935</td></tr><tr><td>Philadelphia 76ers</td><td>2018</td><td>47.32686980609419</td></tr><tr><td>Philadelphia 76ers</td><td>2022</td><td>47.320525783619814</td></tr><tr><td>Seattle SuperSonics</td><td>1998</td><td>47.305242528172464</td></tr><tr><td>Charlotte Hornets</td><td>2022</td><td>47.30021598272138</td></tr><tr><td>Los Angeles Lakers</td><td>2022</td><td>47.294236093632016</td></tr><tr><td>Utah Jazz</td><td>2020</td><td>47.292225201072384</td></tr><tr><td>Denver Nuggets</td><td>2012</td><td>47.291907886272995</td></tr><tr><td>Utah Jazz</td><td>2021</td><td>47.27796873267546</td></tr><tr><td>San Antonio Spurs</td><td>2006</td><td>47.275311957036806</td></tr><tr><td>Oklahoma City Thunder</td><td>2012</td><td>47.27146814404432</td></tr><tr><td>Orlando Magic</td><td>2008</td><td>47.26156751652502</td></tr><tr><td>Dallas Mavericks</td><td>2013</td><td>47.2509526401742</td></tr><tr><td>Milwaukee Bucks</td><td>2016</td><td>47.24943481537302</td></tr><tr><td>Sacramento Kings</td><td>2020</td><td>47.23448454946767</td></tr><tr><td>Phoenix Suns</td><td>2005</td><td>47.22888168100409</td></tr><tr><td>Cleveland Cavaliers</td><td>2020</td><td>47.217125382263</td></tr><tr><td>Golden State Warriors</td><td>2021</td><td>47.21377912867275</td></tr><tr><td>Miami Heat</td><td>2022</td><td>47.20576873551378</td></tr><tr><td>Phoenix Suns</td><td>2020</td><td>47.20369420215495</td></tr><tr><td>LA Clippers</td><td>2021</td><td>47.20299557471917</td></tr><tr><td>Toronto Raptors</td><td>2018</td><td>47.20188284518829</td></tr><tr><td>New Orleans Pelicans</td><td>2022</td><td>47.17898832684825</td></tr><tr><td>New Orleans Pelicans</td><td>2017</td><td>47.158454647256434</td></tr><tr><td>Memphis Grizzlies</td><td>2007</td><td>47.15510522213562</td></tr><tr><td>Los Angeles Lakers</td><td>2018</td><td>47.15381509890997</td></tr><tr><td>Washington Wizards</td><td>2021</td><td>47.15054353793785</td></tr><tr><td>Golden State Warriors</td><td>2009</td><td>47.14941507478158</td></tr><tr><td>LA Clippers</td><td>2017</td><td>47.14370722999107</td></tr><tr><td>Orlando Magic</td><td>2010</td><td>47.133660331085224</td></tr><tr><td>Miami Heat</td><td>2006</td><td>47.13324791800128</td></tr><tr><td>Dallas Mavericks</td><td>2022</td><td>47.118558009647124</td></tr><tr><td>Philadelphia 76ers</td><td>2021</td><td>47.114947751022264</td></tr><tr><td>Los Angeles Lakers</td><td>2019</td><td>47.1025897839462</td></tr><tr><td>Atlanta Hawks</td><td>2013</td><td>47.09667534855217</td></tr><tr><td>Boston Celtics</td><td>2005</td><td>47.08249496981891</td></tr><tr><td>Oklahoma City Thunder</td><td>2011</td><td>47.08235294117647</td></tr><tr><td>Denver Nuggets</td><td>2018</td><td>47.0822658696271</td></tr><tr><td>Cleveland Cavaliers</td><td>2009</td><td>47.060592392121485</td></tr><tr><td>Sacramento Kings</td><td>2021</td><td>47.05818732424832</td></tr><tr><td>Dallas Mavericks</td><td>2011</td><td>47.04405386897969</td></tr><tr><td>Milwaukee Bucks</td><td>2020</td><td>47.03184713375796</td></tr><tr><td>Dallas Mavericks</td><td>2010</td><td>47.02719311722231</td></tr><tr><td>Washington Wizards</td><td>2017</td><td>46.99828473413379</td></tr><tr><td>Dallas Mavericks</td><td>2007</td><td>46.98757763975156</td></tr><tr><td>New Orleans Hornets</td><td>2008</td><td>46.9701726844584</td></tr><tr><td>San Antonio Spurs</td><td>2020</td><td>46.96770805985823</td></tr><tr><td>Orlando Magic</td><td>2007</td><td>46.96682464454977</td></tr><tr><td>Golden State Warriors</td><td>2019</td><td>46.95199211600732</td></tr><tr><td>Philadelphia 76ers</td><td>2011</td><td>46.94846292947559</td></tr><tr><td>Miami Heat</td><td>2007</td><td>46.943919344675486</td></tr><tr><td>Memphis Grizzlies</td><td>2020</td><td>46.94189602446483</td></tr><tr><td>Phoenix Suns</td><td>1998</td><td>46.93923145665773</td></tr><tr><td>Charlotte Bobcats</td><td>2014</td><td>46.93711967545639</td></tr><tr><td>Indiana Pacers</td><td>2019</td><td>46.922747393974014</td></tr><tr><td>Toronto Raptors</td><td>2008</td><td>46.91900075700227</td></tr><tr><td>Memphis Grizzlies</td><td>2022</td><td>46.90900671451725</td></tr><tr><td>Washington Wizards</td><td>2018</td><td>46.908734052993125</td></tr><tr><td>LA Clippers</td><td>2022</td><td>46.88149688149688</td></tr><tr><td>Phoenix Suns</td><td>2014</td><td>46.87353079454631</td></tr><tr><td>Oklahoma City Thunder</td><td>2016</td><td>46.868490487432304</td></tr><tr><td>Utah Jazz</td><td>2018</td><td>46.8586387434555</td></tr><tr><td>Seattle SuperSonics</td><td>2006</td><td>46.85782201753083</td></tr><tr><td>Denver Nuggets</td><td>2009</td><td>46.84960907557872</td></tr><tr><td>Utah Jazz</td><td>2019</td><td>46.82752457551385</td></tr><tr><td>San Antonio Spurs</td><td>2010</td><td>46.82298451295412</td></tr><tr><td>Portland Trail Blazers</td><td>2020</td><td>46.81965577450736</td></tr><tr><td>Indiana Pacers</td><td>2022</td><td>46.81620839363242</td></tr><tr><td>San Antonio Spurs</td><td>2007</td><td>46.81364660444159</td></tr><tr><td>Washington Wizards</td><td>2016</td><td>46.80440771349863</td></tr><tr><td>Memphis Grizzlies</td><td>2014</td><td>46.80327868852459</td></tr><tr><td>Miami Heat</td><td>2020</td><td>46.78552133981631</td></tr><tr><td>LA Clippers</td><td>2016</td><td>46.78438128050531</td></tr><tr><td>Utah Jazz</td><td>2000</td><td>46.77468201090249</td></tr><tr><td>Los Angeles Lakers</td><td>2009</td><td>46.76107683679193</td></tr><tr><td>Sacramento Kings</td><td>2022</td><td>46.76056338028169</td></tr><tr><td>Golden State Warriors</td><td>2022</td><td>46.75293553798227</td></tr><tr><td>New Orleans Hornets</td><td>2010</td><td>46.7451322290032</td></tr><tr><td>Los Angeles Lakers</td><td>1996</td><td>46.73511293634497</td></tr><tr><td>Los Angeles Lakers</td><td>2000</td><td>46.73096014749681</td></tr><tr><td>Boston Celtics</td><td>2019</td><td>46.729241877256314</td></tr><tr><td>Houston Rockets</td><td>1996</td><td>46.71814671814672</td></tr><tr><td>Los Angeles Clippers</td><td>2006</td><td>46.7151027979595</td></tr><tr><td>Los Angeles Lakers</td><td>2006</td><td>46.708277604398866</td></tr><tr><td>Washington Wizards</td><td>2019</td><td>46.70165980990211</td></tr><tr><td>Sacramento Kings</td><td>2002</td><td>46.697234560825336</td></tr><tr><td>Sacramento Kings</td><td>2003</td><td>46.685577784413255</td></tr><tr><td>Oklahoma City Thunder</td><td>2020</td><td>46.684636118598384</td></tr><tr><td>Los Angeles Lakers</td><td>2021</td><td>46.6820987654321</td></tr><tr><td>Dallas Mavericks</td><td>2005</td><td>46.67168674698795</td></tr><tr><td>Indiana Pacers</td><td>1997</td><td>46.66347381864623</td></tr><tr><td>Minnesota Timberwolves</td><td>2016</td><td>46.659707724425886</td></tr><tr><td>Denver Nuggets</td><td>2010</td><td>46.64936650892994</td></tr><tr><td>Indiana Pacers</td><td>2021</td><td>46.64447546440459</td></tr><tr><td>San Antonio Spurs</td><td>2001</td><td>46.63800515907137</td></tr><tr><td>Toronto Raptors</td><td>2011</td><td>46.63749424228466</td></tr><tr><td>Indiana Pacers</td><td>1998</td><td>46.63555992141454</td></tr><tr><td>Minnesota Timberwolves</td><td>2001</td><td>46.6353217749045</td></tr><tr><td>Atlanta Hawks</td><td>2010</td><td>46.62523486052898</td></tr><tr><td>Portland Trail Blazers</td><td>2019</td><td>46.61674986134221</td></tr><tr><td>Milwaukee Bucks</td><td>2001</td><td>46.61384362386007</td></tr><tr><td>Charlotte Hornets</td><td>1998</td><td>46.61161039591936</td></tr><tr><td>Milwaukee Bucks</td><td>1997</td><td>46.609360076408784</td></tr><tr><td>Seattle SuperSonics</td><td>1997</td><td>46.597938144329895</td></tr><tr><td>Oklahoma City Thunder</td><td>2014</td><td>46.591271105447596</td></tr><tr><td>Toronto Raptors</td><td>2009</td><td>46.58119658119658</td></tr><tr><td>Detroit Pistons</td><td>2007</td><td>46.56917885264342</td></tr><tr><td>San Antonio Spurs</td><td>1998</td><td>46.56335916020995</td></tr><tr><td>Minnesota Timberwolves</td><td>1997</td><td>46.55920644761314</td></tr><tr><td>Cleveland Cavaliers</td><td>1996</td><td>46.55091506335054</td></tr><tr><td>Cleveland Cavaliers</td><td>2016</td><td>46.5478529329217</td></tr><tr><td>Dallas Mavericks</td><td>2009</td><td>46.54742706348043</td></tr><tr><td>Toronto Raptors</td><td>2019</td><td>46.54270772806508</td></tr><tr><td>Washington Wizards</td><td>2014</td><td>46.53826996513366</td></tr><tr><td>Atlanta Hawks</td><td>2009</td><td>46.536119795951954</td></tr><tr><td>San Antonio Spurs</td><td>2018</td><td>46.53179190751445</td></tr><tr><td>Utah Jazz</td><td>2022</td><td>46.52949925632127</td></tr><tr><td>Utah Jazz</td><td>1999</td><td>46.51849279388783</td></tr><tr><td>Denver Nuggets</td><td>2006</td><td>46.50591307018891</td></tr><tr><td>Minnesota Timberwolves</td><td>2000</td><td>46.501943364797334</td></tr><tr><td>Chicago Bulls</td><td>2010</td><td>46.499698249849125</td></tr><tr><td>Toronto Raptors</td><td>2017</td><td>46.49789029535865</td></tr><tr><td>Miami Heat</td><td>2019</td><td>46.47846332945285</td></tr><tr><td>Milwaukee Bucks</td><td>2006</td><td>46.47398843930636</td></tr><tr><td>Houston Rockets</td><td>2016</td><td>46.47349823321555</td></tr><tr><td>Miami Heat</td><td>2010</td><td>46.47302904564315</td></tr><tr><td>San Antonio Spurs</td><td>2021</td><td>46.464646464646464</td></tr><tr><td>Toronto Raptors</td><td>2016</td><td>46.46419532529403</td></tr><tr><td>Miami Heat</td><td>2021</td><td>46.463956269217626</td></tr><tr><td>New Orleans Pelicans</td><td>2021</td><td>46.458424989001315</td></tr><tr><td>Utah Jazz</td><td>2006</td><td>46.45283615105072</td></tr><tr><td>San Antonio Spurs</td><td>2022</td><td>46.443043674020714</td></tr><tr><td>Atlanta Hawks</td><td>2021</td><td>46.43054786939679</td></tr><tr><td>LA Clippers</td><td>2019</td><td>46.430062630480165</td></tr><tr><td>Boston Celtics</td><td>2020</td><td>46.42943597191963</td></tr><tr><td>Dallas Mavericks</td><td>2021</td><td>46.42101747745742</td></tr><tr><td>Minnesota Timberwolves</td><td>2018</td><td>46.413849958779885</td></tr><tr><td>Detroit Pistons</td><td>2011</td><td>46.39869888475837</td></tr><tr><td>Atlanta Hawks</td><td>2014</td><td>46.38770281810418</td></tr><tr><td>Washington Bullets</td><td>1996</td><td>46.37620444072057</td></tr><tr><td>Chicago Bulls</td><td>1996</td><td>46.37295860235473</td></tr><tr><td>Denver Nuggets</td><td>2019</td><td>46.36413340623292</td></tr><tr><td>Denver Nuggets</td><td>2007</td><td>46.36020881670533</td></tr><tr><td>Toronto Raptors</td><td>2007</td><td>46.358712007222394</td></tr><tr><td>Memphis Grizzlies</td><td>2009</td><td>46.35059263880225</td></tr><tr><td>Dallas Mavericks</td><td>2020</td><td>46.348517715112074</td></tr><tr><td>Utah Jazz</td><td>2003</td><td>46.33952675877402</td></tr><tr><td>San Antonio Spurs</td><td>2017</td><td>46.33944574658762</td></tr><tr><td>Chicago Bulls</td><td>2020</td><td>46.323761438939734</td></tr><tr><td>Houston Rockets</td><td>2013</td><td>46.30595002696386</td></tr><tr><td>Los Angeles Clippers</td><td>2012</td><td>46.30406290956749</td></tr><tr><td>Portland Trail Blazers</td><td>1997</td><td>46.284056101886186</td></tr><tr><td>Sacramento Kings</td><td>2008</td><td>46.279306829765545</td></tr><tr><td>Houston Rockets</td><td>1997</td><td>46.27438439398785</td></tr><tr><td>Utah Jazz</td><td>2016</td><td>46.27390971690895</td></tr><tr><td>Atlanta Hawks</td><td>2015</td><td>46.25908507909363</td></tr><tr><td>Philadelphia 76ers</td><td>2020</td><td>46.257768170764656</td></tr><tr><td>Milwaukee Bucks</td><td>1999</td><td>46.25774670268552</td></tr><tr><td>Los Angeles Lakers</td><td>2003</td><td>46.25501202886929</td></tr><tr><td>Golden State Warriors</td><td>2013</td><td>46.24593556015371</td></tr><tr><td>Portland Trail Blazers</td><td>2009</td><td>46.24505928853755</td></tr><tr><td>Chicago Bulls</td><td>1997</td><td>46.24354243542436</td></tr><tr><td>Memphis Grizzlies</td><td>2021</td><td>46.243134003523686</td></tr><tr><td>Los Angeles Lakers</td><td>2011</td><td>46.22898682417083</td></tr><tr><td>New York Knicks</td><td>1996</td><td>46.2238398544131</td></tr><tr><td>New York Knicks</td><td>2010</td><td>46.22228704784131</td></tr><tr><td>Seattle SuperSonics</td><td>2002</td><td>46.22075584883024</td></tr><tr><td>Memphis Grizzlies</td><td>2010</td><td>46.22017821212992</td></tr><tr><td>Cleveland Cavaliers</td><td>2010</td><td>46.204724409448815</td></tr><tr><td>Sacramento Kings</td><td>2005</td><td>46.20325435341136</td></tr><tr><td>Los Angeles Lakers</td><td>2007</td><td>46.19997001948734</td></tr><tr><td>Utah Jazz</td><td>2001</td><td>46.19892302819132</td></tr><tr><td>Oklahoma City Thunder</td><td>2010</td><td>46.18662747979427</td></tr><tr><td>Los Angeles Lakers</td><td>1999</td><td>46.1635022752236</td></tr><tr><td>Dallas Mavericks</td><td>2001</td><td>46.15151515151515</td></tr><tr><td>Chicago Bulls</td><td>2011</td><td>46.14504690002288</td></tr><tr><td>Phoenix Suns</td><td>2011</td><td>46.13882863340564</td></tr><tr><td>New Orleans Pelicans</td><td>2014</td><td>46.13333333333333</td></tr><tr><td>New York Knicks</td><td>2020</td><td>46.12893729761554</td></tr><tr><td>Miami Heat</td><td>2017</td><td>46.11781405251952</td></tr><tr><td>Golden State Warriors</td><td>2011</td><td>46.11123932610201</td></tr><tr><td>New Orleans Pelicans</td><td>2019</td><td>46.107039137048815</td></tr><tr><td>Minnesota Timberwolves</td><td>1998</td><td>46.09865470852018</td></tr><tr><td>Sacramento Kings</td><td>2017</td><td>46.09263995453254</td></tr><tr><td>Cleveland Cavaliers</td><td>2018</td><td>46.08973468537297</td></tr><tr><td>Denver Nuggets</td><td>2005</td><td>46.08860944582541</td></tr><tr><td>Portland Trail Blazers</td><td>2001</td><td>46.08740715149421</td></tr><tr><td>Minnesota Timberwolves</td><td>2005</td><td>46.086421651545436</td></tr><tr><td>Miami Heat</td><td>2016</td><td>46.08102464151469</td></tr><tr><td>Detroit Pistons</td><td>1996</td><td>46.07888631090487</td></tr><tr><td>Houston Rockets</td><td>2014</td><td>46.07404393816111</td></tr><tr><td>Sacramento Kings</td><td>2018</td><td>46.07322716755139</td></tr><tr><td>Phoenix Suns</td><td>2019</td><td>46.07022183046863</td></tr><tr><td>Vancouver Grizzlies</td><td>1998</td><td>46.05858537747083</td></tr><tr><td>Philadelphia 76ers</td><td>2009</td><td>46.05640174935907</td></tr><tr><td>Philadelphia 76ers</td><td>2010</td><td>46.04795737122558</td></tr><tr><td>Orlando Magic</td><td>2014</td><td>46.04765506807867</td></tr><tr><td>Boston Celtics</td><td>2013</td><td>46.04763548498447</td></tr><tr><td>Oklahoma City Thunder</td><td>2015</td><td>46.04236343366778</td></tr><tr><td>Sacramento Kings</td><td>2016</td><td>46.04072398190045</td></tr><tr><td>Chicago Bulls</td><td>1998</td><td>46.03799814643188</td></tr><tr><td>Dallas Mavericks</td><td>2006</td><td>46.03691639522258</td></tr><tr><td>Golden State Warriors</td><td>2010</td><td>46.031028769392975</td></tr><tr><td>Utah Jazz</td><td>2011</td><td>46.02656723374505</td></tr><tr><td>Miami Heat</td><td>2009</td><td>46.01031553398058</td></tr><tr><td>Dallas Mavericks</td><td>2004</td><td>46.001719690455715</td></tr><tr><td>Charlotte Bobcats</td><td>2010</td><td>45.997689387687736</td></tr><tr><td>Atlanta Hawks</td><td>2008</td><td>45.99393019726859</td></tr><tr><td>Toronto Raptors</td><td>2014</td><td>45.99308374680499</td></tr><tr><td>Boston Celtics</td><td>2006</td><td>45.98009793081662</td></tr><tr><td>Boston Celtics</td><td>2012</td><td>45.974930362116986</td></tr><tr><td>Detroit Pistons</td><td>1998</td><td>45.94458438287153</td></tr><tr><td>Los Angeles Lakers</td><td>2010</td><td>45.943613348676635</td></tr><tr><td>San Antonio Spurs</td><td>2000</td><td>45.93032589500722</td></tr><tr><td>Houston Rockets</td><td>2017</td><td>45.92603089131359</td></tr><tr><td>Atlanta Hawks</td><td>1998</td><td>45.91029023746702</td></tr><tr><td>Houston Rockets</td><td>2022</td><td>45.904904157331345</td></tr><tr><td>Charlotte Hornets</td><td>2018</td><td>45.901414252368525</td></tr><tr><td>Utah Jazz</td><td>2014</td><td>45.89066567497211</td></tr><tr><td>Portland Trail Blazers</td><td>2003</td><td>45.885591924135824</td></tr><tr><td>New Orleans Hornets</td><td>2011</td><td>45.87804878048781</td></tr><tr><td>Minnesota Timberwolves</td><td>2006</td><td>45.8712715855573</td></tr><tr><td>Dallas Mavericks</td><td>2008</td><td>45.868138424821005</td></tr><tr><td>Dallas Mavericks</td><td>2000</td><td>45.857860732232595</td></tr><tr><td>Sacramento Kings</td><td>2014</td><td>45.849438615866006</td></tr><tr><td>New York Knicks</td><td>2006</td><td>45.83582089552239</td></tr><tr><td>Sacramento Kings</td><td>2004</td><td>45.82763337893297</td></tr><tr><td>Brooklyn Nets</td><td>2014</td><td>45.81870741276069</td></tr><tr><td>Los Angeles Lakers</td><td>1997</td><td>45.81697372395047</td></tr><tr><td>San Antonio Spurs</td><td>2005</td><td>45.81014223871367</td></tr><tr><td>Golden State Warriors</td><td>2012</td><td>45.807956459764156</td></tr><tr><td>LA Clippers</td><td>2015</td><td>45.807844548398705</td></tr><tr><td>Philadelphia 76ers</td><td>2008</td><td>45.80481999404939</td></tr><tr><td>Milwaukee Bucks</td><td>2002</td><td>45.802866335185726</td></tr><tr><td>Charlotte Bobcats</td><td>2009</td><td>45.78884934756821</td></tr><tr><td>Orlando Magic</td><td>2011</td><td>45.78370652691758</td></tr><tr><td>Milwaukee Bucks</td><td>2015</td><td>45.78295488056621</td></tr><tr><td>New York Knicks</td><td>1997</td><td>45.78294080203692</td></tr><tr><td>Seattle SuperSonics</td><td>2001</td><td>45.7739078216484</td></tr><tr><td>Phoenix Suns</td><td>2004</td><td>45.77290959580376</td></tr><tr><td>Los Angeles Clippers</td><td>2011</td><td>45.76795054683785</td></tr><tr><td>Oklahoma City Thunder</td><td>2018</td><td>45.75190010857763</td></tr><tr><td>Boston Celtics</td><td>2021</td><td>45.75084764300558</td></tr><tr><td>Toronto Raptors</td><td>2020</td><td>45.744393407187246</td></tr><tr><td>Orlando Magic</td><td>2009</td><td>45.7433290978399</td></tr><tr><td>Portland Trail Blazers</td><td>2013</td><td>45.73143944940694</td></tr><tr><td>Philadelphia 76ers</td><td>2007</td><td>45.72981366459628</td></tr><tr><td>Los Angeles Lakers</td><td>2013</td><td>45.72947214076246</td></tr><tr><td>Phoenix Suns</td><td>2012</td><td>45.72813057893394</td></tr><tr><td>Utah Jazz</td><td>2017</td><td>45.72538860103627</td></tr><tr><td>Golden State Warriors</td><td>2008</td><td>45.72306869820903</td></tr><tr><td>Atlanta Hawks</td><td>2020</td><td>45.713438148917234</td></tr><tr><td>Portland Trail Blazers</td><td>2018</td><td>45.70778090263828</td></tr><tr><td>Oklahoma City Thunder</td><td>2019</td><td>45.705092333519865</td></tr><tr><td>Dallas Mavericks</td><td>2002</td><td>45.70416297608503</td></tr><tr><td>Brooklyn Nets</td><td>2013</td><td>45.69241723033108</td></tr><tr><td>San Antonio Spurs</td><td>2003</td><td>45.690483819288694</td></tr><tr><td>New York Knicks</td><td>2017</td><td>45.68486654924807</td></tr><tr><td>Los Angeles Lakers</td><td>2001</td><td>45.683219733852646</td></tr><tr><td>Charlotte Hornets</td><td>2021</td><td>45.6786137121946</td></tr><tr><td>Los Angeles Clippers</td><td>2009</td><td>45.67416578589763</td></tr><tr><td>San Antonio Spurs</td><td>2008</td><td>45.657794676806084</td></tr><tr><td>Atlanta Hawks</td><td>2011</td><td>45.64512103818318</td></tr><tr><td>Sacramento Kings</td><td>2011</td><td>45.63644103873989</td></tr><tr><td>Detroit Pistons</td><td>2005</td><td>45.63136770608212</td></tr><tr><td>San Antonio Spurs</td><td>2004</td><td>45.61570117125673</td></tr><tr><td>Los Angeles Lakers</td><td>2012</td><td>45.610453246222946</td></tr><tr><td>Miami Heat</td><td>1999</td><td>45.600739371534196</td></tr><tr><td>Washington Wizards</td><td>2006</td><td>45.58866491381829</td></tr><tr><td>Los Angeles Clippers</td><td>2005</td><td>45.58413387046792</td></tr><tr><td>Sacramento Kings</td><td>2001</td><td>45.576370846437854</td></tr><tr><td>Brooklyn Nets</td><td>2020</td><td>45.57620817843866</td></tr><tr><td>Sacramento Kings</td><td>2009</td><td>45.57508939213349</td></tr><tr><td>Portland Trail Blazers</td><td>2005</td><td>45.56902985074627</td></tr><tr><td>San Antonio Spurs</td><td>2002</td><td>45.551663747810856</td></tr><tr><td>Atlanta Hawks</td><td>2016</td><td>45.550724637681164</td></tr><tr><td>Utah Jazz</td><td>2002</td><td>45.54662379421222</td></tr><tr><td>San Antonio Spurs</td><td>1999</td><td>45.54170661553212</td></tr><tr><td>Houston Rockets</td><td>1999</td><td>45.54155367682246</td></tr><tr><td>Atlanta Hawks</td><td>2012</td><td>45.52440010784578</td></tr><tr><td>Cleveland Cavaliers</td><td>1998</td><td>45.52329836545499</td></tr><tr><td>Atlanta Hawks</td><td>1997</td><td>45.52253116011505</td></tr><tr><td>Washington Wizards</td><td>2020</td><td>45.5110668987814</td></tr><tr><td>Houston Rockets</td><td>2009</td><td>45.5075497084766</td></tr><tr><td>Chicago Bulls</td><td>2006</td><td>45.50375939849624</td></tr><tr><td>Milwaukee Bucks</td><td>2000</td><td>45.50201402357153</td></tr><tr><td>Minnesota Timberwolves</td><td>2004</td><td>45.50148646534189</td></tr><tr><td>Cleveland Cavaliers</td><td>2008</td><td>45.50136322326568</td></tr><tr><td>Miami Heat</td><td>2015</td><td>45.49627987968973</td></tr><tr><td>Boston Celtics</td><td>2017</td><td>45.49525101763908</td></tr><tr><td>Portland Trail Blazers</td><td>2016</td><td>45.492537313432834</td></tr><tr><td>Utah Jazz</td><td>2013</td><td>45.49207397622193</td></tr><tr><td>Seattle SuperSonics</td><td>2004</td><td>45.47751389590702</td></tr><tr><td>Portland Trail Blazers</td><td>2010</td><td>45.474104810204395</td></tr><tr><td>Detroit Pistons</td><td>2000</td><td>45.47061422889969</td></tr><tr><td>Golden State Warriors</td><td>2007</td><td>45.45454545454545</td></tr><tr><td>Sacramento Kings</td><td>2013</td><td>45.45454545454545</td></tr><tr><td>Cleveland Cavaliers</td><td>2015</td><td>45.453172205438065</td></tr><tr><td>Orlando Magic</td><td>2020</td><td>45.44549527127925</td></tr><tr><td>Detroit Pistons</td><td>2013</td><td>45.44422827496757</td></tr><tr><td>Sacramento Kings</td><td>2019</td><td>45.43328748280605</td></tr><tr><td>Philadelphia 76ers</td><td>2017</td><td>45.431507813599886</td></tr><tr><td>Portland Trail Blazers</td><td>2007</td><td>45.43060718711276</td></tr><tr><td>Indiana Pacers</td><td>2000</td><td>45.42311739065084</td></tr><tr><td>Toronto Raptors</td><td>2006</td><td>45.42237947810703</td></tr><tr><td>Milwaukee Bucks</td><td>2014</td><td>45.417024935511606</td></tr><tr><td>Portland Trail Blazers</td><td>1996</td><td>45.40628828093099</td></tr><tr><td>Milwaukee Bucks</td><td>2007</td><td>45.403348554033485</td></tr><tr><td>New Orleans Hornets</td><td>2009</td><td>45.401957876001184</td></tr><tr><td>Utah Jazz</td><td>2012</td><td>45.39994888832098</td></tr><tr><td>Washington Wizards</td><td>2015</td><td>45.396495396495396</td></tr><tr><td>Los Angeles Clippers</td><td>2001</td><td>45.3813358597821</td></tr><tr><td>Portland Trail Blazers</td><td>2017</td><td>45.366685616827745</td></tr><tr><td>Cleveland Cavaliers</td><td>2014</td><td>45.360182686319284</td></tr><tr><td>Sacramento Kings</td><td>2015</td><td>45.358556973163225</td></tr><tr><td>Los Angeles Lakers</td><td>2017</td><td>45.35223009587328</td></tr><tr><td>Cleveland Cavaliers</td><td>2021</td><td>45.35041959628033</td></tr><tr><td>Detroit Pistons</td><td>2019</td><td>45.34240748617609</td></tr><tr><td>Detroit Pistons</td><td>2008</td><td>45.336023591494644</td></tr><tr><td>New Orleans Pelicans</td><td>2015</td><td>45.33195020746888</td></tr><tr><td>Houston Rockets</td><td>1998</td><td>45.33091568449682</td></tr><tr><td>Milwaukee Bucks</td><td>2005</td><td>45.325693606755124</td></tr><tr><td>Oklahoma City Thunder</td><td>2009</td><td>45.31749657377798</td></tr><tr><td>New Jersey Nets</td><td>2002</td><td>45.312950677819444</td></tr><tr><td>Sacramento Kings</td><td>1997</td><td>45.3125</td></tr><tr><td>Indiana Pacers</td><td>2016</td><td>45.305722680845115</td></tr><tr><td>Portland Trail Blazers</td><td>2011</td><td>45.30241453502271</td></tr><tr><td>Atlanta Hawks</td><td>2017</td><td>45.29723695227463</td></tr><tr><td>Toronto Raptors</td><td>2013</td><td>45.2947086403215</td></tr><tr><td>Miami Heat</td><td>1997</td><td>45.294553538347536</td></tr><tr><td>Philadelphia 76ers</td><td>2006</td><td>45.29274004683841</td></tr><tr><td>Houston Rockets</td><td>2011</td><td>45.28220594571305</td></tr><tr><td>Houston Rockets</td><td>2019</td><td>45.280133463089115</td></tr><tr><td>Detroit Pistons</td><td>1997</td><td>45.27825949865994</td></tr><tr><td>Phoenix Suns</td><td>1999</td><td>45.2771755961598</td></tr><tr><td>Houston Rockets</td><td>2010</td><td>45.27136343579939</td></tr><tr><td>Memphis Grizzlies</td><td>2008</td><td>45.26718680995142</td></tr><tr><td>Phoenix Suns</td><td>2017</td><td>45.26533425223984</td></tr><tr><td>Sacramento Kings</td><td>2007</td><td>45.26283618581907</td></tr><tr><td>Charlotte Bobcats</td><td>2008</td><td>45.26253160791314</td></tr><tr><td>Miami Heat</td><td>2004</td><td>45.26164645820038</td></tr><tr><td>New York Knicks</td><td>2000</td><td>45.259026687598116</td></tr><tr><td>Memphis Grizzlies</td><td>2019</td><td>45.2586817859674</td></tr><tr><td>Minnesota Timberwolves</td><td>2002</td><td>45.258620689655174</td></tr><tr><td>New Orleans Hornets</td><td>2013</td><td>45.25391551969625</td></tr><tr><td>Washington Wizards</td><td>1998</td><td>45.24558432131624</td></tr><tr><td>Minnesota Timberwolves</td><td>2014</td><td>45.2437106918239</td></tr><tr><td>Houston Rockets</td><td>2018</td><td>45.243520364568504</td></tr><tr><td>New Orleans/Oklahoma City Hornets</td><td>2007</td><td>45.242537313432834</td></tr><tr><td>San Antonio Spurs</td><td>1997</td><td>45.24209561631282</td></tr><tr><td>Orlando Magic</td><td>2005</td><td>45.233673785205816</td></tr><tr><td>Philadelphia 76ers</td><td>2000</td><td>45.23246650906225</td></tr><tr><td>Charlotte Hornets</td><td>1996</td><td>45.223214285714285</td></tr><tr><td>Seattle SuperSonics</td><td>2000</td><td>45.221010332950634</td></tr><tr><td>Orlando Magic</td><td>2015</td><td>45.21584334668447</td></tr><tr><td>New York Knicks</td><td>2014</td><td>45.20570948782536</td></tr><tr><td>Chicago Bulls</td><td>2009</td><td>45.203619909502265</td></tr><tr><td>Los Angeles Clippers</td><td>2010</td><td>45.196049087099674</td></tr><tr><td>Washington Wizards</td><td>2013</td><td>45.192624300296345</td></tr><tr><td>Washington Wizards</td><td>1997</td><td>45.18297236743838</td></tr><tr><td>Los Angeles Lakers</td><td>2002</td><td>45.17906336088154</td></tr><tr><td>Portland Trail Blazers</td><td>1998</td><td>45.17814726840855</td></tr><tr><td>Seattle SuperSonics</td><td>2007</td><td>45.17148014440433</td></tr><tr><td>Portland Trail Blazers</td><td>2021</td><td>45.169317321216056</td></tr><tr><td>Houston Rockets</td><td>2000</td><td>45.15179677819083</td></tr><tr><td>Milwaukee Bucks</td><td>2003</td><td>45.14097180563888</td></tr><tr><td>Brooklyn Nets</td><td>2015</td><td>45.13375071143996</td></tr><tr><td>Detroit Pistons</td><td>2006</td><td>45.12741312741313</td></tr><tr><td>Charlotte Hornets</td><td>1999</td><td>45.105124835742444</td></tr><tr><td>Indiana Pacers</td><td>1999</td><td>45.098352790660485</td></tr><tr><td>Milwaukee Bucks</td><td>1998</td><td>45.09099616858238</td></tr><tr><td>Boston Celtics</td><td>2018</td><td>45.075921908893704</td></tr><tr><td>Detroit Pistons</td><td>2010</td><td>45.07000297885016</td></tr><tr><td>Houston Rockets</td><td>2020</td><td>45.031309556221075</td></tr><tr><td>Golden State Warriors</td><td>1996</td><td>45.0261780104712</td></tr><tr><td>Charlotte Bobcats</td><td>2007</td><td>45.02406458624437</td></tr><tr><td>Boston Celtics</td><td>2007</td><td>45.01491599937196</td></tr><tr><td>Brooklyn Nets</td><td>2016</td><td>45.0</td></tr><tr><td>Dallas Mavericks</td><td>1996</td><td>44.99294781382229</td></tr><tr><td>Portland Trail Blazers</td><td>2014</td><td>44.992636229749635</td></tr><tr><td>Minnesota Timberwolves</td><td>2008</td><td>44.989090909090905</td></tr><tr><td>Washington Wizards</td><td>2009</td><td>44.98280245251981</td></tr><tr><td>Denver Nuggets</td><td>2014</td><td>44.97433349892366</td></tr><tr><td>New Orleans Hornets</td><td>2012</td><td>44.96542185338866</td></tr><tr><td>Minnesota Timberwolves</td><td>2019</td><td>44.965302365104094</td></tr><tr><td>Phoenix Suns</td><td>2003</td><td>44.9464573859469</td></tr><tr><td>Memphis Grizzlies</td><td>2013</td><td>44.94110053251573</td></tr><tr><td>Portland Trail Blazers</td><td>2002</td><td>44.93652199586655</td></tr><tr><td>Denver Nuggets</td><td>2004</td><td>44.933852140077825</td></tr><tr><td>Toronto Raptors</td><td>2022</td><td>44.93102693234071</td></tr><tr><td>Memphis Grizzlies</td><td>2018</td><td>44.92903607332939</td></tr><tr><td>Atlanta Hawks</td><td>2019</td><td>44.92773384237797</td></tr><tr><td>New York Knicks</td><td>2021</td><td>44.92769868848784</td></tr><tr><td>Houston Rockets</td><td>2008</td><td>44.927536231884055</td></tr><tr><td>New York Knicks</td><td>2018</td><td>44.91298527443106</td></tr><tr><td>New York Knicks</td><td>2009</td><td>44.912770411723656</td></tr><tr><td>Orlando Magic</td><td>2019</td><td>44.89998581359058</td></tr><tr><td>Cleveland Cavaliers</td><td>2006</td><td>44.89795918367347</td></tr><tr><td>Dallas Mavericks</td><td>2015</td><td>44.89498249708285</td></tr><tr><td>New York Knicks</td><td>2011</td><td>44.888001774229316</td></tr><tr><td>New Jersey Nets</td><td>2007</td><td>44.885545061629585</td></tr><tr><td>Orlando Magic</td><td>2017</td><td>44.884443843762675</td></tr><tr><td>Philadelphia 76ers</td><td>2005</td><td>44.881434355118564</td></tr><tr><td>Memphis Grizzlies</td><td>2002</td><td>44.878871511806196</td></tr><tr><td>Orlando Magic</td><td>2016</td><td>44.87214737420951</td></tr><tr><td>Phoenix Suns</td><td>1996</td><td>44.868035190615835</td></tr><tr><td>Minnesota Timberwolves</td><td>2010</td><td>44.86463257412978</td></tr><tr><td>Golden State Warriors</td><td>2003</td><td>44.86076687563785</td></tr><tr><td>Detroit Pistons</td><td>2017</td><td>44.85172981878089</td></tr><tr><td>Cleveland Cavaliers</td><td>2005</td><td>44.8512585812357</td></tr><tr><td>Boston Celtics</td><td>2004</td><td>44.85114690092728</td></tr><tr><td>Minnesota Timberwolves</td><td>2007</td><td>44.84813253887516</td></tr><tr><td>Detroit Pistons</td><td>2020</td><td>44.847328244274806</td></tr><tr><td>Memphis Grizzlies</td><td>2004</td><td>44.842138168177556</td></tr><tr><td>Memphis Grizzlies</td><td>2005</td><td>44.83785572468564</td></tr><tr><td>Dallas Mavericks</td><td>2003</td><td>44.837340876944836</td></tr><tr><td>Portland Trail Blazers</td><td>1999</td><td>44.82990906028966</td></tr><tr><td>Portland Trail Blazers</td><td>2006</td><td>44.82866531059302</td></tr><tr><td>New Orleans Pelicans</td><td>2013</td><td>44.8256779192031</td></tr><tr><td>Phoenix Suns</td><td>2018</td><td>44.820355095764015</td></tr><tr><td>Chicago Bulls</td><td>2019</td><td>44.81198756007917</td></tr><tr><td>Memphis Grizzlies</td><td>2006</td><td>44.81028535591094</td></tr><tr><td>New York Knicks</td><td>2007</td><td>44.80702335597151</td></tr><tr><td>Indiana Pacers</td><td>2013</td><td>44.803772949301</td></tr><tr><td>Atlanta Hawks</td><td>2007</td><td>44.8037323037323</td></tr><tr><td>Portland Trail Blazers</td><td>2015</td><td>44.803431022158684</td></tr><tr><td>Sacramento Kings</td><td>2000</td><td>44.80132908763672</td></tr><tr><td>Charlotte Bobcats</td><td>2011</td><td>44.798703053228856</td></tr><tr><td>Detroit Pistons</td><td>1999</td><td>44.796975176722015</td></tr><tr><td>Detroit Pistons</td><td>2016</td><td>44.793850454227815</td></tr><tr><td>Dallas Mavericks</td><td>2017</td><td>44.7817571348629</td></tr><tr><td>Vancouver Grizzlies</td><td>2001</td><td>44.77132262051916</td></tr><tr><td>Miami Heat</td><td>1998</td><td>44.7680412371134</td></tr><tr><td>Cleveland Cavaliers</td><td>1997</td><td>44.763825853084555</td></tr><tr><td>Denver Nuggets</td><td>2016</td><td>44.763656948768755</td></tr><tr><td>Dallas Mavericks</td><td>2019</td><td>44.752249036127374</td></tr><tr><td>Houston Rockets</td><td>2015</td><td>44.75208362763102</td></tr><tr><td>Houston Rockets</td><td>2012</td><td>44.74915518585911</td></tr><tr><td>New Jersey Nets</td><td>1998</td><td>44.74682132500558</td></tr><tr><td>Atlanta Hawks</td><td>2006</td><td>44.72804618656943</td></tr><tr><td>Milwaukee Bucks</td><td>2004</td><td>44.72385802960369</td></tr><tr><td>Indiana Pacers</td><td>2009</td><td>44.72361809045226</td></tr><tr><td>Phoenix Suns</td><td>2000</td><td>44.71937235968618</td></tr><tr><td>Los Angeles Lakers</td><td>2004</td><td>44.70704086656819</td></tr><tr><td>Indiana Pacers</td><td>2002</td><td>44.70235275540818</td></tr><tr><td>Phoenix Suns</td><td>2013</td><td>44.70177664974619</td></tr><tr><td>Miami Heat</td><td>2018</td><td>44.7016174010039</td></tr><tr><td>Portland Trail Blazers</td><td>2008</td><td>44.698669059368925</td></tr><tr><td>Oklahoma City Thunder</td><td>2017</td><td>44.688004303388915</td></tr><tr><td>Dallas Mavericks</td><td>2018</td><td>44.683306882123794</td></tr><tr><td>Phoenix Suns</td><td>2015</td><td>44.67846110643078</td></tr><tr><td>Orlando Magic</td><td>2013</td><td>44.67663484056927</td></tr><tr><td>Philadelphia 76ers</td><td>2003</td><td>44.669117647058826</td></tr><tr><td>Memphis Grizzlies</td><td>2015</td><td>44.66647498562392</td></tr><tr><td>Orlando Magic</td><td>2002</td><td>44.66385944533178</td></tr><tr><td>Indiana Pacers</td><td>2008</td><td>44.66266866566716</td></tr><tr><td>Washington Wizards</td><td>2010</td><td>44.65445953927939</td></tr><tr><td>Orlando Magic</td><td>2000</td><td>44.651364226938064</td></tr><tr><td>New York Knicks</td><td>2012</td><td>44.64925076249834</td></tr><tr><td>Washington Wizards</td><td>2000</td><td>44.64831804281346</td></tr><tr><td>Sacramento Kings</td><td>2006</td><td>44.64175416924027</td></tr><tr><td>Philadelphia 76ers</td><td>1998</td><td>44.632905258056695</td></tr><tr><td>Brooklyn Nets</td><td>2018</td><td>44.62527352297593</td></tr><tr><td>Chicago Bulls</td><td>2012</td><td>44.615590677739085</td></tr><tr><td>Toronto Raptors</td><td>2021</td><td>44.61211714732842</td></tr><tr><td>Washington Wizards</td><td>2007</td><td>44.610108841508875</td></tr><tr><td>Golden State Warriors</td><td>2006</td><td>44.608055435253355</td></tr><tr><td>Detroit Pistons</td><td>2009</td><td>44.60260972716489</td></tr><tr><td>Seattle SuperSonics</td><td>2008</td><td>44.59827507943713</td></tr><tr><td>Toronto Raptors</td><td>2005</td><td>44.59688607985201</td></tr><tr><td>Chicago Bulls</td><td>2008</td><td>44.59021018479334</td></tr><tr><td>Memphis Grizzlies</td><td>2003</td><td>44.58699726106386</td></tr><tr><td>Toronto Raptors</td><td>2015</td><td>44.56746383229997</td></tr><tr><td>Los Angeles Clippers</td><td>1997</td><td>44.566508313539195</td></tr><tr><td>New York Knicks</td><td>1998</td><td>44.56469456469456</td></tr><tr><td>Atlanta Hawks</td><td>2005</td><td>44.56325301204819</td></tr><tr><td>New Orleans Pelicans</td><td>2016</td><td>44.55606842248167</td></tr><tr><td>Phoenix Suns</td><td>2001</td><td>44.55096574087128</td></tr><tr><td>Boston Celtics</td><td>2016</td><td>44.528301886792455</td></tr><tr><td>Vancouver Grizzlies</td><td>1997</td><td>44.524858401510386</td></tr><tr><td>Washington Wizards</td><td>2002</td><td>44.52242905096124</td></tr><tr><td>Dallas Mavericks</td><td>2012</td><td>44.51537258989057</td></tr><tr><td>Minnesota Timberwolves</td><td>2020</td><td>44.50832072617247</td></tr><tr><td>Los Angeles Lakers</td><td>2014</td><td>44.50608064860252</td></tr><tr><td>Indiana Pacers</td><td>2010</td><td>44.499853329422116</td></tr><tr><td>Vancouver Grizzlies</td><td>2000</td><td>44.495196093873055</td></tr><tr><td>New Orleans Hornets</td><td>2007</td><td>44.48772886638099</td></tr><tr><td>Seattle SuperSonics</td><td>2005</td><td>44.48439287465272</td></tr><tr><td>New Jersey Nets</td><td>2008</td><td>44.48393306678513</td></tr><tr><td>Orlando Magic</td><td>2018</td><td>44.48241492239784</td></tr><tr><td>Cleveland Cavaliers</td><td>2000</td><td>44.48149912656821</td></tr><tr><td>Houston Rockets</td><td>2021</td><td>44.47107528053165</td></tr><tr><td>Detroit Pistons</td><td>2002</td><td>44.47062519635564</td></tr><tr><td>Cleveland Cavaliers</td><td>2019</td><td>44.47041636230825</td></tr><tr><td>Memphis Grizzlies</td><td>2017</td><td>44.4656769072468</td></tr><tr><td>Sacramento Kings</td><td>1999</td><td>44.45598931275048</td></tr><tr><td>Chicago Bulls</td><td>2014</td><td>44.45251498093336</td></tr><tr><td>Minnesota Timberwolves</td><td>2009</td><td>44.452387760937945</td></tr><tr><td>New York Knicks</td><td>2005</td><td>44.45173998686802</td></tr><tr><td>Orlando Magic</td><td>2012</td><td>44.44745395449621</td></tr><tr><td>Cleveland Cavaliers</td><td>2013</td><td>44.442502621461024</td></tr><tr><td>Chicago Bulls</td><td>2017</td><td>44.43388541949498</td></tr><tr><td>Portland Trail Blazers</td><td>2022</td><td>44.42988204456094</td></tr><tr><td>Brooklyn Nets</td><td>2017</td><td>44.42341489793159</td></tr><tr><td>Detroit Pistons</td><td>2018</td><td>44.416666666666664</td></tr><tr><td>Boston Celtics</td><td>1996</td><td>44.409660107334524</td></tr><tr><td>Indiana Pacers</td><td>2015</td><td>44.405078240330674</td></tr><tr><td>Milwaukee Bucks</td><td>2008</td><td>44.39232409381663</td></tr><tr><td>Indiana Pacers</td><td>1996</td><td>44.3717888836992</td></tr><tr><td>Orlando Magic</td><td>1997</td><td>44.354354354354356</td></tr><tr><td>New York Knicks</td><td>2001</td><td>44.351258016773556</td></tr><tr><td>San Antonio Spurs</td><td>1996</td><td>44.33497536945813</td></tr><tr><td>Golden State Warriors</td><td>1997</td><td>44.33468043706032</td></tr><tr><td>Washington Wizards</td><td>1999</td><td>44.330734243014945</td></tr><tr><td>Washington Wizards</td><td>2008</td><td>44.323761345037944</td></tr><tr><td>Charlotte Hornets</td><td>2000</td><td>44.31904834527985</td></tr><tr><td>Philadelphia 76ers</td><td>2012</td><td>44.314681724846</td></tr><tr><td>Sacramento Kings</td><td>1998</td><td>44.307766521948864</td></tr><tr><td>Brooklyn Nets</td><td>2019</td><td>44.30653773993361</td></tr><tr><td>Washington Wizards</td><td>2011</td><td>44.29544954935151</td></tr><tr><td>Chicago Bulls</td><td>2016</td><td>44.29242119382965</td></tr><tr><td>Minnesota Timberwolves</td><td>2021</td><td>44.29135960696358</td></tr><tr><td>Indiana Pacers</td><td>2001</td><td>44.288250961823024</td></tr><tr><td>Cleveland Cavaliers</td><td>2007</td><td>44.287995354913626</td></tr><tr><td>Sacramento Kings</td><td>1996</td><td>44.28399518652226</td></tr><tr><td>Sacramento Kings</td><td>2010</td><td>44.28010866284334</td></tr><tr><td>Milwaukee Bucks</td><td>2009</td><td>44.2773349375846</td></tr><tr><td>Houston Rockets</td><td>2006</td><td>44.27027849642368</td></tr><tr><td>Atlanta Hawks</td><td>2003</td><td>44.2652329749104</td></tr><tr><td>New York Knicks</td><td>2003</td><td>44.25745497490404</td></tr><tr><td>Portland Trail Blazers</td><td>2004</td><td>44.253525692981036</td></tr><tr><td>Houston Rockets</td><td>2004</td><td>44.25268096514745</td></tr><tr><td>Memphis Grizzlies</td><td>2012</td><td>44.247905306556724</td></tr><tr><td>Indiana Pacers</td><td>2007</td><td>44.243227326266194</td></tr><tr><td>Orlando Magic</td><td>2004</td><td>44.2429022082019</td></tr><tr><td>Minnesota Timberwolves</td><td>2015</td><td>44.238771703257285</td></tr><tr><td>Philadelphia 76ers</td><td>2013</td><td>44.23488236437877</td></tr><tr><td>Los Angeles Clippers</td><td>2002</td><td>44.23221537073244</td></tr><tr><td>Detroit Pistons</td><td>2022</td><td>44.229455952651946</td></tr><tr><td>New York Knicks</td><td>2008</td><td>44.22884862319874</td></tr><tr><td>Houston Rockets</td><td>2007</td><td>44.21982629529799</td></tr><tr><td>New York Knicks</td><td>2016</td><td>44.2031029619182</td></tr><tr><td>Atlanta Hawks</td><td>2018</td><td>44.18830717955839</td></tr><tr><td>Boston Celtics</td><td>2014</td><td>44.1808105299619</td></tr><tr><td>Houston Rockets</td><td>2001</td><td>44.17187035385073</td></tr><tr><td>Los Angeles Clippers</td><td>2004</td><td>44.1641861193796</td></tr><tr><td>New York Knicks</td><td>2013</td><td>44.1616028904582</td></tr><tr><td>Milwaukee Bucks</td><td>2011</td><td>44.15909090909091</td></tr><tr><td>Seattle SuperSonics</td><td>1999</td><td>44.15604361849178</td></tr><tr><td>Washington Wizards</td><td>2001</td><td>44.14885437490389</td></tr><tr><td>New Jersey Nets</td><td>2006</td><td>44.13433522465879</td></tr><tr><td>Toronto Raptors</td><td>1997</td><td>44.13152462400472</td></tr><tr><td>Oklahoma City Thunder</td><td>2022</td><td>44.12955465587044</td></tr><tr><td>Indiana Pacers</td><td>2011</td><td>44.126011813607526</td></tr><tr><td>Indiana Pacers</td><td>2004</td><td>44.072739749528225</td></tr><tr><td>Boston Celtics</td><td>1999</td><td>44.06805877803557</td></tr><tr><td>Portland Trail Blazers</td><td>2012</td><td>44.062417349907435</td></tr><tr><td>Los Angeles Clippers</td><td>2007</td><td>44.04855746492196</td></tr><tr><td>New Jersey Nets</td><td>2005</td><td>44.04580152671756</td></tr><tr><td>Denver Nuggets</td><td>2000</td><td>44.023404848147116</td></tr><tr><td>Cleveland Cavaliers</td><td>2011</td><td>44.019584984844954</td></tr><tr><td>Charlotte Hornets</td><td>2016</td><td>44.01768444321636</td></tr><tr><td>Detroit Pistons</td><td>2012</td><td>44.013333333333335</td></tr><tr><td>New Orleans/Oklahoma City Hornets</td><td>2006</td><td>44.01097226455349</td></tr><tr><td>New Jersey Nets</td><td>2009</td><td>44.00367590748966</td></tr><tr><td>Philadelphia 76ers</td><td>2001</td><td>44.003634161114476</td></tr><tr><td>Atlanta Hawks</td><td>2002</td><td>44.002438652644415</td></tr><tr><td>New York Knicks</td><td>2004</td><td>44.00131839156229</td></tr><tr><td>Minnesota Timberwolves</td><td>2011</td><td>43.99454049135578</td></tr><tr><td>Minnesota Timberwolves</td><td>2013</td><td>43.988075521695926</td></tr><tr><td>Chicago Bulls</td><td>2002</td><td>43.98346375313746</td></tr><tr><td>Detroit Pistons</td><td>2021</td><td>43.97458116695552</td></tr><tr><td>New Jersey Nets</td><td>2011</td><td>43.956043956043956</td></tr><tr><td>Utah Jazz</td><td>2004</td><td>43.95443449959316</td></tr><tr><td>Charlotte Hornets</td><td>2002</td><td>43.93829838515305</td></tr><tr><td>Cleveland Cavaliers</td><td>1999</td><td>43.93150914890045</td></tr><tr><td>Utah Jazz</td><td>2015</td><td>43.927284124745334</td></tr><tr><td>Chicago Bulls</td><td>2007</td><td>43.927094501455045</td></tr><tr><td>Los Angeles Clippers</td><td>2008</td><td>43.9249553305539</td></tr><tr><td>Charlotte Hornets</td><td>2017</td><td>43.92315188639844</td></tr><tr><td>New York Knicks</td><td>2022</td><td>43.91601315456615</td></tr><tr><td>Toronto Raptors</td><td>2001</td><td>43.91428571428572</td></tr><tr><td>Detroit Pistons</td><td>2014</td><td>43.902029860761616</td></tr><tr><td>Orlando Magic</td><td>2022</td><td>43.896484375</td></tr><tr><td>Oklahoma City Thunder</td><td>2008</td><td>43.88435878428466</td></tr><tr><td>Orlando Magic</td><td>2001</td><td>43.875685557586834</td></tr><tr><td>Miami Heat</td><td>2000</td><td>43.86658235852039</td></tr><tr><td>Houston Rockets</td><td>2005</td><td>43.86367360314599</td></tr><tr><td>Indiana Pacers</td><td>2006</td><td>43.862231380629964</td></tr><tr><td>Miami Heat</td><td>2008</td><td>43.859372536654575</td></tr><tr><td>Los Angeles Clippers</td><td>1998</td><td>43.84858044164038</td></tr><tr><td>Philadelphia 76ers</td><td>1997</td><td>43.84847468990949</td></tr><tr><td>Golden State Warriors</td><td>2020</td><td>43.83973288814691</td></tr><tr><td>Milwaukee Bucks</td><td>2012</td><td>43.83648597181668</td></tr><tr><td>Chicago Bulls</td><td>2018</td><td>43.82037901675364</td></tr><tr><td>Cleveland Cavaliers</td><td>2002</td><td>43.818920487521765</td></tr><tr><td>Sacramento Kings</td><td>2012</td><td>43.81580616516555</td></tr><tr><td>Atlanta Hawks</td><td>2001</td><td>43.8138983553119</td></tr><tr><td>Charlotte Hornets</td><td>2019</td><td>43.81164050562578</td></tr><tr><td>Washington Wizards</td><td>2005</td><td>43.80227001194743</td></tr><tr><td>Los Angeles Clippers</td><td>1996</td><td>43.786982248520715</td></tr><tr><td>Orlando Magic</td><td>1999</td><td>43.78324468085106</td></tr><tr><td>Philadelphia 76ers</td><td>2002</td><td>43.78296910324039</td></tr><tr><td>Chicago Bulls</td><td>2003</td><td>43.773359246524144</td></tr><tr><td>Brooklyn Nets</td><td>2012</td><td>43.76528117359413</td></tr><tr><td>Dallas Mavericks</td><td>1999</td><td>43.75473126419379</td></tr><tr><td>Cleveland Cavaliers</td><td>2004</td><td>43.74807039209633</td></tr><tr><td>Dallas Mavericks</td><td>2016</td><td>43.74375802539592</td></tr><tr><td>Charlotte Hornets</td><td>2020</td><td>43.74115983026874</td></tr><tr><td>Boston Celtics</td><td>1998</td><td>43.73496610540127</td></tr><tr><td>New York Knicks</td><td>1999</td><td>43.70247933884298</td></tr><tr><td>Philadelphia 76ers</td><td>2016</td><td>43.698754934709996</td></tr><tr><td>Indiana Pacers</td><td>2012</td><td>43.689320388349515</td></tr><tr><td>Minnesota Timberwolves</td><td>1996</td><td>43.66554054054054</td></tr><tr><td>Toronto Raptors</td><td>2012</td><td>43.6504750434899</td></tr><tr><td>Indiana Pacers</td><td>2014</td><td>43.64585086685743</td></tr><tr><td>New Jersey Nets</td><td>2004</td><td>43.63636363636363</td></tr><tr><td>Los Angeles Lakers</td><td>2005</td><td>43.62035517087002</td></tr><tr><td>Golden State Warriors</td><td>2005</td><td>43.614187578858825</td></tr><tr><td>Atlanta Hawks</td><td>1996</td><td>43.59261331841074</td></tr><tr><td>Toronto Raptors</td><td>1998</td><td>43.58503557493688</td></tr><tr><td>Houston Rockets</td><td>2003</td><td>43.5821822132547</td></tr><tr><td>Miami Heat</td><td>1996</td><td>43.5799522673031</td></tr><tr><td>Charlotte Bobcats</td><td>2006</td><td>43.57426762844104</td></tr><tr><td>Chicago Bulls</td><td>2005</td><td>43.56540084388186</td></tr><tr><td>Detroit Pistons</td><td>2004</td><td>43.53233830845771</td></tr><tr><td>Indiana Pacers</td><td>2005</td><td>43.52399737015122</td></tr><tr><td>New York Knicks</td><td>2002</td><td>43.52040816326531</td></tr><tr><td>Seattle SuperSonics</td><td>2003</td><td>43.52008099898752</td></tr><tr><td>Boston Celtics</td><td>1997</td><td>43.49971799210378</td></tr><tr><td>Denver Nuggets</td><td>2015</td><td>43.49763297131718</td></tr><tr><td>Houston Rockets</td><td>2002</td><td>43.49568434032059</td></tr><tr><td>Memphis Grizzlies</td><td>2016</td><td>43.48070965925091</td></tr><tr><td>Miami Heat</td><td>2002</td><td>43.463653023824065</td></tr><tr><td>Boston Celtics</td><td>2000</td><td>43.45888441633122</td></tr><tr><td>New Jersey Nets</td><td>2001</td><td>43.45479082321187</td></tr><tr><td>Boston Celtics</td><td>2015</td><td>43.44459279038718</td></tr><tr><td>Detroit Pistons</td><td>2015</td><td>43.43903772553308</td></tr><tr><td>Vancouver Grizzlies</td><td>1999</td><td>43.43516412089698</td></tr><tr><td>Milwaukee Bucks</td><td>2013</td><td>43.42045626227527</td></tr><tr><td>Minnesota Timberwolves</td><td>1999</td><td>43.40734028092433</td></tr><tr><td>New Jersey Nets</td><td>2010</td><td>43.392775491540924</td></tr><tr><td>New Jersey Nets</td><td>2003</td><td>43.38028169014084</td></tr><tr><td>Los Angeles Clippers</td><td>2003</td><td>43.35752603344904</td></tr><tr><td>Atlanta Hawks</td><td>2004</td><td>43.32247557003257</td></tr><tr><td>Phoenix Suns</td><td>2002</td><td>43.31737048323901</td></tr><tr><td>Cleveland Cavaliers</td><td>2003</td><td>43.31171768963957</td></tr><tr><td>Minnesota Timberwolves</td><td>2012</td><td>43.29243629499798</td></tr><tr><td>Utah Jazz</td><td>2005</td><td>43.29025051858943</td></tr><tr><td>Chicago Bulls</td><td>2013</td><td>43.287904599659285</td></tr><tr><td>Phoenix Suns</td><td>2016</td><td>43.282518877332954</td></tr><tr><td>Chicago Bulls</td><td>2015</td><td>43.276390713972845</td></tr><tr><td>New Orleans/Oklahoma City Hornets</td><td>2005</td><td>43.250444049733574</td></tr><tr><td>Denver Nuggets</td><td>1996</td><td>43.23984930933445</td></tr><tr><td>New Orleans Hornets</td><td>2003</td><td>43.23952278984399</td></tr><tr><td>Toronto Raptors</td><td>2003</td><td>43.21849782743637</td></tr><tr><td>Denver Nuggets</td><td>1997</td><td>43.20074005550416</td></tr><tr><td>Charlotte Hornets</td><td>2001</td><td>43.193637197919855</td></tr><tr><td>Washington Wizards</td><td>2012</td><td>43.18181818181818</td></tr><tr><td>Golden State Warriors</td><td>2004</td><td>43.16765465876273</td></tr><tr><td>Vancouver Grizzlies</td><td>1996</td><td>43.15266859743483</td></tr><tr><td>Golden State Warriors</td><td>2002</td><td>43.15048822515796</td></tr><tr><td>Oklahoma City Thunder</td><td>2021</td><td>43.148880105401844</td></tr><tr><td>Dallas Mavericks</td><td>1998</td><td>43.14767737462445</td></tr><tr><td>Miami Heat</td><td>2001</td><td>43.13339888561127</td></tr><tr><td>New Orleans Hornets</td><td>2002</td><td>43.1314623338257</td></tr><tr><td>New York Knicks</td><td>2019</td><td>43.12859036676978</td></tr><tr><td>Los Angeles Clippers</td><td>2000</td><td>43.12620495328488</td></tr><tr><td>Cleveland Cavaliers</td><td>2001</td><td>43.11224489795919</td></tr><tr><td>Indiana Pacers</td><td>2003</td><td>43.09318249479011</td></tr><tr><td>Atlanta Hawks</td><td>1999</td><td>43.06517492452495</td></tr><tr><td>Orlando Magic</td><td>2003</td><td>43.055141579731746</td></tr><tr><td>Charlotte Bobcats</td><td>2005</td><td>43.04439746300211</td></tr><tr><td>New Jersey Nets</td><td>2000</td><td>42.98926014319809</td></tr><tr><td>Philadelphia 76ers</td><td>2004</td><td>42.97656121947222</td></tr><tr><td>Milwaukee Bucks</td><td>2010</td><td>42.947772204190024</td></tr><tr><td>Boston Celtics</td><td>2003</td><td>42.93544457978076</td></tr><tr><td>Toronto Raptors</td><td>2002</td><td>42.9339707200478</td></tr><tr><td>Washington Wizards</td><td>2004</td><td>42.889424525459475</td></tr><tr><td>Detroit Pistons</td><td>2001</td><td>42.88561790861699</td></tr><tr><td>New Jersey Nets</td><td>1997</td><td>42.872958760033214</td></tr><tr><td>Los Angeles Lakers</td><td>2016</td><td>42.85911984500415</td></tr><tr><td>Denver Nuggets</td><td>1999</td><td>42.8254320596163</td></tr><tr><td>Washington Wizards</td><td>2003</td><td>42.75430359937402</td></tr><tr><td>New Jersey Nets</td><td>2012</td><td>42.74580335731415</td></tr><tr><td>Chicago Bulls</td><td>2001</td><td>42.73301737756714</td></tr><tr><td>Orlando Magic</td><td>1998</td><td>42.72871496562665</td></tr><tr><td>Toronto Raptors</td><td>2000</td><td>42.70713463751438</td></tr><tr><td>Denver Nuggets</td><td>2001</td><td>42.6977836489065</td></tr><tr><td>Toronto Raptors</td><td>1999</td><td>42.68025078369906</td></tr><tr><td>Atlanta Hawks</td><td>2000</td><td>42.67857142857142</td></tr><tr><td>Orlando Magic</td><td>2021</td><td>42.66578831796223</td></tr><tr><td>Los Angeles Clippers</td><td>1999</td><td>42.656325739214736</td></tr><tr><td>Detroit Pistons</td><td>2003</td><td>42.578365089121085</td></tr><tr><td>Dallas Mavericks</td><td>1997</td><td>42.524818491628395</td></tr><tr><td>Los Angeles Lakers</td><td>2015</td><td>42.47022121384005</td></tr><tr><td>Charlotte Hornets</td><td>2015</td><td>42.455498253202464</td></tr><tr><td>Philadelphia 76ers</td><td>1999</td><td>42.418689876316996</td></tr><tr><td>Charlotte Bobcats</td><td>2004</td><td>42.4124513618677</td></tr><tr><td>Golden State Warriors</td><td>2000</td><td>42.4</td></tr><tr><td>Charlotte Hornets</td><td>2014</td><td>42.37816764132554</td></tr><tr><td>Boston Celtics</td><td>2001</td><td>42.361747632141764</td></tr><tr><td>Charlotte Bobcats</td><td>2013</td><td>42.341729067392784</td></tr><tr><td>Boston Celtics</td><td>2002</td><td>42.33480176211454</td></tr><tr><td>New York Knicks</td><td>2015</td><td>42.32662192393736</td></tr><tr><td>Denver Nuggets</td><td>2003</td><td>42.30712926365101</td></tr><tr><td>New Orleans Hornets</td><td>2005</td><td>42.304082590333174</td></tr><tr><td>Toronto Raptors</td><td>2004</td><td>42.300165587836815</td></tr><tr><td>Denver Nuggets</td><td>1998</td><td>42.18374218374218</td></tr><tr><td>Philadelphia 76ers</td><td>2014</td><td>42.14876033057851</td></tr><tr><td>Toronto Raptors</td><td>1996</td><td>42.06418039895924</td></tr><tr><td>Cleveland Cavaliers</td><td>2012</td><td>41.90001278608874</td></tr><tr><td>Chicago Bulls</td><td>2004</td><td>41.8445364765849</td></tr><tr><td>Memphis Grizzlies</td><td>2001</td><td>41.71572750210261</td></tr><tr><td>Denver Nuggets</td><td>2002</td><td>41.67780252412769</td></tr><tr><td>Philadelphia 76ers</td><td>1996</td><td>41.6501976284585</td></tr><tr><td>Chicago Bulls</td><td>2000</td><td>41.62365086813703</td></tr><tr><td>Golden State Warriors</td><td>1999</td><td>41.54960816205826</td></tr><tr><td>Orlando Magic</td><td>1996</td><td>41.50569588905399</td></tr><tr><td>Charlotte Bobcats</td><td>2012</td><td>41.24819509064656</td></tr><tr><td>Philadelphia 76ers</td><td>2015</td><td>41.20213963963964</td></tr><tr><td>Miami Heat</td><td>2003</td><td>41.09030504379342</td></tr><tr><td>New Orleans Hornets</td><td>2004</td><td>41.07349298100743</td></tr><tr><td>New Jersey Nets</td><td>1999</td><td>40.99462365591398</td></tr><tr><td>Golden State Warriors</td><td>1998</td><td>40.96213384139081</td></tr><tr><td>New Jersey Nets</td><td>1996</td><td>40.909090909090914</td></tr><tr><td>Golden State Warriors</td><td>2001</td><td>40.51274827440485</td></tr><tr><td>Chicago Bulls</td><td>1999</td><td>40.380985069504035</td></tr></tbody></table></div>"
      ]
     },
     "metadata": {
      "application/vnd.databricks.v1+output": {
       "addedWidgets": {},
       "aggData": [],
       "aggError": "",
       "aggOverflow": false,
       "aggSchema": [],
       "aggSeriesLimitReached": false,
       "aggType": "",
       "arguments": {},
       "columnCustomDisplayInfos": {},
       "data": [
        [
         "Utah Jazz",
         1998,
         50.29893423446842
        ],
        [
         "Phoenix Suns",
         2009,
         50.28058361391695
        ],
        [
         "Phoenix Suns",
         2008,
         50.280548628428924
        ],
        [
         "Miami Heat",
         2013,
         50.16483516483517
        ],
        [
         "Golden State Warriors",
         2017,
         49.92513951272628
        ],
        [
         "Denver Nuggets",
         2022,
         49.76280834914611
        ],
        [
         "Utah Jazz",
         1997,
         49.55442393380013
        ],
        [
         "Phoenix Suns",
         2007,
         49.31487498234214
        ],
        [
         "Golden State Warriors",
         2016,
         49.258805929552565
        ],
        [
         "Phoenix Suns",
         2022,
         49.226441631504926
        ],
        [
         "Utah Jazz",
         2008,
         49.18208225042042
        ],
        [
         "Golden State Warriors",
         2018,
         49.08787077008773
        ],
        [
         "Phoenix Suns",
         2006,
         49.023216308040766
        ],
        [
         "Washington Bullets",
         1997,
         48.96294570030296
        ],
        [
         "Utah Jazz",
         1996,
         48.908098271155595
        ],
        [
         "Boston Celtics",
         2010,
         48.85204081632653
        ],
        [
         "Indiana Pacers",
         2020,
         48.778586278586275
        ],
        [
         "Brooklyn Nets",
         2021,
         48.74768089053803
        ],
        [
         "Denver Nuggets",
         2020,
         48.68353123386681
        ],
        [
         "Miami Heat",
         2011,
         48.6318407960199
        ],
        [
         "Boston Celtics",
         2009,
         48.62782859894078
        ],
        [
         "Phoenix Suns",
         2021,
         48.62293994027209
        ],
        [
         "Boston Celtics",
         2022,
         48.516096579476866
        ],
        [
         "Phoenix Suns",
         2010,
         48.490793842438876
        ],
        [
         "Chicago Bulls",
         2022,
         48.43786704251821
        ],
        [
         "Los Angeles Lakers",
         1998,
         48.33778209172531
        ],
        [
         "Utah Jazz",
         2010,
         48.33583208395802
        ],
        [
         "Denver Nuggets",
         2011,
         48.276633840644585
        ],
        [
         "Los Angeles Lakers",
         2020,
         48.24953935246118
        ],
        [
         "San Antonio Spurs",
         2012,
         48.21952776005105
        ],
        [
         "Los Angeles Clippers",
         2014,
         48.20584631542097
        ],
        [
         "Miami Heat",
         2005,
         48.16159065804008
        ],
        [
         "Miami Heat",
         2014,
         48.15772462831286
        ],
        [
         "Dallas Mavericks",
         2014,
         48.08184143222506
        ],
        [
         "Milwaukee Bucks",
         2019,
         48.07486631016043
        ],
        [
         "Toronto Raptors",
         2010,
         48.06879903439952
        ],
        [
         "Oklahoma City Thunder",
         2013,
         48.058778035576175
        ],
        [
         "San Antonio Spurs",
         2013,
         48.0482290881688
        ],
        [
         "LA Clippers",
         2018,
         47.99777530589544
        ],
        [
         "Brooklyn Nets",
         2022,
         47.94238683127572
        ],
        [
         "Utah Jazz",
         2007,
         47.93860969003912
        ],
        [
         "San Antonio Spurs",
         2014,
         47.93859649122807
        ],
        [
         "San Antonio Spurs",
         2016,
         47.90329801522161
        ],
        [
         "Orlando Magic",
         2006,
         47.89594491201224
        ],
        [
         "Boston Celtics",
         2008,
         47.88796366389099
        ],
        [
         "Milwaukee Bucks",
         1996,
         47.860962566844925
        ],
        [
         "Golden State Warriors",
         2015,
         47.85976355483082
        ],
        [
         "Minnesota Timberwolves",
         2022,
         47.840375586854464
        ],
        [
         "Los Angeles Lakers",
         2008,
         47.80835881753313
        ],
        [
         "Charlotte Hornets",
         1997,
         47.78006004108074
        ],
        [
         "Utah Jazz",
         2009,
         47.7748891267778
        ],
        [
         "San Antonio Spurs",
         2019,
         47.757682693721506
        ],
        [
         "New Orleans Pelicans",
         2018,
         47.754941746301874
        ],
        [
         "Milwaukee Bucks",
         2022,
         47.75266948100323
        ],
        [
         "Boston Celtics",
         2011,
         47.750362844702465
        ],
        [
         "Los Angeles Clippers",
         2013,
         47.7437417654809
        ],
        [
         "Atlanta Hawks",
         2022,
         47.739908145999514
        ],
        [
         "San Antonio Spurs",
         2015,
         47.73596001176125
        ],
        [
         "New Orleans Pelicans",
         2020,
         47.733127253992784
        ],
        [
         "Milwaukee Bucks",
         2017,
         47.72493005448388
        ],
        [
         "Cleveland Cavaliers",
         2017,
         47.692947207981156
        ],
        [
         "Minnesota Timberwolves",
         2003,
         47.667220292918614
        ],
        [
         "Memphis Grizzlies",
         2011,
         47.65177548682703
        ],
        [
         "Washington Wizards",
         2022,
         47.64255739323624
        ],
        [
         "Denver Nuggets",
         2021,
         47.639292906690535
        ],
        [
         "Milwaukee Bucks",
         2021,
         47.63366860772896
        ],
        [
         "Chicago Bulls",
         2021,
         47.609855796525494
        ],
        [
         "Minnesota Timberwolves",
         2017,
         47.564823706955686
        ],
        [
         "Miami Heat",
         2012,
         47.534571867579274
        ],
        [
         "Portland Trail Blazers",
         2000,
         47.52650176678445
        ],
        [
         "San Antonio Spurs",
         2011,
         47.523612070951394
        ],
        [
         "Golden State Warriors",
         2014,
         47.46908491343776
        ],
        [
         "Milwaukee Bucks",
         2018,
         47.46562977364255
        ],
        [
         "Indiana Pacers",
         2017,
         47.45174281349813
        ],
        [
         "Phoenix Suns",
         1997,
         47.45115995115995
        ],
        [
         "Denver Nuggets",
         2008,
         47.44732003959836
        ],
        [
         "Denver Nuggets",
         2013,
         47.43284056588777
        ],
        [
         "Indiana Pacers",
         2018,
         47.4025974025974
        ],
        [
         "Los Angeles Clippers",
         2015,
         47.38625363020329
        ],
        [
         "LA Clippers",
         2020,
         47.38120950323974
        ],
        [
         "Denver Nuggets",
         2017,
         47.38047138047138
        ],
        [
         "San Antonio Spurs",
         2009,
         47.37414543194531
        ],
        [
         "Philadelphia 76ers",
         2019,
         47.365462975973024
        ],
        [
         "Seattle SuperSonics",
         1996,
         47.36418511066399
        ],
        [
         "Cleveland Cavaliers",
         2022,
         47.35064935064935
        ],
        [
         "Philadelphia 76ers",
         2018,
         47.32686980609419
        ],
        [
         "Philadelphia 76ers",
         2022,
         47.320525783619814
        ],
        [
         "Seattle SuperSonics",
         1998,
         47.305242528172464
        ],
        [
         "Charlotte Hornets",
         2022,
         47.30021598272138
        ],
        [
         "Los Angeles Lakers",
         2022,
         47.294236093632016
        ],
        [
         "Utah Jazz",
         2020,
         47.292225201072384
        ],
        [
         "Denver Nuggets",
         2012,
         47.291907886272995
        ],
        [
         "Utah Jazz",
         2021,
         47.27796873267546
        ],
        [
         "San Antonio Spurs",
         2006,
         47.275311957036806
        ],
        [
         "Oklahoma City Thunder",
         2012,
         47.27146814404432
        ],
        [
         "Orlando Magic",
         2008,
         47.26156751652502
        ],
        [
         "Dallas Mavericks",
         2013,
         47.2509526401742
        ],
        [
         "Milwaukee Bucks",
         2016,
         47.24943481537302
        ],
        [
         "Sacramento Kings",
         2020,
         47.23448454946767
        ],
        [
         "Phoenix Suns",
         2005,
         47.22888168100409
        ],
        [
         "Cleveland Cavaliers",
         2020,
         47.217125382263
        ],
        [
         "Golden State Warriors",
         2021,
         47.21377912867275
        ],
        [
         "Miami Heat",
         2022,
         47.20576873551378
        ],
        [
         "Phoenix Suns",
         2020,
         47.20369420215495
        ],
        [
         "LA Clippers",
         2021,
         47.20299557471917
        ],
        [
         "Toronto Raptors",
         2018,
         47.20188284518829
        ],
        [
         "New Orleans Pelicans",
         2022,
         47.17898832684825
        ],
        [
         "New Orleans Pelicans",
         2017,
         47.158454647256434
        ],
        [
         "Memphis Grizzlies",
         2007,
         47.15510522213562
        ],
        [
         "Los Angeles Lakers",
         2018,
         47.15381509890997
        ],
        [
         "Washington Wizards",
         2021,
         47.15054353793785
        ],
        [
         "Golden State Warriors",
         2009,
         47.14941507478158
        ],
        [
         "LA Clippers",
         2017,
         47.14370722999107
        ],
        [
         "Orlando Magic",
         2010,
         47.133660331085224
        ],
        [
         "Miami Heat",
         2006,
         47.13324791800128
        ],
        [
         "Dallas Mavericks",
         2022,
         47.118558009647124
        ],
        [
         "Philadelphia 76ers",
         2021,
         47.114947751022264
        ],
        [
         "Los Angeles Lakers",
         2019,
         47.1025897839462
        ],
        [
         "Atlanta Hawks",
         2013,
         47.09667534855217
        ],
        [
         "Boston Celtics",
         2005,
         47.08249496981891
        ],
        [
         "Oklahoma City Thunder",
         2011,
         47.08235294117647
        ],
        [
         "Denver Nuggets",
         2018,
         47.0822658696271
        ],
        [
         "Cleveland Cavaliers",
         2009,
         47.060592392121485
        ],
        [
         "Sacramento Kings",
         2021,
         47.05818732424832
        ],
        [
         "Dallas Mavericks",
         2011,
         47.04405386897969
        ],
        [
         "Milwaukee Bucks",
         2020,
         47.03184713375796
        ],
        [
         "Dallas Mavericks",
         2010,
         47.02719311722231
        ],
        [
         "Washington Wizards",
         2017,
         46.99828473413379
        ],
        [
         "Dallas Mavericks",
         2007,
         46.98757763975156
        ],
        [
         "New Orleans Hornets",
         2008,
         46.9701726844584
        ],
        [
         "San Antonio Spurs",
         2020,
         46.96770805985823
        ],
        [
         "Orlando Magic",
         2007,
         46.96682464454977
        ],
        [
         "Golden State Warriors",
         2019,
         46.95199211600732
        ],
        [
         "Philadelphia 76ers",
         2011,
         46.94846292947559
        ],
        [
         "Miami Heat",
         2007,
         46.943919344675486
        ],
        [
         "Memphis Grizzlies",
         2020,
         46.94189602446483
        ],
        [
         "Phoenix Suns",
         1998,
         46.93923145665773
        ],
        [
         "Charlotte Bobcats",
         2014,
         46.93711967545639
        ],
        [
         "Indiana Pacers",
         2019,
         46.922747393974014
        ],
        [
         "Toronto Raptors",
         2008,
         46.91900075700227
        ],
        [
         "Memphis Grizzlies",
         2022,
         46.90900671451725
        ],
        [
         "Washington Wizards",
         2018,
         46.908734052993125
        ],
        [
         "LA Clippers",
         2022,
         46.88149688149688
        ],
        [
         "Phoenix Suns",
         2014,
         46.87353079454631
        ],
        [
         "Oklahoma City Thunder",
         2016,
         46.868490487432304
        ],
        [
         "Utah Jazz",
         2018,
         46.8586387434555
        ],
        [
         "Seattle SuperSonics",
         2006,
         46.85782201753083
        ],
        [
         "Denver Nuggets",
         2009,
         46.84960907557872
        ],
        [
         "Utah Jazz",
         2019,
         46.82752457551385
        ],
        [
         "San Antonio Spurs",
         2010,
         46.82298451295412
        ],
        [
         "Portland Trail Blazers",
         2020,
         46.81965577450736
        ],
        [
         "Indiana Pacers",
         2022,
         46.81620839363242
        ],
        [
         "San Antonio Spurs",
         2007,
         46.81364660444159
        ],
        [
         "Washington Wizards",
         2016,
         46.80440771349863
        ],
        [
         "Memphis Grizzlies",
         2014,
         46.80327868852459
        ],
        [
         "Miami Heat",
         2020,
         46.78552133981631
        ],
        [
         "LA Clippers",
         2016,
         46.78438128050531
        ],
        [
         "Utah Jazz",
         2000,
         46.77468201090249
        ],
        [
         "Los Angeles Lakers",
         2009,
         46.76107683679193
        ],
        [
         "Sacramento Kings",
         2022,
         46.76056338028169
        ],
        [
         "Golden State Warriors",
         2022,
         46.75293553798227
        ],
        [
         "New Orleans Hornets",
         2010,
         46.7451322290032
        ],
        [
         "Los Angeles Lakers",
         1996,
         46.73511293634497
        ],
        [
         "Los Angeles Lakers",
         2000,
         46.73096014749681
        ],
        [
         "Boston Celtics",
         2019,
         46.729241877256314
        ],
        [
         "Houston Rockets",
         1996,
         46.71814671814672
        ],
        [
         "Los Angeles Clippers",
         2006,
         46.7151027979595
        ],
        [
         "Los Angeles Lakers",
         2006,
         46.708277604398866
        ],
        [
         "Washington Wizards",
         2019,
         46.70165980990211
        ],
        [
         "Sacramento Kings",
         2002,
         46.697234560825336
        ],
        [
         "Sacramento Kings",
         2003,
         46.685577784413255
        ],
        [
         "Oklahoma City Thunder",
         2020,
         46.684636118598384
        ],
        [
         "Los Angeles Lakers",
         2021,
         46.6820987654321
        ],
        [
         "Dallas Mavericks",
         2005,
         46.67168674698795
        ],
        [
         "Indiana Pacers",
         1997,
         46.66347381864623
        ],
        [
         "Minnesota Timberwolves",
         2016,
         46.659707724425886
        ],
        [
         "Denver Nuggets",
         2010,
         46.64936650892994
        ],
        [
         "Indiana Pacers",
         2021,
         46.64447546440459
        ],
        [
         "San Antonio Spurs",
         2001,
         46.63800515907137
        ],
        [
         "Toronto Raptors",
         2011,
         46.63749424228466
        ],
        [
         "Indiana Pacers",
         1998,
         46.63555992141454
        ],
        [
         "Minnesota Timberwolves",
         2001,
         46.6353217749045
        ],
        [
         "Atlanta Hawks",
         2010,
         46.62523486052898
        ],
        [
         "Portland Trail Blazers",
         2019,
         46.61674986134221
        ],
        [
         "Milwaukee Bucks",
         2001,
         46.61384362386007
        ],
        [
         "Charlotte Hornets",
         1998,
         46.61161039591936
        ],
        [
         "Milwaukee Bucks",
         1997,
         46.609360076408784
        ],
        [
         "Seattle SuperSonics",
         1997,
         46.597938144329895
        ],
        [
         "Oklahoma City Thunder",
         2014,
         46.591271105447596
        ],
        [
         "Toronto Raptors",
         2009,
         46.58119658119658
        ],
        [
         "Detroit Pistons",
         2007,
         46.56917885264342
        ],
        [
         "San Antonio Spurs",
         1998,
         46.56335916020995
        ],
        [
         "Minnesota Timberwolves",
         1997,
         46.55920644761314
        ],
        [
         "Cleveland Cavaliers",
         1996,
         46.55091506335054
        ],
        [
         "Cleveland Cavaliers",
         2016,
         46.5478529329217
        ],
        [
         "Dallas Mavericks",
         2009,
         46.54742706348043
        ],
        [
         "Toronto Raptors",
         2019,
         46.54270772806508
        ],
        [
         "Washington Wizards",
         2014,
         46.53826996513366
        ],
        [
         "Atlanta Hawks",
         2009,
         46.536119795951954
        ],
        [
         "San Antonio Spurs",
         2018,
         46.53179190751445
        ],
        [
         "Utah Jazz",
         2022,
         46.52949925632127
        ],
        [
         "Utah Jazz",
         1999,
         46.51849279388783
        ],
        [
         "Denver Nuggets",
         2006,
         46.50591307018891
        ],
        [
         "Minnesota Timberwolves",
         2000,
         46.501943364797334
        ],
        [
         "Chicago Bulls",
         2010,
         46.499698249849125
        ],
        [
         "Toronto Raptors",
         2017,
         46.49789029535865
        ],
        [
         "Miami Heat",
         2019,
         46.47846332945285
        ],
        [
         "Milwaukee Bucks",
         2006,
         46.47398843930636
        ],
        [
         "Houston Rockets",
         2016,
         46.47349823321555
        ],
        [
         "Miami Heat",
         2010,
         46.47302904564315
        ],
        [
         "San Antonio Spurs",
         2021,
         46.464646464646464
        ],
        [
         "Toronto Raptors",
         2016,
         46.46419532529403
        ],
        [
         "Miami Heat",
         2021,
         46.463956269217626
        ],
        [
         "New Orleans Pelicans",
         2021,
         46.458424989001315
        ],
        [
         "Utah Jazz",
         2006,
         46.45283615105072
        ],
        [
         "San Antonio Spurs",
         2022,
         46.443043674020714
        ],
        [
         "Atlanta Hawks",
         2021,
         46.43054786939679
        ],
        [
         "LA Clippers",
         2019,
         46.430062630480165
        ],
        [
         "Boston Celtics",
         2020,
         46.42943597191963
        ],
        [
         "Dallas Mavericks",
         2021,
         46.42101747745742
        ],
        [
         "Minnesota Timberwolves",
         2018,
         46.413849958779885
        ],
        [
         "Detroit Pistons",
         2011,
         46.39869888475837
        ],
        [
         "Atlanta Hawks",
         2014,
         46.38770281810418
        ],
        [
         "Washington Bullets",
         1996,
         46.37620444072057
        ],
        [
         "Chicago Bulls",
         1996,
         46.37295860235473
        ],
        [
         "Denver Nuggets",
         2019,
         46.36413340623292
        ],
        [
         "Denver Nuggets",
         2007,
         46.36020881670533
        ],
        [
         "Toronto Raptors",
         2007,
         46.358712007222394
        ],
        [
         "Memphis Grizzlies",
         2009,
         46.35059263880225
        ],
        [
         "Dallas Mavericks",
         2020,
         46.348517715112074
        ],
        [
         "Utah Jazz",
         2003,
         46.33952675877402
        ],
        [
         "San Antonio Spurs",
         2017,
         46.33944574658762
        ],
        [
         "Chicago Bulls",
         2020,
         46.323761438939734
        ],
        [
         "Houston Rockets",
         2013,
         46.30595002696386
        ],
        [
         "Los Angeles Clippers",
         2012,
         46.30406290956749
        ],
        [
         "Portland Trail Blazers",
         1997,
         46.284056101886186
        ],
        [
         "Sacramento Kings",
         2008,
         46.279306829765545
        ],
        [
         "Houston Rockets",
         1997,
         46.27438439398785
        ],
        [
         "Utah Jazz",
         2016,
         46.27390971690895
        ],
        [
         "Atlanta Hawks",
         2015,
         46.25908507909363
        ],
        [
         "Philadelphia 76ers",
         2020,
         46.257768170764656
        ],
        [
         "Milwaukee Bucks",
         1999,
         46.25774670268552
        ],
        [
         "Los Angeles Lakers",
         2003,
         46.25501202886929
        ],
        [
         "Golden State Warriors",
         2013,
         46.24593556015371
        ],
        [
         "Portland Trail Blazers",
         2009,
         46.24505928853755
        ],
        [
         "Chicago Bulls",
         1997,
         46.24354243542436
        ],
        [
         "Memphis Grizzlies",
         2021,
         46.243134003523686
        ],
        [
         "Los Angeles Lakers",
         2011,
         46.22898682417083
        ],
        [
         "New York Knicks",
         1996,
         46.2238398544131
        ],
        [
         "New York Knicks",
         2010,
         46.22228704784131
        ],
        [
         "Seattle SuperSonics",
         2002,
         46.22075584883024
        ],
        [
         "Memphis Grizzlies",
         2010,
         46.22017821212992
        ],
        [
         "Cleveland Cavaliers",
         2010,
         46.204724409448815
        ],
        [
         "Sacramento Kings",
         2005,
         46.20325435341136
        ],
        [
         "Los Angeles Lakers",
         2007,
         46.19997001948734
        ],
        [
         "Utah Jazz",
         2001,
         46.19892302819132
        ],
        [
         "Oklahoma City Thunder",
         2010,
         46.18662747979427
        ],
        [
         "Los Angeles Lakers",
         1999,
         46.1635022752236
        ],
        [
         "Dallas Mavericks",
         2001,
         46.15151515151515
        ],
        [
         "Chicago Bulls",
         2011,
         46.14504690002288
        ],
        [
         "Phoenix Suns",
         2011,
         46.13882863340564
        ],
        [
         "New Orleans Pelicans",
         2014,
         46.13333333333333
        ],
        [
         "New York Knicks",
         2020,
         46.12893729761554
        ],
        [
         "Miami Heat",
         2017,
         46.11781405251952
        ],
        [
         "Golden State Warriors",
         2011,
         46.11123932610201
        ],
        [
         "New Orleans Pelicans",
         2019,
         46.107039137048815
        ],
        [
         "Minnesota Timberwolves",
         1998,
         46.09865470852018
        ],
        [
         "Sacramento Kings",
         2017,
         46.09263995453254
        ],
        [
         "Cleveland Cavaliers",
         2018,
         46.08973468537297
        ],
        [
         "Denver Nuggets",
         2005,
         46.08860944582541
        ],
        [
         "Portland Trail Blazers",
         2001,
         46.08740715149421
        ],
        [
         "Minnesota Timberwolves",
         2005,
         46.086421651545436
        ],
        [
         "Miami Heat",
         2016,
         46.08102464151469
        ],
        [
         "Detroit Pistons",
         1996,
         46.07888631090487
        ],
        [
         "Houston Rockets",
         2014,
         46.07404393816111
        ],
        [
         "Sacramento Kings",
         2018,
         46.07322716755139
        ],
        [
         "Phoenix Suns",
         2019,
         46.07022183046863
        ],
        [
         "Vancouver Grizzlies",
         1998,
         46.05858537747083
        ],
        [
         "Philadelphia 76ers",
         2009,
         46.05640174935907
        ],
        [
         "Philadelphia 76ers",
         2010,
         46.04795737122558
        ],
        [
         "Orlando Magic",
         2014,
         46.04765506807867
        ],
        [
         "Boston Celtics",
         2013,
         46.04763548498447
        ],
        [
         "Oklahoma City Thunder",
         2015,
         46.04236343366778
        ],
        [
         "Sacramento Kings",
         2016,
         46.04072398190045
        ],
        [
         "Chicago Bulls",
         1998,
         46.03799814643188
        ],
        [
         "Dallas Mavericks",
         2006,
         46.03691639522258
        ],
        [
         "Golden State Warriors",
         2010,
         46.031028769392975
        ],
        [
         "Utah Jazz",
         2011,
         46.02656723374505
        ],
        [
         "Miami Heat",
         2009,
         46.01031553398058
        ],
        [
         "Dallas Mavericks",
         2004,
         46.001719690455715
        ],
        [
         "Charlotte Bobcats",
         2010,
         45.997689387687736
        ],
        [
         "Atlanta Hawks",
         2008,
         45.99393019726859
        ],
        [
         "Toronto Raptors",
         2014,
         45.99308374680499
        ],
        [
         "Boston Celtics",
         2006,
         45.98009793081662
        ],
        [
         "Boston Celtics",
         2012,
         45.974930362116986
        ],
        [
         "Detroit Pistons",
         1998,
         45.94458438287153
        ],
        [
         "Los Angeles Lakers",
         2010,
         45.943613348676635
        ],
        [
         "San Antonio Spurs",
         2000,
         45.93032589500722
        ],
        [
         "Houston Rockets",
         2017,
         45.92603089131359
        ],
        [
         "Atlanta Hawks",
         1998,
         45.91029023746702
        ],
        [
         "Houston Rockets",
         2022,
         45.904904157331345
        ],
        [
         "Charlotte Hornets",
         2018,
         45.901414252368525
        ],
        [
         "Utah Jazz",
         2014,
         45.89066567497211
        ],
        [
         "Portland Trail Blazers",
         2003,
         45.885591924135824
        ],
        [
         "New Orleans Hornets",
         2011,
         45.87804878048781
        ],
        [
         "Minnesota Timberwolves",
         2006,
         45.8712715855573
        ],
        [
         "Dallas Mavericks",
         2008,
         45.868138424821005
        ],
        [
         "Dallas Mavericks",
         2000,
         45.857860732232595
        ],
        [
         "Sacramento Kings",
         2014,
         45.849438615866006
        ],
        [
         "New York Knicks",
         2006,
         45.83582089552239
        ],
        [
         "Sacramento Kings",
         2004,
         45.82763337893297
        ],
        [
         "Brooklyn Nets",
         2014,
         45.81870741276069
        ],
        [
         "Los Angeles Lakers",
         1997,
         45.81697372395047
        ],
        [
         "San Antonio Spurs",
         2005,
         45.81014223871367
        ],
        [
         "Golden State Warriors",
         2012,
         45.807956459764156
        ],
        [
         "LA Clippers",
         2015,
         45.807844548398705
        ],
        [
         "Philadelphia 76ers",
         2008,
         45.80481999404939
        ],
        [
         "Milwaukee Bucks",
         2002,
         45.802866335185726
        ],
        [
         "Charlotte Bobcats",
         2009,
         45.78884934756821
        ],
        [
         "Orlando Magic",
         2011,
         45.78370652691758
        ],
        [
         "Milwaukee Bucks",
         2015,
         45.78295488056621
        ],
        [
         "New York Knicks",
         1997,
         45.78294080203692
        ],
        [
         "Seattle SuperSonics",
         2001,
         45.7739078216484
        ],
        [
         "Phoenix Suns",
         2004,
         45.77290959580376
        ],
        [
         "Los Angeles Clippers",
         2011,
         45.76795054683785
        ],
        [
         "Oklahoma City Thunder",
         2018,
         45.75190010857763
        ],
        [
         "Boston Celtics",
         2021,
         45.75084764300558
        ],
        [
         "Toronto Raptors",
         2020,
         45.744393407187246
        ],
        [
         "Orlando Magic",
         2009,
         45.7433290978399
        ],
        [
         "Portland Trail Blazers",
         2013,
         45.73143944940694
        ],
        [
         "Philadelphia 76ers",
         2007,
         45.72981366459628
        ],
        [
         "Los Angeles Lakers",
         2013,
         45.72947214076246
        ],
        [
         "Phoenix Suns",
         2012,
         45.72813057893394
        ],
        [
         "Utah Jazz",
         2017,
         45.72538860103627
        ],
        [
         "Golden State Warriors",
         2008,
         45.72306869820903
        ],
        [
         "Atlanta Hawks",
         2020,
         45.713438148917234
        ],
        [
         "Portland Trail Blazers",
         2018,
         45.70778090263828
        ],
        [
         "Oklahoma City Thunder",
         2019,
         45.705092333519865
        ],
        [
         "Dallas Mavericks",
         2002,
         45.70416297608503
        ],
        [
         "Brooklyn Nets",
         2013,
         45.69241723033108
        ],
        [
         "San Antonio Spurs",
         2003,
         45.690483819288694
        ],
        [
         "New York Knicks",
         2017,
         45.68486654924807
        ],
        [
         "Los Angeles Lakers",
         2001,
         45.683219733852646
        ],
        [
         "Charlotte Hornets",
         2021,
         45.6786137121946
        ],
        [
         "Los Angeles Clippers",
         2009,
         45.67416578589763
        ],
        [
         "San Antonio Spurs",
         2008,
         45.657794676806084
        ],
        [
         "Atlanta Hawks",
         2011,
         45.64512103818318
        ],
        [
         "Sacramento Kings",
         2011,
         45.63644103873989
        ],
        [
         "Detroit Pistons",
         2005,
         45.63136770608212
        ],
        [
         "San Antonio Spurs",
         2004,
         45.61570117125673
        ],
        [
         "Los Angeles Lakers",
         2012,
         45.610453246222946
        ],
        [
         "Miami Heat",
         1999,
         45.600739371534196
        ],
        [
         "Washington Wizards",
         2006,
         45.58866491381829
        ],
        [
         "Los Angeles Clippers",
         2005,
         45.58413387046792
        ],
        [
         "Sacramento Kings",
         2001,
         45.576370846437854
        ],
        [
         "Brooklyn Nets",
         2020,
         45.57620817843866
        ],
        [
         "Sacramento Kings",
         2009,
         45.57508939213349
        ],
        [
         "Portland Trail Blazers",
         2005,
         45.56902985074627
        ],
        [
         "San Antonio Spurs",
         2002,
         45.551663747810856
        ],
        [
         "Atlanta Hawks",
         2016,
         45.550724637681164
        ],
        [
         "Utah Jazz",
         2002,
         45.54662379421222
        ],
        [
         "San Antonio Spurs",
         1999,
         45.54170661553212
        ],
        [
         "Houston Rockets",
         1999,
         45.54155367682246
        ],
        [
         "Atlanta Hawks",
         2012,
         45.52440010784578
        ],
        [
         "Cleveland Cavaliers",
         1998,
         45.52329836545499
        ],
        [
         "Atlanta Hawks",
         1997,
         45.52253116011505
        ],
        [
         "Washington Wizards",
         2020,
         45.5110668987814
        ],
        [
         "Houston Rockets",
         2009,
         45.5075497084766
        ],
        [
         "Chicago Bulls",
         2006,
         45.50375939849624
        ],
        [
         "Milwaukee Bucks",
         2000,
         45.50201402357153
        ],
        [
         "Minnesota Timberwolves",
         2004,
         45.50148646534189
        ],
        [
         "Cleveland Cavaliers",
         2008,
         45.50136322326568
        ],
        [
         "Miami Heat",
         2015,
         45.49627987968973
        ],
        [
         "Boston Celtics",
         2017,
         45.49525101763908
        ],
        [
         "Portland Trail Blazers",
         2016,
         45.492537313432834
        ],
        [
         "Utah Jazz",
         2013,
         45.49207397622193
        ],
        [
         "Seattle SuperSonics",
         2004,
         45.47751389590702
        ],
        [
         "Portland Trail Blazers",
         2010,
         45.474104810204395
        ],
        [
         "Detroit Pistons",
         2000,
         45.47061422889969
        ],
        [
         "Golden State Warriors",
         2007,
         45.45454545454545
        ],
        [
         "Sacramento Kings",
         2013,
         45.45454545454545
        ],
        [
         "Cleveland Cavaliers",
         2015,
         45.453172205438065
        ],
        [
         "Orlando Magic",
         2020,
         45.44549527127925
        ],
        [
         "Detroit Pistons",
         2013,
         45.44422827496757
        ],
        [
         "Sacramento Kings",
         2019,
         45.43328748280605
        ],
        [
         "Philadelphia 76ers",
         2017,
         45.431507813599886
        ],
        [
         "Portland Trail Blazers",
         2007,
         45.43060718711276
        ],
        [
         "Indiana Pacers",
         2000,
         45.42311739065084
        ],
        [
         "Toronto Raptors",
         2006,
         45.42237947810703
        ],
        [
         "Milwaukee Bucks",
         2014,
         45.417024935511606
        ],
        [
         "Portland Trail Blazers",
         1996,
         45.40628828093099
        ],
        [
         "Milwaukee Bucks",
         2007,
         45.403348554033485
        ],
        [
         "New Orleans Hornets",
         2009,
         45.401957876001184
        ],
        [
         "Utah Jazz",
         2012,
         45.39994888832098
        ],
        [
         "Washington Wizards",
         2015,
         45.396495396495396
        ],
        [
         "Los Angeles Clippers",
         2001,
         45.3813358597821
        ],
        [
         "Portland Trail Blazers",
         2017,
         45.366685616827745
        ],
        [
         "Cleveland Cavaliers",
         2014,
         45.360182686319284
        ],
        [
         "Sacramento Kings",
         2015,
         45.358556973163225
        ],
        [
         "Los Angeles Lakers",
         2017,
         45.35223009587328
        ],
        [
         "Cleveland Cavaliers",
         2021,
         45.35041959628033
        ],
        [
         "Detroit Pistons",
         2019,
         45.34240748617609
        ],
        [
         "Detroit Pistons",
         2008,
         45.336023591494644
        ],
        [
         "New Orleans Pelicans",
         2015,
         45.33195020746888
        ],
        [
         "Houston Rockets",
         1998,
         45.33091568449682
        ],
        [
         "Milwaukee Bucks",
         2005,
         45.325693606755124
        ],
        [
         "Oklahoma City Thunder",
         2009,
         45.31749657377798
        ],
        [
         "New Jersey Nets",
         2002,
         45.312950677819444
        ],
        [
         "Sacramento Kings",
         1997,
         45.3125
        ],
        [
         "Indiana Pacers",
         2016,
         45.305722680845115
        ],
        [
         "Portland Trail Blazers",
         2011,
         45.30241453502271
        ],
        [
         "Atlanta Hawks",
         2017,
         45.29723695227463
        ],
        [
         "Toronto Raptors",
         2013,
         45.2947086403215
        ],
        [
         "Miami Heat",
         1997,
         45.294553538347536
        ],
        [
         "Philadelphia 76ers",
         2006,
         45.29274004683841
        ],
        [
         "Houston Rockets",
         2011,
         45.28220594571305
        ],
        [
         "Houston Rockets",
         2019,
         45.280133463089115
        ],
        [
         "Detroit Pistons",
         1997,
         45.27825949865994
        ],
        [
         "Phoenix Suns",
         1999,
         45.2771755961598
        ],
        [
         "Houston Rockets",
         2010,
         45.27136343579939
        ],
        [
         "Memphis Grizzlies",
         2008,
         45.26718680995142
        ],
        [
         "Phoenix Suns",
         2017,
         45.26533425223984
        ],
        [
         "Sacramento Kings",
         2007,
         45.26283618581907
        ],
        [
         "Charlotte Bobcats",
         2008,
         45.26253160791314
        ],
        [
         "Miami Heat",
         2004,
         45.26164645820038
        ],
        [
         "New York Knicks",
         2000,
         45.259026687598116
        ],
        [
         "Memphis Grizzlies",
         2019,
         45.2586817859674
        ],
        [
         "Minnesota Timberwolves",
         2002,
         45.258620689655174
        ],
        [
         "New Orleans Hornets",
         2013,
         45.25391551969625
        ],
        [
         "Washington Wizards",
         1998,
         45.24558432131624
        ],
        [
         "Minnesota Timberwolves",
         2014,
         45.2437106918239
        ],
        [
         "Houston Rockets",
         2018,
         45.243520364568504
        ],
        [
         "New Orleans/Oklahoma City Hornets",
         2007,
         45.242537313432834
        ],
        [
         "San Antonio Spurs",
         1997,
         45.24209561631282
        ],
        [
         "Orlando Magic",
         2005,
         45.233673785205816
        ],
        [
         "Philadelphia 76ers",
         2000,
         45.23246650906225
        ],
        [
         "Charlotte Hornets",
         1996,
         45.223214285714285
        ],
        [
         "Seattle SuperSonics",
         2000,
         45.221010332950634
        ],
        [
         "Orlando Magic",
         2015,
         45.21584334668447
        ],
        [
         "New York Knicks",
         2014,
         45.20570948782536
        ],
        [
         "Chicago Bulls",
         2009,
         45.203619909502265
        ],
        [
         "Los Angeles Clippers",
         2010,
         45.196049087099674
        ],
        [
         "Washington Wizards",
         2013,
         45.192624300296345
        ],
        [
         "Washington Wizards",
         1997,
         45.18297236743838
        ],
        [
         "Los Angeles Lakers",
         2002,
         45.17906336088154
        ],
        [
         "Portland Trail Blazers",
         1998,
         45.17814726840855
        ],
        [
         "Seattle SuperSonics",
         2007,
         45.17148014440433
        ],
        [
         "Portland Trail Blazers",
         2021,
         45.169317321216056
        ],
        [
         "Houston Rockets",
         2000,
         45.15179677819083
        ],
        [
         "Milwaukee Bucks",
         2003,
         45.14097180563888
        ],
        [
         "Brooklyn Nets",
         2015,
         45.13375071143996
        ],
        [
         "Detroit Pistons",
         2006,
         45.12741312741313
        ],
        [
         "Charlotte Hornets",
         1999,
         45.105124835742444
        ],
        [
         "Indiana Pacers",
         1999,
         45.098352790660485
        ],
        [
         "Milwaukee Bucks",
         1998,
         45.09099616858238
        ],
        [
         "Boston Celtics",
         2018,
         45.075921908893704
        ],
        [
         "Detroit Pistons",
         2010,
         45.07000297885016
        ],
        [
         "Houston Rockets",
         2020,
         45.031309556221075
        ],
        [
         "Golden State Warriors",
         1996,
         45.0261780104712
        ],
        [
         "Charlotte Bobcats",
         2007,
         45.02406458624437
        ],
        [
         "Boston Celtics",
         2007,
         45.01491599937196
        ],
        [
         "Brooklyn Nets",
         2016,
         45.0
        ],
        [
         "Dallas Mavericks",
         1996,
         44.99294781382229
        ],
        [
         "Portland Trail Blazers",
         2014,
         44.992636229749635
        ],
        [
         "Minnesota Timberwolves",
         2008,
         44.989090909090905
        ],
        [
         "Washington Wizards",
         2009,
         44.98280245251981
        ],
        [
         "Denver Nuggets",
         2014,
         44.97433349892366
        ],
        [
         "New Orleans Hornets",
         2012,
         44.96542185338866
        ],
        [
         "Minnesota Timberwolves",
         2019,
         44.965302365104094
        ],
        [
         "Phoenix Suns",
         2003,
         44.9464573859469
        ],
        [
         "Memphis Grizzlies",
         2013,
         44.94110053251573
        ],
        [
         "Portland Trail Blazers",
         2002,
         44.93652199586655
        ],
        [
         "Denver Nuggets",
         2004,
         44.933852140077825
        ],
        [
         "Toronto Raptors",
         2022,
         44.93102693234071
        ],
        [
         "Memphis Grizzlies",
         2018,
         44.92903607332939
        ],
        [
         "Atlanta Hawks",
         2019,
         44.92773384237797
        ],
        [
         "New York Knicks",
         2021,
         44.92769868848784
        ],
        [
         "Houston Rockets",
         2008,
         44.927536231884055
        ],
        [
         "New York Knicks",
         2018,
         44.91298527443106
        ],
        [
         "New York Knicks",
         2009,
         44.912770411723656
        ],
        [
         "Orlando Magic",
         2019,
         44.89998581359058
        ],
        [
         "Cleveland Cavaliers",
         2006,
         44.89795918367347
        ],
        [
         "Dallas Mavericks",
         2015,
         44.89498249708285
        ],
        [
         "New York Knicks",
         2011,
         44.888001774229316
        ],
        [
         "New Jersey Nets",
         2007,
         44.885545061629585
        ],
        [
         "Orlando Magic",
         2017,
         44.884443843762675
        ],
        [
         "Philadelphia 76ers",
         2005,
         44.881434355118564
        ],
        [
         "Memphis Grizzlies",
         2002,
         44.878871511806196
        ],
        [
         "Orlando Magic",
         2016,
         44.87214737420951
        ],
        [
         "Phoenix Suns",
         1996,
         44.868035190615835
        ],
        [
         "Minnesota Timberwolves",
         2010,
         44.86463257412978
        ],
        [
         "Golden State Warriors",
         2003,
         44.86076687563785
        ],
        [
         "Detroit Pistons",
         2017,
         44.85172981878089
        ],
        [
         "Cleveland Cavaliers",
         2005,
         44.8512585812357
        ],
        [
         "Boston Celtics",
         2004,
         44.85114690092728
        ],
        [
         "Minnesota Timberwolves",
         2007,
         44.84813253887516
        ],
        [
         "Detroit Pistons",
         2020,
         44.847328244274806
        ],
        [
         "Memphis Grizzlies",
         2004,
         44.842138168177556
        ],
        [
         "Memphis Grizzlies",
         2005,
         44.83785572468564
        ],
        [
         "Dallas Mavericks",
         2003,
         44.837340876944836
        ],
        [
         "Portland Trail Blazers",
         1999,
         44.82990906028966
        ],
        [
         "Portland Trail Blazers",
         2006,
         44.82866531059302
        ],
        [
         "New Orleans Pelicans",
         2013,
         44.8256779192031
        ],
        [
         "Phoenix Suns",
         2018,
         44.820355095764015
        ],
        [
         "Chicago Bulls",
         2019,
         44.81198756007917
        ],
        [
         "Memphis Grizzlies",
         2006,
         44.81028535591094
        ],
        [
         "New York Knicks",
         2007,
         44.80702335597151
        ],
        [
         "Indiana Pacers",
         2013,
         44.803772949301
        ],
        [
         "Atlanta Hawks",
         2007,
         44.8037323037323
        ],
        [
         "Portland Trail Blazers",
         2015,
         44.803431022158684
        ],
        [
         "Sacramento Kings",
         2000,
         44.80132908763672
        ],
        [
         "Charlotte Bobcats",
         2011,
         44.798703053228856
        ],
        [
         "Detroit Pistons",
         1999,
         44.796975176722015
        ],
        [
         "Detroit Pistons",
         2016,
         44.793850454227815
        ],
        [
         "Dallas Mavericks",
         2017,
         44.7817571348629
        ],
        [
         "Vancouver Grizzlies",
         2001,
         44.77132262051916
        ],
        [
         "Miami Heat",
         1998,
         44.7680412371134
        ],
        [
         "Cleveland Cavaliers",
         1997,
         44.763825853084555
        ],
        [
         "Denver Nuggets",
         2016,
         44.763656948768755
        ],
        [
         "Dallas Mavericks",
         2019,
         44.752249036127374
        ],
        [
         "Houston Rockets",
         2015,
         44.75208362763102
        ],
        [
         "Houston Rockets",
         2012,
         44.74915518585911
        ],
        [
         "New Jersey Nets",
         1998,
         44.74682132500558
        ],
        [
         "Atlanta Hawks",
         2006,
         44.72804618656943
        ],
        [
         "Milwaukee Bucks",
         2004,
         44.72385802960369
        ],
        [
         "Indiana Pacers",
         2009,
         44.72361809045226
        ],
        [
         "Phoenix Suns",
         2000,
         44.71937235968618
        ],
        [
         "Los Angeles Lakers",
         2004,
         44.70704086656819
        ],
        [
         "Indiana Pacers",
         2002,
         44.70235275540818
        ],
        [
         "Phoenix Suns",
         2013,
         44.70177664974619
        ],
        [
         "Miami Heat",
         2018,
         44.7016174010039
        ],
        [
         "Portland Trail Blazers",
         2008,
         44.698669059368925
        ],
        [
         "Oklahoma City Thunder",
         2017,
         44.688004303388915
        ],
        [
         "Dallas Mavericks",
         2018,
         44.683306882123794
        ],
        [
         "Phoenix Suns",
         2015,
         44.67846110643078
        ],
        [
         "Orlando Magic",
         2013,
         44.67663484056927
        ],
        [
         "Philadelphia 76ers",
         2003,
         44.669117647058826
        ],
        [
         "Memphis Grizzlies",
         2015,
         44.66647498562392
        ],
        [
         "Orlando Magic",
         2002,
         44.66385944533178
        ],
        [
         "Indiana Pacers",
         2008,
         44.66266866566716
        ],
        [
         "Washington Wizards",
         2010,
         44.65445953927939
        ],
        [
         "Orlando Magic",
         2000,
         44.651364226938064
        ],
        [
         "New York Knicks",
         2012,
         44.64925076249834
        ],
        [
         "Washington Wizards",
         2000,
         44.64831804281346
        ],
        [
         "Sacramento Kings",
         2006,
         44.64175416924027
        ],
        [
         "Philadelphia 76ers",
         1998,
         44.632905258056695
        ],
        [
         "Brooklyn Nets",
         2018,
         44.62527352297593
        ],
        [
         "Chicago Bulls",
         2012,
         44.615590677739085
        ],
        [
         "Toronto Raptors",
         2021,
         44.61211714732842
        ],
        [
         "Washington Wizards",
         2007,
         44.610108841508875
        ],
        [
         "Golden State Warriors",
         2006,
         44.608055435253355
        ],
        [
         "Detroit Pistons",
         2009,
         44.60260972716489
        ],
        [
         "Seattle SuperSonics",
         2008,
         44.59827507943713
        ],
        [
         "Toronto Raptors",
         2005,
         44.59688607985201
        ],
        [
         "Chicago Bulls",
         2008,
         44.59021018479334
        ],
        [
         "Memphis Grizzlies",
         2003,
         44.58699726106386
        ],
        [
         "Toronto Raptors",
         2015,
         44.56746383229997
        ],
        [
         "Los Angeles Clippers",
         1997,
         44.566508313539195
        ],
        [
         "New York Knicks",
         1998,
         44.56469456469456
        ],
        [
         "Atlanta Hawks",
         2005,
         44.56325301204819
        ],
        [
         "New Orleans Pelicans",
         2016,
         44.55606842248167
        ],
        [
         "Phoenix Suns",
         2001,
         44.55096574087128
        ],
        [
         "Boston Celtics",
         2016,
         44.528301886792455
        ],
        [
         "Vancouver Grizzlies",
         1997,
         44.524858401510386
        ],
        [
         "Washington Wizards",
         2002,
         44.52242905096124
        ],
        [
         "Dallas Mavericks",
         2012,
         44.51537258989057
        ],
        [
         "Minnesota Timberwolves",
         2020,
         44.50832072617247
        ],
        [
         "Los Angeles Lakers",
         2014,
         44.50608064860252
        ],
        [
         "Indiana Pacers",
         2010,
         44.499853329422116
        ],
        [
         "Vancouver Grizzlies",
         2000,
         44.495196093873055
        ],
        [
         "New Orleans Hornets",
         2007,
         44.48772886638099
        ],
        [
         "Seattle SuperSonics",
         2005,
         44.48439287465272
        ],
        [
         "New Jersey Nets",
         2008,
         44.48393306678513
        ],
        [
         "Orlando Magic",
         2018,
         44.48241492239784
        ],
        [
         "Cleveland Cavaliers",
         2000,
         44.48149912656821
        ],
        [
         "Houston Rockets",
         2021,
         44.47107528053165
        ],
        [
         "Detroit Pistons",
         2002,
         44.47062519635564
        ],
        [
         "Cleveland Cavaliers",
         2019,
         44.47041636230825
        ],
        [
         "Memphis Grizzlies",
         2017,
         44.4656769072468
        ],
        [
         "Sacramento Kings",
         1999,
         44.45598931275048
        ],
        [
         "Chicago Bulls",
         2014,
         44.45251498093336
        ],
        [
         "Minnesota Timberwolves",
         2009,
         44.452387760937945
        ],
        [
         "New York Knicks",
         2005,
         44.45173998686802
        ],
        [
         "Orlando Magic",
         2012,
         44.44745395449621
        ],
        [
         "Cleveland Cavaliers",
         2013,
         44.442502621461024
        ],
        [
         "Chicago Bulls",
         2017,
         44.43388541949498
        ],
        [
         "Portland Trail Blazers",
         2022,
         44.42988204456094
        ],
        [
         "Brooklyn Nets",
         2017,
         44.42341489793159
        ],
        [
         "Detroit Pistons",
         2018,
         44.416666666666664
        ],
        [
         "Boston Celtics",
         1996,
         44.409660107334524
        ],
        [
         "Indiana Pacers",
         2015,
         44.405078240330674
        ],
        [
         "Milwaukee Bucks",
         2008,
         44.39232409381663
        ],
        [
         "Indiana Pacers",
         1996,
         44.3717888836992
        ],
        [
         "Orlando Magic",
         1997,
         44.354354354354356
        ],
        [
         "New York Knicks",
         2001,
         44.351258016773556
        ],
        [
         "San Antonio Spurs",
         1996,
         44.33497536945813
        ],
        [
         "Golden State Warriors",
         1997,
         44.33468043706032
        ],
        [
         "Washington Wizards",
         1999,
         44.330734243014945
        ],
        [
         "Washington Wizards",
         2008,
         44.323761345037944
        ],
        [
         "Charlotte Hornets",
         2000,
         44.31904834527985
        ],
        [
         "Philadelphia 76ers",
         2012,
         44.314681724846
        ],
        [
         "Sacramento Kings",
         1998,
         44.307766521948864
        ],
        [
         "Brooklyn Nets",
         2019,
         44.30653773993361
        ],
        [
         "Washington Wizards",
         2011,
         44.29544954935151
        ],
        [
         "Chicago Bulls",
         2016,
         44.29242119382965
        ],
        [
         "Minnesota Timberwolves",
         2021,
         44.29135960696358
        ],
        [
         "Indiana Pacers",
         2001,
         44.288250961823024
        ],
        [
         "Cleveland Cavaliers",
         2007,
         44.287995354913626
        ],
        [
         "Sacramento Kings",
         1996,
         44.28399518652226
        ],
        [
         "Sacramento Kings",
         2010,
         44.28010866284334
        ],
        [
         "Milwaukee Bucks",
         2009,
         44.2773349375846
        ],
        [
         "Houston Rockets",
         2006,
         44.27027849642368
        ],
        [
         "Atlanta Hawks",
         2003,
         44.2652329749104
        ],
        [
         "New York Knicks",
         2003,
         44.25745497490404
        ],
        [
         "Portland Trail Blazers",
         2004,
         44.253525692981036
        ],
        [
         "Houston Rockets",
         2004,
         44.25268096514745
        ],
        [
         "Memphis Grizzlies",
         2012,
         44.247905306556724
        ],
        [
         "Indiana Pacers",
         2007,
         44.243227326266194
        ],
        [
         "Orlando Magic",
         2004,
         44.2429022082019
        ],
        [
         "Minnesota Timberwolves",
         2015,
         44.238771703257285
        ],
        [
         "Philadelphia 76ers",
         2013,
         44.23488236437877
        ],
        [
         "Los Angeles Clippers",
         2002,
         44.23221537073244
        ],
        [
         "Detroit Pistons",
         2022,
         44.229455952651946
        ],
        [
         "New York Knicks",
         2008,
         44.22884862319874
        ],
        [
         "Houston Rockets",
         2007,
         44.21982629529799
        ],
        [
         "New York Knicks",
         2016,
         44.2031029619182
        ],
        [
         "Atlanta Hawks",
         2018,
         44.18830717955839
        ],
        [
         "Boston Celtics",
         2014,
         44.1808105299619
        ],
        [
         "Houston Rockets",
         2001,
         44.17187035385073
        ],
        [
         "Los Angeles Clippers",
         2004,
         44.1641861193796
        ],
        [
         "New York Knicks",
         2013,
         44.1616028904582
        ],
        [
         "Milwaukee Bucks",
         2011,
         44.15909090909091
        ],
        [
         "Seattle SuperSonics",
         1999,
         44.15604361849178
        ],
        [
         "Washington Wizards",
         2001,
         44.14885437490389
        ],
        [
         "New Jersey Nets",
         2006,
         44.13433522465879
        ],
        [
         "Toronto Raptors",
         1997,
         44.13152462400472
        ],
        [
         "Oklahoma City Thunder",
         2022,
         44.12955465587044
        ],
        [
         "Indiana Pacers",
         2011,
         44.126011813607526
        ],
        [
         "Indiana Pacers",
         2004,
         44.072739749528225
        ],
        [
         "Boston Celtics",
         1999,
         44.06805877803557
        ],
        [
         "Portland Trail Blazers",
         2012,
         44.062417349907435
        ],
        [
         "Los Angeles Clippers",
         2007,
         44.04855746492196
        ],
        [
         "New Jersey Nets",
         2005,
         44.04580152671756
        ],
        [
         "Denver Nuggets",
         2000,
         44.023404848147116
        ],
        [
         "Cleveland Cavaliers",
         2011,
         44.019584984844954
        ],
        [
         "Charlotte Hornets",
         2016,
         44.01768444321636
        ],
        [
         "Detroit Pistons",
         2012,
         44.013333333333335
        ],
        [
         "New Orleans/Oklahoma City Hornets",
         2006,
         44.01097226455349
        ],
        [
         "New Jersey Nets",
         2009,
         44.00367590748966
        ],
        [
         "Philadelphia 76ers",
         2001,
         44.003634161114476
        ],
        [
         "Atlanta Hawks",
         2002,
         44.002438652644415
        ],
        [
         "New York Knicks",
         2004,
         44.00131839156229
        ],
        [
         "Minnesota Timberwolves",
         2011,
         43.99454049135578
        ],
        [
         "Minnesota Timberwolves",
         2013,
         43.988075521695926
        ],
        [
         "Chicago Bulls",
         2002,
         43.98346375313746
        ],
        [
         "Detroit Pistons",
         2021,
         43.97458116695552
        ],
        [
         "New Jersey Nets",
         2011,
         43.956043956043956
        ],
        [
         "Utah Jazz",
         2004,
         43.95443449959316
        ],
        [
         "Charlotte Hornets",
         2002,
         43.93829838515305
        ],
        [
         "Cleveland Cavaliers",
         1999,
         43.93150914890045
        ],
        [
         "Utah Jazz",
         2015,
         43.927284124745334
        ],
        [
         "Chicago Bulls",
         2007,
         43.927094501455045
        ],
        [
         "Los Angeles Clippers",
         2008,
         43.9249553305539
        ],
        [
         "Charlotte Hornets",
         2017,
         43.92315188639844
        ],
        [
         "New York Knicks",
         2022,
         43.91601315456615
        ],
        [
         "Toronto Raptors",
         2001,
         43.91428571428572
        ],
        [
         "Detroit Pistons",
         2014,
         43.902029860761616
        ],
        [
         "Orlando Magic",
         2022,
         43.896484375
        ],
        [
         "Oklahoma City Thunder",
         2008,
         43.88435878428466
        ],
        [
         "Orlando Magic",
         2001,
         43.875685557586834
        ],
        [
         "Miami Heat",
         2000,
         43.86658235852039
        ],
        [
         "Houston Rockets",
         2005,
         43.86367360314599
        ],
        [
         "Indiana Pacers",
         2006,
         43.862231380629964
        ],
        [
         "Miami Heat",
         2008,
         43.859372536654575
        ],
        [
         "Los Angeles Clippers",
         1998,
         43.84858044164038
        ],
        [
         "Philadelphia 76ers",
         1997,
         43.84847468990949
        ],
        [
         "Golden State Warriors",
         2020,
         43.83973288814691
        ],
        [
         "Milwaukee Bucks",
         2012,
         43.83648597181668
        ],
        [
         "Chicago Bulls",
         2018,
         43.82037901675364
        ],
        [
         "Cleveland Cavaliers",
         2002,
         43.818920487521765
        ],
        [
         "Sacramento Kings",
         2012,
         43.81580616516555
        ],
        [
         "Atlanta Hawks",
         2001,
         43.8138983553119
        ],
        [
         "Charlotte Hornets",
         2019,
         43.81164050562578
        ],
        [
         "Washington Wizards",
         2005,
         43.80227001194743
        ],
        [
         "Los Angeles Clippers",
         1996,
         43.786982248520715
        ],
        [
         "Orlando Magic",
         1999,
         43.78324468085106
        ],
        [
         "Philadelphia 76ers",
         2002,
         43.78296910324039
        ],
        [
         "Chicago Bulls",
         2003,
         43.773359246524144
        ],
        [
         "Brooklyn Nets",
         2012,
         43.76528117359413
        ],
        [
         "Dallas Mavericks",
         1999,
         43.75473126419379
        ],
        [
         "Cleveland Cavaliers",
         2004,
         43.74807039209633
        ],
        [
         "Dallas Mavericks",
         2016,
         43.74375802539592
        ],
        [
         "Charlotte Hornets",
         2020,
         43.74115983026874
        ],
        [
         "Boston Celtics",
         1998,
         43.73496610540127
        ],
        [
         "New York Knicks",
         1999,
         43.70247933884298
        ],
        [
         "Philadelphia 76ers",
         2016,
         43.698754934709996
        ],
        [
         "Indiana Pacers",
         2012,
         43.689320388349515
        ],
        [
         "Minnesota Timberwolves",
         1996,
         43.66554054054054
        ],
        [
         "Toronto Raptors",
         2012,
         43.6504750434899
        ],
        [
         "Indiana Pacers",
         2014,
         43.64585086685743
        ],
        [
         "New Jersey Nets",
         2004,
         43.63636363636363
        ],
        [
         "Los Angeles Lakers",
         2005,
         43.62035517087002
        ],
        [
         "Golden State Warriors",
         2005,
         43.614187578858825
        ],
        [
         "Atlanta Hawks",
         1996,
         43.59261331841074
        ],
        [
         "Toronto Raptors",
         1998,
         43.58503557493688
        ],
        [
         "Houston Rockets",
         2003,
         43.5821822132547
        ],
        [
         "Miami Heat",
         1996,
         43.5799522673031
        ],
        [
         "Charlotte Bobcats",
         2006,
         43.57426762844104
        ],
        [
         "Chicago Bulls",
         2005,
         43.56540084388186
        ],
        [
         "Detroit Pistons",
         2004,
         43.53233830845771
        ],
        [
         "Indiana Pacers",
         2005,
         43.52399737015122
        ],
        [
         "New York Knicks",
         2002,
         43.52040816326531
        ],
        [
         "Seattle SuperSonics",
         2003,
         43.52008099898752
        ],
        [
         "Boston Celtics",
         1997,
         43.49971799210378
        ],
        [
         "Denver Nuggets",
         2015,
         43.49763297131718
        ],
        [
         "Houston Rockets",
         2002,
         43.49568434032059
        ],
        [
         "Memphis Grizzlies",
         2016,
         43.48070965925091
        ],
        [
         "Miami Heat",
         2002,
         43.463653023824065
        ],
        [
         "Boston Celtics",
         2000,
         43.45888441633122
        ],
        [
         "New Jersey Nets",
         2001,
         43.45479082321187
        ],
        [
         "Boston Celtics",
         2015,
         43.44459279038718
        ],
        [
         "Detroit Pistons",
         2015,
         43.43903772553308
        ],
        [
         "Vancouver Grizzlies",
         1999,
         43.43516412089698
        ],
        [
         "Milwaukee Bucks",
         2013,
         43.42045626227527
        ],
        [
         "Minnesota Timberwolves",
         1999,
         43.40734028092433
        ],
        [
         "New Jersey Nets",
         2010,
         43.392775491540924
        ],
        [
         "New Jersey Nets",
         2003,
         43.38028169014084
        ],
        [
         "Los Angeles Clippers",
         2003,
         43.35752603344904
        ],
        [
         "Atlanta Hawks",
         2004,
         43.32247557003257
        ],
        [
         "Phoenix Suns",
         2002,
         43.31737048323901
        ],
        [
         "Cleveland Cavaliers",
         2003,
         43.31171768963957
        ],
        [
         "Minnesota Timberwolves",
         2012,
         43.29243629499798
        ],
        [
         "Utah Jazz",
         2005,
         43.29025051858943
        ],
        [
         "Chicago Bulls",
         2013,
         43.287904599659285
        ],
        [
         "Phoenix Suns",
         2016,
         43.282518877332954
        ],
        [
         "Chicago Bulls",
         2015,
         43.276390713972845
        ],
        [
         "New Orleans/Oklahoma City Hornets",
         2005,
         43.250444049733574
        ],
        [
         "Denver Nuggets",
         1996,
         43.23984930933445
        ],
        [
         "New Orleans Hornets",
         2003,
         43.23952278984399
        ],
        [
         "Toronto Raptors",
         2003,
         43.21849782743637
        ],
        [
         "Denver Nuggets",
         1997,
         43.20074005550416
        ],
        [
         "Charlotte Hornets",
         2001,
         43.193637197919855
        ],
        [
         "Washington Wizards",
         2012,
         43.18181818181818
        ],
        [
         "Golden State Warriors",
         2004,
         43.16765465876273
        ],
        [
         "Vancouver Grizzlies",
         1996,
         43.15266859743483
        ],
        [
         "Golden State Warriors",
         2002,
         43.15048822515796
        ],
        [
         "Oklahoma City Thunder",
         2021,
         43.148880105401844
        ],
        [
         "Dallas Mavericks",
         1998,
         43.14767737462445
        ],
        [
         "Miami Heat",
         2001,
         43.13339888561127
        ],
        [
         "New Orleans Hornets",
         2002,
         43.1314623338257
        ],
        [
         "New York Knicks",
         2019,
         43.12859036676978
        ],
        [
         "Los Angeles Clippers",
         2000,
         43.12620495328488
        ],
        [
         "Cleveland Cavaliers",
         2001,
         43.11224489795919
        ],
        [
         "Indiana Pacers",
         2003,
         43.09318249479011
        ],
        [
         "Atlanta Hawks",
         1999,
         43.06517492452495
        ],
        [
         "Orlando Magic",
         2003,
         43.055141579731746
        ],
        [
         "Charlotte Bobcats",
         2005,
         43.04439746300211
        ],
        [
         "New Jersey Nets",
         2000,
         42.98926014319809
        ],
        [
         "Philadelphia 76ers",
         2004,
         42.97656121947222
        ],
        [
         "Milwaukee Bucks",
         2010,
         42.947772204190024
        ],
        [
         "Boston Celtics",
         2003,
         42.93544457978076
        ],
        [
         "Toronto Raptors",
         2002,
         42.9339707200478
        ],
        [
         "Washington Wizards",
         2004,
         42.889424525459475
        ],
        [
         "Detroit Pistons",
         2001,
         42.88561790861699
        ],
        [
         "New Jersey Nets",
         1997,
         42.872958760033214
        ],
        [
         "Los Angeles Lakers",
         2016,
         42.85911984500415
        ],
        [
         "Denver Nuggets",
         1999,
         42.8254320596163
        ],
        [
         "Washington Wizards",
         2003,
         42.75430359937402
        ],
        [
         "New Jersey Nets",
         2012,
         42.74580335731415
        ],
        [
         "Chicago Bulls",
         2001,
         42.73301737756714
        ],
        [
         "Orlando Magic",
         1998,
         42.72871496562665
        ],
        [
         "Toronto Raptors",
         2000,
         42.70713463751438
        ],
        [
         "Denver Nuggets",
         2001,
         42.6977836489065
        ],
        [
         "Toronto Raptors",
         1999,
         42.68025078369906
        ],
        [
         "Atlanta Hawks",
         2000,
         42.67857142857142
        ],
        [
         "Orlando Magic",
         2021,
         42.66578831796223
        ],
        [
         "Los Angeles Clippers",
         1999,
         42.656325739214736
        ],
        [
         "Detroit Pistons",
         2003,
         42.578365089121085
        ],
        [
         "Dallas Mavericks",
         1997,
         42.524818491628395
        ],
        [
         "Los Angeles Lakers",
         2015,
         42.47022121384005
        ],
        [
         "Charlotte Hornets",
         2015,
         42.455498253202464
        ],
        [
         "Philadelphia 76ers",
         1999,
         42.418689876316996
        ],
        [
         "Charlotte Bobcats",
         2004,
         42.4124513618677
        ],
        [
         "Golden State Warriors",
         2000,
         42.4
        ],
        [
         "Charlotte Hornets",
         2014,
         42.37816764132554
        ],
        [
         "Boston Celtics",
         2001,
         42.361747632141764
        ],
        [
         "Charlotte Bobcats",
         2013,
         42.341729067392784
        ],
        [
         "Boston Celtics",
         2002,
         42.33480176211454
        ],
        [
         "New York Knicks",
         2015,
         42.32662192393736
        ],
        [
         "Denver Nuggets",
         2003,
         42.30712926365101
        ],
        [
         "New Orleans Hornets",
         2005,
         42.304082590333174
        ],
        [
         "Toronto Raptors",
         2004,
         42.300165587836815
        ],
        [
         "Denver Nuggets",
         1998,
         42.18374218374218
        ],
        [
         "Philadelphia 76ers",
         2014,
         42.14876033057851
        ],
        [
         "Toronto Raptors",
         1996,
         42.06418039895924
        ],
        [
         "Cleveland Cavaliers",
         2012,
         41.90001278608874
        ],
        [
         "Chicago Bulls",
         2004,
         41.8445364765849
        ],
        [
         "Memphis Grizzlies",
         2001,
         41.71572750210261
        ],
        [
         "Denver Nuggets",
         2002,
         41.67780252412769
        ],
        [
         "Philadelphia 76ers",
         1996,
         41.6501976284585
        ],
        [
         "Chicago Bulls",
         2000,
         41.62365086813703
        ],
        [
         "Golden State Warriors",
         1999,
         41.54960816205826
        ],
        [
         "Orlando Magic",
         1996,
         41.50569588905399
        ],
        [
         "Charlotte Bobcats",
         2012,
         41.24819509064656
        ],
        [
         "Philadelphia 76ers",
         2015,
         41.20213963963964
        ],
        [
         "Miami Heat",
         2003,
         41.09030504379342
        ],
        [
         "New Orleans Hornets",
         2004,
         41.07349298100743
        ],
        [
         "New Jersey Nets",
         1999,
         40.99462365591398
        ],
        [
         "Golden State Warriors",
         1998,
         40.96213384139081
        ],
        [
         "New Jersey Nets",
         1996,
         40.909090909090914
        ],
        [
         "Golden State Warriors",
         2001,
         40.51274827440485
        ],
        [
         "Chicago Bulls",
         1999,
         40.380985069504035
        ]
       ],
       "datasetInfos": [],
       "dbfsResultPath": null,
       "isJsonSchema": true,
       "metadata": {
        "dataframeName": "_sqldf",
        "executionCount": 138
       },
       "overflow": false,
       "plotOptions": {
        "customPlotOptions": {},
        "displayType": "table",
        "pivotAggregation": null,
        "pivotColumns": null,
        "xColumns": null,
        "yColumns": null
       },
       "removedWidgets": [],
       "schema": [
        {
         "metadata": "{}",
         "name": "Team_Name",
         "type": "\"string\""
        },
        {
         "metadata": "{}",
         "name": "gameYear",
         "type": "\"long\""
        },
        {
         "metadata": "{}",
         "name": "goal_percent",
         "type": "\"double\""
        }
       ],
       "type": "table"
      }
     },
     "output_type": "display_data"
    }
   ],
   "source": [
    "%sql\n",
    "--Q6 What team has the highest field goal percentage for any team in any year? Which has the lowest?\n",
    "Select Team_Name, floor(GAME_DATE/10000) as gameYear, \n",
    "(sum(SHOT_MADE_FLAG)/sum(SHOT_ATTEMPTED_FLAG))*100 as goal_percent\n",
    "FROM shotdata\n",
    "where SHOT_TYPE = \"2PT Field Goal\" OR SHOT_TYPE = \"3PT Field Goal\"\n",
    "group BY TEAM_NAME, gameYear\n",
    "ORDER BY goal_percent DESC"
   ]
  },
  {
   "cell_type": "code",
   "execution_count": 0,
   "metadata": {
    "application/vnd.databricks.v1+cell": {
     "cellMetadata": {
      "byteLimit": 2048000,
      "implicitDf": true,
      "rowLimit": 10000
     },
     "inputWidgets": {},
     "nuid": "056ecf84-8712-4fd6-b175-694c9034aedc",
     "showTitle": false,
     "title": ""
    }
   },
   "outputs": [
    {
     "output_type": "display_data",
     "data": {
      "text/html": [
       "<style scoped>\n",
       "  .table-result-container {\n",
       "    max-height: 300px;\n",
       "    overflow: auto;\n",
       "  }\n",
       "  table, th, td {\n",
       "    border: 1px solid black;\n",
       "    border-collapse: collapse;\n",
       "  }\n",
       "  th, td {\n",
       "    padding: 5px;\n",
       "  }\n",
       "  th {\n",
       "    text-align: left;\n",
       "  }\n",
       "</style><div class='table-result-container'><table class='table-result'><thead style='background-color: white'><tr><th>gameYear</th><th>SHOT_ZONE_AREA</th><th>numShots</th></tr></thead><tbody><tr><td>1996</td><td>Center(C)</td><td>35091</td></tr><tr><td>1997</td><td>Center(C)</td><td>99079</td></tr><tr><td>1998</td><td>Center(C)</td><td>62302</td></tr><tr><td>1999</td><td>Center(C)</td><td>92249</td></tr><tr><td>2000</td><td>Center(C)</td><td>96524</td></tr><tr><td>2001</td><td>Center(C)</td><td>93725</td></tr><tr><td>2002</td><td>Center(C)</td><td>95914</td></tr><tr><td>2003</td><td>Center(C)</td><td>95171</td></tr><tr><td>2004</td><td>Center(C)</td><td>93431</td></tr><tr><td>2005</td><td>Center(C)</td><td>99507</td></tr><tr><td>2006</td><td>Center(C)</td><td>101715</td></tr><tr><td>2007</td><td>Center(C)</td><td>100560</td></tr><tr><td>2008</td><td>Center(C)</td><td>103447</td></tr><tr><td>2009</td><td>Center(C)</td><td>103306</td></tr><tr><td>2010</td><td>Center(C)</td><td>105388</td></tr><tr><td>2011</td><td>Center(C)</td><td>68778</td></tr><tr><td>2012</td><td>Center(C)</td><td>121223</td></tr><tr><td>2013</td><td>Center(C)</td><td>97560</td></tr><tr><td>2014</td><td>Center(C)</td><td>93749</td></tr><tr><td>2015</td><td>Center(C)</td><td>113085</td></tr><tr><td>2016</td><td>Center(C)</td><td>116115</td></tr><tr><td>2017</td><td>Center(C)</td><td>120312</td></tr><tr><td>2018</td><td>Center(C)</td><td>124895</td></tr><tr><td>2019</td><td>Center(C)</td><td>122477</td></tr><tr><td>2020</td><td>Center(C)</td><td>62934</td></tr><tr><td>2021</td><td>Center(C)</td><td>153061</td></tr><tr><td>2022</td><td>Center(C)</td><td>69033</td></tr></tbody></table></div>"
      ]
     },
     "metadata": {
      "application/vnd.databricks.v1+output": {
       "addedWidgets": {},
       "aggData": [],
       "aggError": "",
       "aggOverflow": false,
       "aggSchema": [],
       "aggSeriesLimitReached": false,
       "aggType": "",
       "arguments": {},
       "columnCustomDisplayInfos": {},
       "data": [
        [
         1996,
         "Center(C)",
         35091
        ],
        [
         1997,
         "Center(C)",
         99079
        ],
        [
         1998,
         "Center(C)",
         62302
        ],
        [
         1999,
         "Center(C)",
         92249
        ],
        [
         2000,
         "Center(C)",
         96524
        ],
        [
         2001,
         "Center(C)",
         93725
        ],
        [
         2002,
         "Center(C)",
         95914
        ],
        [
         2003,
         "Center(C)",
         95171
        ],
        [
         2004,
         "Center(C)",
         93431
        ],
        [
         2005,
         "Center(C)",
         99507
        ],
        [
         2006,
         "Center(C)",
         101715
        ],
        [
         2007,
         "Center(C)",
         100560
        ],
        [
         2008,
         "Center(C)",
         103447
        ],
        [
         2009,
         "Center(C)",
         103306
        ],
        [
         2010,
         "Center(C)",
         105388
        ],
        [
         2011,
         "Center(C)",
         68778
        ],
        [
         2012,
         "Center(C)",
         121223
        ],
        [
         2013,
         "Center(C)",
         97560
        ],
        [
         2014,
         "Center(C)",
         93749
        ],
        [
         2015,
         "Center(C)",
         113085
        ],
        [
         2016,
         "Center(C)",
         116115
        ],
        [
         2017,
         "Center(C)",
         120312
        ],
        [
         2018,
         "Center(C)",
         124895
        ],
        [
         2019,
         "Center(C)",
         122477
        ],
        [
         2020,
         "Center(C)",
         62934
        ],
        [
         2021,
         "Center(C)",
         153061
        ],
        [
         2022,
         "Center(C)",
         69033
        ]
       ],
       "datasetInfos": [],
       "dbfsResultPath": null,
       "isJsonSchema": true,
       "metadata": {
        "dataframeName": "_sqldf",
        "executionCount": 143
       },
       "overflow": false,
       "plotOptions": {
        "customPlotOptions": {},
        "displayType": "table",
        "pivotAggregation": null,
        "pivotColumns": null,
        "xColumns": null,
        "yColumns": null
       },
       "removedWidgets": [],
       "schema": [
        {
         "metadata": "{}",
         "name": "gameYear",
         "type": "\"long\""
        },
        {
         "metadata": "{}",
         "name": "SHOT_ZONE_AREA",
         "type": "\"string\""
        },
        {
         "metadata": "{}",
         "name": "numShots",
         "type": "\"long\""
        }
       ],
       "type": "table"
      }
     },
     "output_type": "display_data"
    }
   ],
   "source": [
    "%sql\n",
    "-- Q1 Whether popular “regions” of the court to attempt shots for have shifted over time\n",
    "With popularZones as (\n",
    "  Select SHOT_ZONE_AREA, floor(GAME_DATE/10000) as gameYear, \n",
    "  count(*) as numShots\n",
    "  FROM shotdata\n",
    "  group BY SHOT_ZONE_AREA, gameYear\n",
    "  ORDER BY numShots DESC\n",
    "),\n",
    "maxYearShots as (\n",
    "  Select gameYear, max(numShots) as maxShots\n",
    "  FROM popularZones \n",
    "  GROUP BY gameYear\n",
    ")\n",
    "SELECT popularZones.gameYear, popularZones.SHOT_ZONE_AREA, popularZones.numShots\n",
    "FROM popularZones\n",
    "INNER JOIN maxYearShots on maxYearShots.gameYear = popularZones.gameYear\n",
    "Where popularZones.numShots = maxYearShots.maxShots\n",
    "Order by popularZones.gameYear"
   ]
  },
  {
   "cell_type": "code",
   "execution_count": 0,
   "metadata": {
    "application/vnd.databricks.v1+cell": {
     "cellMetadata": {
      "byteLimit": 2048000,
      "implicitDf": true,
      "rowLimit": 10000
     },
     "inputWidgets": {},
     "nuid": "97ecaf75-6ec1-473f-b9b4-7c6be6d7c7fc",
     "showTitle": false,
     "title": ""
    }
   },
   "outputs": [
    {
     "output_type": "display_data",
     "data": {
      "text/html": [
       "<style scoped>\n",
       "  .table-result-container {\n",
       "    max-height: 300px;\n",
       "    overflow: auto;\n",
       "  }\n",
       "  table, th, td {\n",
       "    border: 1px solid black;\n",
       "    border-collapse: collapse;\n",
       "  }\n",
       "  th, td {\n",
       "    padding: 5px;\n",
       "  }\n",
       "  th {\n",
       "    text-align: left;\n",
       "  }\n",
       "</style><div class='table-result-container'><table class='table-result'><thead style='background-color: white'><tr><th>wasHomeTeam</th><th>gameYear</th><th>goal_percent</th></tr></thead><tbody><tr><td>false</td><td>1996</td><td>44.34347016579484</td></tr><tr><td>true</td><td>1996</td><td>45.34549220413095</td></tr><tr><td>false</td><td>1997</td><td>45.19641743228778</td></tr><tr><td>true</td><td>1997</td><td>45.828971778581575</td></tr><tr><td>false</td><td>1998</td><td>45.03209211468229</td></tr><tr><td>true</td><td>1998</td><td>45.667653412272976</td></tr><tr><td>false</td><td>1999</td><td>43.41785843047711</td></tr><tr><td>true</td><td>1999</td><td>44.523593708344436</td></tr><tr><td>false</td><td>2000</td><td>43.972430795132546</td></tr><tr><td>true</td><td>2000</td><td>45.36239532405978</td></tr><tr><td>false</td><td>2001</td><td>43.74817882064259</td></tr><tr><td>true</td><td>2001</td><td>45.03116867396962</td></tr><tr><td>false</td><td>2002</td><td>43.87848806208899</td></tr><tr><td>true</td><td>2002</td><td>45.16606559168629</td></tr><tr><td>false</td><td>2003</td><td>43.44692787442929</td></tr><tr><td>true</td><td>2003</td><td>44.82656942628832</td></tr><tr><td>false</td><td>2004</td><td>43.41093031672814</td></tr><tr><td>true</td><td>2004</td><td>44.72999739901162</td></tr><tr><td>false</td><td>2005</td><td>44.13807874915218</td></tr><tr><td>true</td><td>2005</td><td>45.475100594337185</td></tr><tr><td>false</td><td>2006</td><td>44.92410102830865</td></tr><tr><td>true</td><td>2006</td><td>46.29352800374178</td></tr><tr><td>false</td><td>2007</td><td>45.16583883059002</td></tr><tr><td>true</td><td>2007</td><td>46.0349897360975</td></tr><tr><td>false</td><td>2008</td><td>45.245919824729256</td></tr><tr><td>true</td><td>2008</td><td>46.17000269275648</td></tr><tr><td>false</td><td>2009</td><td>45.30844451926989</td></tr><tr><td>true</td><td>2009</td><td>46.73717289032637</td></tr><tr><td>false</td><td>2010</td><td>45.502575525546426</td></tr><tr><td>true</td><td>2010</td><td>46.59663104510052</td></tr><tr><td>false</td><td>2011</td><td>45.43402909004524</td></tr><tr><td>true</td><td>2011</td><td>46.44837267045695</td></tr><tr><td>false</td><td>2012</td><td>44.28594677148794</td></tr><tr><td>true</td><td>2012</td><td>45.266539666139295</td></tr><tr><td>false</td><td>2013</td><td>45.11198700157816</td></tr><tr><td>true</td><td>2013</td><td>46.37714026533621</td></tr><tr><td>false</td><td>2014</td><td>45.59915517083677</td></tr><tr><td>true</td><td>2014</td><td>46.395034559381244</td></tr><tr><td>false</td><td>2015</td><td>44.53400062052313</td></tr><tr><td>true</td><td>2015</td><td>45.15210390439944</td></tr><tr><td>false</td><td>2016</td><td>44.91499816070208</td></tr><tr><td>true</td><td>2016</td><td>46.0550064460679</td></tr><tr><td>false</td><td>2017</td><td>45.45935791247313</td></tr><tr><td>true</td><td>2017</td><td>46.58409265886613</td></tr><tr><td>false</td><td>2018</td><td>45.71000687735807</td></tr><tr><td>true</td><td>2018</td><td>46.66431433828163</td></tr><tr><td>false</td><td>2019</td><td>45.36610645360202</td></tr><tr><td>true</td><td>2019</td><td>46.38486347022146</td></tr><tr><td>false</td><td>2020</td><td>46.29864344246866</td></tr><tr><td>true</td><td>2020</td><td>46.71770272046261</td></tr><tr><td>false</td><td>2021</td><td>45.9649051151535</td></tr><tr><td>true</td><td>2021</td><td>46.52650699677072</td></tr><tr><td>false</td><td>2022</td><td>46.61318064545331</td></tr><tr><td>true</td><td>2022</td><td>47.098780827746076</td></tr></tbody></table></div>"
      ]
     },
     "metadata": {
      "application/vnd.databricks.v1+output": {
       "addedWidgets": {},
       "aggData": [],
       "aggError": "",
       "aggOverflow": false,
       "aggSchema": [],
       "aggSeriesLimitReached": false,
       "aggType": "",
       "arguments": {},
       "columnCustomDisplayInfos": {},
       "data": [
        [
         false,
         1996,
         44.34347016579484
        ],
        [
         true,
         1996,
         45.34549220413095
        ],
        [
         false,
         1997,
         45.19641743228778
        ],
        [
         true,
         1997,
         45.828971778581575
        ],
        [
         false,
         1998,
         45.03209211468229
        ],
        [
         true,
         1998,
         45.667653412272976
        ],
        [
         false,
         1999,
         43.41785843047711
        ],
        [
         true,
         1999,
         44.523593708344436
        ],
        [
         false,
         2000,
         43.972430795132546
        ],
        [
         true,
         2000,
         45.36239532405978
        ],
        [
         false,
         2001,
         43.74817882064259
        ],
        [
         true,
         2001,
         45.03116867396962
        ],
        [
         false,
         2002,
         43.87848806208899
        ],
        [
         true,
         2002,
         45.16606559168629
        ],
        [
         false,
         2003,
         43.44692787442929
        ],
        [
         true,
         2003,
         44.82656942628832
        ],
        [
         false,
         2004,
         43.41093031672814
        ],
        [
         true,
         2004,
         44.72999739901162
        ],
        [
         false,
         2005,
         44.13807874915218
        ],
        [
         true,
         2005,
         45.475100594337185
        ],
        [
         false,
         2006,
         44.92410102830865
        ],
        [
         true,
         2006,
         46.29352800374178
        ],
        [
         false,
         2007,
         45.16583883059002
        ],
        [
         true,
         2007,
         46.0349897360975
        ],
        [
         false,
         2008,
         45.245919824729256
        ],
        [
         true,
         2008,
         46.17000269275648
        ],
        [
         false,
         2009,
         45.30844451926989
        ],
        [
         true,
         2009,
         46.73717289032637
        ],
        [
         false,
         2010,
         45.502575525546426
        ],
        [
         true,
         2010,
         46.59663104510052
        ],
        [
         false,
         2011,
         45.43402909004524
        ],
        [
         true,
         2011,
         46.44837267045695
        ],
        [
         false,
         2012,
         44.28594677148794
        ],
        [
         true,
         2012,
         45.266539666139295
        ],
        [
         false,
         2013,
         45.11198700157816
        ],
        [
         true,
         2013,
         46.37714026533621
        ],
        [
         false,
         2014,
         45.59915517083677
        ],
        [
         true,
         2014,
         46.395034559381244
        ],
        [
         false,
         2015,
         44.53400062052313
        ],
        [
         true,
         2015,
         45.15210390439944
        ],
        [
         false,
         2016,
         44.91499816070208
        ],
        [
         true,
         2016,
         46.0550064460679
        ],
        [
         false,
         2017,
         45.45935791247313
        ],
        [
         true,
         2017,
         46.58409265886613
        ],
        [
         false,
         2018,
         45.71000687735807
        ],
        [
         true,
         2018,
         46.66431433828163
        ],
        [
         false,
         2019,
         45.36610645360202
        ],
        [
         true,
         2019,
         46.38486347022146
        ],
        [
         false,
         2020,
         46.29864344246866
        ],
        [
         true,
         2020,
         46.71770272046261
        ],
        [
         false,
         2021,
         45.9649051151535
        ],
        [
         true,
         2021,
         46.52650699677072
        ],
        [
         false,
         2022,
         46.61318064545331
        ],
        [
         true,
         2022,
         47.098780827746076
        ]
       ],
       "datasetInfos": [],
       "dbfsResultPath": null,
       "isJsonSchema": true,
       "metadata": {
        "dataframeName": "_sqldf",
        "executionCount": 159
       },
       "overflow": false,
       "plotOptions": {
        "customPlotOptions": {},
        "displayType": "table",
        "pivotAggregation": null,
        "pivotColumns": null,
        "xColumns": null,
        "yColumns": null
       },
       "removedWidgets": [],
       "schema": [
        {
         "metadata": "{}",
         "name": "wasHomeTeam",
         "type": "\"boolean\""
        },
        {
         "metadata": "{}",
         "name": "gameYear",
         "type": "\"long\""
        },
        {
         "metadata": "{}",
         "name": "goal_percent",
         "type": "\"double\""
        }
       ],
       "type": "table"
      }
     },
     "output_type": "display_data"
    }
   ],
   "source": [
    "%sql\n",
    "\n",
    "--Q2: What is the average field goal percentage for home teams vs away teams? How   has this changed over time?\n",
    "With checkedIfHome as (\n",
    "  Select shotdata.*, \n",
    "  (nbateams.ABBREVIATION = shotdata.HTM) as wasHomeTeam,\n",
    "  SHOT_ZONE_AREA, floor(GAME_DATE/10000) as gameYear from\n",
    "  shotdata\n",
    "  inner join nbateams on nbateams.TEAM_ID = shotdata.TEAM_ID\n",
    "  where SHOT_TYPE = \"2PT Field Goal\" OR SHOT_TYPE = \"3PT Field Goal\"\n",
    ")\n",
    "Select Distinct wasHomeTeam, gameYear,\n",
    "(sum(SHOT_MADE_FLAG)/sum(SHOT_ATTEMPTED_FLAG))*100 as goal_percent\n",
    "from checkedIfHome\n",
    "group by wasHomeTeam, gameYear\n",
    "Order by gameYear, wasHomeTeam\n"
   ]
  }
 ],
 "metadata": {
  "application/vnd.databricks.v1+notebook": {
   "dashboards": [],
   "language": "python",
   "notebookMetadata": {
    "mostRecentlyExecutedCommandWithImplicitDF": {
     "commandId": 2794725551688892,
     "dataframes": [
      "_sqldf"
     ]
    },
    "pythonIndentUnit": 4
   },
   "notebookName": "SparkQueriesNBAData",
   "widgets": {}
  }
 },
 "nbformat": 4,
 "nbformat_minor": 0
}
